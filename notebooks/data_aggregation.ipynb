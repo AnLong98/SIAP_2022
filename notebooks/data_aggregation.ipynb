{
 "cells": [
  {
   "cell_type": "code",
   "execution_count": 136,
   "id": "167111e0",
   "metadata": {
    "pycharm": {
     "name": "#%%\n"
    }
   },
   "outputs": [
    {
     "name": "stdout",
     "output_type": "stream",
     "text": [
      "Requirement already satisfied: pycoingecko in c:\\users\\predrag\\appdata\\local\\programs\\python\\python310\\lib\\site-packages (2.2.0)"
     ]
    },
    {
     "name": "stderr",
     "output_type": "stream",
     "text": [
      "WARNING: You are using pip version 21.2.4; however, version 22.0.3 is available.\n",
      "You should consider upgrading via the 'C:\\Users\\Predrag\\AppData\\Local\\Programs\\Python\\Python310\\python.exe -m pip install --upgrade pip' command.\n"
     ]
    },
    {
     "name": "stdout",
     "output_type": "stream",
     "text": [
      "\n",
      "Requirement already satisfied: requests in c:\\users\\predrag\\appdata\\local\\programs\\python\\python310\\lib\\site-packages (from pycoingecko) (2.27.1)\n",
      "Requirement already satisfied: charset-normalizer~=2.0.0 in c:\\users\\predrag\\appdata\\local\\programs\\python\\python310\\lib\\site-packages (from requests->pycoingecko) (2.0.11)\n",
      "Requirement already satisfied: certifi>=2017.4.17 in c:\\users\\predrag\\appdata\\local\\programs\\python\\python310\\lib\\site-packages (from requests->pycoingecko) (2021.10.8)\n",
      "Requirement already satisfied: idna<4,>=2.5 in c:\\users\\predrag\\appdata\\local\\programs\\python\\python310\\lib\\site-packages (from requests->pycoingecko) (3.3)\n",
      "Requirement already satisfied: urllib3<1.27,>=1.21.1 in c:\\users\\predrag\\appdata\\local\\programs\\python\\python310\\lib\\site-packages (from requests->pycoingecko) (1.26.8)\n",
      "Requirement already satisfied: pandas in c:\\users\\predrag\\appdata\\local\\programs\\python\\python310\\lib\\site-packages (1.4.0)"
     ]
    },
    {
     "name": "stderr",
     "output_type": "stream",
     "text": [
      "WARNING: You are using pip version 21.2.4; however, version 22.0.3 is available.\n",
      "You should consider upgrading via the 'C:\\Users\\Predrag\\AppData\\Local\\Programs\\Python\\Python310\\python.exe -m pip install --upgrade pip' command.\n"
     ]
    },
    {
     "name": "stdout",
     "output_type": "stream",
     "text": [
      "\n",
      "Requirement already satisfied: python-dateutil>=2.8.1 in c:\\users\\predrag\\appdata\\local\\programs\\python\\python310\\lib\\site-packages (from pandas) (2.8.2)\n",
      "Requirement already satisfied: pytz>=2020.1 in c:\\users\\predrag\\appdata\\local\\programs\\python\\python310\\lib\\site-packages (from pandas) (2021.3)\n",
      "Requirement already satisfied: numpy>=1.21.0 in c:\\users\\predrag\\appdata\\local\\programs\\python\\python310\\lib\\site-packages (from pandas) (1.22.2)\n",
      "Requirement already satisfied: six>=1.5 in c:\\users\\predrag\\appdata\\local\\programs\\python\\python310\\lib\\site-packages (from python-dateutil>=2.8.1->pandas) (1.16.0)\n"
     ]
    }
   ],
   "source": [
    "import json\n",
    "\n",
    "import pip\n",
    "import sys\n",
    "!{sys.executable} -m pip install pycoingecko\n",
    "!{sys.executable} -m pip install pandas"
   ]
  },
  {
   "cell_type": "code",
   "execution_count": 137,
   "outputs": [
    {
     "data": {
      "text/plain": "         Date      Open      High       Low     Close  Adj Close   Volume\n0  2017-11-09  0.001207  0.001415  0.001181  0.001415   0.001415  6259550\n1  2017-11-10  0.001421  0.001431  0.001125  0.001163   0.001163  4246520\n2  2017-11-11  0.001146  0.001257  0.001141  0.001201   0.001201  2231080\n3  2017-11-12  0.001189  0.001210  0.001002  0.001038   0.001038  3288960\n4  2017-11-13  0.001046  0.001212  0.001019  0.001211   0.001211  2481270",
      "text/html": "<div>\n<style scoped>\n    .dataframe tbody tr th:only-of-type {\n        vertical-align: middle;\n    }\n\n    .dataframe tbody tr th {\n        vertical-align: top;\n    }\n\n    .dataframe thead th {\n        text-align: right;\n    }\n</style>\n<table border=\"1\" class=\"dataframe\">\n  <thead>\n    <tr style=\"text-align: right;\">\n      <th></th>\n      <th>Date</th>\n      <th>Open</th>\n      <th>High</th>\n      <th>Low</th>\n      <th>Close</th>\n      <th>Adj Close</th>\n      <th>Volume</th>\n    </tr>\n  </thead>\n  <tbody>\n    <tr>\n      <th>0</th>\n      <td>2017-11-09</td>\n      <td>0.001207</td>\n      <td>0.001415</td>\n      <td>0.001181</td>\n      <td>0.001415</td>\n      <td>0.001415</td>\n      <td>6259550</td>\n    </tr>\n    <tr>\n      <th>1</th>\n      <td>2017-11-10</td>\n      <td>0.001421</td>\n      <td>0.001431</td>\n      <td>0.001125</td>\n      <td>0.001163</td>\n      <td>0.001163</td>\n      <td>4246520</td>\n    </tr>\n    <tr>\n      <th>2</th>\n      <td>2017-11-11</td>\n      <td>0.001146</td>\n      <td>0.001257</td>\n      <td>0.001141</td>\n      <td>0.001201</td>\n      <td>0.001201</td>\n      <td>2231080</td>\n    </tr>\n    <tr>\n      <th>3</th>\n      <td>2017-11-12</td>\n      <td>0.001189</td>\n      <td>0.001210</td>\n      <td>0.001002</td>\n      <td>0.001038</td>\n      <td>0.001038</td>\n      <td>3288960</td>\n    </tr>\n    <tr>\n      <th>4</th>\n      <td>2017-11-13</td>\n      <td>0.001046</td>\n      <td>0.001212</td>\n      <td>0.001019</td>\n      <td>0.001211</td>\n      <td>0.001211</td>\n      <td>2481270</td>\n    </tr>\n  </tbody>\n</table>\n</div>"
     },
     "execution_count": 137,
     "metadata": {},
     "output_type": "execute_result"
    }
   ],
   "source": [
    "#Spajam podatke o Doge coinu\n",
    "import pandas as pd\n",
    "data_doge_usd = pd.read_csv(\"../DOGE-USD.csv\")\n",
    "data_doge_stats = pd.read_csv(\"../doge-stats.csv\")\n",
    "data_doge_google = pd.read_csv(\"../doge_google_trend.csv\")\n",
    "data_doge_usd.head()"
   ],
   "metadata": {
    "collapsed": false,
    "pycharm": {
     "name": "#%%\n"
    }
   }
  },
  {
   "cell_type": "code",
   "execution_count": 138,
   "outputs": [
    {
     "data": {
      "text/plain": "         date  dogecoin_unscaled  dogecoin_monthly isPartial  scale  dogecoin\n0  2017-11-01                 23               NaN       NaN    NaN       NaN\n1  2017-11-02                 47               NaN       NaN    NaN       NaN\n2  2017-11-03                 52               NaN       NaN    NaN       NaN\n3  2017-11-04                 52               NaN       NaN    NaN       NaN\n4  2017-11-05                 36               1.0     False   0.01      0.36\n5  2017-11-06                 31               1.0       NaN   0.01      0.31\n6  2017-11-07                 46               1.0       NaN   0.01      0.46\n7  2017-11-08                 33               1.0       NaN   0.01      0.33\n8  2017-11-09                 57               1.0       NaN   0.01      0.57\n9  2017-11-10                 24               1.0       NaN   0.01      0.24",
      "text/html": "<div>\n<style scoped>\n    .dataframe tbody tr th:only-of-type {\n        vertical-align: middle;\n    }\n\n    .dataframe tbody tr th {\n        vertical-align: top;\n    }\n\n    .dataframe thead th {\n        text-align: right;\n    }\n</style>\n<table border=\"1\" class=\"dataframe\">\n  <thead>\n    <tr style=\"text-align: right;\">\n      <th></th>\n      <th>date</th>\n      <th>dogecoin_unscaled</th>\n      <th>dogecoin_monthly</th>\n      <th>isPartial</th>\n      <th>scale</th>\n      <th>dogecoin</th>\n    </tr>\n  </thead>\n  <tbody>\n    <tr>\n      <th>0</th>\n      <td>2017-11-01</td>\n      <td>23</td>\n      <td>NaN</td>\n      <td>NaN</td>\n      <td>NaN</td>\n      <td>NaN</td>\n    </tr>\n    <tr>\n      <th>1</th>\n      <td>2017-11-02</td>\n      <td>47</td>\n      <td>NaN</td>\n      <td>NaN</td>\n      <td>NaN</td>\n      <td>NaN</td>\n    </tr>\n    <tr>\n      <th>2</th>\n      <td>2017-11-03</td>\n      <td>52</td>\n      <td>NaN</td>\n      <td>NaN</td>\n      <td>NaN</td>\n      <td>NaN</td>\n    </tr>\n    <tr>\n      <th>3</th>\n      <td>2017-11-04</td>\n      <td>52</td>\n      <td>NaN</td>\n      <td>NaN</td>\n      <td>NaN</td>\n      <td>NaN</td>\n    </tr>\n    <tr>\n      <th>4</th>\n      <td>2017-11-05</td>\n      <td>36</td>\n      <td>1.0</td>\n      <td>False</td>\n      <td>0.01</td>\n      <td>0.36</td>\n    </tr>\n    <tr>\n      <th>5</th>\n      <td>2017-11-06</td>\n      <td>31</td>\n      <td>1.0</td>\n      <td>NaN</td>\n      <td>0.01</td>\n      <td>0.31</td>\n    </tr>\n    <tr>\n      <th>6</th>\n      <td>2017-11-07</td>\n      <td>46</td>\n      <td>1.0</td>\n      <td>NaN</td>\n      <td>0.01</td>\n      <td>0.46</td>\n    </tr>\n    <tr>\n      <th>7</th>\n      <td>2017-11-08</td>\n      <td>33</td>\n      <td>1.0</td>\n      <td>NaN</td>\n      <td>0.01</td>\n      <td>0.33</td>\n    </tr>\n    <tr>\n      <th>8</th>\n      <td>2017-11-09</td>\n      <td>57</td>\n      <td>1.0</td>\n      <td>NaN</td>\n      <td>0.01</td>\n      <td>0.57</td>\n    </tr>\n    <tr>\n      <th>9</th>\n      <td>2017-11-10</td>\n      <td>24</td>\n      <td>1.0</td>\n      <td>NaN</td>\n      <td>0.01</td>\n      <td>0.24</td>\n    </tr>\n  </tbody>\n</table>\n</div>"
     },
     "execution_count": 138,
     "metadata": {},
     "output_type": "execute_result"
    }
   ],
   "source": [
    "data_doge_google.head(10)"
   ],
   "metadata": {
    "collapsed": false,
    "pycharm": {
     "name": "#%%\n"
    }
   }
  },
  {
   "cell_type": "code",
   "execution_count": 139,
   "outputs": [
    {
     "data": {
      "text/plain": "          date  dogecoin_unscaled  dogecoin_monthly isPartial  scale  dogecoin\n8   2017-11-09                 57               1.0       NaN   0.01      0.57\n9   2017-11-10                 24               1.0       NaN   0.01      0.24\n10  2017-11-11                 23               1.0       NaN   0.01      0.23\n11  2017-11-12                 23               1.0     False   0.01      0.23\n12  2017-11-13                 41               1.0       NaN   0.01      0.41\n13  2017-11-14                 45               1.0       NaN   0.01      0.45\n14  2017-11-15                 46               1.0       NaN   0.01      0.46\n15  2017-11-16                 31               1.0       NaN   0.01      0.31\n16  2017-11-17                 42               1.0       NaN   0.01      0.42\n17  2017-11-18                 29               1.0       NaN   0.01      0.29",
      "text/html": "<div>\n<style scoped>\n    .dataframe tbody tr th:only-of-type {\n        vertical-align: middle;\n    }\n\n    .dataframe tbody tr th {\n        vertical-align: top;\n    }\n\n    .dataframe thead th {\n        text-align: right;\n    }\n</style>\n<table border=\"1\" class=\"dataframe\">\n  <thead>\n    <tr style=\"text-align: right;\">\n      <th></th>\n      <th>date</th>\n      <th>dogecoin_unscaled</th>\n      <th>dogecoin_monthly</th>\n      <th>isPartial</th>\n      <th>scale</th>\n      <th>dogecoin</th>\n    </tr>\n  </thead>\n  <tbody>\n    <tr>\n      <th>8</th>\n      <td>2017-11-09</td>\n      <td>57</td>\n      <td>1.0</td>\n      <td>NaN</td>\n      <td>0.01</td>\n      <td>0.57</td>\n    </tr>\n    <tr>\n      <th>9</th>\n      <td>2017-11-10</td>\n      <td>24</td>\n      <td>1.0</td>\n      <td>NaN</td>\n      <td>0.01</td>\n      <td>0.24</td>\n    </tr>\n    <tr>\n      <th>10</th>\n      <td>2017-11-11</td>\n      <td>23</td>\n      <td>1.0</td>\n      <td>NaN</td>\n      <td>0.01</td>\n      <td>0.23</td>\n    </tr>\n    <tr>\n      <th>11</th>\n      <td>2017-11-12</td>\n      <td>23</td>\n      <td>1.0</td>\n      <td>False</td>\n      <td>0.01</td>\n      <td>0.23</td>\n    </tr>\n    <tr>\n      <th>12</th>\n      <td>2017-11-13</td>\n      <td>41</td>\n      <td>1.0</td>\n      <td>NaN</td>\n      <td>0.01</td>\n      <td>0.41</td>\n    </tr>\n    <tr>\n      <th>13</th>\n      <td>2017-11-14</td>\n      <td>45</td>\n      <td>1.0</td>\n      <td>NaN</td>\n      <td>0.01</td>\n      <td>0.45</td>\n    </tr>\n    <tr>\n      <th>14</th>\n      <td>2017-11-15</td>\n      <td>46</td>\n      <td>1.0</td>\n      <td>NaN</td>\n      <td>0.01</td>\n      <td>0.46</td>\n    </tr>\n    <tr>\n      <th>15</th>\n      <td>2017-11-16</td>\n      <td>31</td>\n      <td>1.0</td>\n      <td>NaN</td>\n      <td>0.01</td>\n      <td>0.31</td>\n    </tr>\n    <tr>\n      <th>16</th>\n      <td>2017-11-17</td>\n      <td>42</td>\n      <td>1.0</td>\n      <td>NaN</td>\n      <td>0.01</td>\n      <td>0.42</td>\n    </tr>\n    <tr>\n      <th>17</th>\n      <td>2017-11-18</td>\n      <td>29</td>\n      <td>1.0</td>\n      <td>NaN</td>\n      <td>0.01</td>\n      <td>0.29</td>\n    </tr>\n  </tbody>\n</table>\n</div>"
     },
     "execution_count": 139,
     "metadata": {},
     "output_type": "execute_result"
    }
   ],
   "source": [
    "#Odbacujem prvih 8 redova jer podaci o cenama krecu od 9.11.2017\n",
    "data_doge_google = data_doge_google.iloc[8:]\n",
    "data_doge_google.head(10)"
   ],
   "metadata": {
    "collapsed": false,
    "pycharm": {
     "name": "#%%\n"
    }
   }
  },
  {
   "cell_type": "code",
   "execution_count": 140,
   "outputs": [
    {
     "data": {
      "text/plain": "            date  dogecoin_unscaled  dogecoin_monthly isPartial  scale  \\\n1552  2022-01-31                 23               4.0       NaN   0.04   \n1553  2022-02-01                 93               4.0       NaN   0.04   \n1554  2022-02-02                 87               4.0       NaN   0.04   \n1555  2022-02-03                 82               4.0       NaN   0.04   \n1556  2022-02-04                100               4.0       NaN   0.04   \n\n      dogecoin  \n1552      0.92  \n1553      3.72  \n1554      3.48  \n1555      3.28  \n1556      4.00  ",
      "text/html": "<div>\n<style scoped>\n    .dataframe tbody tr th:only-of-type {\n        vertical-align: middle;\n    }\n\n    .dataframe tbody tr th {\n        vertical-align: top;\n    }\n\n    .dataframe thead th {\n        text-align: right;\n    }\n</style>\n<table border=\"1\" class=\"dataframe\">\n  <thead>\n    <tr style=\"text-align: right;\">\n      <th></th>\n      <th>date</th>\n      <th>dogecoin_unscaled</th>\n      <th>dogecoin_monthly</th>\n      <th>isPartial</th>\n      <th>scale</th>\n      <th>dogecoin</th>\n    </tr>\n  </thead>\n  <tbody>\n    <tr>\n      <th>1552</th>\n      <td>2022-01-31</td>\n      <td>23</td>\n      <td>4.0</td>\n      <td>NaN</td>\n      <td>0.04</td>\n      <td>0.92</td>\n    </tr>\n    <tr>\n      <th>1553</th>\n      <td>2022-02-01</td>\n      <td>93</td>\n      <td>4.0</td>\n      <td>NaN</td>\n      <td>0.04</td>\n      <td>3.72</td>\n    </tr>\n    <tr>\n      <th>1554</th>\n      <td>2022-02-02</td>\n      <td>87</td>\n      <td>4.0</td>\n      <td>NaN</td>\n      <td>0.04</td>\n      <td>3.48</td>\n    </tr>\n    <tr>\n      <th>1555</th>\n      <td>2022-02-03</td>\n      <td>82</td>\n      <td>4.0</td>\n      <td>NaN</td>\n      <td>0.04</td>\n      <td>3.28</td>\n    </tr>\n    <tr>\n      <th>1556</th>\n      <td>2022-02-04</td>\n      <td>100</td>\n      <td>4.0</td>\n      <td>NaN</td>\n      <td>0.04</td>\n      <td>4.00</td>\n    </tr>\n  </tbody>\n</table>\n</div>"
     },
     "execution_count": 140,
     "metadata": {},
     "output_type": "execute_result"
    }
   ],
   "source": [
    "data_doge_google.tail()"
   ],
   "metadata": {
    "collapsed": false,
    "pycharm": {
     "name": "#%%\n"
    }
   }
  },
  {
   "cell_type": "code",
   "execution_count": 141,
   "outputs": [
    {
     "data": {
      "text/plain": "         Date      Open      High       Low     Close  Adj Close   Volume\n0  09/11/2017  0.001207  0.001415  0.001181  0.001415   0.001415  6259550\n1  10/11/2017  0.001421  0.001431  0.001125  0.001163   0.001163  4246520\n2  11/11/2017  0.001146  0.001257  0.001141  0.001201   0.001201  2231080\n3  12/11/2017  0.001189  0.001210  0.001002  0.001038   0.001038  3288960\n4  13/11/2017  0.001046  0.001212  0.001019  0.001211   0.001211  2481270",
      "text/html": "<div>\n<style scoped>\n    .dataframe tbody tr th:only-of-type {\n        vertical-align: middle;\n    }\n\n    .dataframe tbody tr th {\n        vertical-align: top;\n    }\n\n    .dataframe thead th {\n        text-align: right;\n    }\n</style>\n<table border=\"1\" class=\"dataframe\">\n  <thead>\n    <tr style=\"text-align: right;\">\n      <th></th>\n      <th>Date</th>\n      <th>Open</th>\n      <th>High</th>\n      <th>Low</th>\n      <th>Close</th>\n      <th>Adj Close</th>\n      <th>Volume</th>\n    </tr>\n  </thead>\n  <tbody>\n    <tr>\n      <th>0</th>\n      <td>09/11/2017</td>\n      <td>0.001207</td>\n      <td>0.001415</td>\n      <td>0.001181</td>\n      <td>0.001415</td>\n      <td>0.001415</td>\n      <td>6259550</td>\n    </tr>\n    <tr>\n      <th>1</th>\n      <td>10/11/2017</td>\n      <td>0.001421</td>\n      <td>0.001431</td>\n      <td>0.001125</td>\n      <td>0.001163</td>\n      <td>0.001163</td>\n      <td>4246520</td>\n    </tr>\n    <tr>\n      <th>2</th>\n      <td>11/11/2017</td>\n      <td>0.001146</td>\n      <td>0.001257</td>\n      <td>0.001141</td>\n      <td>0.001201</td>\n      <td>0.001201</td>\n      <td>2231080</td>\n    </tr>\n    <tr>\n      <th>3</th>\n      <td>12/11/2017</td>\n      <td>0.001189</td>\n      <td>0.001210</td>\n      <td>0.001002</td>\n      <td>0.001038</td>\n      <td>0.001038</td>\n      <td>3288960</td>\n    </tr>\n    <tr>\n      <th>4</th>\n      <td>13/11/2017</td>\n      <td>0.001046</td>\n      <td>0.001212</td>\n      <td>0.001019</td>\n      <td>0.001211</td>\n      <td>0.001211</td>\n      <td>2481270</td>\n    </tr>\n  </tbody>\n</table>\n</div>"
     },
     "execution_count": 141,
     "metadata": {},
     "output_type": "execute_result"
    }
   ],
   "source": [
    "#Konvertujem datum u jedinstven format\n",
    "data_doge_usd['Date'] = pd.to_datetime(data_doge_usd['Date'])\n",
    "data_doge_usd['Date'] = data_doge_usd[\"Date\"].dt.strftime('%d/%m/%Y')\n",
    "data_doge_usd.head()"
   ],
   "metadata": {
    "collapsed": false,
    "pycharm": {
     "name": "#%%\n"
    }
   }
  },
  {
   "cell_type": "code",
   "execution_count": 142,
   "outputs": [
    {
     "data": {
      "text/plain": "          date  dogecoin_unscaled  dogecoin_monthly isPartial  scale  dogecoin\n8   09/11/2017                 57               1.0       NaN   0.01      0.57\n9   10/11/2017                 24               1.0       NaN   0.01      0.24\n10  11/11/2017                 23               1.0       NaN   0.01      0.23\n11  12/11/2017                 23               1.0     False   0.01      0.23\n12  13/11/2017                 41               1.0       NaN   0.01      0.41",
      "text/html": "<div>\n<style scoped>\n    .dataframe tbody tr th:only-of-type {\n        vertical-align: middle;\n    }\n\n    .dataframe tbody tr th {\n        vertical-align: top;\n    }\n\n    .dataframe thead th {\n        text-align: right;\n    }\n</style>\n<table border=\"1\" class=\"dataframe\">\n  <thead>\n    <tr style=\"text-align: right;\">\n      <th></th>\n      <th>date</th>\n      <th>dogecoin_unscaled</th>\n      <th>dogecoin_monthly</th>\n      <th>isPartial</th>\n      <th>scale</th>\n      <th>dogecoin</th>\n    </tr>\n  </thead>\n  <tbody>\n    <tr>\n      <th>8</th>\n      <td>09/11/2017</td>\n      <td>57</td>\n      <td>1.0</td>\n      <td>NaN</td>\n      <td>0.01</td>\n      <td>0.57</td>\n    </tr>\n    <tr>\n      <th>9</th>\n      <td>10/11/2017</td>\n      <td>24</td>\n      <td>1.0</td>\n      <td>NaN</td>\n      <td>0.01</td>\n      <td>0.24</td>\n    </tr>\n    <tr>\n      <th>10</th>\n      <td>11/11/2017</td>\n      <td>23</td>\n      <td>1.0</td>\n      <td>NaN</td>\n      <td>0.01</td>\n      <td>0.23</td>\n    </tr>\n    <tr>\n      <th>11</th>\n      <td>12/11/2017</td>\n      <td>23</td>\n      <td>1.0</td>\n      <td>False</td>\n      <td>0.01</td>\n      <td>0.23</td>\n    </tr>\n    <tr>\n      <th>12</th>\n      <td>13/11/2017</td>\n      <td>41</td>\n      <td>1.0</td>\n      <td>NaN</td>\n      <td>0.01</td>\n      <td>0.41</td>\n    </tr>\n  </tbody>\n</table>\n</div>"
     },
     "execution_count": 142,
     "metadata": {},
     "output_type": "execute_result"
    }
   ],
   "source": [
    "#Konvertujem datum u jedinstven format\n",
    "data_doge_google['date'] = pd.to_datetime(data_doge_google['date'], format='%Y-%m-%d')\n",
    "data_doge_google['date'] = data_doge_google[\"date\"].dt.strftime('%d/%m/%Y')\n",
    "data_doge_google.head()"
   ],
   "metadata": {
    "collapsed": false,
    "pycharm": {
     "name": "#%%\n"
    }
   }
  },
  {
   "cell_type": "code",
   "execution_count": 143,
   "outputs": [
    {
     "data": {
      "text/plain": "         date  facebook_likes  twitter_followers  reddit_average_posts_48h  \\\n0  09/11/2017             NaN           165257.0                     0.633   \n1  10/11/2017             NaN           165308.0                     0.833   \n2  11/11/2017             NaN           165363.0                     0.980   \n3  12/11/2017             NaN           165402.0                     1.102   \n4  13/11/2017             NaN                NaN                     1.277   \n\n   reddit_average_comments_48h  reddit_subscribers  \\\n0                        9.490             81680.0   \n1                       11.958             81723.0   \n2                       13.224             81772.0   \n3                       14.469             81831.0   \n4                       15.383             81878.0   \n\n   reddit_accounts_active_48h  forks   stars  subscribers  total_issues  \\\n0                       314.0  612.0  1391.0        225.0         395.0   \n1                       308.0    NaN     NaN          NaN           NaN   \n2                       312.0    NaN     NaN          NaN           NaN   \n3                       327.0    NaN     NaN          NaN           NaN   \n4                       331.0    NaN     NaN          NaN           NaN   \n\n   closed_issues  pull_requests_merged  pull_request_contributors  \\\n0          336.0                 732.0                       67.0   \n1            NaN                 732.0                       67.0   \n2            NaN                 732.0                       67.0   \n3            NaN                 732.0                       67.0   \n4            NaN                 732.0                       67.0   \n\n   commit_count_4_weeks  \n0                   0.0  \n1                   NaN  \n2                   NaN  \n3                   NaN  \n4                   NaN  ",
      "text/html": "<div>\n<style scoped>\n    .dataframe tbody tr th:only-of-type {\n        vertical-align: middle;\n    }\n\n    .dataframe tbody tr th {\n        vertical-align: top;\n    }\n\n    .dataframe thead th {\n        text-align: right;\n    }\n</style>\n<table border=\"1\" class=\"dataframe\">\n  <thead>\n    <tr style=\"text-align: right;\">\n      <th></th>\n      <th>date</th>\n      <th>facebook_likes</th>\n      <th>twitter_followers</th>\n      <th>reddit_average_posts_48h</th>\n      <th>reddit_average_comments_48h</th>\n      <th>reddit_subscribers</th>\n      <th>reddit_accounts_active_48h</th>\n      <th>forks</th>\n      <th>stars</th>\n      <th>subscribers</th>\n      <th>total_issues</th>\n      <th>closed_issues</th>\n      <th>pull_requests_merged</th>\n      <th>pull_request_contributors</th>\n      <th>commit_count_4_weeks</th>\n    </tr>\n  </thead>\n  <tbody>\n    <tr>\n      <th>0</th>\n      <td>09/11/2017</td>\n      <td>NaN</td>\n      <td>165257.0</td>\n      <td>0.633</td>\n      <td>9.490</td>\n      <td>81680.0</td>\n      <td>314.0</td>\n      <td>612.0</td>\n      <td>1391.0</td>\n      <td>225.0</td>\n      <td>395.0</td>\n      <td>336.0</td>\n      <td>732.0</td>\n      <td>67.0</td>\n      <td>0.0</td>\n    </tr>\n    <tr>\n      <th>1</th>\n      <td>10/11/2017</td>\n      <td>NaN</td>\n      <td>165308.0</td>\n      <td>0.833</td>\n      <td>11.958</td>\n      <td>81723.0</td>\n      <td>308.0</td>\n      <td>NaN</td>\n      <td>NaN</td>\n      <td>NaN</td>\n      <td>NaN</td>\n      <td>NaN</td>\n      <td>732.0</td>\n      <td>67.0</td>\n      <td>NaN</td>\n    </tr>\n    <tr>\n      <th>2</th>\n      <td>11/11/2017</td>\n      <td>NaN</td>\n      <td>165363.0</td>\n      <td>0.980</td>\n      <td>13.224</td>\n      <td>81772.0</td>\n      <td>312.0</td>\n      <td>NaN</td>\n      <td>NaN</td>\n      <td>NaN</td>\n      <td>NaN</td>\n      <td>NaN</td>\n      <td>732.0</td>\n      <td>67.0</td>\n      <td>NaN</td>\n    </tr>\n    <tr>\n      <th>3</th>\n      <td>12/11/2017</td>\n      <td>NaN</td>\n      <td>165402.0</td>\n      <td>1.102</td>\n      <td>14.469</td>\n      <td>81831.0</td>\n      <td>327.0</td>\n      <td>NaN</td>\n      <td>NaN</td>\n      <td>NaN</td>\n      <td>NaN</td>\n      <td>NaN</td>\n      <td>732.0</td>\n      <td>67.0</td>\n      <td>NaN</td>\n    </tr>\n    <tr>\n      <th>4</th>\n      <td>13/11/2017</td>\n      <td>NaN</td>\n      <td>NaN</td>\n      <td>1.277</td>\n      <td>15.383</td>\n      <td>81878.0</td>\n      <td>331.0</td>\n      <td>NaN</td>\n      <td>NaN</td>\n      <td>NaN</td>\n      <td>NaN</td>\n      <td>NaN</td>\n      <td>732.0</td>\n      <td>67.0</td>\n      <td>NaN</td>\n    </tr>\n  </tbody>\n</table>\n</div>"
     },
     "execution_count": 143,
     "metadata": {},
     "output_type": "execute_result"
    }
   ],
   "source": [
    "#Konvertujem datum u jedinstven format\n",
    "data_doge_stats['date'] = pd.to_datetime(data_doge_stats['date'],  format='%d-%m-%Y')\n",
    "data_doge_stats['date'] = data_doge_stats[\"date\"].dt.strftime('%d/%m/%Y')\n",
    "data_doge_stats.head()"
   ],
   "metadata": {
    "collapsed": false,
    "pycharm": {
     "name": "#%%\n"
    }
   }
  },
  {
   "cell_type": "code",
   "execution_count": 144,
   "outputs": [
    {
     "data": {
      "text/plain": "         Date      Open      High       Low     Close  Adj Close   Volume  \\\n0  09/11/2017  0.001207  0.001415  0.001181  0.001415   0.001415  6259550   \n1  10/11/2017  0.001421  0.001431  0.001125  0.001163   0.001163  4246520   \n2  11/11/2017  0.001146  0.001257  0.001141  0.001201   0.001201  2231080   \n3  12/11/2017  0.001189  0.001210  0.001002  0.001038   0.001038  3288960   \n4  13/11/2017  0.001046  0.001212  0.001019  0.001211   0.001211  2481270   \n\n         date  facebook_likes  twitter_followers  ...  reddit_subscribers  \\\n0  09/11/2017             NaN           165257.0  ...             81680.0   \n1  10/11/2017             NaN           165308.0  ...             81723.0   \n2  11/11/2017             NaN           165363.0  ...             81772.0   \n3  12/11/2017             NaN           165402.0  ...             81831.0   \n4  13/11/2017             NaN                NaN  ...             81878.0   \n\n   reddit_accounts_active_48h  forks   stars  subscribers  total_issues  \\\n0                       314.0  612.0  1391.0        225.0         395.0   \n1                       308.0    NaN     NaN          NaN           NaN   \n2                       312.0    NaN     NaN          NaN           NaN   \n3                       327.0    NaN     NaN          NaN           NaN   \n4                       331.0    NaN     NaN          NaN           NaN   \n\n   closed_issues  pull_requests_merged  pull_request_contributors  \\\n0          336.0                 732.0                       67.0   \n1            NaN                 732.0                       67.0   \n2            NaN                 732.0                       67.0   \n3            NaN                 732.0                       67.0   \n4            NaN                 732.0                       67.0   \n\n   commit_count_4_weeks  \n0                   0.0  \n1                   NaN  \n2                   NaN  \n3                   NaN  \n4                   NaN  \n\n[5 rows x 22 columns]",
      "text/html": "<div>\n<style scoped>\n    .dataframe tbody tr th:only-of-type {\n        vertical-align: middle;\n    }\n\n    .dataframe tbody tr th {\n        vertical-align: top;\n    }\n\n    .dataframe thead th {\n        text-align: right;\n    }\n</style>\n<table border=\"1\" class=\"dataframe\">\n  <thead>\n    <tr style=\"text-align: right;\">\n      <th></th>\n      <th>Date</th>\n      <th>Open</th>\n      <th>High</th>\n      <th>Low</th>\n      <th>Close</th>\n      <th>Adj Close</th>\n      <th>Volume</th>\n      <th>date</th>\n      <th>facebook_likes</th>\n      <th>twitter_followers</th>\n      <th>...</th>\n      <th>reddit_subscribers</th>\n      <th>reddit_accounts_active_48h</th>\n      <th>forks</th>\n      <th>stars</th>\n      <th>subscribers</th>\n      <th>total_issues</th>\n      <th>closed_issues</th>\n      <th>pull_requests_merged</th>\n      <th>pull_request_contributors</th>\n      <th>commit_count_4_weeks</th>\n    </tr>\n  </thead>\n  <tbody>\n    <tr>\n      <th>0</th>\n      <td>09/11/2017</td>\n      <td>0.001207</td>\n      <td>0.001415</td>\n      <td>0.001181</td>\n      <td>0.001415</td>\n      <td>0.001415</td>\n      <td>6259550</td>\n      <td>09/11/2017</td>\n      <td>NaN</td>\n      <td>165257.0</td>\n      <td>...</td>\n      <td>81680.0</td>\n      <td>314.0</td>\n      <td>612.0</td>\n      <td>1391.0</td>\n      <td>225.0</td>\n      <td>395.0</td>\n      <td>336.0</td>\n      <td>732.0</td>\n      <td>67.0</td>\n      <td>0.0</td>\n    </tr>\n    <tr>\n      <th>1</th>\n      <td>10/11/2017</td>\n      <td>0.001421</td>\n      <td>0.001431</td>\n      <td>0.001125</td>\n      <td>0.001163</td>\n      <td>0.001163</td>\n      <td>4246520</td>\n      <td>10/11/2017</td>\n      <td>NaN</td>\n      <td>165308.0</td>\n      <td>...</td>\n      <td>81723.0</td>\n      <td>308.0</td>\n      <td>NaN</td>\n      <td>NaN</td>\n      <td>NaN</td>\n      <td>NaN</td>\n      <td>NaN</td>\n      <td>732.0</td>\n      <td>67.0</td>\n      <td>NaN</td>\n    </tr>\n    <tr>\n      <th>2</th>\n      <td>11/11/2017</td>\n      <td>0.001146</td>\n      <td>0.001257</td>\n      <td>0.001141</td>\n      <td>0.001201</td>\n      <td>0.001201</td>\n      <td>2231080</td>\n      <td>11/11/2017</td>\n      <td>NaN</td>\n      <td>165363.0</td>\n      <td>...</td>\n      <td>81772.0</td>\n      <td>312.0</td>\n      <td>NaN</td>\n      <td>NaN</td>\n      <td>NaN</td>\n      <td>NaN</td>\n      <td>NaN</td>\n      <td>732.0</td>\n      <td>67.0</td>\n      <td>NaN</td>\n    </tr>\n    <tr>\n      <th>3</th>\n      <td>12/11/2017</td>\n      <td>0.001189</td>\n      <td>0.001210</td>\n      <td>0.001002</td>\n      <td>0.001038</td>\n      <td>0.001038</td>\n      <td>3288960</td>\n      <td>12/11/2017</td>\n      <td>NaN</td>\n      <td>165402.0</td>\n      <td>...</td>\n      <td>81831.0</td>\n      <td>327.0</td>\n      <td>NaN</td>\n      <td>NaN</td>\n      <td>NaN</td>\n      <td>NaN</td>\n      <td>NaN</td>\n      <td>732.0</td>\n      <td>67.0</td>\n      <td>NaN</td>\n    </tr>\n    <tr>\n      <th>4</th>\n      <td>13/11/2017</td>\n      <td>0.001046</td>\n      <td>0.001212</td>\n      <td>0.001019</td>\n      <td>0.001211</td>\n      <td>0.001211</td>\n      <td>2481270</td>\n      <td>13/11/2017</td>\n      <td>NaN</td>\n      <td>NaN</td>\n      <td>...</td>\n      <td>81878.0</td>\n      <td>331.0</td>\n      <td>NaN</td>\n      <td>NaN</td>\n      <td>NaN</td>\n      <td>NaN</td>\n      <td>NaN</td>\n      <td>732.0</td>\n      <td>67.0</td>\n      <td>NaN</td>\n    </tr>\n  </tbody>\n</table>\n<p>5 rows × 22 columns</p>\n</div>"
     },
     "execution_count": 144,
     "metadata": {},
     "output_type": "execute_result"
    }
   ],
   "source": [
    "data_doge_stats.set_index('date')\n",
    "data_doge_google.set_index('date')\n",
    "data_doge_usd.set_index('Date')\n",
    "merged_doge=pd.merge(data_doge_usd,data_doge_stats, how='inner', left_index=True, right_index=True)\n",
    "merged_doge.head()"
   ],
   "metadata": {
    "collapsed": false,
    "pycharm": {
     "name": "#%%\n"
    }
   }
  },
  {
   "cell_type": "code",
   "execution_count": 145,
   "outputs": [
    {
     "data": {
      "text/plain": "         Date      Open      High       Low     Close  Adj Close   Volume  \\\n0  09/11/2017  0.001207  0.001415  0.001181  0.001415   0.001415  6259550   \n1  10/11/2017  0.001421  0.001431  0.001125  0.001163   0.001163  4246520   \n2  11/11/2017  0.001146  0.001257  0.001141  0.001201   0.001201  2231080   \n3  12/11/2017  0.001189  0.001210  0.001002  0.001038   0.001038  3288960   \n4  13/11/2017  0.001046  0.001212  0.001019  0.001211   0.001211  2481270   \n\n       date_x  facebook_likes  twitter_followers  ...  closed_issues  \\\n0  09/11/2017             NaN           165257.0  ...          336.0   \n1  10/11/2017             NaN           165308.0  ...            NaN   \n2  11/11/2017             NaN           165363.0  ...            NaN   \n3  12/11/2017             NaN           165402.0  ...            NaN   \n4  13/11/2017             NaN                NaN  ...            NaN   \n\n   pull_requests_merged  pull_request_contributors  commit_count_4_weeks  \\\n0                 732.0                       67.0                   0.0   \n1                 732.0                       67.0                   NaN   \n2                 732.0                       67.0                   NaN   \n3                 732.0                       67.0                   NaN   \n4                 732.0                       67.0                   NaN   \n\n       date_y  dogecoin_unscaled  dogecoin_monthly  isPartial  scale  dogecoin  \n0  09/11/2017                 57               1.0        NaN   0.01      0.57  \n1  10/11/2017                 24               1.0        NaN   0.01      0.24  \n2  11/11/2017                 23               1.0        NaN   0.01      0.23  \n3  12/11/2017                 23               1.0      False   0.01      0.23  \n4  13/11/2017                 41               1.0        NaN   0.01      0.41  \n\n[5 rows x 28 columns]",
      "text/html": "<div>\n<style scoped>\n    .dataframe tbody tr th:only-of-type {\n        vertical-align: middle;\n    }\n\n    .dataframe tbody tr th {\n        vertical-align: top;\n    }\n\n    .dataframe thead th {\n        text-align: right;\n    }\n</style>\n<table border=\"1\" class=\"dataframe\">\n  <thead>\n    <tr style=\"text-align: right;\">\n      <th></th>\n      <th>Date</th>\n      <th>Open</th>\n      <th>High</th>\n      <th>Low</th>\n      <th>Close</th>\n      <th>Adj Close</th>\n      <th>Volume</th>\n      <th>date_x</th>\n      <th>facebook_likes</th>\n      <th>twitter_followers</th>\n      <th>...</th>\n      <th>closed_issues</th>\n      <th>pull_requests_merged</th>\n      <th>pull_request_contributors</th>\n      <th>commit_count_4_weeks</th>\n      <th>date_y</th>\n      <th>dogecoin_unscaled</th>\n      <th>dogecoin_monthly</th>\n      <th>isPartial</th>\n      <th>scale</th>\n      <th>dogecoin</th>\n    </tr>\n  </thead>\n  <tbody>\n    <tr>\n      <th>0</th>\n      <td>09/11/2017</td>\n      <td>0.001207</td>\n      <td>0.001415</td>\n      <td>0.001181</td>\n      <td>0.001415</td>\n      <td>0.001415</td>\n      <td>6259550</td>\n      <td>09/11/2017</td>\n      <td>NaN</td>\n      <td>165257.0</td>\n      <td>...</td>\n      <td>336.0</td>\n      <td>732.0</td>\n      <td>67.0</td>\n      <td>0.0</td>\n      <td>09/11/2017</td>\n      <td>57</td>\n      <td>1.0</td>\n      <td>NaN</td>\n      <td>0.01</td>\n      <td>0.57</td>\n    </tr>\n    <tr>\n      <th>1</th>\n      <td>10/11/2017</td>\n      <td>0.001421</td>\n      <td>0.001431</td>\n      <td>0.001125</td>\n      <td>0.001163</td>\n      <td>0.001163</td>\n      <td>4246520</td>\n      <td>10/11/2017</td>\n      <td>NaN</td>\n      <td>165308.0</td>\n      <td>...</td>\n      <td>NaN</td>\n      <td>732.0</td>\n      <td>67.0</td>\n      <td>NaN</td>\n      <td>10/11/2017</td>\n      <td>24</td>\n      <td>1.0</td>\n      <td>NaN</td>\n      <td>0.01</td>\n      <td>0.24</td>\n    </tr>\n    <tr>\n      <th>2</th>\n      <td>11/11/2017</td>\n      <td>0.001146</td>\n      <td>0.001257</td>\n      <td>0.001141</td>\n      <td>0.001201</td>\n      <td>0.001201</td>\n      <td>2231080</td>\n      <td>11/11/2017</td>\n      <td>NaN</td>\n      <td>165363.0</td>\n      <td>...</td>\n      <td>NaN</td>\n      <td>732.0</td>\n      <td>67.0</td>\n      <td>NaN</td>\n      <td>11/11/2017</td>\n      <td>23</td>\n      <td>1.0</td>\n      <td>NaN</td>\n      <td>0.01</td>\n      <td>0.23</td>\n    </tr>\n    <tr>\n      <th>3</th>\n      <td>12/11/2017</td>\n      <td>0.001189</td>\n      <td>0.001210</td>\n      <td>0.001002</td>\n      <td>0.001038</td>\n      <td>0.001038</td>\n      <td>3288960</td>\n      <td>12/11/2017</td>\n      <td>NaN</td>\n      <td>165402.0</td>\n      <td>...</td>\n      <td>NaN</td>\n      <td>732.0</td>\n      <td>67.0</td>\n      <td>NaN</td>\n      <td>12/11/2017</td>\n      <td>23</td>\n      <td>1.0</td>\n      <td>False</td>\n      <td>0.01</td>\n      <td>0.23</td>\n    </tr>\n    <tr>\n      <th>4</th>\n      <td>13/11/2017</td>\n      <td>0.001046</td>\n      <td>0.001212</td>\n      <td>0.001019</td>\n      <td>0.001211</td>\n      <td>0.001211</td>\n      <td>2481270</td>\n      <td>13/11/2017</td>\n      <td>NaN</td>\n      <td>NaN</td>\n      <td>...</td>\n      <td>NaN</td>\n      <td>732.0</td>\n      <td>67.0</td>\n      <td>NaN</td>\n      <td>13/11/2017</td>\n      <td>41</td>\n      <td>1.0</td>\n      <td>NaN</td>\n      <td>0.01</td>\n      <td>0.41</td>\n    </tr>\n  </tbody>\n</table>\n<p>5 rows × 28 columns</p>\n</div>"
     },
     "execution_count": 145,
     "metadata": {},
     "output_type": "execute_result"
    }
   ],
   "source": [
    "merged_doge.set_index('Date')\n",
    "merged_doge = pd.merge(merged_doge, data_doge_google, how='inner', left_on='Date', right_on='date')\n",
    "merged_doge.head()"
   ],
   "metadata": {
    "collapsed": false,
    "pycharm": {
     "name": "#%%\n"
    }
   }
  },
  {
   "cell_type": "code",
   "execution_count": 146,
   "outputs": [
    {
     "name": "stdout",
     "output_type": "stream",
     "text": [
      "<class 'pandas.core.frame.DataFrame'>\n",
      "Int64Index: 1549 entries, 0 to 1548\n",
      "Data columns (total 28 columns):\n",
      " #   Column                       Non-Null Count  Dtype  \n",
      "---  ------                       --------------  -----  \n",
      " 0   Date                         1549 non-null   object \n",
      " 1   Open                         1549 non-null   float64\n",
      " 2   High                         1549 non-null   float64\n",
      " 3   Low                          1549 non-null   float64\n",
      " 4   Close                        1549 non-null   float64\n",
      " 5   Adj Close                    1549 non-null   float64\n",
      " 6   Volume                       1549 non-null   int64  \n",
      " 7   date_x                       1549 non-null   object \n",
      " 8   facebook_likes               0 non-null      float64\n",
      " 9   twitter_followers            1510 non-null   float64\n",
      " 10  reddit_average_posts_48h     1549 non-null   float64\n",
      " 11  reddit_average_comments_48h  1549 non-null   float64\n",
      " 12  reddit_subscribers           1539 non-null   float64\n",
      " 13  reddit_accounts_active_48h   1539 non-null   float64\n",
      " 14  forks                        1525 non-null   float64\n",
      " 15  stars                        1525 non-null   float64\n",
      " 16  subscribers                  1525 non-null   float64\n",
      " 17  total_issues                 1525 non-null   float64\n",
      " 18  closed_issues                1525 non-null   float64\n",
      " 19  pull_requests_merged         1533 non-null   float64\n",
      " 20  pull_request_contributors    1533 non-null   float64\n",
      " 21  commit_count_4_weeks         1527 non-null   float64\n",
      " 22  date_y                       1549 non-null   object \n",
      " 23  dogecoin_unscaled            1549 non-null   int64  \n",
      " 24  dogecoin_monthly             1549 non-null   float64\n",
      " 25  isPartial                    221 non-null    object \n",
      " 26  scale                        1549 non-null   float64\n",
      " 27  dogecoin                     1549 non-null   float64\n",
      "dtypes: float64(22), int64(2), object(4)\n",
      "memory usage: 350.9+ KB\n"
     ]
    }
   ],
   "source": [
    "merged_doge.info()"
   ],
   "metadata": {
    "collapsed": false,
    "pycharm": {
     "name": "#%%\n"
    }
   }
  },
  {
   "cell_type": "code",
   "execution_count": 147,
   "outputs": [
    {
     "name": "stdout",
     "output_type": "stream",
     "text": [
      "<class 'pandas.core.frame.DataFrame'>\n",
      "Int64Index: 1549 entries, 0 to 1548\n",
      "Data columns (total 26 columns):\n",
      " #   Column                       Non-Null Count  Dtype  \n",
      "---  ------                       --------------  -----  \n",
      " 0   Date                         1549 non-null   object \n",
      " 1   Open                         1549 non-null   float64\n",
      " 2   High                         1549 non-null   float64\n",
      " 3   Low                          1549 non-null   float64\n",
      " 4   Close                        1549 non-null   float64\n",
      " 5   Adj Close                    1549 non-null   float64\n",
      " 6   Volume                       1549 non-null   int64  \n",
      " 7   facebook_likes               0 non-null      float64\n",
      " 8   twitter_followers            1510 non-null   float64\n",
      " 9   reddit_average_posts_48h     1549 non-null   float64\n",
      " 10  reddit_average_comments_48h  1549 non-null   float64\n",
      " 11  reddit_subscribers           1539 non-null   float64\n",
      " 12  reddit_accounts_active_48h   1539 non-null   float64\n",
      " 13  forks                        1525 non-null   float64\n",
      " 14  stars                        1525 non-null   float64\n",
      " 15  subscribers                  1525 non-null   float64\n",
      " 16  total_issues                 1525 non-null   float64\n",
      " 17  closed_issues                1525 non-null   float64\n",
      " 18  pull_requests_merged         1533 non-null   float64\n",
      " 19  pull_request_contributors    1533 non-null   float64\n",
      " 20  commit_count_4_weeks         1527 non-null   float64\n",
      " 21  dogecoin_unscaled            1549 non-null   int64  \n",
      " 22  dogecoin_monthly             1549 non-null   float64\n",
      " 23  isPartial                    221 non-null    object \n",
      " 24  scale                        1549 non-null   float64\n",
      " 25  dogecoin                     1549 non-null   float64\n",
      "dtypes: float64(22), int64(2), object(2)\n",
      "memory usage: 326.7+ KB\n"
     ]
    }
   ],
   "source": [
    "del merged_doge['date_x']\n",
    "del merged_doge['date_y']\n",
    "\n",
    "merged_doge.info()"
   ],
   "metadata": {
    "collapsed": false,
    "pycharm": {
     "name": "#%%\n"
    }
   }
  },
  {
   "cell_type": "code",
   "execution_count": 148,
   "outputs": [
    {
     "data": {
      "text/plain": "         Date      Open      High       Low     Close  Adj Close   Volume  \\\n0  09/11/2017  0.001207  0.001415  0.001181  0.001415   0.001415  6259550   \n1  10/11/2017  0.001421  0.001431  0.001125  0.001163   0.001163  4246520   \n2  11/11/2017  0.001146  0.001257  0.001141  0.001201   0.001201  2231080   \n3  12/11/2017  0.001189  0.001210  0.001002  0.001038   0.001038  3288960   \n4  13/11/2017  0.001046  0.001212  0.001019  0.001211   0.001211  2481270   \n\n   facebook_likes  twitter_followers  reddit_average_posts_48h  ...  \\\n0             NaN           165257.0                     0.633  ...   \n1             NaN           165308.0                     0.833  ...   \n2             NaN           165363.0                     0.980  ...   \n3             NaN           165402.0                     1.102  ...   \n4             NaN                NaN                     1.277  ...   \n\n   total_issues  closed_issues  pull_requests_merged  \\\n0         395.0          336.0                 732.0   \n1           NaN            NaN                 732.0   \n2           NaN            NaN                 732.0   \n3           NaN            NaN                 732.0   \n4           NaN            NaN                 732.0   \n\n   pull_request_contributors  commit_count_4_weeks  dogecoin_unscaled  \\\n0                       67.0                   0.0                 57   \n1                       67.0                   NaN                 24   \n2                       67.0                   NaN                 23   \n3                       67.0                   NaN                 23   \n4                       67.0                   NaN                 41   \n\n   dogecoin_monthly  isPartial  scale  dogecoin  \n0               1.0        NaN   0.01      0.57  \n1               1.0        NaN   0.01      0.24  \n2               1.0        NaN   0.01      0.23  \n3               1.0      False   0.01      0.23  \n4               1.0        NaN   0.01      0.41  \n\n[5 rows x 26 columns]",
      "text/html": "<div>\n<style scoped>\n    .dataframe tbody tr th:only-of-type {\n        vertical-align: middle;\n    }\n\n    .dataframe tbody tr th {\n        vertical-align: top;\n    }\n\n    .dataframe thead th {\n        text-align: right;\n    }\n</style>\n<table border=\"1\" class=\"dataframe\">\n  <thead>\n    <tr style=\"text-align: right;\">\n      <th></th>\n      <th>Date</th>\n      <th>Open</th>\n      <th>High</th>\n      <th>Low</th>\n      <th>Close</th>\n      <th>Adj Close</th>\n      <th>Volume</th>\n      <th>facebook_likes</th>\n      <th>twitter_followers</th>\n      <th>reddit_average_posts_48h</th>\n      <th>...</th>\n      <th>total_issues</th>\n      <th>closed_issues</th>\n      <th>pull_requests_merged</th>\n      <th>pull_request_contributors</th>\n      <th>commit_count_4_weeks</th>\n      <th>dogecoin_unscaled</th>\n      <th>dogecoin_monthly</th>\n      <th>isPartial</th>\n      <th>scale</th>\n      <th>dogecoin</th>\n    </tr>\n  </thead>\n  <tbody>\n    <tr>\n      <th>0</th>\n      <td>09/11/2017</td>\n      <td>0.001207</td>\n      <td>0.001415</td>\n      <td>0.001181</td>\n      <td>0.001415</td>\n      <td>0.001415</td>\n      <td>6259550</td>\n      <td>NaN</td>\n      <td>165257.0</td>\n      <td>0.633</td>\n      <td>...</td>\n      <td>395.0</td>\n      <td>336.0</td>\n      <td>732.0</td>\n      <td>67.0</td>\n      <td>0.0</td>\n      <td>57</td>\n      <td>1.0</td>\n      <td>NaN</td>\n      <td>0.01</td>\n      <td>0.57</td>\n    </tr>\n    <tr>\n      <th>1</th>\n      <td>10/11/2017</td>\n      <td>0.001421</td>\n      <td>0.001431</td>\n      <td>0.001125</td>\n      <td>0.001163</td>\n      <td>0.001163</td>\n      <td>4246520</td>\n      <td>NaN</td>\n      <td>165308.0</td>\n      <td>0.833</td>\n      <td>...</td>\n      <td>NaN</td>\n      <td>NaN</td>\n      <td>732.0</td>\n      <td>67.0</td>\n      <td>NaN</td>\n      <td>24</td>\n      <td>1.0</td>\n      <td>NaN</td>\n      <td>0.01</td>\n      <td>0.24</td>\n    </tr>\n    <tr>\n      <th>2</th>\n      <td>11/11/2017</td>\n      <td>0.001146</td>\n      <td>0.001257</td>\n      <td>0.001141</td>\n      <td>0.001201</td>\n      <td>0.001201</td>\n      <td>2231080</td>\n      <td>NaN</td>\n      <td>165363.0</td>\n      <td>0.980</td>\n      <td>...</td>\n      <td>NaN</td>\n      <td>NaN</td>\n      <td>732.0</td>\n      <td>67.0</td>\n      <td>NaN</td>\n      <td>23</td>\n      <td>1.0</td>\n      <td>NaN</td>\n      <td>0.01</td>\n      <td>0.23</td>\n    </tr>\n    <tr>\n      <th>3</th>\n      <td>12/11/2017</td>\n      <td>0.001189</td>\n      <td>0.001210</td>\n      <td>0.001002</td>\n      <td>0.001038</td>\n      <td>0.001038</td>\n      <td>3288960</td>\n      <td>NaN</td>\n      <td>165402.0</td>\n      <td>1.102</td>\n      <td>...</td>\n      <td>NaN</td>\n      <td>NaN</td>\n      <td>732.0</td>\n      <td>67.0</td>\n      <td>NaN</td>\n      <td>23</td>\n      <td>1.0</td>\n      <td>False</td>\n      <td>0.01</td>\n      <td>0.23</td>\n    </tr>\n    <tr>\n      <th>4</th>\n      <td>13/11/2017</td>\n      <td>0.001046</td>\n      <td>0.001212</td>\n      <td>0.001019</td>\n      <td>0.001211</td>\n      <td>0.001211</td>\n      <td>2481270</td>\n      <td>NaN</td>\n      <td>NaN</td>\n      <td>1.277</td>\n      <td>...</td>\n      <td>NaN</td>\n      <td>NaN</td>\n      <td>732.0</td>\n      <td>67.0</td>\n      <td>NaN</td>\n      <td>41</td>\n      <td>1.0</td>\n      <td>NaN</td>\n      <td>0.01</td>\n      <td>0.41</td>\n    </tr>\n  </tbody>\n</table>\n<p>5 rows × 26 columns</p>\n</div>"
     },
     "execution_count": 148,
     "metadata": {},
     "output_type": "execute_result"
    }
   ],
   "source": [
    "merged_doge.to_csv(\"../doge_data_4_2_2022.csv\", index=False)\n",
    "merged_doge.head()"
   ],
   "metadata": {
    "collapsed": false,
    "pycharm": {
     "name": "#%%\n"
    }
   }
  },
  {
   "cell_type": "code",
   "execution_count": 149,
   "outputs": [],
   "source": [
    "#Sada spajam podatke o Idena coinu"
   ],
   "metadata": {
    "collapsed": false,
    "pycharm": {
     "name": "#%%\n"
    }
   }
  },
  {
   "cell_type": "code",
   "execution_count": 150,
   "outputs": [
    {
     "data": {
      "text/plain": "         Date      Open      High       Low     Close  Adj Close  Volume\n0  11/08/2020  0.125496  0.137770  0.124239  0.130634   0.130634   40783\n1  12/08/2020  0.130674  0.162275  0.128384  0.138122   0.138122   65517\n2  13/08/2020  0.138128  0.138128  0.118348  0.127606   0.127606   41988\n3  14/08/2020  0.127084  0.201024  0.121670  0.201024   0.201024  104705\n4  15/08/2020  0.201097  0.202423  0.138915  0.162744   0.162744   50419",
      "text/html": "<div>\n<style scoped>\n    .dataframe tbody tr th:only-of-type {\n        vertical-align: middle;\n    }\n\n    .dataframe tbody tr th {\n        vertical-align: top;\n    }\n\n    .dataframe thead th {\n        text-align: right;\n    }\n</style>\n<table border=\"1\" class=\"dataframe\">\n  <thead>\n    <tr style=\"text-align: right;\">\n      <th></th>\n      <th>Date</th>\n      <th>Open</th>\n      <th>High</th>\n      <th>Low</th>\n      <th>Close</th>\n      <th>Adj Close</th>\n      <th>Volume</th>\n    </tr>\n  </thead>\n  <tbody>\n    <tr>\n      <th>0</th>\n      <td>11/08/2020</td>\n      <td>0.125496</td>\n      <td>0.137770</td>\n      <td>0.124239</td>\n      <td>0.130634</td>\n      <td>0.130634</td>\n      <td>40783</td>\n    </tr>\n    <tr>\n      <th>1</th>\n      <td>12/08/2020</td>\n      <td>0.130674</td>\n      <td>0.162275</td>\n      <td>0.128384</td>\n      <td>0.138122</td>\n      <td>0.138122</td>\n      <td>65517</td>\n    </tr>\n    <tr>\n      <th>2</th>\n      <td>13/08/2020</td>\n      <td>0.138128</td>\n      <td>0.138128</td>\n      <td>0.118348</td>\n      <td>0.127606</td>\n      <td>0.127606</td>\n      <td>41988</td>\n    </tr>\n    <tr>\n      <th>3</th>\n      <td>14/08/2020</td>\n      <td>0.127084</td>\n      <td>0.201024</td>\n      <td>0.121670</td>\n      <td>0.201024</td>\n      <td>0.201024</td>\n      <td>104705</td>\n    </tr>\n    <tr>\n      <th>4</th>\n      <td>15/08/2020</td>\n      <td>0.201097</td>\n      <td>0.202423</td>\n      <td>0.138915</td>\n      <td>0.162744</td>\n      <td>0.162744</td>\n      <td>50419</td>\n    </tr>\n  </tbody>\n</table>\n</div>"
     },
     "execution_count": 150,
     "metadata": {},
     "output_type": "execute_result"
    }
   ],
   "source": [
    "data_idn_usd = pd.read_csv(\"../IDNA-USD.csv\")\n",
    "#Konvertujem datum u jedinstven format\n",
    "data_idn_usd['Date'] = pd.to_datetime(data_idn_usd ['Date'], format='%Y-%m-%d')\n",
    "data_idn_usd['Date'] = data_idn_usd[\"Date\"].dt.strftime('%d/%m/%Y')\n",
    "data_idn_usd.head()"
   ],
   "metadata": {
    "collapsed": false,
    "pycharm": {
     "name": "#%%\n"
    }
   }
  },
  {
   "cell_type": "code",
   "execution_count": 151,
   "outputs": [
    {
     "data": {
      "text/plain": "         date  facebook_likes  twitter_followers  reddit_average_posts_48h  \\\n0  11/08/2020             NaN             1817.0                     0.273   \n1  12/08/2020             NaN             1829.0                     0.182   \n2  13/08/2020             NaN             2149.0                     0.083   \n3  14/08/2020             NaN                NaN                     0.000   \n4  15/08/2020             NaN             2267.0                     0.100   \n\n   reddit_average_comments_48h  reddit_subscribers  \\\n0                        0.000                 298   \n1                        0.091                 300   \n2                        0.167                 302   \n3                        0.000                 304   \n4                        0.000                 307   \n\n   reddit_accounts_active_48h  forks  stars  subscribers  total_issues  \\\n0                    6.666667   25.0   62.0         13.0          52.0   \n1                    6.750000   25.0   62.0         13.0          52.0   \n2                    6.615385   25.0   62.0         13.0          53.0   \n3                    7.083333   25.0   62.0         13.0          54.0   \n4                    5.636364   25.0   61.0         13.0          54.0   \n\n   closed_issues  pull_requests_merged  pull_request_contributors  \\\n0           36.0                 432.0                       11.0   \n1           36.0                 432.0                       11.0   \n2           36.0                 432.0                       11.0   \n3           36.0                 438.0                       11.0   \n4           36.0                 438.0                       11.0   \n\n   commit_count_4_weeks  \n0                  17.0  \n1                  17.0  \n2                   9.0  \n3                  15.0  \n4                  15.0  ",
      "text/html": "<div>\n<style scoped>\n    .dataframe tbody tr th:only-of-type {\n        vertical-align: middle;\n    }\n\n    .dataframe tbody tr th {\n        vertical-align: top;\n    }\n\n    .dataframe thead th {\n        text-align: right;\n    }\n</style>\n<table border=\"1\" class=\"dataframe\">\n  <thead>\n    <tr style=\"text-align: right;\">\n      <th></th>\n      <th>date</th>\n      <th>facebook_likes</th>\n      <th>twitter_followers</th>\n      <th>reddit_average_posts_48h</th>\n      <th>reddit_average_comments_48h</th>\n      <th>reddit_subscribers</th>\n      <th>reddit_accounts_active_48h</th>\n      <th>forks</th>\n      <th>stars</th>\n      <th>subscribers</th>\n      <th>total_issues</th>\n      <th>closed_issues</th>\n      <th>pull_requests_merged</th>\n      <th>pull_request_contributors</th>\n      <th>commit_count_4_weeks</th>\n    </tr>\n  </thead>\n  <tbody>\n    <tr>\n      <th>0</th>\n      <td>11/08/2020</td>\n      <td>NaN</td>\n      <td>1817.0</td>\n      <td>0.273</td>\n      <td>0.000</td>\n      <td>298</td>\n      <td>6.666667</td>\n      <td>25.0</td>\n      <td>62.0</td>\n      <td>13.0</td>\n      <td>52.0</td>\n      <td>36.0</td>\n      <td>432.0</td>\n      <td>11.0</td>\n      <td>17.0</td>\n    </tr>\n    <tr>\n      <th>1</th>\n      <td>12/08/2020</td>\n      <td>NaN</td>\n      <td>1829.0</td>\n      <td>0.182</td>\n      <td>0.091</td>\n      <td>300</td>\n      <td>6.750000</td>\n      <td>25.0</td>\n      <td>62.0</td>\n      <td>13.0</td>\n      <td>52.0</td>\n      <td>36.0</td>\n      <td>432.0</td>\n      <td>11.0</td>\n      <td>17.0</td>\n    </tr>\n    <tr>\n      <th>2</th>\n      <td>13/08/2020</td>\n      <td>NaN</td>\n      <td>2149.0</td>\n      <td>0.083</td>\n      <td>0.167</td>\n      <td>302</td>\n      <td>6.615385</td>\n      <td>25.0</td>\n      <td>62.0</td>\n      <td>13.0</td>\n      <td>53.0</td>\n      <td>36.0</td>\n      <td>432.0</td>\n      <td>11.0</td>\n      <td>9.0</td>\n    </tr>\n    <tr>\n      <th>3</th>\n      <td>14/08/2020</td>\n      <td>NaN</td>\n      <td>NaN</td>\n      <td>0.000</td>\n      <td>0.000</td>\n      <td>304</td>\n      <td>7.083333</td>\n      <td>25.0</td>\n      <td>62.0</td>\n      <td>13.0</td>\n      <td>54.0</td>\n      <td>36.0</td>\n      <td>438.0</td>\n      <td>11.0</td>\n      <td>15.0</td>\n    </tr>\n    <tr>\n      <th>4</th>\n      <td>15/08/2020</td>\n      <td>NaN</td>\n      <td>2267.0</td>\n      <td>0.100</td>\n      <td>0.000</td>\n      <td>307</td>\n      <td>5.636364</td>\n      <td>25.0</td>\n      <td>61.0</td>\n      <td>13.0</td>\n      <td>54.0</td>\n      <td>36.0</td>\n      <td>438.0</td>\n      <td>11.0</td>\n      <td>15.0</td>\n    </tr>\n  </tbody>\n</table>\n</div>"
     },
     "execution_count": 151,
     "metadata": {},
     "output_type": "execute_result"
    }
   ],
   "source": [
    "data_idn_stats = pd.read_csv(\"../idena-stats.csv\")\n",
    "#Konvertujem datum u jedinstven format\n",
    "data_idn_stats['date'] = pd.to_datetime(data_idn_stats['date'], format='%d-%m-%Y')\n",
    "data_idn_stats['date'] = data_idn_stats[\"date\"].dt.strftime('%d/%m/%Y')\n",
    "data_idn_stats.head()\n"
   ],
   "metadata": {
    "collapsed": false,
    "pycharm": {
     "name": "#%%\n"
    }
   }
  },
  {
   "cell_type": "code",
   "execution_count": 152,
   "outputs": [
    {
     "data": {
      "text/plain": "         date  idena_unscaled  idena_monthly isPartial  scale  idena\n0  01/08/2020              39            NaN       NaN    NaN    NaN\n1  02/08/2020              39           32.0     False   0.32  12.48\n2  03/08/2020              34           32.0       NaN   0.32  10.88\n3  04/08/2020               0           32.0       NaN   0.32   0.00\n4  05/08/2020               0           32.0       NaN   0.32   0.00",
      "text/html": "<div>\n<style scoped>\n    .dataframe tbody tr th:only-of-type {\n        vertical-align: middle;\n    }\n\n    .dataframe tbody tr th {\n        vertical-align: top;\n    }\n\n    .dataframe thead th {\n        text-align: right;\n    }\n</style>\n<table border=\"1\" class=\"dataframe\">\n  <thead>\n    <tr style=\"text-align: right;\">\n      <th></th>\n      <th>date</th>\n      <th>idena_unscaled</th>\n      <th>idena_monthly</th>\n      <th>isPartial</th>\n      <th>scale</th>\n      <th>idena</th>\n    </tr>\n  </thead>\n  <tbody>\n    <tr>\n      <th>0</th>\n      <td>01/08/2020</td>\n      <td>39</td>\n      <td>NaN</td>\n      <td>NaN</td>\n      <td>NaN</td>\n      <td>NaN</td>\n    </tr>\n    <tr>\n      <th>1</th>\n      <td>02/08/2020</td>\n      <td>39</td>\n      <td>32.0</td>\n      <td>False</td>\n      <td>0.32</td>\n      <td>12.48</td>\n    </tr>\n    <tr>\n      <th>2</th>\n      <td>03/08/2020</td>\n      <td>34</td>\n      <td>32.0</td>\n      <td>NaN</td>\n      <td>0.32</td>\n      <td>10.88</td>\n    </tr>\n    <tr>\n      <th>3</th>\n      <td>04/08/2020</td>\n      <td>0</td>\n      <td>32.0</td>\n      <td>NaN</td>\n      <td>0.32</td>\n      <td>0.00</td>\n    </tr>\n    <tr>\n      <th>4</th>\n      <td>05/08/2020</td>\n      <td>0</td>\n      <td>32.0</td>\n      <td>NaN</td>\n      <td>0.32</td>\n      <td>0.00</td>\n    </tr>\n  </tbody>\n</table>\n</div>"
     },
     "execution_count": 152,
     "metadata": {},
     "output_type": "execute_result"
    }
   ],
   "source": [
    "data_idn_google = pd.read_csv(\"../idena_google_trend.csv\")\n",
    "#Konvertujem datum u jedinstven format\n",
    "data_idn_google['date'] = pd.to_datetime(data_idn_google['date'], format='%Y-%m-%d')\n",
    "data_idn_google['date'] = data_idn_google[\"date\"].dt.strftime('%d/%m/%Y')\n",
    "data_idn_google.head()\n"
   ],
   "metadata": {
    "collapsed": false,
    "pycharm": {
     "name": "#%%\n"
    }
   }
  },
  {
   "cell_type": "code",
   "execution_count": 153,
   "outputs": [
    {
     "data": {
      "text/plain": "         Date      Open      High       Low     Close  Adj Close  Volume  \\\n0  11/08/2020  0.125496  0.137770  0.124239  0.130634   0.130634   40783   \n1  12/08/2020  0.130674  0.162275  0.128384  0.138122   0.138122   65517   \n2  13/08/2020  0.138128  0.138128  0.118348  0.127606   0.127606   41988   \n3  14/08/2020  0.127084  0.201024  0.121670  0.201024   0.201024  104705   \n4  15/08/2020  0.201097  0.202423  0.138915  0.162744   0.162744   50419   \n\n         date  facebook_likes  twitter_followers  ...  reddit_subscribers  \\\n0  11/08/2020             NaN             1817.0  ...                 298   \n1  12/08/2020             NaN             1829.0  ...                 300   \n2  13/08/2020             NaN             2149.0  ...                 302   \n3  14/08/2020             NaN                NaN  ...                 304   \n4  15/08/2020             NaN             2267.0  ...                 307   \n\n   reddit_accounts_active_48h  forks  stars  subscribers  total_issues  \\\n0                    6.666667   25.0   62.0         13.0          52.0   \n1                    6.750000   25.0   62.0         13.0          52.0   \n2                    6.615385   25.0   62.0         13.0          53.0   \n3                    7.083333   25.0   62.0         13.0          54.0   \n4                    5.636364   25.0   61.0         13.0          54.0   \n\n   closed_issues  pull_requests_merged  pull_request_contributors  \\\n0           36.0                 432.0                       11.0   \n1           36.0                 432.0                       11.0   \n2           36.0                 432.0                       11.0   \n3           36.0                 438.0                       11.0   \n4           36.0                 438.0                       11.0   \n\n   commit_count_4_weeks  \n0                  17.0  \n1                  17.0  \n2                   9.0  \n3                  15.0  \n4                  15.0  \n\n[5 rows x 22 columns]",
      "text/html": "<div>\n<style scoped>\n    .dataframe tbody tr th:only-of-type {\n        vertical-align: middle;\n    }\n\n    .dataframe tbody tr th {\n        vertical-align: top;\n    }\n\n    .dataframe thead th {\n        text-align: right;\n    }\n</style>\n<table border=\"1\" class=\"dataframe\">\n  <thead>\n    <tr style=\"text-align: right;\">\n      <th></th>\n      <th>Date</th>\n      <th>Open</th>\n      <th>High</th>\n      <th>Low</th>\n      <th>Close</th>\n      <th>Adj Close</th>\n      <th>Volume</th>\n      <th>date</th>\n      <th>facebook_likes</th>\n      <th>twitter_followers</th>\n      <th>...</th>\n      <th>reddit_subscribers</th>\n      <th>reddit_accounts_active_48h</th>\n      <th>forks</th>\n      <th>stars</th>\n      <th>subscribers</th>\n      <th>total_issues</th>\n      <th>closed_issues</th>\n      <th>pull_requests_merged</th>\n      <th>pull_request_contributors</th>\n      <th>commit_count_4_weeks</th>\n    </tr>\n  </thead>\n  <tbody>\n    <tr>\n      <th>0</th>\n      <td>11/08/2020</td>\n      <td>0.125496</td>\n      <td>0.137770</td>\n      <td>0.124239</td>\n      <td>0.130634</td>\n      <td>0.130634</td>\n      <td>40783</td>\n      <td>11/08/2020</td>\n      <td>NaN</td>\n      <td>1817.0</td>\n      <td>...</td>\n      <td>298</td>\n      <td>6.666667</td>\n      <td>25.0</td>\n      <td>62.0</td>\n      <td>13.0</td>\n      <td>52.0</td>\n      <td>36.0</td>\n      <td>432.0</td>\n      <td>11.0</td>\n      <td>17.0</td>\n    </tr>\n    <tr>\n      <th>1</th>\n      <td>12/08/2020</td>\n      <td>0.130674</td>\n      <td>0.162275</td>\n      <td>0.128384</td>\n      <td>0.138122</td>\n      <td>0.138122</td>\n      <td>65517</td>\n      <td>12/08/2020</td>\n      <td>NaN</td>\n      <td>1829.0</td>\n      <td>...</td>\n      <td>300</td>\n      <td>6.750000</td>\n      <td>25.0</td>\n      <td>62.0</td>\n      <td>13.0</td>\n      <td>52.0</td>\n      <td>36.0</td>\n      <td>432.0</td>\n      <td>11.0</td>\n      <td>17.0</td>\n    </tr>\n    <tr>\n      <th>2</th>\n      <td>13/08/2020</td>\n      <td>0.138128</td>\n      <td>0.138128</td>\n      <td>0.118348</td>\n      <td>0.127606</td>\n      <td>0.127606</td>\n      <td>41988</td>\n      <td>13/08/2020</td>\n      <td>NaN</td>\n      <td>2149.0</td>\n      <td>...</td>\n      <td>302</td>\n      <td>6.615385</td>\n      <td>25.0</td>\n      <td>62.0</td>\n      <td>13.0</td>\n      <td>53.0</td>\n      <td>36.0</td>\n      <td>432.0</td>\n      <td>11.0</td>\n      <td>9.0</td>\n    </tr>\n    <tr>\n      <th>3</th>\n      <td>14/08/2020</td>\n      <td>0.127084</td>\n      <td>0.201024</td>\n      <td>0.121670</td>\n      <td>0.201024</td>\n      <td>0.201024</td>\n      <td>104705</td>\n      <td>14/08/2020</td>\n      <td>NaN</td>\n      <td>NaN</td>\n      <td>...</td>\n      <td>304</td>\n      <td>7.083333</td>\n      <td>25.0</td>\n      <td>62.0</td>\n      <td>13.0</td>\n      <td>54.0</td>\n      <td>36.0</td>\n      <td>438.0</td>\n      <td>11.0</td>\n      <td>15.0</td>\n    </tr>\n    <tr>\n      <th>4</th>\n      <td>15/08/2020</td>\n      <td>0.201097</td>\n      <td>0.202423</td>\n      <td>0.138915</td>\n      <td>0.162744</td>\n      <td>0.162744</td>\n      <td>50419</td>\n      <td>15/08/2020</td>\n      <td>NaN</td>\n      <td>2267.0</td>\n      <td>...</td>\n      <td>307</td>\n      <td>5.636364</td>\n      <td>25.0</td>\n      <td>61.0</td>\n      <td>13.0</td>\n      <td>54.0</td>\n      <td>36.0</td>\n      <td>438.0</td>\n      <td>11.0</td>\n      <td>15.0</td>\n    </tr>\n  </tbody>\n</table>\n<p>5 rows × 22 columns</p>\n</div>"
     },
     "execution_count": 153,
     "metadata": {},
     "output_type": "execute_result"
    }
   ],
   "source": [
    "data_idn_stats.set_index('date')\n",
    "data_idn_google.set_index('date')\n",
    "data_idn_usd.set_index('Date')\n",
    "merged_idena=pd.merge(data_idn_usd,data_idn_stats, how='inner', left_index=True, right_index=True)\n",
    "merged_idena.head()"
   ],
   "metadata": {
    "collapsed": false,
    "pycharm": {
     "name": "#%%\n"
    }
   }
  },
  {
   "cell_type": "code",
   "execution_count": 154,
   "outputs": [
    {
     "data": {
      "text/plain": "           Date      Open      High       Low     Close  Adj Close  Volume  \\\n538  31/01/2022  0.083146  0.083205  0.078528  0.081419   0.081419  157240   \n539  01/02/2022  0.081419  0.085588  0.081330  0.084601   0.084601  149344   \n540  02/02/2022  0.084601  0.087298  0.081559  0.082081   0.082081  130836   \n541  03/02/2022  0.082081  0.089960  0.082081  0.088527   0.088527  141869   \n542  04/02/2022  0.088531  0.090840  0.084359  0.084359   0.084359  156317   \n\n           date  facebook_likes  twitter_followers  ...  reddit_subscribers  \\\n538  31/01/2022             NaN                NaN  ...                 925   \n539  01/02/2022             NaN             9593.0  ...                 926   \n540  02/02/2022             NaN                NaN  ...                 926   \n541  03/02/2022             NaN             9549.0  ...                 925   \n542  04/02/2022             NaN                NaN  ...                 925   \n\n     reddit_accounts_active_48h  forks  stars  subscribers  total_issues  \\\n538                   10.083333    NaN    NaN          NaN           NaN   \n539                   10.153846    NaN    NaN          NaN           NaN   \n540                    8.727273    NaN    NaN          NaN           NaN   \n541                    8.818182    NaN    NaN          NaN           NaN   \n542                    8.230769    NaN    NaN          NaN           NaN   \n\n     closed_issues  pull_requests_merged  pull_request_contributors  \\\n538            NaN                   NaN                        NaN   \n539            NaN                   NaN                        NaN   \n540            NaN                   NaN                        NaN   \n541            NaN                   NaN                        NaN   \n542            NaN                   NaN                        NaN   \n\n     commit_count_4_weeks  \n538                   NaN  \n539                   NaN  \n540                   NaN  \n541                   NaN  \n542                   NaN  \n\n[5 rows x 22 columns]",
      "text/html": "<div>\n<style scoped>\n    .dataframe tbody tr th:only-of-type {\n        vertical-align: middle;\n    }\n\n    .dataframe tbody tr th {\n        vertical-align: top;\n    }\n\n    .dataframe thead th {\n        text-align: right;\n    }\n</style>\n<table border=\"1\" class=\"dataframe\">\n  <thead>\n    <tr style=\"text-align: right;\">\n      <th></th>\n      <th>Date</th>\n      <th>Open</th>\n      <th>High</th>\n      <th>Low</th>\n      <th>Close</th>\n      <th>Adj Close</th>\n      <th>Volume</th>\n      <th>date</th>\n      <th>facebook_likes</th>\n      <th>twitter_followers</th>\n      <th>...</th>\n      <th>reddit_subscribers</th>\n      <th>reddit_accounts_active_48h</th>\n      <th>forks</th>\n      <th>stars</th>\n      <th>subscribers</th>\n      <th>total_issues</th>\n      <th>closed_issues</th>\n      <th>pull_requests_merged</th>\n      <th>pull_request_contributors</th>\n      <th>commit_count_4_weeks</th>\n    </tr>\n  </thead>\n  <tbody>\n    <tr>\n      <th>538</th>\n      <td>31/01/2022</td>\n      <td>0.083146</td>\n      <td>0.083205</td>\n      <td>0.078528</td>\n      <td>0.081419</td>\n      <td>0.081419</td>\n      <td>157240</td>\n      <td>31/01/2022</td>\n      <td>NaN</td>\n      <td>NaN</td>\n      <td>...</td>\n      <td>925</td>\n      <td>10.083333</td>\n      <td>NaN</td>\n      <td>NaN</td>\n      <td>NaN</td>\n      <td>NaN</td>\n      <td>NaN</td>\n      <td>NaN</td>\n      <td>NaN</td>\n      <td>NaN</td>\n    </tr>\n    <tr>\n      <th>539</th>\n      <td>01/02/2022</td>\n      <td>0.081419</td>\n      <td>0.085588</td>\n      <td>0.081330</td>\n      <td>0.084601</td>\n      <td>0.084601</td>\n      <td>149344</td>\n      <td>01/02/2022</td>\n      <td>NaN</td>\n      <td>9593.0</td>\n      <td>...</td>\n      <td>926</td>\n      <td>10.153846</td>\n      <td>NaN</td>\n      <td>NaN</td>\n      <td>NaN</td>\n      <td>NaN</td>\n      <td>NaN</td>\n      <td>NaN</td>\n      <td>NaN</td>\n      <td>NaN</td>\n    </tr>\n    <tr>\n      <th>540</th>\n      <td>02/02/2022</td>\n      <td>0.084601</td>\n      <td>0.087298</td>\n      <td>0.081559</td>\n      <td>0.082081</td>\n      <td>0.082081</td>\n      <td>130836</td>\n      <td>02/02/2022</td>\n      <td>NaN</td>\n      <td>NaN</td>\n      <td>...</td>\n      <td>926</td>\n      <td>8.727273</td>\n      <td>NaN</td>\n      <td>NaN</td>\n      <td>NaN</td>\n      <td>NaN</td>\n      <td>NaN</td>\n      <td>NaN</td>\n      <td>NaN</td>\n      <td>NaN</td>\n    </tr>\n    <tr>\n      <th>541</th>\n      <td>03/02/2022</td>\n      <td>0.082081</td>\n      <td>0.089960</td>\n      <td>0.082081</td>\n      <td>0.088527</td>\n      <td>0.088527</td>\n      <td>141869</td>\n      <td>03/02/2022</td>\n      <td>NaN</td>\n      <td>9549.0</td>\n      <td>...</td>\n      <td>925</td>\n      <td>8.818182</td>\n      <td>NaN</td>\n      <td>NaN</td>\n      <td>NaN</td>\n      <td>NaN</td>\n      <td>NaN</td>\n      <td>NaN</td>\n      <td>NaN</td>\n      <td>NaN</td>\n    </tr>\n    <tr>\n      <th>542</th>\n      <td>04/02/2022</td>\n      <td>0.088531</td>\n      <td>0.090840</td>\n      <td>0.084359</td>\n      <td>0.084359</td>\n      <td>0.084359</td>\n      <td>156317</td>\n      <td>04/02/2022</td>\n      <td>NaN</td>\n      <td>NaN</td>\n      <td>...</td>\n      <td>925</td>\n      <td>8.230769</td>\n      <td>NaN</td>\n      <td>NaN</td>\n      <td>NaN</td>\n      <td>NaN</td>\n      <td>NaN</td>\n      <td>NaN</td>\n      <td>NaN</td>\n      <td>NaN</td>\n    </tr>\n  </tbody>\n</table>\n<p>5 rows × 22 columns</p>\n</div>"
     },
     "execution_count": 154,
     "metadata": {},
     "output_type": "execute_result"
    }
   ],
   "source": [
    "merged_idena.tail()"
   ],
   "metadata": {
    "collapsed": false,
    "pycharm": {
     "name": "#%%\n"
    }
   }
  },
  {
   "cell_type": "code",
   "execution_count": 155,
   "outputs": [
    {
     "data": {
      "text/plain": "         Date      Open      High       Low     Close  Adj Close  Volume  \\\n0  11/08/2020  0.125496  0.137770  0.124239  0.130634   0.130634   40783   \n1  12/08/2020  0.130674  0.162275  0.128384  0.138122   0.138122   65517   \n2  13/08/2020  0.138128  0.138128  0.118348  0.127606   0.127606   41988   \n3  14/08/2020  0.127084  0.201024  0.121670  0.201024   0.201024  104705   \n4  15/08/2020  0.201097  0.202423  0.138915  0.162744   0.162744   50419   \n\n       date_x  facebook_likes  twitter_followers  ...  closed_issues  \\\n0  11/08/2020             NaN             1817.0  ...           36.0   \n1  12/08/2020             NaN             1829.0  ...           36.0   \n2  13/08/2020             NaN             2149.0  ...           36.0   \n3  14/08/2020             NaN                NaN  ...           36.0   \n4  15/08/2020             NaN             2267.0  ...           36.0   \n\n   pull_requests_merged  pull_request_contributors  commit_count_4_weeks  \\\n0                 432.0                       11.0                  17.0   \n1                 432.0                       11.0                  17.0   \n2                 432.0                       11.0                   9.0   \n3                 438.0                       11.0                  15.0   \n4                 438.0                       11.0                  15.0   \n\n       date_y  idena_unscaled  idena_monthly  isPartial  scale  idena  \n0  11/08/2020               0           37.0        NaN   0.37   0.00  \n1  12/08/2020               0           37.0        NaN   0.37   0.00  \n2  13/08/2020               0           37.0        NaN   0.37   0.00  \n3  14/08/2020              34           37.0        NaN   0.37  12.58  \n4  15/08/2020               0           37.0        NaN   0.37   0.00  \n\n[5 rows x 28 columns]",
      "text/html": "<div>\n<style scoped>\n    .dataframe tbody tr th:only-of-type {\n        vertical-align: middle;\n    }\n\n    .dataframe tbody tr th {\n        vertical-align: top;\n    }\n\n    .dataframe thead th {\n        text-align: right;\n    }\n</style>\n<table border=\"1\" class=\"dataframe\">\n  <thead>\n    <tr style=\"text-align: right;\">\n      <th></th>\n      <th>Date</th>\n      <th>Open</th>\n      <th>High</th>\n      <th>Low</th>\n      <th>Close</th>\n      <th>Adj Close</th>\n      <th>Volume</th>\n      <th>date_x</th>\n      <th>facebook_likes</th>\n      <th>twitter_followers</th>\n      <th>...</th>\n      <th>closed_issues</th>\n      <th>pull_requests_merged</th>\n      <th>pull_request_contributors</th>\n      <th>commit_count_4_weeks</th>\n      <th>date_y</th>\n      <th>idena_unscaled</th>\n      <th>idena_monthly</th>\n      <th>isPartial</th>\n      <th>scale</th>\n      <th>idena</th>\n    </tr>\n  </thead>\n  <tbody>\n    <tr>\n      <th>0</th>\n      <td>11/08/2020</td>\n      <td>0.125496</td>\n      <td>0.137770</td>\n      <td>0.124239</td>\n      <td>0.130634</td>\n      <td>0.130634</td>\n      <td>40783</td>\n      <td>11/08/2020</td>\n      <td>NaN</td>\n      <td>1817.0</td>\n      <td>...</td>\n      <td>36.0</td>\n      <td>432.0</td>\n      <td>11.0</td>\n      <td>17.0</td>\n      <td>11/08/2020</td>\n      <td>0</td>\n      <td>37.0</td>\n      <td>NaN</td>\n      <td>0.37</td>\n      <td>0.00</td>\n    </tr>\n    <tr>\n      <th>1</th>\n      <td>12/08/2020</td>\n      <td>0.130674</td>\n      <td>0.162275</td>\n      <td>0.128384</td>\n      <td>0.138122</td>\n      <td>0.138122</td>\n      <td>65517</td>\n      <td>12/08/2020</td>\n      <td>NaN</td>\n      <td>1829.0</td>\n      <td>...</td>\n      <td>36.0</td>\n      <td>432.0</td>\n      <td>11.0</td>\n      <td>17.0</td>\n      <td>12/08/2020</td>\n      <td>0</td>\n      <td>37.0</td>\n      <td>NaN</td>\n      <td>0.37</td>\n      <td>0.00</td>\n    </tr>\n    <tr>\n      <th>2</th>\n      <td>13/08/2020</td>\n      <td>0.138128</td>\n      <td>0.138128</td>\n      <td>0.118348</td>\n      <td>0.127606</td>\n      <td>0.127606</td>\n      <td>41988</td>\n      <td>13/08/2020</td>\n      <td>NaN</td>\n      <td>2149.0</td>\n      <td>...</td>\n      <td>36.0</td>\n      <td>432.0</td>\n      <td>11.0</td>\n      <td>9.0</td>\n      <td>13/08/2020</td>\n      <td>0</td>\n      <td>37.0</td>\n      <td>NaN</td>\n      <td>0.37</td>\n      <td>0.00</td>\n    </tr>\n    <tr>\n      <th>3</th>\n      <td>14/08/2020</td>\n      <td>0.127084</td>\n      <td>0.201024</td>\n      <td>0.121670</td>\n      <td>0.201024</td>\n      <td>0.201024</td>\n      <td>104705</td>\n      <td>14/08/2020</td>\n      <td>NaN</td>\n      <td>NaN</td>\n      <td>...</td>\n      <td>36.0</td>\n      <td>438.0</td>\n      <td>11.0</td>\n      <td>15.0</td>\n      <td>14/08/2020</td>\n      <td>34</td>\n      <td>37.0</td>\n      <td>NaN</td>\n      <td>0.37</td>\n      <td>12.58</td>\n    </tr>\n    <tr>\n      <th>4</th>\n      <td>15/08/2020</td>\n      <td>0.201097</td>\n      <td>0.202423</td>\n      <td>0.138915</td>\n      <td>0.162744</td>\n      <td>0.162744</td>\n      <td>50419</td>\n      <td>15/08/2020</td>\n      <td>NaN</td>\n      <td>2267.0</td>\n      <td>...</td>\n      <td>36.0</td>\n      <td>438.0</td>\n      <td>11.0</td>\n      <td>15.0</td>\n      <td>15/08/2020</td>\n      <td>0</td>\n      <td>37.0</td>\n      <td>NaN</td>\n      <td>0.37</td>\n      <td>0.00</td>\n    </tr>\n  </tbody>\n</table>\n<p>5 rows × 28 columns</p>\n</div>"
     },
     "execution_count": 155,
     "metadata": {},
     "output_type": "execute_result"
    }
   ],
   "source": [
    "merged_idena = pd.merge(merged_idena, data_idn_google,left_on='Date', right_on='date')\n",
    "merged_idena.head()"
   ],
   "metadata": {
    "collapsed": false,
    "pycharm": {
     "name": "#%%\n"
    }
   }
  },
  {
   "cell_type": "code",
   "execution_count": 156,
   "outputs": [
    {
     "name": "stdout",
     "output_type": "stream",
     "text": [
      "<class 'pandas.core.frame.DataFrame'>\n",
      "Int64Index: 543 entries, 0 to 542\n",
      "Data columns (total 26 columns):\n",
      " #   Column                       Non-Null Count  Dtype  \n",
      "---  ------                       --------------  -----  \n",
      " 0   Date                         543 non-null    object \n",
      " 1   Open                         543 non-null    float64\n",
      " 2   High                         543 non-null    float64\n",
      " 3   Low                          543 non-null    float64\n",
      " 4   Close                        543 non-null    float64\n",
      " 5   Adj Close                    543 non-null    float64\n",
      " 6   Volume                       543 non-null    int64  \n",
      " 7   facebook_likes               0 non-null      float64\n",
      " 8   twitter_followers            409 non-null    float64\n",
      " 9   reddit_average_posts_48h     543 non-null    float64\n",
      " 10  reddit_average_comments_48h  543 non-null    float64\n",
      " 11  reddit_subscribers           543 non-null    int64  \n",
      " 12  reddit_accounts_active_48h   543 non-null    float64\n",
      " 13  forks                        34 non-null     float64\n",
      " 14  stars                        34 non-null     float64\n",
      " 15  subscribers                  34 non-null     float64\n",
      " 16  total_issues                 34 non-null     float64\n",
      " 17  closed_issues                34 non-null     float64\n",
      " 18  pull_requests_merged         34 non-null     float64\n",
      " 19  pull_request_contributors    34 non-null     float64\n",
      " 20  commit_count_4_weeks         34 non-null     float64\n",
      " 21  idena_unscaled               543 non-null    int64  \n",
      " 22  idena_monthly                543 non-null    float64\n",
      " 23  isPartial                    77 non-null     object \n",
      " 24  scale                        543 non-null    float64\n",
      " 25  idena                        543 non-null    float64\n",
      "dtypes: float64(21), int64(3), object(2)\n",
      "memory usage: 114.5+ KB\n"
     ]
    }
   ],
   "source": [
    "del merged_idena['date_x']\n",
    "del merged_idena['date_y']\n",
    "\n",
    "merged_idena.info()"
   ],
   "metadata": {
    "collapsed": false,
    "pycharm": {
     "name": "#%%\n"
    }
   }
  },
  {
   "cell_type": "code",
   "execution_count": 158,
   "outputs": [],
   "source": [
    "merged_idena.to_csv('../idena_data_4_2_2022.csv', index=False)"
   ],
   "metadata": {
    "collapsed": false,
    "pycharm": {
     "name": "#%%\n"
    }
   }
  },
  {
   "cell_type": "code",
   "execution_count": 159,
   "outputs": [
    {
     "data": {
      "text/plain": "         Date  Open  High  Low  Close  Adj Close   Volume\n0  01/08/2020   0.0   0.0  0.0    0.0        0.0  1604789\n1  02/08/2020   0.0   0.0  0.0    0.0        0.0   193098\n2  03/08/2020   0.0   0.0  0.0    0.0        0.0   129225\n3  04/08/2020   0.0   0.0  0.0    0.0        0.0    19717\n4  05/08/2020   0.0   0.0  0.0    0.0        0.0    26869",
      "text/html": "<div>\n<style scoped>\n    .dataframe tbody tr th:only-of-type {\n        vertical-align: middle;\n    }\n\n    .dataframe tbody tr th {\n        vertical-align: top;\n    }\n\n    .dataframe thead th {\n        text-align: right;\n    }\n</style>\n<table border=\"1\" class=\"dataframe\">\n  <thead>\n    <tr style=\"text-align: right;\">\n      <th></th>\n      <th>Date</th>\n      <th>Open</th>\n      <th>High</th>\n      <th>Low</th>\n      <th>Close</th>\n      <th>Adj Close</th>\n      <th>Volume</th>\n    </tr>\n  </thead>\n  <tbody>\n    <tr>\n      <th>0</th>\n      <td>01/08/2020</td>\n      <td>0.0</td>\n      <td>0.0</td>\n      <td>0.0</td>\n      <td>0.0</td>\n      <td>0.0</td>\n      <td>1604789</td>\n    </tr>\n    <tr>\n      <th>1</th>\n      <td>02/08/2020</td>\n      <td>0.0</td>\n      <td>0.0</td>\n      <td>0.0</td>\n      <td>0.0</td>\n      <td>0.0</td>\n      <td>193098</td>\n    </tr>\n    <tr>\n      <th>2</th>\n      <td>03/08/2020</td>\n      <td>0.0</td>\n      <td>0.0</td>\n      <td>0.0</td>\n      <td>0.0</td>\n      <td>0.0</td>\n      <td>129225</td>\n    </tr>\n    <tr>\n      <th>3</th>\n      <td>04/08/2020</td>\n      <td>0.0</td>\n      <td>0.0</td>\n      <td>0.0</td>\n      <td>0.0</td>\n      <td>0.0</td>\n      <td>19717</td>\n    </tr>\n    <tr>\n      <th>4</th>\n      <td>05/08/2020</td>\n      <td>0.0</td>\n      <td>0.0</td>\n      <td>0.0</td>\n      <td>0.0</td>\n      <td>0.0</td>\n      <td>26869</td>\n    </tr>\n  </tbody>\n</table>\n</div>"
     },
     "execution_count": 159,
     "metadata": {},
     "output_type": "execute_result"
    }
   ],
   "source": [
    "#Spajam podatke o shiba coinu\n",
    "\n",
    "data_shib_usd = pd.read_csv(\"../SHIB-USD.csv\")\n",
    "#Konvertujem datum u jedinstven format\n",
    "data_shib_usd['Date'] = pd.to_datetime(data_shib_usd['Date'], format='%Y-%m-%d')\n",
    "data_shib_usd['Date'] = data_shib_usd[\"Date\"].dt.strftime('%d/%m/%Y')\n",
    "data_shib_usd.head()"
   ],
   "metadata": {
    "collapsed": false,
    "pycharm": {
     "name": "#%%\n"
    }
   }
  },
  {
   "cell_type": "code",
   "execution_count": 160,
   "outputs": [
    {
     "data": {
      "text/plain": "         date  facebook_likes  twitter_followers  reddit_average_posts_48h  \\\n0  01/08/2020             NaN                NaN                       0.0   \n1  02/08/2020             NaN                NaN                       0.0   \n2  03/08/2020             NaN                NaN                       0.0   \n3  04/08/2020             NaN                NaN                       0.0   \n4  05/08/2020             NaN                NaN                       0.0   \n\n   reddit_average_comments_48h  reddit_subscribers  \\\n0                          0.0                 NaN   \n1                          0.0                 NaN   \n2                          0.0                 NaN   \n3                          0.0                 NaN   \n4                          0.0                 NaN   \n\n   reddit_accounts_active_48h  forks  stars  subscribers  total_issues  \\\n0                         NaN    NaN    NaN          NaN           NaN   \n1                         NaN    NaN    NaN          NaN           NaN   \n2                         NaN    NaN    NaN          NaN           NaN   \n3                         NaN    NaN    NaN          NaN           NaN   \n4                         NaN    NaN    NaN          NaN           NaN   \n\n   closed_issues  pull_requests_merged  pull_request_contributors  \\\n0            NaN                   NaN                        NaN   \n1            NaN                   NaN                        NaN   \n2            NaN                   NaN                        NaN   \n3            NaN                   NaN                        NaN   \n4            NaN                   NaN                        NaN   \n\n   commit_count_4_weeks  \n0                   NaN  \n1                   NaN  \n2                   NaN  \n3                   NaN  \n4                   NaN  ",
      "text/html": "<div>\n<style scoped>\n    .dataframe tbody tr th:only-of-type {\n        vertical-align: middle;\n    }\n\n    .dataframe tbody tr th {\n        vertical-align: top;\n    }\n\n    .dataframe thead th {\n        text-align: right;\n    }\n</style>\n<table border=\"1\" class=\"dataframe\">\n  <thead>\n    <tr style=\"text-align: right;\">\n      <th></th>\n      <th>date</th>\n      <th>facebook_likes</th>\n      <th>twitter_followers</th>\n      <th>reddit_average_posts_48h</th>\n      <th>reddit_average_comments_48h</th>\n      <th>reddit_subscribers</th>\n      <th>reddit_accounts_active_48h</th>\n      <th>forks</th>\n      <th>stars</th>\n      <th>subscribers</th>\n      <th>total_issues</th>\n      <th>closed_issues</th>\n      <th>pull_requests_merged</th>\n      <th>pull_request_contributors</th>\n      <th>commit_count_4_weeks</th>\n    </tr>\n  </thead>\n  <tbody>\n    <tr>\n      <th>0</th>\n      <td>01/08/2020</td>\n      <td>NaN</td>\n      <td>NaN</td>\n      <td>0.0</td>\n      <td>0.0</td>\n      <td>NaN</td>\n      <td>NaN</td>\n      <td>NaN</td>\n      <td>NaN</td>\n      <td>NaN</td>\n      <td>NaN</td>\n      <td>NaN</td>\n      <td>NaN</td>\n      <td>NaN</td>\n      <td>NaN</td>\n    </tr>\n    <tr>\n      <th>1</th>\n      <td>02/08/2020</td>\n      <td>NaN</td>\n      <td>NaN</td>\n      <td>0.0</td>\n      <td>0.0</td>\n      <td>NaN</td>\n      <td>NaN</td>\n      <td>NaN</td>\n      <td>NaN</td>\n      <td>NaN</td>\n      <td>NaN</td>\n      <td>NaN</td>\n      <td>NaN</td>\n      <td>NaN</td>\n      <td>NaN</td>\n    </tr>\n    <tr>\n      <th>2</th>\n      <td>03/08/2020</td>\n      <td>NaN</td>\n      <td>NaN</td>\n      <td>0.0</td>\n      <td>0.0</td>\n      <td>NaN</td>\n      <td>NaN</td>\n      <td>NaN</td>\n      <td>NaN</td>\n      <td>NaN</td>\n      <td>NaN</td>\n      <td>NaN</td>\n      <td>NaN</td>\n      <td>NaN</td>\n      <td>NaN</td>\n    </tr>\n    <tr>\n      <th>3</th>\n      <td>04/08/2020</td>\n      <td>NaN</td>\n      <td>NaN</td>\n      <td>0.0</td>\n      <td>0.0</td>\n      <td>NaN</td>\n      <td>NaN</td>\n      <td>NaN</td>\n      <td>NaN</td>\n      <td>NaN</td>\n      <td>NaN</td>\n      <td>NaN</td>\n      <td>NaN</td>\n      <td>NaN</td>\n      <td>NaN</td>\n    </tr>\n    <tr>\n      <th>4</th>\n      <td>05/08/2020</td>\n      <td>NaN</td>\n      <td>NaN</td>\n      <td>0.0</td>\n      <td>0.0</td>\n      <td>NaN</td>\n      <td>NaN</td>\n      <td>NaN</td>\n      <td>NaN</td>\n      <td>NaN</td>\n      <td>NaN</td>\n      <td>NaN</td>\n      <td>NaN</td>\n      <td>NaN</td>\n      <td>NaN</td>\n    </tr>\n  </tbody>\n</table>\n</div>"
     },
     "execution_count": 160,
     "metadata": {},
     "output_type": "execute_result"
    }
   ],
   "source": [
    "data_shib_stats = pd.read_csv(\"../shiba-stats.csv\")\n",
    "#Konvertujem datum u jedinstven format\n",
    "data_shib_stats['date'] = pd.to_datetime(data_shib_stats['date'], format='%d-%m-%Y')\n",
    "data_shib_stats['date'] = data_shib_stats[\"date\"].dt.strftime('%d/%m/%Y')\n",
    "data_shib_stats.head()\n"
   ],
   "metadata": {
    "collapsed": false,
    "pycharm": {
     "name": "#%%\n"
    }
   }
  },
  {
   "cell_type": "code",
   "execution_count": 162,
   "outputs": [
    {
     "data": {
      "text/plain": "           date  shiba inu coin_unscaled  shiba inu coin_monthly isPartial  \\\n548  31/01/2022                       47                     6.0       NaN   \n549  01/02/2022                       94                     6.0       NaN   \n550  02/02/2022                      100                     6.0       NaN   \n551  03/02/2022                       76                     6.0       NaN   \n552  04/02/2022                       96                     6.0       NaN   \n\n     scale  shiba inu coin  \n548   0.06            2.82  \n549   0.06            5.64  \n550   0.06            6.00  \n551   0.06            4.56  \n552   0.06            5.76  ",
      "text/html": "<div>\n<style scoped>\n    .dataframe tbody tr th:only-of-type {\n        vertical-align: middle;\n    }\n\n    .dataframe tbody tr th {\n        vertical-align: top;\n    }\n\n    .dataframe thead th {\n        text-align: right;\n    }\n</style>\n<table border=\"1\" class=\"dataframe\">\n  <thead>\n    <tr style=\"text-align: right;\">\n      <th></th>\n      <th>date</th>\n      <th>shiba inu coin_unscaled</th>\n      <th>shiba inu coin_monthly</th>\n      <th>isPartial</th>\n      <th>scale</th>\n      <th>shiba inu coin</th>\n    </tr>\n  </thead>\n  <tbody>\n    <tr>\n      <th>548</th>\n      <td>31/01/2022</td>\n      <td>47</td>\n      <td>6.0</td>\n      <td>NaN</td>\n      <td>0.06</td>\n      <td>2.82</td>\n    </tr>\n    <tr>\n      <th>549</th>\n      <td>01/02/2022</td>\n      <td>94</td>\n      <td>6.0</td>\n      <td>NaN</td>\n      <td>0.06</td>\n      <td>5.64</td>\n    </tr>\n    <tr>\n      <th>550</th>\n      <td>02/02/2022</td>\n      <td>100</td>\n      <td>6.0</td>\n      <td>NaN</td>\n      <td>0.06</td>\n      <td>6.00</td>\n    </tr>\n    <tr>\n      <th>551</th>\n      <td>03/02/2022</td>\n      <td>76</td>\n      <td>6.0</td>\n      <td>NaN</td>\n      <td>0.06</td>\n      <td>4.56</td>\n    </tr>\n    <tr>\n      <th>552</th>\n      <td>04/02/2022</td>\n      <td>96</td>\n      <td>6.0</td>\n      <td>NaN</td>\n      <td>0.06</td>\n      <td>5.76</td>\n    </tr>\n  </tbody>\n</table>\n</div>"
     },
     "execution_count": 162,
     "metadata": {},
     "output_type": "execute_result"
    }
   ],
   "source": [
    "data_shib_google = pd.read_csv(\"../shiba_google_trend.csv\")\n",
    "#Konvertujem datum u jedinstven format\n",
    "data_shib_google['date'] = pd.to_datetime(data_shib_google['date'], format='%Y-%m-%d')\n",
    "data_shib_google['date'] = data_shib_google[\"date\"].dt.strftime('%d/%m/%Y')\n",
    "data_shib_google.head()\n",
    "data_shib_google.tail()"
   ],
   "metadata": {
    "collapsed": false,
    "pycharm": {
     "name": "#%%\n"
    }
   }
  },
  {
   "cell_type": "code",
   "execution_count": 163,
   "outputs": [
    {
     "data": {
      "text/plain": "         Date  Open  High  Low  Close  Adj Close   Volume        date  \\\n0  01/08/2020   0.0   0.0  0.0    0.0        0.0  1604789  01/08/2020   \n1  02/08/2020   0.0   0.0  0.0    0.0        0.0   193098  02/08/2020   \n2  03/08/2020   0.0   0.0  0.0    0.0        0.0   129225  03/08/2020   \n3  04/08/2020   0.0   0.0  0.0    0.0        0.0    19717  04/08/2020   \n4  05/08/2020   0.0   0.0  0.0    0.0        0.0    26869  05/08/2020   \n\n   facebook_likes  twitter_followers  ...  reddit_subscribers  \\\n0             NaN                NaN  ...                 NaN   \n1             NaN                NaN  ...                 NaN   \n2             NaN                NaN  ...                 NaN   \n3             NaN                NaN  ...                 NaN   \n4             NaN                NaN  ...                 NaN   \n\n   reddit_accounts_active_48h  forks  stars  subscribers  total_issues  \\\n0                         NaN    NaN    NaN          NaN           NaN   \n1                         NaN    NaN    NaN          NaN           NaN   \n2                         NaN    NaN    NaN          NaN           NaN   \n3                         NaN    NaN    NaN          NaN           NaN   \n4                         NaN    NaN    NaN          NaN           NaN   \n\n   closed_issues  pull_requests_merged  pull_request_contributors  \\\n0            NaN                   NaN                        NaN   \n1            NaN                   NaN                        NaN   \n2            NaN                   NaN                        NaN   \n3            NaN                   NaN                        NaN   \n4            NaN                   NaN                        NaN   \n\n   commit_count_4_weeks  \n0                   NaN  \n1                   NaN  \n2                   NaN  \n3                   NaN  \n4                   NaN  \n\n[5 rows x 22 columns]",
      "text/html": "<div>\n<style scoped>\n    .dataframe tbody tr th:only-of-type {\n        vertical-align: middle;\n    }\n\n    .dataframe tbody tr th {\n        vertical-align: top;\n    }\n\n    .dataframe thead th {\n        text-align: right;\n    }\n</style>\n<table border=\"1\" class=\"dataframe\">\n  <thead>\n    <tr style=\"text-align: right;\">\n      <th></th>\n      <th>Date</th>\n      <th>Open</th>\n      <th>High</th>\n      <th>Low</th>\n      <th>Close</th>\n      <th>Adj Close</th>\n      <th>Volume</th>\n      <th>date</th>\n      <th>facebook_likes</th>\n      <th>twitter_followers</th>\n      <th>...</th>\n      <th>reddit_subscribers</th>\n      <th>reddit_accounts_active_48h</th>\n      <th>forks</th>\n      <th>stars</th>\n      <th>subscribers</th>\n      <th>total_issues</th>\n      <th>closed_issues</th>\n      <th>pull_requests_merged</th>\n      <th>pull_request_contributors</th>\n      <th>commit_count_4_weeks</th>\n    </tr>\n  </thead>\n  <tbody>\n    <tr>\n      <th>0</th>\n      <td>01/08/2020</td>\n      <td>0.0</td>\n      <td>0.0</td>\n      <td>0.0</td>\n      <td>0.0</td>\n      <td>0.0</td>\n      <td>1604789</td>\n      <td>01/08/2020</td>\n      <td>NaN</td>\n      <td>NaN</td>\n      <td>...</td>\n      <td>NaN</td>\n      <td>NaN</td>\n      <td>NaN</td>\n      <td>NaN</td>\n      <td>NaN</td>\n      <td>NaN</td>\n      <td>NaN</td>\n      <td>NaN</td>\n      <td>NaN</td>\n      <td>NaN</td>\n    </tr>\n    <tr>\n      <th>1</th>\n      <td>02/08/2020</td>\n      <td>0.0</td>\n      <td>0.0</td>\n      <td>0.0</td>\n      <td>0.0</td>\n      <td>0.0</td>\n      <td>193098</td>\n      <td>02/08/2020</td>\n      <td>NaN</td>\n      <td>NaN</td>\n      <td>...</td>\n      <td>NaN</td>\n      <td>NaN</td>\n      <td>NaN</td>\n      <td>NaN</td>\n      <td>NaN</td>\n      <td>NaN</td>\n      <td>NaN</td>\n      <td>NaN</td>\n      <td>NaN</td>\n      <td>NaN</td>\n    </tr>\n    <tr>\n      <th>2</th>\n      <td>03/08/2020</td>\n      <td>0.0</td>\n      <td>0.0</td>\n      <td>0.0</td>\n      <td>0.0</td>\n      <td>0.0</td>\n      <td>129225</td>\n      <td>03/08/2020</td>\n      <td>NaN</td>\n      <td>NaN</td>\n      <td>...</td>\n      <td>NaN</td>\n      <td>NaN</td>\n      <td>NaN</td>\n      <td>NaN</td>\n      <td>NaN</td>\n      <td>NaN</td>\n      <td>NaN</td>\n      <td>NaN</td>\n      <td>NaN</td>\n      <td>NaN</td>\n    </tr>\n    <tr>\n      <th>3</th>\n      <td>04/08/2020</td>\n      <td>0.0</td>\n      <td>0.0</td>\n      <td>0.0</td>\n      <td>0.0</td>\n      <td>0.0</td>\n      <td>19717</td>\n      <td>04/08/2020</td>\n      <td>NaN</td>\n      <td>NaN</td>\n      <td>...</td>\n      <td>NaN</td>\n      <td>NaN</td>\n      <td>NaN</td>\n      <td>NaN</td>\n      <td>NaN</td>\n      <td>NaN</td>\n      <td>NaN</td>\n      <td>NaN</td>\n      <td>NaN</td>\n      <td>NaN</td>\n    </tr>\n    <tr>\n      <th>4</th>\n      <td>05/08/2020</td>\n      <td>0.0</td>\n      <td>0.0</td>\n      <td>0.0</td>\n      <td>0.0</td>\n      <td>0.0</td>\n      <td>26869</td>\n      <td>05/08/2020</td>\n      <td>NaN</td>\n      <td>NaN</td>\n      <td>...</td>\n      <td>NaN</td>\n      <td>NaN</td>\n      <td>NaN</td>\n      <td>NaN</td>\n      <td>NaN</td>\n      <td>NaN</td>\n      <td>NaN</td>\n      <td>NaN</td>\n      <td>NaN</td>\n      <td>NaN</td>\n    </tr>\n  </tbody>\n</table>\n<p>5 rows × 22 columns</p>\n</div>"
     },
     "execution_count": 163,
     "metadata": {},
     "output_type": "execute_result"
    }
   ],
   "source": [
    "data_shib_stats.set_index('date')\n",
    "data_shib_google.set_index('date')\n",
    "data_shib_usd.set_index('Date')\n",
    "merged_shiba=pd.merge(data_shib_usd,data_shib_stats, how='inner', left_on='Date', right_on='date')\n",
    "merged_shiba.head()\n"
   ],
   "metadata": {
    "collapsed": false,
    "pycharm": {
     "name": "#%%\n"
    }
   }
  },
  {
   "cell_type": "code",
   "execution_count": 164,
   "outputs": [
    {
     "data": {
      "text/plain": "         Date  Open  High  Low  Close  Adj Close   Volume      date_x  \\\n0  01/08/2020   0.0   0.0  0.0    0.0        0.0  1604789  01/08/2020   \n1  02/08/2020   0.0   0.0  0.0    0.0        0.0   193098  02/08/2020   \n2  03/08/2020   0.0   0.0  0.0    0.0        0.0   129225  03/08/2020   \n3  04/08/2020   0.0   0.0  0.0    0.0        0.0    19717  04/08/2020   \n4  05/08/2020   0.0   0.0  0.0    0.0        0.0    26869  05/08/2020   \n\n   facebook_likes  twitter_followers  ...  closed_issues  \\\n0             NaN                NaN  ...            NaN   \n1             NaN                NaN  ...            NaN   \n2             NaN                NaN  ...            NaN   \n3             NaN                NaN  ...            NaN   \n4             NaN                NaN  ...            NaN   \n\n   pull_requests_merged  pull_request_contributors  commit_count_4_weeks  \\\n0                   NaN                        NaN                   NaN   \n1                   NaN                        NaN                   NaN   \n2                   NaN                        NaN                   NaN   \n3                   NaN                        NaN                   NaN   \n4                   NaN                        NaN                   NaN   \n\n       date_y  shiba inu coin_unscaled  shiba inu coin_monthly  isPartial  \\\n0  01/08/2020                        0                     NaN        NaN   \n1  02/08/2020                        0                     0.0      False   \n2  03/08/2020                        0                     0.0        NaN   \n3  04/08/2020                        0                     0.0        NaN   \n4  05/08/2020                        0                     0.0        NaN   \n\n   scale  shiba inu coin  \n0    NaN             NaN  \n1    0.0             0.0  \n2    0.0             0.0  \n3    0.0             0.0  \n4    0.0             0.0  \n\n[5 rows x 28 columns]",
      "text/html": "<div>\n<style scoped>\n    .dataframe tbody tr th:only-of-type {\n        vertical-align: middle;\n    }\n\n    .dataframe tbody tr th {\n        vertical-align: top;\n    }\n\n    .dataframe thead th {\n        text-align: right;\n    }\n</style>\n<table border=\"1\" class=\"dataframe\">\n  <thead>\n    <tr style=\"text-align: right;\">\n      <th></th>\n      <th>Date</th>\n      <th>Open</th>\n      <th>High</th>\n      <th>Low</th>\n      <th>Close</th>\n      <th>Adj Close</th>\n      <th>Volume</th>\n      <th>date_x</th>\n      <th>facebook_likes</th>\n      <th>twitter_followers</th>\n      <th>...</th>\n      <th>closed_issues</th>\n      <th>pull_requests_merged</th>\n      <th>pull_request_contributors</th>\n      <th>commit_count_4_weeks</th>\n      <th>date_y</th>\n      <th>shiba inu coin_unscaled</th>\n      <th>shiba inu coin_monthly</th>\n      <th>isPartial</th>\n      <th>scale</th>\n      <th>shiba inu coin</th>\n    </tr>\n  </thead>\n  <tbody>\n    <tr>\n      <th>0</th>\n      <td>01/08/2020</td>\n      <td>0.0</td>\n      <td>0.0</td>\n      <td>0.0</td>\n      <td>0.0</td>\n      <td>0.0</td>\n      <td>1604789</td>\n      <td>01/08/2020</td>\n      <td>NaN</td>\n      <td>NaN</td>\n      <td>...</td>\n      <td>NaN</td>\n      <td>NaN</td>\n      <td>NaN</td>\n      <td>NaN</td>\n      <td>01/08/2020</td>\n      <td>0</td>\n      <td>NaN</td>\n      <td>NaN</td>\n      <td>NaN</td>\n      <td>NaN</td>\n    </tr>\n    <tr>\n      <th>1</th>\n      <td>02/08/2020</td>\n      <td>0.0</td>\n      <td>0.0</td>\n      <td>0.0</td>\n      <td>0.0</td>\n      <td>0.0</td>\n      <td>193098</td>\n      <td>02/08/2020</td>\n      <td>NaN</td>\n      <td>NaN</td>\n      <td>...</td>\n      <td>NaN</td>\n      <td>NaN</td>\n      <td>NaN</td>\n      <td>NaN</td>\n      <td>02/08/2020</td>\n      <td>0</td>\n      <td>0.0</td>\n      <td>False</td>\n      <td>0.0</td>\n      <td>0.0</td>\n    </tr>\n    <tr>\n      <th>2</th>\n      <td>03/08/2020</td>\n      <td>0.0</td>\n      <td>0.0</td>\n      <td>0.0</td>\n      <td>0.0</td>\n      <td>0.0</td>\n      <td>129225</td>\n      <td>03/08/2020</td>\n      <td>NaN</td>\n      <td>NaN</td>\n      <td>...</td>\n      <td>NaN</td>\n      <td>NaN</td>\n      <td>NaN</td>\n      <td>NaN</td>\n      <td>03/08/2020</td>\n      <td>0</td>\n      <td>0.0</td>\n      <td>NaN</td>\n      <td>0.0</td>\n      <td>0.0</td>\n    </tr>\n    <tr>\n      <th>3</th>\n      <td>04/08/2020</td>\n      <td>0.0</td>\n      <td>0.0</td>\n      <td>0.0</td>\n      <td>0.0</td>\n      <td>0.0</td>\n      <td>19717</td>\n      <td>04/08/2020</td>\n      <td>NaN</td>\n      <td>NaN</td>\n      <td>...</td>\n      <td>NaN</td>\n      <td>NaN</td>\n      <td>NaN</td>\n      <td>NaN</td>\n      <td>04/08/2020</td>\n      <td>0</td>\n      <td>0.0</td>\n      <td>NaN</td>\n      <td>0.0</td>\n      <td>0.0</td>\n    </tr>\n    <tr>\n      <th>4</th>\n      <td>05/08/2020</td>\n      <td>0.0</td>\n      <td>0.0</td>\n      <td>0.0</td>\n      <td>0.0</td>\n      <td>0.0</td>\n      <td>26869</td>\n      <td>05/08/2020</td>\n      <td>NaN</td>\n      <td>NaN</td>\n      <td>...</td>\n      <td>NaN</td>\n      <td>NaN</td>\n      <td>NaN</td>\n      <td>NaN</td>\n      <td>05/08/2020</td>\n      <td>0</td>\n      <td>0.0</td>\n      <td>NaN</td>\n      <td>0.0</td>\n      <td>0.0</td>\n    </tr>\n  </tbody>\n</table>\n<p>5 rows × 28 columns</p>\n</div>"
     },
     "execution_count": 164,
     "metadata": {},
     "output_type": "execute_result"
    }
   ],
   "source": [
    "merged_shiba = pd.merge(merged_shiba, data_shib_google,left_on='Date', right_on='date')\n",
    "merged_shiba.head()"
   ],
   "metadata": {
    "collapsed": false,
    "pycharm": {
     "name": "#%%\n"
    }
   }
  },
  {
   "cell_type": "code",
   "execution_count": 165,
   "outputs": [
    {
     "name": "stdout",
     "output_type": "stream",
     "text": [
      "<class 'pandas.core.frame.DataFrame'>\n",
      "Int64Index: 553 entries, 0 to 552\n",
      "Data columns (total 26 columns):\n",
      " #   Column                       Non-Null Count  Dtype  \n",
      "---  ------                       --------------  -----  \n",
      " 0   Date                         553 non-null    object \n",
      " 1   Open                         553 non-null    float64\n",
      " 2   High                         553 non-null    float64\n",
      " 3   Low                          553 non-null    float64\n",
      " 4   Close                        553 non-null    float64\n",
      " 5   Adj Close                    553 non-null    float64\n",
      " 6   Volume                       553 non-null    int64  \n",
      " 7   facebook_likes               0 non-null      float64\n",
      " 8   twitter_followers            213 non-null    float64\n",
      " 9   reddit_average_posts_48h     539 non-null    float64\n",
      " 10  reddit_average_comments_48h  539 non-null    float64\n",
      " 11  reddit_subscribers           319 non-null    float64\n",
      " 12  reddit_accounts_active_48h   319 non-null    float64\n",
      " 13  forks                        0 non-null      float64\n",
      " 14  stars                        0 non-null      float64\n",
      " 15  subscribers                  0 non-null      float64\n",
      " 16  total_issues                 0 non-null      float64\n",
      " 17  closed_issues                0 non-null      float64\n",
      " 18  pull_requests_merged         0 non-null      float64\n",
      " 19  pull_request_contributors    0 non-null      float64\n",
      " 20  commit_count_4_weeks         0 non-null      float64\n",
      " 21  shiba inu coin_unscaled      553 non-null    int64  \n",
      " 22  shiba inu coin_monthly       552 non-null    float64\n",
      " 23  isPartial                    79 non-null     object \n",
      " 24  scale                        552 non-null    float64\n",
      " 25  shiba inu coin               552 non-null    float64\n",
      "dtypes: float64(22), int64(2), object(2)\n",
      "memory usage: 116.6+ KB\n"
     ]
    }
   ],
   "source": [
    "del merged_shiba['date_x']\n",
    "del merged_shiba['date_y']\n",
    "\n",
    "merged_shiba.info()"
   ],
   "metadata": {
    "collapsed": false,
    "pycharm": {
     "name": "#%%\n"
    }
   }
  },
  {
   "cell_type": "code",
   "execution_count": 166,
   "outputs": [],
   "source": [
    "merged_shiba.to_csv('../shiba_data_4_2_2022.csv', index=False)"
   ],
   "metadata": {
    "collapsed": false,
    "pycharm": {
     "name": "#%%\n"
    }
   }
  }
 ],
 "metadata": {
  "kernelspec": {
   "display_name": "Python 3",
   "language": "python",
   "name": "python3"
  }
 },
 "nbformat": 4,
 "nbformat_minor": 5
}