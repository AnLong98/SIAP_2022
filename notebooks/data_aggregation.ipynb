{
 "cells": [
  {
   "cell_type": "code",
   "execution_count": 11,
   "id": "167111e0",
   "metadata": {
    "pycharm": {
     "name": "#%%\n"
    }
   },
   "outputs": [
    {
     "name": "stdout",
     "output_type": "stream",
     "text": [
      "Requirement already satisfied: pycoingecko in c:\\users\\predrag\\appdata\\local\\programs\\python\\python310\\lib\\site-packages (2.2.0)"
     ]
    },
    {
     "name": "stderr",
     "output_type": "stream",
     "text": [
      "WARNING: You are using pip version 21.2.4; however, version 22.0.3 is available.\n",
      "You should consider upgrading via the 'C:\\Users\\Predrag\\AppData\\Local\\Programs\\Python\\Python310\\python.exe -m pip install --upgrade pip' command.\n"
     ]
    },
    {
     "name": "stdout",
     "output_type": "stream",
     "text": [
      "\n",
      "Requirement already satisfied: requests in c:\\users\\predrag\\appdata\\local\\programs\\python\\python310\\lib\\site-packages (from pycoingecko) (2.27.1)\n",
      "Requirement already satisfied: urllib3<1.27,>=1.21.1 in c:\\users\\predrag\\appdata\\local\\programs\\python\\python310\\lib\\site-packages (from requests->pycoingecko) (1.26.8)\n",
      "Requirement already satisfied: idna<4,>=2.5 in c:\\users\\predrag\\appdata\\local\\programs\\python\\python310\\lib\\site-packages (from requests->pycoingecko) (3.3)\n",
      "Requirement already satisfied: certifi>=2017.4.17 in c:\\users\\predrag\\appdata\\local\\programs\\python\\python310\\lib\\site-packages (from requests->pycoingecko) (2021.10.8)\n",
      "Requirement already satisfied: charset-normalizer~=2.0.0 in c:\\users\\predrag\\appdata\\local\\programs\\python\\python310\\lib\\site-packages (from requests->pycoingecko) (2.0.11)\n",
      "Requirement already satisfied: pandas in c:\\users\\predrag\\appdata\\local\\programs\\python\\python310\\lib\\site-packages (1.4.0)"
     ]
    },
    {
     "name": "stderr",
     "output_type": "stream",
     "text": [
      "WARNING: You are using pip version 21.2.4; however, version 22.0.3 is available.\n",
      "You should consider upgrading via the 'C:\\Users\\Predrag\\AppData\\Local\\Programs\\Python\\Python310\\python.exe -m pip install --upgrade pip' command.\n"
     ]
    },
    {
     "name": "stdout",
     "output_type": "stream",
     "text": [
      "\n",
      "Requirement already satisfied: numpy>=1.21.0 in c:\\users\\predrag\\appdata\\local\\programs\\python\\python310\\lib\\site-packages (from pandas) (1.22.2)\n",
      "Requirement already satisfied: python-dateutil>=2.8.1 in c:\\users\\predrag\\appdata\\local\\programs\\python\\python310\\lib\\site-packages (from pandas) (2.8.2)\n",
      "Requirement already satisfied: pytz>=2020.1 in c:\\users\\predrag\\appdata\\local\\programs\\python\\python310\\lib\\site-packages (from pandas) (2021.3)\n",
      "Requirement already satisfied: six>=1.5 in c:\\users\\predrag\\appdata\\local\\programs\\python\\python310\\lib\\site-packages (from python-dateutil>=2.8.1->pandas) (1.16.0)\n"
     ]
    }
   ],
   "source": [
    "import json\n",
    "\n",
    "import pip\n",
    "import sys\n",
    "!{sys.executable} -m pip install pycoingecko\n",
    "!{sys.executable} -m pip install pandas"
   ]
  },
  {
   "cell_type": "code",
   "execution_count": 12,
   "outputs": [
    {
     "data": {
      "text/plain": "         Date      Open      High       Low     Close  Adj Close   Volume\n0  2017-11-09  0.001207  0.001415  0.001181  0.001415   0.001415  6259550\n1  2017-11-10  0.001421  0.001431  0.001125  0.001163   0.001163  4246520\n2  2017-11-11  0.001146  0.001257  0.001141  0.001201   0.001201  2231080\n3  2017-11-12  0.001189  0.001210  0.001002  0.001038   0.001038  3288960\n4  2017-11-13  0.001046  0.001212  0.001019  0.001211   0.001211  2481270",
      "text/html": "<div>\n<style scoped>\n    .dataframe tbody tr th:only-of-type {\n        vertical-align: middle;\n    }\n\n    .dataframe tbody tr th {\n        vertical-align: top;\n    }\n\n    .dataframe thead th {\n        text-align: right;\n    }\n</style>\n<table border=\"1\" class=\"dataframe\">\n  <thead>\n    <tr style=\"text-align: right;\">\n      <th></th>\n      <th>Date</th>\n      <th>Open</th>\n      <th>High</th>\n      <th>Low</th>\n      <th>Close</th>\n      <th>Adj Close</th>\n      <th>Volume</th>\n    </tr>\n  </thead>\n  <tbody>\n    <tr>\n      <th>0</th>\n      <td>2017-11-09</td>\n      <td>0.001207</td>\n      <td>0.001415</td>\n      <td>0.001181</td>\n      <td>0.001415</td>\n      <td>0.001415</td>\n      <td>6259550</td>\n    </tr>\n    <tr>\n      <th>1</th>\n      <td>2017-11-10</td>\n      <td>0.001421</td>\n      <td>0.001431</td>\n      <td>0.001125</td>\n      <td>0.001163</td>\n      <td>0.001163</td>\n      <td>4246520</td>\n    </tr>\n    <tr>\n      <th>2</th>\n      <td>2017-11-11</td>\n      <td>0.001146</td>\n      <td>0.001257</td>\n      <td>0.001141</td>\n      <td>0.001201</td>\n      <td>0.001201</td>\n      <td>2231080</td>\n    </tr>\n    <tr>\n      <th>3</th>\n      <td>2017-11-12</td>\n      <td>0.001189</td>\n      <td>0.001210</td>\n      <td>0.001002</td>\n      <td>0.001038</td>\n      <td>0.001038</td>\n      <td>3288960</td>\n    </tr>\n    <tr>\n      <th>4</th>\n      <td>2017-11-13</td>\n      <td>0.001046</td>\n      <td>0.001212</td>\n      <td>0.001019</td>\n      <td>0.001211</td>\n      <td>0.001211</td>\n      <td>2481270</td>\n    </tr>\n  </tbody>\n</table>\n</div>"
     },
     "execution_count": 12,
     "metadata": {},
     "output_type": "execute_result"
    }
   ],
   "source": [
    "import pandas as pd\n",
    "data_doge_usd = pd.read_csv(\"../DOGE-USD.csv\")\n",
    "data_doge_stats = pd.read_csv(\"../doge-stats.csv\")\n",
    "data_doge_google = pd.read_csv(\"../doge_google_trend.csv\")\n",
    "data_doge_usd.head()"
   ],
   "metadata": {
    "collapsed": false,
    "pycharm": {
     "name": "#%%\n"
    }
   }
  },
  {
   "cell_type": "code",
   "execution_count": 13,
   "outputs": [
    {
     "data": {
      "text/plain": "         date  dogecoin_unscaled  dogecoin_monthly isPartial  scale  dogecoin\n0  2017-11-01                 23               NaN       NaN    NaN       NaN\n1  2017-11-02                 47               NaN       NaN    NaN       NaN\n2  2017-11-03                 52               NaN       NaN    NaN       NaN\n3  2017-11-04                 52               NaN       NaN    NaN       NaN\n4  2017-11-05                 36               1.0     False   0.01      0.36\n5  2017-11-06                 31               1.0       NaN   0.01      0.31\n6  2017-11-07                 46               1.0       NaN   0.01      0.46\n7  2017-11-08                 33               1.0       NaN   0.01      0.33\n8  2017-11-09                 57               1.0       NaN   0.01      0.57\n9  2017-11-10                 24               1.0       NaN   0.01      0.24",
      "text/html": "<div>\n<style scoped>\n    .dataframe tbody tr th:only-of-type {\n        vertical-align: middle;\n    }\n\n    .dataframe tbody tr th {\n        vertical-align: top;\n    }\n\n    .dataframe thead th {\n        text-align: right;\n    }\n</style>\n<table border=\"1\" class=\"dataframe\">\n  <thead>\n    <tr style=\"text-align: right;\">\n      <th></th>\n      <th>date</th>\n      <th>dogecoin_unscaled</th>\n      <th>dogecoin_monthly</th>\n      <th>isPartial</th>\n      <th>scale</th>\n      <th>dogecoin</th>\n    </tr>\n  </thead>\n  <tbody>\n    <tr>\n      <th>0</th>\n      <td>2017-11-01</td>\n      <td>23</td>\n      <td>NaN</td>\n      <td>NaN</td>\n      <td>NaN</td>\n      <td>NaN</td>\n    </tr>\n    <tr>\n      <th>1</th>\n      <td>2017-11-02</td>\n      <td>47</td>\n      <td>NaN</td>\n      <td>NaN</td>\n      <td>NaN</td>\n      <td>NaN</td>\n    </tr>\n    <tr>\n      <th>2</th>\n      <td>2017-11-03</td>\n      <td>52</td>\n      <td>NaN</td>\n      <td>NaN</td>\n      <td>NaN</td>\n      <td>NaN</td>\n    </tr>\n    <tr>\n      <th>3</th>\n      <td>2017-11-04</td>\n      <td>52</td>\n      <td>NaN</td>\n      <td>NaN</td>\n      <td>NaN</td>\n      <td>NaN</td>\n    </tr>\n    <tr>\n      <th>4</th>\n      <td>2017-11-05</td>\n      <td>36</td>\n      <td>1.0</td>\n      <td>False</td>\n      <td>0.01</td>\n      <td>0.36</td>\n    </tr>\n    <tr>\n      <th>5</th>\n      <td>2017-11-06</td>\n      <td>31</td>\n      <td>1.0</td>\n      <td>NaN</td>\n      <td>0.01</td>\n      <td>0.31</td>\n    </tr>\n    <tr>\n      <th>6</th>\n      <td>2017-11-07</td>\n      <td>46</td>\n      <td>1.0</td>\n      <td>NaN</td>\n      <td>0.01</td>\n      <td>0.46</td>\n    </tr>\n    <tr>\n      <th>7</th>\n      <td>2017-11-08</td>\n      <td>33</td>\n      <td>1.0</td>\n      <td>NaN</td>\n      <td>0.01</td>\n      <td>0.33</td>\n    </tr>\n    <tr>\n      <th>8</th>\n      <td>2017-11-09</td>\n      <td>57</td>\n      <td>1.0</td>\n      <td>NaN</td>\n      <td>0.01</td>\n      <td>0.57</td>\n    </tr>\n    <tr>\n      <th>9</th>\n      <td>2017-11-10</td>\n      <td>24</td>\n      <td>1.0</td>\n      <td>NaN</td>\n      <td>0.01</td>\n      <td>0.24</td>\n    </tr>\n  </tbody>\n</table>\n</div>"
     },
     "execution_count": 13,
     "metadata": {},
     "output_type": "execute_result"
    }
   ],
   "source": [
    "data_doge_google.head(10)"
   ],
   "metadata": {
    "collapsed": false,
    "pycharm": {
     "name": "#%%\n"
    }
   }
  },
  {
   "cell_type": "code",
   "execution_count": 14,
   "outputs": [
    {
     "data": {
      "text/plain": "          date  dogecoin_unscaled  dogecoin_monthly isPartial  scale  dogecoin\n8   2017-11-09                 57               1.0       NaN   0.01      0.57\n9   2017-11-10                 24               1.0       NaN   0.01      0.24\n10  2017-11-11                 23               1.0       NaN   0.01      0.23\n11  2017-11-12                 23               1.0     False   0.01      0.23\n12  2017-11-13                 41               1.0       NaN   0.01      0.41\n13  2017-11-14                 45               1.0       NaN   0.01      0.45\n14  2017-11-15                 46               1.0       NaN   0.01      0.46\n15  2017-11-16                 31               1.0       NaN   0.01      0.31\n16  2017-11-17                 42               1.0       NaN   0.01      0.42\n17  2017-11-18                 29               1.0       NaN   0.01      0.29",
      "text/html": "<div>\n<style scoped>\n    .dataframe tbody tr th:only-of-type {\n        vertical-align: middle;\n    }\n\n    .dataframe tbody tr th {\n        vertical-align: top;\n    }\n\n    .dataframe thead th {\n        text-align: right;\n    }\n</style>\n<table border=\"1\" class=\"dataframe\">\n  <thead>\n    <tr style=\"text-align: right;\">\n      <th></th>\n      <th>date</th>\n      <th>dogecoin_unscaled</th>\n      <th>dogecoin_monthly</th>\n      <th>isPartial</th>\n      <th>scale</th>\n      <th>dogecoin</th>\n    </tr>\n  </thead>\n  <tbody>\n    <tr>\n      <th>8</th>\n      <td>2017-11-09</td>\n      <td>57</td>\n      <td>1.0</td>\n      <td>NaN</td>\n      <td>0.01</td>\n      <td>0.57</td>\n    </tr>\n    <tr>\n      <th>9</th>\n      <td>2017-11-10</td>\n      <td>24</td>\n      <td>1.0</td>\n      <td>NaN</td>\n      <td>0.01</td>\n      <td>0.24</td>\n    </tr>\n    <tr>\n      <th>10</th>\n      <td>2017-11-11</td>\n      <td>23</td>\n      <td>1.0</td>\n      <td>NaN</td>\n      <td>0.01</td>\n      <td>0.23</td>\n    </tr>\n    <tr>\n      <th>11</th>\n      <td>2017-11-12</td>\n      <td>23</td>\n      <td>1.0</td>\n      <td>False</td>\n      <td>0.01</td>\n      <td>0.23</td>\n    </tr>\n    <tr>\n      <th>12</th>\n      <td>2017-11-13</td>\n      <td>41</td>\n      <td>1.0</td>\n      <td>NaN</td>\n      <td>0.01</td>\n      <td>0.41</td>\n    </tr>\n    <tr>\n      <th>13</th>\n      <td>2017-11-14</td>\n      <td>45</td>\n      <td>1.0</td>\n      <td>NaN</td>\n      <td>0.01</td>\n      <td>0.45</td>\n    </tr>\n    <tr>\n      <th>14</th>\n      <td>2017-11-15</td>\n      <td>46</td>\n      <td>1.0</td>\n      <td>NaN</td>\n      <td>0.01</td>\n      <td>0.46</td>\n    </tr>\n    <tr>\n      <th>15</th>\n      <td>2017-11-16</td>\n      <td>31</td>\n      <td>1.0</td>\n      <td>NaN</td>\n      <td>0.01</td>\n      <td>0.31</td>\n    </tr>\n    <tr>\n      <th>16</th>\n      <td>2017-11-17</td>\n      <td>42</td>\n      <td>1.0</td>\n      <td>NaN</td>\n      <td>0.01</td>\n      <td>0.42</td>\n    </tr>\n    <tr>\n      <th>17</th>\n      <td>2017-11-18</td>\n      <td>29</td>\n      <td>1.0</td>\n      <td>NaN</td>\n      <td>0.01</td>\n      <td>0.29</td>\n    </tr>\n  </tbody>\n</table>\n</div>"
     },
     "execution_count": 14,
     "metadata": {},
     "output_type": "execute_result"
    }
   ],
   "source": [
    "#Odbacujem prvih 8 redova jer podaci o cenama krecu od 9.11.2017\n",
    "data_doge_google = data_doge_google.iloc[8:]\n",
    "data_doge_google.head(10)"
   ],
   "metadata": {
    "collapsed": false,
    "pycharm": {
     "name": "#%%\n"
    }
   }
  },
  {
   "cell_type": "code",
   "execution_count": 15,
   "outputs": [
    {
     "data": {
      "text/plain": "            date  dogecoin_unscaled  dogecoin_monthly isPartial  scale  \\\n1552  2022-01-31                 23               4.0       NaN   0.04   \n1553  2022-02-01                 93               4.0       NaN   0.04   \n1554  2022-02-02                 87               4.0       NaN   0.04   \n1555  2022-02-03                 82               4.0       NaN   0.04   \n1556  2022-02-04                100               4.0       NaN   0.04   \n\n      dogecoin  \n1552      0.92  \n1553      3.72  \n1554      3.48  \n1555      3.28  \n1556      4.00  ",
      "text/html": "<div>\n<style scoped>\n    .dataframe tbody tr th:only-of-type {\n        vertical-align: middle;\n    }\n\n    .dataframe tbody tr th {\n        vertical-align: top;\n    }\n\n    .dataframe thead th {\n        text-align: right;\n    }\n</style>\n<table border=\"1\" class=\"dataframe\">\n  <thead>\n    <tr style=\"text-align: right;\">\n      <th></th>\n      <th>date</th>\n      <th>dogecoin_unscaled</th>\n      <th>dogecoin_monthly</th>\n      <th>isPartial</th>\n      <th>scale</th>\n      <th>dogecoin</th>\n    </tr>\n  </thead>\n  <tbody>\n    <tr>\n      <th>1552</th>\n      <td>2022-01-31</td>\n      <td>23</td>\n      <td>4.0</td>\n      <td>NaN</td>\n      <td>0.04</td>\n      <td>0.92</td>\n    </tr>\n    <tr>\n      <th>1553</th>\n      <td>2022-02-01</td>\n      <td>93</td>\n      <td>4.0</td>\n      <td>NaN</td>\n      <td>0.04</td>\n      <td>3.72</td>\n    </tr>\n    <tr>\n      <th>1554</th>\n      <td>2022-02-02</td>\n      <td>87</td>\n      <td>4.0</td>\n      <td>NaN</td>\n      <td>0.04</td>\n      <td>3.48</td>\n    </tr>\n    <tr>\n      <th>1555</th>\n      <td>2022-02-03</td>\n      <td>82</td>\n      <td>4.0</td>\n      <td>NaN</td>\n      <td>0.04</td>\n      <td>3.28</td>\n    </tr>\n    <tr>\n      <th>1556</th>\n      <td>2022-02-04</td>\n      <td>100</td>\n      <td>4.0</td>\n      <td>NaN</td>\n      <td>0.04</td>\n      <td>4.00</td>\n    </tr>\n  </tbody>\n</table>\n</div>"
     },
     "execution_count": 15,
     "metadata": {},
     "output_type": "execute_result"
    }
   ],
   "source": [
    "data_doge_google.tail()"
   ],
   "metadata": {
    "collapsed": false,
    "pycharm": {
     "name": "#%%\n"
    }
   }
  },
  {
   "cell_type": "code",
   "execution_count": 16,
   "outputs": [
    {
     "data": {
      "text/plain": "         Date      Open      High       Low     Close  Adj Close   Volume\n0  09/11/2017  0.001207  0.001415  0.001181  0.001415   0.001415  6259550\n1  10/11/2017  0.001421  0.001431  0.001125  0.001163   0.001163  4246520\n2  11/11/2017  0.001146  0.001257  0.001141  0.001201   0.001201  2231080\n3  12/11/2017  0.001189  0.001210  0.001002  0.001038   0.001038  3288960\n4  13/11/2017  0.001046  0.001212  0.001019  0.001211   0.001211  2481270",
      "text/html": "<div>\n<style scoped>\n    .dataframe tbody tr th:only-of-type {\n        vertical-align: middle;\n    }\n\n    .dataframe tbody tr th {\n        vertical-align: top;\n    }\n\n    .dataframe thead th {\n        text-align: right;\n    }\n</style>\n<table border=\"1\" class=\"dataframe\">\n  <thead>\n    <tr style=\"text-align: right;\">\n      <th></th>\n      <th>Date</th>\n      <th>Open</th>\n      <th>High</th>\n      <th>Low</th>\n      <th>Close</th>\n      <th>Adj Close</th>\n      <th>Volume</th>\n    </tr>\n  </thead>\n  <tbody>\n    <tr>\n      <th>0</th>\n      <td>09/11/2017</td>\n      <td>0.001207</td>\n      <td>0.001415</td>\n      <td>0.001181</td>\n      <td>0.001415</td>\n      <td>0.001415</td>\n      <td>6259550</td>\n    </tr>\n    <tr>\n      <th>1</th>\n      <td>10/11/2017</td>\n      <td>0.001421</td>\n      <td>0.001431</td>\n      <td>0.001125</td>\n      <td>0.001163</td>\n      <td>0.001163</td>\n      <td>4246520</td>\n    </tr>\n    <tr>\n      <th>2</th>\n      <td>11/11/2017</td>\n      <td>0.001146</td>\n      <td>0.001257</td>\n      <td>0.001141</td>\n      <td>0.001201</td>\n      <td>0.001201</td>\n      <td>2231080</td>\n    </tr>\n    <tr>\n      <th>3</th>\n      <td>12/11/2017</td>\n      <td>0.001189</td>\n      <td>0.001210</td>\n      <td>0.001002</td>\n      <td>0.001038</td>\n      <td>0.001038</td>\n      <td>3288960</td>\n    </tr>\n    <tr>\n      <th>4</th>\n      <td>13/11/2017</td>\n      <td>0.001046</td>\n      <td>0.001212</td>\n      <td>0.001019</td>\n      <td>0.001211</td>\n      <td>0.001211</td>\n      <td>2481270</td>\n    </tr>\n  </tbody>\n</table>\n</div>"
     },
     "execution_count": 16,
     "metadata": {},
     "output_type": "execute_result"
    }
   ],
   "source": [
    "#Konvertujem datum u jedinstven format\n",
    "data_doge_usd['Date'] = pd.to_datetime(data_doge_usd['Date'])\n",
    "data_doge_usd['Date'] = data_doge_usd[\"Date\"].dt.strftime('%d/%m/%Y')\n",
    "data_doge_usd.head()"
   ],
   "metadata": {
    "collapsed": false,
    "pycharm": {
     "name": "#%%\n"
    }
   }
  },
  {
   "cell_type": "code",
   "execution_count": 17,
   "outputs": [
    {
     "data": {
      "text/plain": "          date  dogecoin_unscaled  dogecoin_monthly isPartial  scale  dogecoin\n8   09/11/2017                 57               1.0       NaN   0.01      0.57\n9   10/11/2017                 24               1.0       NaN   0.01      0.24\n10  11/11/2017                 23               1.0       NaN   0.01      0.23\n11  12/11/2017                 23               1.0     False   0.01      0.23\n12  13/11/2017                 41               1.0       NaN   0.01      0.41",
      "text/html": "<div>\n<style scoped>\n    .dataframe tbody tr th:only-of-type {\n        vertical-align: middle;\n    }\n\n    .dataframe tbody tr th {\n        vertical-align: top;\n    }\n\n    .dataframe thead th {\n        text-align: right;\n    }\n</style>\n<table border=\"1\" class=\"dataframe\">\n  <thead>\n    <tr style=\"text-align: right;\">\n      <th></th>\n      <th>date</th>\n      <th>dogecoin_unscaled</th>\n      <th>dogecoin_monthly</th>\n      <th>isPartial</th>\n      <th>scale</th>\n      <th>dogecoin</th>\n    </tr>\n  </thead>\n  <tbody>\n    <tr>\n      <th>8</th>\n      <td>09/11/2017</td>\n      <td>57</td>\n      <td>1.0</td>\n      <td>NaN</td>\n      <td>0.01</td>\n      <td>0.57</td>\n    </tr>\n    <tr>\n      <th>9</th>\n      <td>10/11/2017</td>\n      <td>24</td>\n      <td>1.0</td>\n      <td>NaN</td>\n      <td>0.01</td>\n      <td>0.24</td>\n    </tr>\n    <tr>\n      <th>10</th>\n      <td>11/11/2017</td>\n      <td>23</td>\n      <td>1.0</td>\n      <td>NaN</td>\n      <td>0.01</td>\n      <td>0.23</td>\n    </tr>\n    <tr>\n      <th>11</th>\n      <td>12/11/2017</td>\n      <td>23</td>\n      <td>1.0</td>\n      <td>False</td>\n      <td>0.01</td>\n      <td>0.23</td>\n    </tr>\n    <tr>\n      <th>12</th>\n      <td>13/11/2017</td>\n      <td>41</td>\n      <td>1.0</td>\n      <td>NaN</td>\n      <td>0.01</td>\n      <td>0.41</td>\n    </tr>\n  </tbody>\n</table>\n</div>"
     },
     "execution_count": 17,
     "metadata": {},
     "output_type": "execute_result"
    }
   ],
   "source": [
    "#Konvertujem datum u jedinstven format\n",
    "data_doge_google['date'] = pd.to_datetime(data_doge_google['date'], format='%Y-%m-%d')\n",
    "data_doge_google['date'] = data_doge_google[\"date\"].dt.strftime('%d/%m/%Y')\n",
    "data_doge_google.head()"
   ],
   "metadata": {
    "collapsed": false,
    "pycharm": {
     "name": "#%%\n"
    }
   }
  },
  {
   "cell_type": "code",
   "execution_count": 18,
   "outputs": [
    {
     "data": {
      "text/plain": "         date  facebook_likes  twitter_followers  reddit_average_posts_48h  \\\n0  09/11/2017             NaN           165257.0                     0.633   \n1  10/11/2017             NaN           165308.0                     0.833   \n2  11/11/2017             NaN           165363.0                     0.980   \n3  12/11/2017             NaN           165402.0                     1.102   \n4  13/11/2017             NaN                NaN                     1.277   \n\n   reddit_average_comments_48h  reddit_subscribers  \\\n0                        9.490             81680.0   \n1                       11.958             81723.0   \n2                       13.224             81772.0   \n3                       14.469             81831.0   \n4                       15.383             81878.0   \n\n   reddit_accounts_active_48h  forks   stars  subscribers  total_issues  \\\n0                       314.0  612.0  1391.0        225.0         395.0   \n1                       308.0    NaN     NaN          NaN           NaN   \n2                       312.0    NaN     NaN          NaN           NaN   \n3                       327.0    NaN     NaN          NaN           NaN   \n4                       331.0    NaN     NaN          NaN           NaN   \n\n   closed_issues  pull_requests_merged  pull_request_contributors  \\\n0          336.0                 732.0                       67.0   \n1            NaN                 732.0                       67.0   \n2            NaN                 732.0                       67.0   \n3            NaN                 732.0                       67.0   \n4            NaN                 732.0                       67.0   \n\n   commit_count_4_weeks  \n0                   0.0  \n1                   NaN  \n2                   NaN  \n3                   NaN  \n4                   NaN  ",
      "text/html": "<div>\n<style scoped>\n    .dataframe tbody tr th:only-of-type {\n        vertical-align: middle;\n    }\n\n    .dataframe tbody tr th {\n        vertical-align: top;\n    }\n\n    .dataframe thead th {\n        text-align: right;\n    }\n</style>\n<table border=\"1\" class=\"dataframe\">\n  <thead>\n    <tr style=\"text-align: right;\">\n      <th></th>\n      <th>date</th>\n      <th>facebook_likes</th>\n      <th>twitter_followers</th>\n      <th>reddit_average_posts_48h</th>\n      <th>reddit_average_comments_48h</th>\n      <th>reddit_subscribers</th>\n      <th>reddit_accounts_active_48h</th>\n      <th>forks</th>\n      <th>stars</th>\n      <th>subscribers</th>\n      <th>total_issues</th>\n      <th>closed_issues</th>\n      <th>pull_requests_merged</th>\n      <th>pull_request_contributors</th>\n      <th>commit_count_4_weeks</th>\n    </tr>\n  </thead>\n  <tbody>\n    <tr>\n      <th>0</th>\n      <td>09/11/2017</td>\n      <td>NaN</td>\n      <td>165257.0</td>\n      <td>0.633</td>\n      <td>9.490</td>\n      <td>81680.0</td>\n      <td>314.0</td>\n      <td>612.0</td>\n      <td>1391.0</td>\n      <td>225.0</td>\n      <td>395.0</td>\n      <td>336.0</td>\n      <td>732.0</td>\n      <td>67.0</td>\n      <td>0.0</td>\n    </tr>\n    <tr>\n      <th>1</th>\n      <td>10/11/2017</td>\n      <td>NaN</td>\n      <td>165308.0</td>\n      <td>0.833</td>\n      <td>11.958</td>\n      <td>81723.0</td>\n      <td>308.0</td>\n      <td>NaN</td>\n      <td>NaN</td>\n      <td>NaN</td>\n      <td>NaN</td>\n      <td>NaN</td>\n      <td>732.0</td>\n      <td>67.0</td>\n      <td>NaN</td>\n    </tr>\n    <tr>\n      <th>2</th>\n      <td>11/11/2017</td>\n      <td>NaN</td>\n      <td>165363.0</td>\n      <td>0.980</td>\n      <td>13.224</td>\n      <td>81772.0</td>\n      <td>312.0</td>\n      <td>NaN</td>\n      <td>NaN</td>\n      <td>NaN</td>\n      <td>NaN</td>\n      <td>NaN</td>\n      <td>732.0</td>\n      <td>67.0</td>\n      <td>NaN</td>\n    </tr>\n    <tr>\n      <th>3</th>\n      <td>12/11/2017</td>\n      <td>NaN</td>\n      <td>165402.0</td>\n      <td>1.102</td>\n      <td>14.469</td>\n      <td>81831.0</td>\n      <td>327.0</td>\n      <td>NaN</td>\n      <td>NaN</td>\n      <td>NaN</td>\n      <td>NaN</td>\n      <td>NaN</td>\n      <td>732.0</td>\n      <td>67.0</td>\n      <td>NaN</td>\n    </tr>\n    <tr>\n      <th>4</th>\n      <td>13/11/2017</td>\n      <td>NaN</td>\n      <td>NaN</td>\n      <td>1.277</td>\n      <td>15.383</td>\n      <td>81878.0</td>\n      <td>331.0</td>\n      <td>NaN</td>\n      <td>NaN</td>\n      <td>NaN</td>\n      <td>NaN</td>\n      <td>NaN</td>\n      <td>732.0</td>\n      <td>67.0</td>\n      <td>NaN</td>\n    </tr>\n  </tbody>\n</table>\n</div>"
     },
     "execution_count": 18,
     "metadata": {},
     "output_type": "execute_result"
    }
   ],
   "source": [
    "#Konvertujem datum u jedinstven format\n",
    "data_doge_stats['date'] = pd.to_datetime(data_doge_stats['date'],  format='%d-%m-%Y')\n",
    "data_doge_stats['date'] = data_doge_stats[\"date\"].dt.strftime('%d/%m/%Y')\n",
    "data_doge_stats.head()"
   ],
   "metadata": {
    "collapsed": false,
    "pycharm": {
     "name": "#%%\n"
    }
   }
  },
  {
   "cell_type": "code",
   "execution_count": 19,
   "outputs": [
    {
     "data": {
      "text/plain": "         Date      Open      High       Low     Close  Adj Close   Volume  \\\n0  09/11/2017  0.001207  0.001415  0.001181  0.001415   0.001415  6259550   \n1  10/11/2017  0.001421  0.001431  0.001125  0.001163   0.001163  4246520   \n2  11/11/2017  0.001146  0.001257  0.001141  0.001201   0.001201  2231080   \n3  12/11/2017  0.001189  0.001210  0.001002  0.001038   0.001038  3288960   \n4  13/11/2017  0.001046  0.001212  0.001019  0.001211   0.001211  2481270   \n\n         date  facebook_likes  twitter_followers  ...  reddit_subscribers  \\\n0  09/11/2017             NaN           165257.0  ...             81680.0   \n1  10/11/2017             NaN           165308.0  ...             81723.0   \n2  11/11/2017             NaN           165363.0  ...             81772.0   \n3  12/11/2017             NaN           165402.0  ...             81831.0   \n4  13/11/2017             NaN                NaN  ...             81878.0   \n\n   reddit_accounts_active_48h  forks   stars  subscribers  total_issues  \\\n0                       314.0  612.0  1391.0        225.0         395.0   \n1                       308.0    NaN     NaN          NaN           NaN   \n2                       312.0    NaN     NaN          NaN           NaN   \n3                       327.0    NaN     NaN          NaN           NaN   \n4                       331.0    NaN     NaN          NaN           NaN   \n\n   closed_issues  pull_requests_merged  pull_request_contributors  \\\n0          336.0                 732.0                       67.0   \n1            NaN                 732.0                       67.0   \n2            NaN                 732.0                       67.0   \n3            NaN                 732.0                       67.0   \n4            NaN                 732.0                       67.0   \n\n   commit_count_4_weeks  \n0                   0.0  \n1                   NaN  \n2                   NaN  \n3                   NaN  \n4                   NaN  \n\n[5 rows x 22 columns]",
      "text/html": "<div>\n<style scoped>\n    .dataframe tbody tr th:only-of-type {\n        vertical-align: middle;\n    }\n\n    .dataframe tbody tr th {\n        vertical-align: top;\n    }\n\n    .dataframe thead th {\n        text-align: right;\n    }\n</style>\n<table border=\"1\" class=\"dataframe\">\n  <thead>\n    <tr style=\"text-align: right;\">\n      <th></th>\n      <th>Date</th>\n      <th>Open</th>\n      <th>High</th>\n      <th>Low</th>\n      <th>Close</th>\n      <th>Adj Close</th>\n      <th>Volume</th>\n      <th>date</th>\n      <th>facebook_likes</th>\n      <th>twitter_followers</th>\n      <th>...</th>\n      <th>reddit_subscribers</th>\n      <th>reddit_accounts_active_48h</th>\n      <th>forks</th>\n      <th>stars</th>\n      <th>subscribers</th>\n      <th>total_issues</th>\n      <th>closed_issues</th>\n      <th>pull_requests_merged</th>\n      <th>pull_request_contributors</th>\n      <th>commit_count_4_weeks</th>\n    </tr>\n  </thead>\n  <tbody>\n    <tr>\n      <th>0</th>\n      <td>09/11/2017</td>\n      <td>0.001207</td>\n      <td>0.001415</td>\n      <td>0.001181</td>\n      <td>0.001415</td>\n      <td>0.001415</td>\n      <td>6259550</td>\n      <td>09/11/2017</td>\n      <td>NaN</td>\n      <td>165257.0</td>\n      <td>...</td>\n      <td>81680.0</td>\n      <td>314.0</td>\n      <td>612.0</td>\n      <td>1391.0</td>\n      <td>225.0</td>\n      <td>395.0</td>\n      <td>336.0</td>\n      <td>732.0</td>\n      <td>67.0</td>\n      <td>0.0</td>\n    </tr>\n    <tr>\n      <th>1</th>\n      <td>10/11/2017</td>\n      <td>0.001421</td>\n      <td>0.001431</td>\n      <td>0.001125</td>\n      <td>0.001163</td>\n      <td>0.001163</td>\n      <td>4246520</td>\n      <td>10/11/2017</td>\n      <td>NaN</td>\n      <td>165308.0</td>\n      <td>...</td>\n      <td>81723.0</td>\n      <td>308.0</td>\n      <td>NaN</td>\n      <td>NaN</td>\n      <td>NaN</td>\n      <td>NaN</td>\n      <td>NaN</td>\n      <td>732.0</td>\n      <td>67.0</td>\n      <td>NaN</td>\n    </tr>\n    <tr>\n      <th>2</th>\n      <td>11/11/2017</td>\n      <td>0.001146</td>\n      <td>0.001257</td>\n      <td>0.001141</td>\n      <td>0.001201</td>\n      <td>0.001201</td>\n      <td>2231080</td>\n      <td>11/11/2017</td>\n      <td>NaN</td>\n      <td>165363.0</td>\n      <td>...</td>\n      <td>81772.0</td>\n      <td>312.0</td>\n      <td>NaN</td>\n      <td>NaN</td>\n      <td>NaN</td>\n      <td>NaN</td>\n      <td>NaN</td>\n      <td>732.0</td>\n      <td>67.0</td>\n      <td>NaN</td>\n    </tr>\n    <tr>\n      <th>3</th>\n      <td>12/11/2017</td>\n      <td>0.001189</td>\n      <td>0.001210</td>\n      <td>0.001002</td>\n      <td>0.001038</td>\n      <td>0.001038</td>\n      <td>3288960</td>\n      <td>12/11/2017</td>\n      <td>NaN</td>\n      <td>165402.0</td>\n      <td>...</td>\n      <td>81831.0</td>\n      <td>327.0</td>\n      <td>NaN</td>\n      <td>NaN</td>\n      <td>NaN</td>\n      <td>NaN</td>\n      <td>NaN</td>\n      <td>732.0</td>\n      <td>67.0</td>\n      <td>NaN</td>\n    </tr>\n    <tr>\n      <th>4</th>\n      <td>13/11/2017</td>\n      <td>0.001046</td>\n      <td>0.001212</td>\n      <td>0.001019</td>\n      <td>0.001211</td>\n      <td>0.001211</td>\n      <td>2481270</td>\n      <td>13/11/2017</td>\n      <td>NaN</td>\n      <td>NaN</td>\n      <td>...</td>\n      <td>81878.0</td>\n      <td>331.0</td>\n      <td>NaN</td>\n      <td>NaN</td>\n      <td>NaN</td>\n      <td>NaN</td>\n      <td>NaN</td>\n      <td>732.0</td>\n      <td>67.0</td>\n      <td>NaN</td>\n    </tr>\n  </tbody>\n</table>\n<p>5 rows × 22 columns</p>\n</div>"
     },
     "execution_count": 19,
     "metadata": {},
     "output_type": "execute_result"
    }
   ],
   "source": [
    "merged_doge=pd.merge(data_doge_usd,data_doge_stats, how='inner', left_index=True, right_index=True)\n",
    "merged_doge.head()"
   ],
   "metadata": {
    "collapsed": false,
    "pycharm": {
     "name": "#%%\n"
    }
   }
  },
  {
   "cell_type": "code",
   "execution_count": 20,
   "outputs": [
    {
     "data": {
      "text/plain": "          Date      Open      High       Low     Close  Adj Close   Volume  \\\n8   17/11/2017  0.001381  0.001394  0.001274  0.001313   0.001313  2787480   \n9   18/11/2017  0.001308  0.001385  0.001254  0.001373   0.001373  1648260   \n10  19/11/2017  0.001355  0.001421  0.001340  0.001376   0.001376  1431720   \n11  20/11/2017  0.001374  0.001428  0.001348  0.001394   0.001394  2141360   \n12  21/11/2017  0.001410  0.001446  0.001302  0.001389   0.001389  3047660   \n\n        date_x  facebook_likes  twitter_followers  ...  closed_issues  \\\n8   17/11/2017             NaN           165659.0  ...          336.0   \n9   18/11/2017             NaN           165692.0  ...          336.0   \n10  19/11/2017             NaN           165743.0  ...          336.0   \n11  20/11/2017             NaN           165813.0  ...          336.0   \n12  21/11/2017             NaN           165859.0  ...          336.0   \n\n    pull_requests_merged  pull_request_contributors  commit_count_4_weeks  \\\n8                  732.0                       67.0                   0.0   \n9                  732.0                       67.0                   0.0   \n10                 732.0                       67.0                   0.0   \n11                 732.0                       67.0                   5.0   \n12                 734.0                       67.0                   5.0   \n\n        date_y  dogecoin_unscaled  dogecoin_monthly  isPartial  scale  \\\n8   09/11/2017                 57               1.0        NaN   0.01   \n9   10/11/2017                 24               1.0        NaN   0.01   \n10  11/11/2017                 23               1.0        NaN   0.01   \n11  12/11/2017                 23               1.0      False   0.01   \n12  13/11/2017                 41               1.0        NaN   0.01   \n\n    dogecoin  \n8       0.57  \n9       0.24  \n10      0.23  \n11      0.23  \n12      0.41  \n\n[5 rows x 28 columns]",
      "text/html": "<div>\n<style scoped>\n    .dataframe tbody tr th:only-of-type {\n        vertical-align: middle;\n    }\n\n    .dataframe tbody tr th {\n        vertical-align: top;\n    }\n\n    .dataframe thead th {\n        text-align: right;\n    }\n</style>\n<table border=\"1\" class=\"dataframe\">\n  <thead>\n    <tr style=\"text-align: right;\">\n      <th></th>\n      <th>Date</th>\n      <th>Open</th>\n      <th>High</th>\n      <th>Low</th>\n      <th>Close</th>\n      <th>Adj Close</th>\n      <th>Volume</th>\n      <th>date_x</th>\n      <th>facebook_likes</th>\n      <th>twitter_followers</th>\n      <th>...</th>\n      <th>closed_issues</th>\n      <th>pull_requests_merged</th>\n      <th>pull_request_contributors</th>\n      <th>commit_count_4_weeks</th>\n      <th>date_y</th>\n      <th>dogecoin_unscaled</th>\n      <th>dogecoin_monthly</th>\n      <th>isPartial</th>\n      <th>scale</th>\n      <th>dogecoin</th>\n    </tr>\n  </thead>\n  <tbody>\n    <tr>\n      <th>8</th>\n      <td>17/11/2017</td>\n      <td>0.001381</td>\n      <td>0.001394</td>\n      <td>0.001274</td>\n      <td>0.001313</td>\n      <td>0.001313</td>\n      <td>2787480</td>\n      <td>17/11/2017</td>\n      <td>NaN</td>\n      <td>165659.0</td>\n      <td>...</td>\n      <td>336.0</td>\n      <td>732.0</td>\n      <td>67.0</td>\n      <td>0.0</td>\n      <td>09/11/2017</td>\n      <td>57</td>\n      <td>1.0</td>\n      <td>NaN</td>\n      <td>0.01</td>\n      <td>0.57</td>\n    </tr>\n    <tr>\n      <th>9</th>\n      <td>18/11/2017</td>\n      <td>0.001308</td>\n      <td>0.001385</td>\n      <td>0.001254</td>\n      <td>0.001373</td>\n      <td>0.001373</td>\n      <td>1648260</td>\n      <td>18/11/2017</td>\n      <td>NaN</td>\n      <td>165692.0</td>\n      <td>...</td>\n      <td>336.0</td>\n      <td>732.0</td>\n      <td>67.0</td>\n      <td>0.0</td>\n      <td>10/11/2017</td>\n      <td>24</td>\n      <td>1.0</td>\n      <td>NaN</td>\n      <td>0.01</td>\n      <td>0.24</td>\n    </tr>\n    <tr>\n      <th>10</th>\n      <td>19/11/2017</td>\n      <td>0.001355</td>\n      <td>0.001421</td>\n      <td>0.001340</td>\n      <td>0.001376</td>\n      <td>0.001376</td>\n      <td>1431720</td>\n      <td>19/11/2017</td>\n      <td>NaN</td>\n      <td>165743.0</td>\n      <td>...</td>\n      <td>336.0</td>\n      <td>732.0</td>\n      <td>67.0</td>\n      <td>0.0</td>\n      <td>11/11/2017</td>\n      <td>23</td>\n      <td>1.0</td>\n      <td>NaN</td>\n      <td>0.01</td>\n      <td>0.23</td>\n    </tr>\n    <tr>\n      <th>11</th>\n      <td>20/11/2017</td>\n      <td>0.001374</td>\n      <td>0.001428</td>\n      <td>0.001348</td>\n      <td>0.001394</td>\n      <td>0.001394</td>\n      <td>2141360</td>\n      <td>20/11/2017</td>\n      <td>NaN</td>\n      <td>165813.0</td>\n      <td>...</td>\n      <td>336.0</td>\n      <td>732.0</td>\n      <td>67.0</td>\n      <td>5.0</td>\n      <td>12/11/2017</td>\n      <td>23</td>\n      <td>1.0</td>\n      <td>False</td>\n      <td>0.01</td>\n      <td>0.23</td>\n    </tr>\n    <tr>\n      <th>12</th>\n      <td>21/11/2017</td>\n      <td>0.001410</td>\n      <td>0.001446</td>\n      <td>0.001302</td>\n      <td>0.001389</td>\n      <td>0.001389</td>\n      <td>3047660</td>\n      <td>21/11/2017</td>\n      <td>NaN</td>\n      <td>165859.0</td>\n      <td>...</td>\n      <td>336.0</td>\n      <td>734.0</td>\n      <td>67.0</td>\n      <td>5.0</td>\n      <td>13/11/2017</td>\n      <td>41</td>\n      <td>1.0</td>\n      <td>NaN</td>\n      <td>0.01</td>\n      <td>0.41</td>\n    </tr>\n  </tbody>\n</table>\n<p>5 rows × 28 columns</p>\n</div>"
     },
     "execution_count": 20,
     "metadata": {},
     "output_type": "execute_result"
    }
   ],
   "source": [
    "merged_doge = pd.merge(merged_doge, data_doge_google, how='inner', left_index=True, right_index=True)\n",
    "merged_doge.head()"
   ],
   "metadata": {
    "collapsed": false,
    "pycharm": {
     "name": "#%%\n"
    }
   }
  },
  {
   "cell_type": "code",
   "execution_count": 22,
   "outputs": [
    {
     "name": "stdout",
     "output_type": "stream",
     "text": [
      "<class 'pandas.core.frame.DataFrame'>\n",
      "Int64Index: 1541 entries, 8 to 1548\n",
      "Data columns (total 28 columns):\n",
      " #   Column                       Non-Null Count  Dtype  \n",
      "---  ------                       --------------  -----  \n",
      " 0   Date                         1541 non-null   object \n",
      " 1   Open                         1541 non-null   float64\n",
      " 2   High                         1541 non-null   float64\n",
      " 3   Low                          1541 non-null   float64\n",
      " 4   Close                        1541 non-null   float64\n",
      " 5   Adj Close                    1541 non-null   float64\n",
      " 6   Volume                       1541 non-null   int64  \n",
      " 7   date_x                       1541 non-null   object \n",
      " 8   facebook_likes               0 non-null      float64\n",
      " 9   twitter_followers            1504 non-null   float64\n",
      " 10  reddit_average_posts_48h     1541 non-null   float64\n",
      " 11  reddit_average_comments_48h  1541 non-null   float64\n",
      " 12  reddit_subscribers           1531 non-null   float64\n",
      " 13  reddit_accounts_active_48h   1531 non-null   float64\n",
      " 14  forks                        1522 non-null   float64\n",
      " 15  stars                        1522 non-null   float64\n",
      " 16  subscribers                  1522 non-null   float64\n",
      " 17  total_issues                 1522 non-null   float64\n",
      " 18  closed_issues                1522 non-null   float64\n",
      " 19  pull_requests_merged         1525 non-null   float64\n",
      " 20  pull_request_contributors    1525 non-null   float64\n",
      " 21  commit_count_4_weeks         1524 non-null   float64\n",
      " 22  date_y                       1541 non-null   object \n",
      " 23  dogecoin_unscaled            1541 non-null   int64  \n",
      " 24  dogecoin_monthly             1541 non-null   float64\n",
      " 25  isPartial                    220 non-null    object \n",
      " 26  scale                        1541 non-null   float64\n",
      " 27  dogecoin                     1541 non-null   float64\n",
      "dtypes: float64(22), int64(2), object(4)\n",
      "memory usage: 349.1+ KB\n"
     ]
    }
   ],
   "source": [
    "merged_doge.info()"
   ],
   "metadata": {
    "collapsed": false,
    "pycharm": {
     "name": "#%%\n"
    }
   }
  },
  {
   "cell_type": "code",
   "execution_count": 23,
   "outputs": [
    {
     "name": "stdout",
     "output_type": "stream",
     "text": [
      "<class 'pandas.core.frame.DataFrame'>\n",
      "Int64Index: 1541 entries, 8 to 1548\n",
      "Data columns (total 26 columns):\n",
      " #   Column                       Non-Null Count  Dtype  \n",
      "---  ------                       --------------  -----  \n",
      " 0   Date                         1541 non-null   object \n",
      " 1   Open                         1541 non-null   float64\n",
      " 2   High                         1541 non-null   float64\n",
      " 3   Low                          1541 non-null   float64\n",
      " 4   Close                        1541 non-null   float64\n",
      " 5   Adj Close                    1541 non-null   float64\n",
      " 6   Volume                       1541 non-null   int64  \n",
      " 7   facebook_likes               0 non-null      float64\n",
      " 8   twitter_followers            1504 non-null   float64\n",
      " 9   reddit_average_posts_48h     1541 non-null   float64\n",
      " 10  reddit_average_comments_48h  1541 non-null   float64\n",
      " 11  reddit_subscribers           1531 non-null   float64\n",
      " 12  reddit_accounts_active_48h   1531 non-null   float64\n",
      " 13  forks                        1522 non-null   float64\n",
      " 14  stars                        1522 non-null   float64\n",
      " 15  subscribers                  1522 non-null   float64\n",
      " 16  total_issues                 1522 non-null   float64\n",
      " 17  closed_issues                1522 non-null   float64\n",
      " 18  pull_requests_merged         1525 non-null   float64\n",
      " 19  pull_request_contributors    1525 non-null   float64\n",
      " 20  commit_count_4_weeks         1524 non-null   float64\n",
      " 21  dogecoin_unscaled            1541 non-null   int64  \n",
      " 22  dogecoin_monthly             1541 non-null   float64\n",
      " 23  isPartial                    220 non-null    object \n",
      " 24  scale                        1541 non-null   float64\n",
      " 25  dogecoin                     1541 non-null   float64\n",
      "dtypes: float64(22), int64(2), object(2)\n",
      "memory usage: 325.1+ KB\n"
     ]
    }
   ],
   "source": [
    "del merged_doge['date_x']\n",
    "del merged_doge['date_y']\n",
    "\n",
    "merged_doge.info()"
   ],
   "metadata": {
    "collapsed": false,
    "pycharm": {
     "name": "#%%\n"
    }
   }
  }
 ],
 "metadata": {
  "kernelspec": {
   "display_name": "Python 3",
   "language": "python",
   "name": "python3"
  }
 },
 "nbformat": 4,
 "nbformat_minor": 5
}