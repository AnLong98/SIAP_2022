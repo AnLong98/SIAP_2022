{
 "cells": [
  {
   "cell_type": "code",
   "execution_count": 54,
   "metadata": {
    "collapsed": true
   },
   "outputs": [],
   "source": [
    "import pandas as pd\n",
    "import numpy as np"
   ]
  },
  {
   "cell_type": "code",
   "execution_count": 55,
   "outputs": [
    {
     "name": "stdout",
     "output_type": "stream",
     "text": [
      "Shape of data (1546, 23)\n"
     ]
    },
    {
     "data": {
      "text/plain": "                Open      High       Low     Close  Adj Close   Volume  \\\nDate                                                                     \n2017-11-09  0.001207  0.001415  0.001181  0.001415   0.001415  6259550   \n2017-11-10  0.001421  0.001431  0.001125  0.001163   0.001163  4246520   \n2017-11-11  0.001146  0.001257  0.001141  0.001201   0.001201  2231080   \n2017-11-12  0.001189  0.001210  0.001002  0.001038   0.001038  3288960   \n2017-11-13  0.001046  0.001212  0.001019  0.001211   0.001211  2481270   \n\n            twitter_followers  reddit_average_posts_48h  \\\nDate                                                      \n2017-11-09      165257.000000                     0.633   \n2017-11-10      165308.000000                     0.833   \n2017-11-11      165363.000000                     0.980   \n2017-11-12      165402.000000                     1.102   \n2017-11-13      165452.666667                     1.277   \n\n            reddit_average_comments_48h  reddit_subscribers  ...  subscribers  \\\nDate                                                         ...                \n2017-11-09                        9.490             81680.0  ...        225.0   \n2017-11-10                       11.958             81723.0  ...        225.0   \n2017-11-11                       13.224             81772.0  ...        225.0   \n2017-11-12                       14.469             81831.0  ...        225.0   \n2017-11-13                       15.383             81878.0  ...        225.0   \n\n            total_issues  closed_issues  pull_requests_merged  \\\nDate                                                            \n2017-11-09    395.000000          336.0                 732.0   \n2017-11-10    395.166667          336.0                 732.0   \n2017-11-11    395.333333          336.0                 732.0   \n2017-11-12    395.500000          336.0                 732.0   \n2017-11-13    395.666667          336.0                 732.0   \n\n            pull_request_contributors  commit_count_4_weeks  \\\nDate                                                          \n2017-11-09                       67.0                   0.0   \n2017-11-10                       67.0                   0.0   \n2017-11-11                       67.0                   0.0   \n2017-11-12                       67.0                   0.0   \n2017-11-13                       67.0                   0.0   \n\n            dogecoin_unscaled  dogecoin_monthly  scale  dogecoin  \nDate                                                              \n2017-11-09                 57               1.0   0.01      0.57  \n2017-11-10                 24               1.0   0.01      0.24  \n2017-11-11                 23               1.0   0.01      0.23  \n2017-11-12                 23               1.0   0.01      0.23  \n2017-11-13                 41               1.0   0.01      0.41  \n\n[5 rows x 23 columns]",
      "text/html": "<div>\n<style scoped>\n    .dataframe tbody tr th:only-of-type {\n        vertical-align: middle;\n    }\n\n    .dataframe tbody tr th {\n        vertical-align: top;\n    }\n\n    .dataframe thead th {\n        text-align: right;\n    }\n</style>\n<table border=\"1\" class=\"dataframe\">\n  <thead>\n    <tr style=\"text-align: right;\">\n      <th></th>\n      <th>Open</th>\n      <th>High</th>\n      <th>Low</th>\n      <th>Close</th>\n      <th>Adj Close</th>\n      <th>Volume</th>\n      <th>twitter_followers</th>\n      <th>reddit_average_posts_48h</th>\n      <th>reddit_average_comments_48h</th>\n      <th>reddit_subscribers</th>\n      <th>...</th>\n      <th>subscribers</th>\n      <th>total_issues</th>\n      <th>closed_issues</th>\n      <th>pull_requests_merged</th>\n      <th>pull_request_contributors</th>\n      <th>commit_count_4_weeks</th>\n      <th>dogecoin_unscaled</th>\n      <th>dogecoin_monthly</th>\n      <th>scale</th>\n      <th>dogecoin</th>\n    </tr>\n    <tr>\n      <th>Date</th>\n      <th></th>\n      <th></th>\n      <th></th>\n      <th></th>\n      <th></th>\n      <th></th>\n      <th></th>\n      <th></th>\n      <th></th>\n      <th></th>\n      <th></th>\n      <th></th>\n      <th></th>\n      <th></th>\n      <th></th>\n      <th></th>\n      <th></th>\n      <th></th>\n      <th></th>\n      <th></th>\n      <th></th>\n    </tr>\n  </thead>\n  <tbody>\n    <tr>\n      <th>2017-11-09</th>\n      <td>0.001207</td>\n      <td>0.001415</td>\n      <td>0.001181</td>\n      <td>0.001415</td>\n      <td>0.001415</td>\n      <td>6259550</td>\n      <td>165257.000000</td>\n      <td>0.633</td>\n      <td>9.490</td>\n      <td>81680.0</td>\n      <td>...</td>\n      <td>225.0</td>\n      <td>395.000000</td>\n      <td>336.0</td>\n      <td>732.0</td>\n      <td>67.0</td>\n      <td>0.0</td>\n      <td>57</td>\n      <td>1.0</td>\n      <td>0.01</td>\n      <td>0.57</td>\n    </tr>\n    <tr>\n      <th>2017-11-10</th>\n      <td>0.001421</td>\n      <td>0.001431</td>\n      <td>0.001125</td>\n      <td>0.001163</td>\n      <td>0.001163</td>\n      <td>4246520</td>\n      <td>165308.000000</td>\n      <td>0.833</td>\n      <td>11.958</td>\n      <td>81723.0</td>\n      <td>...</td>\n      <td>225.0</td>\n      <td>395.166667</td>\n      <td>336.0</td>\n      <td>732.0</td>\n      <td>67.0</td>\n      <td>0.0</td>\n      <td>24</td>\n      <td>1.0</td>\n      <td>0.01</td>\n      <td>0.24</td>\n    </tr>\n    <tr>\n      <th>2017-11-11</th>\n      <td>0.001146</td>\n      <td>0.001257</td>\n      <td>0.001141</td>\n      <td>0.001201</td>\n      <td>0.001201</td>\n      <td>2231080</td>\n      <td>165363.000000</td>\n      <td>0.980</td>\n      <td>13.224</td>\n      <td>81772.0</td>\n      <td>...</td>\n      <td>225.0</td>\n      <td>395.333333</td>\n      <td>336.0</td>\n      <td>732.0</td>\n      <td>67.0</td>\n      <td>0.0</td>\n      <td>23</td>\n      <td>1.0</td>\n      <td>0.01</td>\n      <td>0.23</td>\n    </tr>\n    <tr>\n      <th>2017-11-12</th>\n      <td>0.001189</td>\n      <td>0.001210</td>\n      <td>0.001002</td>\n      <td>0.001038</td>\n      <td>0.001038</td>\n      <td>3288960</td>\n      <td>165402.000000</td>\n      <td>1.102</td>\n      <td>14.469</td>\n      <td>81831.0</td>\n      <td>...</td>\n      <td>225.0</td>\n      <td>395.500000</td>\n      <td>336.0</td>\n      <td>732.0</td>\n      <td>67.0</td>\n      <td>0.0</td>\n      <td>23</td>\n      <td>1.0</td>\n      <td>0.01</td>\n      <td>0.23</td>\n    </tr>\n    <tr>\n      <th>2017-11-13</th>\n      <td>0.001046</td>\n      <td>0.001212</td>\n      <td>0.001019</td>\n      <td>0.001211</td>\n      <td>0.001211</td>\n      <td>2481270</td>\n      <td>165452.666667</td>\n      <td>1.277</td>\n      <td>15.383</td>\n      <td>81878.0</td>\n      <td>...</td>\n      <td>225.0</td>\n      <td>395.666667</td>\n      <td>336.0</td>\n      <td>732.0</td>\n      <td>67.0</td>\n      <td>0.0</td>\n      <td>41</td>\n      <td>1.0</td>\n      <td>0.01</td>\n      <td>0.41</td>\n    </tr>\n  </tbody>\n</table>\n<p>5 rows × 23 columns</p>\n</div>"
     },
     "execution_count": 55,
     "metadata": {},
     "output_type": "execute_result"
    }
   ],
   "source": [
    "df=pd.read_csv('../doge_v1.csv',index_col='Date',parse_dates=True)\n",
    "print('Shape of data',df.shape)\n",
    "df.head()"
   ],
   "metadata": {
    "collapsed": false,
    "pycharm": {
     "name": "#%%\n"
    }
   }
  },
  {
   "cell_type": "code",
   "source": [
    "df['Close'].plot(figsize=(15,5))\n",
    "\n"
   ],
   "metadata": {
    "collapsed": false,
    "pycharm": {
     "name": "#%%\n"
    }
   },
   "execution_count": 56,
   "outputs": [
    {
     "data": {
      "text/plain": "<AxesSubplot:xlabel='Date'>"
     },
     "execution_count": 56,
     "metadata": {},
     "output_type": "execute_result"
    },
    {
     "data": {
      "text/plain": "<Figure size 1080x360 with 1 Axes>",
      "image/png": "[encoded data removed]"
     },
     "metadata": {
      "needs_background": "light"
     },
     "output_type": "display_data"
    }
   ]
  },
  {
   "cell_type": "code",
   "execution_count": 57,
   "outputs": [],
   "source": [
    "from statsmodels.tsa.stattools import adfuller\n",
    "\n",
    "def adf_test(dataset):\n",
    "  dftest = adfuller(dataset, autolag = 'AIC')\n",
    "  print(\"1. ADF : \",dftest[0])\n",
    "  print(\"2. P-Value : \", dftest[1])\n",
    "  print(\"3. Num Of Lags : \", dftest[2])\n",
    "  print(\"4. Num Of Observations Used For ADF Regression and Critical Values Calculation :\", dftest[3])\n",
    "  print(\"5. Critical Values :\")\n",
    "  for key, val in dftest[4].items():\n",
    "      print(\"\\t\",key, \": \", val)\n"
   ],
   "metadata": {
    "collapsed": false,
    "pycharm": {
     "name": "#%%\n"
    }
   }
  },
  {
   "cell_type": "code",
   "execution_count": 58,
   "outputs": [
    {
     "name": "stdout",
     "output_type": "stream",
     "text": [
      "1. ADF :  -2.0148812101904006\n",
      "2. P-Value :  0.28008656512652075\n",
      "3. Num Of Lags :  21\n",
      "4. Num Of Observations Used For ADF Regression and Critical Values Calculation : 1524\n",
      "5. Critical Values :\n",
      "\t 1% :  -3.4346481290263013\n",
      "\t 5% :  -2.8634383565975736\n",
      "\t 10% :  -2.567780658251872\n"
     ]
    }
   ],
   "source": [
    "adf_test(df['Close'])"
   ],
   "metadata": {
    "collapsed": false,
    "pycharm": {
     "name": "#%%\n"
    }
   }
  },
  {
   "cell_type": "code",
   "execution_count": 59,
   "outputs": [
    {
     "name": "stdout",
     "output_type": "stream",
     "text": [
      "Performing stepwise search to minimize aic\n",
      " ARIMA(2,1,2)(0,0,0)[0] intercept   : AIC=-9247.819, Time=7.72 sec\n",
      " ARIMA(0,1,0)(0,0,0)[0] intercept   : AIC=-9213.910, Time=0.93 sec\n",
      " ARIMA(1,1,0)(0,0,0)[0] intercept   : AIC=-9213.980, Time=1.10 sec\n",
      " ARIMA(0,1,1)(0,0,0)[0] intercept   : AIC=-9213.648, Time=1.39 sec\n",
      " ARIMA(0,1,0)(0,0,0)[0]             : AIC=-9215.825, Time=0.24 sec\n",
      " ARIMA(1,1,2)(0,0,0)[0] intercept   : AIC=-9230.970, Time=5.83 sec\n",
      " ARIMA(2,1,1)(0,0,0)[0] intercept   : AIC=-9220.133, Time=0.85 sec\n",
      " ARIMA(3,1,2)(0,0,0)[0] intercept   : AIC=-9271.104, Time=8.75 sec\n",
      " ARIMA(3,1,1)(0,0,0)[0] intercept   : AIC=-9224.054, Time=3.03 sec\n",
      " ARIMA(4,1,2)(0,0,0)[0] intercept   : AIC=-9272.422, Time=5.45 sec\n",
      " ARIMA(4,1,1)(0,0,0)[0] intercept   : AIC=-9271.374, Time=1.47 sec\n",
      " ARIMA(5,1,2)(0,0,0)[0] intercept   : AIC=-9271.675, Time=4.03 sec\n",
      " ARIMA(4,1,3)(0,0,0)[0] intercept   : AIC=-9275.480, Time=1.99 sec\n",
      " ARIMA(3,1,3)(0,0,0)[0] intercept   : AIC=-9270.622, Time=9.59 sec\n",
      " ARIMA(5,1,3)(0,0,0)[0] intercept   : AIC=-9269.876, Time=10.87 sec\n",
      " ARIMA(4,1,4)(0,0,0)[0] intercept   : AIC=-9265.005, Time=8.64 sec\n",
      " ARIMA(3,1,4)(0,0,0)[0] intercept   : AIC=-9265.579, Time=8.52 sec\n",
      " ARIMA(5,1,4)(0,0,0)[0] intercept   : AIC=-9266.236, Time=9.61 sec\n",
      " ARIMA(4,1,3)(0,0,0)[0]             : AIC=-9277.359, Time=1.31 sec\n",
      " ARIMA(3,1,3)(0,0,0)[0]             : AIC=-9272.647, Time=4.40 sec\n",
      " ARIMA(4,1,2)(0,0,0)[0]             : AIC=-9274.360, Time=3.56 sec\n",
      " ARIMA(5,1,3)(0,0,0)[0]             : AIC=-9272.593, Time=5.81 sec\n",
      " ARIMA(4,1,4)(0,0,0)[0]             : AIC=-9266.889, Time=3.87 sec\n",
      " ARIMA(3,1,2)(0,0,0)[0]             : AIC=-9267.041, Time=3.56 sec\n",
      " ARIMA(3,1,4)(0,0,0)[0]             : AIC=-9280.394, Time=5.40 sec\n",
      " ARIMA(2,1,4)(0,0,0)[0]             : AIC=-9271.212, Time=0.86 sec\n",
      " ARIMA(3,1,5)(0,0,0)[0]             : AIC=-9285.495, Time=2.41 sec\n",
      " ARIMA(2,1,5)(0,0,0)[0]             : AIC=-9278.309, Time=6.86 sec\n",
      " ARIMA(4,1,5)(0,0,0)[0]             : AIC=-9286.897, Time=7.97 sec\n",
      " ARIMA(5,1,5)(0,0,0)[0]             : AIC=-9301.814, Time=8.69 sec\n",
      " ARIMA(5,1,4)(0,0,0)[0]             : AIC=-9269.009, Time=8.30 sec\n",
      " ARIMA(5,1,5)(0,0,0)[0] intercept   : AIC=-9282.829, Time=18.53 sec\n",
      "\n",
      "Best model:  ARIMA(5,1,5)(0,0,0)[0]          \n",
      "Total fit time: 171.700 seconds\n"
     ]
    },
    {
     "data": {
      "text/plain": "<class 'statsmodels.iolib.summary.Summary'>\n\"\"\"\n                               SARIMAX Results                                \n==============================================================================\nDep. Variable:                      y   No. Observations:                 1546\nModel:               SARIMAX(5, 1, 5)   Log Likelihood                4661.907\nDate:                Tue, 15 Feb 2022   AIC                          -9301.814\nTime:                        23:44:09   BIC                          -9243.044\nSample:                             0   HQIC                         -9279.952\n                               - 1546                                         \nCovariance Type:                  opg                                         \n==============================================================================\n                 coef    std err          z      P>|z|      [0.025      0.975]\n------------------------------------------------------------------------------\nar.L1         -0.2804      0.127     -2.205      0.027      -0.530      -0.031\nar.L2          0.1391      0.040      3.491      0.000       0.061       0.217\nar.L3         -0.1868      0.023     -8.287      0.000      -0.231      -0.143\nar.L4         -0.5495      0.037    -14.683      0.000      -0.623      -0.476\nar.L5         -0.4707      0.075     -6.245      0.000      -0.618      -0.323\nma.L1          0.2202      0.128      1.726      0.084      -0.030       0.470\nma.L2         -0.0747      0.050     -1.504      0.133      -0.172       0.023\nma.L3          0.2301      0.024      9.623      0.000       0.183       0.277\nma.L4          0.3755      0.038      9.810      0.000       0.300       0.451\nma.L5          0.4216      0.058      7.230      0.000       0.307       0.536\nsigma2         0.0001    1.2e-06    116.863      0.000       0.000       0.000\n===================================================================================\nLjung-Box (L1) (Q):                   0.00   Jarque-Bera (JB):            266330.03\nProb(Q):                              0.97   Prob(JB):                         0.00\nHeteroskedasticity (H):            2117.94   Skew:                            -1.51\nProb(H) (two-sided):                  0.00   Kurtosis:                        67.25\n===================================================================================\n\nWarnings:\n[1] Covariance matrix calculated using the outer product of gradients (complex-step).\n\"\"\"",
      "text/html": "<table class=\"simpletable\">\n<caption>SARIMAX Results</caption>\n<tr>\n  <th>Dep. Variable:</th>           <td>y</td>        <th>  No. Observations:  </th>   <td>1546</td>   \n</tr>\n<tr>\n  <th>Model:</th>           <td>SARIMAX(5, 1, 5)</td> <th>  Log Likelihood     </th> <td>4661.907</td> \n</tr>\n<tr>\n  <th>Date:</th>            <td>Tue, 15 Feb 2022</td> <th>  AIC                </th> <td>-9301.814</td>\n</tr>\n<tr>\n  <th>Time:</th>                <td>23:44:09</td>     <th>  BIC                </th> <td>-9243.044</td>\n</tr>\n<tr>\n  <th>Sample:</th>                  <td>0</td>        <th>  HQIC               </th> <td>-9279.952</td>\n</tr>\n<tr>\n  <th></th>                      <td> - 1546</td>     <th>                     </th>     <td> </td>    \n</tr>\n<tr>\n  <th>Covariance Type:</th>        <td>opg</td>       <th>                     </th>     <td> </td>    \n</tr>\n</table>\n<table class=\"simpletable\">\n<tr>\n     <td></td>       <th>coef</th>     <th>std err</th>      <th>z</th>      <th>P>|z|</th>  <th>[0.025</th>    <th>0.975]</th>  \n</tr>\n<tr>\n  <th>ar.L1</th>  <td>   -0.2804</td> <td>    0.127</td> <td>   -2.205</td> <td> 0.027</td> <td>   -0.530</td> <td>   -0.031</td>\n</tr>\n<tr>\n  <th>ar.L2</th>  <td>    0.1391</td> <td>    0.040</td> <td>    3.491</td> <td> 0.000</td> <td>    0.061</td> <td>    0.217</td>\n</tr>\n<tr>\n  <th>ar.L3</th>  <td>   -0.1868</td> <td>    0.023</td> <td>   -8.287</td> <td> 0.000</td> <td>   -0.231</td> <td>   -0.143</td>\n</tr>\n<tr>\n  <th>ar.L4</th>  <td>   -0.5495</td> <td>    0.037</td> <td>  -14.683</td> <td> 0.000</td> <td>   -0.623</td> <td>   -0.476</td>\n</tr>\n<tr>\n  <th>ar.L5</th>  <td>   -0.4707</td> <td>    0.075</td> <td>   -6.245</td> <td> 0.000</td> <td>   -0.618</td> <td>   -0.323</td>\n</tr>\n<tr>\n  <th>ma.L1</th>  <td>    0.2202</td> <td>    0.128</td> <td>    1.726</td> <td> 0.084</td> <td>   -0.030</td> <td>    0.470</td>\n</tr>\n<tr>\n  <th>ma.L2</th>  <td>   -0.0747</td> <td>    0.050</td> <td>   -1.504</td> <td> 0.133</td> <td>   -0.172</td> <td>    0.023</td>\n</tr>\n<tr>\n  <th>ma.L3</th>  <td>    0.2301</td> <td>    0.024</td> <td>    9.623</td> <td> 0.000</td> <td>    0.183</td> <td>    0.277</td>\n</tr>\n<tr>\n  <th>ma.L4</th>  <td>    0.3755</td> <td>    0.038</td> <td>    9.810</td> <td> 0.000</td> <td>    0.300</td> <td>    0.451</td>\n</tr>\n<tr>\n  <th>ma.L5</th>  <td>    0.4216</td> <td>    0.058</td> <td>    7.230</td> <td> 0.000</td> <td>    0.307</td> <td>    0.536</td>\n</tr>\n<tr>\n  <th>sigma2</th> <td>    0.0001</td> <td>  1.2e-06</td> <td>  116.863</td> <td> 0.000</td> <td>    0.000</td> <td>    0.000</td>\n</tr>\n</table>\n<table class=\"simpletable\">\n<tr>\n  <th>Ljung-Box (L1) (Q):</th>      <td>0.00</td>   <th>  Jarque-Bera (JB):  </th> <td>266330.03</td>\n</tr>\n<tr>\n  <th>Prob(Q):</th>                 <td>0.97</td>   <th>  Prob(JB):          </th>   <td>0.00</td>   \n</tr>\n<tr>\n  <th>Heteroskedasticity (H):</th> <td>2117.94</td> <th>  Skew:              </th>   <td>-1.51</td>  \n</tr>\n<tr>\n  <th>Prob(H) (two-sided):</th>     <td>0.00</td>   <th>  Kurtosis:          </th>   <td>67.25</td>  \n</tr>\n</table><br/><br/>Warnings:<br/>[1] Covariance matrix calculated using the outer product of gradients (complex-step)."
     },
     "execution_count": 59,
     "metadata": {},
     "output_type": "execute_result"
    }
   ],
   "source": [
    "from pmdarima import auto_arima\n",
    "stepwise_fit = auto_arima(df['Close'],\n",
    "                          trace=True,\n",
    "                          suppress_warnings=True)\n",
    "\n",
    "stepwise_fit.summary()\n"
   ],
   "metadata": {
    "collapsed": false,
    "pycharm": {
     "name": "#%%\n"
    }
   }
  },
  {
   "cell_type": "code",
   "execution_count": 60,
   "outputs": [
    {
     "name": "stdout",
     "output_type": "stream",
     "text": [
      "(1546, 23)\n",
      "(1082, 23) (464, 23)\n",
      "Open                           2.653000e-03\n",
      "High                           2.893000e-03\n",
      "Low                            2.636000e-03\n",
      "Close                          2.679000e-03\n",
      "Adj Close                      2.679000e-03\n",
      "Volume                         1.221523e+08\n",
      "twitter_followers              1.520220e+05\n",
      "reddit_average_posts_48h       1.000000e+00\n",
      "reddit_average_comments_48h    1.441700e+01\n",
      "reddit_subscribers             1.680130e+05\n",
      "reddit_accounts_active_48h     4.724615e+02\n",
      "forks                          9.330000e+02\n",
      "stars                          2.199000e+03\n",
      "subscribers                    2.650000e+02\n",
      "total_issues                   5.160000e+02\n",
      "closed_issues                  4.660000e+02\n",
      "pull_requests_merged           8.180000e+02\n",
      "pull_request_contributors      7.700000e+01\n",
      "commit_count_4_weeks           0.000000e+00\n",
      "dogecoin_unscaled              1.000000e+02\n",
      "dogecoin_monthly               0.000000e+00\n",
      "scale                          0.000000e+00\n",
      "dogecoin                       0.000000e+00\n",
      "Name: 2020-10-26 00:00:00, dtype: float64 Open                           1.376870e-01\n",
      "High                           1.425510e-01\n",
      "Low                            1.372610e-01\n",
      "Close                          1.416850e-01\n",
      "Adj Close                      1.416850e-01\n",
      "Volume                         4.546220e+08\n",
      "twitter_followers              2.991859e+06\n",
      "reddit_average_posts_48h       1.037500e+01\n",
      "reddit_average_comments_48h    8.220000e+02\n",
      "reddit_subscribers             2.267480e+06\n",
      "reddit_accounts_active_48h     1.736889e+03\n",
      "forks                          2.468000e+03\n",
      "stars                          1.375900e+04\n",
      "subscribers                    8.730000e+02\n",
      "total_issues                   1.062000e+03\n",
      "closed_issues                  9.570000e+02\n",
      "pull_requests_merged           1.065000e+03\n",
      "pull_request_contributors      1.290000e+02\n",
      "commit_count_4_weeks           0.000000e+00\n",
      "dogecoin_unscaled              1.000000e+02\n",
      "dogecoin_monthly               4.000000e+00\n",
      "scale                          4.000000e-02\n",
      "dogecoin                       4.000000e+00\n",
      "Name: 2022-02-04 00:00:00, dtype: float64\n"
     ]
    }
   ],
   "source": [
    "#Split train test 70:30\n",
    "print(df.shape)\n",
    "testNum = round(df.shape[0]*0.3)\n",
    "train=df.iloc[:-testNum]\n",
    "test=df.iloc[-testNum:]\n",
    "print(train.shape,test.shape)\n",
    "print(test.iloc[0],test.iloc[-1])\n"
   ],
   "metadata": {
    "collapsed": false,
    "pycharm": {
     "name": "#%%\n"
    }
   }
  },
  {
   "cell_type": "code",
   "execution_count": 61,
   "outputs": [
    {
     "name": "stderr",
     "output_type": "stream",
     "text": [
      "C:\\Users\\Predrag\\AppData\\Local\\Programs\\Python\\Python310\\lib\\site-packages\\statsmodels\\tsa\\base\\tsa_model.py:471: ValueWarning: No frequency information was provided, so inferred frequency D will be used.\n",
      "  self._init_dates(dates, freq)\n",
      "C:\\Users\\Predrag\\AppData\\Local\\Programs\\Python\\Python310\\lib\\site-packages\\statsmodels\\tsa\\base\\tsa_model.py:471: ValueWarning: No frequency information was provided, so inferred frequency D will be used.\n",
      "  self._init_dates(dates, freq)\n",
      "C:\\Users\\Predrag\\AppData\\Local\\Programs\\Python\\Python310\\lib\\site-packages\\statsmodels\\tsa\\base\\tsa_model.py:471: ValueWarning: No frequency information was provided, so inferred frequency D will be used.\n",
      "  self._init_dates(dates, freq)\n",
      "C:\\Users\\Predrag\\AppData\\Local\\Programs\\Python\\Python310\\lib\\site-packages\\statsmodels\\base\\model.py:604: ConvergenceWarning: Maximum Likelihood optimization failed to converge. Check mle_retvals\n",
      "  warnings.warn(\"Maximum Likelihood optimization failed to \"\n"
     ]
    },
    {
     "data": {
      "text/plain": "<class 'statsmodels.iolib.summary.Summary'>\n\"\"\"\n                               SARIMAX Results                                \n==============================================================================\nDep. Variable:                  Close   No. Observations:                 1082\nModel:                 ARIMA(5, 1, 5)   Log Likelihood                7235.571\nDate:                Tue, 15 Feb 2022   AIC                         -14449.141\nTime:                        23:44:12   BIC                         -14394.299\nSample:                    11-09-2017   HQIC                        -14428.376\n                         - 10-25-2020                                         \nCovariance Type:                  opg                                         \n==============================================================================\n                 coef    std err          z      P>|z|      [0.025      0.975]\n------------------------------------------------------------------------------\nar.L1          0.2951      0.005     54.780      0.000       0.285       0.306\nar.L2         -0.0313      0.008     -4.092      0.000      -0.046      -0.016\nar.L3         -0.5289      0.006    -84.029      0.000      -0.541      -0.517\nar.L4         -0.3342      0.006    -52.786      0.000      -0.347      -0.322\nar.L5          0.3355      0.005     63.323      0.000       0.325       0.346\nma.L1         -0.1616      0.008    -20.352      0.000      -0.177      -0.146\nma.L2          0.0017      0.009      0.192      0.848      -0.016       0.019\nma.L3          0.5827      0.011     51.507      0.000       0.561       0.605\nma.L4          0.2548      0.009     29.352      0.000       0.238       0.272\nma.L5         -0.1193      0.009    -12.702      0.000      -0.138      -0.101\nsigma2      8.787e-08   1.22e-09     72.153      0.000    8.55e-08    9.03e-08\n===================================================================================\nLjung-Box (L1) (Q):                   0.26   Jarque-Bera (JB):             18822.34\nProb(Q):                              0.61   Prob(JB):                         0.00\nHeteroskedasticity (H):               0.09   Skew:                             0.53\nProb(H) (two-sided):                  0.00   Kurtosis:                        23.41\n===================================================================================\n\nWarnings:\n[1] Covariance matrix calculated using the outer product of gradients (complex-step).\n[2] Covariance matrix is singular or near-singular, with condition number 3.68e+17. Standard errors may be unstable.\n\"\"\"",
      "text/html": "<table class=\"simpletable\">\n<caption>SARIMAX Results</caption>\n<tr>\n  <th>Dep. Variable:</th>         <td>Close</td>      <th>  No. Observations:  </th>    <td>1082</td>   \n</tr>\n<tr>\n  <th>Model:</th>            <td>ARIMA(5, 1, 5)</td>  <th>  Log Likelihood     </th>  <td>7235.571</td> \n</tr>\n<tr>\n  <th>Date:</th>            <td>Tue, 15 Feb 2022</td> <th>  AIC                </th> <td>-14449.141</td>\n</tr>\n<tr>\n  <th>Time:</th>                <td>23:44:12</td>     <th>  BIC                </th> <td>-14394.299</td>\n</tr>\n<tr>\n  <th>Sample:</th>             <td>11-09-2017</td>    <th>  HQIC               </th> <td>-14428.376</td>\n</tr>\n<tr>\n  <th></th>                   <td>- 10-25-2020</td>   <th>                     </th>      <td> </td>    \n</tr>\n<tr>\n  <th>Covariance Type:</th>        <td>opg</td>       <th>                     </th>      <td> </td>    \n</tr>\n</table>\n<table class=\"simpletable\">\n<tr>\n     <td></td>       <th>coef</th>     <th>std err</th>      <th>z</th>      <th>P>|z|</th>  <th>[0.025</th>    <th>0.975]</th>  \n</tr>\n<tr>\n  <th>ar.L1</th>  <td>    0.2951</td> <td>    0.005</td> <td>   54.780</td> <td> 0.000</td> <td>    0.285</td> <td>    0.306</td>\n</tr>\n<tr>\n  <th>ar.L2</th>  <td>   -0.0313</td> <td>    0.008</td> <td>   -4.092</td> <td> 0.000</td> <td>   -0.046</td> <td>   -0.016</td>\n</tr>\n<tr>\n  <th>ar.L3</th>  <td>   -0.5289</td> <td>    0.006</td> <td>  -84.029</td> <td> 0.000</td> <td>   -0.541</td> <td>   -0.517</td>\n</tr>\n<tr>\n  <th>ar.L4</th>  <td>   -0.3342</td> <td>    0.006</td> <td>  -52.786</td> <td> 0.000</td> <td>   -0.347</td> <td>   -0.322</td>\n</tr>\n<tr>\n  <th>ar.L5</th>  <td>    0.3355</td> <td>    0.005</td> <td>   63.323</td> <td> 0.000</td> <td>    0.325</td> <td>    0.346</td>\n</tr>\n<tr>\n  <th>ma.L1</th>  <td>   -0.1616</td> <td>    0.008</td> <td>  -20.352</td> <td> 0.000</td> <td>   -0.177</td> <td>   -0.146</td>\n</tr>\n<tr>\n  <th>ma.L2</th>  <td>    0.0017</td> <td>    0.009</td> <td>    0.192</td> <td> 0.848</td> <td>   -0.016</td> <td>    0.019</td>\n</tr>\n<tr>\n  <th>ma.L3</th>  <td>    0.5827</td> <td>    0.011</td> <td>   51.507</td> <td> 0.000</td> <td>    0.561</td> <td>    0.605</td>\n</tr>\n<tr>\n  <th>ma.L4</th>  <td>    0.2548</td> <td>    0.009</td> <td>   29.352</td> <td> 0.000</td> <td>    0.238</td> <td>    0.272</td>\n</tr>\n<tr>\n  <th>ma.L5</th>  <td>   -0.1193</td> <td>    0.009</td> <td>  -12.702</td> <td> 0.000</td> <td>   -0.138</td> <td>   -0.101</td>\n</tr>\n<tr>\n  <th>sigma2</th> <td> 8.787e-08</td> <td> 1.22e-09</td> <td>   72.153</td> <td> 0.000</td> <td> 8.55e-08</td> <td> 9.03e-08</td>\n</tr>\n</table>\n<table class=\"simpletable\">\n<tr>\n  <th>Ljung-Box (L1) (Q):</th>     <td>0.26</td> <th>  Jarque-Bera (JB):  </th> <td>18822.34</td>\n</tr>\n<tr>\n  <th>Prob(Q):</th>                <td>0.61</td> <th>  Prob(JB):          </th>   <td>0.00</td>  \n</tr>\n<tr>\n  <th>Heteroskedasticity (H):</th> <td>0.09</td> <th>  Skew:              </th>   <td>0.53</td>  \n</tr>\n<tr>\n  <th>Prob(H) (two-sided):</th>    <td>0.00</td> <th>  Kurtosis:          </th>   <td>23.41</td> \n</tr>\n</table><br/><br/>Warnings:<br/>[1] Covariance matrix calculated using the outer product of gradients (complex-step).<br/>[2] Covariance matrix is singular or near-singular, with condition number 3.68e+17. Standard errors may be unstable."
     },
     "execution_count": 61,
     "metadata": {},
     "output_type": "execute_result"
    }
   ],
   "source": [
    "#Treniranje modela nad 5,1,5\n",
    "from statsmodels.tsa.arima.model import ARIMA\n",
    "model=ARIMA(train['Close'],order=(5,1,5))\n",
    "model=model.fit()\n",
    "model.summary()"
   ],
   "metadata": {
    "collapsed": false,
    "pycharm": {
     "name": "#%%\n"
    }
   }
  },
  {
   "cell_type": "code",
   "execution_count": 62,
   "outputs": [
    {
     "data": {
      "text/plain": "<AxesSubplot:xlabel='Date'>"
     },
     "execution_count": 62,
     "metadata": {},
     "output_type": "execute_result"
    },
    {
     "data": {
      "text/plain": "<Figure size 432x288 with 1 Axes>",
      "image/png": "[encoded data removed]"
     },
     "metadata": {
      "needs_background": "light"
     },
     "output_type": "display_data"
    }
   ],
   "source": [
    "start=len(train)\n",
    "end=len(train)+len(test)-1\n",
    "pred=model.predict(start=start,end=end,typ='levels').rename('ARIMA predictions')\n",
    "pred.plot(legend=True)\n",
    "test['Close'].plot(legend=True)\n"
   ],
   "metadata": {
    "collapsed": false,
    "pycharm": {
     "name": "#%%\n"
    }
   }
  },
  {
   "cell_type": "code",
   "execution_count": 63,
   "outputs": [
    {
     "name": "stdout",
     "output_type": "stream",
     "text": [
      "(1546, 23)\n",
      "(1391, 23) (155, 23)\n",
      "Open                           2.947540e-01\n",
      "High                           3.044940e-01\n",
      "Low                            2.885410e-01\n",
      "Close                          2.962730e-01\n",
      "Adj Close                      2.962730e-01\n",
      "Volume                         2.384047e+09\n",
      "twitter_followers              2.077708e+06\n",
      "reddit_average_posts_48h       8.333000e+00\n",
      "reddit_average_comments_48h    1.323833e+03\n",
      "reddit_subscribers             2.150243e+06\n",
      "reddit_accounts_active_48h     4.428462e+03\n",
      "forks                          2.278000e+03\n",
      "stars                          1.286300e+04\n",
      "subscribers                    8.640000e+02\n",
      "total_issues                   9.850000e+02\n",
      "closed_issues                  8.770000e+02\n",
      "pull_requests_merged           9.730000e+02\n",
      "pull_request_contributors      1.180000e+02\n",
      "commit_count_4_weeks           6.900000e+01\n",
      "dogecoin_unscaled              8.800000e+01\n",
      "dogecoin_monthly               7.000000e+00\n",
      "scale                          7.000000e-02\n",
      "dogecoin                       6.160000e+00\n",
      "Name: 2021-09-03 00:00:00, dtype: float64 Open                           1.376870e-01\n",
      "High                           1.425510e-01\n",
      "Low                            1.372610e-01\n",
      "Close                          1.416850e-01\n",
      "Adj Close                      1.416850e-01\n",
      "Volume                         4.546220e+08\n",
      "twitter_followers              2.991859e+06\n",
      "reddit_average_posts_48h       1.037500e+01\n",
      "reddit_average_comments_48h    8.220000e+02\n",
      "reddit_subscribers             2.267480e+06\n",
      "reddit_accounts_active_48h     1.736889e+03\n",
      "forks                          2.468000e+03\n",
      "stars                          1.375900e+04\n",
      "subscribers                    8.730000e+02\n",
      "total_issues                   1.062000e+03\n",
      "closed_issues                  9.570000e+02\n",
      "pull_requests_merged           1.065000e+03\n",
      "pull_request_contributors      1.290000e+02\n",
      "commit_count_4_weeks           0.000000e+00\n",
      "dogecoin_unscaled              1.000000e+02\n",
      "dogecoin_monthly               4.000000e+00\n",
      "scale                          4.000000e-02\n",
      "dogecoin                       4.000000e+00\n",
      "Name: 2022-02-04 00:00:00, dtype: float64\n"
     ]
    }
   ],
   "source": [
    "#Sudeci po AIC vrednosti i grafiku, model je pretreniran. Povecajmo kolicinu trening podataka na 90%\n",
    "print(df.shape)\n",
    "testNum = round(df.shape[0]*0.1)\n",
    "train=df.iloc[:-testNum]\n",
    "test=df.iloc[-testNum:]\n",
    "print(train.shape,test.shape)\n",
    "print(test.iloc[0],test.iloc[-1])"
   ],
   "metadata": {
    "collapsed": false,
    "pycharm": {
     "name": "#%%\n"
    }
   }
  },
  {
   "cell_type": "code",
   "execution_count": 64,
   "outputs": [
    {
     "name": "stderr",
     "output_type": "stream",
     "text": [
      "C:\\Users\\Predrag\\AppData\\Local\\Programs\\Python\\Python310\\lib\\site-packages\\statsmodels\\tsa\\base\\tsa_model.py:471: ValueWarning: A date index has been provided, but it has no associated frequency information and so will be ignored when e.g. forecasting.\n",
      "  self._init_dates(dates, freq)\n",
      "C:\\Users\\Predrag\\AppData\\Local\\Programs\\Python\\Python310\\lib\\site-packages\\statsmodels\\tsa\\base\\tsa_model.py:471: ValueWarning: A date index has been provided, but it has no associated frequency information and so will be ignored when e.g. forecasting.\n",
      "  self._init_dates(dates, freq)\n",
      "C:\\Users\\Predrag\\AppData\\Local\\Programs\\Python\\Python310\\lib\\site-packages\\statsmodels\\tsa\\base\\tsa_model.py:471: ValueWarning: A date index has been provided, but it has no associated frequency information and so will be ignored when e.g. forecasting.\n",
      "  self._init_dates(dates, freq)\n",
      "C:\\Users\\Predrag\\AppData\\Local\\Programs\\Python\\Python310\\lib\\site-packages\\statsmodels\\tsa\\statespace\\sarimax.py:966: UserWarning: Non-stationary starting autoregressive parameters found. Using zeros as starting parameters.\n",
      "  warn('Non-stationary starting autoregressive parameters'\n",
      "C:\\Users\\Predrag\\AppData\\Local\\Programs\\Python\\Python310\\lib\\site-packages\\statsmodels\\tsa\\statespace\\sarimax.py:978: UserWarning: Non-invertible starting MA parameters found. Using zeros as starting parameters.\n",
      "  warn('Non-invertible starting MA parameters found.'\n"
     ]
    },
    {
     "data": {
      "text/plain": "<class 'statsmodels.iolib.summary.Summary'>\n\"\"\"\n                               SARIMAX Results                                \n==============================================================================\nDep. Variable:                  Close   No. Observations:                 1391\nModel:                 ARIMA(5, 1, 5)   Log Likelihood                4175.334\nDate:                Tue, 15 Feb 2022   AIC                          -8328.669\nTime:                        23:44:18   BIC                          -8271.061\nSample:                             0   HQIC                         -8307.126\n                               - 1391                                         \nCovariance Type:                  opg                                         \n==============================================================================\n                 coef    std err          z      P>|z|      [0.025      0.975]\n------------------------------------------------------------------------------\nar.L1         -0.0209      0.016     -1.289      0.197      -0.053       0.011\nar.L2          0.0836      0.060      1.385      0.166      -0.035       0.202\nar.L3         -0.0177      0.060     -0.296      0.767      -0.135       0.099\nar.L4         -0.1026      0.061     -1.695      0.090      -0.221       0.016\nar.L5         -0.0234      0.043     -0.546      0.585      -0.107       0.061\nma.L1         -0.0223      0.014     -1.544      0.123      -0.051       0.006\nma.L2          0.0681      0.061      1.119      0.263      -0.051       0.187\nma.L3         -0.0124      0.061     -0.202      0.840      -0.133       0.108\nma.L4         -0.0973      0.068     -1.441      0.150      -0.230       0.035\nma.L5         -0.0169      0.043     -0.391      0.696      -0.101       0.068\nsigma2         0.0001   1.15e-06    125.309      0.000       0.000       0.000\n===================================================================================\nLjung-Box (L1) (Q):                   0.00   Jarque-Bera (JB):            336663.41\nProb(Q):                              0.99   Prob(JB):                         0.00\nHeteroskedasticity (H):            2059.16   Skew:                            -2.06\nProb(H) (two-sided):                  0.00   Kurtosis:                        79.13\n===================================================================================\n\nWarnings:\n[1] Covariance matrix calculated using the outer product of gradients (complex-step).\n[2] Covariance matrix is singular or near-singular, with condition number 1.51e+18. Standard errors may be unstable.\n\"\"\"",
      "text/html": "<table class=\"simpletable\">\n<caption>SARIMAX Results</caption>\n<tr>\n  <th>Dep. Variable:</th>         <td>Close</td>      <th>  No. Observations:  </th>   <td>1391</td>   \n</tr>\n<tr>\n  <th>Model:</th>            <td>ARIMA(5, 1, 5)</td>  <th>  Log Likelihood     </th> <td>4175.334</td> \n</tr>\n<tr>\n  <th>Date:</th>            <td>Tue, 15 Feb 2022</td> <th>  AIC                </th> <td>-8328.669</td>\n</tr>\n<tr>\n  <th>Time:</th>                <td>23:44:18</td>     <th>  BIC                </th> <td>-8271.061</td>\n</tr>\n<tr>\n  <th>Sample:</th>                  <td>0</td>        <th>  HQIC               </th> <td>-8307.126</td>\n</tr>\n<tr>\n  <th></th>                      <td> - 1391</td>     <th>                     </th>     <td> </td>    \n</tr>\n<tr>\n  <th>Covariance Type:</th>        <td>opg</td>       <th>                     </th>     <td> </td>    \n</tr>\n</table>\n<table class=\"simpletable\">\n<tr>\n     <td></td>       <th>coef</th>     <th>std err</th>      <th>z</th>      <th>P>|z|</th>  <th>[0.025</th>    <th>0.975]</th>  \n</tr>\n<tr>\n  <th>ar.L1</th>  <td>   -0.0209</td> <td>    0.016</td> <td>   -1.289</td> <td> 0.197</td> <td>   -0.053</td> <td>    0.011</td>\n</tr>\n<tr>\n  <th>ar.L2</th>  <td>    0.0836</td> <td>    0.060</td> <td>    1.385</td> <td> 0.166</td> <td>   -0.035</td> <td>    0.202</td>\n</tr>\n<tr>\n  <th>ar.L3</th>  <td>   -0.0177</td> <td>    0.060</td> <td>   -0.296</td> <td> 0.767</td> <td>   -0.135</td> <td>    0.099</td>\n</tr>\n<tr>\n  <th>ar.L4</th>  <td>   -0.1026</td> <td>    0.061</td> <td>   -1.695</td> <td> 0.090</td> <td>   -0.221</td> <td>    0.016</td>\n</tr>\n<tr>\n  <th>ar.L5</th>  <td>   -0.0234</td> <td>    0.043</td> <td>   -0.546</td> <td> 0.585</td> <td>   -0.107</td> <td>    0.061</td>\n</tr>\n<tr>\n  <th>ma.L1</th>  <td>   -0.0223</td> <td>    0.014</td> <td>   -1.544</td> <td> 0.123</td> <td>   -0.051</td> <td>    0.006</td>\n</tr>\n<tr>\n  <th>ma.L2</th>  <td>    0.0681</td> <td>    0.061</td> <td>    1.119</td> <td> 0.263</td> <td>   -0.051</td> <td>    0.187</td>\n</tr>\n<tr>\n  <th>ma.L3</th>  <td>   -0.0124</td> <td>    0.061</td> <td>   -0.202</td> <td> 0.840</td> <td>   -0.133</td> <td>    0.108</td>\n</tr>\n<tr>\n  <th>ma.L4</th>  <td>   -0.0973</td> <td>    0.068</td> <td>   -1.441</td> <td> 0.150</td> <td>   -0.230</td> <td>    0.035</td>\n</tr>\n<tr>\n  <th>ma.L5</th>  <td>   -0.0169</td> <td>    0.043</td> <td>   -0.391</td> <td> 0.696</td> <td>   -0.101</td> <td>    0.068</td>\n</tr>\n<tr>\n  <th>sigma2</th> <td>    0.0001</td> <td> 1.15e-06</td> <td>  125.309</td> <td> 0.000</td> <td>    0.000</td> <td>    0.000</td>\n</tr>\n</table>\n<table class=\"simpletable\">\n<tr>\n  <th>Ljung-Box (L1) (Q):</th>      <td>0.00</td>   <th>  Jarque-Bera (JB):  </th> <td>336663.41</td>\n</tr>\n<tr>\n  <th>Prob(Q):</th>                 <td>0.99</td>   <th>  Prob(JB):          </th>   <td>0.00</td>   \n</tr>\n<tr>\n  <th>Heteroskedasticity (H):</th> <td>2059.16</td> <th>  Skew:              </th>   <td>-2.06</td>  \n</tr>\n<tr>\n  <th>Prob(H) (two-sided):</th>     <td>0.00</td>   <th>  Kurtosis:          </th>   <td>79.13</td>  \n</tr>\n</table><br/><br/>Warnings:<br/>[1] Covariance matrix calculated using the outer product of gradients (complex-step).<br/>[2] Covariance matrix is singular or near-singular, with condition number 1.51e+18. Standard errors may be unstable."
     },
     "execution_count": 64,
     "metadata": {},
     "output_type": "execute_result"
    }
   ],
   "source": [
    "#Treniranje modela nad 5,1,5, 90% uzorka\n",
    "from statsmodels.tsa.arima.model import ARIMA\n",
    "model=ARIMA(train['Close'],order=(5,1,5))\n",
    "model=model.fit()\n",
    "model.summary()\n"
   ],
   "metadata": {
    "collapsed": false,
    "pycharm": {
     "name": "#%%\n"
    }
   }
  },
  {
   "cell_type": "code",
   "execution_count": 65,
   "outputs": [
    {
     "name": "stderr",
     "output_type": "stream",
     "text": [
      "C:\\Users\\Predrag\\AppData\\Local\\Programs\\Python\\Python310\\lib\\site-packages\\statsmodels\\tsa\\base\\tsa_model.py:834: ValueWarning: No supported index is available. Prediction results will be given with an integer index beginning at `start`.\n",
      "  return get_prediction_index(\n"
     ]
    },
    {
     "data": {
      "text/plain": "<AxesSubplot:xlabel='Date'>"
     },
     "execution_count": 65,
     "metadata": {},
     "output_type": "execute_result"
    },
    {
     "data": {
      "text/plain": "<Figure size 432x288 with 1 Axes>",
      "image/png": "[encoded data removed]"
     },
     "metadata": {
      "needs_background": "light"
     },
     "output_type": "display_data"
    }
   ],
   "source": [
    "#Test za 10%\n",
    "start=len(train)\n",
    "end=len(train)+len(test)-1\n",
    "pred=model.predict(start=start,end=end,typ='levels').rename('ARIMA predictions')\n",
    "pred.plot(legend=True)\n",
    "test['Close'].plot(legend=True)"
   ],
   "metadata": {
    "collapsed": false,
    "pycharm": {
     "name": "#%%\n"
    }
   }
  },
  {
   "cell_type": "code",
   "execution_count": 66,
   "outputs": [
    {
     "data": {
      "text/plain": "DatetimeIndex(['2021-04-16', '2021-05-05', '2021-05-09'], dtype='datetime64[ns]', freq=None)"
     },
     "execution_count": 66,
     "metadata": {},
     "output_type": "execute_result"
    }
   ],
   "source": [
    "#Verovatno fale neki dani u podacima, hajde da proverim\n",
    "pd.date_range(start = '2017-11-09', end = '2022-02-04' ).difference(df.index)\n"
   ],
   "metadata": {
    "collapsed": false,
    "pycharm": {
     "name": "#%%\n"
    }
   }
  },
  {
   "cell_type": "code",
   "execution_count": 67,
   "outputs": [
    {
     "data": {
      "text/plain": "DatetimeIndex([], dtype='datetime64[ns]', freq='D')"
     },
     "execution_count": 67,
     "metadata": {},
     "output_type": "execute_result"
    }
   ],
   "source": [
    "#Hajde da popunim datume koji nedostaju\n",
    "df = df.resample('D').ffill()\n",
    "pd.date_range(start = '2017-11-09', end = '2022-02-04' ).difference(df.index)\n"
   ],
   "metadata": {
    "collapsed": false,
    "pycharm": {
     "name": "#%%\n"
    }
   }
  },
  {
   "cell_type": "code",
   "execution_count": 68,
   "outputs": [
    {
     "data": {
      "text/plain": "<AxesSubplot:xlabel='Date'>"
     },
     "execution_count": 68,
     "metadata": {},
     "output_type": "execute_result"
    },
    {
     "data": {
      "text/plain": "<Figure size 1080x360 with 1 Axes>",
      "image/png": "[encoded data removed]"
     },
     "metadata": {
      "needs_background": "light"
     },
     "output_type": "display_data"
    }
   ],
   "source": [
    "df['Close'].plot(figsize=(15,5))\n",
    "\n"
   ],
   "metadata": {
    "collapsed": false,
    "pycharm": {
     "name": "#%%\n"
    }
   }
  },
  {
   "cell_type": "code",
   "execution_count": 69,
   "outputs": [
    {
     "name": "stdout",
     "output_type": "stream",
     "text": [
      "(1549, 23)\n",
      "(1394, 23) (155, 23)\n",
      "Open                           2.947540e-01\n",
      "High                           3.044940e-01\n",
      "Low                            2.885410e-01\n",
      "Close                          2.962730e-01\n",
      "Adj Close                      2.962730e-01\n",
      "Volume                         2.384047e+09\n",
      "twitter_followers              2.077708e+06\n",
      "reddit_average_posts_48h       8.333000e+00\n",
      "reddit_average_comments_48h    1.323833e+03\n",
      "reddit_subscribers             2.150243e+06\n",
      "reddit_accounts_active_48h     4.428462e+03\n",
      "forks                          2.278000e+03\n",
      "stars                          1.286300e+04\n",
      "subscribers                    8.640000e+02\n",
      "total_issues                   9.850000e+02\n",
      "closed_issues                  8.770000e+02\n",
      "pull_requests_merged           9.730000e+02\n",
      "pull_request_contributors      1.180000e+02\n",
      "commit_count_4_weeks           6.900000e+01\n",
      "dogecoin_unscaled              8.800000e+01\n",
      "dogecoin_monthly               7.000000e+00\n",
      "scale                          7.000000e-02\n",
      "dogecoin                       6.160000e+00\n",
      "Name: 2021-09-03 00:00:00, dtype: float64 Open                           1.376870e-01\n",
      "High                           1.425510e-01\n",
      "Low                            1.372610e-01\n",
      "Close                          1.416850e-01\n",
      "Adj Close                      1.416850e-01\n",
      "Volume                         4.546220e+08\n",
      "twitter_followers              2.991859e+06\n",
      "reddit_average_posts_48h       1.037500e+01\n",
      "reddit_average_comments_48h    8.220000e+02\n",
      "reddit_subscribers             2.267480e+06\n",
      "reddit_accounts_active_48h     1.736889e+03\n",
      "forks                          2.468000e+03\n",
      "stars                          1.375900e+04\n",
      "subscribers                    8.730000e+02\n",
      "total_issues                   1.062000e+03\n",
      "closed_issues                  9.570000e+02\n",
      "pull_requests_merged           1.065000e+03\n",
      "pull_request_contributors      1.290000e+02\n",
      "commit_count_4_weeks           0.000000e+00\n",
      "dogecoin_unscaled              1.000000e+02\n",
      "dogecoin_monthly               4.000000e+00\n",
      "scale                          4.000000e-02\n",
      "dogecoin                       4.000000e+00\n",
      "Name: 2022-02-04 00:00:00, dtype: float64\n"
     ]
    }
   ],
   "source": [
    "print(df.shape)\n",
    "testNum = round(df.shape[0]*0.1)\n",
    "train=df.iloc[:-testNum]\n",
    "test=df.iloc[-testNum:]\n",
    "print(train.shape,test.shape)\n",
    "print(test.iloc[0],test.iloc[-1])\n"
   ],
   "metadata": {
    "collapsed": false,
    "pycharm": {
     "name": "#%%\n"
    }
   }
  },
  {
   "cell_type": "code",
   "execution_count": 70,
   "outputs": [
    {
     "name": "stdout",
     "output_type": "stream",
     "text": [
      "testing model 0, 0, 0 - 0, 0, 0, 0\n",
      "                               SARIMAX Results                                \n",
      "==============================================================================\n",
      "Dep. Variable:                  Close   No. Observations:                 1394\n",
      "Model:                          ARIMA   Log Likelihood                1290.472\n",
      "Date:                Tue, 15 Feb 2022   AIC                          -2576.944\n",
      "Time:                        23:44:20   BIC                          -2566.464\n",
      "Sample:                    11-09-2017   HQIC                         -2573.026\n",
      "                         - 09-02-2021                                         \n",
      "Covariance Type:                  opg                                         \n",
      "==============================================================================\n",
      "                 coef    std err          z      P>|z|      [0.025      0.975]\n",
      "------------------------------------------------------------------------------\n",
      "const          0.0366      0.006      5.984      0.000       0.025       0.049\n",
      "sigma2         0.0092      0.000     28.094      0.000       0.009       0.010\n",
      "===================================================================================\n",
      "Ljung-Box (L1) (Q):                1366.45   Jarque-Bera (JB):              9317.57\n",
      "Prob(Q):                              0.00   Prob(JB):                         0.00\n",
      "Heteroskedasticity (H):              23.76   Skew:                             3.26\n",
      "Prob(H) (two-sided):                  0.00   Kurtosis:                        13.86\n",
      "===================================================================================\n",
      "\n",
      "Warnings:\n",
      "[1] Covariance matrix calculated using the outer product of gradients (complex-step).\n",
      "testing model 0, 0, 0 - 0, 0, 0, 1\n"
     ]
    },
    {
     "ename": "ValueError",
     "evalue": "Seasonal periodicity must be greater than 1.",
     "output_type": "error",
     "traceback": [
      "\u001B[1;31m---------------------------------------------------------------------------\u001B[0m",
      "\u001B[1;31mValueError\u001B[0m                                Traceback (most recent call last)",
      "Input \u001B[1;32mIn [70]\u001B[0m, in \u001B[0;36m<module>\u001B[1;34m\u001B[0m\n\u001B[0;32m      1\u001B[0m \u001B[38;5;28;01mfrom\u001B[39;00m \u001B[38;5;21;01mpython_scripts\u001B[39;00m\u001B[38;5;21;01m.\u001B[39;00m\u001B[38;5;21;01msarima_helper\u001B[39;00m \u001B[38;5;28;01mimport\u001B[39;00m try_different_model_combinations\n\u001B[0;32m      3\u001B[0m \u001B[38;5;66;03m#Ajmo onda automatski tester da probamo\u001B[39;00m\n\u001B[1;32m----> 4\u001B[0m \u001B[43mtry_different_model_combinations\u001B[49m\u001B[43m(\u001B[49m\u001B[43mtrain\u001B[49m\u001B[43m,\u001B[49m\u001B[43m \u001B[49m\u001B[43mtest\u001B[49m\u001B[43m,\u001B[49m\u001B[43m \u001B[49m\u001B[38;5;124;43m'\u001B[39;49m\u001B[38;5;124;43mClose\u001B[39;49m\u001B[38;5;124;43m'\u001B[39;49m\u001B[43m)\u001B[49m\n",
      "File \u001B[1;32m~\\Desktop\\SIAP\\ProjectSiap2021\\python_scripts\\sarima_helper.py:42\u001B[0m, in \u001B[0;36mtry_different_model_combinations\u001B[1;34m(df_train, df_test, prediction_variable)\u001B[0m\n\u001B[0;32m     40\u001B[0m \u001B[38;5;28mprint\u001B[39m(\u001B[38;5;124mf\u001B[39m\u001B[38;5;124m\"\u001B[39m\u001B[38;5;124mtesting model \u001B[39m\u001B[38;5;132;01m{\u001B[39;00mp\u001B[38;5;132;01m}\u001B[39;00m\u001B[38;5;124m, \u001B[39m\u001B[38;5;132;01m{\u001B[39;00md\u001B[38;5;132;01m}\u001B[39;00m\u001B[38;5;124m, \u001B[39m\u001B[38;5;132;01m{\u001B[39;00mq\u001B[38;5;132;01m}\u001B[39;00m\u001B[38;5;124m - \u001B[39m\u001B[38;5;132;01m{\u001B[39;00mP\u001B[38;5;132;01m}\u001B[39;00m\u001B[38;5;124m, \u001B[39m\u001B[38;5;132;01m{\u001B[39;00mD\u001B[38;5;132;01m}\u001B[39;00m\u001B[38;5;124m, \u001B[39m\u001B[38;5;132;01m{\u001B[39;00mQ\u001B[38;5;132;01m}\u001B[39;00m\u001B[38;5;124m, \u001B[39m\u001B[38;5;132;01m{\u001B[39;00mm\u001B[38;5;132;01m}\u001B[39;00m\u001B[38;5;124m\"\u001B[39m)\n\u001B[0;32m     41\u001B[0m \u001B[38;5;28;01mfrom\u001B[39;00m \u001B[38;5;21;01mstatsmodels\u001B[39;00m\u001B[38;5;21;01m.\u001B[39;00m\u001B[38;5;21;01mtsa\u001B[39;00m\u001B[38;5;21;01m.\u001B[39;00m\u001B[38;5;21;01marima\u001B[39;00m\u001B[38;5;21;01m.\u001B[39;00m\u001B[38;5;21;01mmodel\u001B[39;00m \u001B[38;5;28;01mimport\u001B[39;00m ARIMA\n\u001B[1;32m---> 42\u001B[0m model \u001B[38;5;241m=\u001B[39m \u001B[43mARIMA\u001B[49m\u001B[43m(\u001B[49m\u001B[43mdf_train\u001B[49m\u001B[43m[\u001B[49m\u001B[43mprediction_variable\u001B[49m\u001B[43m]\u001B[49m\u001B[43m,\u001B[49m\u001B[43m \u001B[49m\u001B[43morder\u001B[49m\u001B[38;5;241;43m=\u001B[39;49m\u001B[43m(\u001B[49m\u001B[43mp\u001B[49m\u001B[43m,\u001B[49m\u001B[43m \u001B[49m\u001B[43md\u001B[49m\u001B[43m,\u001B[49m\u001B[43m \u001B[49m\u001B[43mq\u001B[49m\u001B[43m)\u001B[49m\u001B[43m,\u001B[49m\u001B[43m \u001B[49m\u001B[43mseasonal_order\u001B[49m\u001B[38;5;241;43m=\u001B[39;49m\u001B[43m(\u001B[49m\u001B[43mP\u001B[49m\u001B[43m,\u001B[49m\u001B[43m \u001B[49m\u001B[43mD\u001B[49m\u001B[43m,\u001B[49m\u001B[43m \u001B[49m\u001B[43mQ\u001B[49m\u001B[43m,\u001B[49m\u001B[43m \u001B[49m\u001B[43mm\u001B[49m\u001B[43m)\u001B[49m\u001B[43m)\u001B[49m\n\u001B[0;32m     43\u001B[0m model \u001B[38;5;241m=\u001B[39m model\u001B[38;5;241m.\u001B[39mfit()\n\u001B[0;32m     44\u001B[0m \u001B[38;5;28mprint\u001B[39m(model\u001B[38;5;241m.\u001B[39msummary())\n",
      "File \u001B[1;32m~\\AppData\\Local\\Programs\\Python\\Python310\\lib\\site-packages\\statsmodels\\tsa\\arima\\model.py:153\u001B[0m, in \u001B[0;36mARIMA.__init__\u001B[1;34m(self, endog, exog, order, seasonal_order, trend, enforce_stationarity, enforce_invertibility, concentrate_scale, trend_offset, dates, freq, missing, validate_specification)\u001B[0m\n\u001B[0;32m    146\u001B[0m     trend \u001B[38;5;241m=\u001B[39m \u001B[38;5;124m'\u001B[39m\u001B[38;5;124mn\u001B[39m\u001B[38;5;124m'\u001B[39m\n\u001B[0;32m    148\u001B[0m \u001B[38;5;66;03m# Construct the specification\u001B[39;00m\n\u001B[0;32m    149\u001B[0m \u001B[38;5;66;03m# (don't pass specific values of enforce stationarity/invertibility,\u001B[39;00m\n\u001B[0;32m    150\u001B[0m \u001B[38;5;66;03m# because we don't actually want to restrict the estimators based on\u001B[39;00m\n\u001B[0;32m    151\u001B[0m \u001B[38;5;66;03m# this criteria. Instead, we'll just make sure that the parameter\u001B[39;00m\n\u001B[0;32m    152\u001B[0m \u001B[38;5;66;03m# estimates from those methods satisfy the criteria.)\u001B[39;00m\n\u001B[1;32m--> 153\u001B[0m \u001B[38;5;28mself\u001B[39m\u001B[38;5;241m.\u001B[39m_spec_arima \u001B[38;5;241m=\u001B[39m \u001B[43mSARIMAXSpecification\u001B[49m\u001B[43m(\u001B[49m\n\u001B[0;32m    154\u001B[0m \u001B[43m    \u001B[49m\u001B[43mendog\u001B[49m\u001B[43m,\u001B[49m\u001B[43m \u001B[49m\u001B[43mexog\u001B[49m\u001B[38;5;241;43m=\u001B[39;49m\u001B[43mexog\u001B[49m\u001B[43m,\u001B[49m\u001B[43m \u001B[49m\u001B[43morder\u001B[49m\u001B[38;5;241;43m=\u001B[39;49m\u001B[43morder\u001B[49m\u001B[43m,\u001B[49m\u001B[43m \u001B[49m\u001B[43mseasonal_order\u001B[49m\u001B[38;5;241;43m=\u001B[39;49m\u001B[43mseasonal_order\u001B[49m\u001B[43m,\u001B[49m\n\u001B[0;32m    155\u001B[0m \u001B[43m    \u001B[49m\u001B[43mtrend\u001B[49m\u001B[38;5;241;43m=\u001B[39;49m\u001B[43mtrend\u001B[49m\u001B[43m,\u001B[49m\u001B[43m \u001B[49m\u001B[43menforce_stationarity\u001B[49m\u001B[38;5;241;43m=\u001B[39;49m\u001B[38;5;28;43;01mNone\u001B[39;49;00m\u001B[43m,\u001B[49m\u001B[43m \u001B[49m\u001B[43menforce_invertibility\u001B[49m\u001B[38;5;241;43m=\u001B[39;49m\u001B[38;5;28;43;01mNone\u001B[39;49;00m\u001B[43m,\u001B[49m\n\u001B[0;32m    156\u001B[0m \u001B[43m    \u001B[49m\u001B[43mconcentrate_scale\u001B[49m\u001B[38;5;241;43m=\u001B[39;49m\u001B[43mconcentrate_scale\u001B[49m\u001B[43m,\u001B[49m\u001B[43m \u001B[49m\u001B[43mtrend_offset\u001B[49m\u001B[38;5;241;43m=\u001B[39;49m\u001B[43mtrend_offset\u001B[49m\u001B[43m,\u001B[49m\n\u001B[0;32m    157\u001B[0m \u001B[43m    \u001B[49m\u001B[43mdates\u001B[49m\u001B[38;5;241;43m=\u001B[39;49m\u001B[43mdates\u001B[49m\u001B[43m,\u001B[49m\u001B[43m \u001B[49m\u001B[43mfreq\u001B[49m\u001B[38;5;241;43m=\u001B[39;49m\u001B[43mfreq\u001B[49m\u001B[43m,\u001B[49m\u001B[43m \u001B[49m\u001B[43mmissing\u001B[49m\u001B[38;5;241;43m=\u001B[39;49m\u001B[43mmissing\u001B[49m\u001B[43m,\u001B[49m\n\u001B[0;32m    158\u001B[0m \u001B[43m    \u001B[49m\u001B[43mvalidate_specification\u001B[49m\u001B[38;5;241;43m=\u001B[39;49m\u001B[43mvalidate_specification\u001B[49m\u001B[43m)\u001B[49m\n\u001B[0;32m    159\u001B[0m exog \u001B[38;5;241m=\u001B[39m \u001B[38;5;28mself\u001B[39m\u001B[38;5;241m.\u001B[39m_spec_arima\u001B[38;5;241m.\u001B[39m_model\u001B[38;5;241m.\u001B[39mdata\u001B[38;5;241m.\u001B[39morig_exog\n\u001B[0;32m    161\u001B[0m \u001B[38;5;66;03m# Raise an error if we have a constant in an integrated model\u001B[39;00m\n",
      "File \u001B[1;32m~\\AppData\\Local\\Programs\\Python\\Python310\\lib\\site-packages\\statsmodels\\tsa\\arima\\specification.py:303\u001B[0m, in \u001B[0;36mSARIMAXSpecification.__init__\u001B[1;34m(self, endog, exog, order, seasonal_order, ar_order, diff, ma_order, seasonal_ar_order, seasonal_diff, seasonal_ma_order, seasonal_periods, trend, enforce_stationarity, enforce_invertibility, concentrate_scale, trend_offset, dates, freq, missing, validate_specification)\u001B[0m\n\u001B[0;32m    301\u001B[0m \u001B[38;5;28;01mif\u001B[39;00m validate_specification:\n\u001B[0;32m    302\u001B[0m     \u001B[38;5;28;01mif\u001B[39;00m seasonal_order[\u001B[38;5;241m3\u001B[39m] \u001B[38;5;241m==\u001B[39m \u001B[38;5;241m1\u001B[39m:\n\u001B[1;32m--> 303\u001B[0m         \u001B[38;5;28;01mraise\u001B[39;00m \u001B[38;5;167;01mValueError\u001B[39;00m(\u001B[38;5;124m'\u001B[39m\u001B[38;5;124mSeasonal periodicity must be greater\u001B[39m\u001B[38;5;124m'\u001B[39m\n\u001B[0;32m    304\u001B[0m                          \u001B[38;5;124m'\u001B[39m\u001B[38;5;124m than 1.\u001B[39m\u001B[38;5;124m'\u001B[39m)\n\u001B[0;32m    305\u001B[0m     \u001B[38;5;28;01mif\u001B[39;00m ((seasonal_order[\u001B[38;5;241m0\u001B[39m] \u001B[38;5;241m!=\u001B[39m \u001B[38;5;241m0\u001B[39m \u001B[38;5;129;01mor\u001B[39;00m seasonal_order[\u001B[38;5;241m1\u001B[39m] \u001B[38;5;241m!=\u001B[39m \u001B[38;5;241m0\u001B[39m \u001B[38;5;129;01mor\u001B[39;00m\n\u001B[0;32m    306\u001B[0m             seasonal_order[\u001B[38;5;241m2\u001B[39m] \u001B[38;5;241m!=\u001B[39m \u001B[38;5;241m0\u001B[39m) \u001B[38;5;129;01mand\u001B[39;00m seasonal_order[\u001B[38;5;241m3\u001B[39m] \u001B[38;5;241m==\u001B[39m \u001B[38;5;241m0\u001B[39m):\n\u001B[0;32m    307\u001B[0m         \u001B[38;5;28;01mraise\u001B[39;00m \u001B[38;5;167;01mValueError\u001B[39;00m(\u001B[38;5;124m'\u001B[39m\u001B[38;5;124mMust include nonzero seasonal periodicity if\u001B[39m\u001B[38;5;124m'\u001B[39m\n\u001B[0;32m    308\u001B[0m                          \u001B[38;5;124m'\u001B[39m\u001B[38;5;124m including seasonal AR, MA, or\u001B[39m\u001B[38;5;124m'\u001B[39m\n\u001B[0;32m    309\u001B[0m                          \u001B[38;5;124m'\u001B[39m\u001B[38;5;124m differencing.\u001B[39m\u001B[38;5;124m'\u001B[39m)\n",
      "\u001B[1;31mValueError\u001B[0m: Seasonal periodicity must be greater than 1."
     ]
    },
    {
     "data": {
      "text/plain": "<Figure size 432x288 with 1 Axes>",
      "image/png": "[encoded data removed]"
     },
     "metadata": {
      "needs_background": "light"
     },
     "output_type": "display_data"
    }
   ],
   "source": [
    "from python_scripts.sarima_helper import try_different_model_combinations\n",
    "\n",
    "#Ajmo onda automatski tester da probamo\n",
    "try_different_model_combinations(train, test, 'Close')"
   ],
   "metadata": {
    "collapsed": false,
    "pycharm": {
     "name": "#%%\n"
    }
   }
  },
  {
   "cell_type": "code",
   "execution_count": null,
   "outputs": [],
   "source": [
    "#Treniranje modela nad 5,1,5, 90% uzorka\n",
    "from statsmodels.tsa.arima.model import ARIMA\n",
    "model=ARIMA(train['Close'],order=(5,1,5))\n",
    "model=model.fit()\n",
    "model.summary()\n"
   ],
   "metadata": {
    "collapsed": false,
    "pycharm": {
     "name": "#%%\n"
    }
   }
  },
  {
   "cell_type": "code",
   "execution_count": null,
   "outputs": [],
   "source": [
    "#Test za 10%\n",
    "start=len(train)\n",
    "end=len(train)+len(test)-1\n",
    "pred=model.predict(start=start,end=end,typ='levels').rename('ARIMA predictions')\n",
    "pred.plot(legend=True)\n",
    "test['Close'].plot(legend=True)\n"
   ],
   "metadata": {
    "collapsed": false,
    "pycharm": {
     "name": "#%%\n"
    }
   }
  },
  {
   "cell_type": "code",
   "execution_count": null,
   "outputs": [],
   "source": [
    "#Test za ceo uzorak\n",
    "start=0\n",
    "end=len(df)\n",
    "pred=model.predict(start=start,end=end,typ='levels').rename('ARIMA predictions')\n",
    "pred.plot(legend=True)\n",
    "test['Close'].plot(legend=True)"
   ],
   "metadata": {
    "collapsed": false,
    "pycharm": {
     "name": "#%%\n"
    }
   }
  },
  {
   "cell_type": "code",
   "execution_count": null,
   "outputs": [],
   "source": [
    "#Hajde da probam sa jacim diferenciranjem\n",
    "from statsmodels.tsa.arima.model import ARIMA\n",
    "model=ARIMA(train['Close'],order=(5,2,5))\n",
    "model=model.fit()\n",
    "model.summary()\n",
    "start=len(train)\n",
    "end=len(train)+len(test)-1\n",
    "pred=model.predict(start=start,end=end,typ='levels').rename('ARIMA predictions')\n",
    "pred.plot(legend=True)\n",
    "test['Close'].plot(legend=True)"
   ],
   "metadata": {
    "collapsed": false,
    "pycharm": {
     "name": "#%%\n"
    }
   }
  },
  {
   "cell_type": "code",
   "execution_count": null,
   "outputs": [],
   "source": [
    "#Pojacavanje diferenciranja nije popravilo stvar. Hajde da uvedemo sezonalnost, i isprobamo SARIMAX\n",
    "\n",
    "\n",
    "stepwise_model = auto_arima(train['Close'],start_p=1, d=1, start_q=1,\n",
    "                            trace=True,\n",
    "                            max_p=12, max_q=12,\n",
    "                            m=12,\n",
    "                            seasonal=True, stationary=False,\n",
    "                            information_criterion='aic',\n",
    "                            stepwise=False,\n",
    "                            suppress_warnings=True)\n",
    "stepwise_model.fit(train['Close'])\n"
   ],
   "metadata": {
    "collapsed": false,
    "pycharm": {
     "name": "#%%\n"
    }
   }
  },
  {
   "cell_type": "code",
   "execution_count": null,
   "outputs": [],
   "source": [
    "#Hajde da probam sarimax\n",
    "from statsmodels.tsa.arima.model import ARIMA\n",
    "model=ARIMA(train['Close'],order=(4,1,4))\n",
    "model=model.fit()\n",
    "model.summary()\n",
    "start=len(train)\n",
    "end=len(train)+len(test)-1\n",
    "pred=model.predict(start=start,end=end,typ='levels').rename('ARIMA predictions')\n",
    "pred.plot(legend=True)"
   ],
   "metadata": {
    "collapsed": false,
    "pycharm": {
     "name": "#%%\n"
    }
   }
  },
  {
   "cell_type": "code",
   "execution_count": null,
   "outputs": [],
   "source": [
    "from python_scripts.sarima_helper import differentiate_untill_stationary\n",
    "\n",
    "#Hajde da probamo rucno da podesimo parametre\n",
    "differentiate_untill_stationary(df)\n"
   ],
   "metadata": {
    "collapsed": false,
    "pycharm": {
     "name": "#%%\n"
    }
   }
  }
 ],
 "metadata": {
  "kernelspec": {
   "display_name": "Python 3",
   "language": "python",
   "name": "python3"
  },
  "language_info": {
   "codemirror_mode": {
    "name": "ipython",
    "version": 2
   },
   "file_extension": ".py",
   "mimetype": "text/x-python",
   "name": "python",
   "nbconvert_exporter": "python",
   "pygments_lexer": "ipython2",
   "version": "2.7.6"
  }
 },
 "nbformat": 4,
 "nbformat_minor": 0
}