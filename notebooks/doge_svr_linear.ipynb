{
 "cells": [
  {
   "cell_type": "code",
   "execution_count": 244,
   "metadata": {
    "collapsed": true
   },
   "outputs": [],
   "source": [
    "import pandas as pd\n",
    "import numpy as np\n",
    "from sklearn.svm import SVR\n",
    "import matplotlib.pyplot as plt\n",
    "plt.style.use('fivethirtyeight')"
   ]
  },
  {
   "cell_type": "code",
   "execution_count": 245,
   "outputs": [
    {
     "data": {
      "text/plain": "                  Date      Open      High       Low     Close  Adj Close  \\\n2017-11-09  2017-11-09  0.001207  0.001415  0.001181  0.001415   0.001415   \n2017-11-10  2017-11-10  0.001421  0.001431  0.001125  0.001163   0.001163   \n2017-11-11  2017-11-11  0.001146  0.001257  0.001141  0.001201   0.001201   \n2017-11-12  2017-11-12  0.001189  0.001210  0.001002  0.001038   0.001038   \n2017-11-13  2017-11-13  0.001046  0.001212  0.001019  0.001211   0.001211   \n...                ...       ...       ...       ...       ...        ...   \n2022-01-31  2022-01-31  0.139469  0.142264  0.136853  0.141805   0.141805   \n2022-02-01  2022-02-01  0.141805  0.144129  0.141125  0.142631   0.142631   \n2022-02-02  2022-02-02  0.142626  0.145253  0.136918  0.137235   0.137235   \n2022-02-03  2022-02-03  0.137213  0.138747  0.135565  0.137541   0.137541   \n2022-02-04  2022-02-04  0.137687  0.142551  0.137261  0.141685   0.141685   \n\n               Volume  twitter_followers  reddit_average_posts_48h  \\\n2017-11-09    6259550       1.652570e+05                     0.633   \n2017-11-10    4246520       1.653080e+05                     0.833   \n2017-11-11    2231080       1.653630e+05                     0.980   \n2017-11-12    3288960       1.654020e+05                     1.102   \n2017-11-13    2481270       1.654527e+05                     1.277   \n...               ...                ...                       ...   \n2022-01-31  412307174       2.971374e+06                     9.000   \n2022-02-01  409432267       2.977053e+06                     8.889   \n2022-02-02  483194691       2.982243e+06                     8.167   \n2022-02-03  383506507       2.987430e+06                     6.455   \n2022-02-04  454621984       2.991859e+06                    10.375   \n\n            reddit_average_comments_48h  ...  subscribers  total_issues  \\\n2017-11-09                        9.490  ...        225.0    395.000000   \n2017-11-10                       11.958  ...        225.0    395.166667   \n2017-11-11                       13.224  ...        225.0    395.333333   \n2017-11-12                       14.469  ...        225.0    395.500000   \n2017-11-13                       15.383  ...        225.0    395.666667   \n...                                 ...  ...          ...           ...   \n2022-01-31                      487.909  ...        874.0   1061.000000   \n2022-02-01                      500.778  ...        872.0   1062.000000   \n2022-02-02                      514.167  ...        872.0   1062.000000   \n2022-02-03                      404.000  ...        872.0   1062.000000   \n2022-02-04                      822.000  ...        873.0   1062.000000   \n\n            closed_issues  pull_requests_merged  pull_request_contributors  \\\n2017-11-09          336.0                 732.0                       67.0   \n2017-11-10          336.0                 732.0                       67.0   \n2017-11-11          336.0                 732.0                       67.0   \n2017-11-12          336.0                 732.0                       67.0   \n2017-11-13          336.0                 732.0                       67.0   \n...                   ...                   ...                        ...   \n2022-01-31          956.0                1065.0                      129.0   \n2022-02-01          957.0                1065.0                      129.0   \n2022-02-02          957.0                1065.0                      129.0   \n2022-02-03          957.0                1065.0                      129.0   \n2022-02-04          957.0                1065.0                      129.0   \n\n            commit_count_4_weeks  dogecoin_unscaled  dogecoin_monthly  scale  \\\n2017-11-09                   0.0                 57               1.0   0.01   \n2017-11-10                   0.0                 24               1.0   0.01   \n2017-11-11                   0.0                 23               1.0   0.01   \n2017-11-12                   0.0                 23               1.0   0.01   \n2017-11-13                   0.0                 41               1.0   0.01   \n...                          ...                ...               ...    ...   \n2022-01-31                   0.0                 23               4.0   0.04   \n2022-02-01                   0.0                 93               4.0   0.04   \n2022-02-02                   0.0                 87               4.0   0.04   \n2022-02-03                   0.0                 82               4.0   0.04   \n2022-02-04                   0.0                100               4.0   0.04   \n\n            dogecoin  \n2017-11-09      0.57  \n2017-11-10      0.24  \n2017-11-11      0.23  \n2017-11-12      0.23  \n2017-11-13      0.41  \n...              ...  \n2022-01-31      0.92  \n2022-02-01      3.72  \n2022-02-02      3.48  \n2022-02-03      3.28  \n2022-02-04      4.00  \n\n[1549 rows x 24 columns]",
      "text/html": "<div>\n<style scoped>\n    .dataframe tbody tr th:only-of-type {\n        vertical-align: middle;\n    }\n\n    .dataframe tbody tr th {\n        vertical-align: top;\n    }\n\n    .dataframe thead th {\n        text-align: right;\n    }\n</style>\n<table border=\"1\" class=\"dataframe\">\n  <thead>\n    <tr style=\"text-align: right;\">\n      <th></th>\n      <th>Date</th>\n      <th>Open</th>\n      <th>High</th>\n      <th>Low</th>\n      <th>Close</th>\n      <th>Adj Close</th>\n      <th>Volume</th>\n      <th>twitter_followers</th>\n      <th>reddit_average_posts_48h</th>\n      <th>reddit_average_comments_48h</th>\n      <th>...</th>\n      <th>subscribers</th>\n      <th>total_issues</th>\n      <th>closed_issues</th>\n      <th>pull_requests_merged</th>\n      <th>pull_request_contributors</th>\n      <th>commit_count_4_weeks</th>\n      <th>dogecoin_unscaled</th>\n      <th>dogecoin_monthly</th>\n      <th>scale</th>\n      <th>dogecoin</th>\n    </tr>\n  </thead>\n  <tbody>\n    <tr>\n      <th>2017-11-09</th>\n      <td>2017-11-09</td>\n      <td>0.001207</td>\n      <td>0.001415</td>\n      <td>0.001181</td>\n      <td>0.001415</td>\n      <td>0.001415</td>\n      <td>6259550</td>\n      <td>1.652570e+05</td>\n      <td>0.633</td>\n      <td>9.490</td>\n      <td>...</td>\n      <td>225.0</td>\n      <td>395.000000</td>\n      <td>336.0</td>\n      <td>732.0</td>\n      <td>67.0</td>\n      <td>0.0</td>\n      <td>57</td>\n      <td>1.0</td>\n      <td>0.01</td>\n      <td>0.57</td>\n    </tr>\n    <tr>\n      <th>2017-11-10</th>\n      <td>2017-11-10</td>\n      <td>0.001421</td>\n      <td>0.001431</td>\n      <td>0.001125</td>\n      <td>0.001163</td>\n      <td>0.001163</td>\n      <td>4246520</td>\n      <td>1.653080e+05</td>\n      <td>0.833</td>\n      <td>11.958</td>\n      <td>...</td>\n      <td>225.0</td>\n      <td>395.166667</td>\n      <td>336.0</td>\n      <td>732.0</td>\n      <td>67.0</td>\n      <td>0.0</td>\n      <td>24</td>\n      <td>1.0</td>\n      <td>0.01</td>\n      <td>0.24</td>\n    </tr>\n    <tr>\n      <th>2017-11-11</th>\n      <td>2017-11-11</td>\n      <td>0.001146</td>\n      <td>0.001257</td>\n      <td>0.001141</td>\n      <td>0.001201</td>\n      <td>0.001201</td>\n      <td>2231080</td>\n      <td>1.653630e+05</td>\n      <td>0.980</td>\n      <td>13.224</td>\n      <td>...</td>\n      <td>225.0</td>\n      <td>395.333333</td>\n      <td>336.0</td>\n      <td>732.0</td>\n      <td>67.0</td>\n      <td>0.0</td>\n      <td>23</td>\n      <td>1.0</td>\n      <td>0.01</td>\n      <td>0.23</td>\n    </tr>\n    <tr>\n      <th>2017-11-12</th>\n      <td>2017-11-12</td>\n      <td>0.001189</td>\n      <td>0.001210</td>\n      <td>0.001002</td>\n      <td>0.001038</td>\n      <td>0.001038</td>\n      <td>3288960</td>\n      <td>1.654020e+05</td>\n      <td>1.102</td>\n      <td>14.469</td>\n      <td>...</td>\n      <td>225.0</td>\n      <td>395.500000</td>\n      <td>336.0</td>\n      <td>732.0</td>\n      <td>67.0</td>\n      <td>0.0</td>\n      <td>23</td>\n      <td>1.0</td>\n      <td>0.01</td>\n      <td>0.23</td>\n    </tr>\n    <tr>\n      <th>2017-11-13</th>\n      <td>2017-11-13</td>\n      <td>0.001046</td>\n      <td>0.001212</td>\n      <td>0.001019</td>\n      <td>0.001211</td>\n      <td>0.001211</td>\n      <td>2481270</td>\n      <td>1.654527e+05</td>\n      <td>1.277</td>\n      <td>15.383</td>\n      <td>...</td>\n      <td>225.0</td>\n      <td>395.666667</td>\n      <td>336.0</td>\n      <td>732.0</td>\n      <td>67.0</td>\n      <td>0.0</td>\n      <td>41</td>\n      <td>1.0</td>\n      <td>0.01</td>\n      <td>0.41</td>\n    </tr>\n    <tr>\n      <th>...</th>\n      <td>...</td>\n      <td>...</td>\n      <td>...</td>\n      <td>...</td>\n      <td>...</td>\n      <td>...</td>\n      <td>...</td>\n      <td>...</td>\n      <td>...</td>\n      <td>...</td>\n      <td>...</td>\n      <td>...</td>\n      <td>...</td>\n      <td>...</td>\n      <td>...</td>\n      <td>...</td>\n      <td>...</td>\n      <td>...</td>\n      <td>...</td>\n      <td>...</td>\n      <td>...</td>\n    </tr>\n    <tr>\n      <th>2022-01-31</th>\n      <td>2022-01-31</td>\n      <td>0.139469</td>\n      <td>0.142264</td>\n      <td>0.136853</td>\n      <td>0.141805</td>\n      <td>0.141805</td>\n      <td>412307174</td>\n      <td>2.971374e+06</td>\n      <td>9.000</td>\n      <td>487.909</td>\n      <td>...</td>\n      <td>874.0</td>\n      <td>1061.000000</td>\n      <td>956.0</td>\n      <td>1065.0</td>\n      <td>129.0</td>\n      <td>0.0</td>\n      <td>23</td>\n      <td>4.0</td>\n      <td>0.04</td>\n      <td>0.92</td>\n    </tr>\n    <tr>\n      <th>2022-02-01</th>\n      <td>2022-02-01</td>\n      <td>0.141805</td>\n      <td>0.144129</td>\n      <td>0.141125</td>\n      <td>0.142631</td>\n      <td>0.142631</td>\n      <td>409432267</td>\n      <td>2.977053e+06</td>\n      <td>8.889</td>\n      <td>500.778</td>\n      <td>...</td>\n      <td>872.0</td>\n      <td>1062.000000</td>\n      <td>957.0</td>\n      <td>1065.0</td>\n      <td>129.0</td>\n      <td>0.0</td>\n      <td>93</td>\n      <td>4.0</td>\n      <td>0.04</td>\n      <td>3.72</td>\n    </tr>\n    <tr>\n      <th>2022-02-02</th>\n      <td>2022-02-02</td>\n      <td>0.142626</td>\n      <td>0.145253</td>\n      <td>0.136918</td>\n      <td>0.137235</td>\n      <td>0.137235</td>\n      <td>483194691</td>\n      <td>2.982243e+06</td>\n      <td>8.167</td>\n      <td>514.167</td>\n      <td>...</td>\n      <td>872.0</td>\n      <td>1062.000000</td>\n      <td>957.0</td>\n      <td>1065.0</td>\n      <td>129.0</td>\n      <td>0.0</td>\n      <td>87</td>\n      <td>4.0</td>\n      <td>0.04</td>\n      <td>3.48</td>\n    </tr>\n    <tr>\n      <th>2022-02-03</th>\n      <td>2022-02-03</td>\n      <td>0.137213</td>\n      <td>0.138747</td>\n      <td>0.135565</td>\n      <td>0.137541</td>\n      <td>0.137541</td>\n      <td>383506507</td>\n      <td>2.987430e+06</td>\n      <td>6.455</td>\n      <td>404.000</td>\n      <td>...</td>\n      <td>872.0</td>\n      <td>1062.000000</td>\n      <td>957.0</td>\n      <td>1065.0</td>\n      <td>129.0</td>\n      <td>0.0</td>\n      <td>82</td>\n      <td>4.0</td>\n      <td>0.04</td>\n      <td>3.28</td>\n    </tr>\n    <tr>\n      <th>2022-02-04</th>\n      <td>2022-02-04</td>\n      <td>0.137687</td>\n      <td>0.142551</td>\n      <td>0.137261</td>\n      <td>0.141685</td>\n      <td>0.141685</td>\n      <td>454621984</td>\n      <td>2.991859e+06</td>\n      <td>10.375</td>\n      <td>822.000</td>\n      <td>...</td>\n      <td>873.0</td>\n      <td>1062.000000</td>\n      <td>957.0</td>\n      <td>1065.0</td>\n      <td>129.0</td>\n      <td>0.0</td>\n      <td>100</td>\n      <td>4.0</td>\n      <td>0.04</td>\n      <td>4.00</td>\n    </tr>\n  </tbody>\n</table>\n<p>1549 rows × 24 columns</p>\n</div>"
     },
     "execution_count": 245,
     "metadata": {},
     "output_type": "execute_result"
    }
   ],
   "source": [
    "df = pd.read_csv('../doge_v1.csv')\n",
    "\n",
    "df = df.set_index(pd.DatetimeIndex(df['Date'].values))\n",
    "df"
   ],
   "metadata": {
    "collapsed": false,
    "pycharm": {
     "name": "#%%\n"
    }
   }
  },
  {
   "cell_type": "code",
   "execution_count": 246,
   "outputs": [
    {
     "data": {
      "text/plain": "<AxesSubplot:>"
     },
     "execution_count": 246,
     "metadata": {},
     "output_type": "execute_result"
    },
    {
     "data": {
      "text/plain": "<Figure size 1152x144 with 1 Axes>",
      "image/png": "[encoded data removed]"
     },
     "metadata": {},
     "output_type": "display_data"
    }
   ],
   "source": [
    "df = df.resample('D').ffill()\n",
    "df.Close.plot(figsize=(16, 2), color=\"red\", label='Close price', lw=2, alpha =.7)"
   ],
   "metadata": {
    "collapsed": false,
    "pycharm": {
     "name": "#%%\n"
    }
   }
  },
  {
   "cell_type": "code",
   "execution_count": 247,
   "outputs": [],
   "source": [
    "future_days = 1\n",
    "columnName = str(future_days)+'_day_price_forecast'"
   ],
   "metadata": {
    "collapsed": false,
    "pycharm": {
     "name": "#%%\n"
    }
   }
  },
  {
   "cell_type": "code",
   "execution_count": 248,
   "outputs": [
    {
     "data": {
      "text/plain": "               Close  1_day_price_forecast\n2017-11-09  0.001415              0.001163\n2017-11-10  0.001163              0.001201\n2017-11-11  0.001201              0.001038\n2017-11-12  0.001038              0.001211\n2017-11-13  0.001211              0.001184\n...              ...                   ...\n2022-01-31  0.141805              0.142631\n2022-02-01  0.142631              0.137235\n2022-02-02  0.137235              0.137541\n2022-02-03  0.137541              0.141685\n2022-02-04  0.141685                   NaN\n\n[1549 rows x 2 columns]",
      "text/html": "<div>\n<style scoped>\n    .dataframe tbody tr th:only-of-type {\n        vertical-align: middle;\n    }\n\n    .dataframe tbody tr th {\n        vertical-align: top;\n    }\n\n    .dataframe thead th {\n        text-align: right;\n    }\n</style>\n<table border=\"1\" class=\"dataframe\">\n  <thead>\n    <tr style=\"text-align: right;\">\n      <th></th>\n      <th>Close</th>\n      <th>1_day_price_forecast</th>\n    </tr>\n  </thead>\n  <tbody>\n    <tr>\n      <th>2017-11-09</th>\n      <td>0.001415</td>\n      <td>0.001163</td>\n    </tr>\n    <tr>\n      <th>2017-11-10</th>\n      <td>0.001163</td>\n      <td>0.001201</td>\n    </tr>\n    <tr>\n      <th>2017-11-11</th>\n      <td>0.001201</td>\n      <td>0.001038</td>\n    </tr>\n    <tr>\n      <th>2017-11-12</th>\n      <td>0.001038</td>\n      <td>0.001211</td>\n    </tr>\n    <tr>\n      <th>2017-11-13</th>\n      <td>0.001211</td>\n      <td>0.001184</td>\n    </tr>\n    <tr>\n      <th>...</th>\n      <td>...</td>\n      <td>...</td>\n    </tr>\n    <tr>\n      <th>2022-01-31</th>\n      <td>0.141805</td>\n      <td>0.142631</td>\n    </tr>\n    <tr>\n      <th>2022-02-01</th>\n      <td>0.142631</td>\n      <td>0.137235</td>\n    </tr>\n    <tr>\n      <th>2022-02-02</th>\n      <td>0.137235</td>\n      <td>0.137541</td>\n    </tr>\n    <tr>\n      <th>2022-02-03</th>\n      <td>0.137541</td>\n      <td>0.141685</td>\n    </tr>\n    <tr>\n      <th>2022-02-04</th>\n      <td>0.141685</td>\n      <td>NaN</td>\n    </tr>\n  </tbody>\n</table>\n<p>1549 rows × 2 columns</p>\n</div>"
     },
     "execution_count": 248,
     "metadata": {},
     "output_type": "execute_result"
    }
   ],
   "source": [
    "#added new column\n",
    "df[columnName] = df[['Close']].shift(-future_days)\n",
    "\n",
    "df[['Close', columnName]]"
   ],
   "metadata": {
    "collapsed": false,
    "pycharm": {
     "name": "#%%\n"
    }
   }
  },
  {
   "cell_type": "code",
   "execution_count": 249,
   "outputs": [
    {
     "name": "stdout",
     "output_type": "stream",
     "text": [
      "<class 'pandas.core.frame.DataFrame'>\n",
      "DatetimeIndex: 1549 entries, 2017-11-09 to 2022-02-04\n",
      "Freq: D\n",
      "Data columns (total 25 columns):\n",
      " #   Column                       Non-Null Count  Dtype  \n",
      "---  ------                       --------------  -----  \n",
      " 0   Date                         1549 non-null   object \n",
      " 1   Open                         1549 non-null   float64\n",
      " 2   High                         1549 non-null   float64\n",
      " 3   Low                          1549 non-null   float64\n",
      " 4   Close                        1549 non-null   float64\n",
      " 5   Adj Close                    1549 non-null   float64\n",
      " 6   Volume                       1549 non-null   int64  \n",
      " 7   twitter_followers            1549 non-null   float64\n",
      " 8   reddit_average_posts_48h     1549 non-null   float64\n",
      " 9   reddit_average_comments_48h  1549 non-null   float64\n",
      " 10  reddit_subscribers           1549 non-null   float64\n",
      " 11  reddit_accounts_active_48h   1549 non-null   float64\n",
      " 12  forks                        1549 non-null   float64\n",
      " 13  stars                        1549 non-null   float64\n",
      " 14  subscribers                  1549 non-null   float64\n",
      " 15  total_issues                 1549 non-null   float64\n",
      " 16  closed_issues                1549 non-null   float64\n",
      " 17  pull_requests_merged         1549 non-null   float64\n",
      " 18  pull_request_contributors    1549 non-null   float64\n",
      " 19  commit_count_4_weeks         1549 non-null   float64\n",
      " 20  dogecoin_unscaled            1549 non-null   int64  \n",
      " 21  dogecoin_monthly             1549 non-null   float64\n",
      " 22  scale                        1549 non-null   float64\n",
      " 23  dogecoin                     1549 non-null   float64\n",
      " 24  1_day_price_forecast         1548 non-null   float64\n",
      "dtypes: float64(22), int64(2), object(1)\n",
      "memory usage: 314.6+ KB\n"
     ]
    }
   ],
   "source": [
    "df.info()"
   ],
   "metadata": {
    "collapsed": false,
    "pycharm": {
     "name": "#%%\n"
    }
   }
  },
  {
   "cell_type": "code",
   "execution_count": 250,
   "outputs": [
    {
     "name": "stdout",
     "output_type": "stream",
     "text": [
      "(1549, 25)\n",
      "[[1.41500000e-03 1.18100000e-03 6.25955000e+06 ... 0.00000000e+00\n",
      "  1.00000000e+00 5.70000000e-01]\n",
      " [1.43100000e-03 1.12500000e-03 4.24652000e+06 ... 0.00000000e+00\n",
      "  1.00000000e+00 2.40000000e-01]\n",
      " [1.25700000e-03 1.14100000e-03 2.23108000e+06 ... 0.00000000e+00\n",
      "  1.00000000e+00 2.30000000e-01]\n",
      " ...\n",
      " [1.44129000e-01 1.41125000e-01 4.09432267e+08 ... 0.00000000e+00\n",
      "  4.00000000e+00 3.72000000e+00]\n",
      " [1.45253000e-01 1.36918000e-01 4.83194691e+08 ... 0.00000000e+00\n",
      "  4.00000000e+00 3.48000000e+00]\n",
      " [1.38747000e-01 1.35565000e-01 3.83506507e+08 ... 0.00000000e+00\n",
      "  4.00000000e+00 3.28000000e+00]]\n"
     ]
    }
   ],
   "source": [
    "X = np.array(df[[\"High\", \"Low\", \"Volume\", \"Open\", \"twitter_followers\", \"reddit_average_posts_48h\",\n",
    "                \"reddit_average_comments_48h\", \"reddit_subscribers\", \"reddit_accounts_active_48h\", \"forks\", \"stars\",\n",
    "                \"subscribers\", \"total_issues\", \"closed_issues\", \"pull_requests_merged\", \"pull_request_contributors\",\n",
    "                \"commit_count_4_weeks\", \"dogecoin_monthly\", \"dogecoin\"]])\n",
    "\n",
    "\n",
    "print(df.shape)\n",
    "\n",
    "X = X[:df.shape[0] - future_days]\n",
    "print(X)"
   ],
   "metadata": {
    "collapsed": false,
    "pycharm": {
     "name": "#%%\n"
    }
   }
  },
  {
   "cell_type": "code",
   "execution_count": 251,
   "outputs": [
    {
     "name": "stdout",
     "output_type": "stream",
     "text": [
      "[0.001163 0.001201 0.001038 ... 0.137235 0.137541 0.141685]\n"
     ]
    }
   ],
   "source": [
    "y = np.array(df[columnName])\n",
    "y = y[:-future_days]\n",
    "print(y)"
   ],
   "metadata": {
    "collapsed": false,
    "pycharm": {
     "name": "#%%\n"
    }
   }
  },
  {
   "cell_type": "code",
   "execution_count": 252,
   "outputs": [],
   "source": [
    "from sklearn.model_selection import train_test_split\n",
    "\n",
    "x_train, x_test, y_train, y_test = train_test_split(X,y, test_size = 0.2, shuffle=False)"
   ],
   "metadata": {
    "collapsed": false,
    "pycharm": {
     "name": "#%%\n"
    }
   }
  },
  {
   "cell_type": "code",
   "execution_count": 253,
   "outputs": [
    {
     "name": "stdout",
     "output_type": "stream",
     "text": [
      "Scaled X_l:\n",
      "[[-0.39367943 -0.41385857 -0.2014769  ... -0.31944861 -0.10595194\n",
      "  -0.04440799]\n",
      " [-0.39238134 -0.41915265 -0.20310446 ... -0.31944861 -0.10595194\n",
      "  -0.14081802]\n",
      " [-0.406498   -0.41764006 -0.20473396 ... -0.31944861 -0.10595194\n",
      "  -0.14373953]\n",
      " ...\n",
      " [ 3.93356113  4.48618801  0.16575939 ...  0.57790687  0.65488621\n",
      "   0.27988029]\n",
      " [ 3.92536698  4.50150302  0.22837542 ... -0.31944861  0.65488621\n",
      "   0.43764216]\n",
      " [ 3.98889191  4.55085138  0.38279042 ... -0.31944861  0.65488621\n",
      "   0.45517125]]\n",
      "Scaled y_p:\n",
      "[[-0.41644404]\n",
      " [-0.41315149]\n",
      " [-0.42727479]\n",
      " ...\n",
      " [ 4.1661761 ]\n",
      " [ 4.15300591]\n",
      " [ 4.13195093]]\n"
     ]
    }
   ],
   "source": [
    "from sklearn.preprocessing import StandardScaler\n",
    "\n",
    "\n",
    "StdS_X = StandardScaler()\n",
    "StdS_y = StandardScaler()\n",
    "X_l = StdS_X.fit_transform(x_train)\n",
    "y_p = StdS_y.fit_transform(y_train.reshape(-1,1))\n",
    "\n",
    "print(\"Scaled X_l:\")\n",
    "print(X_l)\n",
    "print(\"Scaled y_p:\")\n",
    "print(y_p)"
   ],
   "metadata": {
    "collapsed": false,
    "pycharm": {
     "name": "#%%\n"
    }
   }
  },
  {
   "cell_type": "code",
   "execution_count": 254,
   "outputs": [
    {
     "name": "stdout",
     "output_type": "stream",
     "text": [
      "Scaled X_l_test:\n",
      "[[-1.85848319 -2.11900651 -0.48809287 ... -0.44664227 -0.47087352\n",
      "  -0.45317956]\n",
      " [-1.71853358 -2.10261672  0.22048017 ... -0.44664227 -0.47087352\n",
      "  -0.59946706]\n",
      " [-1.78887072 -2.05864441 -0.28036058 ... -0.44664227 -0.47087352\n",
      "  -0.60488512]\n",
      " ...\n",
      " [-1.05633384 -1.05985672 -0.52157589 ... -0.44664227 -0.55783854\n",
      "  -0.2906379 ]\n",
      " [-1.04627801 -1.11000351 -0.51145202 ... -0.44664227 -0.55783854\n",
      "  -0.31231012]\n",
      " [-1.10448373 -1.12613106 -0.52513419 ... -0.44664227 -0.55783854\n",
      "  -0.3303703 ]]\n",
      "Scaled y_p_test:\n",
      "[[-1.90109281e+00]\n",
      " [-1.94558719e+00]\n",
      " [-1.96473563e+00]\n",
      " [-1.94826386e+00]\n",
      " [-1.92466804e+00]\n",
      " [-1.87564392e+00]\n",
      " [-1.93154500e+00]\n",
      " [-1.90646673e+00]\n",
      " [-1.90420186e+00]\n",
      " [-1.88195467e+00]\n",
      " [-1.77072902e+00]\n",
      " [-1.81069366e+00]\n",
      " [-1.57722685e+00]\n",
      " [-1.28822958e+00]\n",
      " [-6.63434603e-01]\n",
      " [ 1.22735003e+00]\n",
      " [ 3.86290962e-01]\n",
      " [ 7.60014923e-01]\n",
      " [ 1.65405134e+00]\n",
      " [ 7.49977436e-01]\n",
      " [ 6.20519587e-01]\n",
      " [ 1.47388470e-01]\n",
      " [ 1.91351203e-02]\n",
      " [ 2.42564439e-01]\n",
      " [ 4.59223427e-02]\n",
      " [ 2.47320664e-01]\n",
      " [ 2.62907080e-01]\n",
      " [ 7.93030535e-01]\n",
      " [ 6.02441815e-01]\n",
      " [ 9.35912879e-01]\n",
      " [ 1.50651572e+00]\n",
      " [ 1.33211052e+00]\n",
      " [ 2.00808124e+00]\n",
      " [ 3.03372713e+00]\n",
      " [ 4.23100890e+00]\n",
      " [ 3.44006520e+00]\n",
      " [ 4.51045254e+00]\n",
      " [ 4.01281966e+00]\n",
      " [ 3.32956019e+00]\n",
      " [ 2.09308588e+00]\n",
      " [ 2.55910325e+00]\n",
      " [ 1.42816155e+00]\n",
      " [ 2.50910112e+00]\n",
      " [ 3.22181419e+00]\n",
      " [ 2.69027005e+00]\n",
      " [ 2.76154136e+00]\n",
      " [ 2.48354929e+00]\n",
      " [ 2.36230673e+00]\n",
      " [ 8.90224296e-01]\n",
      " [ 1.58071077e+00]\n",
      " [ 1.16055699e+00]\n",
      " [ 9.85431150e-01]\n",
      " [ 6.32317495e-01]\n",
      " [ 1.23035613e+00]\n",
      " [ 1.02590024e+00]\n",
      " [ 1.10198954e+00]\n",
      " [ 8.88391811e-01]\n",
      " [ 6.64581583e-01]\n",
      " [ 5.81244701e-01]\n",
      " [ 5.72123457e-01]\n",
      " [ 8.14937994e-01]\n",
      " [ 1.27066051e+00]\n",
      " [ 1.81934559e+00]\n",
      " [ 1.57833265e+00]\n",
      " [ 1.33496219e+00]\n",
      " [ 1.29227971e+00]\n",
      " [ 1.28847061e+00]\n",
      " [ 8.68883054e-01]\n",
      " [ 8.34261444e-01]\n",
      " [ 9.95314214e-01]\n",
      " [ 8.20507513e-01]\n",
      " [ 7.48525861e-01]\n",
      " [ 6.73630763e-01]\n",
      " [ 8.00236936e-01]\n",
      " [ 8.79538233e-01]\n",
      " [ 8.41406076e-01]\n",
      " [ 6.29126089e-01]\n",
      " [ 6.16103093e-01]\n",
      " [ 4.82022853e-01]\n",
      " [ 4.19059497e-01]\n",
      " [ 3.52595889e-01]\n",
      " [-6.99631326e-01]\n",
      " [-5.72592769e-01]\n",
      " [-1.49031397e-01]\n",
      " [ 1.66073639e-01]\n",
      " [-7.71835779e-02]\n",
      " [-1.92132284e-02]\n",
      " [ 1.83245463e-01]\n",
      " [ 1.05076601e-01]\n",
      " [ 1.65939806e-01]\n",
      " [ 7.78775842e-02]\n",
      " [-2.16325202e-02]\n",
      " [-1.42716962e-02]\n",
      " [-2.46349327e-03]\n",
      " [-1.72226345e-03]\n",
      " [-1.54796518e-01]\n",
      " [-1.25888554e-01]\n",
      " [-2.31884420e-01]\n",
      " [-4.02048140e-01]\n",
      " [-2.75761108e-01]\n",
      " [-3.36953748e-01]\n",
      " [-3.17022901e-01]\n",
      " [-3.97405158e-01]\n",
      " [-4.80227297e-01]\n",
      " [-5.07807223e-01]\n",
      " [-6.35834086e-01]\n",
      " [-7.64962499e-01]\n",
      " [-6.23099346e-01]\n",
      " [-6.63166936e-01]\n",
      " [-7.52495425e-01]\n",
      " [-7.80857761e-01]\n",
      " [-5.79613863e-01]\n",
      " [-5.69792568e-01]\n",
      " [-5.34162062e-01]\n",
      " [-5.07858698e-01]\n",
      " [-5.02248000e-01]\n",
      " [-4.34765201e-01]\n",
      " [-4.19528810e-01]\n",
      " [-4.24748303e-01]\n",
      " [-4.32706229e-01]\n",
      " [-3.89447233e-01]\n",
      " [-3.94666726e-01]\n",
      " [-4.34579893e-01]\n",
      " [-4.43196690e-01]\n",
      " [-5.21777347e-01]\n",
      " [-4.64918842e-01]\n",
      " [-4.70230989e-01]\n",
      " [-4.31995884e-01]\n",
      " [ 1.40943889e-01]\n",
      " [-6.80005639e-02]\n",
      " [ 1.05488395e-01]\n",
      " [ 1.09894595e-01]\n",
      " [ 1.91615183e-01]\n",
      " [ 1.77799483e-01]\n",
      " [ 4.13417914e-01]\n",
      " [ 4.78326999e-01]\n",
      " [ 9.75856931e-01]\n",
      " [ 7.62485689e-01]\n",
      " [ 5.43483160e-01]\n",
      " [ 5.87720167e-01]\n",
      " [ 7.25722749e-01]\n",
      " [ 8.32243652e-01]\n",
      " [ 7.22150433e-01]\n",
      " [ 7.03269662e-01]\n",
      " [ 7.33649790e-01]\n",
      " [ 4.33297287e-01]\n",
      " [ 4.69195459e-01]\n",
      " [ 2.29150238e-01]\n",
      " [ 4.91916212e-01]\n",
      " [ 4.01280276e-01]\n",
      " [ 3.54912232e-01]\n",
      " [ 2.62258504e-01]\n",
      " [ 3.27404370e-01]\n",
      " [ 4.91586777e-01]\n",
      " [ 5.07584987e-01]\n",
      " [ 5.10858752e-01]\n",
      " [ 5.42927237e-01]\n",
      " [ 6.98781103e-01]\n",
      " [ 6.39462127e-01]\n",
      " [ 7.30287057e-02]\n",
      " [ 1.07712085e-01]\n",
      " [ 6.12102079e-02]\n",
      " [-6.86491400e-02]\n",
      " [-5.37215948e-02]\n",
      " [ 4.08366825e-02]\n",
      " [-1.10610984e-01]\n",
      " [-6.11647777e-02]\n",
      " [ 1.07756950e-02]\n",
      " [-4.21604685e-02]\n",
      " [-6.91844726e-02]\n",
      " [-5.41951583e-02]\n",
      " [-1.39065974e-01]\n",
      " [-4.07463235e-01]\n",
      " [-4.69685361e-01]\n",
      " [-2.24348583e-01]\n",
      " [-2.24616250e-01]\n",
      " [-3.82961472e-01]\n",
      " [-3.91310602e-01]\n",
      " [-4.29175092e-01]\n",
      " [-4.77560928e-01]\n",
      " [-5.13160550e-01]\n",
      " [-4.91829603e-01]\n",
      " [-4.36566801e-01]\n",
      " [-2.43373482e-01]\n",
      " [-2.83286649e-01]\n",
      " [-2.56365594e-01]\n",
      " [-5.96926129e-02]\n",
      " [ 5.52391899e-02]\n",
      " [ 8.73385593e-02]\n",
      " [-3.83719605e-02]\n",
      " [-2.88183316e-02]\n",
      " [-5.58944410e-04]\n",
      " [-1.73419917e-01]\n",
      " [-1.55939247e-01]\n",
      " [-2.10100499e-01]\n",
      " [-1.44934043e-01]\n",
      " [-1.48012206e-01]\n",
      " [-1.32477264e-01]\n",
      " [-9.63423099e-02]\n",
      " [-9.01036256e-02]\n",
      " [ 6.49303381e-03]\n",
      " [-8.87719026e-03]\n",
      " [ 7.66216114e-02]\n",
      " [-4.38488253e-02]\n",
      " [-2.50092339e-02]\n",
      " [ 5.23257448e-02]\n",
      " [ 3.12940093e-01]\n",
      " [ 1.85891242e-01]\n",
      " [ 9.34948849e-02]\n",
      " [-9.22449562e-02]\n",
      " [ 5.53829493e-01]\n",
      " [ 4.24176042e-01]\n",
      " [ 2.23343938e-01]\n",
      " [ 3.45842462e-01]\n",
      " [ 2.58171445e-01]\n",
      " [ 2.72512183e-01]\n",
      " [ 2.34277078e-01]\n",
      " [ 1.71200478e-01]\n",
      " [ 1.52515310e-01]\n",
      " [ 1.56972984e-01]\n",
      " [ 2.02445375e-01]\n",
      " [ 3.67616088e-01]\n",
      " [ 2.76681601e-01]\n",
      " [ 9.32581031e-02]\n",
      " [ 1.49447442e-01]\n",
      " [ 1.31400555e-01]\n",
      " [ 1.54996371e-01]\n",
      " [ 1.67411970e-01]\n",
      " [ 1.01699887e-01]\n",
      " [-9.67849889e-02]\n",
      " [-9.43348125e-02]\n",
      " [-2.60123217e-01]\n",
      " [-1.39395409e-01]\n",
      " [-1.40280767e-01]\n",
      " [-2.09215141e-01]\n",
      " [-2.77696541e-01]\n",
      " [-2.07320887e-01]\n",
      " [-2.55572890e-01]\n",
      " [-3.12184318e-01]\n",
      " [-4.71126642e-01]\n",
      " [-4.25211572e-01]\n",
      " [-4.03334997e-01]\n",
      " [-3.24033700e-01]\n",
      " [-3.28769335e-01]\n",
      " [-3.82590857e-01]\n",
      " [-3.80130385e-01]\n",
      " [-4.80330245e-01]\n",
      " [-6.97963559e-01]\n",
      " [-7.76183895e-01]\n",
      " [-7.02627130e-01]\n",
      " [-7.19047429e-01]\n",
      " [-6.94895691e-01]\n",
      " [-7.94416090e-01]\n",
      " [-8.46528665e-01]\n",
      " [-7.99203199e-01]\n",
      " [-7.90226083e-01]\n",
      " [-9.17120511e-01]\n",
      " [-6.84539063e-01]\n",
      " [-6.75016319e-01]\n",
      " [-7.53545501e-01]\n",
      " [-7.99295853e-01]\n",
      " [-7.64396282e-01]\n",
      " [-7.93468963e-01]\n",
      " [-8.16673575e-01]\n",
      " [-7.77007484e-01]\n",
      " [-7.56016267e-01]\n",
      " [-6.39931440e-01]\n",
      " [-6.17982801e-01]\n",
      " [-5.76443046e-01]\n",
      " [-5.83000871e-01]\n",
      " [-6.06833469e-01]\n",
      " [-7.46720010e-01]\n",
      " [-8.12112952e-01]\n",
      " [-7.75586793e-01]\n",
      " [-7.83997693e-01]\n",
      " [-7.57859047e-01]\n",
      " [-7.43775680e-01]\n",
      " [-7.88197995e-01]\n",
      " [-8.01426889e-01]\n",
      " [-8.98023548e-01]\n",
      " [-8.89859725e-01]\n",
      " [-9.43290042e-01]\n",
      " [-9.74884963e-01]\n",
      " [-9.84037093e-01]\n",
      " [-1.06336927e+00]\n",
      " [-9.60008893e-01]\n",
      " [-8.75045424e-01]\n",
      " [-7.68071547e-01]\n",
      " [-6.49618902e-01]\n",
      " [-6.33620692e-01]\n",
      " [-7.15228037e-01]\n",
      " [-7.77316330e-01]\n",
      " [-8.35585230e-01]\n",
      " [-8.67797843e-01]\n",
      " [-9.41426673e-01]\n",
      " [-1.07077128e+00]\n",
      " [-1.17112556e+00]\n",
      " [-1.07877038e+00]\n",
      " [-1.12061898e+00]\n",
      " [-1.06656068e+00]\n",
      " [-1.05894248e+00]\n",
      " [-1.08511202e+00]\n",
      " [-1.08090142e+00]\n",
      " [-1.06648862e+00]\n",
      " [-1.10339568e+00]\n",
      " [-1.07936748e+00]\n",
      " [-1.07086393e+00]\n",
      " [-1.12641499e+00]\n",
      " [-1.12326476e+00]\n",
      " [-1.08060287e+00]]\n"
     ]
    }
   ],
   "source": [
    "\n",
    "StdS_X_test = StandardScaler()\n",
    "StdS_y_test = StandardScaler()\n",
    "\n",
    "X_l_test = StdS_X_test.fit_transform(x_test)\n",
    "y_p_test = StdS_y_test.fit_transform(y_test.reshape(-1,1))\n",
    "\n",
    "print(\"Scaled X_l_test:\")\n",
    "print(X_l_test)\n",
    "print(\"Scaled y_p_test:\")\n",
    "print(y_p_test)"
   ],
   "metadata": {
    "collapsed": false,
    "pycharm": {
     "name": "#%%\n"
    }
   }
  },
  {
   "cell_type": "code",
   "execution_count": 255,
   "outputs": [
    {
     "name": "stderr",
     "output_type": "stream",
     "text": [
      "C:\\Users\\nikol\\Desktop\\SIAP - projekat\\SIAP_2022\\venv\\lib\\site-packages\\sklearn\\utils\\validation.py:993: DataConversionWarning: A column-vector y was passed when a 1d array was expected. Please change the shape of y to (n_samples, ), for example using ravel().\n",
      "  y = column_or_1d(y, warn=True)\n"
     ]
    },
    {
     "data": {
      "text/plain": "SVR(C=1000.0, gamma='auto', kernel='linear')"
     },
     "execution_count": 255,
     "metadata": {},
     "output_type": "execute_result"
    }
   ],
   "source": [
    "from sklearn.svm import SVR\n",
    "svr_linear = SVR(kernel='linear', C = 1e3, gamma=\"auto\")\n",
    "svr_linear.fit(X_l, y_p)"
   ],
   "metadata": {
    "collapsed": false,
    "pycharm": {
     "name": "#%%\n"
    }
   }
  },
  {
   "cell_type": "code",
   "execution_count": 256,
   "outputs": [
    {
     "data": {
      "text/plain": "LinearRegression()"
     },
     "execution_count": 256,
     "metadata": {},
     "output_type": "execute_result"
    }
   ],
   "source": [
    "from sklearn.linear_model import LinearRegression\n",
    "# Create and train the Linear Regression  Model\n",
    "lr = LinearRegression()\n",
    "# Train the model\n",
    "lr.fit(X_l, y_p)"
   ],
   "metadata": {
    "collapsed": false,
    "pycharm": {
     "name": "#%%\n"
    }
   }
  },
  {
   "cell_type": "code",
   "execution_count": 257,
   "outputs": [
    {
     "name": "stdout",
     "output_type": "stream",
     "text": [
      "lr confidence:  0.7745555395734195\n",
      "svr_linear confidence 0.8423569442828335\n"
     ]
    }
   ],
   "source": [
    "# Testing Model: Score returns the coefficient of determination R^2 of the prediction.\n",
    "# The best possible score is 1.0\n",
    "lr_confidence = lr.score(X_l_test, y_p_test)\n",
    "print(\"lr confidence: \", lr_confidence)\n",
    "\n",
    "svr_linear_confidence = svr_linear.score(X_l_test, y_p_test)\n",
    "print('svr_linear confidence', svr_linear_confidence)"
   ],
   "metadata": {
    "collapsed": false,
    "pycharm": {
     "name": "#%%\n"
    }
   }
  },
  {
   "cell_type": "code",
   "execution_count": 258,
   "outputs": [
    {
     "name": "stdout",
     "output_type": "stream",
     "text": [
      "[-1.76457576e+00 -1.73843568e+00 -1.75363340e+00 -1.77079537e+00\n",
      " -1.77997640e+00 -1.78595569e+00 -1.74359553e+00 -1.73747335e+00\n",
      " -1.75328063e+00 -1.73734318e+00 -1.72714172e+00 -1.62918243e+00\n",
      " -1.61606579e+00 -1.52483040e+00 -1.38193483e+00 -9.66851211e-01\n",
      "  3.64032232e-01  2.22681969e-01  2.94351021e-01  8.64776814e-01\n",
      "  7.04902961e-01  5.63785093e-01  2.40903326e-01 -1.69602331e-01\n",
      "  1.49551650e-01  9.17444930e-02  1.23474645e-01  1.05246566e-01\n",
      "  4.34662975e-01  3.39714454e-01  5.21244184e-01  8.75299921e-01\n",
      "  9.52135046e-01  1.37521048e+00  2.25466207e+00  2.93540100e+00\n",
      "  2.84917566e+00  3.36417430e+00  3.37506021e+00  2.88517243e+00\n",
      "  2.39397671e+00  2.35190327e+00  2.02643249e+00  2.03839296e+00\n",
      "  2.45532104e+00  2.15520730e+00  1.98037702e+00  1.71468821e+00\n",
      "  1.84209085e+00  3.14651924e+00  1.25874727e+00  1.02865906e+00\n",
      "  6.93540300e-01  5.34885333e-01  8.29957885e-01  7.69063234e-01\n",
      "  7.35165041e-01  5.85191074e-01  5.77003661e-01  3.70989917e-01\n",
      "  3.03982630e-01  5.08940501e-01  9.11664360e-01  1.29120254e+00\n",
      "  1.21488887e+00  9.02476947e-01  9.41017872e-01  7.81006480e-01\n",
      "  7.81926812e-01  4.93827855e-01  6.18435673e-01  5.24490699e-01\n",
      "  4.61742900e-01  3.61310496e-01  4.52703696e-01  4.94356335e-01\n",
      "  4.09748889e-01  3.09335960e-01  2.61993688e-01  2.09699344e-01\n",
      "  1.35345221e-01  8.87526718e-02 -8.62559764e-02 -4.24292499e-01\n",
      " -1.70919339e-01 -5.57413360e-02  3.38617848e-02 -1.55179823e-01\n",
      " -3.73101885e-02 -7.27268242e-02 -1.76815985e-02 -1.72935826e-01\n",
      " -1.29821475e-01 -2.00789624e-01 -1.72816168e-01 -1.84173421e-01\n",
      " -2.89956779e-01 -2.98998353e-01 -3.26509683e-01 -4.40730897e-01\n",
      " -4.07612804e-01 -3.93462326e-01 -4.74584562e-01 -4.66706224e-01\n",
      " -5.35181558e-01 -5.78865529e-01 -6.15929987e-01 -6.65444989e-01\n",
      " -5.48122097e-01 -6.13031606e-01 -7.26531413e-01 -7.53072119e-01\n",
      " -4.75522138e-01 -6.01936831e-01 -5.89129576e-01 -5.58321311e-01\n",
      " -5.96911903e-01 -3.57362763e-01 -5.51724299e-01 -5.32989254e-01\n",
      " -5.73584112e-01 -5.34575645e-01 -4.92402307e-01 -4.85192194e-01\n",
      " -5.37756386e-01 -5.94272754e-01 -6.02097058e-01 -6.00468873e-01\n",
      " -5.06193322e-01 -1.48183284e-01 -9.90239432e-02 -1.82112814e-01\n",
      " -2.02317723e-01 -3.40999189e-03  5.75034444e-02  5.80868067e-02\n",
      "  9.97227890e-02  4.76445348e-01  4.20747799e-01  3.68026832e-01\n",
      "  2.48056957e-01  2.33829507e-01  3.38060754e-01  3.48708163e-01\n",
      "  3.48689752e-01  4.33842211e-01  3.14105082e-01  1.89993889e-01\n",
      "  2.08993834e-01  2.38624353e-01  2.22181970e-01  1.72526931e-01\n",
      "  1.67100210e-01  1.42149334e-01  2.84775713e-01  4.24013606e-01\n",
      "  4.24704422e-01  5.27053481e-01  5.29862861e-01  5.53488802e-01\n",
      "  4.40827160e-01  1.97499388e-01  1.94428993e-01  1.81975050e-01\n",
      "  1.02493484e-01  1.79598946e-01  1.16001210e-01  7.76308461e-02\n",
      "  1.04382041e-01  1.05529755e-01  1.98544441e-01  1.16788102e-01\n",
      "  3.26219204e-02 -4.73841614e-02 -8.95680131e-02  3.61153382e-02\n",
      "  7.43950464e-05 -5.27023538e-02 -1.53519685e-01 -2.18827099e-01\n",
      " -1.89203632e-01 -2.34543775e-01 -2.05246230e-01 -1.78349838e-01\n",
      " -3.97704352e-02 -6.47264907e-02 -4.40551526e-02  7.45785543e-02\n",
      "  1.87249221e-01  2.22182964e-01  1.15836878e-01  1.53826661e-01\n",
      "  1.36623721e-01  8.08220075e-02  3.38243983e-02 -5.72398760e-02\n",
      " -8.20118713e-03  4.83607728e-02  6.08756085e-02  7.82836612e-02\n",
      "  2.61048301e-02  2.41643286e-01  1.38161643e-01  1.91999409e-01\n",
      "  1.19393842e-01  6.88476913e-02  9.90573863e-02  2.93566183e-01\n",
      "  2.72281680e-01  2.40262836e-01  1.17534034e-01  5.07995888e-01\n",
      "  3.87826421e-01  3.25525630e-01  2.68020410e-01  3.14687139e-01\n",
      "  2.81776288e-01  2.39647350e-01  1.76786606e-01  2.23236019e-01\n",
      "  1.84362252e-01  1.96504174e-01  3.77571614e-01  3.22341679e-01\n",
      "  2.20259521e-01  2.21968132e-01  2.13913605e-01  1.84732623e-01\n",
      "  2.46973844e-01  1.88609124e-01  1.19947557e-01  4.01026221e-02\n",
      "  2.56771574e-03  3.38381855e-02 -2.74904707e-02 -5.10535187e-02\n",
      " -7.73802307e-02 -7.01549974e-03 -9.07837320e-02 -1.49562073e-02\n",
      " -1.02836633e-01 -1.85723956e-01 -2.31894459e-01 -1.07961269e-01\n",
      " -9.95311230e-02 -1.39422143e-01 -1.15282680e-01 -2.17201123e-01\n",
      " -3.90444918e-01 -4.57432298e-01 -3.88959518e-01 -3.93780118e-01\n",
      " -4.71491639e-01 -4.73004122e-01 -4.87502356e-01 -4.88000322e-01\n",
      " -4.68336985e-01 -5.37188053e-01 -1.15150562e-01 -4.09770721e-01\n",
      " -4.15304962e-01 -4.72449655e-01 -4.85440972e-01 -5.18091879e-01\n",
      " -5.54964763e-01 -4.87736292e-01 -3.84863545e-01 -3.94391671e-01\n",
      " -3.75874900e-01 -3.32970803e-01 -3.58339122e-01 -4.19629678e-01\n",
      " -4.91530892e-01 -4.88033539e-01 -5.42037449e-01 -5.46192752e-01\n",
      " -5.26823280e-01 -5.41489517e-01 -5.29794735e-01 -6.03223081e-01\n",
      " -5.99457909e-01 -6.57834673e-01 -6.61620361e-01 -7.31118528e-01\n",
      " -7.13484991e-01 -5.98757525e-01 -5.32276796e-01 -6.35914737e-01\n",
      " -5.41353249e-01 -3.16857307e-01 -4.19247983e-01 -5.54695186e-01\n",
      " -5.23049785e-01 -5.21316260e-01 -5.37634359e-01 -5.28192357e-01\n",
      " -7.31852337e-01 -7.67689100e-01 -7.85411518e-01 -8.18916980e-01\n",
      " -7.06823001e-01 -6.43384516e-01 -7.90435839e-01 -7.78204813e-01\n",
      " -7.62062677e-01 -8.03922627e-01 -7.80194576e-01 -7.53757094e-01\n",
      " -7.74465285e-01 -8.77591444e-01]\n"
     ]
    }
   ],
   "source": [
    "svr_prediction = svr_linear.predict(X_l_test)\n",
    "print(svr_prediction)"
   ],
   "metadata": {
    "collapsed": false,
    "pycharm": {
     "name": "#%%\n"
    }
   }
  },
  {
   "cell_type": "code",
   "execution_count": 259,
   "outputs": [
    {
     "name": "stdout",
     "output_type": "stream",
     "text": [
      "[[0.0752467 ]\n",
      " [0.07778584]\n",
      " [0.0763096 ]\n",
      " [0.07464255]\n",
      " [0.07375075]\n",
      " [0.07316994]\n",
      " [0.07728463]\n",
      " [0.07787932]\n",
      " [0.07634386]\n",
      " [0.07789196]\n",
      " [0.07888289]\n",
      " [0.08839825]\n",
      " [0.08967235]\n",
      " [0.09853457]\n",
      " [0.11241486]\n",
      " [0.15273437]\n",
      " [0.28201088]\n",
      " [0.2682807 ]\n",
      " [0.27524233]\n",
      " [0.33065114]\n",
      " [0.31512165]\n",
      " [0.30141405]\n",
      " [0.27005065]\n",
      " [0.23017582]\n",
      " [0.26117712]\n",
      " [0.25556197]\n",
      " [0.25864411]\n",
      " [0.25687351]\n",
      " [0.28887166]\n",
      " [0.27964875]\n",
      " [0.2972818 ]\n",
      " [0.33167331]\n",
      " [0.33913675]\n",
      " [0.38023255]\n",
      " [0.46565884]\n",
      " [0.53178301]\n",
      " [0.52340743]\n",
      " [0.57343227]\n",
      " [0.57448968]\n",
      " [0.52690401]\n",
      " [0.47919129]\n",
      " [0.47510445]\n",
      " [0.44348957]\n",
      " [0.44465136]\n",
      " [0.48515002]\n",
      " [0.45599822]\n",
      " [0.43901593]\n",
      " [0.41320801]\n",
      " [0.42558338]\n",
      " [0.55229016]\n",
      " [0.3689198 ]\n",
      " [0.34656998]\n",
      " [0.31401793]\n",
      " [0.29860684]\n",
      " [0.32726897]\n",
      " [0.32135392]\n",
      " [0.31806119]\n",
      " [0.30349333]\n",
      " [0.30269804]\n",
      " [0.28268672]\n",
      " [0.27617791]\n",
      " [0.29608667]\n",
      " [0.3352056 ]\n",
      " [0.37207237]\n",
      " [0.36465957]\n",
      " [0.33431317]\n",
      " [0.33805688]\n",
      " [0.32251403]\n",
      " [0.32260343]\n",
      " [0.29461869]\n",
      " [0.30672258]\n",
      " [0.29759715]\n",
      " [0.29150209]\n",
      " [0.2817465 ]\n",
      " [0.29062406]\n",
      " [0.29467002]\n",
      " [0.28645161]\n",
      " [0.27669791]\n",
      " [0.27209928]\n",
      " [0.26701962]\n",
      " [0.25979717]\n",
      " [0.25527136]\n",
      " [0.23827174]\n",
      " [0.20543627]\n",
      " [0.2300479 ]\n",
      " [0.24123581]\n",
      " [0.24993949]\n",
      " [0.23157677]\n",
      " [0.24302614]\n",
      " [0.23958591]\n",
      " [0.24493278]\n",
      " [0.22985202]\n",
      " [0.23403997]\n",
      " [0.22714642]\n",
      " [0.22986365]\n",
      " [0.22876045]\n",
      " [0.21848509]\n",
      " [0.21760683]\n",
      " [0.21493449]\n",
      " [0.20383952]\n",
      " [0.20705647]\n",
      " [0.20843099]\n",
      " [0.20055111]\n",
      " [0.20131638]\n",
      " [0.19466497]\n",
      " [0.19042169]\n",
      " [0.1868214 ]\n",
      " [0.18201172]\n",
      " [0.19340798]\n",
      " [0.18710294]\n",
      " [0.17607804]\n",
      " [0.17349998]\n",
      " [0.20046004]\n",
      " [0.18818064]\n",
      " [0.18942468]\n",
      " [0.19241727]\n",
      " [0.18866874]\n",
      " [0.21193755]\n",
      " [0.19305808]\n",
      " [0.19487792]\n",
      " [0.19093471]\n",
      " [0.19472383]\n",
      " [0.19882037]\n",
      " [0.19952073]\n",
      " [0.19441486]\n",
      " [0.1889251 ]\n",
      " [0.18816508]\n",
      " [0.18832323]\n",
      " [0.19748077]\n",
      " [0.23225638]\n",
      " [0.23703152]\n",
      " [0.22896061]\n",
      " [0.22699799]\n",
      " [0.24631906]\n",
      " [0.25223594]\n",
      " [0.25229261]\n",
      " [0.25633695]\n",
      " [0.29293022]\n",
      " [0.28751999]\n",
      " [0.2823989 ]\n",
      " [0.27074552]\n",
      " [0.26936352]\n",
      " [0.27948812]\n",
      " [0.28052236]\n",
      " [0.28052057]\n",
      " [0.28879193]\n",
      " [0.27716116]\n",
      " [0.26510551]\n",
      " [0.26695109]\n",
      " [0.26982928]\n",
      " [0.26823213]\n",
      " [0.26340885]\n",
      " [0.26288172]\n",
      " [0.26045809]\n",
      " [0.27431223]\n",
      " [0.28783722]\n",
      " [0.28790432]\n",
      " [0.29784609]\n",
      " [0.29811898]\n",
      " [0.30041391]\n",
      " [0.28947042]\n",
      " [0.26583457]\n",
      " [0.26553632]\n",
      " [0.2643266 ]\n",
      " [0.25660609]\n",
      " [0.26409579]\n",
      " [0.25791817]\n",
      " [0.25419103]\n",
      " [0.25678953]\n",
      " [0.25690102]\n",
      " [0.26593608]\n",
      " [0.25799461]\n",
      " [0.24981905]\n",
      " [0.24204759]\n",
      " [0.23795003]\n",
      " [0.25015839]\n",
      " [0.24665752]\n",
      " [0.241531  ]\n",
      " [0.23173803]\n",
      " [0.22539433]\n",
      " [0.22827184]\n",
      " [0.22386768]\n",
      " [0.22671352]\n",
      " [0.22932613]\n",
      " [0.24278716]\n",
      " [0.24036303]\n",
      " [0.24237096]\n",
      " [0.25389455]\n",
      " [0.26483891]\n",
      " [0.26823223]\n",
      " [0.25790221]\n",
      " [0.26159238]\n",
      " [0.25992136]\n",
      " [0.25450101]\n",
      " [0.24993586]\n",
      " [0.24109025]\n",
      " [0.24585366]\n",
      " [0.25134786]\n",
      " [0.2525635 ]\n",
      " [0.25425444]\n",
      " [0.24918601]\n",
      " [0.27012252]\n",
      " [0.26007074]\n",
      " [0.26530032]\n",
      " [0.25824772]\n",
      " [0.25333787]\n",
      " [0.25627232]\n",
      " [0.2751661 ]\n",
      " [0.27309861]\n",
      " [0.26998843]\n",
      " [0.25806706]\n",
      " [0.29599491]\n",
      " [0.28432215]\n",
      " [0.27827051]\n",
      " [0.27268469]\n",
      " [0.2772177 ]\n",
      " [0.27402088]\n",
      " [0.26992865]\n",
      " [0.26382261]\n",
      " [0.26833452]\n",
      " [0.26455848]\n",
      " [0.2657379 ]\n",
      " [0.28332604]\n",
      " [0.27796123]\n",
      " [0.26804539]\n",
      " [0.26821136]\n",
      " [0.26742898]\n",
      " [0.26459446]\n",
      " [0.27064031]\n",
      " [0.264971  ]\n",
      " [0.2583015 ]\n",
      " [0.2505457 ]\n",
      " [0.24689971]\n",
      " [0.24993719]\n",
      " [0.24397998]\n",
      " [0.24169117]\n",
      " [0.2391339 ]\n",
      " [0.24596884]\n",
      " [0.23783194]\n",
      " [0.24519751]\n",
      " [0.23666117]\n",
      " [0.22860984]\n",
      " [0.22412502]\n",
      " [0.23616338]\n",
      " [0.23698225]\n",
      " [0.2331074 ]\n",
      " [0.23545221]\n",
      " [0.22555227]\n",
      " [0.20872409]\n",
      " [0.20221721]\n",
      " [0.20886837]\n",
      " [0.20840012]\n",
      " [0.20085155]\n",
      " [0.20070463]\n",
      " [0.19929633]\n",
      " [0.19924796]\n",
      " [0.20115798]\n",
      " [0.19447007]\n",
      " [0.23546504]\n",
      " [0.20684686]\n",
      " [0.20630929]\n",
      " [0.20075849]\n",
      " [0.19949657]\n",
      " [0.19632499]\n",
      " [0.19274331]\n",
      " [0.19927361]\n",
      " [0.20926624]\n",
      " [0.20834072]\n",
      " [0.21013936]\n",
      " [0.21430689]\n",
      " [0.21184271]\n",
      " [0.2058892 ]\n",
      " [0.19890502]\n",
      " [0.19924473]\n",
      " [0.19399902]\n",
      " [0.19359539]\n",
      " [0.19547686]\n",
      " [0.19405224]\n",
      " [0.19518822]\n",
      " [0.1880557 ]\n",
      " [0.18842143]\n",
      " [0.18275095]\n",
      " [0.18238323]\n",
      " [0.17563246]\n",
      " [0.17734531]\n",
      " [0.18848946]\n",
      " [0.19494713]\n",
      " [0.18488017]\n",
      " [0.19406548]\n",
      " [0.21587209]\n",
      " [0.20592628]\n",
      " [0.1927695 ]\n",
      " [0.1958434 ]\n",
      " [0.19601179]\n",
      " [0.19442672]\n",
      " [0.19534387]\n",
      " [0.17556118]\n",
      " [0.17208015]\n",
      " [0.17035867]\n",
      " [0.16710408]\n",
      " [0.17799243]\n",
      " [0.18415458]\n",
      " [0.16987063]\n",
      " [0.1710587 ]\n",
      " [0.17262668]\n",
      " [0.16856057]\n",
      " [0.17086542]\n",
      " [0.17343345]\n",
      " [0.17142194]\n",
      " [0.16140469]]\n"
     ]
    }
   ],
   "source": [
    "final_prediction =svr_prediction.reshape(-1,1)\n",
    "final_prediction = StdS_y_test.inverse_transform(final_prediction)\n",
    "print(final_prediction)"
   ],
   "metadata": {
    "collapsed": false,
    "pycharm": {
     "name": "#%%\n"
    }
   }
  },
  {
   "cell_type": "code",
   "execution_count": 260,
   "outputs": [
    {
     "name": "stdout",
     "output_type": "stream",
     "text": [
      "[0.061986 0.057664 0.055804 0.057404 0.059696 0.064458 0.059028 0.061464\n",
      " 0.061684 0.063845 0.074649 0.070767 0.093445 0.121517 0.182207 0.36587\n",
      " 0.284173 0.320475 0.407318 0.3195   0.306925 0.260967 0.248509 0.270212\n",
      " 0.251111 0.270674 0.272188 0.323682 0.305169 0.337561 0.392987 0.376046\n",
      " 0.441707 0.541334 0.657633 0.580804 0.684777 0.636439 0.57007  0.449964\n",
      " 0.495231 0.385376 0.490374 0.559604 0.507972 0.514895 0.487892 0.476115\n",
      " 0.333123 0.400194 0.359382 0.342371 0.308071 0.366162 0.346302 0.353693\n",
      " 0.332945 0.311205 0.30311  0.302224 0.32581  0.370077 0.423374 0.399963\n",
      " 0.376323 0.372177 0.371807 0.33105  0.327687 0.343331 0.326351 0.319359\n",
      " 0.312084 0.324382 0.332085 0.328381 0.307761 0.306496 0.293472 0.287356\n",
      " 0.2809   0.178691 0.191031 0.232174 0.262782 0.239153 0.244784 0.26445\n",
      " 0.256857 0.262769 0.254215 0.244549 0.245264 0.246411 0.246483 0.231614\n",
      " 0.234422 0.224126 0.207597 0.219864 0.21392  0.215856 0.208048 0.200003\n",
      " 0.197324 0.184888 0.172345 0.186125 0.182233 0.173556 0.170801 0.190349\n",
      " 0.191303 0.194764 0.197319 0.197864 0.204419 0.205899 0.205392 0.204619\n",
      " 0.208821 0.208314 0.204437 0.2036   0.195967 0.20149  0.200974 0.204688\n",
      " 0.260341 0.240045 0.256897 0.257325 0.265263 0.263921 0.286808 0.293113\n",
      " 0.341441 0.320715 0.299442 0.303739 0.317144 0.327491 0.316797 0.314963\n",
      " 0.317914 0.288739 0.292226 0.268909 0.294433 0.285629 0.281125 0.272125\n",
      " 0.278453 0.294401 0.295955 0.296273 0.299388 0.314527 0.308765 0.253744\n",
      " 0.257113 0.252596 0.239982 0.241432 0.250617 0.235906 0.240709 0.247697\n",
      " 0.242555 0.23993  0.241386 0.233142 0.207071 0.201027 0.224858 0.224832\n",
      " 0.209451 0.20864  0.204962 0.200262 0.196804 0.198876 0.204244 0.22301\n",
      " 0.219133 0.221748 0.240852 0.252016 0.255134 0.242923 0.243851 0.246596\n",
      " 0.229805 0.231503 0.226242 0.232572 0.232273 0.233782 0.237292 0.237898\n",
      " 0.247281 0.245788 0.254093 0.242391 0.244221 0.251733 0.277048 0.264707\n",
      " 0.255732 0.23769  0.300447 0.287853 0.268345 0.280244 0.271728 0.273121\n",
      " 0.269407 0.26328  0.261465 0.261898 0.266315 0.282359 0.273526 0.255709\n",
      " 0.261167 0.259414 0.261706 0.262912 0.256529 0.237249 0.237487 0.221383\n",
      " 0.23311  0.233024 0.226328 0.219676 0.226512 0.221825 0.216326 0.200887\n",
      " 0.205347 0.207472 0.215175 0.214715 0.209487 0.209726 0.199993 0.178853\n",
      " 0.171255 0.1784   0.176805 0.179151 0.169484 0.164422 0.169019 0.169891\n",
      " 0.157565 0.180157 0.181082 0.173454 0.16901  0.1724   0.169576 0.167322\n",
      " 0.171175 0.173214 0.18449  0.186622 0.190657 0.19002  0.187705 0.174117\n",
      " 0.167765 0.171313 0.170496 0.173035 0.174403 0.170088 0.168803 0.15942\n",
      " 0.160213 0.155023 0.151954 0.151065 0.143359 0.153399 0.161652 0.172043\n",
      " 0.183549 0.185103 0.177176 0.171145 0.165485 0.162356 0.155204 0.14264\n",
      " 0.132892 0.141863 0.137798 0.143049 0.143789 0.141247 0.141656 0.143056\n",
      " 0.139471 0.141805 0.142631 0.137235 0.137541 0.141685]\n"
     ]
    }
   ],
   "source": [
    "print(y_test)"
   ],
   "metadata": {
    "collapsed": false,
    "pycharm": {
     "name": "#%%\n"
    }
   }
  },
  {
   "cell_type": "code",
   "execution_count": 261,
   "outputs": [
    {
     "name": "stdout",
     "output_type": "stream",
     "text": [
      "310\n",
      "310\n"
     ]
    }
   ],
   "source": [
    "print(len(final_prediction))\n",
    "print(len(y_test))"
   ],
   "metadata": {
    "collapsed": false,
    "pycharm": {
     "name": "#%%\n"
    }
   }
  },
  {
   "cell_type": "code",
   "execution_count": 262,
   "outputs": [
    {
     "data": {
      "text/plain": "                  Date      Open      High       Low     Close  Adj Close  \\\n2017-11-09  2017-11-09  0.001207  0.001415  0.001181  0.001415   0.001415   \n2017-11-10  2017-11-10  0.001421  0.001431  0.001125  0.001163   0.001163   \n2017-11-11  2017-11-11  0.001146  0.001257  0.001141  0.001201   0.001201   \n2017-11-12  2017-11-12  0.001189  0.001210  0.001002  0.001038   0.001038   \n2017-11-13  2017-11-13  0.001046  0.001212  0.001019  0.001211   0.001211   \n...                ...       ...       ...       ...       ...        ...   \n2022-01-31  2022-01-31  0.139469  0.142264  0.136853  0.141805   0.141805   \n2022-02-01  2022-02-01  0.141805  0.144129  0.141125  0.142631   0.142631   \n2022-02-02  2022-02-02  0.142626  0.145253  0.136918  0.137235   0.137235   \n2022-02-03  2022-02-03  0.137213  0.138747  0.135565  0.137541   0.137541   \n2022-02-04  2022-02-04  0.137687  0.142551  0.137261  0.141685   0.141685   \n\n               Volume  twitter_followers  reddit_average_posts_48h  \\\n2017-11-09    6259550       1.652570e+05                     0.633   \n2017-11-10    4246520       1.653080e+05                     0.833   \n2017-11-11    2231080       1.653630e+05                     0.980   \n2017-11-12    3288960       1.654020e+05                     1.102   \n2017-11-13    2481270       1.654527e+05                     1.277   \n...               ...                ...                       ...   \n2022-01-31  412307174       2.971374e+06                     9.000   \n2022-02-01  409432267       2.977053e+06                     8.889   \n2022-02-02  483194691       2.982243e+06                     8.167   \n2022-02-03  383506507       2.987430e+06                     6.455   \n2022-02-04  454621984       2.991859e+06                    10.375   \n\n            reddit_average_comments_48h  ...  total_issues  closed_issues  \\\n2017-11-09                        9.490  ...    395.000000          336.0   \n2017-11-10                       11.958  ...    395.166667          336.0   \n2017-11-11                       13.224  ...    395.333333          336.0   \n2017-11-12                       14.469  ...    395.500000          336.0   \n2017-11-13                       15.383  ...    395.666667          336.0   \n...                                 ...  ...           ...            ...   \n2022-01-31                      487.909  ...   1061.000000          956.0   \n2022-02-01                      500.778  ...   1062.000000          957.0   \n2022-02-02                      514.167  ...   1062.000000          957.0   \n2022-02-03                      404.000  ...   1062.000000          957.0   \n2022-02-04                      822.000  ...   1062.000000          957.0   \n\n            pull_requests_merged  pull_request_contributors  \\\n2017-11-09                 732.0                       67.0   \n2017-11-10                 732.0                       67.0   \n2017-11-11                 732.0                       67.0   \n2017-11-12                 732.0                       67.0   \n2017-11-13                 732.0                       67.0   \n...                          ...                        ...   \n2022-01-31                1065.0                      129.0   \n2022-02-01                1065.0                      129.0   \n2022-02-02                1065.0                      129.0   \n2022-02-03                1065.0                      129.0   \n2022-02-04                1065.0                      129.0   \n\n            commit_count_4_weeks  dogecoin_unscaled  dogecoin_monthly  scale  \\\n2017-11-09                   0.0                 57               1.0   0.01   \n2017-11-10                   0.0                 24               1.0   0.01   \n2017-11-11                   0.0                 23               1.0   0.01   \n2017-11-12                   0.0                 23               1.0   0.01   \n2017-11-13                   0.0                 41               1.0   0.01   \n...                          ...                ...               ...    ...   \n2022-01-31                   0.0                 23               4.0   0.04   \n2022-02-01                   0.0                 93               4.0   0.04   \n2022-02-02                   0.0                 87               4.0   0.04   \n2022-02-03                   0.0                 82               4.0   0.04   \n2022-02-04                   0.0                100               4.0   0.04   \n\n            dogecoin  1_day_price_forecast  \n2017-11-09      0.57              0.001163  \n2017-11-10      0.24              0.001201  \n2017-11-11      0.23              0.001038  \n2017-11-12      0.23              0.001211  \n2017-11-13      0.41              0.001184  \n...              ...                   ...  \n2022-01-31      0.92              0.142631  \n2022-02-01      3.72              0.137235  \n2022-02-02      3.48              0.137541  \n2022-02-03      3.28              0.141685  \n2022-02-04      4.00                   NaN  \n\n[1549 rows x 25 columns]",
      "text/html": "<div>\n<style scoped>\n    .dataframe tbody tr th:only-of-type {\n        vertical-align: middle;\n    }\n\n    .dataframe tbody tr th {\n        vertical-align: top;\n    }\n\n    .dataframe thead th {\n        text-align: right;\n    }\n</style>\n<table border=\"1\" class=\"dataframe\">\n  <thead>\n    <tr style=\"text-align: right;\">\n      <th></th>\n      <th>Date</th>\n      <th>Open</th>\n      <th>High</th>\n      <th>Low</th>\n      <th>Close</th>\n      <th>Adj Close</th>\n      <th>Volume</th>\n      <th>twitter_followers</th>\n      <th>reddit_average_posts_48h</th>\n      <th>reddit_average_comments_48h</th>\n      <th>...</th>\n      <th>total_issues</th>\n      <th>closed_issues</th>\n      <th>pull_requests_merged</th>\n      <th>pull_request_contributors</th>\n      <th>commit_count_4_weeks</th>\n      <th>dogecoin_unscaled</th>\n      <th>dogecoin_monthly</th>\n      <th>scale</th>\n      <th>dogecoin</th>\n      <th>1_day_price_forecast</th>\n    </tr>\n  </thead>\n  <tbody>\n    <tr>\n      <th>2017-11-09</th>\n      <td>2017-11-09</td>\n      <td>0.001207</td>\n      <td>0.001415</td>\n      <td>0.001181</td>\n      <td>0.001415</td>\n      <td>0.001415</td>\n      <td>6259550</td>\n      <td>1.652570e+05</td>\n      <td>0.633</td>\n      <td>9.490</td>\n      <td>...</td>\n      <td>395.000000</td>\n      <td>336.0</td>\n      <td>732.0</td>\n      <td>67.0</td>\n      <td>0.0</td>\n      <td>57</td>\n      <td>1.0</td>\n      <td>0.01</td>\n      <td>0.57</td>\n      <td>0.001163</td>\n    </tr>\n    <tr>\n      <th>2017-11-10</th>\n      <td>2017-11-10</td>\n      <td>0.001421</td>\n      <td>0.001431</td>\n      <td>0.001125</td>\n      <td>0.001163</td>\n      <td>0.001163</td>\n      <td>4246520</td>\n      <td>1.653080e+05</td>\n      <td>0.833</td>\n      <td>11.958</td>\n      <td>...</td>\n      <td>395.166667</td>\n      <td>336.0</td>\n      <td>732.0</td>\n      <td>67.0</td>\n      <td>0.0</td>\n      <td>24</td>\n      <td>1.0</td>\n      <td>0.01</td>\n      <td>0.24</td>\n      <td>0.001201</td>\n    </tr>\n    <tr>\n      <th>2017-11-11</th>\n      <td>2017-11-11</td>\n      <td>0.001146</td>\n      <td>0.001257</td>\n      <td>0.001141</td>\n      <td>0.001201</td>\n      <td>0.001201</td>\n      <td>2231080</td>\n      <td>1.653630e+05</td>\n      <td>0.980</td>\n      <td>13.224</td>\n      <td>...</td>\n      <td>395.333333</td>\n      <td>336.0</td>\n      <td>732.0</td>\n      <td>67.0</td>\n      <td>0.0</td>\n      <td>23</td>\n      <td>1.0</td>\n      <td>0.01</td>\n      <td>0.23</td>\n      <td>0.001038</td>\n    </tr>\n    <tr>\n      <th>2017-11-12</th>\n      <td>2017-11-12</td>\n      <td>0.001189</td>\n      <td>0.001210</td>\n      <td>0.001002</td>\n      <td>0.001038</td>\n      <td>0.001038</td>\n      <td>3288960</td>\n      <td>1.654020e+05</td>\n      <td>1.102</td>\n      <td>14.469</td>\n      <td>...</td>\n      <td>395.500000</td>\n      <td>336.0</td>\n      <td>732.0</td>\n      <td>67.0</td>\n      <td>0.0</td>\n      <td>23</td>\n      <td>1.0</td>\n      <td>0.01</td>\n      <td>0.23</td>\n      <td>0.001211</td>\n    </tr>\n    <tr>\n      <th>2017-11-13</th>\n      <td>2017-11-13</td>\n      <td>0.001046</td>\n      <td>0.001212</td>\n      <td>0.001019</td>\n      <td>0.001211</td>\n      <td>0.001211</td>\n      <td>2481270</td>\n      <td>1.654527e+05</td>\n      <td>1.277</td>\n      <td>15.383</td>\n      <td>...</td>\n      <td>395.666667</td>\n      <td>336.0</td>\n      <td>732.0</td>\n      <td>67.0</td>\n      <td>0.0</td>\n      <td>41</td>\n      <td>1.0</td>\n      <td>0.01</td>\n      <td>0.41</td>\n      <td>0.001184</td>\n    </tr>\n    <tr>\n      <th>...</th>\n      <td>...</td>\n      <td>...</td>\n      <td>...</td>\n      <td>...</td>\n      <td>...</td>\n      <td>...</td>\n      <td>...</td>\n      <td>...</td>\n      <td>...</td>\n      <td>...</td>\n      <td>...</td>\n      <td>...</td>\n      <td>...</td>\n      <td>...</td>\n      <td>...</td>\n      <td>...</td>\n      <td>...</td>\n      <td>...</td>\n      <td>...</td>\n      <td>...</td>\n      <td>...</td>\n    </tr>\n    <tr>\n      <th>2022-01-31</th>\n      <td>2022-01-31</td>\n      <td>0.139469</td>\n      <td>0.142264</td>\n      <td>0.136853</td>\n      <td>0.141805</td>\n      <td>0.141805</td>\n      <td>412307174</td>\n      <td>2.971374e+06</td>\n      <td>9.000</td>\n      <td>487.909</td>\n      <td>...</td>\n      <td>1061.000000</td>\n      <td>956.0</td>\n      <td>1065.0</td>\n      <td>129.0</td>\n      <td>0.0</td>\n      <td>23</td>\n      <td>4.0</td>\n      <td>0.04</td>\n      <td>0.92</td>\n      <td>0.142631</td>\n    </tr>\n    <tr>\n      <th>2022-02-01</th>\n      <td>2022-02-01</td>\n      <td>0.141805</td>\n      <td>0.144129</td>\n      <td>0.141125</td>\n      <td>0.142631</td>\n      <td>0.142631</td>\n      <td>409432267</td>\n      <td>2.977053e+06</td>\n      <td>8.889</td>\n      <td>500.778</td>\n      <td>...</td>\n      <td>1062.000000</td>\n      <td>957.0</td>\n      <td>1065.0</td>\n      <td>129.0</td>\n      <td>0.0</td>\n      <td>93</td>\n      <td>4.0</td>\n      <td>0.04</td>\n      <td>3.72</td>\n      <td>0.137235</td>\n    </tr>\n    <tr>\n      <th>2022-02-02</th>\n      <td>2022-02-02</td>\n      <td>0.142626</td>\n      <td>0.145253</td>\n      <td>0.136918</td>\n      <td>0.137235</td>\n      <td>0.137235</td>\n      <td>483194691</td>\n      <td>2.982243e+06</td>\n      <td>8.167</td>\n      <td>514.167</td>\n      <td>...</td>\n      <td>1062.000000</td>\n      <td>957.0</td>\n      <td>1065.0</td>\n      <td>129.0</td>\n      <td>0.0</td>\n      <td>87</td>\n      <td>4.0</td>\n      <td>0.04</td>\n      <td>3.48</td>\n      <td>0.137541</td>\n    </tr>\n    <tr>\n      <th>2022-02-03</th>\n      <td>2022-02-03</td>\n      <td>0.137213</td>\n      <td>0.138747</td>\n      <td>0.135565</td>\n      <td>0.137541</td>\n      <td>0.137541</td>\n      <td>383506507</td>\n      <td>2.987430e+06</td>\n      <td>6.455</td>\n      <td>404.000</td>\n      <td>...</td>\n      <td>1062.000000</td>\n      <td>957.0</td>\n      <td>1065.0</td>\n      <td>129.0</td>\n      <td>0.0</td>\n      <td>82</td>\n      <td>4.0</td>\n      <td>0.04</td>\n      <td>3.28</td>\n      <td>0.141685</td>\n    </tr>\n    <tr>\n      <th>2022-02-04</th>\n      <td>2022-02-04</td>\n      <td>0.137687</td>\n      <td>0.142551</td>\n      <td>0.137261</td>\n      <td>0.141685</td>\n      <td>0.141685</td>\n      <td>454621984</td>\n      <td>2.991859e+06</td>\n      <td>10.375</td>\n      <td>822.000</td>\n      <td>...</td>\n      <td>1062.000000</td>\n      <td>957.0</td>\n      <td>1065.0</td>\n      <td>129.0</td>\n      <td>0.0</td>\n      <td>100</td>\n      <td>4.0</td>\n      <td>0.04</td>\n      <td>4.00</td>\n      <td>NaN</td>\n    </tr>\n  </tbody>\n</table>\n<p>1549 rows × 25 columns</p>\n</div>"
     },
     "execution_count": 262,
     "metadata": {},
     "output_type": "execute_result"
    }
   ],
   "source": [
    "df"
   ],
   "metadata": {
    "collapsed": false,
    "pycharm": {
     "name": "#%%\n"
    }
   }
  },
  {
   "cell_type": "code",
   "execution_count": 263,
   "outputs": [
    {
     "data": {
      "text/plain": "<Figure size 1224x360 with 1 Axes>",
      "image/png": "[encoded data removed]"
     },
     "metadata": {},
     "output_type": "display_data"
    }
   ],
   "source": [
    "plt.figure(figsize=(17,5))\n",
    "plt.plot(final_prediction, label='Prediction', lw=2, alpha =.7, color = \"green\")\n",
    "plt.plot(y_test, label='Actual', lw=2, alpha =.7, color = \"red\")\n",
    "plt.legend(['predicted', \"actual\"])\n",
    "plt.title('Prediction vs Actual')\n",
    "plt.ylabel('Price in USD')\n",
    "plt.xlabel('Time')\n",
    "\n",
    "plt.show()"
   ],
   "metadata": {
    "collapsed": false,
    "pycharm": {
     "name": "#%%\n"
    }
   }
  },
  {
   "cell_type": "code",
   "execution_count": 264,
   "outputs": [
    {
     "name": "stdout",
     "output_type": "stream",
     "text": [
      "R^2\n",
      "0.8423569442828335\n",
      "\n",
      "MAE\n",
      "0.027215085195555645\n",
      "\n",
      "RMSE\n",
      "0.03856710420044786\n"
     ]
    }
   ],
   "source": [
    "from math import sqrt\n",
    "from sklearn.metrics import mean_absolute_error, mean_squared_error\n",
    "\n",
    "\n",
    "print(\"R^2\")\n",
    "print(svr_linear_confidence)\n",
    "\n",
    "print(\"\\nMAE\")\n",
    "print(mean_absolute_error(y_test,final_prediction))\n",
    "\n",
    "print(\"\\nRMSE\")\n",
    "print(sqrt(mean_squared_error(y_test, final_prediction)))"
   ],
   "metadata": {
    "collapsed": false,
    "pycharm": {
     "name": "#%%\n"
    }
   }
  }
 ],
 "metadata": {
  "kernelspec": {
   "display_name": "Python 3",
   "language": "python",
   "name": "python3"
  },
  "language_info": {
   "codemirror_mode": {
    "name": "ipython",
    "version": 2
   },
   "file_extension": ".py",
   "mimetype": "text/x-python",
   "name": "python",
   "nbconvert_exporter": "python",
   "pygments_lexer": "ipython2",
   "version": "2.7.6"
  }
 },
 "nbformat": 4,
 "nbformat_minor": 0
}