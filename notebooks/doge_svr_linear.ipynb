{
 "cells": [
  {
   "cell_type": "code",
   "execution_count": 435,
   "metadata": {
    "collapsed": true
   },
   "outputs": [],
   "source": [
    "import pandas as pd\n",
    "import numpy as np\n",
    "from sklearn.svm import SVR\n",
    "import matplotlib.pyplot as plt\n",
    "plt.style.use('fivethirtyeight')"
   ]
  },
  {
   "cell_type": "code",
   "execution_count": 436,
   "outputs": [
    {
     "data": {
      "text/plain": "                  Date      Open      High       Low     Close  Adj Close  \\\n2017-11-09  2017-11-09  0.001207  0.001415  0.001181  0.001415   0.001415   \n2017-11-10  2017-11-10  0.001421  0.001431  0.001125  0.001163   0.001163   \n2017-11-11  2017-11-11  0.001146  0.001257  0.001141  0.001201   0.001201   \n2017-11-12  2017-11-12  0.001189  0.001210  0.001002  0.001038   0.001038   \n2017-11-13  2017-11-13  0.001046  0.001212  0.001019  0.001211   0.001211   \n...                ...       ...       ...       ...       ...        ...   \n2022-01-31  2022-01-31  0.139469  0.142264  0.136853  0.141805   0.141805   \n2022-02-01  2022-02-01  0.141805  0.144129  0.141125  0.142631   0.142631   \n2022-02-02  2022-02-02  0.142626  0.145253  0.136918  0.137235   0.137235   \n2022-02-03  2022-02-03  0.137213  0.138747  0.135565  0.137541   0.137541   \n2022-02-04  2022-02-04  0.137687  0.142551  0.137261  0.141685   0.141685   \n\n               Volume  twitter_followers  reddit_average_posts_48h  \\\n2017-11-09    6259550       1.652570e+05                     0.633   \n2017-11-10    4246520       1.653080e+05                     0.833   \n2017-11-11    2231080       1.653630e+05                     0.980   \n2017-11-12    3288960       1.654020e+05                     1.102   \n2017-11-13    2481270       1.654527e+05                     1.277   \n...               ...                ...                       ...   \n2022-01-31  412307174       2.971374e+06                     9.000   \n2022-02-01  409432267       2.977053e+06                     8.889   \n2022-02-02  483194691       2.982243e+06                     8.167   \n2022-02-03  383506507       2.987430e+06                     6.455   \n2022-02-04  454621984       2.991859e+06                    10.375   \n\n            reddit_average_comments_48h  ...  subscribers  total_issues  \\\n2017-11-09                        9.490  ...        225.0    395.000000   \n2017-11-10                       11.958  ...        225.0    395.166667   \n2017-11-11                       13.224  ...        225.0    395.333333   \n2017-11-12                       14.469  ...        225.0    395.500000   \n2017-11-13                       15.383  ...        225.0    395.666667   \n...                                 ...  ...          ...           ...   \n2022-01-31                      487.909  ...        874.0   1061.000000   \n2022-02-01                      500.778  ...        872.0   1062.000000   \n2022-02-02                      514.167  ...        872.0   1062.000000   \n2022-02-03                      404.000  ...        872.0   1062.000000   \n2022-02-04                      822.000  ...        873.0   1062.000000   \n\n            closed_issues  pull_requests_merged  pull_request_contributors  \\\n2017-11-09          336.0                 732.0                       67.0   \n2017-11-10          336.0                 732.0                       67.0   \n2017-11-11          336.0                 732.0                       67.0   \n2017-11-12          336.0                 732.0                       67.0   \n2017-11-13          336.0                 732.0                       67.0   \n...                   ...                   ...                        ...   \n2022-01-31          956.0                1065.0                      129.0   \n2022-02-01          957.0                1065.0                      129.0   \n2022-02-02          957.0                1065.0                      129.0   \n2022-02-03          957.0                1065.0                      129.0   \n2022-02-04          957.0                1065.0                      129.0   \n\n            commit_count_4_weeks  dogecoin_unscaled  dogecoin_monthly  scale  \\\n2017-11-09                   0.0                 57               1.0   0.01   \n2017-11-10                   0.0                 24               1.0   0.01   \n2017-11-11                   0.0                 23               1.0   0.01   \n2017-11-12                   0.0                 23               1.0   0.01   \n2017-11-13                   0.0                 41               1.0   0.01   \n...                          ...                ...               ...    ...   \n2022-01-31                   0.0                 23               4.0   0.04   \n2022-02-01                   0.0                 93               4.0   0.04   \n2022-02-02                   0.0                 87               4.0   0.04   \n2022-02-03                   0.0                 82               4.0   0.04   \n2022-02-04                   0.0                100               4.0   0.04   \n\n            dogecoin  \n2017-11-09      0.57  \n2017-11-10      0.24  \n2017-11-11      0.23  \n2017-11-12      0.23  \n2017-11-13      0.41  \n...              ...  \n2022-01-31      0.92  \n2022-02-01      3.72  \n2022-02-02      3.48  \n2022-02-03      3.28  \n2022-02-04      4.00  \n\n[1549 rows x 24 columns]",
      "text/html": "<div>\n<style scoped>\n    .dataframe tbody tr th:only-of-type {\n        vertical-align: middle;\n    }\n\n    .dataframe tbody tr th {\n        vertical-align: top;\n    }\n\n    .dataframe thead th {\n        text-align: right;\n    }\n</style>\n<table border=\"1\" class=\"dataframe\">\n  <thead>\n    <tr style=\"text-align: right;\">\n      <th></th>\n      <th>Date</th>\n      <th>Open</th>\n      <th>High</th>\n      <th>Low</th>\n      <th>Close</th>\n      <th>Adj Close</th>\n      <th>Volume</th>\n      <th>twitter_followers</th>\n      <th>reddit_average_posts_48h</th>\n      <th>reddit_average_comments_48h</th>\n      <th>...</th>\n      <th>subscribers</th>\n      <th>total_issues</th>\n      <th>closed_issues</th>\n      <th>pull_requests_merged</th>\n      <th>pull_request_contributors</th>\n      <th>commit_count_4_weeks</th>\n      <th>dogecoin_unscaled</th>\n      <th>dogecoin_monthly</th>\n      <th>scale</th>\n      <th>dogecoin</th>\n    </tr>\n  </thead>\n  <tbody>\n    <tr>\n      <th>2017-11-09</th>\n      <td>2017-11-09</td>\n      <td>0.001207</td>\n      <td>0.001415</td>\n      <td>0.001181</td>\n      <td>0.001415</td>\n      <td>0.001415</td>\n      <td>6259550</td>\n      <td>1.652570e+05</td>\n      <td>0.633</td>\n      <td>9.490</td>\n      <td>...</td>\n      <td>225.0</td>\n      <td>395.000000</td>\n      <td>336.0</td>\n      <td>732.0</td>\n      <td>67.0</td>\n      <td>0.0</td>\n      <td>57</td>\n      <td>1.0</td>\n      <td>0.01</td>\n      <td>0.57</td>\n    </tr>\n    <tr>\n      <th>2017-11-10</th>\n      <td>2017-11-10</td>\n      <td>0.001421</td>\n      <td>0.001431</td>\n      <td>0.001125</td>\n      <td>0.001163</td>\n      <td>0.001163</td>\n      <td>4246520</td>\n      <td>1.653080e+05</td>\n      <td>0.833</td>\n      <td>11.958</td>\n      <td>...</td>\n      <td>225.0</td>\n      <td>395.166667</td>\n      <td>336.0</td>\n      <td>732.0</td>\n      <td>67.0</td>\n      <td>0.0</td>\n      <td>24</td>\n      <td>1.0</td>\n      <td>0.01</td>\n      <td>0.24</td>\n    </tr>\n    <tr>\n      <th>2017-11-11</th>\n      <td>2017-11-11</td>\n      <td>0.001146</td>\n      <td>0.001257</td>\n      <td>0.001141</td>\n      <td>0.001201</td>\n      <td>0.001201</td>\n      <td>2231080</td>\n      <td>1.653630e+05</td>\n      <td>0.980</td>\n      <td>13.224</td>\n      <td>...</td>\n      <td>225.0</td>\n      <td>395.333333</td>\n      <td>336.0</td>\n      <td>732.0</td>\n      <td>67.0</td>\n      <td>0.0</td>\n      <td>23</td>\n      <td>1.0</td>\n      <td>0.01</td>\n      <td>0.23</td>\n    </tr>\n    <tr>\n      <th>2017-11-12</th>\n      <td>2017-11-12</td>\n      <td>0.001189</td>\n      <td>0.001210</td>\n      <td>0.001002</td>\n      <td>0.001038</td>\n      <td>0.001038</td>\n      <td>3288960</td>\n      <td>1.654020e+05</td>\n      <td>1.102</td>\n      <td>14.469</td>\n      <td>...</td>\n      <td>225.0</td>\n      <td>395.500000</td>\n      <td>336.0</td>\n      <td>732.0</td>\n      <td>67.0</td>\n      <td>0.0</td>\n      <td>23</td>\n      <td>1.0</td>\n      <td>0.01</td>\n      <td>0.23</td>\n    </tr>\n    <tr>\n      <th>2017-11-13</th>\n      <td>2017-11-13</td>\n      <td>0.001046</td>\n      <td>0.001212</td>\n      <td>0.001019</td>\n      <td>0.001211</td>\n      <td>0.001211</td>\n      <td>2481270</td>\n      <td>1.654527e+05</td>\n      <td>1.277</td>\n      <td>15.383</td>\n      <td>...</td>\n      <td>225.0</td>\n      <td>395.666667</td>\n      <td>336.0</td>\n      <td>732.0</td>\n      <td>67.0</td>\n      <td>0.0</td>\n      <td>41</td>\n      <td>1.0</td>\n      <td>0.01</td>\n      <td>0.41</td>\n    </tr>\n    <tr>\n      <th>...</th>\n      <td>...</td>\n      <td>...</td>\n      <td>...</td>\n      <td>...</td>\n      <td>...</td>\n      <td>...</td>\n      <td>...</td>\n      <td>...</td>\n      <td>...</td>\n      <td>...</td>\n      <td>...</td>\n      <td>...</td>\n      <td>...</td>\n      <td>...</td>\n      <td>...</td>\n      <td>...</td>\n      <td>...</td>\n      <td>...</td>\n      <td>...</td>\n      <td>...</td>\n      <td>...</td>\n    </tr>\n    <tr>\n      <th>2022-01-31</th>\n      <td>2022-01-31</td>\n      <td>0.139469</td>\n      <td>0.142264</td>\n      <td>0.136853</td>\n      <td>0.141805</td>\n      <td>0.141805</td>\n      <td>412307174</td>\n      <td>2.971374e+06</td>\n      <td>9.000</td>\n      <td>487.909</td>\n      <td>...</td>\n      <td>874.0</td>\n      <td>1061.000000</td>\n      <td>956.0</td>\n      <td>1065.0</td>\n      <td>129.0</td>\n      <td>0.0</td>\n      <td>23</td>\n      <td>4.0</td>\n      <td>0.04</td>\n      <td>0.92</td>\n    </tr>\n    <tr>\n      <th>2022-02-01</th>\n      <td>2022-02-01</td>\n      <td>0.141805</td>\n      <td>0.144129</td>\n      <td>0.141125</td>\n      <td>0.142631</td>\n      <td>0.142631</td>\n      <td>409432267</td>\n      <td>2.977053e+06</td>\n      <td>8.889</td>\n      <td>500.778</td>\n      <td>...</td>\n      <td>872.0</td>\n      <td>1062.000000</td>\n      <td>957.0</td>\n      <td>1065.0</td>\n      <td>129.0</td>\n      <td>0.0</td>\n      <td>93</td>\n      <td>4.0</td>\n      <td>0.04</td>\n      <td>3.72</td>\n    </tr>\n    <tr>\n      <th>2022-02-02</th>\n      <td>2022-02-02</td>\n      <td>0.142626</td>\n      <td>0.145253</td>\n      <td>0.136918</td>\n      <td>0.137235</td>\n      <td>0.137235</td>\n      <td>483194691</td>\n      <td>2.982243e+06</td>\n      <td>8.167</td>\n      <td>514.167</td>\n      <td>...</td>\n      <td>872.0</td>\n      <td>1062.000000</td>\n      <td>957.0</td>\n      <td>1065.0</td>\n      <td>129.0</td>\n      <td>0.0</td>\n      <td>87</td>\n      <td>4.0</td>\n      <td>0.04</td>\n      <td>3.48</td>\n    </tr>\n    <tr>\n      <th>2022-02-03</th>\n      <td>2022-02-03</td>\n      <td>0.137213</td>\n      <td>0.138747</td>\n      <td>0.135565</td>\n      <td>0.137541</td>\n      <td>0.137541</td>\n      <td>383506507</td>\n      <td>2.987430e+06</td>\n      <td>6.455</td>\n      <td>404.000</td>\n      <td>...</td>\n      <td>872.0</td>\n      <td>1062.000000</td>\n      <td>957.0</td>\n      <td>1065.0</td>\n      <td>129.0</td>\n      <td>0.0</td>\n      <td>82</td>\n      <td>4.0</td>\n      <td>0.04</td>\n      <td>3.28</td>\n    </tr>\n    <tr>\n      <th>2022-02-04</th>\n      <td>2022-02-04</td>\n      <td>0.137687</td>\n      <td>0.142551</td>\n      <td>0.137261</td>\n      <td>0.141685</td>\n      <td>0.141685</td>\n      <td>454621984</td>\n      <td>2.991859e+06</td>\n      <td>10.375</td>\n      <td>822.000</td>\n      <td>...</td>\n      <td>873.0</td>\n      <td>1062.000000</td>\n      <td>957.0</td>\n      <td>1065.0</td>\n      <td>129.0</td>\n      <td>0.0</td>\n      <td>100</td>\n      <td>4.0</td>\n      <td>0.04</td>\n      <td>4.00</td>\n    </tr>\n  </tbody>\n</table>\n<p>1549 rows × 24 columns</p>\n</div>"
     },
     "execution_count": 436,
     "metadata": {},
     "output_type": "execute_result"
    }
   ],
   "source": [
    "df = pd.read_csv('../doge_v1.csv')\n",
    "\n",
    "df = df.set_index(pd.DatetimeIndex(df['Date'].values))\n",
    "df"
   ],
   "metadata": {
    "collapsed": false,
    "pycharm": {
     "name": "#%%\n"
    }
   }
  },
  {
   "cell_type": "code",
   "execution_count": 437,
   "outputs": [
    {
     "data": {
      "text/plain": "<AxesSubplot:>"
     },
     "execution_count": 437,
     "metadata": {},
     "output_type": "execute_result"
    },
    {
     "data": {
      "text/plain": "<Figure size 1152x144 with 1 Axes>",
      "image/png": "[encoded data removed]"
     },
     "metadata": {},
     "output_type": "display_data"
    }
   ],
   "source": [
    "df = df.resample('D').ffill()\n",
    "df.Close.plot(figsize=(16, 2), color=\"red\", label='Close price', lw=2, alpha =.7)"
   ],
   "metadata": {
    "collapsed": false,
    "pycharm": {
     "name": "#%%\n"
    }
   }
  },
  {
   "cell_type": "code",
   "execution_count": 438,
   "outputs": [],
   "source": [
    "future_days = 1\n",
    "columnName = str(future_days)+'_day_price_forecast'"
   ],
   "metadata": {
    "collapsed": false,
    "pycharm": {
     "name": "#%%\n"
    }
   }
  },
  {
   "cell_type": "code",
   "execution_count": 439,
   "outputs": [
    {
     "data": {
      "text/plain": "               Close  1_day_price_forecast\n2017-11-09  0.001415              0.001163\n2017-11-10  0.001163              0.001201\n2017-11-11  0.001201              0.001038\n2017-11-12  0.001038              0.001211\n2017-11-13  0.001211              0.001184\n...              ...                   ...\n2022-01-31  0.141805              0.142631\n2022-02-01  0.142631              0.137235\n2022-02-02  0.137235              0.137541\n2022-02-03  0.137541              0.141685\n2022-02-04  0.141685                   NaN\n\n[1549 rows x 2 columns]",
      "text/html": "<div>\n<style scoped>\n    .dataframe tbody tr th:only-of-type {\n        vertical-align: middle;\n    }\n\n    .dataframe tbody tr th {\n        vertical-align: top;\n    }\n\n    .dataframe thead th {\n        text-align: right;\n    }\n</style>\n<table border=\"1\" class=\"dataframe\">\n  <thead>\n    <tr style=\"text-align: right;\">\n      <th></th>\n      <th>Close</th>\n      <th>1_day_price_forecast</th>\n    </tr>\n  </thead>\n  <tbody>\n    <tr>\n      <th>2017-11-09</th>\n      <td>0.001415</td>\n      <td>0.001163</td>\n    </tr>\n    <tr>\n      <th>2017-11-10</th>\n      <td>0.001163</td>\n      <td>0.001201</td>\n    </tr>\n    <tr>\n      <th>2017-11-11</th>\n      <td>0.001201</td>\n      <td>0.001038</td>\n    </tr>\n    <tr>\n      <th>2017-11-12</th>\n      <td>0.001038</td>\n      <td>0.001211</td>\n    </tr>\n    <tr>\n      <th>2017-11-13</th>\n      <td>0.001211</td>\n      <td>0.001184</td>\n    </tr>\n    <tr>\n      <th>...</th>\n      <td>...</td>\n      <td>...</td>\n    </tr>\n    <tr>\n      <th>2022-01-31</th>\n      <td>0.141805</td>\n      <td>0.142631</td>\n    </tr>\n    <tr>\n      <th>2022-02-01</th>\n      <td>0.142631</td>\n      <td>0.137235</td>\n    </tr>\n    <tr>\n      <th>2022-02-02</th>\n      <td>0.137235</td>\n      <td>0.137541</td>\n    </tr>\n    <tr>\n      <th>2022-02-03</th>\n      <td>0.137541</td>\n      <td>0.141685</td>\n    </tr>\n    <tr>\n      <th>2022-02-04</th>\n      <td>0.141685</td>\n      <td>NaN</td>\n    </tr>\n  </tbody>\n</table>\n<p>1549 rows × 2 columns</p>\n</div>"
     },
     "execution_count": 439,
     "metadata": {},
     "output_type": "execute_result"
    }
   ],
   "source": [
    "#added new column\n",
    "df[columnName] = df[['Close']].shift(-future_days)\n",
    "\n",
    "df[['Close', columnName]]"
   ],
   "metadata": {
    "collapsed": false,
    "pycharm": {
     "name": "#%%\n"
    }
   }
  },
  {
   "cell_type": "code",
   "execution_count": 440,
   "outputs": [
    {
     "name": "stdout",
     "output_type": "stream",
     "text": [
      "<class 'pandas.core.frame.DataFrame'>\n",
      "DatetimeIndex: 1549 entries, 2017-11-09 to 2022-02-04\n",
      "Freq: D\n",
      "Data columns (total 25 columns):\n",
      " #   Column                       Non-Null Count  Dtype  \n",
      "---  ------                       --------------  -----  \n",
      " 0   Date                         1549 non-null   object \n",
      " 1   Open                         1549 non-null   float64\n",
      " 2   High                         1549 non-null   float64\n",
      " 3   Low                          1549 non-null   float64\n",
      " 4   Close                        1549 non-null   float64\n",
      " 5   Adj Close                    1549 non-null   float64\n",
      " 6   Volume                       1549 non-null   int64  \n",
      " 7   twitter_followers            1549 non-null   float64\n",
      " 8   reddit_average_posts_48h     1549 non-null   float64\n",
      " 9   reddit_average_comments_48h  1549 non-null   float64\n",
      " 10  reddit_subscribers           1549 non-null   float64\n",
      " 11  reddit_accounts_active_48h   1549 non-null   float64\n",
      " 12  forks                        1549 non-null   float64\n",
      " 13  stars                        1549 non-null   float64\n",
      " 14  subscribers                  1549 non-null   float64\n",
      " 15  total_issues                 1549 non-null   float64\n",
      " 16  closed_issues                1549 non-null   float64\n",
      " 17  pull_requests_merged         1549 non-null   float64\n",
      " 18  pull_request_contributors    1549 non-null   float64\n",
      " 19  commit_count_4_weeks         1549 non-null   float64\n",
      " 20  dogecoin_unscaled            1549 non-null   int64  \n",
      " 21  dogecoin_monthly             1549 non-null   float64\n",
      " 22  scale                        1549 non-null   float64\n",
      " 23  dogecoin                     1549 non-null   float64\n",
      " 24  1_day_price_forecast         1548 non-null   float64\n",
      "dtypes: float64(22), int64(2), object(1)\n",
      "memory usage: 314.6+ KB\n"
     ]
    }
   ],
   "source": [
    "df.info()"
   ],
   "metadata": {
    "collapsed": false,
    "pycharm": {
     "name": "#%%\n"
    }
   }
  },
  {
   "cell_type": "code",
   "execution_count": 441,
   "outputs": [
    {
     "name": "stdout",
     "output_type": "stream",
     "text": [
      "(1549, 25)\n",
      "[[1.41500000e-03 1.18100000e-03 6.25955000e+06 ... 0.00000000e+00\n",
      "  1.00000000e+00 5.70000000e-01]\n",
      " [1.43100000e-03 1.12500000e-03 4.24652000e+06 ... 0.00000000e+00\n",
      "  1.00000000e+00 2.40000000e-01]\n",
      " [1.25700000e-03 1.14100000e-03 2.23108000e+06 ... 0.00000000e+00\n",
      "  1.00000000e+00 2.30000000e-01]\n",
      " ...\n",
      " [1.44129000e-01 1.41125000e-01 4.09432267e+08 ... 0.00000000e+00\n",
      "  4.00000000e+00 3.72000000e+00]\n",
      " [1.45253000e-01 1.36918000e-01 4.83194691e+08 ... 0.00000000e+00\n",
      "  4.00000000e+00 3.48000000e+00]\n",
      " [1.38747000e-01 1.35565000e-01 3.83506507e+08 ... 0.00000000e+00\n",
      "  4.00000000e+00 3.28000000e+00]]\n"
     ]
    }
   ],
   "source": [
    "X = np.array(df[[\"High\", \"Low\", \"Volume\", \"Open\", \"twitter_followers\", \"reddit_average_posts_48h\",\n",
    "                \"reddit_average_comments_48h\", \"reddit_subscribers\", \"reddit_accounts_active_48h\", \"forks\", \"stars\",\n",
    "                \"subscribers\", \"total_issues\", \"closed_issues\", \"pull_requests_merged\", \"pull_request_contributors\",\n",
    "                \"commit_count_4_weeks\", \"dogecoin_monthly\", \"dogecoin\"]])\n",
    "\n",
    "\n",
    "print(df.shape)\n",
    "\n",
    "X = X[:df.shape[0] - future_days]\n",
    "print(X)"
   ],
   "metadata": {
    "collapsed": false,
    "pycharm": {
     "name": "#%%\n"
    }
   }
  },
  {
   "cell_type": "code",
   "execution_count": 442,
   "outputs": [
    {
     "name": "stdout",
     "output_type": "stream",
     "text": [
      "[0.001163 0.001201 0.001038 ... 0.137235 0.137541 0.141685]\n"
     ]
    }
   ],
   "source": [
    "y = np.array(df[columnName])\n",
    "y = y[:-future_days]\n",
    "print(y)"
   ],
   "metadata": {
    "collapsed": false,
    "pycharm": {
     "name": "#%%\n"
    }
   }
  },
  {
   "cell_type": "code",
   "execution_count": 443,
   "outputs": [],
   "source": [
    "from sklearn.model_selection import train_test_split\n",
    "\n",
    "x_train, x_test, y_train, y_test = train_test_split(X,y, test_size = 0.2, shuffle=False)"
   ],
   "metadata": {
    "collapsed": false,
    "pycharm": {
     "name": "#%%\n"
    }
   }
  },
  {
   "cell_type": "code",
   "execution_count": 444,
   "outputs": [
    {
     "name": "stdout",
     "output_type": "stream",
     "text": [
      "Scaled X_l:\n",
      "[[-0.39367943 -0.41385857 -0.2014769  ... -0.31944861 -0.10595194\n",
      "  -0.04440799]\n",
      " [-0.39238134 -0.41915265 -0.20310446 ... -0.31944861 -0.10595194\n",
      "  -0.14081802]\n",
      " [-0.406498   -0.41764006 -0.20473396 ... -0.31944861 -0.10595194\n",
      "  -0.14373953]\n",
      " ...\n",
      " [ 3.93356113  4.48618801  0.16575939 ...  0.57790687  0.65488621\n",
      "   0.27988029]\n",
      " [ 3.92536698  4.50150302  0.22837542 ... -0.31944861  0.65488621\n",
      "   0.43764216]\n",
      " [ 3.98889191  4.55085138  0.38279042 ... -0.31944861  0.65488621\n",
      "   0.45517125]]\n",
      "Scaled y_p:\n",
      "[[-0.41644404]\n",
      " [-0.41315149]\n",
      " [-0.42727479]\n",
      " ...\n",
      " [ 4.1661761 ]\n",
      " [ 4.15300591]\n",
      " [ 4.13195093]]\n"
     ]
    }
   ],
   "source": [
    "from sklearn.preprocessing import StandardScaler\n",
    "\n",
    "\n",
    "StdS_X = StandardScaler()\n",
    "StdS_y = StandardScaler()\n",
    "X_l = StdS_X.fit_transform(x_train)\n",
    "y_p = StdS_y.fit_transform(y_train.reshape(-1,1))\n",
    "\n",
    "print(\"Scaled X_l:\")\n",
    "print(X_l)\n",
    "print(\"Scaled y_p:\")\n",
    "print(y_p)"
   ],
   "metadata": {
    "collapsed": false,
    "pycharm": {
     "name": "#%%\n"
    }
   }
  },
  {
   "cell_type": "code",
   "execution_count": 445,
   "outputs": [
    {
     "name": "stdout",
     "output_type": "stream",
     "text": [
      "Scaled X_l_test:\n",
      "[[-1.85848319 -2.11900651 -0.48809287 ... -0.44664227 -0.47087352\n",
      "  -0.45317956]\n",
      " [-1.71853358 -2.10261672  0.22048017 ... -0.44664227 -0.47087352\n",
      "  -0.59946706]\n",
      " [-1.78887072 -2.05864441 -0.28036058 ... -0.44664227 -0.47087352\n",
      "  -0.60488512]\n",
      " ...\n",
      " [-1.05633384 -1.05985672 -0.52157589 ... -0.44664227 -0.55783854\n",
      "  -0.2906379 ]\n",
      " [-1.04627801 -1.11000351 -0.51145202 ... -0.44664227 -0.55783854\n",
      "  -0.31231012]\n",
      " [-1.10448373 -1.12613106 -0.52513419 ... -0.44664227 -0.55783854\n",
      "  -0.3303703 ]]\n",
      "Scaled y_p_test:\n",
      "[[-1.90109281e+00]\n",
      " [-1.94558719e+00]\n",
      " [-1.96473563e+00]\n",
      " [-1.94826386e+00]\n",
      " [-1.92466804e+00]\n",
      " [-1.87564392e+00]\n",
      " [-1.93154500e+00]\n",
      " [-1.90646673e+00]\n",
      " [-1.90420186e+00]\n",
      " [-1.88195467e+00]\n",
      " [-1.77072902e+00]\n",
      " [-1.81069366e+00]\n",
      " [-1.57722685e+00]\n",
      " [-1.28822958e+00]\n",
      " [-6.63434603e-01]\n",
      " [ 1.22735003e+00]\n",
      " [ 3.86290962e-01]\n",
      " [ 7.60014923e-01]\n",
      " [ 1.65405134e+00]\n",
      " [ 7.49977436e-01]\n",
      " [ 6.20519587e-01]\n",
      " [ 1.47388470e-01]\n",
      " [ 1.91351203e-02]\n",
      " [ 2.42564439e-01]\n",
      " [ 4.59223427e-02]\n",
      " [ 2.47320664e-01]\n",
      " [ 2.62907080e-01]\n",
      " [ 7.93030535e-01]\n",
      " [ 6.02441815e-01]\n",
      " [ 9.35912879e-01]\n",
      " [ 1.50651572e+00]\n",
      " [ 1.33211052e+00]\n",
      " [ 2.00808124e+00]\n",
      " [ 3.03372713e+00]\n",
      " [ 4.23100890e+00]\n",
      " [ 3.44006520e+00]\n",
      " [ 4.51045254e+00]\n",
      " [ 4.01281966e+00]\n",
      " [ 3.32956019e+00]\n",
      " [ 2.09308588e+00]\n",
      " [ 2.55910325e+00]\n",
      " [ 1.42816155e+00]\n",
      " [ 2.50910112e+00]\n",
      " [ 3.22181419e+00]\n",
      " [ 2.69027005e+00]\n",
      " [ 2.76154136e+00]\n",
      " [ 2.48354929e+00]\n",
      " [ 2.36230673e+00]\n",
      " [ 8.90224296e-01]\n",
      " [ 1.58071077e+00]\n",
      " [ 1.16055699e+00]\n",
      " [ 9.85431150e-01]\n",
      " [ 6.32317495e-01]\n",
      " [ 1.23035613e+00]\n",
      " [ 1.02590024e+00]\n",
      " [ 1.10198954e+00]\n",
      " [ 8.88391811e-01]\n",
      " [ 6.64581583e-01]\n",
      " [ 5.81244701e-01]\n",
      " [ 5.72123457e-01]\n",
      " [ 8.14937994e-01]\n",
      " [ 1.27066051e+00]\n",
      " [ 1.81934559e+00]\n",
      " [ 1.57833265e+00]\n",
      " [ 1.33496219e+00]\n",
      " [ 1.29227971e+00]\n",
      " [ 1.28847061e+00]\n",
      " [ 8.68883054e-01]\n",
      " [ 8.34261444e-01]\n",
      " [ 9.95314214e-01]\n",
      " [ 8.20507513e-01]\n",
      " [ 7.48525861e-01]\n",
      " [ 6.73630763e-01]\n",
      " [ 8.00236936e-01]\n",
      " [ 8.79538233e-01]\n",
      " [ 8.41406076e-01]\n",
      " [ 6.29126089e-01]\n",
      " [ 6.16103093e-01]\n",
      " [ 4.82022853e-01]\n",
      " [ 4.19059497e-01]\n",
      " [ 3.52595889e-01]\n",
      " [-6.99631326e-01]\n",
      " [-5.72592769e-01]\n",
      " [-1.49031397e-01]\n",
      " [ 1.66073639e-01]\n",
      " [-7.71835779e-02]\n",
      " [-1.92132284e-02]\n",
      " [ 1.83245463e-01]\n",
      " [ 1.05076601e-01]\n",
      " [ 1.65939806e-01]\n",
      " [ 7.78775842e-02]\n",
      " [-2.16325202e-02]\n",
      " [-1.42716962e-02]\n",
      " [-2.46349327e-03]\n",
      " [-1.72226345e-03]\n",
      " [-1.54796518e-01]\n",
      " [-1.25888554e-01]\n",
      " [-2.31884420e-01]\n",
      " [-4.02048140e-01]\n",
      " [-2.75761108e-01]\n",
      " [-3.36953748e-01]\n",
      " [-3.17022901e-01]\n",
      " [-3.97405158e-01]\n",
      " [-4.80227297e-01]\n",
      " [-5.07807223e-01]\n",
      " [-6.35834086e-01]\n",
      " [-7.64962499e-01]\n",
      " [-6.23099346e-01]\n",
      " [-6.63166936e-01]\n",
      " [-7.52495425e-01]\n",
      " [-7.80857761e-01]\n",
      " [-5.79613863e-01]\n",
      " [-5.69792568e-01]\n",
      " [-5.34162062e-01]\n",
      " [-5.07858698e-01]\n",
      " [-5.02248000e-01]\n",
      " [-4.34765201e-01]\n",
      " [-4.19528810e-01]\n",
      " [-4.24748303e-01]\n",
      " [-4.32706229e-01]\n",
      " [-3.89447233e-01]\n",
      " [-3.94666726e-01]\n",
      " [-4.34579893e-01]\n",
      " [-4.43196690e-01]\n",
      " [-5.21777347e-01]\n",
      " [-4.64918842e-01]\n",
      " [-4.70230989e-01]\n",
      " [-4.31995884e-01]\n",
      " [ 1.40943889e-01]\n",
      " [-6.80005639e-02]\n",
      " [ 1.05488395e-01]\n",
      " [ 1.09894595e-01]\n",
      " [ 1.91615183e-01]\n",
      " [ 1.77799483e-01]\n",
      " [ 4.13417914e-01]\n",
      " [ 4.78326999e-01]\n",
      " [ 9.75856931e-01]\n",
      " [ 7.62485689e-01]\n",
      " [ 5.43483160e-01]\n",
      " [ 5.87720167e-01]\n",
      " [ 7.25722749e-01]\n",
      " [ 8.32243652e-01]\n",
      " [ 7.22150433e-01]\n",
      " [ 7.03269662e-01]\n",
      " [ 7.33649790e-01]\n",
      " [ 4.33297287e-01]\n",
      " [ 4.69195459e-01]\n",
      " [ 2.29150238e-01]\n",
      " [ 4.91916212e-01]\n",
      " [ 4.01280276e-01]\n",
      " [ 3.54912232e-01]\n",
      " [ 2.62258504e-01]\n",
      " [ 3.27404370e-01]\n",
      " [ 4.91586777e-01]\n",
      " [ 5.07584987e-01]\n",
      " [ 5.10858752e-01]\n",
      " [ 5.42927237e-01]\n",
      " [ 6.98781103e-01]\n",
      " [ 6.39462127e-01]\n",
      " [ 7.30287057e-02]\n",
      " [ 1.07712085e-01]\n",
      " [ 6.12102079e-02]\n",
      " [-6.86491400e-02]\n",
      " [-5.37215948e-02]\n",
      " [ 4.08366825e-02]\n",
      " [-1.10610984e-01]\n",
      " [-6.11647777e-02]\n",
      " [ 1.07756950e-02]\n",
      " [-4.21604685e-02]\n",
      " [-6.91844726e-02]\n",
      " [-5.41951583e-02]\n",
      " [-1.39065974e-01]\n",
      " [-4.07463235e-01]\n",
      " [-4.69685361e-01]\n",
      " [-2.24348583e-01]\n",
      " [-2.24616250e-01]\n",
      " [-3.82961472e-01]\n",
      " [-3.91310602e-01]\n",
      " [-4.29175092e-01]\n",
      " [-4.77560928e-01]\n",
      " [-5.13160550e-01]\n",
      " [-4.91829603e-01]\n",
      " [-4.36566801e-01]\n",
      " [-2.43373482e-01]\n",
      " [-2.83286649e-01]\n",
      " [-2.56365594e-01]\n",
      " [-5.96926129e-02]\n",
      " [ 5.52391899e-02]\n",
      " [ 8.73385593e-02]\n",
      " [-3.83719605e-02]\n",
      " [-2.88183316e-02]\n",
      " [-5.58944410e-04]\n",
      " [-1.73419917e-01]\n",
      " [-1.55939247e-01]\n",
      " [-2.10100499e-01]\n",
      " [-1.44934043e-01]\n",
      " [-1.48012206e-01]\n",
      " [-1.32477264e-01]\n",
      " [-9.63423099e-02]\n",
      " [-9.01036256e-02]\n",
      " [ 6.49303381e-03]\n",
      " [-8.87719026e-03]\n",
      " [ 7.66216114e-02]\n",
      " [-4.38488253e-02]\n",
      " [-2.50092339e-02]\n",
      " [ 5.23257448e-02]\n",
      " [ 3.12940093e-01]\n",
      " [ 1.85891242e-01]\n",
      " [ 9.34948849e-02]\n",
      " [-9.22449562e-02]\n",
      " [ 5.53829493e-01]\n",
      " [ 4.24176042e-01]\n",
      " [ 2.23343938e-01]\n",
      " [ 3.45842462e-01]\n",
      " [ 2.58171445e-01]\n",
      " [ 2.72512183e-01]\n",
      " [ 2.34277078e-01]\n",
      " [ 1.71200478e-01]\n",
      " [ 1.52515310e-01]\n",
      " [ 1.56972984e-01]\n",
      " [ 2.02445375e-01]\n",
      " [ 3.67616088e-01]\n",
      " [ 2.76681601e-01]\n",
      " [ 9.32581031e-02]\n",
      " [ 1.49447442e-01]\n",
      " [ 1.31400555e-01]\n",
      " [ 1.54996371e-01]\n",
      " [ 1.67411970e-01]\n",
      " [ 1.01699887e-01]\n",
      " [-9.67849889e-02]\n",
      " [-9.43348125e-02]\n",
      " [-2.60123217e-01]\n",
      " [-1.39395409e-01]\n",
      " [-1.40280767e-01]\n",
      " [-2.09215141e-01]\n",
      " [-2.77696541e-01]\n",
      " [-2.07320887e-01]\n",
      " [-2.55572890e-01]\n",
      " [-3.12184318e-01]\n",
      " [-4.71126642e-01]\n",
      " [-4.25211572e-01]\n",
      " [-4.03334997e-01]\n",
      " [-3.24033700e-01]\n",
      " [-3.28769335e-01]\n",
      " [-3.82590857e-01]\n",
      " [-3.80130385e-01]\n",
      " [-4.80330245e-01]\n",
      " [-6.97963559e-01]\n",
      " [-7.76183895e-01]\n",
      " [-7.02627130e-01]\n",
      " [-7.19047429e-01]\n",
      " [-6.94895691e-01]\n",
      " [-7.94416090e-01]\n",
      " [-8.46528665e-01]\n",
      " [-7.99203199e-01]\n",
      " [-7.90226083e-01]\n",
      " [-9.17120511e-01]\n",
      " [-6.84539063e-01]\n",
      " [-6.75016319e-01]\n",
      " [-7.53545501e-01]\n",
      " [-7.99295853e-01]\n",
      " [-7.64396282e-01]\n",
      " [-7.93468963e-01]\n",
      " [-8.16673575e-01]\n",
      " [-7.77007484e-01]\n",
      " [-7.56016267e-01]\n",
      " [-6.39931440e-01]\n",
      " [-6.17982801e-01]\n",
      " [-5.76443046e-01]\n",
      " [-5.83000871e-01]\n",
      " [-6.06833469e-01]\n",
      " [-7.46720010e-01]\n",
      " [-8.12112952e-01]\n",
      " [-7.75586793e-01]\n",
      " [-7.83997693e-01]\n",
      " [-7.57859047e-01]\n",
      " [-7.43775680e-01]\n",
      " [-7.88197995e-01]\n",
      " [-8.01426889e-01]\n",
      " [-8.98023548e-01]\n",
      " [-8.89859725e-01]\n",
      " [-9.43290042e-01]\n",
      " [-9.74884963e-01]\n",
      " [-9.84037093e-01]\n",
      " [-1.06336927e+00]\n",
      " [-9.60008893e-01]\n",
      " [-8.75045424e-01]\n",
      " [-7.68071547e-01]\n",
      " [-6.49618902e-01]\n",
      " [-6.33620692e-01]\n",
      " [-7.15228037e-01]\n",
      " [-7.77316330e-01]\n",
      " [-8.35585230e-01]\n",
      " [-8.67797843e-01]\n",
      " [-9.41426673e-01]\n",
      " [-1.07077128e+00]\n",
      " [-1.17112556e+00]\n",
      " [-1.07877038e+00]\n",
      " [-1.12061898e+00]\n",
      " [-1.06656068e+00]\n",
      " [-1.05894248e+00]\n",
      " [-1.08511202e+00]\n",
      " [-1.08090142e+00]\n",
      " [-1.06648862e+00]\n",
      " [-1.10339568e+00]\n",
      " [-1.07936748e+00]\n",
      " [-1.07086393e+00]\n",
      " [-1.12641499e+00]\n",
      " [-1.12326476e+00]\n",
      " [-1.08060287e+00]]\n"
     ]
    }
   ],
   "source": [
    "\n",
    "StdS_X_test = StandardScaler()\n",
    "StdS_y_test = StandardScaler()\n",
    "\n",
    "X_l_test = StdS_X_test.fit_transform(x_test)\n",
    "y_p_test = StdS_y_test.fit_transform(y_test.reshape(-1,1))\n",
    "\n",
    "print(\"Scaled X_l_test:\")\n",
    "print(X_l_test)\n",
    "print(\"Scaled y_p_test:\")\n",
    "print(y_p_test)"
   ],
   "metadata": {
    "collapsed": false,
    "pycharm": {
     "name": "#%%\n"
    }
   }
  },
  {
   "cell_type": "code",
   "execution_count": 446,
   "outputs": [
    {
     "name": "stderr",
     "output_type": "stream",
     "text": [
      "C:\\Users\\nikol\\Desktop\\SIAP - projekat\\SIAP_2022\\venv\\lib\\site-packages\\sklearn\\utils\\validation.py:993: DataConversionWarning: A column-vector y was passed when a 1d array was expected. Please change the shape of y to (n_samples, ), for example using ravel().\n",
      "  y = column_or_1d(y, warn=True)\n"
     ]
    },
    {
     "data": {
      "text/plain": "SVR(C=1000.0, epsilon=0.02, gamma='auto', kernel='linear')"
     },
     "execution_count": 446,
     "metadata": {},
     "output_type": "execute_result"
    }
   ],
   "source": [
    "from sklearn.svm import SVR\n",
    "svr_linear = SVR(kernel='linear', C = 1e3, gamma=\"auto\", epsilon=0.02)\n",
    "svr_linear.fit(X_l, y_p)"
   ],
   "metadata": {
    "collapsed": false,
    "pycharm": {
     "name": "#%%\n"
    }
   }
  },
  {
   "cell_type": "code",
   "execution_count": 447,
   "outputs": [
    {
     "data": {
      "text/plain": "LinearRegression()"
     },
     "execution_count": 447,
     "metadata": {},
     "output_type": "execute_result"
    }
   ],
   "source": [
    "from sklearn.linear_model import LinearRegression\n",
    "# Create and train the Linear Regression  Model\n",
    "lr = LinearRegression()\n",
    "# Train the model\n",
    "lr.fit(X_l, y_p)"
   ],
   "metadata": {
    "collapsed": false,
    "pycharm": {
     "name": "#%%\n"
    }
   }
  },
  {
   "cell_type": "code",
   "execution_count": 448,
   "outputs": [
    {
     "name": "stdout",
     "output_type": "stream",
     "text": [
      "lr confidence:  0.7745555395734195\n",
      "svr_linear confidence 0.8804723295480231\n"
     ]
    }
   ],
   "source": [
    "# Testing Model: Score returns the coefficient of determination R^2 of the prediction.\n",
    "# The best possible score is 1.0\n",
    "lr_confidence = lr.score(X_l_test, y_p_test)\n",
    "print(\"lr confidence: \", lr_confidence)\n",
    "\n",
    "svr_linear_confidence = svr_linear.score(X_l_test, y_p_test)\n",
    "print('svr_linear confidence', svr_linear_confidence)"
   ],
   "metadata": {
    "collapsed": false,
    "pycharm": {
     "name": "#%%\n"
    }
   }
  },
  {
   "cell_type": "code",
   "execution_count": 449,
   "outputs": [
    {
     "name": "stdout",
     "output_type": "stream",
     "text": [
      "[-1.99461498e+00 -1.95332201e+00 -1.96814455e+00 -1.96845119e+00\n",
      " -1.97345893e+00 -1.96826702e+00 -1.94336041e+00 -1.93875945e+00\n",
      " -1.94182974e+00 -1.92391688e+00 -1.91833018e+00 -1.73315218e+00\n",
      " -1.71651270e+00 -1.60333209e+00 -1.42241851e+00 -1.00568502e+00\n",
      "  3.51953430e-01  1.56173554e-01  2.82239242e-01  9.02415617e-01\n",
      "  6.24181839e-01  4.45385226e-01  7.55825716e-02 -4.17902172e-01\n",
      "  1.79580736e-02 -5.66519267e-02 -9.97622513e-03  2.44537841e-03\n",
      "  3.53210809e-01  3.11652284e-01  4.93072840e-01  8.79969205e-01\n",
      "  1.07394530e+00  1.48536943e+00  2.37453920e+00  3.14479827e+00\n",
      "  3.04165607e+00  3.55652445e+00  3.66074988e+00  2.80549081e+00\n",
      "  2.18690221e+00  2.28879570e+00  2.03532373e+00  2.05628728e+00\n",
      "  2.63614002e+00  2.46599012e+00  2.21937037e+00  1.99639366e+00\n",
      "  2.11927214e+00  2.92653578e+00  1.29450920e+00  1.08861887e+00\n",
      "  7.74816242e-01  4.97314384e-01  8.07161094e-01  8.44126335e-01\n",
      "  8.77776632e-01  7.56728840e-01  7.00088292e-01  4.71601617e-01\n",
      "  4.33258058e-01  6.04856843e-01  1.02698020e+00  1.46265445e+00\n",
      "  1.43393029e+00  1.11018242e+00  1.15738025e+00  1.01820460e+00\n",
      "  9.49404567e-01  6.32493707e-01  7.89416737e-01  7.16136249e-01\n",
      "  6.34422386e-01  5.18374146e-01  6.19610988e-01  6.65216344e-01\n",
      "  5.93708537e-01  5.24582965e-01  4.85068901e-01  3.79529370e-01\n",
      "  3.49298036e-01  2.48451788e-01 -4.65778042e-02 -3.85424751e-01\n",
      " -1.05724991e-01  8.18224461e-02  1.83033427e-01  1.23112818e-03\n",
      "  9.21390106e-02  7.74286200e-02  1.56663535e-01  1.31737562e-02\n",
      "  2.76639103e-02 -3.66283810e-02 -1.00882035e-02 -2.02457776e-04\n",
      " -9.65203371e-02 -9.71714967e-02 -1.46302723e-01 -2.79043870e-01\n",
      " -2.44991295e-01 -2.24952668e-01 -2.86081075e-01 -3.05364555e-01\n",
      " -3.90941448e-01 -4.33042029e-01 -4.69368939e-01 -5.60781952e-01\n",
      " -4.26008111e-01 -4.90537332e-01 -5.94625243e-01 -6.52316039e-01\n",
      " -3.77486103e-01 -4.82614783e-01 -4.64870348e-01 -4.19558609e-01\n",
      " -4.53461253e-01 -2.27632294e-01 -4.03721821e-01 -3.57138498e-01\n",
      " -4.04388208e-01 -3.81452016e-01 -3.37803421e-01 -3.27907891e-01\n",
      " -3.73829385e-01 -4.30630522e-01 -4.32060130e-01 -4.46389951e-01\n",
      " -3.62279148e-01 -1.72248731e-02  9.67668235e-02  3.71282387e-02\n",
      "  2.42349949e-02  1.99968323e-01  2.65105630e-01  2.56768348e-01\n",
      "  3.16219067e-01  6.94864060e-01  6.88290034e-01  6.17904395e-01\n",
      "  4.88793897e-01  5.02345179e-01  6.38371172e-01  6.03950801e-01\n",
      "  5.41839013e-01  6.11388100e-01  4.58913137e-01  3.35314430e-01\n",
      "  2.96443388e-01  3.37159829e-01  3.67025988e-01  3.08567930e-01\n",
      "  2.83505079e-01  2.68933283e-01  3.50633762e-01  4.55598969e-01\n",
      "  4.18346512e-01  4.64437185e-01  5.06085674e-01  5.23571710e-01\n",
      "  2.51047304e-01  3.34111689e-02  6.03767311e-02  4.71937103e-02\n",
      " -2.56610145e-02  3.08843990e-02 -4.00403771e-02 -7.13294511e-02\n",
      " -1.75472158e-02 -4.63721415e-02  5.12936755e-02 -2.84967902e-02\n",
      " -9.76438856e-02 -2.28143243e-01 -2.96181791e-01 -1.82441093e-01\n",
      " -1.98380561e-01 -2.47787417e-01 -3.25087510e-01 -3.86012849e-01\n",
      " -3.60497238e-01 -4.15152565e-01 -3.96506708e-01 -3.80011572e-01\n",
      " -2.34701944e-01 -2.38803454e-01 -2.09356277e-01 -8.34093094e-02\n",
      "  6.76087422e-02  9.95180876e-02 -7.96822018e-03  2.20375126e-02\n",
      "  4.45318894e-03 -6.17346321e-02 -1.08748471e-01 -2.05140744e-01\n",
      " -1.59453467e-01 -9.74513924e-02 -8.95295832e-02 -6.17026593e-02\n",
      " -1.03351174e-01  1.08767161e-01  9.50181627e-03  7.23453039e-02\n",
      "  2.38063052e-02 -1.46674822e-02  4.99537965e-03  2.01512356e-01\n",
      "  1.91681488e-01  1.68577955e-01 -6.46880372e-03  4.41794694e-01\n",
      "  3.67360353e-01  2.87739610e-01  2.03341813e-01  2.51409576e-01\n",
      "  2.36817931e-01  1.98273216e-01  1.33715901e-01  1.61200861e-01\n",
      "  1.28322167e-01  1.61972217e-01  3.43119207e-01  2.96409158e-01\n",
      "  1.34369702e-01  1.69908895e-01  1.44224999e-01  1.08689060e-01\n",
      "  1.78604714e-01  1.20657983e-01 -1.19309929e-02 -8.34120576e-02\n",
      " -1.22718327e-01 -1.11411925e-01 -1.25917385e-01 -1.46117916e-01\n",
      " -1.97214780e-01 -1.31428435e-01 -2.06045845e-01 -1.75698473e-01\n",
      " -3.07749118e-01 -3.30978132e-01 -3.72298554e-01 -2.35344010e-01\n",
      " -2.06007824e-01 -2.71639846e-01 -2.47934030e-01 -3.49014261e-01\n",
      " -6.00600912e-01 -6.20391522e-01 -6.08158474e-01 -5.57239362e-01\n",
      " -5.80596889e-01 -5.93712621e-01 -6.39362428e-01 -6.62645698e-01\n",
      " -6.29783180e-01 -6.88257543e-01 -3.11962518e-01 -5.38004566e-01\n",
      " -5.46331426e-01 -6.20287443e-01 -6.14428340e-01 -6.26225317e-01\n",
      " -6.73033566e-01 -6.35948566e-01 -5.71649120e-01 -5.42070152e-01\n",
      " -4.76913004e-01 -4.50096073e-01 -4.73185780e-01 -4.76961415e-01\n",
      " -5.51931983e-01 -6.10797593e-01 -6.18858958e-01 -6.24935538e-01\n",
      " -6.24273779e-01 -6.11392278e-01 -6.28791374e-01 -6.47720084e-01\n",
      " -6.92225819e-01 -7.37397760e-01 -7.59866419e-01 -7.83428611e-01\n",
      " -7.91327698e-01 -8.05273261e-01 -6.98987300e-01 -7.25095855e-01\n",
      " -6.33429212e-01 -4.36131871e-01 -4.69190587e-01 -5.62826022e-01\n",
      " -6.12020549e-01 -6.38628092e-01 -6.71280291e-01 -6.64130620e-01\n",
      " -8.02608365e-01 -9.13697803e-01 -8.82267171e-01 -9.26427383e-01\n",
      " -8.50253207e-01 -7.92236278e-01 -8.71018766e-01 -8.77672714e-01\n",
      " -8.58302207e-01 -8.81589301e-01 -8.84451811e-01 -8.56271965e-01\n",
      " -8.62539193e-01 -9.17255345e-01]\n"
     ]
    }
   ],
   "source": [
    "svr_prediction = svr_linear.predict(X_l_test)\n",
    "print(svr_prediction)"
   ],
   "metadata": {
    "collapsed": false,
    "pycharm": {
     "name": "#%%\n"
    }
   }
  },
  {
   "cell_type": "code",
   "execution_count": 450,
   "outputs": [
    {
     "name": "stdout",
     "output_type": "stream",
     "text": [
      "[[0.05290164]\n",
      " [0.05691267]\n",
      " [0.05547287]\n",
      " [0.05544309]\n",
      " [0.05495666]\n",
      " [0.05546097]\n",
      " [0.0578803 ]\n",
      " [0.05832722]\n",
      " [0.05802898]\n",
      " [0.05976896]\n",
      " [0.06031163]\n",
      " [0.07829906]\n",
      " [0.07991535]\n",
      " [0.09090924]\n",
      " [0.10848244]\n",
      " [0.14896221]\n",
      " [0.28083759]\n",
      " [0.26182035]\n",
      " [0.27406585]\n",
      " [0.33430721]\n",
      " [0.30728074]\n",
      " [0.28991317]\n",
      " [0.25399207]\n",
      " [0.206057  ]\n",
      " [0.24839467]\n",
      " [0.24114736]\n",
      " [0.24568124]\n",
      " [0.24688783]\n",
      " [0.28095973]\n",
      " [0.27692291]\n",
      " [0.29454535]\n",
      " [0.33212686]\n",
      " [0.3509689 ]\n",
      " [0.39093294]\n",
      " [0.47730321]\n",
      " [0.55212299]\n",
      " [0.54210418]\n",
      " [0.59211637]\n",
      " [0.6022404 ]\n",
      " [0.51916407]\n",
      " [0.45907693]\n",
      " [0.46897444]\n",
      " [0.44435322]\n",
      " [0.44638954]\n",
      " [0.50271403]\n",
      " [0.48618638]\n",
      " [0.46223075]\n",
      " [0.44057172]\n",
      " [0.45250762]\n",
      " [0.53092188]\n",
      " [0.37239356]\n",
      " [0.35239423]\n",
      " [0.32191274]\n",
      " [0.29495736]\n",
      " [0.32505458]\n",
      " [0.32864523]\n",
      " [0.33191389]\n",
      " [0.3201558 ]\n",
      " [0.31465397]\n",
      " [0.29245972]\n",
      " [0.28873519]\n",
      " [0.30540359]\n",
      " [0.3464069 ]\n",
      " [0.3887265 ]\n",
      " [0.38593635]\n",
      " [0.35448882]\n",
      " [0.35907342]\n",
      " [0.34555448]\n",
      " [0.33887153]\n",
      " [0.30808812]\n",
      " [0.32333097]\n",
      " [0.31621281]\n",
      " [0.30827546]\n",
      " [0.29700301]\n",
      " [0.30683674]\n",
      " [0.31126666]\n",
      " [0.30432069]\n",
      " [0.29760611]\n",
      " [0.29376788]\n",
      " [0.28351621]\n",
      " [0.28057966]\n",
      " [0.27078387]\n",
      " [0.24212592]\n",
      " [0.20921173]\n",
      " [0.23638061]\n",
      " [0.25459819]\n",
      " [0.2644294 ]\n",
      " [0.24676988]\n",
      " [0.2556003 ]\n",
      " [0.25417139]\n",
      " [0.26186794]\n",
      " [0.24792994]\n",
      " [0.24933745]\n",
      " [0.24309236]\n",
      " [0.24567037]\n",
      " [0.24663063]\n",
      " [0.23727471]\n",
      " [0.23721146]\n",
      " [0.23243905]\n",
      " [0.21954513]\n",
      " [0.22285285]\n",
      " [0.22479932]\n",
      " [0.21886156]\n",
      " [0.21698844]\n",
      " [0.20867586]\n",
      " [0.20458638]\n",
      " [0.20105774]\n",
      " [0.19217825]\n",
      " [0.20526963]\n",
      " [0.19900153]\n",
      " [0.18889086]\n",
      " [0.18328701]\n",
      " [0.20998285]\n",
      " [0.19977109]\n",
      " [0.20149471]\n",
      " [0.20589611]\n",
      " [0.20260294]\n",
      " [0.22453903]\n",
      " [0.20743443]\n",
      " [0.21195934]\n",
      " [0.2073697 ]\n",
      " [0.20959762]\n",
      " [0.21383747]\n",
      " [0.21479868]\n",
      " [0.21033805]\n",
      " [0.20482063]\n",
      " [0.20468176]\n",
      " [0.20328982]\n",
      " [0.21146   ]\n",
      " [0.24497714]\n",
      " [0.25604982]\n",
      " [0.25025678]\n",
      " [0.24900438]\n",
      " [0.26607439]\n",
      " [0.27240156]\n",
      " [0.27159171]\n",
      " [0.27736651]\n",
      " [0.31414651]\n",
      " [0.31350794]\n",
      " [0.30667097]\n",
      " [0.29412971]\n",
      " [0.29544603]\n",
      " [0.30865903]\n",
      " [0.30531558]\n",
      " [0.29928229]\n",
      " [0.30603801]\n",
      " [0.29122722]\n",
      " [0.27922135]\n",
      " [0.27544558]\n",
      " [0.2794006 ]\n",
      " [0.28230168]\n",
      " [0.27662331]\n",
      " [0.2741888 ]\n",
      " [0.27277336]\n",
      " [0.28070941]\n",
      " [0.29090529]\n",
      " [0.28728674]\n",
      " [0.2917638 ]\n",
      " [0.29580936]\n",
      " [0.29750788]\n",
      " [0.27103599]\n",
      " [0.24989572]\n",
      " [0.25251504]\n",
      " [0.2512345 ]\n",
      " [0.24415769]\n",
      " [0.24965028]\n",
      " [0.24276094]\n",
      " [0.23972165]\n",
      " [0.24494583]\n",
      " [0.2421459 ]\n",
      " [0.25163275]\n",
      " [0.24388223]\n",
      " [0.23716557]\n",
      " [0.2244894 ]\n",
      " [0.21788042]\n",
      " [0.22892872]\n",
      " [0.22738043]\n",
      " [0.22258125]\n",
      " [0.21507264]\n",
      " [0.2091546 ]\n",
      " [0.21163308]\n",
      " [0.20632409]\n",
      " [0.20813527]\n",
      " [0.20973754]\n",
      " [0.22385232]\n",
      " [0.22345391]\n",
      " [0.22631429]\n",
      " [0.23854826]\n",
      " [0.25321753]\n",
      " [0.25631707]\n",
      " [0.24587629]\n",
      " [0.24879093]\n",
      " [0.24708286]\n",
      " [0.24065365]\n",
      " [0.23608692]\n",
      " [0.22672377]\n",
      " [0.23116164]\n",
      " [0.23718427]\n",
      " [0.23795376]\n",
      " [0.24065675]\n",
      " [0.23661119]\n",
      " [0.25721549]\n",
      " [0.24757326]\n",
      " [0.25367762]\n",
      " [0.24896274]\n",
      " [0.24522555]\n",
      " [0.24713552]\n",
      " [0.26622437]\n",
      " [0.26526944]\n",
      " [0.26302526]\n",
      " [0.24602194]\n",
      " [0.2895644 ]\n",
      " [0.28233416]\n",
      " [0.27460013]\n",
      " [0.26640208]\n",
      " [0.27107118]\n",
      " [0.26965381]\n",
      " [0.26590973]\n",
      " [0.2596389 ]\n",
      " [0.26230868]\n",
      " [0.25911498]\n",
      " [0.2623836 ]\n",
      " [0.27997947]\n",
      " [0.27544225]\n",
      " [0.25970241]\n",
      " [0.26315454]\n",
      " [0.26065971]\n",
      " [0.2572079 ]\n",
      " [0.26399922]\n",
      " [0.25837051]\n",
      " [0.24549137]\n",
      " [0.23854799]\n",
      " [0.23472994]\n",
      " [0.2358282 ]\n",
      " [0.2344192 ]\n",
      " [0.232457  ]\n",
      " [0.22749367]\n",
      " [0.23388388]\n",
      " [0.22663585]\n",
      " [0.22958367]\n",
      " [0.21675682]\n",
      " [0.21450045]\n",
      " [0.21048675]\n",
      " [0.22378995]\n",
      " [0.22663955]\n",
      " [0.22026432]\n",
      " [0.22256701]\n",
      " [0.21274849]\n",
      " [0.1883104 ]\n",
      " [0.18638803]\n",
      " [0.18757629]\n",
      " [0.19252237]\n",
      " [0.19025351]\n",
      " [0.1889795 ]\n",
      " [0.18454527]\n",
      " [0.18228363]\n",
      " [0.18547576]\n",
      " [0.1797958 ]\n",
      " [0.21634754]\n",
      " [0.19439076]\n",
      " [0.19358192]\n",
      " [0.18639814]\n",
      " [0.18696727]\n",
      " [0.18582136]\n",
      " [0.1812746 ]\n",
      " [0.18487688]\n",
      " [0.19112266]\n",
      " [0.19399584]\n",
      " [0.20032494]\n",
      " [0.20292982]\n",
      " [0.20068698]\n",
      " [0.20032023]\n",
      " [0.1930379 ]\n",
      " [0.18731994]\n",
      " [0.18653689]\n",
      " [0.18594664]\n",
      " [0.18601092]\n",
      " [0.18726218]\n",
      " [0.1855721 ]\n",
      " [0.18373344]\n",
      " [0.17941034]\n",
      " [0.17502252]\n",
      " [0.17284001]\n",
      " [0.17055128]\n",
      " [0.16978399]\n",
      " [0.16842938]\n",
      " [0.17875356]\n",
      " [0.17621748]\n",
      " [0.1851216 ]\n",
      " [0.20428625]\n",
      " [0.20107506]\n",
      " [0.1919797 ]\n",
      " [0.18720115]\n",
      " [0.1846166 ]\n",
      " [0.1814449 ]\n",
      " [0.18213939]\n",
      " [0.16868824]\n",
      " [0.15789747]\n",
      " [0.16095051]\n",
      " [0.15666097]\n",
      " [0.16406021]\n",
      " [0.16969574]\n",
      " [0.16204313]\n",
      " [0.1613968 ]\n",
      " [0.16327837]\n",
      " [0.16101635]\n",
      " [0.1607383 ]\n",
      " [0.16347558]\n",
      " [0.1628668 ]\n",
      " [0.1575519 ]]\n"
     ]
    }
   ],
   "source": [
    "final_prediction =svr_prediction.reshape(-1,1)\n",
    "final_prediction = StdS_y_test.inverse_transform(final_prediction)\n",
    "print(final_prediction)"
   ],
   "metadata": {
    "collapsed": false,
    "pycharm": {
     "name": "#%%\n"
    }
   }
  },
  {
   "cell_type": "code",
   "execution_count": 451,
   "outputs": [
    {
     "name": "stdout",
     "output_type": "stream",
     "text": [
      "[0.061986 0.057664 0.055804 0.057404 0.059696 0.064458 0.059028 0.061464\n",
      " 0.061684 0.063845 0.074649 0.070767 0.093445 0.121517 0.182207 0.36587\n",
      " 0.284173 0.320475 0.407318 0.3195   0.306925 0.260967 0.248509 0.270212\n",
      " 0.251111 0.270674 0.272188 0.323682 0.305169 0.337561 0.392987 0.376046\n",
      " 0.441707 0.541334 0.657633 0.580804 0.684777 0.636439 0.57007  0.449964\n",
      " 0.495231 0.385376 0.490374 0.559604 0.507972 0.514895 0.487892 0.476115\n",
      " 0.333123 0.400194 0.359382 0.342371 0.308071 0.366162 0.346302 0.353693\n",
      " 0.332945 0.311205 0.30311  0.302224 0.32581  0.370077 0.423374 0.399963\n",
      " 0.376323 0.372177 0.371807 0.33105  0.327687 0.343331 0.326351 0.319359\n",
      " 0.312084 0.324382 0.332085 0.328381 0.307761 0.306496 0.293472 0.287356\n",
      " 0.2809   0.178691 0.191031 0.232174 0.262782 0.239153 0.244784 0.26445\n",
      " 0.256857 0.262769 0.254215 0.244549 0.245264 0.246411 0.246483 0.231614\n",
      " 0.234422 0.224126 0.207597 0.219864 0.21392  0.215856 0.208048 0.200003\n",
      " 0.197324 0.184888 0.172345 0.186125 0.182233 0.173556 0.170801 0.190349\n",
      " 0.191303 0.194764 0.197319 0.197864 0.204419 0.205899 0.205392 0.204619\n",
      " 0.208821 0.208314 0.204437 0.2036   0.195967 0.20149  0.200974 0.204688\n",
      " 0.260341 0.240045 0.256897 0.257325 0.265263 0.263921 0.286808 0.293113\n",
      " 0.341441 0.320715 0.299442 0.303739 0.317144 0.327491 0.316797 0.314963\n",
      " 0.317914 0.288739 0.292226 0.268909 0.294433 0.285629 0.281125 0.272125\n",
      " 0.278453 0.294401 0.295955 0.296273 0.299388 0.314527 0.308765 0.253744\n",
      " 0.257113 0.252596 0.239982 0.241432 0.250617 0.235906 0.240709 0.247697\n",
      " 0.242555 0.23993  0.241386 0.233142 0.207071 0.201027 0.224858 0.224832\n",
      " 0.209451 0.20864  0.204962 0.200262 0.196804 0.198876 0.204244 0.22301\n",
      " 0.219133 0.221748 0.240852 0.252016 0.255134 0.242923 0.243851 0.246596\n",
      " 0.229805 0.231503 0.226242 0.232572 0.232273 0.233782 0.237292 0.237898\n",
      " 0.247281 0.245788 0.254093 0.242391 0.244221 0.251733 0.277048 0.264707\n",
      " 0.255732 0.23769  0.300447 0.287853 0.268345 0.280244 0.271728 0.273121\n",
      " 0.269407 0.26328  0.261465 0.261898 0.266315 0.282359 0.273526 0.255709\n",
      " 0.261167 0.259414 0.261706 0.262912 0.256529 0.237249 0.237487 0.221383\n",
      " 0.23311  0.233024 0.226328 0.219676 0.226512 0.221825 0.216326 0.200887\n",
      " 0.205347 0.207472 0.215175 0.214715 0.209487 0.209726 0.199993 0.178853\n",
      " 0.171255 0.1784   0.176805 0.179151 0.169484 0.164422 0.169019 0.169891\n",
      " 0.157565 0.180157 0.181082 0.173454 0.16901  0.1724   0.169576 0.167322\n",
      " 0.171175 0.173214 0.18449  0.186622 0.190657 0.19002  0.187705 0.174117\n",
      " 0.167765 0.171313 0.170496 0.173035 0.174403 0.170088 0.168803 0.15942\n",
      " 0.160213 0.155023 0.151954 0.151065 0.143359 0.153399 0.161652 0.172043\n",
      " 0.183549 0.185103 0.177176 0.171145 0.165485 0.162356 0.155204 0.14264\n",
      " 0.132892 0.141863 0.137798 0.143049 0.143789 0.141247 0.141656 0.143056\n",
      " 0.139471 0.141805 0.142631 0.137235 0.137541 0.141685]\n"
     ]
    }
   ],
   "source": [
    "print(y_test)"
   ],
   "metadata": {
    "collapsed": false,
    "pycharm": {
     "name": "#%%\n"
    }
   }
  },
  {
   "cell_type": "code",
   "execution_count": 452,
   "outputs": [
    {
     "name": "stdout",
     "output_type": "stream",
     "text": [
      "310\n",
      "310\n"
     ]
    }
   ],
   "source": [
    "print(len(final_prediction))\n",
    "print(len(y_test))"
   ],
   "metadata": {
    "collapsed": false,
    "pycharm": {
     "name": "#%%\n"
    }
   }
  },
  {
   "cell_type": "code",
   "execution_count": 453,
   "outputs": [
    {
     "data": {
      "text/plain": "                  Date      Open      High       Low     Close  Adj Close  \\\n2017-11-09  2017-11-09  0.001207  0.001415  0.001181  0.001415   0.001415   \n2017-11-10  2017-11-10  0.001421  0.001431  0.001125  0.001163   0.001163   \n2017-11-11  2017-11-11  0.001146  0.001257  0.001141  0.001201   0.001201   \n2017-11-12  2017-11-12  0.001189  0.001210  0.001002  0.001038   0.001038   \n2017-11-13  2017-11-13  0.001046  0.001212  0.001019  0.001211   0.001211   \n...                ...       ...       ...       ...       ...        ...   \n2022-01-31  2022-01-31  0.139469  0.142264  0.136853  0.141805   0.141805   \n2022-02-01  2022-02-01  0.141805  0.144129  0.141125  0.142631   0.142631   \n2022-02-02  2022-02-02  0.142626  0.145253  0.136918  0.137235   0.137235   \n2022-02-03  2022-02-03  0.137213  0.138747  0.135565  0.137541   0.137541   \n2022-02-04  2022-02-04  0.137687  0.142551  0.137261  0.141685   0.141685   \n\n               Volume  twitter_followers  reddit_average_posts_48h  \\\n2017-11-09    6259550       1.652570e+05                     0.633   \n2017-11-10    4246520       1.653080e+05                     0.833   \n2017-11-11    2231080       1.653630e+05                     0.980   \n2017-11-12    3288960       1.654020e+05                     1.102   \n2017-11-13    2481270       1.654527e+05                     1.277   \n...               ...                ...                       ...   \n2022-01-31  412307174       2.971374e+06                     9.000   \n2022-02-01  409432267       2.977053e+06                     8.889   \n2022-02-02  483194691       2.982243e+06                     8.167   \n2022-02-03  383506507       2.987430e+06                     6.455   \n2022-02-04  454621984       2.991859e+06                    10.375   \n\n            reddit_average_comments_48h  ...  total_issues  closed_issues  \\\n2017-11-09                        9.490  ...    395.000000          336.0   \n2017-11-10                       11.958  ...    395.166667          336.0   \n2017-11-11                       13.224  ...    395.333333          336.0   \n2017-11-12                       14.469  ...    395.500000          336.0   \n2017-11-13                       15.383  ...    395.666667          336.0   \n...                                 ...  ...           ...            ...   \n2022-01-31                      487.909  ...   1061.000000          956.0   \n2022-02-01                      500.778  ...   1062.000000          957.0   \n2022-02-02                      514.167  ...   1062.000000          957.0   \n2022-02-03                      404.000  ...   1062.000000          957.0   \n2022-02-04                      822.000  ...   1062.000000          957.0   \n\n            pull_requests_merged  pull_request_contributors  \\\n2017-11-09                 732.0                       67.0   \n2017-11-10                 732.0                       67.0   \n2017-11-11                 732.0                       67.0   \n2017-11-12                 732.0                       67.0   \n2017-11-13                 732.0                       67.0   \n...                          ...                        ...   \n2022-01-31                1065.0                      129.0   \n2022-02-01                1065.0                      129.0   \n2022-02-02                1065.0                      129.0   \n2022-02-03                1065.0                      129.0   \n2022-02-04                1065.0                      129.0   \n\n            commit_count_4_weeks  dogecoin_unscaled  dogecoin_monthly  scale  \\\n2017-11-09                   0.0                 57               1.0   0.01   \n2017-11-10                   0.0                 24               1.0   0.01   \n2017-11-11                   0.0                 23               1.0   0.01   \n2017-11-12                   0.0                 23               1.0   0.01   \n2017-11-13                   0.0                 41               1.0   0.01   \n...                          ...                ...               ...    ...   \n2022-01-31                   0.0                 23               4.0   0.04   \n2022-02-01                   0.0                 93               4.0   0.04   \n2022-02-02                   0.0                 87               4.0   0.04   \n2022-02-03                   0.0                 82               4.0   0.04   \n2022-02-04                   0.0                100               4.0   0.04   \n\n            dogecoin  1_day_price_forecast  \n2017-11-09      0.57              0.001163  \n2017-11-10      0.24              0.001201  \n2017-11-11      0.23              0.001038  \n2017-11-12      0.23              0.001211  \n2017-11-13      0.41              0.001184  \n...              ...                   ...  \n2022-01-31      0.92              0.142631  \n2022-02-01      3.72              0.137235  \n2022-02-02      3.48              0.137541  \n2022-02-03      3.28              0.141685  \n2022-02-04      4.00                   NaN  \n\n[1549 rows x 25 columns]",
      "text/html": "<div>\n<style scoped>\n    .dataframe tbody tr th:only-of-type {\n        vertical-align: middle;\n    }\n\n    .dataframe tbody tr th {\n        vertical-align: top;\n    }\n\n    .dataframe thead th {\n        text-align: right;\n    }\n</style>\n<table border=\"1\" class=\"dataframe\">\n  <thead>\n    <tr style=\"text-align: right;\">\n      <th></th>\n      <th>Date</th>\n      <th>Open</th>\n      <th>High</th>\n      <th>Low</th>\n      <th>Close</th>\n      <th>Adj Close</th>\n      <th>Volume</th>\n      <th>twitter_followers</th>\n      <th>reddit_average_posts_48h</th>\n      <th>reddit_average_comments_48h</th>\n      <th>...</th>\n      <th>total_issues</th>\n      <th>closed_issues</th>\n      <th>pull_requests_merged</th>\n      <th>pull_request_contributors</th>\n      <th>commit_count_4_weeks</th>\n      <th>dogecoin_unscaled</th>\n      <th>dogecoin_monthly</th>\n      <th>scale</th>\n      <th>dogecoin</th>\n      <th>1_day_price_forecast</th>\n    </tr>\n  </thead>\n  <tbody>\n    <tr>\n      <th>2017-11-09</th>\n      <td>2017-11-09</td>\n      <td>0.001207</td>\n      <td>0.001415</td>\n      <td>0.001181</td>\n      <td>0.001415</td>\n      <td>0.001415</td>\n      <td>6259550</td>\n      <td>1.652570e+05</td>\n      <td>0.633</td>\n      <td>9.490</td>\n      <td>...</td>\n      <td>395.000000</td>\n      <td>336.0</td>\n      <td>732.0</td>\n      <td>67.0</td>\n      <td>0.0</td>\n      <td>57</td>\n      <td>1.0</td>\n      <td>0.01</td>\n      <td>0.57</td>\n      <td>0.001163</td>\n    </tr>\n    <tr>\n      <th>2017-11-10</th>\n      <td>2017-11-10</td>\n      <td>0.001421</td>\n      <td>0.001431</td>\n      <td>0.001125</td>\n      <td>0.001163</td>\n      <td>0.001163</td>\n      <td>4246520</td>\n      <td>1.653080e+05</td>\n      <td>0.833</td>\n      <td>11.958</td>\n      <td>...</td>\n      <td>395.166667</td>\n      <td>336.0</td>\n      <td>732.0</td>\n      <td>67.0</td>\n      <td>0.0</td>\n      <td>24</td>\n      <td>1.0</td>\n      <td>0.01</td>\n      <td>0.24</td>\n      <td>0.001201</td>\n    </tr>\n    <tr>\n      <th>2017-11-11</th>\n      <td>2017-11-11</td>\n      <td>0.001146</td>\n      <td>0.001257</td>\n      <td>0.001141</td>\n      <td>0.001201</td>\n      <td>0.001201</td>\n      <td>2231080</td>\n      <td>1.653630e+05</td>\n      <td>0.980</td>\n      <td>13.224</td>\n      <td>...</td>\n      <td>395.333333</td>\n      <td>336.0</td>\n      <td>732.0</td>\n      <td>67.0</td>\n      <td>0.0</td>\n      <td>23</td>\n      <td>1.0</td>\n      <td>0.01</td>\n      <td>0.23</td>\n      <td>0.001038</td>\n    </tr>\n    <tr>\n      <th>2017-11-12</th>\n      <td>2017-11-12</td>\n      <td>0.001189</td>\n      <td>0.001210</td>\n      <td>0.001002</td>\n      <td>0.001038</td>\n      <td>0.001038</td>\n      <td>3288960</td>\n      <td>1.654020e+05</td>\n      <td>1.102</td>\n      <td>14.469</td>\n      <td>...</td>\n      <td>395.500000</td>\n      <td>336.0</td>\n      <td>732.0</td>\n      <td>67.0</td>\n      <td>0.0</td>\n      <td>23</td>\n      <td>1.0</td>\n      <td>0.01</td>\n      <td>0.23</td>\n      <td>0.001211</td>\n    </tr>\n    <tr>\n      <th>2017-11-13</th>\n      <td>2017-11-13</td>\n      <td>0.001046</td>\n      <td>0.001212</td>\n      <td>0.001019</td>\n      <td>0.001211</td>\n      <td>0.001211</td>\n      <td>2481270</td>\n      <td>1.654527e+05</td>\n      <td>1.277</td>\n      <td>15.383</td>\n      <td>...</td>\n      <td>395.666667</td>\n      <td>336.0</td>\n      <td>732.0</td>\n      <td>67.0</td>\n      <td>0.0</td>\n      <td>41</td>\n      <td>1.0</td>\n      <td>0.01</td>\n      <td>0.41</td>\n      <td>0.001184</td>\n    </tr>\n    <tr>\n      <th>...</th>\n      <td>...</td>\n      <td>...</td>\n      <td>...</td>\n      <td>...</td>\n      <td>...</td>\n      <td>...</td>\n      <td>...</td>\n      <td>...</td>\n      <td>...</td>\n      <td>...</td>\n      <td>...</td>\n      <td>...</td>\n      <td>...</td>\n      <td>...</td>\n      <td>...</td>\n      <td>...</td>\n      <td>...</td>\n      <td>...</td>\n      <td>...</td>\n      <td>...</td>\n      <td>...</td>\n    </tr>\n    <tr>\n      <th>2022-01-31</th>\n      <td>2022-01-31</td>\n      <td>0.139469</td>\n      <td>0.142264</td>\n      <td>0.136853</td>\n      <td>0.141805</td>\n      <td>0.141805</td>\n      <td>412307174</td>\n      <td>2.971374e+06</td>\n      <td>9.000</td>\n      <td>487.909</td>\n      <td>...</td>\n      <td>1061.000000</td>\n      <td>956.0</td>\n      <td>1065.0</td>\n      <td>129.0</td>\n      <td>0.0</td>\n      <td>23</td>\n      <td>4.0</td>\n      <td>0.04</td>\n      <td>0.92</td>\n      <td>0.142631</td>\n    </tr>\n    <tr>\n      <th>2022-02-01</th>\n      <td>2022-02-01</td>\n      <td>0.141805</td>\n      <td>0.144129</td>\n      <td>0.141125</td>\n      <td>0.142631</td>\n      <td>0.142631</td>\n      <td>409432267</td>\n      <td>2.977053e+06</td>\n      <td>8.889</td>\n      <td>500.778</td>\n      <td>...</td>\n      <td>1062.000000</td>\n      <td>957.0</td>\n      <td>1065.0</td>\n      <td>129.0</td>\n      <td>0.0</td>\n      <td>93</td>\n      <td>4.0</td>\n      <td>0.04</td>\n      <td>3.72</td>\n      <td>0.137235</td>\n    </tr>\n    <tr>\n      <th>2022-02-02</th>\n      <td>2022-02-02</td>\n      <td>0.142626</td>\n      <td>0.145253</td>\n      <td>0.136918</td>\n      <td>0.137235</td>\n      <td>0.137235</td>\n      <td>483194691</td>\n      <td>2.982243e+06</td>\n      <td>8.167</td>\n      <td>514.167</td>\n      <td>...</td>\n      <td>1062.000000</td>\n      <td>957.0</td>\n      <td>1065.0</td>\n      <td>129.0</td>\n      <td>0.0</td>\n      <td>87</td>\n      <td>4.0</td>\n      <td>0.04</td>\n      <td>3.48</td>\n      <td>0.137541</td>\n    </tr>\n    <tr>\n      <th>2022-02-03</th>\n      <td>2022-02-03</td>\n      <td>0.137213</td>\n      <td>0.138747</td>\n      <td>0.135565</td>\n      <td>0.137541</td>\n      <td>0.137541</td>\n      <td>383506507</td>\n      <td>2.987430e+06</td>\n      <td>6.455</td>\n      <td>404.000</td>\n      <td>...</td>\n      <td>1062.000000</td>\n      <td>957.0</td>\n      <td>1065.0</td>\n      <td>129.0</td>\n      <td>0.0</td>\n      <td>82</td>\n      <td>4.0</td>\n      <td>0.04</td>\n      <td>3.28</td>\n      <td>0.141685</td>\n    </tr>\n    <tr>\n      <th>2022-02-04</th>\n      <td>2022-02-04</td>\n      <td>0.137687</td>\n      <td>0.142551</td>\n      <td>0.137261</td>\n      <td>0.141685</td>\n      <td>0.141685</td>\n      <td>454621984</td>\n      <td>2.991859e+06</td>\n      <td>10.375</td>\n      <td>822.000</td>\n      <td>...</td>\n      <td>1062.000000</td>\n      <td>957.0</td>\n      <td>1065.0</td>\n      <td>129.0</td>\n      <td>0.0</td>\n      <td>100</td>\n      <td>4.0</td>\n      <td>0.04</td>\n      <td>4.00</td>\n      <td>NaN</td>\n    </tr>\n  </tbody>\n</table>\n<p>1549 rows × 25 columns</p>\n</div>"
     },
     "execution_count": 453,
     "metadata": {},
     "output_type": "execute_result"
    }
   ],
   "source": [
    "df"
   ],
   "metadata": {
    "collapsed": false,
    "pycharm": {
     "name": "#%%\n"
    }
   }
  },
  {
   "cell_type": "code",
   "execution_count": 454,
   "outputs": [
    {
     "data": {
      "text/plain": "<Figure size 1224x360 with 1 Axes>",
      "image/png": "[encoded data removed]"
     },
     "metadata": {},
     "output_type": "display_data"
    }
   ],
   "source": [
    "plt.figure(figsize=(17,5))\n",
    "plt.plot(final_prediction, label='Prediction', lw=2, alpha =.7, color = \"green\")\n",
    "plt.plot(y_test, label='Actual', lw=2, alpha =.7, color = \"red\")\n",
    "plt.legend(['predicted', \"actual\"])\n",
    "plt.title('Prediction vs Actual')\n",
    "plt.ylabel('Price in USD')\n",
    "plt.xlabel('Time')\n",
    "\n",
    "plt.show()"
   ],
   "metadata": {
    "collapsed": false,
    "pycharm": {
     "name": "#%%\n"
    }
   }
  },
  {
   "cell_type": "code",
   "execution_count": 455,
   "outputs": [
    {
     "name": "stdout",
     "output_type": "stream",
     "text": [
      "R^2\n",
      "0.8804723295480231\n",
      "\n",
      "MAE\n",
      "0.019792879594072693\n",
      "\n",
      "RMSE\n",
      "0.033582562882313136\n"
     ]
    }
   ],
   "source": [
    "from math import sqrt\n",
    "from sklearn.metrics import mean_absolute_error, mean_squared_error\n",
    "\n",
    "\n",
    "print(\"R^2\")\n",
    "print(svr_linear_confidence)\n",
    "\n",
    "print(\"\\nMAE\")\n",
    "print(mean_absolute_error(y_test,final_prediction))\n",
    "\n",
    "print(\"\\nRMSE\")\n",
    "print(sqrt(mean_squared_error(y_test, final_prediction)))"
   ],
   "metadata": {
    "collapsed": false,
    "pycharm": {
     "name": "#%%\n"
    }
   }
  }
 ],
 "metadata": {
  "kernelspec": {
   "display_name": "Python 3",
   "language": "python",
   "name": "python3"
  },
  "language_info": {
   "codemirror_mode": {
    "name": "ipython",
    "version": 2
   },
   "file_extension": ".py",
   "mimetype": "text/x-python",
   "name": "python",
   "nbconvert_exporter": "python",
   "pygments_lexer": "ipython2",
   "version": "2.7.6"
  }
 },
 "nbformat": 4,
 "nbformat_minor": 0
}