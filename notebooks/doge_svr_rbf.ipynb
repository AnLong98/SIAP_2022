{
 "cells": [
  {
   "cell_type": "code",
   "execution_count": 117,
   "metadata": {
    "collapsed": true
   },
   "outputs": [],
   "source": [
    "import pandas as pd\n",
    "import numpy as np\n",
    "from sklearn.svm import SVR\n",
    "import matplotlib.pyplot as plt\n",
    "plt.style.use('fivethirtyeight')"
   ]
  },
  {
   "cell_type": "code",
   "execution_count": 118,
   "outputs": [
    {
     "data": {
      "text/plain": "                  Date      Open      High       Low     Close  Adj Close  \\\n2017-11-09  2017-11-09  0.001207  0.001415  0.001181  0.001415   0.001415   \n2017-11-10  2017-11-10  0.001421  0.001431  0.001125  0.001163   0.001163   \n2017-11-11  2017-11-11  0.001146  0.001257  0.001141  0.001201   0.001201   \n2017-11-12  2017-11-12  0.001189  0.001210  0.001002  0.001038   0.001038   \n2017-11-13  2017-11-13  0.001046  0.001212  0.001019  0.001211   0.001211   \n...                ...       ...       ...       ...       ...        ...   \n2022-01-31  2022-01-31  0.139469  0.142264  0.136853  0.141805   0.141805   \n2022-02-01  2022-02-01  0.141805  0.144129  0.141125  0.142631   0.142631   \n2022-02-02  2022-02-02  0.142626  0.145253  0.136918  0.137235   0.137235   \n2022-02-03  2022-02-03  0.137213  0.138747  0.135565  0.137541   0.137541   \n2022-02-04  2022-02-04  0.137687  0.142551  0.137261  0.141685   0.141685   \n\n               Volume  twitter_followers  reddit_average_posts_48h  \\\n2017-11-09    6259550       1.652570e+05                     0.633   \n2017-11-10    4246520       1.653080e+05                     0.833   \n2017-11-11    2231080       1.653630e+05                     0.980   \n2017-11-12    3288960       1.654020e+05                     1.102   \n2017-11-13    2481270       1.654527e+05                     1.277   \n...               ...                ...                       ...   \n2022-01-31  412307174       2.971374e+06                     9.000   \n2022-02-01  409432267       2.977053e+06                     8.889   \n2022-02-02  483194691       2.982243e+06                     8.167   \n2022-02-03  383506507       2.987430e+06                     6.455   \n2022-02-04  454621984       2.991859e+06                    10.375   \n\n            reddit_average_comments_48h  ...  subscribers  total_issues  \\\n2017-11-09                        9.490  ...        225.0    395.000000   \n2017-11-10                       11.958  ...        225.0    395.166667   \n2017-11-11                       13.224  ...        225.0    395.333333   \n2017-11-12                       14.469  ...        225.0    395.500000   \n2017-11-13                       15.383  ...        225.0    395.666667   \n...                                 ...  ...          ...           ...   \n2022-01-31                      487.909  ...        874.0   1061.000000   \n2022-02-01                      500.778  ...        872.0   1062.000000   \n2022-02-02                      514.167  ...        872.0   1062.000000   \n2022-02-03                      404.000  ...        872.0   1062.000000   \n2022-02-04                      822.000  ...        873.0   1062.000000   \n\n            closed_issues  pull_requests_merged  pull_request_contributors  \\\n2017-11-09          336.0                 732.0                       67.0   \n2017-11-10          336.0                 732.0                       67.0   \n2017-11-11          336.0                 732.0                       67.0   \n2017-11-12          336.0                 732.0                       67.0   \n2017-11-13          336.0                 732.0                       67.0   \n...                   ...                   ...                        ...   \n2022-01-31          956.0                1065.0                      129.0   \n2022-02-01          957.0                1065.0                      129.0   \n2022-02-02          957.0                1065.0                      129.0   \n2022-02-03          957.0                1065.0                      129.0   \n2022-02-04          957.0                1065.0                      129.0   \n\n            commit_count_4_weeks  dogecoin_unscaled  dogecoin_monthly  scale  \\\n2017-11-09                   0.0                 57               1.0   0.01   \n2017-11-10                   0.0                 24               1.0   0.01   \n2017-11-11                   0.0                 23               1.0   0.01   \n2017-11-12                   0.0                 23               1.0   0.01   \n2017-11-13                   0.0                 41               1.0   0.01   \n...                          ...                ...               ...    ...   \n2022-01-31                   0.0                 23               4.0   0.04   \n2022-02-01                   0.0                 93               4.0   0.04   \n2022-02-02                   0.0                 87               4.0   0.04   \n2022-02-03                   0.0                 82               4.0   0.04   \n2022-02-04                   0.0                100               4.0   0.04   \n\n            dogecoin  \n2017-11-09      0.57  \n2017-11-10      0.24  \n2017-11-11      0.23  \n2017-11-12      0.23  \n2017-11-13      0.41  \n...              ...  \n2022-01-31      0.92  \n2022-02-01      3.72  \n2022-02-02      3.48  \n2022-02-03      3.28  \n2022-02-04      4.00  \n\n[1549 rows x 24 columns]",
      "text/html": "<div>\n<style scoped>\n    .dataframe tbody tr th:only-of-type {\n        vertical-align: middle;\n    }\n\n    .dataframe tbody tr th {\n        vertical-align: top;\n    }\n\n    .dataframe thead th {\n        text-align: right;\n    }\n</style>\n<table border=\"1\" class=\"dataframe\">\n  <thead>\n    <tr style=\"text-align: right;\">\n      <th></th>\n      <th>Date</th>\n      <th>Open</th>\n      <th>High</th>\n      <th>Low</th>\n      <th>Close</th>\n      <th>Adj Close</th>\n      <th>Volume</th>\n      <th>twitter_followers</th>\n      <th>reddit_average_posts_48h</th>\n      <th>reddit_average_comments_48h</th>\n      <th>...</th>\n      <th>subscribers</th>\n      <th>total_issues</th>\n      <th>closed_issues</th>\n      <th>pull_requests_merged</th>\n      <th>pull_request_contributors</th>\n      <th>commit_count_4_weeks</th>\n      <th>dogecoin_unscaled</th>\n      <th>dogecoin_monthly</th>\n      <th>scale</th>\n      <th>dogecoin</th>\n    </tr>\n  </thead>\n  <tbody>\n    <tr>\n      <th>2017-11-09</th>\n      <td>2017-11-09</td>\n      <td>0.001207</td>\n      <td>0.001415</td>\n      <td>0.001181</td>\n      <td>0.001415</td>\n      <td>0.001415</td>\n      <td>6259550</td>\n      <td>1.652570e+05</td>\n      <td>0.633</td>\n      <td>9.490</td>\n      <td>...</td>\n      <td>225.0</td>\n      <td>395.000000</td>\n      <td>336.0</td>\n      <td>732.0</td>\n      <td>67.0</td>\n      <td>0.0</td>\n      <td>57</td>\n      <td>1.0</td>\n      <td>0.01</td>\n      <td>0.57</td>\n    </tr>\n    <tr>\n      <th>2017-11-10</th>\n      <td>2017-11-10</td>\n      <td>0.001421</td>\n      <td>0.001431</td>\n      <td>0.001125</td>\n      <td>0.001163</td>\n      <td>0.001163</td>\n      <td>4246520</td>\n      <td>1.653080e+05</td>\n      <td>0.833</td>\n      <td>11.958</td>\n      <td>...</td>\n      <td>225.0</td>\n      <td>395.166667</td>\n      <td>336.0</td>\n      <td>732.0</td>\n      <td>67.0</td>\n      <td>0.0</td>\n      <td>24</td>\n      <td>1.0</td>\n      <td>0.01</td>\n      <td>0.24</td>\n    </tr>\n    <tr>\n      <th>2017-11-11</th>\n      <td>2017-11-11</td>\n      <td>0.001146</td>\n      <td>0.001257</td>\n      <td>0.001141</td>\n      <td>0.001201</td>\n      <td>0.001201</td>\n      <td>2231080</td>\n      <td>1.653630e+05</td>\n      <td>0.980</td>\n      <td>13.224</td>\n      <td>...</td>\n      <td>225.0</td>\n      <td>395.333333</td>\n      <td>336.0</td>\n      <td>732.0</td>\n      <td>67.0</td>\n      <td>0.0</td>\n      <td>23</td>\n      <td>1.0</td>\n      <td>0.01</td>\n      <td>0.23</td>\n    </tr>\n    <tr>\n      <th>2017-11-12</th>\n      <td>2017-11-12</td>\n      <td>0.001189</td>\n      <td>0.001210</td>\n      <td>0.001002</td>\n      <td>0.001038</td>\n      <td>0.001038</td>\n      <td>3288960</td>\n      <td>1.654020e+05</td>\n      <td>1.102</td>\n      <td>14.469</td>\n      <td>...</td>\n      <td>225.0</td>\n      <td>395.500000</td>\n      <td>336.0</td>\n      <td>732.0</td>\n      <td>67.0</td>\n      <td>0.0</td>\n      <td>23</td>\n      <td>1.0</td>\n      <td>0.01</td>\n      <td>0.23</td>\n    </tr>\n    <tr>\n      <th>2017-11-13</th>\n      <td>2017-11-13</td>\n      <td>0.001046</td>\n      <td>0.001212</td>\n      <td>0.001019</td>\n      <td>0.001211</td>\n      <td>0.001211</td>\n      <td>2481270</td>\n      <td>1.654527e+05</td>\n      <td>1.277</td>\n      <td>15.383</td>\n      <td>...</td>\n      <td>225.0</td>\n      <td>395.666667</td>\n      <td>336.0</td>\n      <td>732.0</td>\n      <td>67.0</td>\n      <td>0.0</td>\n      <td>41</td>\n      <td>1.0</td>\n      <td>0.01</td>\n      <td>0.41</td>\n    </tr>\n    <tr>\n      <th>...</th>\n      <td>...</td>\n      <td>...</td>\n      <td>...</td>\n      <td>...</td>\n      <td>...</td>\n      <td>...</td>\n      <td>...</td>\n      <td>...</td>\n      <td>...</td>\n      <td>...</td>\n      <td>...</td>\n      <td>...</td>\n      <td>...</td>\n      <td>...</td>\n      <td>...</td>\n      <td>...</td>\n      <td>...</td>\n      <td>...</td>\n      <td>...</td>\n      <td>...</td>\n      <td>...</td>\n    </tr>\n    <tr>\n      <th>2022-01-31</th>\n      <td>2022-01-31</td>\n      <td>0.139469</td>\n      <td>0.142264</td>\n      <td>0.136853</td>\n      <td>0.141805</td>\n      <td>0.141805</td>\n      <td>412307174</td>\n      <td>2.971374e+06</td>\n      <td>9.000</td>\n      <td>487.909</td>\n      <td>...</td>\n      <td>874.0</td>\n      <td>1061.000000</td>\n      <td>956.0</td>\n      <td>1065.0</td>\n      <td>129.0</td>\n      <td>0.0</td>\n      <td>23</td>\n      <td>4.0</td>\n      <td>0.04</td>\n      <td>0.92</td>\n    </tr>\n    <tr>\n      <th>2022-02-01</th>\n      <td>2022-02-01</td>\n      <td>0.141805</td>\n      <td>0.144129</td>\n      <td>0.141125</td>\n      <td>0.142631</td>\n      <td>0.142631</td>\n      <td>409432267</td>\n      <td>2.977053e+06</td>\n      <td>8.889</td>\n      <td>500.778</td>\n      <td>...</td>\n      <td>872.0</td>\n      <td>1062.000000</td>\n      <td>957.0</td>\n      <td>1065.0</td>\n      <td>129.0</td>\n      <td>0.0</td>\n      <td>93</td>\n      <td>4.0</td>\n      <td>0.04</td>\n      <td>3.72</td>\n    </tr>\n    <tr>\n      <th>2022-02-02</th>\n      <td>2022-02-02</td>\n      <td>0.142626</td>\n      <td>0.145253</td>\n      <td>0.136918</td>\n      <td>0.137235</td>\n      <td>0.137235</td>\n      <td>483194691</td>\n      <td>2.982243e+06</td>\n      <td>8.167</td>\n      <td>514.167</td>\n      <td>...</td>\n      <td>872.0</td>\n      <td>1062.000000</td>\n      <td>957.0</td>\n      <td>1065.0</td>\n      <td>129.0</td>\n      <td>0.0</td>\n      <td>87</td>\n      <td>4.0</td>\n      <td>0.04</td>\n      <td>3.48</td>\n    </tr>\n    <tr>\n      <th>2022-02-03</th>\n      <td>2022-02-03</td>\n      <td>0.137213</td>\n      <td>0.138747</td>\n      <td>0.135565</td>\n      <td>0.137541</td>\n      <td>0.137541</td>\n      <td>383506507</td>\n      <td>2.987430e+06</td>\n      <td>6.455</td>\n      <td>404.000</td>\n      <td>...</td>\n      <td>872.0</td>\n      <td>1062.000000</td>\n      <td>957.0</td>\n      <td>1065.0</td>\n      <td>129.0</td>\n      <td>0.0</td>\n      <td>82</td>\n      <td>4.0</td>\n      <td>0.04</td>\n      <td>3.28</td>\n    </tr>\n    <tr>\n      <th>2022-02-04</th>\n      <td>2022-02-04</td>\n      <td>0.137687</td>\n      <td>0.142551</td>\n      <td>0.137261</td>\n      <td>0.141685</td>\n      <td>0.141685</td>\n      <td>454621984</td>\n      <td>2.991859e+06</td>\n      <td>10.375</td>\n      <td>822.000</td>\n      <td>...</td>\n      <td>873.0</td>\n      <td>1062.000000</td>\n      <td>957.0</td>\n      <td>1065.0</td>\n      <td>129.0</td>\n      <td>0.0</td>\n      <td>100</td>\n      <td>4.0</td>\n      <td>0.04</td>\n      <td>4.00</td>\n    </tr>\n  </tbody>\n</table>\n<p>1549 rows × 24 columns</p>\n</div>"
     },
     "execution_count": 118,
     "metadata": {},
     "output_type": "execute_result"
    }
   ],
   "source": [
    "df = pd.read_csv('../doge_v1.csv')\n",
    "\n",
    "df = df.set_index(pd.DatetimeIndex(df['Date'].values))\n",
    "df"
   ],
   "metadata": {
    "collapsed": false,
    "pycharm": {
     "name": "#%%\n"
    }
   }
  },
  {
   "cell_type": "code",
   "execution_count": 119,
   "outputs": [
    {
     "data": {
      "text/plain": "<AxesSubplot:>"
     },
     "execution_count": 119,
     "metadata": {},
     "output_type": "execute_result"
    },
    {
     "data": {
      "text/plain": "<Figure size 1152x144 with 1 Axes>",
      "image/png": "[encoded data removed]"
     },
     "metadata": {},
     "output_type": "display_data"
    }
   ],
   "source": [
    "df = df.resample('D').ffill()\n",
    "df.Close.plot(figsize=(16, 2), color=\"red\", label='Close price', lw=2, alpha =.7)"
   ],
   "metadata": {
    "collapsed": false,
    "pycharm": {
     "name": "#%%\n"
    }
   }
  },
  {
   "cell_type": "code",
   "execution_count": 120,
   "outputs": [],
   "source": [
    "future_days = 1\n",
    "columnName = str(future_days)+'_day_price_forecast'"
   ],
   "metadata": {
    "collapsed": false,
    "pycharm": {
     "name": "#%%\n"
    }
   }
  },
  {
   "cell_type": "code",
   "execution_count": 121,
   "outputs": [
    {
     "data": {
      "text/plain": "               Close  1_day_price_forecast\n2017-11-09  0.001415              0.001163\n2017-11-10  0.001163              0.001201\n2017-11-11  0.001201              0.001038\n2017-11-12  0.001038              0.001211\n2017-11-13  0.001211              0.001184\n...              ...                   ...\n2022-01-31  0.141805              0.142631\n2022-02-01  0.142631              0.137235\n2022-02-02  0.137235              0.137541\n2022-02-03  0.137541              0.141685\n2022-02-04  0.141685                   NaN\n\n[1549 rows x 2 columns]",
      "text/html": "<div>\n<style scoped>\n    .dataframe tbody tr th:only-of-type {\n        vertical-align: middle;\n    }\n\n    .dataframe tbody tr th {\n        vertical-align: top;\n    }\n\n    .dataframe thead th {\n        text-align: right;\n    }\n</style>\n<table border=\"1\" class=\"dataframe\">\n  <thead>\n    <tr style=\"text-align: right;\">\n      <th></th>\n      <th>Close</th>\n      <th>1_day_price_forecast</th>\n    </tr>\n  </thead>\n  <tbody>\n    <tr>\n      <th>2017-11-09</th>\n      <td>0.001415</td>\n      <td>0.001163</td>\n    </tr>\n    <tr>\n      <th>2017-11-10</th>\n      <td>0.001163</td>\n      <td>0.001201</td>\n    </tr>\n    <tr>\n      <th>2017-11-11</th>\n      <td>0.001201</td>\n      <td>0.001038</td>\n    </tr>\n    <tr>\n      <th>2017-11-12</th>\n      <td>0.001038</td>\n      <td>0.001211</td>\n    </tr>\n    <tr>\n      <th>2017-11-13</th>\n      <td>0.001211</td>\n      <td>0.001184</td>\n    </tr>\n    <tr>\n      <th>...</th>\n      <td>...</td>\n      <td>...</td>\n    </tr>\n    <tr>\n      <th>2022-01-31</th>\n      <td>0.141805</td>\n      <td>0.142631</td>\n    </tr>\n    <tr>\n      <th>2022-02-01</th>\n      <td>0.142631</td>\n      <td>0.137235</td>\n    </tr>\n    <tr>\n      <th>2022-02-02</th>\n      <td>0.137235</td>\n      <td>0.137541</td>\n    </tr>\n    <tr>\n      <th>2022-02-03</th>\n      <td>0.137541</td>\n      <td>0.141685</td>\n    </tr>\n    <tr>\n      <th>2022-02-04</th>\n      <td>0.141685</td>\n      <td>NaN</td>\n    </tr>\n  </tbody>\n</table>\n<p>1549 rows × 2 columns</p>\n</div>"
     },
     "execution_count": 121,
     "metadata": {},
     "output_type": "execute_result"
    }
   ],
   "source": [
    "#added new column\n",
    "df[columnName] = df[['Close']].shift(-future_days)\n",
    "\n",
    "df[['Close', columnName]]"
   ],
   "metadata": {
    "collapsed": false,
    "pycharm": {
     "name": "#%%\n"
    }
   }
  },
  {
   "cell_type": "code",
   "execution_count": 122,
   "outputs": [
    {
     "name": "stdout",
     "output_type": "stream",
     "text": [
      "<class 'pandas.core.frame.DataFrame'>\n",
      "DatetimeIndex: 1549 entries, 2017-11-09 to 2022-02-04\n",
      "Freq: D\n",
      "Data columns (total 25 columns):\n",
      " #   Column                       Non-Null Count  Dtype  \n",
      "---  ------                       --------------  -----  \n",
      " 0   Date                         1549 non-null   object \n",
      " 1   Open                         1549 non-null   float64\n",
      " 2   High                         1549 non-null   float64\n",
      " 3   Low                          1549 non-null   float64\n",
      " 4   Close                        1549 non-null   float64\n",
      " 5   Adj Close                    1549 non-null   float64\n",
      " 6   Volume                       1549 non-null   int64  \n",
      " 7   twitter_followers            1549 non-null   float64\n",
      " 8   reddit_average_posts_48h     1549 non-null   float64\n",
      " 9   reddit_average_comments_48h  1549 non-null   float64\n",
      " 10  reddit_subscribers           1549 non-null   float64\n",
      " 11  reddit_accounts_active_48h   1549 non-null   float64\n",
      " 12  forks                        1549 non-null   float64\n",
      " 13  stars                        1549 non-null   float64\n",
      " 14  subscribers                  1549 non-null   float64\n",
      " 15  total_issues                 1549 non-null   float64\n",
      " 16  closed_issues                1549 non-null   float64\n",
      " 17  pull_requests_merged         1549 non-null   float64\n",
      " 18  pull_request_contributors    1549 non-null   float64\n",
      " 19  commit_count_4_weeks         1549 non-null   float64\n",
      " 20  dogecoin_unscaled            1549 non-null   int64  \n",
      " 21  dogecoin_monthly             1549 non-null   float64\n",
      " 22  scale                        1549 non-null   float64\n",
      " 23  dogecoin                     1549 non-null   float64\n",
      " 24  1_day_price_forecast         1548 non-null   float64\n",
      "dtypes: float64(22), int64(2), object(1)\n",
      "memory usage: 314.6+ KB\n"
     ]
    }
   ],
   "source": [
    "df.info()"
   ],
   "metadata": {
    "collapsed": false,
    "pycharm": {
     "name": "#%%\n"
    }
   }
  },
  {
   "cell_type": "code",
   "execution_count": 123,
   "outputs": [
    {
     "name": "stdout",
     "output_type": "stream",
     "text": [
      "(1549, 25)\n",
      "[[1.41500000e-03 1.18100000e-03 6.25955000e+06 ... 0.00000000e+00\n",
      "  1.00000000e+00 5.70000000e-01]\n",
      " [1.43100000e-03 1.12500000e-03 4.24652000e+06 ... 0.00000000e+00\n",
      "  1.00000000e+00 2.40000000e-01]\n",
      " [1.25700000e-03 1.14100000e-03 2.23108000e+06 ... 0.00000000e+00\n",
      "  1.00000000e+00 2.30000000e-01]\n",
      " ...\n",
      " [1.44129000e-01 1.41125000e-01 4.09432267e+08 ... 0.00000000e+00\n",
      "  4.00000000e+00 3.72000000e+00]\n",
      " [1.45253000e-01 1.36918000e-01 4.83194691e+08 ... 0.00000000e+00\n",
      "  4.00000000e+00 3.48000000e+00]\n",
      " [1.38747000e-01 1.35565000e-01 3.83506507e+08 ... 0.00000000e+00\n",
      "  4.00000000e+00 3.28000000e+00]]\n"
     ]
    }
   ],
   "source": [
    "X = np.array(df[[\"High\", \"Low\", \"Volume\", \"Open\", \"twitter_followers\", \"reddit_average_posts_48h\",\n",
    "                \"reddit_average_comments_48h\", \"reddit_subscribers\", \"reddit_accounts_active_48h\", \"forks\", \"stars\",\n",
    "                \"subscribers\", \"total_issues\", \"closed_issues\", \"pull_requests_merged\", \"pull_request_contributors\",\n",
    "                \"commit_count_4_weeks\", \"dogecoin_monthly\", \"dogecoin\"]])\n",
    "\n",
    "\n",
    "print(df.shape)\n",
    "\n",
    "X = X[:df.shape[0] - future_days]\n",
    "print(X)"
   ],
   "metadata": {
    "collapsed": false,
    "pycharm": {
     "name": "#%%\n"
    }
   }
  },
  {
   "cell_type": "code",
   "execution_count": 124,
   "outputs": [
    {
     "name": "stdout",
     "output_type": "stream",
     "text": [
      "[0.001163 0.001201 0.001038 ... 0.137235 0.137541 0.141685]\n"
     ]
    }
   ],
   "source": [
    "y = np.array(df[columnName])\n",
    "y = y[:-future_days]\n",
    "print(y)"
   ],
   "metadata": {
    "collapsed": false,
    "pycharm": {
     "name": "#%%\n"
    }
   }
  },
  {
   "cell_type": "code",
   "execution_count": 125,
   "outputs": [],
   "source": [
    "from sklearn.model_selection import train_test_split\n",
    "\n",
    "x_train, x_test, y_train, y_test = train_test_split(X,y, test_size = 0.2, shuffle=False)"
   ],
   "metadata": {
    "collapsed": false,
    "pycharm": {
     "name": "#%%\n"
    }
   }
  },
  {
   "cell_type": "code",
   "execution_count": 126,
   "outputs": [
    {
     "name": "stdout",
     "output_type": "stream",
     "text": [
      "Scaled X_l:\n",
      "[[-0.39367943 -0.41385857 -0.2014769  ... -0.31944861 -0.10595194\n",
      "  -0.04440799]\n",
      " [-0.39238134 -0.41915265 -0.20310446 ... -0.31944861 -0.10595194\n",
      "  -0.14081802]\n",
      " [-0.406498   -0.41764006 -0.20473396 ... -0.31944861 -0.10595194\n",
      "  -0.14373953]\n",
      " ...\n",
      " [ 3.93356113  4.48618801  0.16575939 ...  0.57790687  0.65488621\n",
      "   0.27988029]\n",
      " [ 3.92536698  4.50150302  0.22837542 ... -0.31944861  0.65488621\n",
      "   0.43764216]\n",
      " [ 3.98889191  4.55085138  0.38279042 ... -0.31944861  0.65488621\n",
      "   0.45517125]]\n",
      "Scaled y_p:\n",
      "[[-0.41644404]\n",
      " [-0.41315149]\n",
      " [-0.42727479]\n",
      " ...\n",
      " [ 4.1661761 ]\n",
      " [ 4.15300591]\n",
      " [ 4.13195093]]\n"
     ]
    }
   ],
   "source": [
    "from sklearn.preprocessing import StandardScaler\n",
    "\n",
    "\n",
    "StdS_X = StandardScaler()\n",
    "StdS_y = StandardScaler()\n",
    "X_l = StdS_X.fit_transform(x_train)\n",
    "y_p = StdS_y.fit_transform(y_train.reshape(-1,1))\n",
    "\n",
    "print(\"Scaled X_l:\")\n",
    "print(X_l)\n",
    "print(\"Scaled y_p:\")\n",
    "print(y_p)"
   ],
   "metadata": {
    "collapsed": false,
    "pycharm": {
     "name": "#%%\n"
    }
   }
  },
  {
   "cell_type": "code",
   "execution_count": 127,
   "outputs": [
    {
     "name": "stdout",
     "output_type": "stream",
     "text": [
      "Scaled X_l_test:\n",
      "[[-1.85848319 -2.11900651 -0.48809287 ... -0.44664227 -0.47087352\n",
      "  -0.45317956]\n",
      " [-1.71853358 -2.10261672  0.22048017 ... -0.44664227 -0.47087352\n",
      "  -0.59946706]\n",
      " [-1.78887072 -2.05864441 -0.28036058 ... -0.44664227 -0.47087352\n",
      "  -0.60488512]\n",
      " ...\n",
      " [-1.05633384 -1.05985672 -0.52157589 ... -0.44664227 -0.55783854\n",
      "  -0.2906379 ]\n",
      " [-1.04627801 -1.11000351 -0.51145202 ... -0.44664227 -0.55783854\n",
      "  -0.31231012]\n",
      " [-1.10448373 -1.12613106 -0.52513419 ... -0.44664227 -0.55783854\n",
      "  -0.3303703 ]]\n",
      "Scaled y_p_test:\n",
      "[[-1.90109281e+00]\n",
      " [-1.94558719e+00]\n",
      " [-1.96473563e+00]\n",
      " [-1.94826386e+00]\n",
      " [-1.92466804e+00]\n",
      " [-1.87564392e+00]\n",
      " [-1.93154500e+00]\n",
      " [-1.90646673e+00]\n",
      " [-1.90420186e+00]\n",
      " [-1.88195467e+00]\n",
      " [-1.77072902e+00]\n",
      " [-1.81069366e+00]\n",
      " [-1.57722685e+00]\n",
      " [-1.28822958e+00]\n",
      " [-6.63434603e-01]\n",
      " [ 1.22735003e+00]\n",
      " [ 3.86290962e-01]\n",
      " [ 7.60014923e-01]\n",
      " [ 1.65405134e+00]\n",
      " [ 7.49977436e-01]\n",
      " [ 6.20519587e-01]\n",
      " [ 1.47388470e-01]\n",
      " [ 1.91351203e-02]\n",
      " [ 2.42564439e-01]\n",
      " [ 4.59223427e-02]\n",
      " [ 2.47320664e-01]\n",
      " [ 2.62907080e-01]\n",
      " [ 7.93030535e-01]\n",
      " [ 6.02441815e-01]\n",
      " [ 9.35912879e-01]\n",
      " [ 1.50651572e+00]\n",
      " [ 1.33211052e+00]\n",
      " [ 2.00808124e+00]\n",
      " [ 3.03372713e+00]\n",
      " [ 4.23100890e+00]\n",
      " [ 3.44006520e+00]\n",
      " [ 4.51045254e+00]\n",
      " [ 4.01281966e+00]\n",
      " [ 3.32956019e+00]\n",
      " [ 2.09308588e+00]\n",
      " [ 2.55910325e+00]\n",
      " [ 1.42816155e+00]\n",
      " [ 2.50910112e+00]\n",
      " [ 3.22181419e+00]\n",
      " [ 2.69027005e+00]\n",
      " [ 2.76154136e+00]\n",
      " [ 2.48354929e+00]\n",
      " [ 2.36230673e+00]\n",
      " [ 8.90224296e-01]\n",
      " [ 1.58071077e+00]\n",
      " [ 1.16055699e+00]\n",
      " [ 9.85431150e-01]\n",
      " [ 6.32317495e-01]\n",
      " [ 1.23035613e+00]\n",
      " [ 1.02590024e+00]\n",
      " [ 1.10198954e+00]\n",
      " [ 8.88391811e-01]\n",
      " [ 6.64581583e-01]\n",
      " [ 5.81244701e-01]\n",
      " [ 5.72123457e-01]\n",
      " [ 8.14937994e-01]\n",
      " [ 1.27066051e+00]\n",
      " [ 1.81934559e+00]\n",
      " [ 1.57833265e+00]\n",
      " [ 1.33496219e+00]\n",
      " [ 1.29227971e+00]\n",
      " [ 1.28847061e+00]\n",
      " [ 8.68883054e-01]\n",
      " [ 8.34261444e-01]\n",
      " [ 9.95314214e-01]\n",
      " [ 8.20507513e-01]\n",
      " [ 7.48525861e-01]\n",
      " [ 6.73630763e-01]\n",
      " [ 8.00236936e-01]\n",
      " [ 8.79538233e-01]\n",
      " [ 8.41406076e-01]\n",
      " [ 6.29126089e-01]\n",
      " [ 6.16103093e-01]\n",
      " [ 4.82022853e-01]\n",
      " [ 4.19059497e-01]\n",
      " [ 3.52595889e-01]\n",
      " [-6.99631326e-01]\n",
      " [-5.72592769e-01]\n",
      " [-1.49031397e-01]\n",
      " [ 1.66073639e-01]\n",
      " [-7.71835779e-02]\n",
      " [-1.92132284e-02]\n",
      " [ 1.83245463e-01]\n",
      " [ 1.05076601e-01]\n",
      " [ 1.65939806e-01]\n",
      " [ 7.78775842e-02]\n",
      " [-2.16325202e-02]\n",
      " [-1.42716962e-02]\n",
      " [-2.46349327e-03]\n",
      " [-1.72226345e-03]\n",
      " [-1.54796518e-01]\n",
      " [-1.25888554e-01]\n",
      " [-2.31884420e-01]\n",
      " [-4.02048140e-01]\n",
      " [-2.75761108e-01]\n",
      " [-3.36953748e-01]\n",
      " [-3.17022901e-01]\n",
      " [-3.97405158e-01]\n",
      " [-4.80227297e-01]\n",
      " [-5.07807223e-01]\n",
      " [-6.35834086e-01]\n",
      " [-7.64962499e-01]\n",
      " [-6.23099346e-01]\n",
      " [-6.63166936e-01]\n",
      " [-7.52495425e-01]\n",
      " [-7.80857761e-01]\n",
      " [-5.79613863e-01]\n",
      " [-5.69792568e-01]\n",
      " [-5.34162062e-01]\n",
      " [-5.07858698e-01]\n",
      " [-5.02248000e-01]\n",
      " [-4.34765201e-01]\n",
      " [-4.19528810e-01]\n",
      " [-4.24748303e-01]\n",
      " [-4.32706229e-01]\n",
      " [-3.89447233e-01]\n",
      " [-3.94666726e-01]\n",
      " [-4.34579893e-01]\n",
      " [-4.43196690e-01]\n",
      " [-5.21777347e-01]\n",
      " [-4.64918842e-01]\n",
      " [-4.70230989e-01]\n",
      " [-4.31995884e-01]\n",
      " [ 1.40943889e-01]\n",
      " [-6.80005639e-02]\n",
      " [ 1.05488395e-01]\n",
      " [ 1.09894595e-01]\n",
      " [ 1.91615183e-01]\n",
      " [ 1.77799483e-01]\n",
      " [ 4.13417914e-01]\n",
      " [ 4.78326999e-01]\n",
      " [ 9.75856931e-01]\n",
      " [ 7.62485689e-01]\n",
      " [ 5.43483160e-01]\n",
      " [ 5.87720167e-01]\n",
      " [ 7.25722749e-01]\n",
      " [ 8.32243652e-01]\n",
      " [ 7.22150433e-01]\n",
      " [ 7.03269662e-01]\n",
      " [ 7.33649790e-01]\n",
      " [ 4.33297287e-01]\n",
      " [ 4.69195459e-01]\n",
      " [ 2.29150238e-01]\n",
      " [ 4.91916212e-01]\n",
      " [ 4.01280276e-01]\n",
      " [ 3.54912232e-01]\n",
      " [ 2.62258504e-01]\n",
      " [ 3.27404370e-01]\n",
      " [ 4.91586777e-01]\n",
      " [ 5.07584987e-01]\n",
      " [ 5.10858752e-01]\n",
      " [ 5.42927237e-01]\n",
      " [ 6.98781103e-01]\n",
      " [ 6.39462127e-01]\n",
      " [ 7.30287057e-02]\n",
      " [ 1.07712085e-01]\n",
      " [ 6.12102079e-02]\n",
      " [-6.86491400e-02]\n",
      " [-5.37215948e-02]\n",
      " [ 4.08366825e-02]\n",
      " [-1.10610984e-01]\n",
      " [-6.11647777e-02]\n",
      " [ 1.07756950e-02]\n",
      " [-4.21604685e-02]\n",
      " [-6.91844726e-02]\n",
      " [-5.41951583e-02]\n",
      " [-1.39065974e-01]\n",
      " [-4.07463235e-01]\n",
      " [-4.69685361e-01]\n",
      " [-2.24348583e-01]\n",
      " [-2.24616250e-01]\n",
      " [-3.82961472e-01]\n",
      " [-3.91310602e-01]\n",
      " [-4.29175092e-01]\n",
      " [-4.77560928e-01]\n",
      " [-5.13160550e-01]\n",
      " [-4.91829603e-01]\n",
      " [-4.36566801e-01]\n",
      " [-2.43373482e-01]\n",
      " [-2.83286649e-01]\n",
      " [-2.56365594e-01]\n",
      " [-5.96926129e-02]\n",
      " [ 5.52391899e-02]\n",
      " [ 8.73385593e-02]\n",
      " [-3.83719605e-02]\n",
      " [-2.88183316e-02]\n",
      " [-5.58944410e-04]\n",
      " [-1.73419917e-01]\n",
      " [-1.55939247e-01]\n",
      " [-2.10100499e-01]\n",
      " [-1.44934043e-01]\n",
      " [-1.48012206e-01]\n",
      " [-1.32477264e-01]\n",
      " [-9.63423099e-02]\n",
      " [-9.01036256e-02]\n",
      " [ 6.49303381e-03]\n",
      " [-8.87719026e-03]\n",
      " [ 7.66216114e-02]\n",
      " [-4.38488253e-02]\n",
      " [-2.50092339e-02]\n",
      " [ 5.23257448e-02]\n",
      " [ 3.12940093e-01]\n",
      " [ 1.85891242e-01]\n",
      " [ 9.34948849e-02]\n",
      " [-9.22449562e-02]\n",
      " [ 5.53829493e-01]\n",
      " [ 4.24176042e-01]\n",
      " [ 2.23343938e-01]\n",
      " [ 3.45842462e-01]\n",
      " [ 2.58171445e-01]\n",
      " [ 2.72512183e-01]\n",
      " [ 2.34277078e-01]\n",
      " [ 1.71200478e-01]\n",
      " [ 1.52515310e-01]\n",
      " [ 1.56972984e-01]\n",
      " [ 2.02445375e-01]\n",
      " [ 3.67616088e-01]\n",
      " [ 2.76681601e-01]\n",
      " [ 9.32581031e-02]\n",
      " [ 1.49447442e-01]\n",
      " [ 1.31400555e-01]\n",
      " [ 1.54996371e-01]\n",
      " [ 1.67411970e-01]\n",
      " [ 1.01699887e-01]\n",
      " [-9.67849889e-02]\n",
      " [-9.43348125e-02]\n",
      " [-2.60123217e-01]\n",
      " [-1.39395409e-01]\n",
      " [-1.40280767e-01]\n",
      " [-2.09215141e-01]\n",
      " [-2.77696541e-01]\n",
      " [-2.07320887e-01]\n",
      " [-2.55572890e-01]\n",
      " [-3.12184318e-01]\n",
      " [-4.71126642e-01]\n",
      " [-4.25211572e-01]\n",
      " [-4.03334997e-01]\n",
      " [-3.24033700e-01]\n",
      " [-3.28769335e-01]\n",
      " [-3.82590857e-01]\n",
      " [-3.80130385e-01]\n",
      " [-4.80330245e-01]\n",
      " [-6.97963559e-01]\n",
      " [-7.76183895e-01]\n",
      " [-7.02627130e-01]\n",
      " [-7.19047429e-01]\n",
      " [-6.94895691e-01]\n",
      " [-7.94416090e-01]\n",
      " [-8.46528665e-01]\n",
      " [-7.99203199e-01]\n",
      " [-7.90226083e-01]\n",
      " [-9.17120511e-01]\n",
      " [-6.84539063e-01]\n",
      " [-6.75016319e-01]\n",
      " [-7.53545501e-01]\n",
      " [-7.99295853e-01]\n",
      " [-7.64396282e-01]\n",
      " [-7.93468963e-01]\n",
      " [-8.16673575e-01]\n",
      " [-7.77007484e-01]\n",
      " [-7.56016267e-01]\n",
      " [-6.39931440e-01]\n",
      " [-6.17982801e-01]\n",
      " [-5.76443046e-01]\n",
      " [-5.83000871e-01]\n",
      " [-6.06833469e-01]\n",
      " [-7.46720010e-01]\n",
      " [-8.12112952e-01]\n",
      " [-7.75586793e-01]\n",
      " [-7.83997693e-01]\n",
      " [-7.57859047e-01]\n",
      " [-7.43775680e-01]\n",
      " [-7.88197995e-01]\n",
      " [-8.01426889e-01]\n",
      " [-8.98023548e-01]\n",
      " [-8.89859725e-01]\n",
      " [-9.43290042e-01]\n",
      " [-9.74884963e-01]\n",
      " [-9.84037093e-01]\n",
      " [-1.06336927e+00]\n",
      " [-9.60008893e-01]\n",
      " [-8.75045424e-01]\n",
      " [-7.68071547e-01]\n",
      " [-6.49618902e-01]\n",
      " [-6.33620692e-01]\n",
      " [-7.15228037e-01]\n",
      " [-7.77316330e-01]\n",
      " [-8.35585230e-01]\n",
      " [-8.67797843e-01]\n",
      " [-9.41426673e-01]\n",
      " [-1.07077128e+00]\n",
      " [-1.17112556e+00]\n",
      " [-1.07877038e+00]\n",
      " [-1.12061898e+00]\n",
      " [-1.06656068e+00]\n",
      " [-1.05894248e+00]\n",
      " [-1.08511202e+00]\n",
      " [-1.08090142e+00]\n",
      " [-1.06648862e+00]\n",
      " [-1.10339568e+00]\n",
      " [-1.07936748e+00]\n",
      " [-1.07086393e+00]\n",
      " [-1.12641499e+00]\n",
      " [-1.12326476e+00]\n",
      " [-1.08060287e+00]]\n"
     ]
    }
   ],
   "source": [
    "\n",
    "StdS_X_test = StandardScaler()\n",
    "StdS_y_test = StandardScaler()\n",
    "\n",
    "X_l_test = StdS_X_test.fit_transform(x_test)\n",
    "y_p_test = StdS_y_test.fit_transform(y_test.reshape(-1,1))\n",
    "\n",
    "print(\"Scaled X_l_test:\")\n",
    "print(X_l_test)\n",
    "print(\"Scaled y_p_test:\")\n",
    "print(y_p_test)"
   ],
   "metadata": {
    "collapsed": false,
    "pycharm": {
     "name": "#%%\n"
    }
   }
  },
  {
   "cell_type": "code",
   "execution_count": 128,
   "outputs": [
    {
     "name": "stderr",
     "output_type": "stream",
     "text": [
      "C:\\Users\\nikol\\Desktop\\SIAP - projekat\\SIAP_2022\\venv\\lib\\site-packages\\sklearn\\utils\\validation.py:993: DataConversionWarning: A column-vector y was passed when a 1d array was expected. Please change the shape of y to (n_samples, ), for example using ravel().\n",
      "  y = column_or_1d(y, warn=True)\n"
     ]
    },
    {
     "data": {
      "text/plain": "SVR(C=1000.0, epsilon=0.0002, gamma=0.0001)"
     },
     "execution_count": 128,
     "metadata": {},
     "output_type": "execute_result"
    }
   ],
   "source": [
    "from sklearn.svm import SVR\n",
    "svr_rbf = SVR(kernel='rbf', C = 1e3, gamma=0.0001, epsilon=0.0002)\n",
    "svr_rbf.fit(X_l, y_p)"
   ],
   "metadata": {
    "collapsed": false,
    "pycharm": {
     "name": "#%%\n"
    }
   }
  },
  {
   "cell_type": "code",
   "execution_count": 129,
   "outputs": [
    {
     "name": "stdout",
     "output_type": "stream",
     "text": [
      "svr_linear confidence 0.8595987080536831\n"
     ]
    }
   ],
   "source": [
    "svr_rbf_confidence = svr_rbf.score(X_l_test, y_p_test)\n",
    "print('svr_linear confidence', svr_rbf_confidence)"
   ],
   "metadata": {
    "collapsed": false,
    "pycharm": {
     "name": "#%%\n"
    }
   }
  },
  {
   "cell_type": "code",
   "execution_count": 130,
   "outputs": [
    {
     "name": "stdout",
     "output_type": "stream",
     "text": [
      "[-2.46645222 -2.37776452 -2.3979905  -2.41570077 -2.42607312 -2.40998938\n",
      " -2.3787003  -2.36438969 -2.38388438 -2.36709613 -2.36133805 -2.23678519\n",
      " -2.22639098 -2.10335045 -1.72825637 -1.34369459 -0.09909413  0.26924448\n",
      "  0.25180585  0.84450434  0.66751746  0.47958287  0.1037463  -0.53017191\n",
      " -0.09239538 -0.16166158 -0.10737189 -0.03286421  0.2534317   0.34489197\n",
      "  0.44832483  0.84320135  1.09781523  1.37444767  2.22934272  3.17812136\n",
      "  3.25509648  3.42996808  3.85619461  2.78496478  2.29233753  2.27484803\n",
      "  1.98027192  1.88101883  2.67638964  2.63050656  2.30571373  2.19163786\n",
      "  2.2534298   1.98312188  1.18308086  1.13456087  0.88705885  0.50053271\n",
      "  0.79426656  0.96317187  1.00481032  0.89385185  0.76105497  0.52776849\n",
      "  0.51598506  0.63884106  1.01783224  1.51648343  1.60022129  1.31439925\n",
      "  1.3214339   1.20757972  1.05167935  0.73528439  0.86777191  0.86268585\n",
      "  0.75419121  0.64339101  0.71453328  0.78825756  0.73792972  0.65773395\n",
      "  0.60964877  0.47856095  0.46541001  0.30934725 -0.12601721 -0.4148638\n",
      " -0.17921466  0.08141556  0.21177456  0.04633143  0.12176387  0.16111097\n",
      "  0.21565125  0.08818215  0.10037915  0.04529032  0.06872018  0.07458811\n",
      " -0.03666219 -0.0453908  -0.09477944 -0.24043486 -0.24525754 -0.19169841\n",
      " -0.24324805 -0.2742907  -0.35355732 -0.41826361 -0.46915583 -0.56184655\n",
      " -0.48975595 -0.48501935 -0.5945577  -0.66130723 -0.44388656 -0.45396904\n",
      " -0.4580168  -0.39990739 -0.42135779 -0.22729872 -0.35751349 -0.30793421\n",
      " -0.35394678 -0.35226484 -0.29487221 -0.29834458 -0.33332943 -0.39725168\n",
      " -0.40422309 -0.40608327 -0.34228454 -0.0602973   0.19115689  0.09307829\n",
      "  0.12979214  0.28585471  0.32811993  0.33353503  0.44980143  0.75408518\n",
      "  0.87154511  0.74690015  0.60276746  0.62873005  0.78990512  0.76826719\n",
      "  0.68762164  0.75312238  0.55420767  0.45017976  0.38312886  0.38455521\n",
      "  0.47837414  0.41570531  0.37335823  0.35403498  0.42636415  0.5822792\n",
      "  0.54187288  0.57803274  0.6178008   0.66076384  0.24064073  0.09605587\n",
      "  0.14237079  0.09511535  0.03981318  0.07705175  0.01307759 -0.00869237\n",
      "  0.04594673  0.01726804  0.09425089  0.02922614 -0.03402672 -0.20841118\n",
      " -0.28486795 -0.2178609  -0.15501173 -0.23992268 -0.28764833 -0.35928404\n",
      " -0.33562691 -0.38814372 -0.38254515 -0.36228981 -0.24823037 -0.19068226\n",
      " -0.1778186  -0.07761427  0.11318756  0.17425083  0.08131381  0.08283145\n",
      "  0.06505161 -0.01677451 -0.06809298 -0.14721272 -0.11406642 -0.03881338\n",
      " -0.04990773 -0.00692499 -0.05239017  0.14542561  0.07165168  0.11832331\n",
      "  0.10130047  0.04530364  0.07350219  0.24952218  0.3000569   0.24773191\n",
      "  0.04937427  0.48400351  0.53208094  0.38112576  0.28555271  0.35053129\n",
      "  0.34415028  0.31016644  0.23170067  0.24609751  0.19822978  0.24175691\n",
      "  0.40632095  0.40341676  0.19178477  0.25314749  0.23102792  0.19593501\n",
      "  0.26092433  0.21522333  0.04479968 -0.00713848 -0.08194417 -0.09911428\n",
      " -0.07005179 -0.08108833 -0.14310994 -0.10957956 -0.1563247  -0.15122696\n",
      " -0.30050429 -0.29994082 -0.34637929 -0.22252112 -0.16484672 -0.23602373\n",
      " -0.23205459 -0.32922094 -0.65461967 -0.62020486 -0.63399789 -0.54775866\n",
      " -0.58369889 -0.59543362 -0.65252727 -0.67875679 -0.64122969 -0.71796024\n",
      " -0.43107717 -0.51594745 -0.54552634 -0.63528044 -0.62876161 -0.62305682\n",
      " -0.6774397  -0.64547777 -0.59454161 -0.55805117 -0.47183943 -0.43299279\n",
      " -0.45671706 -0.46058299 -0.55638499 -0.61618452 -0.6461656  -0.63427955\n",
      " -0.62400902 -0.61678978 -0.6269903  -0.65430059 -0.72136249 -0.75095324\n",
      " -0.76837558 -0.82413641 -0.81436925 -0.86255395 -0.77366858 -0.75266672\n",
      " -0.64200114 -0.44664142 -0.45124753 -0.55462182 -0.6078546  -0.65216374\n",
      " -0.68698889 -0.70702365 -0.83959332 -0.96682197 -0.93644194 -0.96599944\n",
      " -0.90756452 -0.84160647 -0.90523104 -0.90762179 -0.89031768 -0.9133789\n",
      " -0.92524794 -0.88788643 -0.90401804 -0.96021536]\n"
     ]
    }
   ],
   "source": [
    "svr_prediction = svr_rbf.predict(X_l_test)\n",
    "print(svr_prediction)"
   ],
   "metadata": {
    "collapsed": false,
    "pycharm": {
     "name": "#%%\n"
    }
   }
  },
  {
   "cell_type": "code",
   "execution_count": 131,
   "outputs": [
    {
     "name": "stdout",
     "output_type": "stream",
     "text": [
      "[[0.00706933]\n",
      " [0.01568408]\n",
      " [0.01371941]\n",
      " [0.01199911]\n",
      " [0.01099158]\n",
      " [0.01255389]\n",
      " [0.01559318]\n",
      " [0.01698326]\n",
      " [0.01508962]\n",
      " [0.01672036]\n",
      " [0.01727968]\n",
      " [0.02937823]\n",
      " [0.03038788]\n",
      " [0.04233953]\n",
      " [0.07877462]\n",
      " [0.11612936]\n",
      " [0.2370247 ]\n",
      " [0.27280359]\n",
      " [0.27110967]\n",
      " [0.32868195]\n",
      " [0.31149018]\n",
      " [0.29323499]\n",
      " [0.25672778]\n",
      " [0.19515159]\n",
      " [0.23767539]\n",
      " [0.23094716]\n",
      " [0.23622063]\n",
      " [0.243458  ]\n",
      " [0.2712676 ]\n",
      " [0.28015167]\n",
      " [0.29019871]\n",
      " [0.32855539]\n",
      " [0.35328752]\n",
      " [0.38015846]\n",
      " [0.46319943]\n",
      " [0.55535986]\n",
      " [0.5628369 ]\n",
      " [0.57982321]\n",
      " [0.62122509]\n",
      " [0.51717025]\n",
      " [0.46931848]\n",
      " [0.46761962]\n",
      " [0.43900572]\n",
      " [0.42936468]\n",
      " [0.50662371]\n",
      " [0.50216682]\n",
      " [0.47061779]\n",
      " [0.45953693]\n",
      " [0.46553914]\n",
      " [0.43928255]\n",
      " [0.36156988]\n",
      " [0.35685684]\n",
      " [0.33281552]\n",
      " [0.29526997]\n",
      " [0.32380206]\n",
      " [0.34020883]\n",
      " [0.34425341]\n",
      " [0.33347537]\n",
      " [0.32057603]\n",
      " [0.29791554]\n",
      " [0.29677095]\n",
      " [0.30870467]\n",
      " [0.34551831]\n",
      " [0.39395522]\n",
      " [0.40208917]\n",
      " [0.3743256 ]\n",
      " [0.37500892]\n",
      " [0.36394959]\n",
      " [0.34880608]\n",
      " [0.31807278]\n",
      " [0.33094207]\n",
      " [0.33044803]\n",
      " [0.31990931]\n",
      " [0.30914664]\n",
      " [0.3160571 ]\n",
      " [0.32321837]\n",
      " [0.31832973]\n",
      " [0.31053985]\n",
      " [0.30586905]\n",
      " [0.29313573]\n",
      " [0.2918583 ]\n",
      " [0.27669901]\n",
      " [0.2344095 ]\n",
      " [0.20635214]\n",
      " [0.22924212]\n",
      " [0.25455866]\n",
      " [0.2672212 ]\n",
      " [0.25115074]\n",
      " [0.25847793]\n",
      " [0.26229995]\n",
      " [0.26759776]\n",
      " [0.25521594]\n",
      " [0.25640071]\n",
      " [0.25104961]\n",
      " [0.25332549]\n",
      " [0.25389547]\n",
      " [0.24308908]\n",
      " [0.24224122]\n",
      " [0.23744381]\n",
      " [0.22329545]\n",
      " [0.22282699]\n",
      " [0.2280295 ]\n",
      " [0.22302218]\n",
      " [0.22000683]\n",
      " [0.2123072 ]\n",
      " [0.2060219 ]\n",
      " [0.20107844]\n",
      " [0.19207484]\n",
      " [0.19907743]\n",
      " [0.19953752]\n",
      " [0.18889742]\n",
      " [0.18241364]\n",
      " [0.20353299]\n",
      " [0.20255362]\n",
      " [0.20216044]\n",
      " [0.20780494]\n",
      " [0.20572134]\n",
      " [0.22457144]\n",
      " [0.21192291]\n",
      " [0.21673884]\n",
      " [0.21226937]\n",
      " [0.21243274]\n",
      " [0.21800763]\n",
      " [0.21767034]\n",
      " [0.21427205]\n",
      " [0.20806291]\n",
      " [0.20738573]\n",
      " [0.20720504]\n",
      " [0.21340219]\n",
      " [0.24079326]\n",
      " [0.26521848]\n",
      " [0.25569153]\n",
      " [0.25925777]\n",
      " [0.27441704]\n",
      " [0.27852251]\n",
      " [0.27904851]\n",
      " [0.29034214]\n",
      " [0.31989901]\n",
      " [0.33130858]\n",
      " [0.31920109]\n",
      " [0.30520063]\n",
      " [0.30772253]\n",
      " [0.32337841]\n",
      " [0.32127659]\n",
      " [0.31344302]\n",
      " [0.31980549]\n",
      " [0.30048374]\n",
      " [0.29037889]\n",
      " [0.28386585]\n",
      " [0.2840044 ]\n",
      " [0.29311758]\n",
      " [0.28703019]\n",
      " [0.28291677]\n",
      " [0.28103979]\n",
      " [0.28806554]\n",
      " [0.30321049]\n",
      " [0.29928558]\n",
      " [0.302798  ]\n",
      " [0.30666091]\n",
      " [0.31083416]\n",
      " [0.27002514]\n",
      " [0.25598076]\n",
      " [0.2604796 ]\n",
      " [0.25588941]\n",
      " [0.25051758]\n",
      " [0.25413478]\n",
      " [0.2479206 ]\n",
      " [0.24580595]\n",
      " [0.25111337]\n",
      " [0.24832764]\n",
      " [0.25580544]\n",
      " [0.2494892 ]\n",
      " [0.24334508]\n",
      " [0.22640609]\n",
      " [0.2189794 ]\n",
      " [0.22548819]\n",
      " [0.2315931 ]\n",
      " [0.2233452 ]\n",
      " [0.21870932]\n",
      " [0.21175093]\n",
      " [0.21404888]\n",
      " [0.20894762]\n",
      " [0.20949144]\n",
      " [0.21145896]\n",
      " [0.22253822]\n",
      " [0.22812821]\n",
      " [0.22937773]\n",
      " [0.23911116]\n",
      " [0.25764487]\n",
      " [0.2635763 ]\n",
      " [0.25454878]\n",
      " [0.2546962 ]\n",
      " [0.25296914]\n",
      " [0.24502089]\n",
      " [0.24003602]\n",
      " [0.23235066]\n",
      " [0.23557035]\n",
      " [0.24288012]\n",
      " [0.24180246]\n",
      " [0.24597763]\n",
      " [0.24156133]\n",
      " [0.26077634]\n",
      " [0.25361024]\n",
      " [0.25814373]\n",
      " [0.2564902 ]\n",
      " [0.2510509 ]\n",
      " [0.25378999]\n",
      " [0.27088785]\n",
      " [0.27579658]\n",
      " [0.27071395]\n",
      " [0.25144631]\n",
      " [0.29366439]\n",
      " [0.29833444]\n",
      " [0.28367127]\n",
      " [0.2743877 ]\n",
      " [0.28069945]\n",
      " [0.28007963]\n",
      " [0.27677858]\n",
      " [0.26915674]\n",
      " [0.27055519]\n",
      " [0.26590551]\n",
      " [0.27013356]\n",
      " [0.28611863]\n",
      " [0.28583653]\n",
      " [0.26527947]\n",
      " [0.27123999]\n",
      " [0.26909139]\n",
      " [0.26568261]\n",
      " [0.2719954 ]\n",
      " [0.2675562 ]\n",
      " [0.25100195]\n",
      " [0.24595689]\n",
      " [0.23869058]\n",
      " [0.23702274]\n",
      " [0.23984575]\n",
      " [0.23877371]\n",
      " [0.23274919]\n",
      " [0.23600619]\n",
      " [0.23146556]\n",
      " [0.23196073]\n",
      " [0.21746055]\n",
      " [0.21751528]\n",
      " [0.21300444]\n",
      " [0.22503551]\n",
      " [0.23063777]\n",
      " [0.22372392]\n",
      " [0.22410947]\n",
      " [0.21467113]\n",
      " [0.18306325]\n",
      " [0.18640616]\n",
      " [0.18506636]\n",
      " [0.19344328]\n",
      " [0.1899522 ]\n",
      " [0.18881233]\n",
      " [0.18326649]\n",
      " [0.18071867]\n",
      " [0.18436389]\n",
      " [0.1769106 ]\n",
      " [0.20477724]\n",
      " [0.19653329]\n",
      " [0.19366012]\n",
      " [0.18494178]\n",
      " [0.18557499]\n",
      " [0.18612913]\n",
      " [0.1808466 ]\n",
      " [0.18395125]\n",
      " [0.18889898]\n",
      " [0.19244351]\n",
      " [0.20081776]\n",
      " [0.20459116]\n",
      " [0.20228669]\n",
      " [0.20191117]\n",
      " [0.19260536]\n",
      " [0.18679668]\n",
      " [0.18388444]\n",
      " [0.185039  ]\n",
      " [0.18603664]\n",
      " [0.18673789]\n",
      " [0.18574705]\n",
      " [0.18309424]\n",
      " [0.17658012]\n",
      " [0.1737058 ]\n",
      " [0.17201347]\n",
      " [0.16659709]\n",
      " [0.16754583]\n",
      " [0.16286537]\n",
      " [0.17149933]\n",
      " [0.17353936]\n",
      " [0.18428896]\n",
      " [0.20326539]\n",
      " [0.20281798]\n",
      " [0.19277662]\n",
      " [0.18760581]\n",
      " [0.18330181]\n",
      " [0.17991903]\n",
      " [0.17797294]\n",
      " [0.16509567]\n",
      " [0.15273721]\n",
      " [0.1556882 ]\n",
      " [0.1528171 ]\n",
      " [0.15849323]\n",
      " [0.16490012]\n",
      " [0.15871989]\n",
      " [0.15848767]\n",
      " [0.16016852]\n",
      " [0.15792844]\n",
      " [0.15677554]\n",
      " [0.16040468]\n",
      " [0.15883772]\n",
      " [0.15337894]]\n"
     ]
    }
   ],
   "source": [
    "final_prediction =svr_prediction.reshape(-1,1)\n",
    "final_prediction = StdS_y_test.inverse_transform(final_prediction)\n",
    "\n",
    "\n",
    "#print(final_prediction.tolist())\n",
    "\n",
    "print(final_prediction)\n"
   ],
   "metadata": {
    "collapsed": false,
    "pycharm": {
     "name": "#%%\n"
    }
   }
  },
  {
   "cell_type": "code",
   "execution_count": 132,
   "outputs": [
    {
     "name": "stdout",
     "output_type": "stream",
     "text": [
      "[0.061986 0.057664 0.055804 0.057404 0.059696 0.064458 0.059028 0.061464\n",
      " 0.061684 0.063845 0.074649 0.070767 0.093445 0.121517 0.182207 0.36587\n",
      " 0.284173 0.320475 0.407318 0.3195   0.306925 0.260967 0.248509 0.270212\n",
      " 0.251111 0.270674 0.272188 0.323682 0.305169 0.337561 0.392987 0.376046\n",
      " 0.441707 0.541334 0.657633 0.580804 0.684777 0.636439 0.57007  0.449964\n",
      " 0.495231 0.385376 0.490374 0.559604 0.507972 0.514895 0.487892 0.476115\n",
      " 0.333123 0.400194 0.359382 0.342371 0.308071 0.366162 0.346302 0.353693\n",
      " 0.332945 0.311205 0.30311  0.302224 0.32581  0.370077 0.423374 0.399963\n",
      " 0.376323 0.372177 0.371807 0.33105  0.327687 0.343331 0.326351 0.319359\n",
      " 0.312084 0.324382 0.332085 0.328381 0.307761 0.306496 0.293472 0.287356\n",
      " 0.2809   0.178691 0.191031 0.232174 0.262782 0.239153 0.244784 0.26445\n",
      " 0.256857 0.262769 0.254215 0.244549 0.245264 0.246411 0.246483 0.231614\n",
      " 0.234422 0.224126 0.207597 0.219864 0.21392  0.215856 0.208048 0.200003\n",
      " 0.197324 0.184888 0.172345 0.186125 0.182233 0.173556 0.170801 0.190349\n",
      " 0.191303 0.194764 0.197319 0.197864 0.204419 0.205899 0.205392 0.204619\n",
      " 0.208821 0.208314 0.204437 0.2036   0.195967 0.20149  0.200974 0.204688\n",
      " 0.260341 0.240045 0.256897 0.257325 0.265263 0.263921 0.286808 0.293113\n",
      " 0.341441 0.320715 0.299442 0.303739 0.317144 0.327491 0.316797 0.314963\n",
      " 0.317914 0.288739 0.292226 0.268909 0.294433 0.285629 0.281125 0.272125\n",
      " 0.278453 0.294401 0.295955 0.296273 0.299388 0.314527 0.308765 0.253744\n",
      " 0.257113 0.252596 0.239982 0.241432 0.250617 0.235906 0.240709 0.247697\n",
      " 0.242555 0.23993  0.241386 0.233142 0.207071 0.201027 0.224858 0.224832\n",
      " 0.209451 0.20864  0.204962 0.200262 0.196804 0.198876 0.204244 0.22301\n",
      " 0.219133 0.221748 0.240852 0.252016 0.255134 0.242923 0.243851 0.246596\n",
      " 0.229805 0.231503 0.226242 0.232572 0.232273 0.233782 0.237292 0.237898\n",
      " 0.247281 0.245788 0.254093 0.242391 0.244221 0.251733 0.277048 0.264707\n",
      " 0.255732 0.23769  0.300447 0.287853 0.268345 0.280244 0.271728 0.273121\n",
      " 0.269407 0.26328  0.261465 0.261898 0.266315 0.282359 0.273526 0.255709\n",
      " 0.261167 0.259414 0.261706 0.262912 0.256529 0.237249 0.237487 0.221383\n",
      " 0.23311  0.233024 0.226328 0.219676 0.226512 0.221825 0.216326 0.200887\n",
      " 0.205347 0.207472 0.215175 0.214715 0.209487 0.209726 0.199993 0.178853\n",
      " 0.171255 0.1784   0.176805 0.179151 0.169484 0.164422 0.169019 0.169891\n",
      " 0.157565 0.180157 0.181082 0.173454 0.16901  0.1724   0.169576 0.167322\n",
      " 0.171175 0.173214 0.18449  0.186622 0.190657 0.19002  0.187705 0.174117\n",
      " 0.167765 0.171313 0.170496 0.173035 0.174403 0.170088 0.168803 0.15942\n",
      " 0.160213 0.155023 0.151954 0.151065 0.143359 0.153399 0.161652 0.172043\n",
      " 0.183549 0.185103 0.177176 0.171145 0.165485 0.162356 0.155204 0.14264\n",
      " 0.132892 0.141863 0.137798 0.143049 0.143789 0.141247 0.141656 0.143056\n",
      " 0.139471 0.141805 0.142631 0.137235 0.137541 0.141685]\n"
     ]
    }
   ],
   "source": [
    "print(y_test)"
   ],
   "metadata": {
    "collapsed": false,
    "pycharm": {
     "name": "#%%\n"
    }
   }
  },
  {
   "cell_type": "code",
   "execution_count": 133,
   "outputs": [
    {
     "name": "stdout",
     "output_type": "stream",
     "text": [
      "310\n",
      "310\n"
     ]
    }
   ],
   "source": [
    "print(len(final_prediction))\n",
    "print(len(y_test))"
   ],
   "metadata": {
    "collapsed": false,
    "pycharm": {
     "name": "#%%\n"
    }
   }
  },
  {
   "cell_type": "code",
   "execution_count": 134,
   "outputs": [
    {
     "data": {
      "text/plain": "                  Date      Open      High       Low     Close  Adj Close  \\\n2017-11-09  2017-11-09  0.001207  0.001415  0.001181  0.001415   0.001415   \n2017-11-10  2017-11-10  0.001421  0.001431  0.001125  0.001163   0.001163   \n2017-11-11  2017-11-11  0.001146  0.001257  0.001141  0.001201   0.001201   \n2017-11-12  2017-11-12  0.001189  0.001210  0.001002  0.001038   0.001038   \n2017-11-13  2017-11-13  0.001046  0.001212  0.001019  0.001211   0.001211   \n...                ...       ...       ...       ...       ...        ...   \n2022-01-31  2022-01-31  0.139469  0.142264  0.136853  0.141805   0.141805   \n2022-02-01  2022-02-01  0.141805  0.144129  0.141125  0.142631   0.142631   \n2022-02-02  2022-02-02  0.142626  0.145253  0.136918  0.137235   0.137235   \n2022-02-03  2022-02-03  0.137213  0.138747  0.135565  0.137541   0.137541   \n2022-02-04  2022-02-04  0.137687  0.142551  0.137261  0.141685   0.141685   \n\n               Volume  twitter_followers  reddit_average_posts_48h  \\\n2017-11-09    6259550       1.652570e+05                     0.633   \n2017-11-10    4246520       1.653080e+05                     0.833   \n2017-11-11    2231080       1.653630e+05                     0.980   \n2017-11-12    3288960       1.654020e+05                     1.102   \n2017-11-13    2481270       1.654527e+05                     1.277   \n...               ...                ...                       ...   \n2022-01-31  412307174       2.971374e+06                     9.000   \n2022-02-01  409432267       2.977053e+06                     8.889   \n2022-02-02  483194691       2.982243e+06                     8.167   \n2022-02-03  383506507       2.987430e+06                     6.455   \n2022-02-04  454621984       2.991859e+06                    10.375   \n\n            reddit_average_comments_48h  ...  total_issues  closed_issues  \\\n2017-11-09                        9.490  ...    395.000000          336.0   \n2017-11-10                       11.958  ...    395.166667          336.0   \n2017-11-11                       13.224  ...    395.333333          336.0   \n2017-11-12                       14.469  ...    395.500000          336.0   \n2017-11-13                       15.383  ...    395.666667          336.0   \n...                                 ...  ...           ...            ...   \n2022-01-31                      487.909  ...   1061.000000          956.0   \n2022-02-01                      500.778  ...   1062.000000          957.0   \n2022-02-02                      514.167  ...   1062.000000          957.0   \n2022-02-03                      404.000  ...   1062.000000          957.0   \n2022-02-04                      822.000  ...   1062.000000          957.0   \n\n            pull_requests_merged  pull_request_contributors  \\\n2017-11-09                 732.0                       67.0   \n2017-11-10                 732.0                       67.0   \n2017-11-11                 732.0                       67.0   \n2017-11-12                 732.0                       67.0   \n2017-11-13                 732.0                       67.0   \n...                          ...                        ...   \n2022-01-31                1065.0                      129.0   \n2022-02-01                1065.0                      129.0   \n2022-02-02                1065.0                      129.0   \n2022-02-03                1065.0                      129.0   \n2022-02-04                1065.0                      129.0   \n\n            commit_count_4_weeks  dogecoin_unscaled  dogecoin_monthly  scale  \\\n2017-11-09                   0.0                 57               1.0   0.01   \n2017-11-10                   0.0                 24               1.0   0.01   \n2017-11-11                   0.0                 23               1.0   0.01   \n2017-11-12                   0.0                 23               1.0   0.01   \n2017-11-13                   0.0                 41               1.0   0.01   \n...                          ...                ...               ...    ...   \n2022-01-31                   0.0                 23               4.0   0.04   \n2022-02-01                   0.0                 93               4.0   0.04   \n2022-02-02                   0.0                 87               4.0   0.04   \n2022-02-03                   0.0                 82               4.0   0.04   \n2022-02-04                   0.0                100               4.0   0.04   \n\n            dogecoin  1_day_price_forecast  \n2017-11-09      0.57              0.001163  \n2017-11-10      0.24              0.001201  \n2017-11-11      0.23              0.001038  \n2017-11-12      0.23              0.001211  \n2017-11-13      0.41              0.001184  \n...              ...                   ...  \n2022-01-31      0.92              0.142631  \n2022-02-01      3.72              0.137235  \n2022-02-02      3.48              0.137541  \n2022-02-03      3.28              0.141685  \n2022-02-04      4.00                   NaN  \n\n[1549 rows x 25 columns]",
      "text/html": "<div>\n<style scoped>\n    .dataframe tbody tr th:only-of-type {\n        vertical-align: middle;\n    }\n\n    .dataframe tbody tr th {\n        vertical-align: top;\n    }\n\n    .dataframe thead th {\n        text-align: right;\n    }\n</style>\n<table border=\"1\" class=\"dataframe\">\n  <thead>\n    <tr style=\"text-align: right;\">\n      <th></th>\n      <th>Date</th>\n      <th>Open</th>\n      <th>High</th>\n      <th>Low</th>\n      <th>Close</th>\n      <th>Adj Close</th>\n      <th>Volume</th>\n      <th>twitter_followers</th>\n      <th>reddit_average_posts_48h</th>\n      <th>reddit_average_comments_48h</th>\n      <th>...</th>\n      <th>total_issues</th>\n      <th>closed_issues</th>\n      <th>pull_requests_merged</th>\n      <th>pull_request_contributors</th>\n      <th>commit_count_4_weeks</th>\n      <th>dogecoin_unscaled</th>\n      <th>dogecoin_monthly</th>\n      <th>scale</th>\n      <th>dogecoin</th>\n      <th>1_day_price_forecast</th>\n    </tr>\n  </thead>\n  <tbody>\n    <tr>\n      <th>2017-11-09</th>\n      <td>2017-11-09</td>\n      <td>0.001207</td>\n      <td>0.001415</td>\n      <td>0.001181</td>\n      <td>0.001415</td>\n      <td>0.001415</td>\n      <td>6259550</td>\n      <td>1.652570e+05</td>\n      <td>0.633</td>\n      <td>9.490</td>\n      <td>...</td>\n      <td>395.000000</td>\n      <td>336.0</td>\n      <td>732.0</td>\n      <td>67.0</td>\n      <td>0.0</td>\n      <td>57</td>\n      <td>1.0</td>\n      <td>0.01</td>\n      <td>0.57</td>\n      <td>0.001163</td>\n    </tr>\n    <tr>\n      <th>2017-11-10</th>\n      <td>2017-11-10</td>\n      <td>0.001421</td>\n      <td>0.001431</td>\n      <td>0.001125</td>\n      <td>0.001163</td>\n      <td>0.001163</td>\n      <td>4246520</td>\n      <td>1.653080e+05</td>\n      <td>0.833</td>\n      <td>11.958</td>\n      <td>...</td>\n      <td>395.166667</td>\n      <td>336.0</td>\n      <td>732.0</td>\n      <td>67.0</td>\n      <td>0.0</td>\n      <td>24</td>\n      <td>1.0</td>\n      <td>0.01</td>\n      <td>0.24</td>\n      <td>0.001201</td>\n    </tr>\n    <tr>\n      <th>2017-11-11</th>\n      <td>2017-11-11</td>\n      <td>0.001146</td>\n      <td>0.001257</td>\n      <td>0.001141</td>\n      <td>0.001201</td>\n      <td>0.001201</td>\n      <td>2231080</td>\n      <td>1.653630e+05</td>\n      <td>0.980</td>\n      <td>13.224</td>\n      <td>...</td>\n      <td>395.333333</td>\n      <td>336.0</td>\n      <td>732.0</td>\n      <td>67.0</td>\n      <td>0.0</td>\n      <td>23</td>\n      <td>1.0</td>\n      <td>0.01</td>\n      <td>0.23</td>\n      <td>0.001038</td>\n    </tr>\n    <tr>\n      <th>2017-11-12</th>\n      <td>2017-11-12</td>\n      <td>0.001189</td>\n      <td>0.001210</td>\n      <td>0.001002</td>\n      <td>0.001038</td>\n      <td>0.001038</td>\n      <td>3288960</td>\n      <td>1.654020e+05</td>\n      <td>1.102</td>\n      <td>14.469</td>\n      <td>...</td>\n      <td>395.500000</td>\n      <td>336.0</td>\n      <td>732.0</td>\n      <td>67.0</td>\n      <td>0.0</td>\n      <td>23</td>\n      <td>1.0</td>\n      <td>0.01</td>\n      <td>0.23</td>\n      <td>0.001211</td>\n    </tr>\n    <tr>\n      <th>2017-11-13</th>\n      <td>2017-11-13</td>\n      <td>0.001046</td>\n      <td>0.001212</td>\n      <td>0.001019</td>\n      <td>0.001211</td>\n      <td>0.001211</td>\n      <td>2481270</td>\n      <td>1.654527e+05</td>\n      <td>1.277</td>\n      <td>15.383</td>\n      <td>...</td>\n      <td>395.666667</td>\n      <td>336.0</td>\n      <td>732.0</td>\n      <td>67.0</td>\n      <td>0.0</td>\n      <td>41</td>\n      <td>1.0</td>\n      <td>0.01</td>\n      <td>0.41</td>\n      <td>0.001184</td>\n    </tr>\n    <tr>\n      <th>...</th>\n      <td>...</td>\n      <td>...</td>\n      <td>...</td>\n      <td>...</td>\n      <td>...</td>\n      <td>...</td>\n      <td>...</td>\n      <td>...</td>\n      <td>...</td>\n      <td>...</td>\n      <td>...</td>\n      <td>...</td>\n      <td>...</td>\n      <td>...</td>\n      <td>...</td>\n      <td>...</td>\n      <td>...</td>\n      <td>...</td>\n      <td>...</td>\n      <td>...</td>\n      <td>...</td>\n    </tr>\n    <tr>\n      <th>2022-01-31</th>\n      <td>2022-01-31</td>\n      <td>0.139469</td>\n      <td>0.142264</td>\n      <td>0.136853</td>\n      <td>0.141805</td>\n      <td>0.141805</td>\n      <td>412307174</td>\n      <td>2.971374e+06</td>\n      <td>9.000</td>\n      <td>487.909</td>\n      <td>...</td>\n      <td>1061.000000</td>\n      <td>956.0</td>\n      <td>1065.0</td>\n      <td>129.0</td>\n      <td>0.0</td>\n      <td>23</td>\n      <td>4.0</td>\n      <td>0.04</td>\n      <td>0.92</td>\n      <td>0.142631</td>\n    </tr>\n    <tr>\n      <th>2022-02-01</th>\n      <td>2022-02-01</td>\n      <td>0.141805</td>\n      <td>0.144129</td>\n      <td>0.141125</td>\n      <td>0.142631</td>\n      <td>0.142631</td>\n      <td>409432267</td>\n      <td>2.977053e+06</td>\n      <td>8.889</td>\n      <td>500.778</td>\n      <td>...</td>\n      <td>1062.000000</td>\n      <td>957.0</td>\n      <td>1065.0</td>\n      <td>129.0</td>\n      <td>0.0</td>\n      <td>93</td>\n      <td>4.0</td>\n      <td>0.04</td>\n      <td>3.72</td>\n      <td>0.137235</td>\n    </tr>\n    <tr>\n      <th>2022-02-02</th>\n      <td>2022-02-02</td>\n      <td>0.142626</td>\n      <td>0.145253</td>\n      <td>0.136918</td>\n      <td>0.137235</td>\n      <td>0.137235</td>\n      <td>483194691</td>\n      <td>2.982243e+06</td>\n      <td>8.167</td>\n      <td>514.167</td>\n      <td>...</td>\n      <td>1062.000000</td>\n      <td>957.0</td>\n      <td>1065.0</td>\n      <td>129.0</td>\n      <td>0.0</td>\n      <td>87</td>\n      <td>4.0</td>\n      <td>0.04</td>\n      <td>3.48</td>\n      <td>0.137541</td>\n    </tr>\n    <tr>\n      <th>2022-02-03</th>\n      <td>2022-02-03</td>\n      <td>0.137213</td>\n      <td>0.138747</td>\n      <td>0.135565</td>\n      <td>0.137541</td>\n      <td>0.137541</td>\n      <td>383506507</td>\n      <td>2.987430e+06</td>\n      <td>6.455</td>\n      <td>404.000</td>\n      <td>...</td>\n      <td>1062.000000</td>\n      <td>957.0</td>\n      <td>1065.0</td>\n      <td>129.0</td>\n      <td>0.0</td>\n      <td>82</td>\n      <td>4.0</td>\n      <td>0.04</td>\n      <td>3.28</td>\n      <td>0.141685</td>\n    </tr>\n    <tr>\n      <th>2022-02-04</th>\n      <td>2022-02-04</td>\n      <td>0.137687</td>\n      <td>0.142551</td>\n      <td>0.137261</td>\n      <td>0.141685</td>\n      <td>0.141685</td>\n      <td>454621984</td>\n      <td>2.991859e+06</td>\n      <td>10.375</td>\n      <td>822.000</td>\n      <td>...</td>\n      <td>1062.000000</td>\n      <td>957.0</td>\n      <td>1065.0</td>\n      <td>129.0</td>\n      <td>0.0</td>\n      <td>100</td>\n      <td>4.0</td>\n      <td>0.04</td>\n      <td>4.00</td>\n      <td>NaN</td>\n    </tr>\n  </tbody>\n</table>\n<p>1549 rows × 25 columns</p>\n</div>"
     },
     "execution_count": 134,
     "metadata": {},
     "output_type": "execute_result"
    }
   ],
   "source": [
    "df"
   ],
   "metadata": {
    "collapsed": false,
    "pycharm": {
     "name": "#%%\n"
    }
   }
  },
  {
   "cell_type": "code",
   "execution_count": 135,
   "outputs": [
    {
     "data": {
      "text/plain": "<Figure size 1224x360 with 1 Axes>",
      "image/png": "[encoded data removed]"
     },
     "metadata": {},
     "output_type": "display_data"
    }
   ],
   "source": [
    "plt.figure(figsize=(17,5))\n",
    "plt.plot(final_prediction, label='Prediction', lw=2, alpha =.7, color = \"green\")\n",
    "plt.plot(y_test, label='Actual', lw=2, alpha =.7, color = \"red\")\n",
    "plt.legend(['predicted', \"actual\"])\n",
    "plt.title('Prediction vs Actual')\n",
    "plt.ylabel('Price in USD')\n",
    "plt.xlabel('Time')\n",
    "\n",
    "plt.show()"
   ],
   "metadata": {
    "collapsed": false,
    "pycharm": {
     "name": "#%%\n"
    }
   }
  },
  {
   "cell_type": "code",
   "execution_count": 136,
   "outputs": [
    {
     "name": "stdout",
     "output_type": "stream",
     "text": [
      "R^2\n",
      "0.8595987080536831\n",
      "\n",
      "MAE\n",
      "0.022658634765597107\n",
      "\n",
      "RMSE\n",
      "0.03639696415813782\n"
     ]
    }
   ],
   "source": [
    "from math import sqrt\n",
    "from sklearn.metrics import mean_absolute_error, mean_squared_error\n",
    "\n",
    "\n",
    "print(\"R^2\")\n",
    "print(svr_rbf_confidence)\n",
    "\n",
    "print(\"\\nMAE\")\n",
    "print(mean_absolute_error(y_test,final_prediction))\n",
    "\n",
    "print(\"\\nRMSE\")\n",
    "print(sqrt(mean_squared_error(y_test, final_prediction)))"
   ],
   "metadata": {
    "collapsed": false,
    "pycharm": {
     "name": "#%%\n"
    }
   }
  }
 ],
 "metadata": {
  "kernelspec": {
   "display_name": "Python 3",
   "language": "python",
   "name": "python3"
  },
  "language_info": {
   "codemirror_mode": {
    "name": "ipython",
    "version": 2
   },
   "file_extension": ".py",
   "mimetype": "text/x-python",
   "name": "python",
   "nbconvert_exporter": "python",
   "pygments_lexer": "ipython2",
   "version": "2.7.6"
  }
 },
 "nbformat": 4,
 "nbformat_minor": 0
}