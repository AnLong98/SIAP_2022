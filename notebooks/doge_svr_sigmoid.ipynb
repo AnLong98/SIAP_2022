{
 "cells": [
  {
   "cell_type": "code",
   "execution_count": 1763,
   "metadata": {
    "collapsed": true
   },
   "outputs": [],
   "source": [
    "import pandas as pd\n",
    "import numpy as np\n",
    "from sklearn.svm import SVR\n",
    "import matplotlib.pyplot as plt\n",
    "plt.style.use('fivethirtyeight')"
   ]
  },
  {
   "cell_type": "code",
   "execution_count": 1764,
   "outputs": [
    {
     "data": {
      "text/plain": "                  Date      Open      High       Low     Close  Adj Close  \\\n2017-11-09  2017-11-09  0.001207  0.001415  0.001181  0.001415   0.001415   \n2017-11-10  2017-11-10  0.001421  0.001431  0.001125  0.001163   0.001163   \n2017-11-11  2017-11-11  0.001146  0.001257  0.001141  0.001201   0.001201   \n2017-11-12  2017-11-12  0.001189  0.001210  0.001002  0.001038   0.001038   \n2017-11-13  2017-11-13  0.001046  0.001212  0.001019  0.001211   0.001211   \n...                ...       ...       ...       ...       ...        ...   \n2022-01-31  2022-01-31  0.139469  0.142264  0.136853  0.141805   0.141805   \n2022-02-01  2022-02-01  0.141805  0.144129  0.141125  0.142631   0.142631   \n2022-02-02  2022-02-02  0.142626  0.145253  0.136918  0.137235   0.137235   \n2022-02-03  2022-02-03  0.137213  0.138747  0.135565  0.137541   0.137541   \n2022-02-04  2022-02-04  0.137687  0.142551  0.137261  0.141685   0.141685   \n\n               Volume  twitter_followers  reddit_average_posts_48h  \\\n2017-11-09    6259550       1.652570e+05                     0.633   \n2017-11-10    4246520       1.653080e+05                     0.833   \n2017-11-11    2231080       1.653630e+05                     0.980   \n2017-11-12    3288960       1.654020e+05                     1.102   \n2017-11-13    2481270       1.654527e+05                     1.277   \n...               ...                ...                       ...   \n2022-01-31  412307174       2.971374e+06                     9.000   \n2022-02-01  409432267       2.977053e+06                     8.889   \n2022-02-02  483194691       2.982243e+06                     8.167   \n2022-02-03  383506507       2.987430e+06                     6.455   \n2022-02-04  454621984       2.991859e+06                    10.375   \n\n            reddit_average_comments_48h  ...  subscribers  total_issues  \\\n2017-11-09                        9.490  ...        225.0    395.000000   \n2017-11-10                       11.958  ...        225.0    395.166667   \n2017-11-11                       13.224  ...        225.0    395.333333   \n2017-11-12                       14.469  ...        225.0    395.500000   \n2017-11-13                       15.383  ...        225.0    395.666667   \n...                                 ...  ...          ...           ...   \n2022-01-31                      487.909  ...        874.0   1061.000000   \n2022-02-01                      500.778  ...        872.0   1062.000000   \n2022-02-02                      514.167  ...        872.0   1062.000000   \n2022-02-03                      404.000  ...        872.0   1062.000000   \n2022-02-04                      822.000  ...        873.0   1062.000000   \n\n            closed_issues  pull_requests_merged  pull_request_contributors  \\\n2017-11-09          336.0                 732.0                       67.0   \n2017-11-10          336.0                 732.0                       67.0   \n2017-11-11          336.0                 732.0                       67.0   \n2017-11-12          336.0                 732.0                       67.0   \n2017-11-13          336.0                 732.0                       67.0   \n...                   ...                   ...                        ...   \n2022-01-31          956.0                1065.0                      129.0   \n2022-02-01          957.0                1065.0                      129.0   \n2022-02-02          957.0                1065.0                      129.0   \n2022-02-03          957.0                1065.0                      129.0   \n2022-02-04          957.0                1065.0                      129.0   \n\n            commit_count_4_weeks  dogecoin_unscaled  dogecoin_monthly  scale  \\\n2017-11-09                   0.0                 57               1.0   0.01   \n2017-11-10                   0.0                 24               1.0   0.01   \n2017-11-11                   0.0                 23               1.0   0.01   \n2017-11-12                   0.0                 23               1.0   0.01   \n2017-11-13                   0.0                 41               1.0   0.01   \n...                          ...                ...               ...    ...   \n2022-01-31                   0.0                 23               4.0   0.04   \n2022-02-01                   0.0                 93               4.0   0.04   \n2022-02-02                   0.0                 87               4.0   0.04   \n2022-02-03                   0.0                 82               4.0   0.04   \n2022-02-04                   0.0                100               4.0   0.04   \n\n            dogecoin  \n2017-11-09      0.57  \n2017-11-10      0.24  \n2017-11-11      0.23  \n2017-11-12      0.23  \n2017-11-13      0.41  \n...              ...  \n2022-01-31      0.92  \n2022-02-01      3.72  \n2022-02-02      3.48  \n2022-02-03      3.28  \n2022-02-04      4.00  \n\n[1549 rows x 24 columns]",
      "text/html": "<div>\n<style scoped>\n    .dataframe tbody tr th:only-of-type {\n        vertical-align: middle;\n    }\n\n    .dataframe tbody tr th {\n        vertical-align: top;\n    }\n\n    .dataframe thead th {\n        text-align: right;\n    }\n</style>\n<table border=\"1\" class=\"dataframe\">\n  <thead>\n    <tr style=\"text-align: right;\">\n      <th></th>\n      <th>Date</th>\n      <th>Open</th>\n      <th>High</th>\n      <th>Low</th>\n      <th>Close</th>\n      <th>Adj Close</th>\n      <th>Volume</th>\n      <th>twitter_followers</th>\n      <th>reddit_average_posts_48h</th>\n      <th>reddit_average_comments_48h</th>\n      <th>...</th>\n      <th>subscribers</th>\n      <th>total_issues</th>\n      <th>closed_issues</th>\n      <th>pull_requests_merged</th>\n      <th>pull_request_contributors</th>\n      <th>commit_count_4_weeks</th>\n      <th>dogecoin_unscaled</th>\n      <th>dogecoin_monthly</th>\n      <th>scale</th>\n      <th>dogecoin</th>\n    </tr>\n  </thead>\n  <tbody>\n    <tr>\n      <th>2017-11-09</th>\n      <td>2017-11-09</td>\n      <td>0.001207</td>\n      <td>0.001415</td>\n      <td>0.001181</td>\n      <td>0.001415</td>\n      <td>0.001415</td>\n      <td>6259550</td>\n      <td>1.652570e+05</td>\n      <td>0.633</td>\n      <td>9.490</td>\n      <td>...</td>\n      <td>225.0</td>\n      <td>395.000000</td>\n      <td>336.0</td>\n      <td>732.0</td>\n      <td>67.0</td>\n      <td>0.0</td>\n      <td>57</td>\n      <td>1.0</td>\n      <td>0.01</td>\n      <td>0.57</td>\n    </tr>\n    <tr>\n      <th>2017-11-10</th>\n      <td>2017-11-10</td>\n      <td>0.001421</td>\n      <td>0.001431</td>\n      <td>0.001125</td>\n      <td>0.001163</td>\n      <td>0.001163</td>\n      <td>4246520</td>\n      <td>1.653080e+05</td>\n      <td>0.833</td>\n      <td>11.958</td>\n      <td>...</td>\n      <td>225.0</td>\n      <td>395.166667</td>\n      <td>336.0</td>\n      <td>732.0</td>\n      <td>67.0</td>\n      <td>0.0</td>\n      <td>24</td>\n      <td>1.0</td>\n      <td>0.01</td>\n      <td>0.24</td>\n    </tr>\n    <tr>\n      <th>2017-11-11</th>\n      <td>2017-11-11</td>\n      <td>0.001146</td>\n      <td>0.001257</td>\n      <td>0.001141</td>\n      <td>0.001201</td>\n      <td>0.001201</td>\n      <td>2231080</td>\n      <td>1.653630e+05</td>\n      <td>0.980</td>\n      <td>13.224</td>\n      <td>...</td>\n      <td>225.0</td>\n      <td>395.333333</td>\n      <td>336.0</td>\n      <td>732.0</td>\n      <td>67.0</td>\n      <td>0.0</td>\n      <td>23</td>\n      <td>1.0</td>\n      <td>0.01</td>\n      <td>0.23</td>\n    </tr>\n    <tr>\n      <th>2017-11-12</th>\n      <td>2017-11-12</td>\n      <td>0.001189</td>\n      <td>0.001210</td>\n      <td>0.001002</td>\n      <td>0.001038</td>\n      <td>0.001038</td>\n      <td>3288960</td>\n      <td>1.654020e+05</td>\n      <td>1.102</td>\n      <td>14.469</td>\n      <td>...</td>\n      <td>225.0</td>\n      <td>395.500000</td>\n      <td>336.0</td>\n      <td>732.0</td>\n      <td>67.0</td>\n      <td>0.0</td>\n      <td>23</td>\n      <td>1.0</td>\n      <td>0.01</td>\n      <td>0.23</td>\n    </tr>\n    <tr>\n      <th>2017-11-13</th>\n      <td>2017-11-13</td>\n      <td>0.001046</td>\n      <td>0.001212</td>\n      <td>0.001019</td>\n      <td>0.001211</td>\n      <td>0.001211</td>\n      <td>2481270</td>\n      <td>1.654527e+05</td>\n      <td>1.277</td>\n      <td>15.383</td>\n      <td>...</td>\n      <td>225.0</td>\n      <td>395.666667</td>\n      <td>336.0</td>\n      <td>732.0</td>\n      <td>67.0</td>\n      <td>0.0</td>\n      <td>41</td>\n      <td>1.0</td>\n      <td>0.01</td>\n      <td>0.41</td>\n    </tr>\n    <tr>\n      <th>...</th>\n      <td>...</td>\n      <td>...</td>\n      <td>...</td>\n      <td>...</td>\n      <td>...</td>\n      <td>...</td>\n      <td>...</td>\n      <td>...</td>\n      <td>...</td>\n      <td>...</td>\n      <td>...</td>\n      <td>...</td>\n      <td>...</td>\n      <td>...</td>\n      <td>...</td>\n      <td>...</td>\n      <td>...</td>\n      <td>...</td>\n      <td>...</td>\n      <td>...</td>\n      <td>...</td>\n    </tr>\n    <tr>\n      <th>2022-01-31</th>\n      <td>2022-01-31</td>\n      <td>0.139469</td>\n      <td>0.142264</td>\n      <td>0.136853</td>\n      <td>0.141805</td>\n      <td>0.141805</td>\n      <td>412307174</td>\n      <td>2.971374e+06</td>\n      <td>9.000</td>\n      <td>487.909</td>\n      <td>...</td>\n      <td>874.0</td>\n      <td>1061.000000</td>\n      <td>956.0</td>\n      <td>1065.0</td>\n      <td>129.0</td>\n      <td>0.0</td>\n      <td>23</td>\n      <td>4.0</td>\n      <td>0.04</td>\n      <td>0.92</td>\n    </tr>\n    <tr>\n      <th>2022-02-01</th>\n      <td>2022-02-01</td>\n      <td>0.141805</td>\n      <td>0.144129</td>\n      <td>0.141125</td>\n      <td>0.142631</td>\n      <td>0.142631</td>\n      <td>409432267</td>\n      <td>2.977053e+06</td>\n      <td>8.889</td>\n      <td>500.778</td>\n      <td>...</td>\n      <td>872.0</td>\n      <td>1062.000000</td>\n      <td>957.0</td>\n      <td>1065.0</td>\n      <td>129.0</td>\n      <td>0.0</td>\n      <td>93</td>\n      <td>4.0</td>\n      <td>0.04</td>\n      <td>3.72</td>\n    </tr>\n    <tr>\n      <th>2022-02-02</th>\n      <td>2022-02-02</td>\n      <td>0.142626</td>\n      <td>0.145253</td>\n      <td>0.136918</td>\n      <td>0.137235</td>\n      <td>0.137235</td>\n      <td>483194691</td>\n      <td>2.982243e+06</td>\n      <td>8.167</td>\n      <td>514.167</td>\n      <td>...</td>\n      <td>872.0</td>\n      <td>1062.000000</td>\n      <td>957.0</td>\n      <td>1065.0</td>\n      <td>129.0</td>\n      <td>0.0</td>\n      <td>87</td>\n      <td>4.0</td>\n      <td>0.04</td>\n      <td>3.48</td>\n    </tr>\n    <tr>\n      <th>2022-02-03</th>\n      <td>2022-02-03</td>\n      <td>0.137213</td>\n      <td>0.138747</td>\n      <td>0.135565</td>\n      <td>0.137541</td>\n      <td>0.137541</td>\n      <td>383506507</td>\n      <td>2.987430e+06</td>\n      <td>6.455</td>\n      <td>404.000</td>\n      <td>...</td>\n      <td>872.0</td>\n      <td>1062.000000</td>\n      <td>957.0</td>\n      <td>1065.0</td>\n      <td>129.0</td>\n      <td>0.0</td>\n      <td>82</td>\n      <td>4.0</td>\n      <td>0.04</td>\n      <td>3.28</td>\n    </tr>\n    <tr>\n      <th>2022-02-04</th>\n      <td>2022-02-04</td>\n      <td>0.137687</td>\n      <td>0.142551</td>\n      <td>0.137261</td>\n      <td>0.141685</td>\n      <td>0.141685</td>\n      <td>454621984</td>\n      <td>2.991859e+06</td>\n      <td>10.375</td>\n      <td>822.000</td>\n      <td>...</td>\n      <td>873.0</td>\n      <td>1062.000000</td>\n      <td>957.0</td>\n      <td>1065.0</td>\n      <td>129.0</td>\n      <td>0.0</td>\n      <td>100</td>\n      <td>4.0</td>\n      <td>0.04</td>\n      <td>4.00</td>\n    </tr>\n  </tbody>\n</table>\n<p>1549 rows × 24 columns</p>\n</div>"
     },
     "execution_count": 1764,
     "metadata": {},
     "output_type": "execute_result"
    }
   ],
   "source": [
    "df = pd.read_csv('../doge_v1.csv')\n",
    "\n",
    "df = df.set_index(pd.DatetimeIndex(df['Date'].values))\n",
    "df"
   ],
   "metadata": {
    "collapsed": false,
    "pycharm": {
     "name": "#%%\n"
    }
   }
  },
  {
   "cell_type": "code",
   "execution_count": 1765,
   "outputs": [
    {
     "data": {
      "text/plain": "<AxesSubplot:>"
     },
     "execution_count": 1765,
     "metadata": {},
     "output_type": "execute_result"
    },
    {
     "data": {
      "text/plain": "<Figure size 1152x144 with 1 Axes>",
      "image/png": "[encoded data removed]"
     },
     "metadata": {},
     "output_type": "display_data"
    }
   ],
   "source": [
    "df = df.resample('D').ffill()\n",
    "df.Close.plot(figsize=(16, 2), color=\"red\", label='Close price', lw=2, alpha =.7)"
   ],
   "metadata": {
    "collapsed": false,
    "pycharm": {
     "name": "#%%\n"
    }
   }
  },
  {
   "cell_type": "code",
   "execution_count": 1766,
   "outputs": [],
   "source": [
    "future_days = 1\n",
    "columnName = str(future_days)+'_day_price_forecast'"
   ],
   "metadata": {
    "collapsed": false,
    "pycharm": {
     "name": "#%%\n"
    }
   }
  },
  {
   "cell_type": "code",
   "execution_count": 1767,
   "outputs": [
    {
     "data": {
      "text/plain": "               Close  1_day_price_forecast\n2017-11-09  0.001415              0.001163\n2017-11-10  0.001163              0.001201\n2017-11-11  0.001201              0.001038\n2017-11-12  0.001038              0.001211\n2017-11-13  0.001211              0.001184\n...              ...                   ...\n2022-01-31  0.141805              0.142631\n2022-02-01  0.142631              0.137235\n2022-02-02  0.137235              0.137541\n2022-02-03  0.137541              0.141685\n2022-02-04  0.141685                   NaN\n\n[1549 rows x 2 columns]",
      "text/html": "<div>\n<style scoped>\n    .dataframe tbody tr th:only-of-type {\n        vertical-align: middle;\n    }\n\n    .dataframe tbody tr th {\n        vertical-align: top;\n    }\n\n    .dataframe thead th {\n        text-align: right;\n    }\n</style>\n<table border=\"1\" class=\"dataframe\">\n  <thead>\n    <tr style=\"text-align: right;\">\n      <th></th>\n      <th>Close</th>\n      <th>1_day_price_forecast</th>\n    </tr>\n  </thead>\n  <tbody>\n    <tr>\n      <th>2017-11-09</th>\n      <td>0.001415</td>\n      <td>0.001163</td>\n    </tr>\n    <tr>\n      <th>2017-11-10</th>\n      <td>0.001163</td>\n      <td>0.001201</td>\n    </tr>\n    <tr>\n      <th>2017-11-11</th>\n      <td>0.001201</td>\n      <td>0.001038</td>\n    </tr>\n    <tr>\n      <th>2017-11-12</th>\n      <td>0.001038</td>\n      <td>0.001211</td>\n    </tr>\n    <tr>\n      <th>2017-11-13</th>\n      <td>0.001211</td>\n      <td>0.001184</td>\n    </tr>\n    <tr>\n      <th>...</th>\n      <td>...</td>\n      <td>...</td>\n    </tr>\n    <tr>\n      <th>2022-01-31</th>\n      <td>0.141805</td>\n      <td>0.142631</td>\n    </tr>\n    <tr>\n      <th>2022-02-01</th>\n      <td>0.142631</td>\n      <td>0.137235</td>\n    </tr>\n    <tr>\n      <th>2022-02-02</th>\n      <td>0.137235</td>\n      <td>0.137541</td>\n    </tr>\n    <tr>\n      <th>2022-02-03</th>\n      <td>0.137541</td>\n      <td>0.141685</td>\n    </tr>\n    <tr>\n      <th>2022-02-04</th>\n      <td>0.141685</td>\n      <td>NaN</td>\n    </tr>\n  </tbody>\n</table>\n<p>1549 rows × 2 columns</p>\n</div>"
     },
     "execution_count": 1767,
     "metadata": {},
     "output_type": "execute_result"
    }
   ],
   "source": [
    "#added new column\n",
    "df[columnName] = df[['Close']].shift(-future_days)\n",
    "\n",
    "df[['Close', columnName]]"
   ],
   "metadata": {
    "collapsed": false,
    "pycharm": {
     "name": "#%%\n"
    }
   }
  },
  {
   "cell_type": "code",
   "execution_count": 1768,
   "outputs": [
    {
     "name": "stdout",
     "output_type": "stream",
     "text": [
      "<class 'pandas.core.frame.DataFrame'>\n",
      "DatetimeIndex: 1549 entries, 2017-11-09 to 2022-02-04\n",
      "Freq: D\n",
      "Data columns (total 25 columns):\n",
      " #   Column                       Non-Null Count  Dtype  \n",
      "---  ------                       --------------  -----  \n",
      " 0   Date                         1549 non-null   object \n",
      " 1   Open                         1549 non-null   float64\n",
      " 2   High                         1549 non-null   float64\n",
      " 3   Low                          1549 non-null   float64\n",
      " 4   Close                        1549 non-null   float64\n",
      " 5   Adj Close                    1549 non-null   float64\n",
      " 6   Volume                       1549 non-null   int64  \n",
      " 7   twitter_followers            1549 non-null   float64\n",
      " 8   reddit_average_posts_48h     1549 non-null   float64\n",
      " 9   reddit_average_comments_48h  1549 non-null   float64\n",
      " 10  reddit_subscribers           1549 non-null   float64\n",
      " 11  reddit_accounts_active_48h   1549 non-null   float64\n",
      " 12  forks                        1549 non-null   float64\n",
      " 13  stars                        1549 non-null   float64\n",
      " 14  subscribers                  1549 non-null   float64\n",
      " 15  total_issues                 1549 non-null   float64\n",
      " 16  closed_issues                1549 non-null   float64\n",
      " 17  pull_requests_merged         1549 non-null   float64\n",
      " 18  pull_request_contributors    1549 non-null   float64\n",
      " 19  commit_count_4_weeks         1549 non-null   float64\n",
      " 20  dogecoin_unscaled            1549 non-null   int64  \n",
      " 21  dogecoin_monthly             1549 non-null   float64\n",
      " 22  scale                        1549 non-null   float64\n",
      " 23  dogecoin                     1549 non-null   float64\n",
      " 24  1_day_price_forecast         1548 non-null   float64\n",
      "dtypes: float64(22), int64(2), object(1)\n",
      "memory usage: 314.6+ KB\n"
     ]
    }
   ],
   "source": [
    "df.info()"
   ],
   "metadata": {
    "collapsed": false,
    "pycharm": {
     "name": "#%%\n"
    }
   }
  },
  {
   "cell_type": "code",
   "execution_count": 1769,
   "outputs": [
    {
     "name": "stdout",
     "output_type": "stream",
     "text": [
      "(1549, 25)\n",
      "[[1.41500000e-03 1.18100000e-03 6.25955000e+06 ... 0.00000000e+00\n",
      "  1.00000000e+00 5.70000000e-01]\n",
      " [1.43100000e-03 1.12500000e-03 4.24652000e+06 ... 0.00000000e+00\n",
      "  1.00000000e+00 2.40000000e-01]\n",
      " [1.25700000e-03 1.14100000e-03 2.23108000e+06 ... 0.00000000e+00\n",
      "  1.00000000e+00 2.30000000e-01]\n",
      " ...\n",
      " [1.44129000e-01 1.41125000e-01 4.09432267e+08 ... 0.00000000e+00\n",
      "  4.00000000e+00 3.72000000e+00]\n",
      " [1.45253000e-01 1.36918000e-01 4.83194691e+08 ... 0.00000000e+00\n",
      "  4.00000000e+00 3.48000000e+00]\n",
      " [1.38747000e-01 1.35565000e-01 3.83506507e+08 ... 0.00000000e+00\n",
      "  4.00000000e+00 3.28000000e+00]]\n"
     ]
    }
   ],
   "source": [
    "X = np.array(df[[\"High\", \"Low\", \"Volume\", \"Open\", \"twitter_followers\", \"reddit_average_posts_48h\",\n",
    "                \"reddit_average_comments_48h\", \"reddit_subscribers\", \"reddit_accounts_active_48h\", \"forks\", \"stars\",\n",
    "                \"subscribers\", \"total_issues\", \"closed_issues\", \"pull_requests_merged\", \"pull_request_contributors\",\n",
    "                \"commit_count_4_weeks\", \"dogecoin_monthly\", \"dogecoin\"]])\n",
    "\n",
    "\n",
    "print(df.shape)\n",
    "\n",
    "X = X[:df.shape[0] - future_days]\n",
    "print(X)"
   ],
   "metadata": {
    "collapsed": false,
    "pycharm": {
     "name": "#%%\n"
    }
   }
  },
  {
   "cell_type": "code",
   "execution_count": 1770,
   "outputs": [
    {
     "name": "stdout",
     "output_type": "stream",
     "text": [
      "[0.001163 0.001201 0.001038 ... 0.137235 0.137541 0.141685]\n"
     ]
    }
   ],
   "source": [
    "y = np.array(df[columnName])\n",
    "y = y[:-future_days]\n",
    "print(y)"
   ],
   "metadata": {
    "collapsed": false,
    "pycharm": {
     "name": "#%%\n"
    }
   }
  },
  {
   "cell_type": "code",
   "execution_count": 1771,
   "outputs": [],
   "source": [
    "from sklearn.model_selection import train_test_split\n",
    "\n",
    "x_train, x_test, y_train, y_test = train_test_split(X,y, test_size = 0.2, shuffle=False)"
   ],
   "metadata": {
    "collapsed": false,
    "pycharm": {
     "name": "#%%\n"
    }
   }
  },
  {
   "cell_type": "code",
   "execution_count": 1772,
   "outputs": [
    {
     "name": "stdout",
     "output_type": "stream",
     "text": [
      "Scaled X_l:\n",
      "[[-0.39367943 -0.41385857 -0.2014769  ... -0.31944861 -0.10595194\n",
      "  -0.04440799]\n",
      " [-0.39238134 -0.41915265 -0.20310446 ... -0.31944861 -0.10595194\n",
      "  -0.14081802]\n",
      " [-0.406498   -0.41764006 -0.20473396 ... -0.31944861 -0.10595194\n",
      "  -0.14373953]\n",
      " ...\n",
      " [ 3.93356113  4.48618801  0.16575939 ...  0.57790687  0.65488621\n",
      "   0.27988029]\n",
      " [ 3.92536698  4.50150302  0.22837542 ... -0.31944861  0.65488621\n",
      "   0.43764216]\n",
      " [ 3.98889191  4.55085138  0.38279042 ... -0.31944861  0.65488621\n",
      "   0.45517125]]\n",
      "Scaled y_p:\n",
      "[[-0.41644404]\n",
      " [-0.41315149]\n",
      " [-0.42727479]\n",
      " ...\n",
      " [ 4.1661761 ]\n",
      " [ 4.15300591]\n",
      " [ 4.13195093]]\n"
     ]
    }
   ],
   "source": [
    "from sklearn.preprocessing import StandardScaler\n",
    "\n",
    "\n",
    "StdS_X = StandardScaler()\n",
    "StdS_y = StandardScaler()\n",
    "X_l = StdS_X.fit_transform(x_train)\n",
    "y_p = StdS_y.fit_transform(y_train.reshape(-1,1))\n",
    "\n",
    "print(\"Scaled X_l:\")\n",
    "print(X_l)\n",
    "print(\"Scaled y_p:\")\n",
    "print(y_p)"
   ],
   "metadata": {
    "collapsed": false,
    "pycharm": {
     "name": "#%%\n"
    }
   }
  },
  {
   "cell_type": "code",
   "execution_count": 1773,
   "outputs": [
    {
     "name": "stdout",
     "output_type": "stream",
     "text": [
      "Scaled X_l_test:\n",
      "[[-1.85848319 -2.11900651 -0.48809287 ... -0.44664227 -0.47087352\n",
      "  -0.45317956]\n",
      " [-1.71853358 -2.10261672  0.22048017 ... -0.44664227 -0.47087352\n",
      "  -0.59946706]\n",
      " [-1.78887072 -2.05864441 -0.28036058 ... -0.44664227 -0.47087352\n",
      "  -0.60488512]\n",
      " ...\n",
      " [-1.05633384 -1.05985672 -0.52157589 ... -0.44664227 -0.55783854\n",
      "  -0.2906379 ]\n",
      " [-1.04627801 -1.11000351 -0.51145202 ... -0.44664227 -0.55783854\n",
      "  -0.31231012]\n",
      " [-1.10448373 -1.12613106 -0.52513419 ... -0.44664227 -0.55783854\n",
      "  -0.3303703 ]]\n",
      "Scaled y_p_test:\n",
      "[[-1.90109281e+00]\n",
      " [-1.94558719e+00]\n",
      " [-1.96473563e+00]\n",
      " [-1.94826386e+00]\n",
      " [-1.92466804e+00]\n",
      " [-1.87564392e+00]\n",
      " [-1.93154500e+00]\n",
      " [-1.90646673e+00]\n",
      " [-1.90420186e+00]\n",
      " [-1.88195467e+00]\n",
      " [-1.77072902e+00]\n",
      " [-1.81069366e+00]\n",
      " [-1.57722685e+00]\n",
      " [-1.28822958e+00]\n",
      " [-6.63434603e-01]\n",
      " [ 1.22735003e+00]\n",
      " [ 3.86290962e-01]\n",
      " [ 7.60014923e-01]\n",
      " [ 1.65405134e+00]\n",
      " [ 7.49977436e-01]\n",
      " [ 6.20519587e-01]\n",
      " [ 1.47388470e-01]\n",
      " [ 1.91351203e-02]\n",
      " [ 2.42564439e-01]\n",
      " [ 4.59223427e-02]\n",
      " [ 2.47320664e-01]\n",
      " [ 2.62907080e-01]\n",
      " [ 7.93030535e-01]\n",
      " [ 6.02441815e-01]\n",
      " [ 9.35912879e-01]\n",
      " [ 1.50651572e+00]\n",
      " [ 1.33211052e+00]\n",
      " [ 2.00808124e+00]\n",
      " [ 3.03372713e+00]\n",
      " [ 4.23100890e+00]\n",
      " [ 3.44006520e+00]\n",
      " [ 4.51045254e+00]\n",
      " [ 4.01281966e+00]\n",
      " [ 3.32956019e+00]\n",
      " [ 2.09308588e+00]\n",
      " [ 2.55910325e+00]\n",
      " [ 1.42816155e+00]\n",
      " [ 2.50910112e+00]\n",
      " [ 3.22181419e+00]\n",
      " [ 2.69027005e+00]\n",
      " [ 2.76154136e+00]\n",
      " [ 2.48354929e+00]\n",
      " [ 2.36230673e+00]\n",
      " [ 8.90224296e-01]\n",
      " [ 1.58071077e+00]\n",
      " [ 1.16055699e+00]\n",
      " [ 9.85431150e-01]\n",
      " [ 6.32317495e-01]\n",
      " [ 1.23035613e+00]\n",
      " [ 1.02590024e+00]\n",
      " [ 1.10198954e+00]\n",
      " [ 8.88391811e-01]\n",
      " [ 6.64581583e-01]\n",
      " [ 5.81244701e-01]\n",
      " [ 5.72123457e-01]\n",
      " [ 8.14937994e-01]\n",
      " [ 1.27066051e+00]\n",
      " [ 1.81934559e+00]\n",
      " [ 1.57833265e+00]\n",
      " [ 1.33496219e+00]\n",
      " [ 1.29227971e+00]\n",
      " [ 1.28847061e+00]\n",
      " [ 8.68883054e-01]\n",
      " [ 8.34261444e-01]\n",
      " [ 9.95314214e-01]\n",
      " [ 8.20507513e-01]\n",
      " [ 7.48525861e-01]\n",
      " [ 6.73630763e-01]\n",
      " [ 8.00236936e-01]\n",
      " [ 8.79538233e-01]\n",
      " [ 8.41406076e-01]\n",
      " [ 6.29126089e-01]\n",
      " [ 6.16103093e-01]\n",
      " [ 4.82022853e-01]\n",
      " [ 4.19059497e-01]\n",
      " [ 3.52595889e-01]\n",
      " [-6.99631326e-01]\n",
      " [-5.72592769e-01]\n",
      " [-1.49031397e-01]\n",
      " [ 1.66073639e-01]\n",
      " [-7.71835779e-02]\n",
      " [-1.92132284e-02]\n",
      " [ 1.83245463e-01]\n",
      " [ 1.05076601e-01]\n",
      " [ 1.65939806e-01]\n",
      " [ 7.78775842e-02]\n",
      " [-2.16325202e-02]\n",
      " [-1.42716962e-02]\n",
      " [-2.46349327e-03]\n",
      " [-1.72226345e-03]\n",
      " [-1.54796518e-01]\n",
      " [-1.25888554e-01]\n",
      " [-2.31884420e-01]\n",
      " [-4.02048140e-01]\n",
      " [-2.75761108e-01]\n",
      " [-3.36953748e-01]\n",
      " [-3.17022901e-01]\n",
      " [-3.97405158e-01]\n",
      " [-4.80227297e-01]\n",
      " [-5.07807223e-01]\n",
      " [-6.35834086e-01]\n",
      " [-7.64962499e-01]\n",
      " [-6.23099346e-01]\n",
      " [-6.63166936e-01]\n",
      " [-7.52495425e-01]\n",
      " [-7.80857761e-01]\n",
      " [-5.79613863e-01]\n",
      " [-5.69792568e-01]\n",
      " [-5.34162062e-01]\n",
      " [-5.07858698e-01]\n",
      " [-5.02248000e-01]\n",
      " [-4.34765201e-01]\n",
      " [-4.19528810e-01]\n",
      " [-4.24748303e-01]\n",
      " [-4.32706229e-01]\n",
      " [-3.89447233e-01]\n",
      " [-3.94666726e-01]\n",
      " [-4.34579893e-01]\n",
      " [-4.43196690e-01]\n",
      " [-5.21777347e-01]\n",
      " [-4.64918842e-01]\n",
      " [-4.70230989e-01]\n",
      " [-4.31995884e-01]\n",
      " [ 1.40943889e-01]\n",
      " [-6.80005639e-02]\n",
      " [ 1.05488395e-01]\n",
      " [ 1.09894595e-01]\n",
      " [ 1.91615183e-01]\n",
      " [ 1.77799483e-01]\n",
      " [ 4.13417914e-01]\n",
      " [ 4.78326999e-01]\n",
      " [ 9.75856931e-01]\n",
      " [ 7.62485689e-01]\n",
      " [ 5.43483160e-01]\n",
      " [ 5.87720167e-01]\n",
      " [ 7.25722749e-01]\n",
      " [ 8.32243652e-01]\n",
      " [ 7.22150433e-01]\n",
      " [ 7.03269662e-01]\n",
      " [ 7.33649790e-01]\n",
      " [ 4.33297287e-01]\n",
      " [ 4.69195459e-01]\n",
      " [ 2.29150238e-01]\n",
      " [ 4.91916212e-01]\n",
      " [ 4.01280276e-01]\n",
      " [ 3.54912232e-01]\n",
      " [ 2.62258504e-01]\n",
      " [ 3.27404370e-01]\n",
      " [ 4.91586777e-01]\n",
      " [ 5.07584987e-01]\n",
      " [ 5.10858752e-01]\n",
      " [ 5.42927237e-01]\n",
      " [ 6.98781103e-01]\n",
      " [ 6.39462127e-01]\n",
      " [ 7.30287057e-02]\n",
      " [ 1.07712085e-01]\n",
      " [ 6.12102079e-02]\n",
      " [-6.86491400e-02]\n",
      " [-5.37215948e-02]\n",
      " [ 4.08366825e-02]\n",
      " [-1.10610984e-01]\n",
      " [-6.11647777e-02]\n",
      " [ 1.07756950e-02]\n",
      " [-4.21604685e-02]\n",
      " [-6.91844726e-02]\n",
      " [-5.41951583e-02]\n",
      " [-1.39065974e-01]\n",
      " [-4.07463235e-01]\n",
      " [-4.69685361e-01]\n",
      " [-2.24348583e-01]\n",
      " [-2.24616250e-01]\n",
      " [-3.82961472e-01]\n",
      " [-3.91310602e-01]\n",
      " [-4.29175092e-01]\n",
      " [-4.77560928e-01]\n",
      " [-5.13160550e-01]\n",
      " [-4.91829603e-01]\n",
      " [-4.36566801e-01]\n",
      " [-2.43373482e-01]\n",
      " [-2.83286649e-01]\n",
      " [-2.56365594e-01]\n",
      " [-5.96926129e-02]\n",
      " [ 5.52391899e-02]\n",
      " [ 8.73385593e-02]\n",
      " [-3.83719605e-02]\n",
      " [-2.88183316e-02]\n",
      " [-5.58944410e-04]\n",
      " [-1.73419917e-01]\n",
      " [-1.55939247e-01]\n",
      " [-2.10100499e-01]\n",
      " [-1.44934043e-01]\n",
      " [-1.48012206e-01]\n",
      " [-1.32477264e-01]\n",
      " [-9.63423099e-02]\n",
      " [-9.01036256e-02]\n",
      " [ 6.49303381e-03]\n",
      " [-8.87719026e-03]\n",
      " [ 7.66216114e-02]\n",
      " [-4.38488253e-02]\n",
      " [-2.50092339e-02]\n",
      " [ 5.23257448e-02]\n",
      " [ 3.12940093e-01]\n",
      " [ 1.85891242e-01]\n",
      " [ 9.34948849e-02]\n",
      " [-9.22449562e-02]\n",
      " [ 5.53829493e-01]\n",
      " [ 4.24176042e-01]\n",
      " [ 2.23343938e-01]\n",
      " [ 3.45842462e-01]\n",
      " [ 2.58171445e-01]\n",
      " [ 2.72512183e-01]\n",
      " [ 2.34277078e-01]\n",
      " [ 1.71200478e-01]\n",
      " [ 1.52515310e-01]\n",
      " [ 1.56972984e-01]\n",
      " [ 2.02445375e-01]\n",
      " [ 3.67616088e-01]\n",
      " [ 2.76681601e-01]\n",
      " [ 9.32581031e-02]\n",
      " [ 1.49447442e-01]\n",
      " [ 1.31400555e-01]\n",
      " [ 1.54996371e-01]\n",
      " [ 1.67411970e-01]\n",
      " [ 1.01699887e-01]\n",
      " [-9.67849889e-02]\n",
      " [-9.43348125e-02]\n",
      " [-2.60123217e-01]\n",
      " [-1.39395409e-01]\n",
      " [-1.40280767e-01]\n",
      " [-2.09215141e-01]\n",
      " [-2.77696541e-01]\n",
      " [-2.07320887e-01]\n",
      " [-2.55572890e-01]\n",
      " [-3.12184318e-01]\n",
      " [-4.71126642e-01]\n",
      " [-4.25211572e-01]\n",
      " [-4.03334997e-01]\n",
      " [-3.24033700e-01]\n",
      " [-3.28769335e-01]\n",
      " [-3.82590857e-01]\n",
      " [-3.80130385e-01]\n",
      " [-4.80330245e-01]\n",
      " [-6.97963559e-01]\n",
      " [-7.76183895e-01]\n",
      " [-7.02627130e-01]\n",
      " [-7.19047429e-01]\n",
      " [-6.94895691e-01]\n",
      " [-7.94416090e-01]\n",
      " [-8.46528665e-01]\n",
      " [-7.99203199e-01]\n",
      " [-7.90226083e-01]\n",
      " [-9.17120511e-01]\n",
      " [-6.84539063e-01]\n",
      " [-6.75016319e-01]\n",
      " [-7.53545501e-01]\n",
      " [-7.99295853e-01]\n",
      " [-7.64396282e-01]\n",
      " [-7.93468963e-01]\n",
      " [-8.16673575e-01]\n",
      " [-7.77007484e-01]\n",
      " [-7.56016267e-01]\n",
      " [-6.39931440e-01]\n",
      " [-6.17982801e-01]\n",
      " [-5.76443046e-01]\n",
      " [-5.83000871e-01]\n",
      " [-6.06833469e-01]\n",
      " [-7.46720010e-01]\n",
      " [-8.12112952e-01]\n",
      " [-7.75586793e-01]\n",
      " [-7.83997693e-01]\n",
      " [-7.57859047e-01]\n",
      " [-7.43775680e-01]\n",
      " [-7.88197995e-01]\n",
      " [-8.01426889e-01]\n",
      " [-8.98023548e-01]\n",
      " [-8.89859725e-01]\n",
      " [-9.43290042e-01]\n",
      " [-9.74884963e-01]\n",
      " [-9.84037093e-01]\n",
      " [-1.06336927e+00]\n",
      " [-9.60008893e-01]\n",
      " [-8.75045424e-01]\n",
      " [-7.68071547e-01]\n",
      " [-6.49618902e-01]\n",
      " [-6.33620692e-01]\n",
      " [-7.15228037e-01]\n",
      " [-7.77316330e-01]\n",
      " [-8.35585230e-01]\n",
      " [-8.67797843e-01]\n",
      " [-9.41426673e-01]\n",
      " [-1.07077128e+00]\n",
      " [-1.17112556e+00]\n",
      " [-1.07877038e+00]\n",
      " [-1.12061898e+00]\n",
      " [-1.06656068e+00]\n",
      " [-1.05894248e+00]\n",
      " [-1.08511202e+00]\n",
      " [-1.08090142e+00]\n",
      " [-1.06648862e+00]\n",
      " [-1.10339568e+00]\n",
      " [-1.07936748e+00]\n",
      " [-1.07086393e+00]\n",
      " [-1.12641499e+00]\n",
      " [-1.12326476e+00]\n",
      " [-1.08060287e+00]]\n"
     ]
    }
   ],
   "source": [
    "\n",
    "StdS_X_test = StandardScaler()\n",
    "StdS_y_test = StandardScaler()\n",
    "\n",
    "X_l_test = StdS_X_test.fit_transform(x_test)\n",
    "y_p_test = StdS_y_test.fit_transform(y_test.reshape(-1,1))\n",
    "\n",
    "print(\"Scaled X_l_test:\")\n",
    "print(X_l_test)\n",
    "print(\"Scaled y_p_test:\")\n",
    "print(y_p_test)"
   ],
   "metadata": {
    "collapsed": false,
    "pycharm": {
     "name": "#%%\n"
    }
   }
  },
  {
   "cell_type": "code",
   "execution_count": 1774,
   "outputs": [
    {
     "name": "stderr",
     "output_type": "stream",
     "text": [
      "C:\\Users\\nikol\\Desktop\\SIAP - projekat\\SIAP_2022\\venv\\lib\\site-packages\\sklearn\\utils\\validation.py:993: DataConversionWarning: A column-vector y was passed when a 1d array was expected. Please change the shape of y to (n_samples, ), for example using ravel().\n",
      "  y = column_or_1d(y, warn=True)\n"
     ]
    },
    {
     "data": {
      "text/plain": "SVR(C=0.0185, epsilon=0.0002, kernel='sigmoid')"
     },
     "execution_count": 1774,
     "metadata": {},
     "output_type": "execute_result"
    }
   ],
   "source": [
    "from sklearn.svm import SVR\n",
    "svr_sigmoid = SVR(kernel='sigmoid', C = 0.0185, epsilon=0.0002)\n",
    "svr_sigmoid.fit(X_l, y_p)"
   ],
   "metadata": {
    "collapsed": false,
    "pycharm": {
     "name": "#%%\n"
    }
   }
  },
  {
   "cell_type": "code",
   "execution_count": 1775,
   "outputs": [
    {
     "data": {
      "text/plain": "LinearRegression()"
     },
     "execution_count": 1775,
     "metadata": {},
     "output_type": "execute_result"
    }
   ],
   "source": [
    "from sklearn.linear_model import LinearRegression\n",
    "# Create and train the Linear Regression  Model\n",
    "lr = LinearRegression()\n",
    "# Train the model\n",
    "lr.fit(X_l, y_p)"
   ],
   "metadata": {
    "collapsed": false,
    "pycharm": {
     "name": "#%%\n"
    }
   }
  },
  {
   "cell_type": "code",
   "execution_count": 1776,
   "outputs": [
    {
     "name": "stdout",
     "output_type": "stream",
     "text": [
      "lr confidence:  0.7745555395734195\n",
      "svr_linear confidence 0.48734196452574097\n"
     ]
    }
   ],
   "source": [
    "# Testing Model: Score returns the coefficient of determination R^2 of the prediction.\n",
    "# The best possible score is 1.0\n",
    "lr_confidence = lr.score(X_l_test, y_p_test)\n",
    "print(\"lr confidence: \", lr_confidence)\n",
    "\n",
    "svr_linear_confidence = svr_sigmoid.score(X_l_test, y_p_test)\n",
    "print('svr_linear confidence', svr_linear_confidence)"
   ],
   "metadata": {
    "collapsed": false,
    "pycharm": {
     "name": "#%%\n"
    }
   }
  },
  {
   "cell_type": "code",
   "execution_count": 1777,
   "outputs": [
    {
     "name": "stdout",
     "output_type": "stream",
     "text": [
      "[-6.81050571e-02 -2.19698713e-01 -1.15511294e-01  4.65672982e-02\n",
      "  7.43209132e-02  1.02139209e-01 -8.42283609e-02 -1.01472993e-01\n",
      "  1.68364149e-02 -3.57005236e-03 -6.08126493e-02 -2.10075269e-01\n",
      " -1.00645388e-01 -4.24815275e-02  9.76594677e-02  2.97554186e-01\n",
      "  7.03205161e-01  8.19858916e-01  7.28803944e-01  7.02433421e-01\n",
      "  7.59525586e-01  7.46181040e-01  6.51246537e-01  4.76193620e-01\n",
      "  4.27777879e-01  1.17203126e-01  1.83198847e-02  2.08384557e-02\n",
      "  1.75275149e-01  1.92416008e-01  1.49099363e-01  2.97781090e-01\n",
      "  6.60544747e-01  7.46145173e-01  1.24045583e+00  1.89697146e+00\n",
      "  1.99590256e+00  1.97745109e+00  2.21917163e+00  2.10235467e+00\n",
      "  1.91932022e+00  1.72520121e+00  1.45740306e+00  1.27820329e+00\n",
      "  1.79552366e+00  1.81465784e+00  1.61896202e+00  1.61956888e+00\n",
      "  1.60901700e+00  1.43801520e+00  9.74065260e-01  1.01148508e+00\n",
      "  7.65388721e-01  4.77912481e-01  7.29701688e-01  1.07583120e+00\n",
      "  9.12990196e-01  7.59664777e-01  6.56343372e-01  4.63075591e-01\n",
      "  4.07901526e-01  5.58786577e-01  9.90675142e-01  1.48669983e+00\n",
      "  1.61542060e+00  1.46240495e+00  1.36753085e+00  1.16640537e+00\n",
      "  1.09806572e+00  8.49882569e-01  8.51975855e-01  8.68433070e-01\n",
      "  7.56558610e-01  6.91880653e-01  6.28666252e-01  8.18999704e-01\n",
      "  7.74634672e-01  5.72984667e-01  4.79529569e-01  4.79658220e-01\n",
      "  4.10715813e-01  3.96697586e-01  2.44582054e-01  4.62044500e-02\n",
      "  1.19819705e-01  1.92309807e-01  4.22882459e-01  1.54139450e-01\n",
      "  2.16265573e-01  3.04646982e-01  2.70900967e-01  1.56398622e-01\n",
      "  2.76260076e-01  2.17479546e-01  2.26892355e-01  1.47954079e-01\n",
      "  3.58983429e-02  7.07975832e-03  3.56382058e-03 -6.50390460e-02\n",
      " -9.32447724e-02 -7.07687206e-02 -1.50467072e-01 -1.59119543e-01\n",
      " -1.94457789e-01 -2.38708797e-01 -2.63298372e-01 -3.28889421e-01\n",
      " -3.01995633e-01 -2.82606306e-01 -3.42072431e-01 -3.84433448e-01\n",
      " -2.47506986e-01 -2.44920841e-01 -2.96526592e-01 -2.53814676e-01\n",
      " -2.70690519e-01 -5.68985573e-02 -1.82437520e-01 -1.80035202e-01\n",
      " -2.18607143e-01 -2.11209927e-01 -1.58236004e-01 -1.78861775e-01\n",
      " -2.17590748e-01 -2.65173504e-01 -2.89095185e-01 -2.74048550e-01\n",
      " -2.23485792e-01  9.62614218e-02  5.19386108e-01  2.23315571e-01\n",
      "  2.73692979e-01  4.88548099e-01  5.17951262e-01  5.03621458e-01\n",
      "  6.77476002e-01  9.17509642e-01  1.09614838e+00  9.65255693e-01\n",
      "  8.02838589e-01  7.68501866e-01  8.90642626e-01  8.72349779e-01\n",
      "  7.48809039e-01  7.74045201e-01  7.08797381e-01  5.96667708e-01\n",
      "  5.80480224e-01  5.31792704e-01  6.22009624e-01  5.56652412e-01\n",
      "  5.24525616e-01  5.07590869e-01  5.70150871e-01  7.39012504e-01\n",
      "  7.14920466e-01  6.66419793e-01  6.86917939e-01  7.25847160e-01\n",
      "  5.70220896e-01  4.12359717e-01  3.93638307e-01  3.41770524e-01\n",
      "  2.83404597e-01  2.97595068e-01  2.86130987e-01  2.51337090e-01\n",
      "  2.72775408e-01  2.74592153e-01  3.04371248e-01  2.14624401e-01\n",
      "  1.58080858e-01  7.41130575e-02  2.25304691e-02  3.91738940e-02\n",
      "  1.52222672e-01  6.44824950e-02 -1.94475605e-02 -1.03802017e-01\n",
      " -9.42874499e-02 -1.32944530e-01 -1.25082250e-01 -9.11789887e-02\n",
      " -2.38113090e-02  5.66045730e-02  6.33523160e-02  1.51969543e-01\n",
      "  3.38603213e-01  4.30013180e-01  3.56731835e-01  3.12601717e-01\n",
      "  2.89511173e-01  2.37220576e-01  1.78292749e-01  1.47251522e-01\n",
      "  1.46711756e-01  2.14168033e-01  2.18593298e-01  2.59891441e-01\n",
      "  2.15611547e-01  3.93115878e-01  3.30776941e-01  3.52906097e-01\n",
      "  3.65312846e-01  2.83785435e-01  3.06210376e-01  5.15043487e-01\n",
      "  5.80986752e-01  5.41773696e-01  4.84188714e-01  7.72890712e-01\n",
      "  8.09919304e-01  6.95608313e-01  5.59536748e-01  6.01913009e-01\n",
      "  6.04622741e-01  6.00560785e-01  5.47180143e-01  5.22676385e-01\n",
      "  4.94807576e-01  5.12979035e-01  6.49239444e-01  6.23400484e-01\n",
      "  4.92811223e-01  5.59864426e-01  5.27211865e-01  4.16455614e-01\n",
      "  4.24921012e-01  4.35897217e-01  3.68475971e-01  3.21099143e-01\n",
      "  3.09362604e-01  2.39460711e-01  2.97428553e-01  3.11659274e-01\n",
      "  2.62001230e-01  2.73044238e-01  2.72764753e-01  2.11898939e-01\n",
      "  1.86875404e-01  1.84146276e-01  1.56881570e-01  2.28905459e-01\n",
      "  2.73988285e-01  2.04771756e-01  2.08211051e-01  1.64479522e-01\n",
      "  6.64686876e-02 -1.24500274e-04 -2.43813053e-02  1.15661703e-02\n",
      " -5.11048688e-02 -4.04258997e-02 -8.38361998e-02 -1.04111617e-01\n",
      " -5.84920192e-02 -1.01706703e-01  1.79359729e-01  1.34698965e-01\n",
      "  5.23912695e-02 -2.08770894e-02 -3.89478919e-02 -4.23228640e-02\n",
      " -7.38543533e-02 -5.49654647e-02 -2.06199905e-02  5.10245316e-03\n",
      "  8.39923280e-02  1.19933289e-01  9.20446566e-02  9.94100077e-02\n",
      "  4.34172486e-02 -2.02858974e-03 -5.14006896e-02 -3.06977579e-02\n",
      " -1.99263746e-02 -1.51931317e-02 -1.42466000e-02 -4.78800050e-02\n",
      " -6.90493893e-02 -1.00129473e-01 -9.36980370e-02 -1.64021462e-01\n",
      " -1.31568020e-01 -1.15689181e-01 -9.06392437e-02 -8.10225425e-02\n",
      "  8.28633970e-03  1.92918007e-01  1.76179592e-01  8.41780330e-02\n",
      "  2.45018503e-02 -2.44597613e-02 -4.48743741e-02 -6.61745812e-02\n",
      " -1.13759652e-01 -1.68761080e-01 -1.91234550e-01 -1.79393384e-01\n",
      " -1.55501016e-01 -1.09112211e-01 -1.31404380e-01 -1.49564218e-01\n",
      " -1.49919451e-01 -1.62454990e-01 -1.81229823e-01 -1.39709777e-01\n",
      " -1.40737903e-01 -1.87392423e-01]\n"
     ]
    }
   ],
   "source": [
    "svr_prediction = svr_sigmoid.predict(X_l_test)\n",
    "print(svr_prediction)"
   ],
   "metadata": {
    "collapsed": false,
    "pycharm": {
     "name": "#%%\n"
    }
   }
  },
  {
   "cell_type": "code",
   "execution_count": 1778,
   "outputs": [
    {
     "name": "stdout",
     "output_type": "stream",
     "text": [
      "[[0.24003485]\n",
      " [0.22530967]\n",
      " [0.23543   ]\n",
      " [0.25117365]\n",
      " [0.25386952]\n",
      " [0.25657167]\n",
      " [0.2384687 ]\n",
      " [0.23679363]\n",
      " [0.24828571]\n",
      " [0.24630351]\n",
      " [0.2407432 ]\n",
      " [0.22624445]\n",
      " [0.23687402]\n",
      " [0.24252381]\n",
      " [0.25613653]\n",
      " [0.27555348]\n",
      " [0.31495673]\n",
      " [0.326288  ]\n",
      " [0.31744329]\n",
      " [0.31488177]\n",
      " [0.32042747]\n",
      " [0.31913123]\n",
      " [0.30990969]\n",
      " [0.29290577]\n",
      " [0.28820287]\n",
      " [0.25803492]\n",
      " [0.24842981]\n",
      " [0.24867445]\n",
      " [0.2636758 ]\n",
      " [0.26534079]\n",
      " [0.26113319]\n",
      " [0.27557552]\n",
      " [0.31081288]\n",
      " [0.31912775]\n",
      " [0.36714304]\n",
      " [0.43091426]\n",
      " [0.44052401]\n",
      " [0.43873171]\n",
      " [0.46221145]\n",
      " [0.45086433]\n",
      " [0.43308512]\n",
      " [0.4142292 ]\n",
      " [0.3882164 ]\n",
      " [0.37080968]\n",
      " [0.42106004]\n",
      " [0.42291865]\n",
      " [0.40390957]\n",
      " [0.40396852]\n",
      " [0.40294355]\n",
      " [0.38633314]\n",
      " [0.34126696]\n",
      " [0.34490177]\n",
      " [0.32099699]\n",
      " [0.29307274]\n",
      " [0.3175305 ]\n",
      " [0.35115209]\n",
      " [0.33533439]\n",
      " [0.32044099]\n",
      " [0.31040477]\n",
      " [0.29163154]\n",
      " [0.28627216]\n",
      " [0.30092851]\n",
      " [0.34288038]\n",
      " [0.39106217]\n",
      " [0.40356557]\n",
      " [0.38870226]\n",
      " [0.37948658]\n",
      " [0.35995009]\n",
      " [0.35331186]\n",
      " [0.32920437]\n",
      " [0.3294077 ]\n",
      " [0.33100629]\n",
      " [0.32013927]\n",
      " [0.31385672]\n",
      " [0.30771633]\n",
      " [0.32620454]\n",
      " [0.3218951 ]\n",
      " [0.30230765]\n",
      " [0.29322981]\n",
      " [0.29324231]\n",
      " [0.28654553]\n",
      " [0.28518386]\n",
      " [0.27040798]\n",
      " [0.2511384 ]\n",
      " [0.25828908]\n",
      " [0.26533047]\n",
      " [0.28772735]\n",
      " [0.26162276]\n",
      " [0.26765744]\n",
      " [0.27624244]\n",
      " [0.27296449]\n",
      " [0.26184221]\n",
      " [0.27348505]\n",
      " [0.26777536]\n",
      " [0.26868968]\n",
      " [0.26102194]\n",
      " [0.25013731]\n",
      " [0.24733799]\n",
      " [0.24699647]\n",
      " [0.24033267]\n",
      " [0.23759288]\n",
      " [0.23977611]\n",
      " [0.23203454]\n",
      " [0.23119408]\n",
      " [0.22776147]\n",
      " [0.22346311]\n",
      " [0.22107458]\n",
      " [0.21470334]\n",
      " [0.21731569]\n",
      " [0.21919909]\n",
      " [0.21342279]\n",
      " [0.20930802]\n",
      " [0.22260849]\n",
      " [0.2228597 ]\n",
      " [0.21784693]\n",
      " [0.22199579]\n",
      " [0.22035654]\n",
      " [0.2411234 ]\n",
      " [0.22892907]\n",
      " [0.22916242]\n",
      " [0.2254157 ]\n",
      " [0.22613423]\n",
      " [0.2312799 ]\n",
      " [0.2292764 ]\n",
      " [0.22551443]\n",
      " [0.22089244]\n",
      " [0.21856878]\n",
      " [0.22003035]\n",
      " [0.22494181]\n",
      " [0.25600073]\n",
      " [0.29710131]\n",
      " [0.26834224]\n",
      " [0.2732357 ]\n",
      " [0.29410584]\n",
      " [0.29696194]\n",
      " [0.29557   ]\n",
      " [0.31245751]\n",
      " [0.33577339]\n",
      " [0.35312561]\n",
      " [0.34041124]\n",
      " [0.32463471]\n",
      " [0.32129939]\n",
      " [0.33316363]\n",
      " [0.33138674]\n",
      " [0.31938651]\n",
      " [0.32183784]\n",
      " [0.31549994]\n",
      " [0.30460813]\n",
      " [0.30303574]\n",
      " [0.29830644]\n",
      " [0.30706974]\n",
      " [0.30072121]\n",
      " [0.29760054]\n",
      " [0.29595557]\n",
      " [0.30203239]\n",
      " [0.31843491]\n",
      " [0.31609471]\n",
      " [0.31138356]\n",
      " [0.31337466]\n",
      " [0.31715608]\n",
      " [0.30203919]\n",
      " [0.28670521]\n",
      " [0.28488669]\n",
      " [0.27984847]\n",
      " [0.27417904]\n",
      " [0.27555745]\n",
      " [0.27444387]\n",
      " [0.27106414]\n",
      " [0.27314657]\n",
      " [0.27332304]\n",
      " [0.27621566]\n",
      " [0.26749802]\n",
      " [0.26200561]\n",
      " [0.25384933]\n",
      " [0.24883881]\n",
      " [0.25045548]\n",
      " [0.26143657]\n",
      " [0.25291386]\n",
      " [0.24476124]\n",
      " [0.23656739]\n",
      " [0.2374916 ]\n",
      " [0.23373661]\n",
      " [0.23450032]\n",
      " [0.23779354]\n",
      " [0.24433736]\n",
      " [0.25214863]\n",
      " [0.25280408]\n",
      " [0.26141199]\n",
      " [0.27954081]\n",
      " [0.28842   ]\n",
      " [0.28130175]\n",
      " [0.27701513]\n",
      " [0.27477221]\n",
      " [0.26969292]\n",
      " [0.26396891]\n",
      " [0.2609537 ]\n",
      " [0.26090127]\n",
      " [0.26745369]\n",
      " [0.26788354]\n",
      " [0.27189507]\n",
      " [0.26759391]\n",
      " [0.28483594]\n",
      " [0.2787806 ]\n",
      " [0.28093013]\n",
      " [0.28213527]\n",
      " [0.27421604]\n",
      " [0.2763943 ]\n",
      " [0.29667949]\n",
      " [0.30308494]\n",
      " [0.29927595]\n",
      " [0.29368238]\n",
      " [0.3217257 ]\n",
      " [0.32532251]\n",
      " [0.31421881]\n",
      " [0.30100138]\n",
      " [0.30511763]\n",
      " [0.30538085]\n",
      " [0.30498628]\n",
      " [0.29980111]\n",
      " [0.29742092]\n",
      " [0.29471386]\n",
      " [0.29647896]\n",
      " [0.30971473]\n",
      " [0.30720484]\n",
      " [0.29451994]\n",
      " [0.30103321]\n",
      " [0.29786147]\n",
      " [0.28710307]\n",
      " [0.28792536]\n",
      " [0.28899155]\n",
      " [0.28244253]\n",
      " [0.27784054]\n",
      " [0.2767005 ]\n",
      " [0.26991052]\n",
      " [0.27554127]\n",
      " [0.27692359]\n",
      " [0.27210001]\n",
      " [0.27317268]\n",
      " [0.27314553]\n",
      " [0.26723328]\n",
      " [0.2648026 ]\n",
      " [0.2645375 ]\n",
      " [0.26188912]\n",
      " [0.26888522]\n",
      " [0.27326438]\n",
      " [0.26654098]\n",
      " [0.26687505]\n",
      " [0.26262715]\n",
      " [0.25310679]\n",
      " [0.2466382 ]\n",
      " [0.24428199]\n",
      " [0.24777378]\n",
      " [0.24168618]\n",
      " [0.24272349]\n",
      " [0.23850679]\n",
      " [0.23653732]\n",
      " [0.24096862]\n",
      " [0.23677093]\n",
      " [0.26407256]\n",
      " [0.25973439]\n",
      " [0.25173936]\n",
      " [0.24462238]\n",
      " [0.24286706]\n",
      " [0.24253923]\n",
      " [0.23947639]\n",
      " [0.24131118]\n",
      " [0.24464735]\n",
      " [0.24714592]\n",
      " [0.25480896]\n",
      " [0.25830012]\n",
      " [0.25559113]\n",
      " [0.25630657]\n",
      " [0.25086767]\n",
      " [0.24645324]\n",
      " [0.24165744]\n",
      " [0.24366844]\n",
      " [0.24471473]\n",
      " [0.2451745 ]\n",
      " [0.24526644]\n",
      " [0.24199943]\n",
      " [0.23994312]\n",
      " [0.23692413]\n",
      " [0.23754885]\n",
      " [0.23071793]\n",
      " [0.23387032]\n",
      " [0.23541272]\n",
      " [0.23784597]\n",
      " [0.2387801 ]\n",
      " [0.24745519]\n",
      " [0.26538955]\n",
      " [0.26376365]\n",
      " [0.254827  ]\n",
      " [0.2490303 ]\n",
      " [0.24427437]\n",
      " [0.24229138]\n",
      " [0.24022237]\n",
      " [0.23560015]\n",
      " [0.23025754]\n",
      " [0.22807456]\n",
      " [0.22922476]\n",
      " [0.23154557]\n",
      " [0.23605158]\n",
      " [0.23388622]\n",
      " [0.23212224]\n",
      " [0.23208774]\n",
      " [0.23087009]\n",
      " [0.22904638]\n",
      " [0.23307946]\n",
      " [0.2329796 ]\n",
      " [0.22844777]]\n"
     ]
    }
   ],
   "source": [
    "final_prediction =svr_prediction.reshape(-1,1)\n",
    "final_prediction = StdS_y_test.inverse_transform(final_prediction)\n",
    "print(final_prediction)"
   ],
   "metadata": {
    "collapsed": false,
    "pycharm": {
     "name": "#%%\n"
    }
   }
  },
  {
   "cell_type": "code",
   "execution_count": 1779,
   "outputs": [
    {
     "name": "stdout",
     "output_type": "stream",
     "text": [
      "[0.061986 0.057664 0.055804 0.057404 0.059696 0.064458 0.059028 0.061464\n",
      " 0.061684 0.063845 0.074649 0.070767 0.093445 0.121517 0.182207 0.36587\n",
      " 0.284173 0.320475 0.407318 0.3195   0.306925 0.260967 0.248509 0.270212\n",
      " 0.251111 0.270674 0.272188 0.323682 0.305169 0.337561 0.392987 0.376046\n",
      " 0.441707 0.541334 0.657633 0.580804 0.684777 0.636439 0.57007  0.449964\n",
      " 0.495231 0.385376 0.490374 0.559604 0.507972 0.514895 0.487892 0.476115\n",
      " 0.333123 0.400194 0.359382 0.342371 0.308071 0.366162 0.346302 0.353693\n",
      " 0.332945 0.311205 0.30311  0.302224 0.32581  0.370077 0.423374 0.399963\n",
      " 0.376323 0.372177 0.371807 0.33105  0.327687 0.343331 0.326351 0.319359\n",
      " 0.312084 0.324382 0.332085 0.328381 0.307761 0.306496 0.293472 0.287356\n",
      " 0.2809   0.178691 0.191031 0.232174 0.262782 0.239153 0.244784 0.26445\n",
      " 0.256857 0.262769 0.254215 0.244549 0.245264 0.246411 0.246483 0.231614\n",
      " 0.234422 0.224126 0.207597 0.219864 0.21392  0.215856 0.208048 0.200003\n",
      " 0.197324 0.184888 0.172345 0.186125 0.182233 0.173556 0.170801 0.190349\n",
      " 0.191303 0.194764 0.197319 0.197864 0.204419 0.205899 0.205392 0.204619\n",
      " 0.208821 0.208314 0.204437 0.2036   0.195967 0.20149  0.200974 0.204688\n",
      " 0.260341 0.240045 0.256897 0.257325 0.265263 0.263921 0.286808 0.293113\n",
      " 0.341441 0.320715 0.299442 0.303739 0.317144 0.327491 0.316797 0.314963\n",
      " 0.317914 0.288739 0.292226 0.268909 0.294433 0.285629 0.281125 0.272125\n",
      " 0.278453 0.294401 0.295955 0.296273 0.299388 0.314527 0.308765 0.253744\n",
      " 0.257113 0.252596 0.239982 0.241432 0.250617 0.235906 0.240709 0.247697\n",
      " 0.242555 0.23993  0.241386 0.233142 0.207071 0.201027 0.224858 0.224832\n",
      " 0.209451 0.20864  0.204962 0.200262 0.196804 0.198876 0.204244 0.22301\n",
      " 0.219133 0.221748 0.240852 0.252016 0.255134 0.242923 0.243851 0.246596\n",
      " 0.229805 0.231503 0.226242 0.232572 0.232273 0.233782 0.237292 0.237898\n",
      " 0.247281 0.245788 0.254093 0.242391 0.244221 0.251733 0.277048 0.264707\n",
      " 0.255732 0.23769  0.300447 0.287853 0.268345 0.280244 0.271728 0.273121\n",
      " 0.269407 0.26328  0.261465 0.261898 0.266315 0.282359 0.273526 0.255709\n",
      " 0.261167 0.259414 0.261706 0.262912 0.256529 0.237249 0.237487 0.221383\n",
      " 0.23311  0.233024 0.226328 0.219676 0.226512 0.221825 0.216326 0.200887\n",
      " 0.205347 0.207472 0.215175 0.214715 0.209487 0.209726 0.199993 0.178853\n",
      " 0.171255 0.1784   0.176805 0.179151 0.169484 0.164422 0.169019 0.169891\n",
      " 0.157565 0.180157 0.181082 0.173454 0.16901  0.1724   0.169576 0.167322\n",
      " 0.171175 0.173214 0.18449  0.186622 0.190657 0.19002  0.187705 0.174117\n",
      " 0.167765 0.171313 0.170496 0.173035 0.174403 0.170088 0.168803 0.15942\n",
      " 0.160213 0.155023 0.151954 0.151065 0.143359 0.153399 0.161652 0.172043\n",
      " 0.183549 0.185103 0.177176 0.171145 0.165485 0.162356 0.155204 0.14264\n",
      " 0.132892 0.141863 0.137798 0.143049 0.143789 0.141247 0.141656 0.143056\n",
      " 0.139471 0.141805 0.142631 0.137235 0.137541 0.141685]\n"
     ]
    }
   ],
   "source": [
    "print(y_test)"
   ],
   "metadata": {
    "collapsed": false,
    "pycharm": {
     "name": "#%%\n"
    }
   }
  },
  {
   "cell_type": "code",
   "execution_count": 1780,
   "outputs": [
    {
     "name": "stdout",
     "output_type": "stream",
     "text": [
      "310\n",
      "310\n"
     ]
    }
   ],
   "source": [
    "print(len(final_prediction))\n",
    "print(len(y_test))"
   ],
   "metadata": {
    "collapsed": false,
    "pycharm": {
     "name": "#%%\n"
    }
   }
  },
  {
   "cell_type": "code",
   "execution_count": 1781,
   "outputs": [
    {
     "data": {
      "text/plain": "                  Date      Open      High       Low     Close  Adj Close  \\\n2017-11-09  2017-11-09  0.001207  0.001415  0.001181  0.001415   0.001415   \n2017-11-10  2017-11-10  0.001421  0.001431  0.001125  0.001163   0.001163   \n2017-11-11  2017-11-11  0.001146  0.001257  0.001141  0.001201   0.001201   \n2017-11-12  2017-11-12  0.001189  0.001210  0.001002  0.001038   0.001038   \n2017-11-13  2017-11-13  0.001046  0.001212  0.001019  0.001211   0.001211   \n...                ...       ...       ...       ...       ...        ...   \n2022-01-31  2022-01-31  0.139469  0.142264  0.136853  0.141805   0.141805   \n2022-02-01  2022-02-01  0.141805  0.144129  0.141125  0.142631   0.142631   \n2022-02-02  2022-02-02  0.142626  0.145253  0.136918  0.137235   0.137235   \n2022-02-03  2022-02-03  0.137213  0.138747  0.135565  0.137541   0.137541   \n2022-02-04  2022-02-04  0.137687  0.142551  0.137261  0.141685   0.141685   \n\n               Volume  twitter_followers  reddit_average_posts_48h  \\\n2017-11-09    6259550       1.652570e+05                     0.633   \n2017-11-10    4246520       1.653080e+05                     0.833   \n2017-11-11    2231080       1.653630e+05                     0.980   \n2017-11-12    3288960       1.654020e+05                     1.102   \n2017-11-13    2481270       1.654527e+05                     1.277   \n...               ...                ...                       ...   \n2022-01-31  412307174       2.971374e+06                     9.000   \n2022-02-01  409432267       2.977053e+06                     8.889   \n2022-02-02  483194691       2.982243e+06                     8.167   \n2022-02-03  383506507       2.987430e+06                     6.455   \n2022-02-04  454621984       2.991859e+06                    10.375   \n\n            reddit_average_comments_48h  ...  total_issues  closed_issues  \\\n2017-11-09                        9.490  ...    395.000000          336.0   \n2017-11-10                       11.958  ...    395.166667          336.0   \n2017-11-11                       13.224  ...    395.333333          336.0   \n2017-11-12                       14.469  ...    395.500000          336.0   \n2017-11-13                       15.383  ...    395.666667          336.0   \n...                                 ...  ...           ...            ...   \n2022-01-31                      487.909  ...   1061.000000          956.0   \n2022-02-01                      500.778  ...   1062.000000          957.0   \n2022-02-02                      514.167  ...   1062.000000          957.0   \n2022-02-03                      404.000  ...   1062.000000          957.0   \n2022-02-04                      822.000  ...   1062.000000          957.0   \n\n            pull_requests_merged  pull_request_contributors  \\\n2017-11-09                 732.0                       67.0   \n2017-11-10                 732.0                       67.0   \n2017-11-11                 732.0                       67.0   \n2017-11-12                 732.0                       67.0   \n2017-11-13                 732.0                       67.0   \n...                          ...                        ...   \n2022-01-31                1065.0                      129.0   \n2022-02-01                1065.0                      129.0   \n2022-02-02                1065.0                      129.0   \n2022-02-03                1065.0                      129.0   \n2022-02-04                1065.0                      129.0   \n\n            commit_count_4_weeks  dogecoin_unscaled  dogecoin_monthly  scale  \\\n2017-11-09                   0.0                 57               1.0   0.01   \n2017-11-10                   0.0                 24               1.0   0.01   \n2017-11-11                   0.0                 23               1.0   0.01   \n2017-11-12                   0.0                 23               1.0   0.01   \n2017-11-13                   0.0                 41               1.0   0.01   \n...                          ...                ...               ...    ...   \n2022-01-31                   0.0                 23               4.0   0.04   \n2022-02-01                   0.0                 93               4.0   0.04   \n2022-02-02                   0.0                 87               4.0   0.04   \n2022-02-03                   0.0                 82               4.0   0.04   \n2022-02-04                   0.0                100               4.0   0.04   \n\n            dogecoin  1_day_price_forecast  \n2017-11-09      0.57              0.001163  \n2017-11-10      0.24              0.001201  \n2017-11-11      0.23              0.001038  \n2017-11-12      0.23              0.001211  \n2017-11-13      0.41              0.001184  \n...              ...                   ...  \n2022-01-31      0.92              0.142631  \n2022-02-01      3.72              0.137235  \n2022-02-02      3.48              0.137541  \n2022-02-03      3.28              0.141685  \n2022-02-04      4.00                   NaN  \n\n[1549 rows x 25 columns]",
      "text/html": "<div>\n<style scoped>\n    .dataframe tbody tr th:only-of-type {\n        vertical-align: middle;\n    }\n\n    .dataframe tbody tr th {\n        vertical-align: top;\n    }\n\n    .dataframe thead th {\n        text-align: right;\n    }\n</style>\n<table border=\"1\" class=\"dataframe\">\n  <thead>\n    <tr style=\"text-align: right;\">\n      <th></th>\n      <th>Date</th>\n      <th>Open</th>\n      <th>High</th>\n      <th>Low</th>\n      <th>Close</th>\n      <th>Adj Close</th>\n      <th>Volume</th>\n      <th>twitter_followers</th>\n      <th>reddit_average_posts_48h</th>\n      <th>reddit_average_comments_48h</th>\n      <th>...</th>\n      <th>total_issues</th>\n      <th>closed_issues</th>\n      <th>pull_requests_merged</th>\n      <th>pull_request_contributors</th>\n      <th>commit_count_4_weeks</th>\n      <th>dogecoin_unscaled</th>\n      <th>dogecoin_monthly</th>\n      <th>scale</th>\n      <th>dogecoin</th>\n      <th>1_day_price_forecast</th>\n    </tr>\n  </thead>\n  <tbody>\n    <tr>\n      <th>2017-11-09</th>\n      <td>2017-11-09</td>\n      <td>0.001207</td>\n      <td>0.001415</td>\n      <td>0.001181</td>\n      <td>0.001415</td>\n      <td>0.001415</td>\n      <td>6259550</td>\n      <td>1.652570e+05</td>\n      <td>0.633</td>\n      <td>9.490</td>\n      <td>...</td>\n      <td>395.000000</td>\n      <td>336.0</td>\n      <td>732.0</td>\n      <td>67.0</td>\n      <td>0.0</td>\n      <td>57</td>\n      <td>1.0</td>\n      <td>0.01</td>\n      <td>0.57</td>\n      <td>0.001163</td>\n    </tr>\n    <tr>\n      <th>2017-11-10</th>\n      <td>2017-11-10</td>\n      <td>0.001421</td>\n      <td>0.001431</td>\n      <td>0.001125</td>\n      <td>0.001163</td>\n      <td>0.001163</td>\n      <td>4246520</td>\n      <td>1.653080e+05</td>\n      <td>0.833</td>\n      <td>11.958</td>\n      <td>...</td>\n      <td>395.166667</td>\n      <td>336.0</td>\n      <td>732.0</td>\n      <td>67.0</td>\n      <td>0.0</td>\n      <td>24</td>\n      <td>1.0</td>\n      <td>0.01</td>\n      <td>0.24</td>\n      <td>0.001201</td>\n    </tr>\n    <tr>\n      <th>2017-11-11</th>\n      <td>2017-11-11</td>\n      <td>0.001146</td>\n      <td>0.001257</td>\n      <td>0.001141</td>\n      <td>0.001201</td>\n      <td>0.001201</td>\n      <td>2231080</td>\n      <td>1.653630e+05</td>\n      <td>0.980</td>\n      <td>13.224</td>\n      <td>...</td>\n      <td>395.333333</td>\n      <td>336.0</td>\n      <td>732.0</td>\n      <td>67.0</td>\n      <td>0.0</td>\n      <td>23</td>\n      <td>1.0</td>\n      <td>0.01</td>\n      <td>0.23</td>\n      <td>0.001038</td>\n    </tr>\n    <tr>\n      <th>2017-11-12</th>\n      <td>2017-11-12</td>\n      <td>0.001189</td>\n      <td>0.001210</td>\n      <td>0.001002</td>\n      <td>0.001038</td>\n      <td>0.001038</td>\n      <td>3288960</td>\n      <td>1.654020e+05</td>\n      <td>1.102</td>\n      <td>14.469</td>\n      <td>...</td>\n      <td>395.500000</td>\n      <td>336.0</td>\n      <td>732.0</td>\n      <td>67.0</td>\n      <td>0.0</td>\n      <td>23</td>\n      <td>1.0</td>\n      <td>0.01</td>\n      <td>0.23</td>\n      <td>0.001211</td>\n    </tr>\n    <tr>\n      <th>2017-11-13</th>\n      <td>2017-11-13</td>\n      <td>0.001046</td>\n      <td>0.001212</td>\n      <td>0.001019</td>\n      <td>0.001211</td>\n      <td>0.001211</td>\n      <td>2481270</td>\n      <td>1.654527e+05</td>\n      <td>1.277</td>\n      <td>15.383</td>\n      <td>...</td>\n      <td>395.666667</td>\n      <td>336.0</td>\n      <td>732.0</td>\n      <td>67.0</td>\n      <td>0.0</td>\n      <td>41</td>\n      <td>1.0</td>\n      <td>0.01</td>\n      <td>0.41</td>\n      <td>0.001184</td>\n    </tr>\n    <tr>\n      <th>...</th>\n      <td>...</td>\n      <td>...</td>\n      <td>...</td>\n      <td>...</td>\n      <td>...</td>\n      <td>...</td>\n      <td>...</td>\n      <td>...</td>\n      <td>...</td>\n      <td>...</td>\n      <td>...</td>\n      <td>...</td>\n      <td>...</td>\n      <td>...</td>\n      <td>...</td>\n      <td>...</td>\n      <td>...</td>\n      <td>...</td>\n      <td>...</td>\n      <td>...</td>\n      <td>...</td>\n    </tr>\n    <tr>\n      <th>2022-01-31</th>\n      <td>2022-01-31</td>\n      <td>0.139469</td>\n      <td>0.142264</td>\n      <td>0.136853</td>\n      <td>0.141805</td>\n      <td>0.141805</td>\n      <td>412307174</td>\n      <td>2.971374e+06</td>\n      <td>9.000</td>\n      <td>487.909</td>\n      <td>...</td>\n      <td>1061.000000</td>\n      <td>956.0</td>\n      <td>1065.0</td>\n      <td>129.0</td>\n      <td>0.0</td>\n      <td>23</td>\n      <td>4.0</td>\n      <td>0.04</td>\n      <td>0.92</td>\n      <td>0.142631</td>\n    </tr>\n    <tr>\n      <th>2022-02-01</th>\n      <td>2022-02-01</td>\n      <td>0.141805</td>\n      <td>0.144129</td>\n      <td>0.141125</td>\n      <td>0.142631</td>\n      <td>0.142631</td>\n      <td>409432267</td>\n      <td>2.977053e+06</td>\n      <td>8.889</td>\n      <td>500.778</td>\n      <td>...</td>\n      <td>1062.000000</td>\n      <td>957.0</td>\n      <td>1065.0</td>\n      <td>129.0</td>\n      <td>0.0</td>\n      <td>93</td>\n      <td>4.0</td>\n      <td>0.04</td>\n      <td>3.72</td>\n      <td>0.137235</td>\n    </tr>\n    <tr>\n      <th>2022-02-02</th>\n      <td>2022-02-02</td>\n      <td>0.142626</td>\n      <td>0.145253</td>\n      <td>0.136918</td>\n      <td>0.137235</td>\n      <td>0.137235</td>\n      <td>483194691</td>\n      <td>2.982243e+06</td>\n      <td>8.167</td>\n      <td>514.167</td>\n      <td>...</td>\n      <td>1062.000000</td>\n      <td>957.0</td>\n      <td>1065.0</td>\n      <td>129.0</td>\n      <td>0.0</td>\n      <td>87</td>\n      <td>4.0</td>\n      <td>0.04</td>\n      <td>3.48</td>\n      <td>0.137541</td>\n    </tr>\n    <tr>\n      <th>2022-02-03</th>\n      <td>2022-02-03</td>\n      <td>0.137213</td>\n      <td>0.138747</td>\n      <td>0.135565</td>\n      <td>0.137541</td>\n      <td>0.137541</td>\n      <td>383506507</td>\n      <td>2.987430e+06</td>\n      <td>6.455</td>\n      <td>404.000</td>\n      <td>...</td>\n      <td>1062.000000</td>\n      <td>957.0</td>\n      <td>1065.0</td>\n      <td>129.0</td>\n      <td>0.0</td>\n      <td>82</td>\n      <td>4.0</td>\n      <td>0.04</td>\n      <td>3.28</td>\n      <td>0.141685</td>\n    </tr>\n    <tr>\n      <th>2022-02-04</th>\n      <td>2022-02-04</td>\n      <td>0.137687</td>\n      <td>0.142551</td>\n      <td>0.137261</td>\n      <td>0.141685</td>\n      <td>0.141685</td>\n      <td>454621984</td>\n      <td>2.991859e+06</td>\n      <td>10.375</td>\n      <td>822.000</td>\n      <td>...</td>\n      <td>1062.000000</td>\n      <td>957.0</td>\n      <td>1065.0</td>\n      <td>129.0</td>\n      <td>0.0</td>\n      <td>100</td>\n      <td>4.0</td>\n      <td>0.04</td>\n      <td>4.00</td>\n      <td>NaN</td>\n    </tr>\n  </tbody>\n</table>\n<p>1549 rows × 25 columns</p>\n</div>"
     },
     "execution_count": 1781,
     "metadata": {},
     "output_type": "execute_result"
    }
   ],
   "source": [
    "df"
   ],
   "metadata": {
    "collapsed": false,
    "pycharm": {
     "name": "#%%\n"
    }
   }
  },
  {
   "cell_type": "code",
   "execution_count": 1782,
   "outputs": [
    {
     "data": {
      "text/plain": "<Figure size 1224x360 with 1 Axes>",
      "image/png": "[encoded data removed]"
     },
     "metadata": {},
     "output_type": "display_data"
    }
   ],
   "source": [
    "plt.figure(figsize=(17,5))\n",
    "plt.plot(final_prediction, label='Prediction', lw=2, alpha =.7, color = \"green\")\n",
    "plt.plot(y_test, label='Actual', lw=2, alpha =.7, color = \"red\")\n",
    "plt.legend(['predicted', \"actual\"])\n",
    "plt.title('Prediction vs Actual')\n",
    "plt.ylabel('Price in USD')\n",
    "plt.xlabel('Time')\n",
    "\n",
    "plt.show()"
   ],
   "metadata": {
    "collapsed": false,
    "pycharm": {
     "name": "#%%\n"
    }
   }
  },
  {
   "cell_type": "code",
   "execution_count": 1783,
   "outputs": [
    {
     "name": "stdout",
     "output_type": "stream",
     "text": [
      "R^2\n",
      "0.48734196452574097\n",
      "\n",
      "MAE\n",
      "0.05262152735425412\n",
      "\n",
      "RMSE\n",
      "0.06954941693091701\n"
     ]
    }
   ],
   "source": [
    "from math import sqrt\n",
    "from sklearn.metrics import mean_absolute_error, mean_squared_error\n",
    "\n",
    "\n",
    "print(\"R^2\")\n",
    "print(svr_linear_confidence)\n",
    "\n",
    "print(\"\\nMAE\")\n",
    "print(mean_absolute_error(y_test,final_prediction))\n",
    "\n",
    "print(\"\\nRMSE\")\n",
    "print(sqrt(mean_squared_error(y_test, final_prediction)))"
   ],
   "metadata": {
    "collapsed": false,
    "pycharm": {
     "name": "#%%\n"
    }
   }
  }
 ],
 "metadata": {
  "kernelspec": {
   "display_name": "Python 3",
   "language": "python",
   "name": "python3"
  },
  "language_info": {
   "codemirror_mode": {
    "name": "ipython",
    "version": 2
   },
   "file_extension": ".py",
   "mimetype": "text/x-python",
   "name": "python",
   "nbconvert_exporter": "python",
   "pygments_lexer": "ipython2",
   "version": "2.7.6"
  }
 },
 "nbformat": 4,
 "nbformat_minor": 0
}