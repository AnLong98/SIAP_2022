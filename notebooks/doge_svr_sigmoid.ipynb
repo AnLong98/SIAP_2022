{
 "cells": [
  {
   "cell_type": "code",
   "execution_count": 1869,
   "metadata": {
    "collapsed": true
   },
   "outputs": [],
   "source": [
    "import pandas as pd\n",
    "import numpy as np\n",
    "from sklearn.svm import SVR\n",
    "import matplotlib.pyplot as plt\n",
    "plt.style.use('fivethirtyeight')"
   ]
  },
  {
   "cell_type": "code",
   "execution_count": 1870,
   "outputs": [
    {
     "data": {
      "text/plain": "                  Date      Open      High       Low     Close  Adj Close  \\\n2017-11-09  2017-11-09  0.001207  0.001415  0.001181  0.001415   0.001415   \n2017-11-10  2017-11-10  0.001421  0.001431  0.001125  0.001163   0.001163   \n2017-11-11  2017-11-11  0.001146  0.001257  0.001141  0.001201   0.001201   \n2017-11-12  2017-11-12  0.001189  0.001210  0.001002  0.001038   0.001038   \n2017-11-13  2017-11-13  0.001046  0.001212  0.001019  0.001211   0.001211   \n...                ...       ...       ...       ...       ...        ...   \n2022-01-31  2022-01-31  0.139469  0.142264  0.136853  0.141805   0.141805   \n2022-02-01  2022-02-01  0.141805  0.144129  0.141125  0.142631   0.142631   \n2022-02-02  2022-02-02  0.142626  0.145253  0.136918  0.137235   0.137235   \n2022-02-03  2022-02-03  0.137213  0.138747  0.135565  0.137541   0.137541   \n2022-02-04  2022-02-04  0.137687  0.142551  0.137261  0.141685   0.141685   \n\n               Volume  twitter_followers  reddit_average_posts_48h  \\\n2017-11-09    6259550       1.652570e+05                     0.633   \n2017-11-10    4246520       1.653080e+05                     0.833   \n2017-11-11    2231080       1.653630e+05                     0.980   \n2017-11-12    3288960       1.654020e+05                     1.102   \n2017-11-13    2481270       1.654527e+05                     1.277   \n...               ...                ...                       ...   \n2022-01-31  412307174       2.971374e+06                     9.000   \n2022-02-01  409432267       2.977053e+06                     8.889   \n2022-02-02  483194691       2.982243e+06                     8.167   \n2022-02-03  383506507       2.987430e+06                     6.455   \n2022-02-04  454621984       2.991859e+06                    10.375   \n\n            reddit_average_comments_48h  ...  subscribers  total_issues  \\\n2017-11-09                        9.490  ...        225.0    395.000000   \n2017-11-10                       11.958  ...        225.0    395.166667   \n2017-11-11                       13.224  ...        225.0    395.333333   \n2017-11-12                       14.469  ...        225.0    395.500000   \n2017-11-13                       15.383  ...        225.0    395.666667   \n...                                 ...  ...          ...           ...   \n2022-01-31                      487.909  ...        874.0   1061.000000   \n2022-02-01                      500.778  ...        872.0   1062.000000   \n2022-02-02                      514.167  ...        872.0   1062.000000   \n2022-02-03                      404.000  ...        872.0   1062.000000   \n2022-02-04                      822.000  ...        873.0   1062.000000   \n\n            closed_issues  pull_requests_merged  pull_request_contributors  \\\n2017-11-09          336.0                 732.0                       67.0   \n2017-11-10          336.0                 732.0                       67.0   \n2017-11-11          336.0                 732.0                       67.0   \n2017-11-12          336.0                 732.0                       67.0   \n2017-11-13          336.0                 732.0                       67.0   \n...                   ...                   ...                        ...   \n2022-01-31          956.0                1065.0                      129.0   \n2022-02-01          957.0                1065.0                      129.0   \n2022-02-02          957.0                1065.0                      129.0   \n2022-02-03          957.0                1065.0                      129.0   \n2022-02-04          957.0                1065.0                      129.0   \n\n            commit_count_4_weeks  dogecoin_unscaled  dogecoin_monthly  scale  \\\n2017-11-09                   0.0                 57               1.0   0.01   \n2017-11-10                   0.0                 24               1.0   0.01   \n2017-11-11                   0.0                 23               1.0   0.01   \n2017-11-12                   0.0                 23               1.0   0.01   \n2017-11-13                   0.0                 41               1.0   0.01   \n...                          ...                ...               ...    ...   \n2022-01-31                   0.0                 23               4.0   0.04   \n2022-02-01                   0.0                 93               4.0   0.04   \n2022-02-02                   0.0                 87               4.0   0.04   \n2022-02-03                   0.0                 82               4.0   0.04   \n2022-02-04                   0.0                100               4.0   0.04   \n\n            dogecoin  \n2017-11-09      0.57  \n2017-11-10      0.24  \n2017-11-11      0.23  \n2017-11-12      0.23  \n2017-11-13      0.41  \n...              ...  \n2022-01-31      0.92  \n2022-02-01      3.72  \n2022-02-02      3.48  \n2022-02-03      3.28  \n2022-02-04      4.00  \n\n[1549 rows x 24 columns]",
      "text/html": "<div>\n<style scoped>\n    .dataframe tbody tr th:only-of-type {\n        vertical-align: middle;\n    }\n\n    .dataframe tbody tr th {\n        vertical-align: top;\n    }\n\n    .dataframe thead th {\n        text-align: right;\n    }\n</style>\n<table border=\"1\" class=\"dataframe\">\n  <thead>\n    <tr style=\"text-align: right;\">\n      <th></th>\n      <th>Date</th>\n      <th>Open</th>\n      <th>High</th>\n      <th>Low</th>\n      <th>Close</th>\n      <th>Adj Close</th>\n      <th>Volume</th>\n      <th>twitter_followers</th>\n      <th>reddit_average_posts_48h</th>\n      <th>reddit_average_comments_48h</th>\n      <th>...</th>\n      <th>subscribers</th>\n      <th>total_issues</th>\n      <th>closed_issues</th>\n      <th>pull_requests_merged</th>\n      <th>pull_request_contributors</th>\n      <th>commit_count_4_weeks</th>\n      <th>dogecoin_unscaled</th>\n      <th>dogecoin_monthly</th>\n      <th>scale</th>\n      <th>dogecoin</th>\n    </tr>\n  </thead>\n  <tbody>\n    <tr>\n      <th>2017-11-09</th>\n      <td>2017-11-09</td>\n      <td>0.001207</td>\n      <td>0.001415</td>\n      <td>0.001181</td>\n      <td>0.001415</td>\n      <td>0.001415</td>\n      <td>6259550</td>\n      <td>1.652570e+05</td>\n      <td>0.633</td>\n      <td>9.490</td>\n      <td>...</td>\n      <td>225.0</td>\n      <td>395.000000</td>\n      <td>336.0</td>\n      <td>732.0</td>\n      <td>67.0</td>\n      <td>0.0</td>\n      <td>57</td>\n      <td>1.0</td>\n      <td>0.01</td>\n      <td>0.57</td>\n    </tr>\n    <tr>\n      <th>2017-11-10</th>\n      <td>2017-11-10</td>\n      <td>0.001421</td>\n      <td>0.001431</td>\n      <td>0.001125</td>\n      <td>0.001163</td>\n      <td>0.001163</td>\n      <td>4246520</td>\n      <td>1.653080e+05</td>\n      <td>0.833</td>\n      <td>11.958</td>\n      <td>...</td>\n      <td>225.0</td>\n      <td>395.166667</td>\n      <td>336.0</td>\n      <td>732.0</td>\n      <td>67.0</td>\n      <td>0.0</td>\n      <td>24</td>\n      <td>1.0</td>\n      <td>0.01</td>\n      <td>0.24</td>\n    </tr>\n    <tr>\n      <th>2017-11-11</th>\n      <td>2017-11-11</td>\n      <td>0.001146</td>\n      <td>0.001257</td>\n      <td>0.001141</td>\n      <td>0.001201</td>\n      <td>0.001201</td>\n      <td>2231080</td>\n      <td>1.653630e+05</td>\n      <td>0.980</td>\n      <td>13.224</td>\n      <td>...</td>\n      <td>225.0</td>\n      <td>395.333333</td>\n      <td>336.0</td>\n      <td>732.0</td>\n      <td>67.0</td>\n      <td>0.0</td>\n      <td>23</td>\n      <td>1.0</td>\n      <td>0.01</td>\n      <td>0.23</td>\n    </tr>\n    <tr>\n      <th>2017-11-12</th>\n      <td>2017-11-12</td>\n      <td>0.001189</td>\n      <td>0.001210</td>\n      <td>0.001002</td>\n      <td>0.001038</td>\n      <td>0.001038</td>\n      <td>3288960</td>\n      <td>1.654020e+05</td>\n      <td>1.102</td>\n      <td>14.469</td>\n      <td>...</td>\n      <td>225.0</td>\n      <td>395.500000</td>\n      <td>336.0</td>\n      <td>732.0</td>\n      <td>67.0</td>\n      <td>0.0</td>\n      <td>23</td>\n      <td>1.0</td>\n      <td>0.01</td>\n      <td>0.23</td>\n    </tr>\n    <tr>\n      <th>2017-11-13</th>\n      <td>2017-11-13</td>\n      <td>0.001046</td>\n      <td>0.001212</td>\n      <td>0.001019</td>\n      <td>0.001211</td>\n      <td>0.001211</td>\n      <td>2481270</td>\n      <td>1.654527e+05</td>\n      <td>1.277</td>\n      <td>15.383</td>\n      <td>...</td>\n      <td>225.0</td>\n      <td>395.666667</td>\n      <td>336.0</td>\n      <td>732.0</td>\n      <td>67.0</td>\n      <td>0.0</td>\n      <td>41</td>\n      <td>1.0</td>\n      <td>0.01</td>\n      <td>0.41</td>\n    </tr>\n    <tr>\n      <th>...</th>\n      <td>...</td>\n      <td>...</td>\n      <td>...</td>\n      <td>...</td>\n      <td>...</td>\n      <td>...</td>\n      <td>...</td>\n      <td>...</td>\n      <td>...</td>\n      <td>...</td>\n      <td>...</td>\n      <td>...</td>\n      <td>...</td>\n      <td>...</td>\n      <td>...</td>\n      <td>...</td>\n      <td>...</td>\n      <td>...</td>\n      <td>...</td>\n      <td>...</td>\n      <td>...</td>\n    </tr>\n    <tr>\n      <th>2022-01-31</th>\n      <td>2022-01-31</td>\n      <td>0.139469</td>\n      <td>0.142264</td>\n      <td>0.136853</td>\n      <td>0.141805</td>\n      <td>0.141805</td>\n      <td>412307174</td>\n      <td>2.971374e+06</td>\n      <td>9.000</td>\n      <td>487.909</td>\n      <td>...</td>\n      <td>874.0</td>\n      <td>1061.000000</td>\n      <td>956.0</td>\n      <td>1065.0</td>\n      <td>129.0</td>\n      <td>0.0</td>\n      <td>23</td>\n      <td>4.0</td>\n      <td>0.04</td>\n      <td>0.92</td>\n    </tr>\n    <tr>\n      <th>2022-02-01</th>\n      <td>2022-02-01</td>\n      <td>0.141805</td>\n      <td>0.144129</td>\n      <td>0.141125</td>\n      <td>0.142631</td>\n      <td>0.142631</td>\n      <td>409432267</td>\n      <td>2.977053e+06</td>\n      <td>8.889</td>\n      <td>500.778</td>\n      <td>...</td>\n      <td>872.0</td>\n      <td>1062.000000</td>\n      <td>957.0</td>\n      <td>1065.0</td>\n      <td>129.0</td>\n      <td>0.0</td>\n      <td>93</td>\n      <td>4.0</td>\n      <td>0.04</td>\n      <td>3.72</td>\n    </tr>\n    <tr>\n      <th>2022-02-02</th>\n      <td>2022-02-02</td>\n      <td>0.142626</td>\n      <td>0.145253</td>\n      <td>0.136918</td>\n      <td>0.137235</td>\n      <td>0.137235</td>\n      <td>483194691</td>\n      <td>2.982243e+06</td>\n      <td>8.167</td>\n      <td>514.167</td>\n      <td>...</td>\n      <td>872.0</td>\n      <td>1062.000000</td>\n      <td>957.0</td>\n      <td>1065.0</td>\n      <td>129.0</td>\n      <td>0.0</td>\n      <td>87</td>\n      <td>4.0</td>\n      <td>0.04</td>\n      <td>3.48</td>\n    </tr>\n    <tr>\n      <th>2022-02-03</th>\n      <td>2022-02-03</td>\n      <td>0.137213</td>\n      <td>0.138747</td>\n      <td>0.135565</td>\n      <td>0.137541</td>\n      <td>0.137541</td>\n      <td>383506507</td>\n      <td>2.987430e+06</td>\n      <td>6.455</td>\n      <td>404.000</td>\n      <td>...</td>\n      <td>872.0</td>\n      <td>1062.000000</td>\n      <td>957.0</td>\n      <td>1065.0</td>\n      <td>129.0</td>\n      <td>0.0</td>\n      <td>82</td>\n      <td>4.0</td>\n      <td>0.04</td>\n      <td>3.28</td>\n    </tr>\n    <tr>\n      <th>2022-02-04</th>\n      <td>2022-02-04</td>\n      <td>0.137687</td>\n      <td>0.142551</td>\n      <td>0.137261</td>\n      <td>0.141685</td>\n      <td>0.141685</td>\n      <td>454621984</td>\n      <td>2.991859e+06</td>\n      <td>10.375</td>\n      <td>822.000</td>\n      <td>...</td>\n      <td>873.0</td>\n      <td>1062.000000</td>\n      <td>957.0</td>\n      <td>1065.0</td>\n      <td>129.0</td>\n      <td>0.0</td>\n      <td>100</td>\n      <td>4.0</td>\n      <td>0.04</td>\n      <td>4.00</td>\n    </tr>\n  </tbody>\n</table>\n<p>1549 rows × 24 columns</p>\n</div>"
     },
     "execution_count": 1870,
     "metadata": {},
     "output_type": "execute_result"
    }
   ],
   "source": [
    "df = pd.read_csv('../doge_v1.csv')\n",
    "\n",
    "df = df.set_index(pd.DatetimeIndex(df['Date'].values))\n",
    "df"
   ],
   "metadata": {
    "collapsed": false,
    "pycharm": {
     "name": "#%%\n"
    }
   }
  },
  {
   "cell_type": "code",
   "execution_count": 1871,
   "outputs": [
    {
     "data": {
      "text/plain": "<AxesSubplot:>"
     },
     "execution_count": 1871,
     "metadata": {},
     "output_type": "execute_result"
    },
    {
     "data": {
      "text/plain": "<Figure size 1152x144 with 1 Axes>",
      "image/png": "[encoded data removed]"
     },
     "metadata": {},
     "output_type": "display_data"
    }
   ],
   "source": [
    "df = df.resample('D').ffill()\n",
    "df.Close.plot(figsize=(16, 2), color=\"red\", label='Close price', lw=2, alpha =.7)"
   ],
   "metadata": {
    "collapsed": false,
    "pycharm": {
     "name": "#%%\n"
    }
   }
  },
  {
   "cell_type": "code",
   "execution_count": 1872,
   "outputs": [],
   "source": [
    "future_days = 1\n",
    "columnName = str(future_days)+'_day_price_forecast'"
   ],
   "metadata": {
    "collapsed": false,
    "pycharm": {
     "name": "#%%\n"
    }
   }
  },
  {
   "cell_type": "code",
   "execution_count": 1873,
   "outputs": [
    {
     "data": {
      "text/plain": "               Close  1_day_price_forecast\n2017-11-09  0.001415              0.001163\n2017-11-10  0.001163              0.001201\n2017-11-11  0.001201              0.001038\n2017-11-12  0.001038              0.001211\n2017-11-13  0.001211              0.001184\n...              ...                   ...\n2022-01-31  0.141805              0.142631\n2022-02-01  0.142631              0.137235\n2022-02-02  0.137235              0.137541\n2022-02-03  0.137541              0.141685\n2022-02-04  0.141685                   NaN\n\n[1549 rows x 2 columns]",
      "text/html": "<div>\n<style scoped>\n    .dataframe tbody tr th:only-of-type {\n        vertical-align: middle;\n    }\n\n    .dataframe tbody tr th {\n        vertical-align: top;\n    }\n\n    .dataframe thead th {\n        text-align: right;\n    }\n</style>\n<table border=\"1\" class=\"dataframe\">\n  <thead>\n    <tr style=\"text-align: right;\">\n      <th></th>\n      <th>Close</th>\n      <th>1_day_price_forecast</th>\n    </tr>\n  </thead>\n  <tbody>\n    <tr>\n      <th>2017-11-09</th>\n      <td>0.001415</td>\n      <td>0.001163</td>\n    </tr>\n    <tr>\n      <th>2017-11-10</th>\n      <td>0.001163</td>\n      <td>0.001201</td>\n    </tr>\n    <tr>\n      <th>2017-11-11</th>\n      <td>0.001201</td>\n      <td>0.001038</td>\n    </tr>\n    <tr>\n      <th>2017-11-12</th>\n      <td>0.001038</td>\n      <td>0.001211</td>\n    </tr>\n    <tr>\n      <th>2017-11-13</th>\n      <td>0.001211</td>\n      <td>0.001184</td>\n    </tr>\n    <tr>\n      <th>...</th>\n      <td>...</td>\n      <td>...</td>\n    </tr>\n    <tr>\n      <th>2022-01-31</th>\n      <td>0.141805</td>\n      <td>0.142631</td>\n    </tr>\n    <tr>\n      <th>2022-02-01</th>\n      <td>0.142631</td>\n      <td>0.137235</td>\n    </tr>\n    <tr>\n      <th>2022-02-02</th>\n      <td>0.137235</td>\n      <td>0.137541</td>\n    </tr>\n    <tr>\n      <th>2022-02-03</th>\n      <td>0.137541</td>\n      <td>0.141685</td>\n    </tr>\n    <tr>\n      <th>2022-02-04</th>\n      <td>0.141685</td>\n      <td>NaN</td>\n    </tr>\n  </tbody>\n</table>\n<p>1549 rows × 2 columns</p>\n</div>"
     },
     "execution_count": 1873,
     "metadata": {},
     "output_type": "execute_result"
    }
   ],
   "source": [
    "#added new column\n",
    "df[columnName] = df[['Close']].shift(-future_days)\n",
    "\n",
    "df[['Close', columnName]]"
   ],
   "metadata": {
    "collapsed": false,
    "pycharm": {
     "name": "#%%\n"
    }
   }
  },
  {
   "cell_type": "code",
   "execution_count": 1874,
   "outputs": [
    {
     "name": "stdout",
     "output_type": "stream",
     "text": [
      "<class 'pandas.core.frame.DataFrame'>\n",
      "DatetimeIndex: 1549 entries, 2017-11-09 to 2022-02-04\n",
      "Freq: D\n",
      "Data columns (total 25 columns):\n",
      " #   Column                       Non-Null Count  Dtype  \n",
      "---  ------                       --------------  -----  \n",
      " 0   Date                         1549 non-null   object \n",
      " 1   Open                         1549 non-null   float64\n",
      " 2   High                         1549 non-null   float64\n",
      " 3   Low                          1549 non-null   float64\n",
      " 4   Close                        1549 non-null   float64\n",
      " 5   Adj Close                    1549 non-null   float64\n",
      " 6   Volume                       1549 non-null   int64  \n",
      " 7   twitter_followers            1549 non-null   float64\n",
      " 8   reddit_average_posts_48h     1549 non-null   float64\n",
      " 9   reddit_average_comments_48h  1549 non-null   float64\n",
      " 10  reddit_subscribers           1549 non-null   float64\n",
      " 11  reddit_accounts_active_48h   1549 non-null   float64\n",
      " 12  forks                        1549 non-null   float64\n",
      " 13  stars                        1549 non-null   float64\n",
      " 14  subscribers                  1549 non-null   float64\n",
      " 15  total_issues                 1549 non-null   float64\n",
      " 16  closed_issues                1549 non-null   float64\n",
      " 17  pull_requests_merged         1549 non-null   float64\n",
      " 18  pull_request_contributors    1549 non-null   float64\n",
      " 19  commit_count_4_weeks         1549 non-null   float64\n",
      " 20  dogecoin_unscaled            1549 non-null   int64  \n",
      " 21  dogecoin_monthly             1549 non-null   float64\n",
      " 22  scale                        1549 non-null   float64\n",
      " 23  dogecoin                     1549 non-null   float64\n",
      " 24  1_day_price_forecast         1548 non-null   float64\n",
      "dtypes: float64(22), int64(2), object(1)\n",
      "memory usage: 314.6+ KB\n"
     ]
    }
   ],
   "source": [
    "df.info()"
   ],
   "metadata": {
    "collapsed": false,
    "pycharm": {
     "name": "#%%\n"
    }
   }
  },
  {
   "cell_type": "code",
   "execution_count": 1875,
   "outputs": [
    {
     "name": "stdout",
     "output_type": "stream",
     "text": [
      "(1549, 25)\n",
      "[[1.41500000e-03 1.18100000e-03 6.25955000e+06 ... 0.00000000e+00\n",
      "  1.00000000e+00 5.70000000e-01]\n",
      " [1.43100000e-03 1.12500000e-03 4.24652000e+06 ... 0.00000000e+00\n",
      "  1.00000000e+00 2.40000000e-01]\n",
      " [1.25700000e-03 1.14100000e-03 2.23108000e+06 ... 0.00000000e+00\n",
      "  1.00000000e+00 2.30000000e-01]\n",
      " ...\n",
      " [1.44129000e-01 1.41125000e-01 4.09432267e+08 ... 0.00000000e+00\n",
      "  4.00000000e+00 3.72000000e+00]\n",
      " [1.45253000e-01 1.36918000e-01 4.83194691e+08 ... 0.00000000e+00\n",
      "  4.00000000e+00 3.48000000e+00]\n",
      " [1.38747000e-01 1.35565000e-01 3.83506507e+08 ... 0.00000000e+00\n",
      "  4.00000000e+00 3.28000000e+00]]\n"
     ]
    }
   ],
   "source": [
    "X = np.array(df[[\"High\", \"Low\", \"Volume\", \"Open\", \"twitter_followers\", \"reddit_average_posts_48h\",\n",
    "                \"reddit_average_comments_48h\", \"reddit_subscribers\", \"reddit_accounts_active_48h\", \"forks\", \"stars\",\n",
    "                \"subscribers\", \"total_issues\", \"closed_issues\", \"pull_requests_merged\", \"pull_request_contributors\",\n",
    "                \"commit_count_4_weeks\", \"dogecoin_monthly\", \"dogecoin\"]])\n",
    "\n",
    "\n",
    "print(df.shape)\n",
    "\n",
    "X = X[:df.shape[0] - future_days]\n",
    "print(X)"
   ],
   "metadata": {
    "collapsed": false,
    "pycharm": {
     "name": "#%%\n"
    }
   }
  },
  {
   "cell_type": "code",
   "execution_count": 1876,
   "outputs": [
    {
     "name": "stdout",
     "output_type": "stream",
     "text": [
      "[0.001163 0.001201 0.001038 ... 0.137235 0.137541 0.141685]\n"
     ]
    }
   ],
   "source": [
    "y = np.array(df[columnName])\n",
    "y = y[:-future_days]\n",
    "print(y)"
   ],
   "metadata": {
    "collapsed": false,
    "pycharm": {
     "name": "#%%\n"
    }
   }
  },
  {
   "cell_type": "code",
   "execution_count": 1877,
   "outputs": [],
   "source": [
    "from sklearn.model_selection import train_test_split\n",
    "\n",
    "x_train, x_test, y_train, y_test = train_test_split(X,y, test_size = 0.2, shuffle=False)"
   ],
   "metadata": {
    "collapsed": false,
    "pycharm": {
     "name": "#%%\n"
    }
   }
  },
  {
   "cell_type": "code",
   "execution_count": 1878,
   "outputs": [
    {
     "name": "stdout",
     "output_type": "stream",
     "text": [
      "Scaled X_l:\n",
      "[[-0.39367943 -0.41385857 -0.2014769  ... -0.31944861 -0.10595194\n",
      "  -0.04440799]\n",
      " [-0.39238134 -0.41915265 -0.20310446 ... -0.31944861 -0.10595194\n",
      "  -0.14081802]\n",
      " [-0.406498   -0.41764006 -0.20473396 ... -0.31944861 -0.10595194\n",
      "  -0.14373953]\n",
      " ...\n",
      " [ 3.93356113  4.48618801  0.16575939 ...  0.57790687  0.65488621\n",
      "   0.27988029]\n",
      " [ 3.92536698  4.50150302  0.22837542 ... -0.31944861  0.65488621\n",
      "   0.43764216]\n",
      " [ 3.98889191  4.55085138  0.38279042 ... -0.31944861  0.65488621\n",
      "   0.45517125]]\n",
      "Scaled y_p:\n",
      "[[-0.41644404]\n",
      " [-0.41315149]\n",
      " [-0.42727479]\n",
      " ...\n",
      " [ 4.1661761 ]\n",
      " [ 4.15300591]\n",
      " [ 4.13195093]]\n"
     ]
    }
   ],
   "source": [
    "from sklearn.preprocessing import StandardScaler\n",
    "\n",
    "\n",
    "StdS_X = StandardScaler()\n",
    "StdS_y = StandardScaler()\n",
    "X_l = StdS_X.fit_transform(x_train)\n",
    "y_p = StdS_y.fit_transform(y_train.reshape(-1,1))\n",
    "\n",
    "print(\"Scaled X_l:\")\n",
    "print(X_l)\n",
    "print(\"Scaled y_p:\")\n",
    "print(y_p)"
   ],
   "metadata": {
    "collapsed": false,
    "pycharm": {
     "name": "#%%\n"
    }
   }
  },
  {
   "cell_type": "code",
   "execution_count": 1879,
   "outputs": [
    {
     "name": "stdout",
     "output_type": "stream",
     "text": [
      "Scaled X_l_test:\n",
      "[[-1.85848319 -2.11900651 -0.48809287 ... -0.44664227 -0.47087352\n",
      "  -0.45317956]\n",
      " [-1.71853358 -2.10261672  0.22048017 ... -0.44664227 -0.47087352\n",
      "  -0.59946706]\n",
      " [-1.78887072 -2.05864441 -0.28036058 ... -0.44664227 -0.47087352\n",
      "  -0.60488512]\n",
      " ...\n",
      " [-1.05633384 -1.05985672 -0.52157589 ... -0.44664227 -0.55783854\n",
      "  -0.2906379 ]\n",
      " [-1.04627801 -1.11000351 -0.51145202 ... -0.44664227 -0.55783854\n",
      "  -0.31231012]\n",
      " [-1.10448373 -1.12613106 -0.52513419 ... -0.44664227 -0.55783854\n",
      "  -0.3303703 ]]\n",
      "Scaled y_p_test:\n",
      "[[-1.90109281e+00]\n",
      " [-1.94558719e+00]\n",
      " [-1.96473563e+00]\n",
      " [-1.94826386e+00]\n",
      " [-1.92466804e+00]\n",
      " [-1.87564392e+00]\n",
      " [-1.93154500e+00]\n",
      " [-1.90646673e+00]\n",
      " [-1.90420186e+00]\n",
      " [-1.88195467e+00]\n",
      " [-1.77072902e+00]\n",
      " [-1.81069366e+00]\n",
      " [-1.57722685e+00]\n",
      " [-1.28822958e+00]\n",
      " [-6.63434603e-01]\n",
      " [ 1.22735003e+00]\n",
      " [ 3.86290962e-01]\n",
      " [ 7.60014923e-01]\n",
      " [ 1.65405134e+00]\n",
      " [ 7.49977436e-01]\n",
      " [ 6.20519587e-01]\n",
      " [ 1.47388470e-01]\n",
      " [ 1.91351203e-02]\n",
      " [ 2.42564439e-01]\n",
      " [ 4.59223427e-02]\n",
      " [ 2.47320664e-01]\n",
      " [ 2.62907080e-01]\n",
      " [ 7.93030535e-01]\n",
      " [ 6.02441815e-01]\n",
      " [ 9.35912879e-01]\n",
      " [ 1.50651572e+00]\n",
      " [ 1.33211052e+00]\n",
      " [ 2.00808124e+00]\n",
      " [ 3.03372713e+00]\n",
      " [ 4.23100890e+00]\n",
      " [ 3.44006520e+00]\n",
      " [ 4.51045254e+00]\n",
      " [ 4.01281966e+00]\n",
      " [ 3.32956019e+00]\n",
      " [ 2.09308588e+00]\n",
      " [ 2.55910325e+00]\n",
      " [ 1.42816155e+00]\n",
      " [ 2.50910112e+00]\n",
      " [ 3.22181419e+00]\n",
      " [ 2.69027005e+00]\n",
      " [ 2.76154136e+00]\n",
      " [ 2.48354929e+00]\n",
      " [ 2.36230673e+00]\n",
      " [ 8.90224296e-01]\n",
      " [ 1.58071077e+00]\n",
      " [ 1.16055699e+00]\n",
      " [ 9.85431150e-01]\n",
      " [ 6.32317495e-01]\n",
      " [ 1.23035613e+00]\n",
      " [ 1.02590024e+00]\n",
      " [ 1.10198954e+00]\n",
      " [ 8.88391811e-01]\n",
      " [ 6.64581583e-01]\n",
      " [ 5.81244701e-01]\n",
      " [ 5.72123457e-01]\n",
      " [ 8.14937994e-01]\n",
      " [ 1.27066051e+00]\n",
      " [ 1.81934559e+00]\n",
      " [ 1.57833265e+00]\n",
      " [ 1.33496219e+00]\n",
      " [ 1.29227971e+00]\n",
      " [ 1.28847061e+00]\n",
      " [ 8.68883054e-01]\n",
      " [ 8.34261444e-01]\n",
      " [ 9.95314214e-01]\n",
      " [ 8.20507513e-01]\n",
      " [ 7.48525861e-01]\n",
      " [ 6.73630763e-01]\n",
      " [ 8.00236936e-01]\n",
      " [ 8.79538233e-01]\n",
      " [ 8.41406076e-01]\n",
      " [ 6.29126089e-01]\n",
      " [ 6.16103093e-01]\n",
      " [ 4.82022853e-01]\n",
      " [ 4.19059497e-01]\n",
      " [ 3.52595889e-01]\n",
      " [-6.99631326e-01]\n",
      " [-5.72592769e-01]\n",
      " [-1.49031397e-01]\n",
      " [ 1.66073639e-01]\n",
      " [-7.71835779e-02]\n",
      " [-1.92132284e-02]\n",
      " [ 1.83245463e-01]\n",
      " [ 1.05076601e-01]\n",
      " [ 1.65939806e-01]\n",
      " [ 7.78775842e-02]\n",
      " [-2.16325202e-02]\n",
      " [-1.42716962e-02]\n",
      " [-2.46349327e-03]\n",
      " [-1.72226345e-03]\n",
      " [-1.54796518e-01]\n",
      " [-1.25888554e-01]\n",
      " [-2.31884420e-01]\n",
      " [-4.02048140e-01]\n",
      " [-2.75761108e-01]\n",
      " [-3.36953748e-01]\n",
      " [-3.17022901e-01]\n",
      " [-3.97405158e-01]\n",
      " [-4.80227297e-01]\n",
      " [-5.07807223e-01]\n",
      " [-6.35834086e-01]\n",
      " [-7.64962499e-01]\n",
      " [-6.23099346e-01]\n",
      " [-6.63166936e-01]\n",
      " [-7.52495425e-01]\n",
      " [-7.80857761e-01]\n",
      " [-5.79613863e-01]\n",
      " [-5.69792568e-01]\n",
      " [-5.34162062e-01]\n",
      " [-5.07858698e-01]\n",
      " [-5.02248000e-01]\n",
      " [-4.34765201e-01]\n",
      " [-4.19528810e-01]\n",
      " [-4.24748303e-01]\n",
      " [-4.32706229e-01]\n",
      " [-3.89447233e-01]\n",
      " [-3.94666726e-01]\n",
      " [-4.34579893e-01]\n",
      " [-4.43196690e-01]\n",
      " [-5.21777347e-01]\n",
      " [-4.64918842e-01]\n",
      " [-4.70230989e-01]\n",
      " [-4.31995884e-01]\n",
      " [ 1.40943889e-01]\n",
      " [-6.80005639e-02]\n",
      " [ 1.05488395e-01]\n",
      " [ 1.09894595e-01]\n",
      " [ 1.91615183e-01]\n",
      " [ 1.77799483e-01]\n",
      " [ 4.13417914e-01]\n",
      " [ 4.78326999e-01]\n",
      " [ 9.75856931e-01]\n",
      " [ 7.62485689e-01]\n",
      " [ 5.43483160e-01]\n",
      " [ 5.87720167e-01]\n",
      " [ 7.25722749e-01]\n",
      " [ 8.32243652e-01]\n",
      " [ 7.22150433e-01]\n",
      " [ 7.03269662e-01]\n",
      " [ 7.33649790e-01]\n",
      " [ 4.33297287e-01]\n",
      " [ 4.69195459e-01]\n",
      " [ 2.29150238e-01]\n",
      " [ 4.91916212e-01]\n",
      " [ 4.01280276e-01]\n",
      " [ 3.54912232e-01]\n",
      " [ 2.62258504e-01]\n",
      " [ 3.27404370e-01]\n",
      " [ 4.91586777e-01]\n",
      " [ 5.07584987e-01]\n",
      " [ 5.10858752e-01]\n",
      " [ 5.42927237e-01]\n",
      " [ 6.98781103e-01]\n",
      " [ 6.39462127e-01]\n",
      " [ 7.30287057e-02]\n",
      " [ 1.07712085e-01]\n",
      " [ 6.12102079e-02]\n",
      " [-6.86491400e-02]\n",
      " [-5.37215948e-02]\n",
      " [ 4.08366825e-02]\n",
      " [-1.10610984e-01]\n",
      " [-6.11647777e-02]\n",
      " [ 1.07756950e-02]\n",
      " [-4.21604685e-02]\n",
      " [-6.91844726e-02]\n",
      " [-5.41951583e-02]\n",
      " [-1.39065974e-01]\n",
      " [-4.07463235e-01]\n",
      " [-4.69685361e-01]\n",
      " [-2.24348583e-01]\n",
      " [-2.24616250e-01]\n",
      " [-3.82961472e-01]\n",
      " [-3.91310602e-01]\n",
      " [-4.29175092e-01]\n",
      " [-4.77560928e-01]\n",
      " [-5.13160550e-01]\n",
      " [-4.91829603e-01]\n",
      " [-4.36566801e-01]\n",
      " [-2.43373482e-01]\n",
      " [-2.83286649e-01]\n",
      " [-2.56365594e-01]\n",
      " [-5.96926129e-02]\n",
      " [ 5.52391899e-02]\n",
      " [ 8.73385593e-02]\n",
      " [-3.83719605e-02]\n",
      " [-2.88183316e-02]\n",
      " [-5.58944410e-04]\n",
      " [-1.73419917e-01]\n",
      " [-1.55939247e-01]\n",
      " [-2.10100499e-01]\n",
      " [-1.44934043e-01]\n",
      " [-1.48012206e-01]\n",
      " [-1.32477264e-01]\n",
      " [-9.63423099e-02]\n",
      " [-9.01036256e-02]\n",
      " [ 6.49303381e-03]\n",
      " [-8.87719026e-03]\n",
      " [ 7.66216114e-02]\n",
      " [-4.38488253e-02]\n",
      " [-2.50092339e-02]\n",
      " [ 5.23257448e-02]\n",
      " [ 3.12940093e-01]\n",
      " [ 1.85891242e-01]\n",
      " [ 9.34948849e-02]\n",
      " [-9.22449562e-02]\n",
      " [ 5.53829493e-01]\n",
      " [ 4.24176042e-01]\n",
      " [ 2.23343938e-01]\n",
      " [ 3.45842462e-01]\n",
      " [ 2.58171445e-01]\n",
      " [ 2.72512183e-01]\n",
      " [ 2.34277078e-01]\n",
      " [ 1.71200478e-01]\n",
      " [ 1.52515310e-01]\n",
      " [ 1.56972984e-01]\n",
      " [ 2.02445375e-01]\n",
      " [ 3.67616088e-01]\n",
      " [ 2.76681601e-01]\n",
      " [ 9.32581031e-02]\n",
      " [ 1.49447442e-01]\n",
      " [ 1.31400555e-01]\n",
      " [ 1.54996371e-01]\n",
      " [ 1.67411970e-01]\n",
      " [ 1.01699887e-01]\n",
      " [-9.67849889e-02]\n",
      " [-9.43348125e-02]\n",
      " [-2.60123217e-01]\n",
      " [-1.39395409e-01]\n",
      " [-1.40280767e-01]\n",
      " [-2.09215141e-01]\n",
      " [-2.77696541e-01]\n",
      " [-2.07320887e-01]\n",
      " [-2.55572890e-01]\n",
      " [-3.12184318e-01]\n",
      " [-4.71126642e-01]\n",
      " [-4.25211572e-01]\n",
      " [-4.03334997e-01]\n",
      " [-3.24033700e-01]\n",
      " [-3.28769335e-01]\n",
      " [-3.82590857e-01]\n",
      " [-3.80130385e-01]\n",
      " [-4.80330245e-01]\n",
      " [-6.97963559e-01]\n",
      " [-7.76183895e-01]\n",
      " [-7.02627130e-01]\n",
      " [-7.19047429e-01]\n",
      " [-6.94895691e-01]\n",
      " [-7.94416090e-01]\n",
      " [-8.46528665e-01]\n",
      " [-7.99203199e-01]\n",
      " [-7.90226083e-01]\n",
      " [-9.17120511e-01]\n",
      " [-6.84539063e-01]\n",
      " [-6.75016319e-01]\n",
      " [-7.53545501e-01]\n",
      " [-7.99295853e-01]\n",
      " [-7.64396282e-01]\n",
      " [-7.93468963e-01]\n",
      " [-8.16673575e-01]\n",
      " [-7.77007484e-01]\n",
      " [-7.56016267e-01]\n",
      " [-6.39931440e-01]\n",
      " [-6.17982801e-01]\n",
      " [-5.76443046e-01]\n",
      " [-5.83000871e-01]\n",
      " [-6.06833469e-01]\n",
      " [-7.46720010e-01]\n",
      " [-8.12112952e-01]\n",
      " [-7.75586793e-01]\n",
      " [-7.83997693e-01]\n",
      " [-7.57859047e-01]\n",
      " [-7.43775680e-01]\n",
      " [-7.88197995e-01]\n",
      " [-8.01426889e-01]\n",
      " [-8.98023548e-01]\n",
      " [-8.89859725e-01]\n",
      " [-9.43290042e-01]\n",
      " [-9.74884963e-01]\n",
      " [-9.84037093e-01]\n",
      " [-1.06336927e+00]\n",
      " [-9.60008893e-01]\n",
      " [-8.75045424e-01]\n",
      " [-7.68071547e-01]\n",
      " [-6.49618902e-01]\n",
      " [-6.33620692e-01]\n",
      " [-7.15228037e-01]\n",
      " [-7.77316330e-01]\n",
      " [-8.35585230e-01]\n",
      " [-8.67797843e-01]\n",
      " [-9.41426673e-01]\n",
      " [-1.07077128e+00]\n",
      " [-1.17112556e+00]\n",
      " [-1.07877038e+00]\n",
      " [-1.12061898e+00]\n",
      " [-1.06656068e+00]\n",
      " [-1.05894248e+00]\n",
      " [-1.08511202e+00]\n",
      " [-1.08090142e+00]\n",
      " [-1.06648862e+00]\n",
      " [-1.10339568e+00]\n",
      " [-1.07936748e+00]\n",
      " [-1.07086393e+00]\n",
      " [-1.12641499e+00]\n",
      " [-1.12326476e+00]\n",
      " [-1.08060287e+00]]\n"
     ]
    }
   ],
   "source": [
    "\n",
    "StdS_X_test = StandardScaler()\n",
    "StdS_y_test = StandardScaler()\n",
    "\n",
    "X_l_test = StdS_X_test.fit_transform(x_test)\n",
    "y_p_test = StdS_y_test.fit_transform(y_test.reshape(-1,1))\n",
    "\n",
    "print(\"Scaled X_l_test:\")\n",
    "print(X_l_test)\n",
    "print(\"Scaled y_p_test:\")\n",
    "print(y_p_test)"
   ],
   "metadata": {
    "collapsed": false,
    "pycharm": {
     "name": "#%%\n"
    }
   }
  },
  {
   "cell_type": "code",
   "execution_count": 1880,
   "outputs": [
    {
     "name": "stderr",
     "output_type": "stream",
     "text": [
      "C:\\Users\\nikol\\Desktop\\SIAP - projekat\\SIAP_2022\\venv\\lib\\site-packages\\sklearn\\utils\\validation.py:993: DataConversionWarning: A column-vector y was passed when a 1d array was expected. Please change the shape of y to (n_samples, ), for example using ravel().\n",
      "  y = column_or_1d(y, warn=True)\n"
     ]
    },
    {
     "data": {
      "text/plain": "SVR(C=0.0185, coef0=1.125, epsilon=0.0002, kernel='sigmoid', tol=0.02)"
     },
     "execution_count": 1880,
     "metadata": {},
     "output_type": "execute_result"
    }
   ],
   "source": [
    "from sklearn.svm import SVR\n",
    "svr_sigmoid = SVR(kernel='sigmoid', coef0 = 1.125, tol = 0.02,  C = 0.0185, epsilon=0.0002)\n",
    "svr_sigmoid.fit(X_l, y_p)"
   ],
   "metadata": {
    "collapsed": false,
    "pycharm": {
     "name": "#%%\n"
    }
   }
  },
  {
   "cell_type": "code",
   "execution_count": 1881,
   "outputs": [
    {
     "data": {
      "text/plain": "LinearRegression()"
     },
     "execution_count": 1881,
     "metadata": {},
     "output_type": "execute_result"
    }
   ],
   "source": [
    "from sklearn.linear_model import LinearRegression\n",
    "# Create and train the Linear Regression  Model\n",
    "lr = LinearRegression()\n",
    "# Train the model\n",
    "lr.fit(X_l, y_p)"
   ],
   "metadata": {
    "collapsed": false,
    "pycharm": {
     "name": "#%%\n"
    }
   }
  },
  {
   "cell_type": "code",
   "execution_count": 1882,
   "outputs": [
    {
     "name": "stdout",
     "output_type": "stream",
     "text": [
      "lr confidence:  0.7745555395734195\n",
      "svr_linear confidence 0.6438168687985772\n"
     ]
    }
   ],
   "source": [
    "# Testing Model: Score returns the coefficient of determination R^2 of the prediction.\n",
    "# The best possible score is 1.0\n",
    "lr_confidence = lr.score(X_l_test, y_p_test)\n",
    "print(\"lr confidence: \", lr_confidence)\n",
    "\n",
    "svr_linear_confidence = svr_sigmoid.score(X_l_test, y_p_test)\n",
    "print('svr_linear confidence', svr_linear_confidence)"
   ],
   "metadata": {
    "collapsed": false,
    "pycharm": {
     "name": "#%%\n"
    }
   }
  },
  {
   "cell_type": "code",
   "execution_count": 1883,
   "outputs": [
    {
     "name": "stdout",
     "output_type": "stream",
     "text": [
      "[-1.48942217e+00 -1.43466961e+00 -1.46554932e+00 -1.51464133e+00\n",
      " -1.52593286e+00 -1.53183305e+00 -1.47567130e+00 -1.46500734e+00\n",
      " -1.50404626e+00 -1.49990870e+00 -1.48514601e+00 -1.24303041e+00\n",
      " -1.28084218e+00 -1.24434652e+00 -8.85560457e-01 -8.22901637e-01\n",
      "  2.16212684e-01  3.45639191e-01 -3.65914916e-02  1.89274966e-01\n",
      "  4.15303558e-01  6.81107415e-02 -8.33342689e-02 -2.81396117e-01\n",
      " -3.40561683e-01 -6.95009860e-01 -7.21293329e-01 -7.26766808e-01\n",
      " -4.74726921e-01 -5.06388803e-01 -5.23321533e-01 -1.95677415e-01\n",
      "  2.95243943e-01  3.81945503e-01  1.28680624e+00  1.75734790e+00\n",
      "  1.72785404e+00  1.66989101e+00  1.83070336e+00  1.92695945e+00\n",
      "  1.71085296e+00  1.48653467e+00  1.27635054e+00  1.17539213e+00\n",
      "  1.42851936e+00  1.34841885e+00  1.16618880e+00  1.13452665e+00\n",
      "  1.09945483e+00  1.03802739e+00  8.07860304e-01  7.69126445e-01\n",
      "  6.18418721e-01  4.16441759e-01  4.54973420e-01  5.97736348e-01\n",
      "  5.45917915e-01  4.64823665e-01  4.29264193e-01  3.18452139e-01\n",
      "  2.55435850e-01  3.84662726e-01  5.17730231e-01  6.63713096e-01\n",
      "  6.96705447e-01  6.39266718e-01  6.03932320e-01  5.34547114e-01\n",
      "  5.03244381e-01  4.27991702e-01  4.23263586e-01  4.31467651e-01\n",
      "  3.94644705e-01  3.74523146e-01  3.35982562e-01  3.98073752e-01\n",
      "  3.80642653e-01  2.93755782e-01  2.28563032e-01  2.70526592e-01\n",
      "  2.11458012e-01  2.45609998e-01  1.29885095e-01 -1.29657868e-01\n",
      " -4.74635866e-02  8.81305851e-02  2.29889049e-01  1.13003089e-01\n",
      "  1.68945228e-01  1.97022793e-01  1.75369463e-01  6.51518407e-02\n",
      "  1.67955453e-01  1.21625970e-01  1.41883737e-01  7.81038462e-02\n",
      " -5.42031725e-02 -8.87935141e-02 -6.71531949e-03 -2.77180280e-02\n",
      " -9.48008683e-02 -3.99713668e-02 -2.07263054e-01 -1.56931815e-01\n",
      " -1.40600878e-01 -2.74365881e-01 -3.69306283e-01 -2.27500094e-01\n",
      " -3.27802209e-01 -1.76254095e-01 -4.16075905e-01 -3.17578968e-01\n",
      " -1.63883674e-01 -1.47402584e-01 -2.20382290e-01 -1.54766610e-01\n",
      " -2.09052834e-01  8.38399747e-05 -1.26357097e-01 -1.69219836e-01\n",
      " -1.96618324e-01 -1.43593403e-01 -9.11528561e-02 -1.30019422e-01\n",
      " -1.77356469e-01 -2.73597632e-01 -3.15875326e-01 -2.45161385e-01\n",
      " -1.71971673e-01  5.18976470e-02  1.92176411e-01  8.09005880e-02\n",
      "  9.45104701e-02  1.65653300e-01  1.81592742e-01  1.65647548e-01\n",
      "  1.82275574e-01  2.46286491e-01  3.07332206e-01  2.76264017e-01\n",
      "  2.26213152e-01  2.29997706e-01  2.65404500e-01  1.78497568e-01\n",
      "  1.14821542e-01  1.17881671e-01  9.94793432e-02  4.46199720e-02\n",
      "  4.67073280e-02  3.14183952e-02  5.50388948e-02  2.73473445e-02\n",
      "  1.42045055e-02  1.58696339e-03  2.97599201e-02  8.04554555e-02\n",
      "  7.30756838e-02  3.95554413e-02  4.10255486e-02  4.63689614e-02\n",
      " -4.17632482e-02 -6.04980595e-02 -6.19021407e-02 -8.51123758e-02\n",
      " -1.11664158e-01 -1.00952069e-01 -9.54614641e-02 -1.04684416e-01\n",
      " -9.46566054e-02 -9.09626684e-02 -6.33348065e-02 -7.78957419e-02\n",
      " -1.09746799e-01 -1.22968824e-01 -1.32416076e-01 -1.27706694e-01\n",
      " -1.12034725e-01 -1.22067449e-01 -1.75360251e-01 -2.52402441e-01\n",
      " -2.48581143e-01 -2.70456107e-01 -2.54229832e-01 -2.31069720e-01\n",
      " -2.02133004e-01 -1.74605111e-01 -1.65684888e-01 -1.14422853e-01\n",
      " -3.90915578e-02 -2.85377513e-02 -5.63705899e-02 -7.82220525e-02\n",
      " -9.27917618e-02 -1.09358372e-01 -1.28671492e-01 -1.38148039e-01\n",
      " -1.39878805e-01 -1.26094238e-01 -1.23580563e-01 -1.15485083e-01\n",
      " -1.28111102e-01 -8.06170411e-02 -1.10931811e-01 -9.28192063e-02\n",
      " -7.75834022e-02 -1.13359617e-01 -1.05939699e-01 -5.63098704e-02\n",
      " -4.00563181e-02 -1.76012701e-02 -6.75609341e-02 -3.47616943e-02\n",
      "  1.73405672e-02  2.25548467e-02 -4.82274790e-02 -7.34345747e-02\n",
      " -4.54536622e-02 -4.51337252e-02 -5.88706120e-02 -9.81844865e-02\n",
      " -9.77232620e-02 -9.22255593e-02 -6.09957269e-02 -1.47006474e-01\n",
      " -2.03882749e-01 -1.69042941e-01 -2.01489368e-01 -2.50450724e-01\n",
      " -2.56575782e-01 -2.41086968e-01 -2.91327935e-01 -3.00585858e-01\n",
      " -2.77117191e-01 -3.17523447e-01 -2.85667581e-01 -2.79463518e-01\n",
      " -2.95316660e-01 -2.88693042e-01 -2.91034050e-01 -3.44736174e-01\n",
      " -3.76306451e-01 -3.24404611e-01 -3.31914833e-01 -2.98337116e-01\n",
      " -2.74857273e-01 -3.01591019e-01 -2.89944920e-01 -2.95287249e-01\n",
      " -2.97154064e-01 -3.46505627e-01 -3.68717263e-01 -3.44429000e-01\n",
      " -4.19277730e-01 -3.98198177e-01 -4.03440613e-01 -4.03260057e-01\n",
      " -3.74039812e-01 -4.00632599e-01 -2.75235588e-01 -2.70363524e-01\n",
      " -3.20927220e-01 -3.56083757e-01 -3.72816870e-01 -3.93627897e-01\n",
      " -4.13676780e-01 -3.95855234e-01 -4.23120162e-01 -3.74538124e-01\n",
      " -3.38638853e-01 -3.22734512e-01 -3.52282957e-01 -3.59526466e-01\n",
      " -4.00156295e-01 -3.83532564e-01 -4.49648898e-01 -4.25911071e-01\n",
      " -4.02488330e-01 -4.22387454e-01 -3.97657141e-01 -4.68470533e-01\n",
      " -4.32280593e-01 -4.53890426e-01 -4.28751523e-01 -5.62102173e-01\n",
      " -4.70473279e-01 -5.16731094e-01 -4.32644495e-01 -4.19702800e-01\n",
      " -3.70235192e-01 -3.60276162e-01 -2.96762598e-01 -3.99172303e-01\n",
      " -3.90569908e-01 -4.26860411e-01 -4.45188196e-01 -4.50863932e-01\n",
      " -4.82825635e-01 -4.61058499e-01 -4.94891860e-01 -4.78370197e-01\n",
      " -4.69029521e-01 -4.87745628e-01 -4.67888983e-01 -4.73587914e-01\n",
      " -4.81799468e-01 -5.03765123e-01 -5.05877375e-01 -4.71167552e-01\n",
      " -4.74383882e-01 -5.56364909e-01]\n"
     ]
    }
   ],
   "source": [
    "svr_prediction = svr_sigmoid.predict(X_l_test)\n",
    "print(svr_prediction)"
   ],
   "metadata": {
    "collapsed": false,
    "pycharm": {
     "name": "#%%\n"
    }
   }
  },
  {
   "cell_type": "code",
   "execution_count": 1884,
   "outputs": [
    {
     "name": "stdout",
     "output_type": "stream",
     "text": [
      "[[0.10197398]\n",
      " [0.10729242]\n",
      " [0.10429289]\n",
      " [0.0995243 ]\n",
      " [0.09842749]\n",
      " [0.09785437]\n",
      " [0.10330969]\n",
      " [0.10434554]\n",
      " [0.10055346]\n",
      " [0.10095537]\n",
      " [0.10238935]\n",
      " [0.12590746]\n",
      " [0.12223458]\n",
      " [0.12577962]\n",
      " [0.16063061]\n",
      " [0.16671703]\n",
      " [0.2676523 ]\n",
      " [0.28022426]\n",
      " [0.24309595]\n",
      " [0.26503568]\n",
      " [0.28699116]\n",
      " [0.25326629]\n",
      " [0.23855555]\n",
      " [0.21931664]\n",
      " [0.21356954]\n",
      " [0.17913991]\n",
      " [0.17658684]\n",
      " [0.17605517]\n",
      " [0.20053728]\n",
      " [0.19746178]\n",
      " [0.195817  ]\n",
      " [0.227643  ]\n",
      " [0.27532907]\n",
      " [0.2837509 ]\n",
      " [0.37164533]\n",
      " [0.4173518 ]\n",
      " [0.41448689]\n",
      " [0.4088566 ]\n",
      " [0.42447725]\n",
      " [0.43382717]\n",
      " [0.41283547]\n",
      " [0.39104612]\n",
      " [0.37062971]\n",
      " [0.36082302]\n",
      " [0.38541076]\n",
      " [0.37763012]\n",
      " [0.35992905]\n",
      " [0.35685352]\n",
      " [0.35344679]\n",
      " [0.34747998]\n",
      " [0.3251225 ]\n",
      " [0.32136006]\n",
      " [0.30672093]\n",
      " [0.28710172]\n",
      " [0.29084453]\n",
      " [0.30471193]\n",
      " [0.2996785 ]\n",
      " [0.29180134]\n",
      " [0.28834724]\n",
      " [0.27758342]\n",
      " [0.27146228]\n",
      " [0.28401484]\n",
      " [0.29694047]\n",
      " [0.31112064]\n",
      " [0.31432538]\n",
      " [0.30874602]\n",
      " [0.30531378]\n",
      " [0.29857399]\n",
      " [0.29553337]\n",
      " [0.28822364]\n",
      " [0.28776437]\n",
      " [0.28856128]\n",
      " [0.28498445]\n",
      " [0.28302992]\n",
      " [0.27928625]\n",
      " [0.28531753]\n",
      " [0.28362435]\n",
      " [0.27518452]\n",
      " [0.26885196]\n",
      " [0.27292813]\n",
      " [0.26719045]\n",
      " [0.27050783]\n",
      " [0.25926679]\n",
      " [0.23405586]\n",
      " [0.24203988]\n",
      " [0.25521093]\n",
      " [0.26898077]\n",
      " [0.25762695]\n",
      " [0.26306093]\n",
      " [0.26578827]\n",
      " [0.26368496]\n",
      " [0.25297887]\n",
      " [0.26296479]\n",
      " [0.25846454]\n",
      " [0.26043229]\n",
      " [0.25423698]\n",
      " [0.24138522]\n",
      " [0.23802526]\n",
      " [0.245998  ]\n",
      " [0.24395788]\n",
      " [0.23744173]\n",
      " [0.24276764]\n",
      " [0.22651762]\n",
      " [0.23140659]\n",
      " [0.23299291]\n",
      " [0.21999953]\n",
      " [0.21077741]\n",
      " [0.22455188]\n",
      " [0.21480894]\n",
      " [0.2295297 ]\n",
      " [0.2062344 ]\n",
      " [0.21580199]\n",
      " [0.23073131]\n",
      " [0.23233222]\n",
      " [0.22524327]\n",
      " [0.23161691]\n",
      " [0.22634377]\n",
      " [0.24665844]\n",
      " [0.23437649]\n",
      " [0.23021298]\n",
      " [0.2275516 ]\n",
      " [0.23270222]\n",
      " [0.23779608]\n",
      " [0.23402074]\n",
      " [0.22942262]\n",
      " [0.22007415]\n",
      " [0.21596747]\n",
      " [0.22283633]\n",
      " [0.22994568]\n",
      " [0.25169142]\n",
      " [0.26531752]\n",
      " [0.25450864]\n",
      " [0.25583065]\n",
      " [0.26274117]\n",
      " [0.26428946]\n",
      " [0.26274061]\n",
      " [0.26435579]\n",
      " [0.27057354]\n",
      " [0.27650327]\n",
      " [0.27348544]\n",
      " [0.2686237 ]\n",
      " [0.26899132]\n",
      " [0.27243059]\n",
      " [0.26398881]\n",
      " [0.25780358]\n",
      " [0.25810083]\n",
      " [0.25631331]\n",
      " [0.25098449]\n",
      " [0.25118725]\n",
      " [0.24970215]\n",
      " [0.25199654]\n",
      " [0.2493067 ]\n",
      " [0.24803006]\n",
      " [0.24680444]\n",
      " [0.24954105]\n",
      " [0.2544654 ]\n",
      " [0.25374856]\n",
      " [0.25049255]\n",
      " [0.25063535]\n",
      " [0.25115438]\n",
      " [0.24259358]\n",
      " [0.24077376]\n",
      " [0.24063738]\n",
      " [0.23838283]\n",
      " [0.2358037 ]\n",
      " [0.23684423]\n",
      " [0.23737756]\n",
      " [0.23648168]\n",
      " [0.23745574]\n",
      " [0.23781456]\n",
      " [0.24049821]\n",
      " [0.23908382]\n",
      " [0.23598994]\n",
      " [0.23470561]\n",
      " [0.23378794]\n",
      " [0.23424539]\n",
      " [0.2357677 ]\n",
      " [0.23479317]\n",
      " [0.22961652]\n",
      " [0.22213296]\n",
      " [0.22250415]\n",
      " [0.22037931]\n",
      " [0.22195546]\n",
      " [0.22420514]\n",
      " [0.22701593]\n",
      " [0.22968988]\n",
      " [0.23055635]\n",
      " [0.23553573]\n",
      " [0.2428531 ]\n",
      " [0.24387825]\n",
      " [0.24117469]\n",
      " [0.23905213]\n",
      " [0.23763689]\n",
      " [0.23602767]\n",
      " [0.23415168]\n",
      " [0.23323116]\n",
      " [0.23306304]\n",
      " [0.23440202]\n",
      " [0.23464619]\n",
      " [0.23543255]\n",
      " [0.23420611]\n",
      " [0.23881949]\n",
      " [0.23587484]\n",
      " [0.23763422]\n",
      " [0.23911416]\n",
      " [0.23563901]\n",
      " [0.23635975]\n",
      " [0.24118059]\n",
      " [0.24275939]\n",
      " [0.24494058]\n",
      " [0.2400877 ]\n",
      " [0.24327369]\n",
      " [0.24833468]\n",
      " [0.24884118]\n",
      " [0.24196568]\n",
      " [0.23951716]\n",
      " [0.24223511]\n",
      " [0.24226619]\n",
      " [0.24093185]\n",
      " [0.23711306]\n",
      " [0.23715786]\n",
      " [0.23769188]\n",
      " [0.24072542]\n",
      " [0.23237069]\n",
      " [0.22684597]\n",
      " [0.23023016]\n",
      " [0.22707845]\n",
      " [0.22232255]\n",
      " [0.22172758]\n",
      " [0.2232321 ]\n",
      " [0.2183519 ]\n",
      " [0.21745263]\n",
      " [0.21973228]\n",
      " [0.21580738]\n",
      " [0.21890173]\n",
      " [0.21950436]\n",
      " [0.21796445]\n",
      " [0.21860785]\n",
      " [0.21838045]\n",
      " [0.21316405]\n",
      " [0.21009744]\n",
      " [0.21513897]\n",
      " [0.21440946]\n",
      " [0.21767106]\n",
      " [0.21995179]\n",
      " [0.21735499]\n",
      " [0.21848624]\n",
      " [0.21796731]\n",
      " [0.21778598]\n",
      " [0.21299217]\n",
      " [0.21083462]\n",
      " [0.21319388]\n",
      " [0.20592339]\n",
      " [0.20797097]\n",
      " [0.20746174]\n",
      " [0.20747928]\n",
      " [0.21031761]\n",
      " [0.2077345 ]\n",
      " [0.21991505]\n",
      " [0.2203883 ]\n",
      " [0.21547675]\n",
      " [0.21206179]\n",
      " [0.2104364 ]\n",
      " [0.20841491]\n",
      " [0.20646744]\n",
      " [0.20819855]\n",
      " [0.20555015]\n",
      " [0.21026921]\n",
      " [0.21375632]\n",
      " [0.2153012 ]\n",
      " [0.21243098]\n",
      " [0.21172738]\n",
      " [0.20778077]\n",
      " [0.20939553]\n",
      " [0.20297326]\n",
      " [0.20527905]\n",
      " [0.20755424]\n",
      " [0.20562132]\n",
      " [0.20802352]\n",
      " [0.201145  ]\n",
      " [0.20466034]\n",
      " [0.20256125]\n",
      " [0.20500314]\n",
      " [0.19205001]\n",
      " [0.20095046]\n",
      " [0.19645717]\n",
      " [0.204625  ]\n",
      " [0.2058821 ]\n",
      " [0.21068718]\n",
      " [0.21165456]\n",
      " [0.217824  ]\n",
      " [0.20787635]\n",
      " [0.20871195]\n",
      " [0.20518684]\n",
      " [0.20340655]\n",
      " [0.20285524]\n",
      " [0.19975061]\n",
      " [0.20186498]\n",
      " [0.19857854]\n",
      " [0.20018339]\n",
      " [0.20109071]\n",
      " [0.1992727 ]\n",
      " [0.20120149]\n",
      " [0.20064792]\n",
      " [0.19985029]\n",
      " [0.19771663]\n",
      " [0.19751146]\n",
      " [0.20088303]\n",
      " [0.20057061]\n",
      " [0.19260731]]\n"
     ]
    }
   ],
   "source": [
    "final_prediction =svr_prediction.reshape(-1,1)\n",
    "final_prediction = StdS_y_test.inverse_transform(final_prediction)\n",
    "print(final_prediction)"
   ],
   "metadata": {
    "collapsed": false,
    "pycharm": {
     "name": "#%%\n"
    }
   }
  },
  {
   "cell_type": "code",
   "execution_count": 1885,
   "outputs": [
    {
     "name": "stdout",
     "output_type": "stream",
     "text": [
      "[0.061986 0.057664 0.055804 0.057404 0.059696 0.064458 0.059028 0.061464\n",
      " 0.061684 0.063845 0.074649 0.070767 0.093445 0.121517 0.182207 0.36587\n",
      " 0.284173 0.320475 0.407318 0.3195   0.306925 0.260967 0.248509 0.270212\n",
      " 0.251111 0.270674 0.272188 0.323682 0.305169 0.337561 0.392987 0.376046\n",
      " 0.441707 0.541334 0.657633 0.580804 0.684777 0.636439 0.57007  0.449964\n",
      " 0.495231 0.385376 0.490374 0.559604 0.507972 0.514895 0.487892 0.476115\n",
      " 0.333123 0.400194 0.359382 0.342371 0.308071 0.366162 0.346302 0.353693\n",
      " 0.332945 0.311205 0.30311  0.302224 0.32581  0.370077 0.423374 0.399963\n",
      " 0.376323 0.372177 0.371807 0.33105  0.327687 0.343331 0.326351 0.319359\n",
      " 0.312084 0.324382 0.332085 0.328381 0.307761 0.306496 0.293472 0.287356\n",
      " 0.2809   0.178691 0.191031 0.232174 0.262782 0.239153 0.244784 0.26445\n",
      " 0.256857 0.262769 0.254215 0.244549 0.245264 0.246411 0.246483 0.231614\n",
      " 0.234422 0.224126 0.207597 0.219864 0.21392  0.215856 0.208048 0.200003\n",
      " 0.197324 0.184888 0.172345 0.186125 0.182233 0.173556 0.170801 0.190349\n",
      " 0.191303 0.194764 0.197319 0.197864 0.204419 0.205899 0.205392 0.204619\n",
      " 0.208821 0.208314 0.204437 0.2036   0.195967 0.20149  0.200974 0.204688\n",
      " 0.260341 0.240045 0.256897 0.257325 0.265263 0.263921 0.286808 0.293113\n",
      " 0.341441 0.320715 0.299442 0.303739 0.317144 0.327491 0.316797 0.314963\n",
      " 0.317914 0.288739 0.292226 0.268909 0.294433 0.285629 0.281125 0.272125\n",
      " 0.278453 0.294401 0.295955 0.296273 0.299388 0.314527 0.308765 0.253744\n",
      " 0.257113 0.252596 0.239982 0.241432 0.250617 0.235906 0.240709 0.247697\n",
      " 0.242555 0.23993  0.241386 0.233142 0.207071 0.201027 0.224858 0.224832\n",
      " 0.209451 0.20864  0.204962 0.200262 0.196804 0.198876 0.204244 0.22301\n",
      " 0.219133 0.221748 0.240852 0.252016 0.255134 0.242923 0.243851 0.246596\n",
      " 0.229805 0.231503 0.226242 0.232572 0.232273 0.233782 0.237292 0.237898\n",
      " 0.247281 0.245788 0.254093 0.242391 0.244221 0.251733 0.277048 0.264707\n",
      " 0.255732 0.23769  0.300447 0.287853 0.268345 0.280244 0.271728 0.273121\n",
      " 0.269407 0.26328  0.261465 0.261898 0.266315 0.282359 0.273526 0.255709\n",
      " 0.261167 0.259414 0.261706 0.262912 0.256529 0.237249 0.237487 0.221383\n",
      " 0.23311  0.233024 0.226328 0.219676 0.226512 0.221825 0.216326 0.200887\n",
      " 0.205347 0.207472 0.215175 0.214715 0.209487 0.209726 0.199993 0.178853\n",
      " 0.171255 0.1784   0.176805 0.179151 0.169484 0.164422 0.169019 0.169891\n",
      " 0.157565 0.180157 0.181082 0.173454 0.16901  0.1724   0.169576 0.167322\n",
      " 0.171175 0.173214 0.18449  0.186622 0.190657 0.19002  0.187705 0.174117\n",
      " 0.167765 0.171313 0.170496 0.173035 0.174403 0.170088 0.168803 0.15942\n",
      " 0.160213 0.155023 0.151954 0.151065 0.143359 0.153399 0.161652 0.172043\n",
      " 0.183549 0.185103 0.177176 0.171145 0.165485 0.162356 0.155204 0.14264\n",
      " 0.132892 0.141863 0.137798 0.143049 0.143789 0.141247 0.141656 0.143056\n",
      " 0.139471 0.141805 0.142631 0.137235 0.137541 0.141685]\n"
     ]
    }
   ],
   "source": [
    "print(y_test)"
   ],
   "metadata": {
    "collapsed": false,
    "pycharm": {
     "name": "#%%\n"
    }
   }
  },
  {
   "cell_type": "code",
   "execution_count": 1886,
   "outputs": [
    {
     "name": "stdout",
     "output_type": "stream",
     "text": [
      "310\n",
      "310\n"
     ]
    }
   ],
   "source": [
    "print(len(final_prediction))\n",
    "print(len(y_test))"
   ],
   "metadata": {
    "collapsed": false,
    "pycharm": {
     "name": "#%%\n"
    }
   }
  },
  {
   "cell_type": "code",
   "execution_count": 1887,
   "outputs": [
    {
     "data": {
      "text/plain": "                  Date      Open      High       Low     Close  Adj Close  \\\n2017-11-09  2017-11-09  0.001207  0.001415  0.001181  0.001415   0.001415   \n2017-11-10  2017-11-10  0.001421  0.001431  0.001125  0.001163   0.001163   \n2017-11-11  2017-11-11  0.001146  0.001257  0.001141  0.001201   0.001201   \n2017-11-12  2017-11-12  0.001189  0.001210  0.001002  0.001038   0.001038   \n2017-11-13  2017-11-13  0.001046  0.001212  0.001019  0.001211   0.001211   \n...                ...       ...       ...       ...       ...        ...   \n2022-01-31  2022-01-31  0.139469  0.142264  0.136853  0.141805   0.141805   \n2022-02-01  2022-02-01  0.141805  0.144129  0.141125  0.142631   0.142631   \n2022-02-02  2022-02-02  0.142626  0.145253  0.136918  0.137235   0.137235   \n2022-02-03  2022-02-03  0.137213  0.138747  0.135565  0.137541   0.137541   \n2022-02-04  2022-02-04  0.137687  0.142551  0.137261  0.141685   0.141685   \n\n               Volume  twitter_followers  reddit_average_posts_48h  \\\n2017-11-09    6259550       1.652570e+05                     0.633   \n2017-11-10    4246520       1.653080e+05                     0.833   \n2017-11-11    2231080       1.653630e+05                     0.980   \n2017-11-12    3288960       1.654020e+05                     1.102   \n2017-11-13    2481270       1.654527e+05                     1.277   \n...               ...                ...                       ...   \n2022-01-31  412307174       2.971374e+06                     9.000   \n2022-02-01  409432267       2.977053e+06                     8.889   \n2022-02-02  483194691       2.982243e+06                     8.167   \n2022-02-03  383506507       2.987430e+06                     6.455   \n2022-02-04  454621984       2.991859e+06                    10.375   \n\n            reddit_average_comments_48h  ...  total_issues  closed_issues  \\\n2017-11-09                        9.490  ...    395.000000          336.0   \n2017-11-10                       11.958  ...    395.166667          336.0   \n2017-11-11                       13.224  ...    395.333333          336.0   \n2017-11-12                       14.469  ...    395.500000          336.0   \n2017-11-13                       15.383  ...    395.666667          336.0   \n...                                 ...  ...           ...            ...   \n2022-01-31                      487.909  ...   1061.000000          956.0   \n2022-02-01                      500.778  ...   1062.000000          957.0   \n2022-02-02                      514.167  ...   1062.000000          957.0   \n2022-02-03                      404.000  ...   1062.000000          957.0   \n2022-02-04                      822.000  ...   1062.000000          957.0   \n\n            pull_requests_merged  pull_request_contributors  \\\n2017-11-09                 732.0                       67.0   \n2017-11-10                 732.0                       67.0   \n2017-11-11                 732.0                       67.0   \n2017-11-12                 732.0                       67.0   \n2017-11-13                 732.0                       67.0   \n...                          ...                        ...   \n2022-01-31                1065.0                      129.0   \n2022-02-01                1065.0                      129.0   \n2022-02-02                1065.0                      129.0   \n2022-02-03                1065.0                      129.0   \n2022-02-04                1065.0                      129.0   \n\n            commit_count_4_weeks  dogecoin_unscaled  dogecoin_monthly  scale  \\\n2017-11-09                   0.0                 57               1.0   0.01   \n2017-11-10                   0.0                 24               1.0   0.01   \n2017-11-11                   0.0                 23               1.0   0.01   \n2017-11-12                   0.0                 23               1.0   0.01   \n2017-11-13                   0.0                 41               1.0   0.01   \n...                          ...                ...               ...    ...   \n2022-01-31                   0.0                 23               4.0   0.04   \n2022-02-01                   0.0                 93               4.0   0.04   \n2022-02-02                   0.0                 87               4.0   0.04   \n2022-02-03                   0.0                 82               4.0   0.04   \n2022-02-04                   0.0                100               4.0   0.04   \n\n            dogecoin  1_day_price_forecast  \n2017-11-09      0.57              0.001163  \n2017-11-10      0.24              0.001201  \n2017-11-11      0.23              0.001038  \n2017-11-12      0.23              0.001211  \n2017-11-13      0.41              0.001184  \n...              ...                   ...  \n2022-01-31      0.92              0.142631  \n2022-02-01      3.72              0.137235  \n2022-02-02      3.48              0.137541  \n2022-02-03      3.28              0.141685  \n2022-02-04      4.00                   NaN  \n\n[1549 rows x 25 columns]",
      "text/html": "<div>\n<style scoped>\n    .dataframe tbody tr th:only-of-type {\n        vertical-align: middle;\n    }\n\n    .dataframe tbody tr th {\n        vertical-align: top;\n    }\n\n    .dataframe thead th {\n        text-align: right;\n    }\n</style>\n<table border=\"1\" class=\"dataframe\">\n  <thead>\n    <tr style=\"text-align: right;\">\n      <th></th>\n      <th>Date</th>\n      <th>Open</th>\n      <th>High</th>\n      <th>Low</th>\n      <th>Close</th>\n      <th>Adj Close</th>\n      <th>Volume</th>\n      <th>twitter_followers</th>\n      <th>reddit_average_posts_48h</th>\n      <th>reddit_average_comments_48h</th>\n      <th>...</th>\n      <th>total_issues</th>\n      <th>closed_issues</th>\n      <th>pull_requests_merged</th>\n      <th>pull_request_contributors</th>\n      <th>commit_count_4_weeks</th>\n      <th>dogecoin_unscaled</th>\n      <th>dogecoin_monthly</th>\n      <th>scale</th>\n      <th>dogecoin</th>\n      <th>1_day_price_forecast</th>\n    </tr>\n  </thead>\n  <tbody>\n    <tr>\n      <th>2017-11-09</th>\n      <td>2017-11-09</td>\n      <td>0.001207</td>\n      <td>0.001415</td>\n      <td>0.001181</td>\n      <td>0.001415</td>\n      <td>0.001415</td>\n      <td>6259550</td>\n      <td>1.652570e+05</td>\n      <td>0.633</td>\n      <td>9.490</td>\n      <td>...</td>\n      <td>395.000000</td>\n      <td>336.0</td>\n      <td>732.0</td>\n      <td>67.0</td>\n      <td>0.0</td>\n      <td>57</td>\n      <td>1.0</td>\n      <td>0.01</td>\n      <td>0.57</td>\n      <td>0.001163</td>\n    </tr>\n    <tr>\n      <th>2017-11-10</th>\n      <td>2017-11-10</td>\n      <td>0.001421</td>\n      <td>0.001431</td>\n      <td>0.001125</td>\n      <td>0.001163</td>\n      <td>0.001163</td>\n      <td>4246520</td>\n      <td>1.653080e+05</td>\n      <td>0.833</td>\n      <td>11.958</td>\n      <td>...</td>\n      <td>395.166667</td>\n      <td>336.0</td>\n      <td>732.0</td>\n      <td>67.0</td>\n      <td>0.0</td>\n      <td>24</td>\n      <td>1.0</td>\n      <td>0.01</td>\n      <td>0.24</td>\n      <td>0.001201</td>\n    </tr>\n    <tr>\n      <th>2017-11-11</th>\n      <td>2017-11-11</td>\n      <td>0.001146</td>\n      <td>0.001257</td>\n      <td>0.001141</td>\n      <td>0.001201</td>\n      <td>0.001201</td>\n      <td>2231080</td>\n      <td>1.653630e+05</td>\n      <td>0.980</td>\n      <td>13.224</td>\n      <td>...</td>\n      <td>395.333333</td>\n      <td>336.0</td>\n      <td>732.0</td>\n      <td>67.0</td>\n      <td>0.0</td>\n      <td>23</td>\n      <td>1.0</td>\n      <td>0.01</td>\n      <td>0.23</td>\n      <td>0.001038</td>\n    </tr>\n    <tr>\n      <th>2017-11-12</th>\n      <td>2017-11-12</td>\n      <td>0.001189</td>\n      <td>0.001210</td>\n      <td>0.001002</td>\n      <td>0.001038</td>\n      <td>0.001038</td>\n      <td>3288960</td>\n      <td>1.654020e+05</td>\n      <td>1.102</td>\n      <td>14.469</td>\n      <td>...</td>\n      <td>395.500000</td>\n      <td>336.0</td>\n      <td>732.0</td>\n      <td>67.0</td>\n      <td>0.0</td>\n      <td>23</td>\n      <td>1.0</td>\n      <td>0.01</td>\n      <td>0.23</td>\n      <td>0.001211</td>\n    </tr>\n    <tr>\n      <th>2017-11-13</th>\n      <td>2017-11-13</td>\n      <td>0.001046</td>\n      <td>0.001212</td>\n      <td>0.001019</td>\n      <td>0.001211</td>\n      <td>0.001211</td>\n      <td>2481270</td>\n      <td>1.654527e+05</td>\n      <td>1.277</td>\n      <td>15.383</td>\n      <td>...</td>\n      <td>395.666667</td>\n      <td>336.0</td>\n      <td>732.0</td>\n      <td>67.0</td>\n      <td>0.0</td>\n      <td>41</td>\n      <td>1.0</td>\n      <td>0.01</td>\n      <td>0.41</td>\n      <td>0.001184</td>\n    </tr>\n    <tr>\n      <th>...</th>\n      <td>...</td>\n      <td>...</td>\n      <td>...</td>\n      <td>...</td>\n      <td>...</td>\n      <td>...</td>\n      <td>...</td>\n      <td>...</td>\n      <td>...</td>\n      <td>...</td>\n      <td>...</td>\n      <td>...</td>\n      <td>...</td>\n      <td>...</td>\n      <td>...</td>\n      <td>...</td>\n      <td>...</td>\n      <td>...</td>\n      <td>...</td>\n      <td>...</td>\n      <td>...</td>\n    </tr>\n    <tr>\n      <th>2022-01-31</th>\n      <td>2022-01-31</td>\n      <td>0.139469</td>\n      <td>0.142264</td>\n      <td>0.136853</td>\n      <td>0.141805</td>\n      <td>0.141805</td>\n      <td>412307174</td>\n      <td>2.971374e+06</td>\n      <td>9.000</td>\n      <td>487.909</td>\n      <td>...</td>\n      <td>1061.000000</td>\n      <td>956.0</td>\n      <td>1065.0</td>\n      <td>129.0</td>\n      <td>0.0</td>\n      <td>23</td>\n      <td>4.0</td>\n      <td>0.04</td>\n      <td>0.92</td>\n      <td>0.142631</td>\n    </tr>\n    <tr>\n      <th>2022-02-01</th>\n      <td>2022-02-01</td>\n      <td>0.141805</td>\n      <td>0.144129</td>\n      <td>0.141125</td>\n      <td>0.142631</td>\n      <td>0.142631</td>\n      <td>409432267</td>\n      <td>2.977053e+06</td>\n      <td>8.889</td>\n      <td>500.778</td>\n      <td>...</td>\n      <td>1062.000000</td>\n      <td>957.0</td>\n      <td>1065.0</td>\n      <td>129.0</td>\n      <td>0.0</td>\n      <td>93</td>\n      <td>4.0</td>\n      <td>0.04</td>\n      <td>3.72</td>\n      <td>0.137235</td>\n    </tr>\n    <tr>\n      <th>2022-02-02</th>\n      <td>2022-02-02</td>\n      <td>0.142626</td>\n      <td>0.145253</td>\n      <td>0.136918</td>\n      <td>0.137235</td>\n      <td>0.137235</td>\n      <td>483194691</td>\n      <td>2.982243e+06</td>\n      <td>8.167</td>\n      <td>514.167</td>\n      <td>...</td>\n      <td>1062.000000</td>\n      <td>957.0</td>\n      <td>1065.0</td>\n      <td>129.0</td>\n      <td>0.0</td>\n      <td>87</td>\n      <td>4.0</td>\n      <td>0.04</td>\n      <td>3.48</td>\n      <td>0.137541</td>\n    </tr>\n    <tr>\n      <th>2022-02-03</th>\n      <td>2022-02-03</td>\n      <td>0.137213</td>\n      <td>0.138747</td>\n      <td>0.135565</td>\n      <td>0.137541</td>\n      <td>0.137541</td>\n      <td>383506507</td>\n      <td>2.987430e+06</td>\n      <td>6.455</td>\n      <td>404.000</td>\n      <td>...</td>\n      <td>1062.000000</td>\n      <td>957.0</td>\n      <td>1065.0</td>\n      <td>129.0</td>\n      <td>0.0</td>\n      <td>82</td>\n      <td>4.0</td>\n      <td>0.04</td>\n      <td>3.28</td>\n      <td>0.141685</td>\n    </tr>\n    <tr>\n      <th>2022-02-04</th>\n      <td>2022-02-04</td>\n      <td>0.137687</td>\n      <td>0.142551</td>\n      <td>0.137261</td>\n      <td>0.141685</td>\n      <td>0.141685</td>\n      <td>454621984</td>\n      <td>2.991859e+06</td>\n      <td>10.375</td>\n      <td>822.000</td>\n      <td>...</td>\n      <td>1062.000000</td>\n      <td>957.0</td>\n      <td>1065.0</td>\n      <td>129.0</td>\n      <td>0.0</td>\n      <td>100</td>\n      <td>4.0</td>\n      <td>0.04</td>\n      <td>4.00</td>\n      <td>NaN</td>\n    </tr>\n  </tbody>\n</table>\n<p>1549 rows × 25 columns</p>\n</div>"
     },
     "execution_count": 1887,
     "metadata": {},
     "output_type": "execute_result"
    }
   ],
   "source": [
    "df"
   ],
   "metadata": {
    "collapsed": false,
    "pycharm": {
     "name": "#%%\n"
    }
   }
  },
  {
   "cell_type": "code",
   "execution_count": 1888,
   "outputs": [
    {
     "data": {
      "text/plain": "<Figure size 1224x360 with 1 Axes>",
      "image/png": "[encoded data removed]"
     },
     "metadata": {},
     "output_type": "display_data"
    }
   ],
   "source": [
    "plt.figure(figsize=(17,5))\n",
    "plt.plot(final_prediction, label='Prediction', lw=2, alpha =.7, color = \"green\")\n",
    "plt.plot(y_test, label='Actual', lw=2, alpha =.7, color = \"red\")\n",
    "plt.legend(['predicted', \"actual\"])\n",
    "plt.title('Prediction vs Actual')\n",
    "plt.ylabel('Price in USD')\n",
    "plt.xlabel('Time')\n",
    "\n",
    "plt.show()"
   ],
   "metadata": {
    "collapsed": false,
    "pycharm": {
     "name": "#%%\n"
    }
   }
  },
  {
   "cell_type": "code",
   "execution_count": 1889,
   "outputs": [
    {
     "name": "stdout",
     "output_type": "stream",
     "text": [
      "R^2\n",
      "0.6438168687985772\n",
      "\n",
      "MAE\n",
      "0.03983480711055959\n",
      "\n",
      "RMSE\n",
      "0.05797173291602564\n"
     ]
    }
   ],
   "source": [
    "from math import sqrt\n",
    "from sklearn.metrics import mean_absolute_error, mean_squared_error\n",
    "\n",
    "\n",
    "print(\"R^2\")\n",
    "print(svr_linear_confidence)\n",
    "\n",
    "print(\"\\nMAE\")\n",
    "print(mean_absolute_error(y_test,final_prediction))\n",
    "\n",
    "print(\"\\nRMSE\")\n",
    "print(sqrt(mean_squared_error(y_test, final_prediction)))"
   ],
   "metadata": {
    "collapsed": false,
    "pycharm": {
     "name": "#%%\n"
    }
   }
  }
 ],
 "metadata": {
  "kernelspec": {
   "display_name": "Python 3",
   "language": "python",
   "name": "python3"
  },
  "language_info": {
   "codemirror_mode": {
    "name": "ipython",
    "version": 2
   },
   "file_extension": ".py",
   "mimetype": "text/x-python",
   "name": "python",
   "nbconvert_exporter": "python",
   "pygments_lexer": "ipython2",
   "version": "2.7.6"
  }
 },
 "nbformat": 4,
 "nbformat_minor": 0
}