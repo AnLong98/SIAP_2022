{
 "cells": [
  {
   "cell_type": "code",
   "execution_count": 64,
   "metadata": {
    "collapsed": true
   },
   "outputs": [],
   "source": [
    "import pandas as pd\n",
    "import numpy as np\n",
    "from sklearn.svm import SVR\n",
    "import matplotlib.pyplot as plt\n",
    "plt.style.use('fivethirtyeight')"
   ]
  },
  {
   "cell_type": "code",
   "execution_count": 65,
   "outputs": [
    {
     "data": {
      "text/plain": "                  Date      Open      High       Low     Close  Adj Close  \\\n2020-08-11  2020-08-11  0.125496  0.137770  0.124239  0.130634   0.130634   \n2020-08-12  2020-08-12  0.130674  0.162275  0.128384  0.138122   0.138122   \n2020-08-13  2020-08-13  0.138128  0.138128  0.118348  0.127606   0.127606   \n2020-08-14  2020-08-14  0.127084  0.201024  0.121670  0.201024   0.201024   \n2020-08-15  2020-08-15  0.201097  0.202423  0.138915  0.162744   0.162744   \n...                ...       ...       ...       ...       ...        ...   \n2022-01-31  2022-01-31  0.083146  0.083205  0.078528  0.081419   0.081419   \n2022-02-01  2022-02-01  0.081419  0.085588  0.081330  0.084601   0.084601   \n2022-02-02  2022-02-02  0.084601  0.087298  0.081559  0.082081   0.082081   \n2022-02-03  2022-02-03  0.082081  0.089960  0.082081  0.088527   0.088527   \n2022-02-04  2022-02-04  0.088531  0.090840  0.084359  0.084359   0.084359   \n\n            Volume  twitter_followers  reddit_average_posts_48h  \\\n2020-08-11   40783             1817.0                     0.273   \n2020-08-12   65517             1829.0                     0.182   \n2020-08-13   41988             2149.0                     0.083   \n2020-08-14  104705             2208.0                     0.000   \n2020-08-15   50419             2267.0                     0.100   \n...            ...                ...                       ...   \n2022-01-31  157240             9584.0                     0.091   \n2022-02-01  149344             9593.0                     0.083   \n2022-02-02  130836             9571.0                     0.200   \n2022-02-03  141869             9549.0                     0.200   \n2022-02-04  156317             9549.0                     0.167   \n\n            reddit_average_comments_48h  reddit_subscribers  \\\n2020-08-11                        0.000                 298   \n2020-08-12                        0.091                 300   \n2020-08-13                        0.167                 302   \n2020-08-14                        0.000                 304   \n2020-08-15                        0.000                 307   \n...                                 ...                 ...   \n2022-01-31                        0.000                 925   \n2022-02-01                        0.167                 926   \n2022-02-02                        0.100                 926   \n2022-02-03                        0.000                 925   \n2022-02-04                        0.000                 925   \n\n            reddit_accounts_active_48h  idena_unscaled  idena_monthly  scale  \\\n2020-08-11                    6.666667               0           37.0   0.37   \n2020-08-12                    6.750000               0           37.0   0.37   \n2020-08-13                    6.615385               0           37.0   0.37   \n2020-08-14                    7.083333              34           37.0   0.37   \n2020-08-15                    5.636364               0           37.0   0.37   \n...                                ...             ...            ...    ...   \n2022-01-31                   10.083333              54           30.0   0.30   \n2022-02-01                   10.153846               0           30.0   0.30   \n2022-02-02                    8.727273               0           30.0   0.30   \n2022-02-03                    8.818182              48           30.0   0.30   \n2022-02-04                    8.230769             100           30.0   0.30   \n\n            idena  \n2020-08-11   0.00  \n2020-08-12   0.00  \n2020-08-13   0.00  \n2020-08-14  12.58  \n2020-08-15   0.00  \n...           ...  \n2022-01-31  16.20  \n2022-02-01   0.00  \n2022-02-02   0.00  \n2022-02-03  14.40  \n2022-02-04  30.00  \n\n[543 rows x 16 columns]",
      "text/html": "<div>\n<style scoped>\n    .dataframe tbody tr th:only-of-type {\n        vertical-align: middle;\n    }\n\n    .dataframe tbody tr th {\n        vertical-align: top;\n    }\n\n    .dataframe thead th {\n        text-align: right;\n    }\n</style>\n<table border=\"1\" class=\"dataframe\">\n  <thead>\n    <tr style=\"text-align: right;\">\n      <th></th>\n      <th>Date</th>\n      <th>Open</th>\n      <th>High</th>\n      <th>Low</th>\n      <th>Close</th>\n      <th>Adj Close</th>\n      <th>Volume</th>\n      <th>twitter_followers</th>\n      <th>reddit_average_posts_48h</th>\n      <th>reddit_average_comments_48h</th>\n      <th>reddit_subscribers</th>\n      <th>reddit_accounts_active_48h</th>\n      <th>idena_unscaled</th>\n      <th>idena_monthly</th>\n      <th>scale</th>\n      <th>idena</th>\n    </tr>\n  </thead>\n  <tbody>\n    <tr>\n      <th>2020-08-11</th>\n      <td>2020-08-11</td>\n      <td>0.125496</td>\n      <td>0.137770</td>\n      <td>0.124239</td>\n      <td>0.130634</td>\n      <td>0.130634</td>\n      <td>40783</td>\n      <td>1817.0</td>\n      <td>0.273</td>\n      <td>0.000</td>\n      <td>298</td>\n      <td>6.666667</td>\n      <td>0</td>\n      <td>37.0</td>\n      <td>0.37</td>\n      <td>0.00</td>\n    </tr>\n    <tr>\n      <th>2020-08-12</th>\n      <td>2020-08-12</td>\n      <td>0.130674</td>\n      <td>0.162275</td>\n      <td>0.128384</td>\n      <td>0.138122</td>\n      <td>0.138122</td>\n      <td>65517</td>\n      <td>1829.0</td>\n      <td>0.182</td>\n      <td>0.091</td>\n      <td>300</td>\n      <td>6.750000</td>\n      <td>0</td>\n      <td>37.0</td>\n      <td>0.37</td>\n      <td>0.00</td>\n    </tr>\n    <tr>\n      <th>2020-08-13</th>\n      <td>2020-08-13</td>\n      <td>0.138128</td>\n      <td>0.138128</td>\n      <td>0.118348</td>\n      <td>0.127606</td>\n      <td>0.127606</td>\n      <td>41988</td>\n      <td>2149.0</td>\n      <td>0.083</td>\n      <td>0.167</td>\n      <td>302</td>\n      <td>6.615385</td>\n      <td>0</td>\n      <td>37.0</td>\n      <td>0.37</td>\n      <td>0.00</td>\n    </tr>\n    <tr>\n      <th>2020-08-14</th>\n      <td>2020-08-14</td>\n      <td>0.127084</td>\n      <td>0.201024</td>\n      <td>0.121670</td>\n      <td>0.201024</td>\n      <td>0.201024</td>\n      <td>104705</td>\n      <td>2208.0</td>\n      <td>0.000</td>\n      <td>0.000</td>\n      <td>304</td>\n      <td>7.083333</td>\n      <td>34</td>\n      <td>37.0</td>\n      <td>0.37</td>\n      <td>12.58</td>\n    </tr>\n    <tr>\n      <th>2020-08-15</th>\n      <td>2020-08-15</td>\n      <td>0.201097</td>\n      <td>0.202423</td>\n      <td>0.138915</td>\n      <td>0.162744</td>\n      <td>0.162744</td>\n      <td>50419</td>\n      <td>2267.0</td>\n      <td>0.100</td>\n      <td>0.000</td>\n      <td>307</td>\n      <td>5.636364</td>\n      <td>0</td>\n      <td>37.0</td>\n      <td>0.37</td>\n      <td>0.00</td>\n    </tr>\n    <tr>\n      <th>...</th>\n      <td>...</td>\n      <td>...</td>\n      <td>...</td>\n      <td>...</td>\n      <td>...</td>\n      <td>...</td>\n      <td>...</td>\n      <td>...</td>\n      <td>...</td>\n      <td>...</td>\n      <td>...</td>\n      <td>...</td>\n      <td>...</td>\n      <td>...</td>\n      <td>...</td>\n      <td>...</td>\n    </tr>\n    <tr>\n      <th>2022-01-31</th>\n      <td>2022-01-31</td>\n      <td>0.083146</td>\n      <td>0.083205</td>\n      <td>0.078528</td>\n      <td>0.081419</td>\n      <td>0.081419</td>\n      <td>157240</td>\n      <td>9584.0</td>\n      <td>0.091</td>\n      <td>0.000</td>\n      <td>925</td>\n      <td>10.083333</td>\n      <td>54</td>\n      <td>30.0</td>\n      <td>0.30</td>\n      <td>16.20</td>\n    </tr>\n    <tr>\n      <th>2022-02-01</th>\n      <td>2022-02-01</td>\n      <td>0.081419</td>\n      <td>0.085588</td>\n      <td>0.081330</td>\n      <td>0.084601</td>\n      <td>0.084601</td>\n      <td>149344</td>\n      <td>9593.0</td>\n      <td>0.083</td>\n      <td>0.167</td>\n      <td>926</td>\n      <td>10.153846</td>\n      <td>0</td>\n      <td>30.0</td>\n      <td>0.30</td>\n      <td>0.00</td>\n    </tr>\n    <tr>\n      <th>2022-02-02</th>\n      <td>2022-02-02</td>\n      <td>0.084601</td>\n      <td>0.087298</td>\n      <td>0.081559</td>\n      <td>0.082081</td>\n      <td>0.082081</td>\n      <td>130836</td>\n      <td>9571.0</td>\n      <td>0.200</td>\n      <td>0.100</td>\n      <td>926</td>\n      <td>8.727273</td>\n      <td>0</td>\n      <td>30.0</td>\n      <td>0.30</td>\n      <td>0.00</td>\n    </tr>\n    <tr>\n      <th>2022-02-03</th>\n      <td>2022-02-03</td>\n      <td>0.082081</td>\n      <td>0.089960</td>\n      <td>0.082081</td>\n      <td>0.088527</td>\n      <td>0.088527</td>\n      <td>141869</td>\n      <td>9549.0</td>\n      <td>0.200</td>\n      <td>0.000</td>\n      <td>925</td>\n      <td>8.818182</td>\n      <td>48</td>\n      <td>30.0</td>\n      <td>0.30</td>\n      <td>14.40</td>\n    </tr>\n    <tr>\n      <th>2022-02-04</th>\n      <td>2022-02-04</td>\n      <td>0.088531</td>\n      <td>0.090840</td>\n      <td>0.084359</td>\n      <td>0.084359</td>\n      <td>0.084359</td>\n      <td>156317</td>\n      <td>9549.0</td>\n      <td>0.167</td>\n      <td>0.000</td>\n      <td>925</td>\n      <td>8.230769</td>\n      <td>100</td>\n      <td>30.0</td>\n      <td>0.30</td>\n      <td>30.00</td>\n    </tr>\n  </tbody>\n</table>\n<p>543 rows × 16 columns</p>\n</div>"
     },
     "execution_count": 65,
     "metadata": {},
     "output_type": "execute_result"
    }
   ],
   "source": [
    "df = pd.read_csv('../idena_v1.csv')\n",
    "\n",
    "df = df.set_index(pd.DatetimeIndex(df['Date'].values))\n",
    "df"
   ],
   "metadata": {
    "collapsed": false,
    "pycharm": {
     "name": "#%%\n"
    }
   }
  },
  {
   "cell_type": "code",
   "execution_count": 66,
   "outputs": [
    {
     "data": {
      "text/plain": "<AxesSubplot:>"
     },
     "execution_count": 66,
     "metadata": {},
     "output_type": "execute_result"
    },
    {
     "data": {
      "text/plain": "<Figure size 1152x144 with 1 Axes>",
      "image/png": "[encoded data removed]"
     },
     "metadata": {},
     "output_type": "display_data"
    }
   ],
   "source": [
    "df = df.resample('D').ffill()\n",
    "df.Close.plot(figsize=(16, 2), color=\"red\", label='Close price', lw=2, alpha =.7)"
   ],
   "metadata": {
    "collapsed": false,
    "pycharm": {
     "name": "#%%\n"
    }
   }
  },
  {
   "cell_type": "code",
   "execution_count": 67,
   "outputs": [],
   "source": [
    "future_days = 1\n",
    "columnName = str(future_days)+'_day_price_forecast'"
   ],
   "metadata": {
    "collapsed": false,
    "pycharm": {
     "name": "#%%\n"
    }
   }
  },
  {
   "cell_type": "code",
   "execution_count": 68,
   "outputs": [
    {
     "data": {
      "text/plain": "               Close  1_day_price_forecast\n2020-08-11  0.130634              0.138122\n2020-08-12  0.138122              0.127606\n2020-08-13  0.127606              0.201024\n2020-08-14  0.201024              0.162744\n2020-08-15  0.162744              0.196316\n...              ...                   ...\n2022-01-31  0.081419              0.084601\n2022-02-01  0.084601              0.082081\n2022-02-02  0.082081              0.088527\n2022-02-03  0.088527              0.084359\n2022-02-04  0.084359                   NaN\n\n[543 rows x 2 columns]",
      "text/html": "<div>\n<style scoped>\n    .dataframe tbody tr th:only-of-type {\n        vertical-align: middle;\n    }\n\n    .dataframe tbody tr th {\n        vertical-align: top;\n    }\n\n    .dataframe thead th {\n        text-align: right;\n    }\n</style>\n<table border=\"1\" class=\"dataframe\">\n  <thead>\n    <tr style=\"text-align: right;\">\n      <th></th>\n      <th>Close</th>\n      <th>1_day_price_forecast</th>\n    </tr>\n  </thead>\n  <tbody>\n    <tr>\n      <th>2020-08-11</th>\n      <td>0.130634</td>\n      <td>0.138122</td>\n    </tr>\n    <tr>\n      <th>2020-08-12</th>\n      <td>0.138122</td>\n      <td>0.127606</td>\n    </tr>\n    <tr>\n      <th>2020-08-13</th>\n      <td>0.127606</td>\n      <td>0.201024</td>\n    </tr>\n    <tr>\n      <th>2020-08-14</th>\n      <td>0.201024</td>\n      <td>0.162744</td>\n    </tr>\n    <tr>\n      <th>2020-08-15</th>\n      <td>0.162744</td>\n      <td>0.196316</td>\n    </tr>\n    <tr>\n      <th>...</th>\n      <td>...</td>\n      <td>...</td>\n    </tr>\n    <tr>\n      <th>2022-01-31</th>\n      <td>0.081419</td>\n      <td>0.084601</td>\n    </tr>\n    <tr>\n      <th>2022-02-01</th>\n      <td>0.084601</td>\n      <td>0.082081</td>\n    </tr>\n    <tr>\n      <th>2022-02-02</th>\n      <td>0.082081</td>\n      <td>0.088527</td>\n    </tr>\n    <tr>\n      <th>2022-02-03</th>\n      <td>0.088527</td>\n      <td>0.084359</td>\n    </tr>\n    <tr>\n      <th>2022-02-04</th>\n      <td>0.084359</td>\n      <td>NaN</td>\n    </tr>\n  </tbody>\n</table>\n<p>543 rows × 2 columns</p>\n</div>"
     },
     "execution_count": 68,
     "metadata": {},
     "output_type": "execute_result"
    }
   ],
   "source": [
    "#added new column\n",
    "df[columnName] = df[['Close']].shift(-future_days)\n",
    "\n",
    "df[['Close', columnName]]"
   ],
   "metadata": {
    "collapsed": false,
    "pycharm": {
     "name": "#%%\n"
    }
   }
  },
  {
   "cell_type": "code",
   "execution_count": 69,
   "outputs": [
    {
     "name": "stdout",
     "output_type": "stream",
     "text": [
      "<class 'pandas.core.frame.DataFrame'>\n",
      "DatetimeIndex: 543 entries, 2020-08-11 to 2022-02-04\n",
      "Freq: D\n",
      "Data columns (total 17 columns):\n",
      " #   Column                       Non-Null Count  Dtype  \n",
      "---  ------                       --------------  -----  \n",
      " 0   Date                         543 non-null    object \n",
      " 1   Open                         543 non-null    float64\n",
      " 2   High                         543 non-null    float64\n",
      " 3   Low                          543 non-null    float64\n",
      " 4   Close                        543 non-null    float64\n",
      " 5   Adj Close                    543 non-null    float64\n",
      " 6   Volume                       543 non-null    int64  \n",
      " 7   twitter_followers            543 non-null    float64\n",
      " 8   reddit_average_posts_48h     543 non-null    float64\n",
      " 9   reddit_average_comments_48h  543 non-null    float64\n",
      " 10  reddit_subscribers           543 non-null    int64  \n",
      " 11  reddit_accounts_active_48h   543 non-null    float64\n",
      " 12  idena_unscaled               543 non-null    int64  \n",
      " 13  idena_monthly                543 non-null    float64\n",
      " 14  scale                        543 non-null    float64\n",
      " 15  idena                        543 non-null    float64\n",
      " 16  1_day_price_forecast         542 non-null    float64\n",
      "dtypes: float64(13), int64(3), object(1)\n",
      "memory usage: 76.4+ KB\n"
     ]
    }
   ],
   "source": [
    "df.info()"
   ],
   "metadata": {
    "collapsed": false,
    "pycharm": {
     "name": "#%%\n"
    }
   }
  },
  {
   "cell_type": "code",
   "execution_count": 70,
   "outputs": [
    {
     "name": "stdout",
     "output_type": "stream",
     "text": [
      "(543, 17)\n",
      "[[1.37770e-01 1.24239e-01 4.07830e+04 ... 3.70000e+01 3.70000e-01\n",
      "  0.00000e+00]\n",
      " [1.62275e-01 1.28384e-01 6.55170e+04 ... 3.70000e+01 3.70000e-01\n",
      "  0.00000e+00]\n",
      " [1.38128e-01 1.18348e-01 4.19880e+04 ... 3.70000e+01 3.70000e-01\n",
      "  0.00000e+00]\n",
      " ...\n",
      " [8.55880e-02 8.13300e-02 1.49344e+05 ... 3.00000e+01 3.00000e-01\n",
      "  0.00000e+00]\n",
      " [8.72980e-02 8.15590e-02 1.30836e+05 ... 3.00000e+01 3.00000e-01\n",
      "  0.00000e+00]\n",
      " [8.99600e-02 8.20810e-02 1.41869e+05 ... 3.00000e+01 3.00000e-01\n",
      "  1.44000e+01]]\n"
     ]
    }
   ],
   "source": [
    "X = np.array(df[[\"High\", \"Low\", \"Volume\", \"Open\", 'Close', \"twitter_followers\", \"reddit_average_posts_48h\",\n",
    "                \"reddit_average_comments_48h\", \"reddit_subscribers\", \"reddit_accounts_active_48h\", 'idena_unscaled',\n",
    "                'idena_monthly', 'scale', 'idena']])\n",
    "\n",
    "\n",
    "print(df.shape)\n",
    "\n",
    "X = X[:df.shape[0] - future_days]\n",
    "print(X)"
   ],
   "metadata": {
    "collapsed": false,
    "pycharm": {
     "name": "#%%\n"
    }
   }
  },
  {
   "cell_type": "code",
   "execution_count": 71,
   "outputs": [
    {
     "name": "stdout",
     "output_type": "stream",
     "text": [
      "[0.138122 0.127606 0.201024 0.162744 0.196316 0.218131 0.250788 0.253025\n",
      " 0.268824 0.29112  0.287222 0.25967  0.256249 0.237235 0.226114 0.255959\n",
      " 0.27889  0.270433 0.285196 0.281814 0.288933 0.252189 0.247463 0.213458\n",
      " 0.215829 0.201781 0.188281 0.179111 0.195198 0.194706 0.187714 0.182892\n",
      " 0.143976 0.130773 0.141561 0.145338 0.164182 0.18149  0.181751 0.179018\n",
      " 0.145569 0.138025 0.141171 0.139567 0.133987 0.134377 0.129535 0.126744\n",
      " 0.126741 0.123904 0.116028 0.114721 0.116636 0.116295 0.120187 0.124864\n",
      " 0.116993 0.11924  0.120294 0.123378 0.121102 0.129947 0.124023 0.108435\n",
      " 0.109576 0.095044 0.107073 0.095222 0.100276 0.100151 0.114585 0.115198\n",
      " 0.108259 0.108077 0.10569  0.104818 0.107484 0.102729 0.105178 0.096754\n",
      " 0.097656 0.09411  0.092027 0.100985 0.11806  0.117199 0.114141 0.106572\n",
      " 0.115059 0.119643 0.118467 0.109233 0.119238 0.113289 0.100523 0.101419\n",
      " 0.104538 0.099101 0.093694 0.100268 0.103303 0.104274 0.104665 0.103505\n",
      " 0.10497  0.097782 0.0875   0.089985 0.094185 0.103967 0.108686 0.098272\n",
      " 0.100371 0.094032 0.090621 0.095163 0.096609 0.098266 0.093263 0.095987\n",
      " 0.094651 0.089265 0.097419 0.096305 0.095039 0.082003 0.094363 0.077785\n",
      " 0.077811 0.078399 0.074182 0.073038 0.077465 0.077232 0.080374 0.083477\n",
      " 0.082976 0.07788  0.0789   0.078351 0.08045  0.080388 0.08648  0.088491\n",
      " 0.091237 0.090279 0.093161 0.105718 0.108576 0.110633 0.110386 0.103909\n",
      " 0.098071 0.092976 0.099837 0.104939 0.098282 0.096572 0.095022 0.096062\n",
      " 0.095083 0.093763 0.081548 0.086517 0.07962  0.082755 0.074887 0.078232\n",
      " 0.07176  0.078206 0.077707 0.076903 0.090228 0.079041 0.104947 0.104551\n",
      " 0.122096 0.115789 0.113902 0.114736 0.11393  0.108649 0.105676 0.116057\n",
      " 0.115061 0.116943 0.119226 0.116782 0.118364 0.126119 0.123067 0.136008\n",
      " 0.217459 0.22673  0.200214 0.164628 0.168434 0.158886 0.134029 0.131143\n",
      " 0.120351 0.133087 0.128889 0.13656  0.128607 0.136047 0.135481 0.139957\n",
      " 0.14294  0.150827 0.15205  0.159515 0.159869 0.169601 0.1702   0.148672\n",
      " 0.181901 0.200018 0.171176 0.173469 0.177501 0.17171  0.168032 0.168437\n",
      " 0.157435 0.148944 0.163353 0.152317 0.164724 0.160543 0.158105 0.158547\n",
      " 0.15762  0.163441 0.166633 0.169801 0.160722 0.156377 0.161669 0.157839\n",
      " 0.155584 0.156249 0.156054 0.160179 0.172744 0.169928 0.207011 0.191467\n",
      " 0.191132 0.170492 0.172716 0.175215 0.168156 0.166508 0.187906 0.198503\n",
      " 0.191854 0.212697 0.254865 0.238628 0.254263 0.282275 0.287435 0.273407\n",
      " 0.246601 0.230042 0.24136  0.197264 0.196089 0.194215 0.196946 0.182323\n",
      " 0.184616 0.16214  0.162797 0.165437 0.151321 0.152756 0.133134 0.129058\n",
      " 0.112283 0.140948 0.108192 0.113314 0.113718 0.126704 0.125656 0.124202\n",
      " 0.117023 0.108586 0.105275 0.113281 0.118982 0.118025 0.113072 0.118781\n",
      " 0.111546 0.109793 0.110302 0.101559 0.100452 0.113404 0.110522 0.113217\n",
      " 0.105821 0.113883 0.118168 0.121176 0.114854 0.109782 0.102933 0.09675\n",
      " 0.098883 0.087283 0.089562 0.0922   0.090398 0.08408  0.082224 0.089301\n",
      " 0.086804 0.089426 0.08239  0.078988 0.079708 0.074684 0.078735 0.074714\n",
      " 0.073284 0.075848 0.070285 0.075149 0.07441  0.082495 0.082881 0.07977\n",
      " 0.080395 0.07854  0.094795 0.094073 0.094399 0.092006 0.089013 0.09403\n",
      " 0.096667 0.101371 0.101472 0.106339 0.108387 0.115502 0.115903 0.114093\n",
      " 0.120336 0.123897 0.118873 0.116704 0.116198 0.116703 0.127561 0.122184\n",
      " 0.125116 0.127537 0.128072 0.131759 0.131217 0.117067 0.119943 0.119571\n",
      " 0.11824  0.114925 0.109064 0.109007 0.115083 0.120087 0.125415 0.124337\n",
      " 0.127944 0.120966 0.143493 0.135359 0.150245 0.144952 0.132896 0.132026\n",
      " 0.127748 0.134125 0.133391 0.133521 0.141018 0.136323 0.14385  0.132496\n",
      " 0.129217 0.130959 0.130571 0.136619 0.135765 0.129389 0.139995 0.140813\n",
      " 0.149604 0.144428 0.150084 0.146664 0.129698 0.123999 0.12774  0.130014\n",
      " 0.121688 0.121829 0.117744 0.115697 0.110574 0.115389 0.120761 0.125843\n",
      " 0.123542 0.121885 0.117265 0.122032 0.123138 0.118145 0.116961 0.115963\n",
      " 0.109342 0.106387 0.108417 0.103874 0.099891 0.105467 0.103278 0.097349\n",
      " 0.100103 0.096997 0.101565 0.100745 0.099781 0.097707 0.096369 0.103675\n",
      " 0.111446 0.094877 0.104885 0.102456 0.100415 0.101163 0.106084 0.105497\n",
      " 0.110238 0.107113 0.120231 0.121955 0.141773 0.145178 0.153243 0.168202\n",
      " 0.170722 0.167073 0.167064 0.180508 0.162993 0.161209 0.164109 0.148449\n",
      " 0.150761 0.150013 0.144099 0.140376 0.140984 0.138258 0.145365 0.137012\n",
      " 0.138892 0.14501  0.143819 0.14198  0.14372  0.145367 0.135216 0.126746\n",
      " 0.124666 0.130011 0.132412 0.131441 0.122934 0.116543 0.1227   0.12498\n",
      " 0.114646 0.122094 0.12377  0.116659 0.115223 0.117144 0.114408 0.124943\n",
      " 0.123143 0.12912  0.127005 0.124774 0.123719 0.124579 0.129716 0.122558\n",
      " 0.116641 0.117279 0.113121 0.114321 0.113054 0.109236 0.110288 0.104968\n",
      " 0.104755 0.10125  0.09906  0.101034 0.099697 0.103365 0.107622 0.10405\n",
      " 0.105665 0.104617 0.104936 0.102172 0.105083 0.100434 0.097451 0.087077\n",
      " 0.077885 0.08091  0.08087  0.080629 0.078965 0.081449 0.083021 0.084715\n",
      " 0.083146 0.081419 0.084601 0.082081 0.088527 0.084359]\n"
     ]
    }
   ],
   "source": [
    "y = np.array(df[columnName])\n",
    "y = y[:-future_days]\n",
    "print(y)"
   ],
   "metadata": {
    "collapsed": false,
    "pycharm": {
     "name": "#%%\n"
    }
   }
  },
  {
   "cell_type": "code",
   "execution_count": 72,
   "outputs": [],
   "source": [
    "from sklearn.model_selection import train_test_split\n",
    "\n",
    "x_train, x_test, y_train, y_test = train_test_split(X,y, test_size = 0.2, shuffle=False)"
   ],
   "metadata": {
    "collapsed": false,
    "pycharm": {
     "name": "#%%\n"
    }
   }
  },
  {
   "cell_type": "code",
   "execution_count": 73,
   "outputs": [
    {
     "name": "stdout",
     "output_type": "stream",
     "text": [
      "Scaled X_l:\n",
      "[[-0.06399099  0.03584218 -0.56031728 ... -0.0978506  -0.0978506\n",
      "  -0.86631039]\n",
      " [ 0.40609167  0.13482999 -0.1251141  ... -0.0978506  -0.0978506\n",
      "  -0.86631039]\n",
      " [-0.05712342 -0.1048423  -0.5391149  ... -0.0978506  -0.0978506\n",
      "  -0.86631039]\n",
      " ...\n",
      " [-0.66064394 -0.55060982  0.67074081 ...  0.54195442  0.54195442\n",
      "   2.19225884]\n",
      " [-0.67599045 -0.54893813  0.22227074 ...  0.54195442  0.54195442\n",
      "   0.81422215]\n",
      " [-0.7266531  -0.66970564  0.40651156 ...  0.47086497  0.47086497\n",
      "  -0.04431078]]\n",
      "Scaled y_p:\n",
      "[[ 1.47702742e-01]\n",
      " [-8.07665716e-02]\n",
      " [ 1.51430380e+00]\n",
      " [ 6.82637263e-01]\n",
      " [ 1.41201838e+00]\n",
      " [ 1.88596836e+00]\n",
      " [ 2.59547030e+00]\n",
      " [ 2.64407108e+00]\n",
      " [ 2.98731820e+00]\n",
      " [ 3.47171833e+00]\n",
      " [ 3.38703087e+00]\n",
      " [ 2.78843953e+00]\n",
      " [ 2.71411531e+00]\n",
      " [ 2.30101950e+00]\n",
      " [ 2.05940603e+00]\n",
      " [ 2.70781480e+00]\n",
      " [ 3.20601087e+00]\n",
      " [ 3.02227514e+00]\n",
      " [ 3.34301424e+00]\n",
      " [ 3.26953733e+00]\n",
      " [ 3.42420384e+00]\n",
      " [ 2.62590825e+00]\n",
      " [ 2.52323176e+00]\n",
      " [ 1.78444334e+00]\n",
      " [ 1.83595540e+00]\n",
      " [ 1.53075029e+00]\n",
      " [ 1.23745096e+00]\n",
      " [ 1.03822468e+00]\n",
      " [ 1.38772885e+00]\n",
      " [ 1.37703972e+00]\n",
      " [ 1.22513239e+00]\n",
      " [ 1.12037021e+00]\n",
      " [ 2.74886020e-01]\n",
      " [-1.19607220e-02]\n",
      " [ 2.22418029e-01]\n",
      " [ 3.04476664e-01]\n",
      " [ 7.13879073e-01]\n",
      " [ 1.08991054e+00]\n",
      " [ 1.09558099e+00]\n",
      " [ 1.03620417e+00]\n",
      " [ 3.09495341e-01]\n",
      " [ 1.45595332e-01]\n",
      " [ 2.13944938e-01]\n",
      " [ 1.79096633e-01]\n",
      " [ 5.78662438e-02]\n",
      " [ 6.63393355e-02]\n",
      " [-3.88573566e-02]\n",
      " [-9.94942768e-02]\n",
      " [-9.95594545e-02]\n",
      " [-1.61195765e-01]\n",
      " [-3.32308765e-01]\n",
      " [-3.60704485e-01]\n",
      " [-3.19099433e-01]\n",
      " [-3.26507956e-01]\n",
      " [-2.41950846e-01]\n",
      " [-1.40338924e-01]\n",
      " [-3.11343295e-01]\n",
      " [-2.62525251e-01]\n",
      " [-2.39626178e-01]\n",
      " [-1.72623576e-01]\n",
      " [-2.22071670e-01]\n",
      " [-2.99062957e-02]\n",
      " [-1.58610386e-01]\n",
      " [-4.97273342e-01]\n",
      " [-4.72484118e-01]\n",
      " [-7.88204549e-01]\n",
      " [-5.26863986e-01]\n",
      " [-7.84337344e-01]\n",
      " [-6.74534766e-01]\n",
      " [-6.77250500e-01]\n",
      " [-3.63659204e-01]\n",
      " [-3.50341242e-01]\n",
      " [-5.01097097e-01]\n",
      " [-5.05051206e-01]\n",
      " [-5.56910872e-01]\n",
      " [-5.75855836e-01]\n",
      " [-5.17934651e-01]\n",
      " [-6.21241192e-01]\n",
      " [-5.68034521e-01]\n",
      " [-7.51053301e-01]\n",
      " [-7.31456561e-01]\n",
      " [-8.08496518e-01]\n",
      " [-8.53751518e-01]\n",
      " [-6.59131119e-01]\n",
      " [-2.88161785e-01]\n",
      " [-3.06867764e-01]\n",
      " [-3.73305493e-01]\n",
      " [-5.37748650e-01]\n",
      " [-3.53361139e-01]\n",
      " [-2.53769723e-01]\n",
      " [-2.79319353e-01]\n",
      " [-4.79936093e-01]\n",
      " [-2.62568703e-01]\n",
      " [-3.91815940e-01]\n",
      " [-6.69168474e-01]\n",
      " [-6.49702089e-01]\n",
      " [-5.81939082e-01]\n",
      " [-7.00062670e-01]\n",
      " [-8.17534482e-01]\n",
      " [-6.74708573e-01]\n",
      " [-6.08770539e-01]\n",
      " [-5.87674713e-01]\n",
      " [-5.79179895e-01]\n",
      " [-6.04381912e-01]\n",
      " [-5.72553503e-01]\n",
      " [-7.28719101e-01]\n",
      " [-9.52104559e-01]\n",
      " [-8.98115757e-01]\n",
      " [-8.06867077e-01]\n",
      " [-5.94344557e-01]\n",
      " [-4.91820148e-01]\n",
      " [-7.18073421e-01]\n",
      " [-6.72470807e-01]\n",
      " [-8.10191136e-01]\n",
      " [-8.84298099e-01]\n",
      " [-7.85619170e-01]\n",
      " [-7.54203553e-01]\n",
      " [-7.18203777e-01]\n",
      " [-8.26898335e-01]\n",
      " [-7.67717048e-01]\n",
      " [-7.96742819e-01]\n",
      " [-9.13758387e-01]\n",
      " [-7.36605594e-01]\n",
      " [-7.60808220e-01]\n",
      " [-7.88313179e-01]\n",
      " [-1.07153170e+00]\n",
      " [-8.02999871e-01]\n",
      " [-1.16317145e+00]\n",
      " [-1.16260657e+00]\n",
      " [-1.14983176e+00]\n",
      " [-1.24144978e+00]\n",
      " [-1.26630418e+00]\n",
      " [-1.17012373e+00]\n",
      " [-1.17518585e+00]\n",
      " [-1.10692315e+00]\n",
      " [-1.03950776e+00]\n",
      " [-1.05039242e+00]\n",
      " [-1.16110749e+00]\n",
      " [-1.13894709e+00]\n",
      " [-1.15087460e+00]\n",
      " [-1.10527199e+00]\n",
      " [-1.10661899e+00]\n",
      " [-9.74264952e-01]\n",
      " [-9.30574216e-01]\n",
      " [-8.70914960e-01]\n",
      " [-8.91728349e-01]\n",
      " [-8.29114374e-01]\n",
      " [-5.56302548e-01]\n",
      " [-4.94209994e-01]\n",
      " [-4.49519867e-01]\n",
      " [-4.54886158e-01]\n",
      " [-5.95604658e-01]\n",
      " [-7.22440322e-01]\n",
      " [-8.33133661e-01]\n",
      " [-6.84072425e-01]\n",
      " [-5.73227005e-01]\n",
      " [-7.17856163e-01]\n",
      " [-7.55007411e-01]\n",
      " [-7.88682519e-01]\n",
      " [-7.66087608e-01]\n",
      " [-7.87357240e-01]\n",
      " [-8.16035397e-01]\n",
      " [-1.08141697e+00]\n",
      " [-9.73461095e-01]\n",
      " [-1.12330446e+00]\n",
      " [-1.05519384e+00]\n",
      " [-1.22613303e+00]\n",
      " [-1.15345998e+00]\n",
      " [-1.29406985e+00]\n",
      " [-1.15402485e+00]\n",
      " [-1.16486606e+00]\n",
      " [-1.18233367e+00]\n",
      " [-8.92836369e-01]\n",
      " [-1.13588374e+00]\n",
      " [-5.73053198e-01]\n",
      " [-5.81656645e-01]\n",
      " [-2.00476149e-01]\n",
      " [-3.37501250e-01]\n",
      " [-3.78497978e-01]\n",
      " [-3.60378597e-01]\n",
      " [-3.77889653e-01]\n",
      " [-4.92624005e-01]\n",
      " [-5.57215035e-01]\n",
      " [-3.31678715e-01]\n",
      " [-3.53317687e-01]\n",
      " [-3.12429589e-01]\n",
      " [-2.62829413e-01]\n",
      " [-3.15927455e-01]\n",
      " [-2.81557119e-01]\n",
      " [-1.13072949e-01]\n",
      " [-1.79380323e-01]\n",
      " [ 1.01774239e-01]\n",
      " [ 1.87136857e+00]\n",
      " [ 2.07278917e+00]\n",
      " [ 1.49670584e+00]\n",
      " [ 7.23568814e-01]\n",
      " [ 8.06257498e-01]\n",
      " [ 5.98818833e-01]\n",
      " [ 5.87787306e-02]\n",
      " [-3.92214783e-03]\n",
      " [-2.38387803e-01]\n",
      " [ 3.83129553e-02]\n",
      " [-5.28922726e-02]\n",
      " [ 1.13766923e-01]\n",
      " [-5.90189696e-02]\n",
      " [ 1.02621549e-01]\n",
      " [ 9.03247027e-02]\n",
      " [ 1.87569724e-01]\n",
      " [ 2.52378013e-01]\n",
      " [ 4.23729997e-01]\n",
      " [ 4.50300744e-01]\n",
      " [ 6.12484409e-01]\n",
      " [ 6.20175369e-01]\n",
      " [ 8.31611596e-01]\n",
      " [ 8.44625395e-01]\n",
      " [ 3.76910734e-01]\n",
      " [ 1.09883987e+00]\n",
      " [ 1.49244757e+00]\n",
      " [ 8.65829850e-01]\n",
      " [ 9.15647284e-01]\n",
      " [ 1.00324602e+00]\n",
      " [ 8.77431468e-01]\n",
      " [ 7.97523696e-01]\n",
      " [ 8.06322676e-01]\n",
      " [ 5.67294587e-01]\n",
      " [ 3.82820173e-01]\n",
      " [ 6.95868322e-01]\n",
      " [ 4.56101553e-01]\n",
      " [ 7.25654498e-01]\n",
      " [ 6.34818610e-01]\n",
      " [ 5.81850924e-01]\n",
      " [ 5.91453761e-01]\n",
      " [ 5.71313874e-01]\n",
      " [ 6.97780199e-01]\n",
      " [ 7.67129195e-01]\n",
      " [ 8.35956771e-01]\n",
      " [ 6.38707542e-01]\n",
      " [ 5.44308610e-01]\n",
      " [ 6.59281946e-01]\n",
      " [ 5.76071841e-01]\n",
      " [ 5.27079990e-01]\n",
      " [ 5.41527698e-01]\n",
      " [ 5.37291152e-01]\n",
      " [ 6.26910391e-01]\n",
      " [ 8.99896024e-01]\n",
      " [ 8.38715957e-01]\n",
      " [ 1.64437662e+00]\n",
      " [ 1.30666960e+00]\n",
      " [ 1.29939143e+00]\n",
      " [ 8.50969351e-01]\n",
      " [ 8.99287700e-01]\n",
      " [ 9.53580664e-01]\n",
      " [ 8.00217705e-01]\n",
      " [ 7.64413461e-01]\n",
      " [ 1.22930376e+00]\n",
      " [ 1.45953287e+00]\n",
      " [ 1.31507752e+00]\n",
      " [ 1.76790995e+00]\n",
      " [ 2.68404670e+00]\n",
      " [ 2.33128365e+00]\n",
      " [ 2.67096772e+00]\n",
      " [ 3.27955296e+00]\n",
      " [ 3.39165848e+00]\n",
      " [ 3.08688789e+00]\n",
      " [ 2.50450406e+00]\n",
      " [ 2.14474527e+00]\n",
      " [ 2.39063874e+00]\n",
      " [ 1.43261451e+00]\n",
      " [ 1.40708660e+00]\n",
      " [ 1.36637231e+00]\n",
      " [ 1.42570568e+00]\n",
      " [ 1.10800819e+00]\n",
      " [ 1.15782563e+00]\n",
      " [ 6.69514834e-01]\n",
      " [ 6.83788734e-01]\n",
      " [ 7.41145047e-01]\n",
      " [ 4.34462580e-01]\n",
      " [ 4.65639212e-01]\n",
      " [ 3.93340715e-02]\n",
      " [-4.92205995e-02]\n",
      " [-4.13672171e-01]\n",
      " [ 2.09100067e-01]\n",
      " [-5.02552730e-01]\n",
      " [-3.91272793e-01]\n",
      " [-3.82495539e-01]\n",
      " [-1.00363312e-01]\n",
      " [-1.23132030e-01]\n",
      " [-1.54721454e-01]\n",
      " [-3.10691518e-01]\n",
      " [-4.93992735e-01]\n",
      " [-5.65927111e-01]\n",
      " [-3.91989747e-01]\n",
      " [-2.68130527e-01]\n",
      " [-2.88922191e-01]\n",
      " [-3.96530455e-01]\n",
      " [-2.72497428e-01]\n",
      " [-4.29684142e-01]\n",
      " [-4.67769603e-01]\n",
      " [-4.56711132e-01]\n",
      " [-6.46660467e-01]\n",
      " [-6.70711011e-01]\n",
      " [-3.89317464e-01]\n",
      " [-4.51931439e-01]\n",
      " [-3.93380203e-01]\n",
      " [-5.54064783e-01]\n",
      " [-3.78910769e-01]\n",
      " [-2.85815390e-01]\n",
      " [-2.20463955e-01]\n",
      " [-3.57814944e-01]\n",
      " [-4.68008587e-01]\n",
      " [-6.16809113e-01]\n",
      " [-7.51140205e-01]\n",
      " [-7.04798911e-01]\n",
      " [-9.56819074e-01]\n",
      " [-9.07305802e-01]\n",
      " [-8.49992941e-01]\n",
      " [-8.89142970e-01]\n",
      " [-1.02640706e+00]\n",
      " [-1.06673028e+00]\n",
      " [-9.12976256e-01]\n",
      " [-9.67225769e-01]\n",
      " [-9.10260521e-01]\n",
      " [-1.06312379e+00]\n",
      " [-1.13703522e+00]\n",
      " [-1.12139259e+00]\n",
      " [-1.23054339e+00]\n",
      " [-1.14253186e+00]\n",
      " [-1.22989161e+00]\n",
      " [-1.26095961e+00]\n",
      " [-1.20525447e+00]\n",
      " [-1.32611552e+00]\n",
      " [-1.22044085e+00]\n",
      " [-1.23649628e+00]\n",
      " [-1.06084257e+00]\n",
      " [-1.05245638e+00]\n",
      " [-1.12004558e+00]\n",
      " [-1.10646691e+00]\n",
      " [-1.14676841e+00]\n",
      " [-7.93614293e-01]\n",
      " [-8.09300375e-01]\n",
      " [-8.02217740e-01]\n",
      " [-8.54207761e-01]\n",
      " [-9.19233308e-01]\n",
      " [-8.10234588e-01]\n",
      " [-7.52943453e-01]\n",
      " [-6.50744931e-01]\n",
      " [-6.48550618e-01]\n",
      " [-5.42810779e-01]\n",
      " [-4.98316185e-01]\n",
      " [-3.43736576e-01]\n",
      " [-3.35024500e-01]\n",
      " [-3.74348335e-01]\n",
      " [-2.38713691e-01]\n",
      " [-1.61347846e-01]\n",
      " [-2.70498648e-01]\n",
      " [-3.17622073e-01]\n",
      " [-3.28615366e-01]\n",
      " [-3.17643799e-01]\n",
      " [-8.17442360e-02]\n",
      " [-1.98564272e-01]\n",
      " [-1.34864003e-01]\n",
      " [-8.22656571e-02]\n",
      " [-7.06423134e-02]\n",
      " [ 9.46099185e-03]\n",
      " [-2.31443300e-03]\n",
      " [-3.09735580e-01]\n",
      " [-2.47251960e-01]\n",
      " [-2.55333986e-01]\n",
      " [-2.84251127e-01]\n",
      " [-3.56272407e-01]\n",
      " [-4.83607766e-01]\n",
      " [-4.84846141e-01]\n",
      " [-3.52839718e-01]\n",
      " [-2.44123434e-01]\n",
      " [-1.28367966e-01]\n",
      " [-1.51788461e-01]\n",
      " [-7.34232255e-02]\n",
      " [-2.25026389e-01]\n",
      " [ 2.64392422e-01]\n",
      " [ 8.76741458e-02]\n",
      " [ 4.11085538e-01]\n",
      " [ 2.96090475e-01]\n",
      " [ 3.41633130e-02]\n",
      " [ 1.52618008e-02]\n",
      " [-7.76814972e-02]\n",
      " [ 6.08644147e-02]\n",
      " [ 4.49176217e-02]\n",
      " [ 4.77419856e-02]\n",
      " [ 2.10620879e-01]\n",
      " [ 1.08617890e-01]\n",
      " [ 2.72148560e-01]\n",
      " [ 2.54729625e-02]\n",
      " [-4.57661852e-02]\n",
      " [-7.91970903e-03]\n",
      " [-1.63493490e-02]\n",
      " [ 1.15048750e-01]\n",
      " [ 9.64948515e-02]\n",
      " [-4.20293345e-02]\n",
      " [ 1.88395307e-01]\n",
      " [ 2.06167074e-01]\n",
      " [ 3.97159251e-01]\n",
      " [ 2.84706116e-01]\n",
      " [ 4.07587672e-01]\n",
      " [ 3.33285175e-01]\n",
      " [-3.53160388e-02]\n",
      " [-1.59131807e-01]\n",
      " [-7.78553042e-02]\n",
      " [-2.84506620e-02]\n",
      " [-2.09340306e-01]\n",
      " [-2.06276958e-01]\n",
      " [-2.95027162e-01]\n",
      " [-3.39500030e-01]\n",
      " [-4.50801693e-01]\n",
      " [-3.46191600e-01]\n",
      " [-2.29480194e-01]\n",
      " [-1.19069291e-01]\n",
      " [-1.69060532e-01]\n",
      " [-2.05060309e-01]\n",
      " [-3.05433856e-01]\n",
      " [-2.01866605e-01]\n",
      " [-1.77837786e-01]\n",
      " [-2.86315085e-01]\n",
      " [-3.12038523e-01]\n",
      " [-3.33720947e-01]\n",
      " [-4.77567973e-01]\n",
      " [-5.41767937e-01]\n",
      " [-4.97664408e-01]\n",
      " [-5.96365063e-01]\n",
      " [-6.82899228e-01]\n",
      " [-5.61755743e-01]\n",
      " [-6.09313686e-01]\n",
      " [-7.38126405e-01]\n",
      " [-6.78293342e-01]]\n"
     ]
    }
   ],
   "source": [
    "from sklearn.preprocessing import StandardScaler\n",
    "\n",
    "\n",
    "StdS_X = StandardScaler()\n",
    "StdS_y = StandardScaler()\n",
    "X_l = StdS_X.fit_transform(x_train)\n",
    "y_p = StdS_y.fit_transform(y_train.reshape(-1,1))\n",
    "\n",
    "print(\"Scaled X_l:\")\n",
    "print(X_l)\n",
    "print(\"Scaled y_p:\")\n",
    "print(y_p)\n"
   ],
   "metadata": {
    "collapsed": false,
    "pycharm": {
     "name": "#%%\n"
    }
   }
  },
  {
   "cell_type": "code",
   "execution_count": 74,
   "outputs": [
    {
     "name": "stdout",
     "output_type": "stream",
     "text": [
      "Scaled X_l_test:\n",
      "[[-0.88574885 -0.86347794 -1.25171881 ... -0.10386464 -0.10386464\n",
      "  -0.30772332]\n",
      " [-0.83660015 -0.8939447  -0.10328959 ... -0.10386464 -0.10386464\n",
      "  -0.33551275]\n",
      " [-0.75396594 -0.80628594 -0.88050269 ... -0.10386464 -0.10386464\n",
      "   0.85943273]\n",
      " ...\n",
      " [-1.47231431 -1.39232573 -0.80839648 ... -0.83270024 -0.83270024\n",
      "  -0.91909078]\n",
      " [-1.40518629 -1.3821256  -0.97598931 ... -0.83270024 -0.83270024\n",
      "  -0.91909078]\n",
      " [-1.30068641 -1.35887465 -0.87608377 ... -0.83270024 -0.83270024\n",
      "  -0.02982902]]\n",
      "Scaled y_p_test:\n",
      "[[-0.86680791]\n",
      " [-0.67478418]\n",
      " [-0.70925429]\n",
      " [-0.74977768]\n",
      " [-0.83696184]\n",
      " [-0.89320696]\n",
      " [-0.58608671]\n",
      " [-0.25941938]\n",
      " [-0.95592575]\n",
      " [-0.53522228]\n",
      " [-0.63732947]\n",
      " [-0.72312641]\n",
      " [-0.69168294]\n",
      " [-0.48482026]\n",
      " [-0.50949581]\n",
      " [-0.31019973]\n",
      " [-0.44156447]\n",
      " [ 0.10987318]\n",
      " [ 0.18234448]\n",
      " [ 1.01542814]\n",
      " [ 1.15856316]\n",
      " [ 1.49758929]\n",
      " [ 2.12641654]\n",
      " [ 2.23234906]\n",
      " [ 2.07895708]\n",
      " [ 2.07857875]\n",
      " [ 2.64372038]\n",
      " [ 1.90744728]\n",
      " [ 1.83245377]\n",
      " [ 1.95436025]\n",
      " [ 1.29606526]\n",
      " [ 1.39325415]\n",
      " [ 1.36181069]\n",
      " [ 1.11320554]\n",
      " [ 0.95670285]\n",
      " [ 0.98226117]\n",
      " [ 0.86766908]\n",
      " [ 1.16642403]\n",
      " [ 0.81529133]\n",
      " [ 0.89432036]\n",
      " [ 1.15150099]\n",
      " [ 1.10143526]\n",
      " [ 1.02412974]\n",
      " [ 1.09727363]\n",
      " [ 1.1665081 ]\n",
      " [ 0.73979339]\n",
      " [ 0.38374239]\n",
      " [ 0.29630602]\n",
      " [ 0.52099227]\n",
      " [ 0.62192243]\n",
      " [ 0.58110478]\n",
      " [ 0.22349843]\n",
      " [-0.04515823]\n",
      " [ 0.21366183]\n",
      " [ 0.30950555]\n",
      " [-0.12490188]\n",
      " [ 0.18818758]\n",
      " [ 0.25864112]\n",
      " [-0.04028197]\n",
      " [-0.1006467 ]\n",
      " [-0.01989417]\n",
      " [-0.13490662]\n",
      " [ 0.30795019]\n",
      " [ 0.2322841 ]\n",
      " [ 0.48353756]\n",
      " [ 0.3946299 ]\n",
      " [ 0.30084599]\n",
      " [ 0.25649725]\n",
      " [ 0.29264883]\n",
      " [ 0.50859144]\n",
      " [ 0.20769262]\n",
      " [-0.04103863]\n",
      " [-0.01421921]\n",
      " [-0.18900788]\n",
      " [-0.13856382]\n",
      " [-0.19182434]\n",
      " [-0.35232052]\n",
      " [-0.3080979 ]\n",
      " [-0.53173323]\n",
      " [-0.54068705]\n",
      " [-0.68802575]\n",
      " [-0.78008616]\n",
      " [-0.69710568]\n",
      " [-0.75330877]\n",
      " [-0.59911809]\n",
      " [-0.42016779]\n",
      " [-0.57032294]\n",
      " [-0.50243364]\n",
      " [-0.54648812]\n",
      " [-0.53307841]\n",
      " [-0.64926789]\n",
      " [-0.52689901]\n",
      " [-0.72232771]\n",
      " [-0.84772324]\n",
      " [-1.28381214]\n",
      " [-1.67021364]\n",
      " [-1.54305257]\n",
      " [-1.54473404]\n",
      " [-1.55486489]\n",
      " [-1.62481399]\n",
      " [-1.52039478]\n",
      " [-1.45431306]\n",
      " [-1.38310286]\n",
      " [-1.44905847]\n",
      " [-1.52165588]\n",
      " [-1.38789505]\n",
      " [-1.49382758]\n",
      " [-1.2228589 ]\n",
      " [-1.39806794]]\n"
     ]
    }
   ],
   "source": [
    "\n",
    "StdS_X_test = StandardScaler()\n",
    "StdS_y_test = StandardScaler()\n",
    "\n",
    "X_l_test = StdS_X_test.fit_transform(x_test)\n",
    "y_p_test = StdS_y_test.fit_transform(y_test.reshape(-1,1))\n",
    "\n",
    "print(\"Scaled X_l_test:\")\n",
    "print(X_l_test)\n",
    "print(\"Scaled y_p_test:\")\n",
    "print(y_p_test)"
   ],
   "metadata": {
    "collapsed": false,
    "pycharm": {
     "name": "#%%\n"
    }
   }
  },
  {
   "cell_type": "code",
   "execution_count": 75,
   "outputs": [
    {
     "name": "stderr",
     "output_type": "stream",
     "text": [
      "C:\\Users\\nikol\\Desktop\\SIAP - projekat\\SIAP_2022\\venv\\lib\\site-packages\\sklearn\\utils\\validation.py:993: DataConversionWarning: A column-vector y was passed when a 1d array was expected. Please change the shape of y to (n_samples, ), for example using ravel().\n",
      "  y = column_or_1d(y, warn=True)\n"
     ]
    },
    {
     "data": {
      "text/plain": "SVR(C=1000.0, gamma='auto', kernel='linear')"
     },
     "execution_count": 75,
     "metadata": {},
     "output_type": "execute_result"
    }
   ],
   "source": [
    "from sklearn.svm import SVR\n",
    "svr_linear = SVR(kernel='linear', C = 1e3, gamma=\"auto\")\n",
    "svr_linear.fit(X_l, y_p)"
   ],
   "metadata": {
    "collapsed": false,
    "pycharm": {
     "name": "#%%\n"
    }
   }
  },
  {
   "cell_type": "code",
   "execution_count": 76,
   "outputs": [
    {
     "data": {
      "text/plain": "LinearRegression()"
     },
     "execution_count": 76,
     "metadata": {},
     "output_type": "execute_result"
    }
   ],
   "source": [
    "from sklearn.linear_model import LinearRegression\n",
    "# Create and train the Linear Regression  Model\n",
    "lr = LinearRegression()\n",
    "# Train the model\n",
    "lr.fit(X_l, y_p)"
   ],
   "metadata": {
    "collapsed": false,
    "pycharm": {
     "name": "#%%\n"
    }
   }
  },
  {
   "cell_type": "code",
   "execution_count": 77,
   "outputs": [
    {
     "name": "stdout",
     "output_type": "stream",
     "text": [
      "lr confidence:  0.936881436830002\n",
      "svr_linear confidence 0.9371319074601607\n"
     ]
    }
   ],
   "source": [
    "# Testing Model: Score returns the coefficient of determination R^2 of the prediction.\n",
    "# The best possible score is 1.0\n",
    "lr_confidence = lr.score(X_l_test, y_p_test)\n",
    "print(\"lr confidence: \", lr_confidence)\n",
    "\n",
    "svr_linear_confidence = svr_linear.score(X_l_test, y_p_test)\n",
    "print('svr_linear confidence', svr_linear_confidence)"
   ],
   "metadata": {
    "collapsed": false,
    "pycharm": {
     "name": "#%%\n"
    }
   }
  },
  {
   "cell_type": "code",
   "execution_count": 78,
   "outputs": [
    {
     "name": "stdout",
     "output_type": "stream",
     "text": [
      "[-7.53705951e-01 -8.49004332e-01 -6.82916895e-01 -7.01204108e-01\n",
      " -7.58430916e-01 -8.44105677e-01 -9.25790941e-01 -6.38072891e-01\n",
      " -2.94443291e-01 -9.10335598e-01 -5.74576933e-01 -6.51788176e-01\n",
      " -7.50912351e-01 -7.47932552e-01 -5.51691018e-01 -5.35076812e-01\n",
      " -3.54192523e-01 -4.88420962e-01  5.15902247e-02  1.12084947e-01\n",
      "  9.11820405e-01  1.11258015e+00  1.43483174e+00  2.00231963e+00\n",
      "  2.13954845e+00  1.97973410e+00  1.97078494e+00  2.46946423e+00\n",
      "  1.86374388e+00  1.73213247e+00  1.84147387e+00  1.29145977e+00\n",
      "  1.32558236e+00  1.29422575e+00  1.06423258e+00  9.19404802e-01\n",
      "  9.39651920e-01  8.35287607e-01  1.14328284e+00  8.38572435e-01\n",
      "  8.38475155e-01  1.06022299e+00  1.04441158e+00  9.73468964e-01\n",
      "  1.04639612e+00  1.07856863e+00  7.19069197e-01  3.50233283e-01\n",
      "  2.58135618e-01  4.85652995e-01  5.80238039e-01  5.39684185e-01\n",
      "  2.12519815e-01 -4.12590308e-02  2.01236199e-01  3.03471864e-01\n",
      " -1.16736710e-01  1.16628503e-01  1.82049221e-01 -7.15634518e-02\n",
      " -1.26063098e-01 -6.05544119e-02 -1.58435115e-01  2.56255285e-01\n",
      "  2.36813176e-01  4.39754368e-01  3.84093155e-01  2.86133483e-01\n",
      "  2.36954253e-01  2.85930877e-01  5.12355324e-01  2.56552222e-01\n",
      " -5.59985476e-04  3.28988447e-02 -1.43521215e-01 -1.05838472e-01\n",
      " -1.72533551e-01 -3.53436167e-01 -3.26070260e-01 -5.30785551e-01\n",
      " -5.43454665e-01 -6.83053569e-01 -7.78769673e-01 -6.92145744e-01\n",
      " -7.59041766e-01 -6.16769947e-01 -4.57755333e-01 -5.52539116e-01\n",
      " -5.03856188e-01 -5.39187237e-01 -5.25122824e-01 -6.57176594e-01\n",
      " -5.23061514e-01 -6.97131153e-01 -8.33930370e-01 -1.23483437e+00\n",
      " -1.58267352e+00 -1.50431162e+00 -1.52282740e+00 -1.52091894e+00\n",
      " -1.58538553e+00 -1.49766703e+00 -1.44008329e+00 -1.37074291e+00\n",
      " -1.44706756e+00 -1.48348767e+00 -1.38905617e+00 -1.45479439e+00\n",
      " -1.19171979e+00]\n"
     ]
    }
   ],
   "source": [
    "svr_prediction = svr_linear.predict(X_l_test)\n",
    "print(svr_prediction)"
   ],
   "metadata": {
    "collapsed": false,
    "pycharm": {
     "name": "#%%\n"
    }
   }
  },
  {
   "cell_type": "code",
   "execution_count": 79,
   "outputs": [
    {
     "name": "stdout",
     "output_type": "stream",
     "text": [
      "[[0.0966319 ]\n",
      " [0.0922455 ]\n",
      " [0.09989019]\n",
      " [0.09904846]\n",
      " [0.09641442]\n",
      " [0.09247098]\n",
      " [0.08871116]\n",
      " [0.10195427]\n",
      " [0.11777087]\n",
      " [0.08942254]\n",
      " [0.10487687]\n",
      " [0.10132298]\n",
      " [0.09676049]\n",
      " [0.09689764]\n",
      " [0.10593026]\n",
      " [0.10669498]\n",
      " [0.11502073]\n",
      " [0.10884246]\n",
      " [0.13369813]\n",
      " [0.13648258]\n",
      " [0.17329286]\n",
      " [0.18253344]\n",
      " [0.19736605]\n",
      " [0.22348642]\n",
      " [0.2298028 ]\n",
      " [0.22244686]\n",
      " [0.22203494]\n",
      " [0.24498818]\n",
      " [0.21710805]\n",
      " [0.21105023]\n",
      " [0.216083  ]\n",
      " [0.19076692]\n",
      " [0.19233752]\n",
      " [0.19089423]\n",
      " [0.18030809]\n",
      " [0.17364195]\n",
      " [0.17457389]\n",
      " [0.1697702 ]\n",
      " [0.18394662]\n",
      " [0.16992139]\n",
      " [0.16991692]\n",
      " [0.18012354]\n",
      " [0.17939577]\n",
      " [0.17613042]\n",
      " [0.17948712]\n",
      " [0.18096795]\n",
      " [0.16442089]\n",
      " [0.14744409]\n",
      " [0.14320501]\n",
      " [0.1536772 ]\n",
      " [0.15803076]\n",
      " [0.15616415]\n",
      " [0.1411054 ]\n",
      " [0.12942446]\n",
      " [0.14058604]\n",
      " [0.14529175]\n",
      " [0.12595036]\n",
      " [0.13669171]\n",
      " [0.1397029 ]\n",
      " [0.1280296 ]\n",
      " [0.12552109]\n",
      " [0.12853633]\n",
      " [0.12403107]\n",
      " [0.14311846]\n",
      " [0.14222358]\n",
      " [0.15156457]\n",
      " [0.14900259]\n",
      " [0.1444937 ]\n",
      " [0.14223007]\n",
      " [0.14448437]\n",
      " [0.15490625]\n",
      " [0.14313213]\n",
      " [0.13129775]\n",
      " [0.1328378 ]\n",
      " [0.12471753]\n",
      " [0.12645199]\n",
      " [0.12338214]\n",
      " [0.11505555]\n",
      " [0.11631515]\n",
      " [0.1068925 ]\n",
      " [0.10630936]\n",
      " [0.0998839 ]\n",
      " [0.09547827]\n",
      " [0.0994654 ]\n",
      " [0.09638631]\n",
      " [0.1029348 ]\n",
      " [0.11025394]\n",
      " [0.10589122]\n",
      " [0.108132  ]\n",
      " [0.10650578]\n",
      " [0.10715314]\n",
      " [0.10107496]\n",
      " [0.10724802]\n",
      " [0.09923593]\n",
      " [0.09293933]\n",
      " [0.07448649]\n",
      " [0.05847613]\n",
      " [0.06208298]\n",
      " [0.06123073]\n",
      " [0.06131858]\n",
      " [0.0583513 ]\n",
      " [0.06238882]\n",
      " [0.06503928]\n",
      " [0.06823089]\n",
      " [0.06471781]\n",
      " [0.06304146]\n",
      " [0.06738796]\n",
      " [0.06436216]\n",
      " [0.07647098]]\n"
     ]
    }
   ],
   "source": [
    "final_prediction =svr_prediction.reshape(-1,1)\n",
    "final_prediction = StdS_y.inverse_transform(final_prediction)\n",
    "print(final_prediction)\n"
   ],
   "metadata": {
    "collapsed": false,
    "pycharm": {
     "name": "#%%\n"
    }
   }
  },
  {
   "cell_type": "code",
   "execution_count": 80,
   "outputs": [
    {
     "name": "stdout",
     "output_type": "stream",
     "text": [
      "[0.096997 0.101565 0.100745 0.099781 0.097707 0.096369 0.103675 0.111446\n",
      " 0.094877 0.104885 0.102456 0.100415 0.101163 0.106084 0.105497 0.110238\n",
      " 0.107113 0.120231 0.121955 0.141773 0.145178 0.153243 0.168202 0.170722\n",
      " 0.167073 0.167064 0.180508 0.162993 0.161209 0.164109 0.148449 0.150761\n",
      " 0.150013 0.144099 0.140376 0.140984 0.138258 0.145365 0.137012 0.138892\n",
      " 0.14501  0.143819 0.14198  0.14372  0.145367 0.135216 0.126746 0.124666\n",
      " 0.130011 0.132412 0.131441 0.122934 0.116543 0.1227   0.12498  0.114646\n",
      " 0.122094 0.12377  0.116659 0.115223 0.117144 0.114408 0.124943 0.123143\n",
      " 0.12912  0.127005 0.124774 0.123719 0.124579 0.129716 0.122558 0.116641\n",
      " 0.117279 0.113121 0.114321 0.113054 0.109236 0.110288 0.104968 0.104755\n",
      " 0.10125  0.09906  0.101034 0.099697 0.103365 0.107622 0.10405  0.105665\n",
      " 0.104617 0.104936 0.102172 0.105083 0.100434 0.097451 0.087077 0.077885\n",
      " 0.08091  0.08087  0.080629 0.078965 0.081449 0.083021 0.084715 0.083146\n",
      " 0.081419 0.084601 0.082081 0.088527 0.084359]\n"
     ]
    }
   ],
   "source": [
    "print(y_test)"
   ],
   "metadata": {
    "collapsed": false,
    "pycharm": {
     "name": "#%%\n"
    }
   }
  },
  {
   "cell_type": "code",
   "execution_count": 81,
   "outputs": [
    {
     "name": "stdout",
     "output_type": "stream",
     "text": [
      "109\n",
      "109\n"
     ]
    }
   ],
   "source": [
    "print(len(final_prediction))\n",
    "print(len(y_test))"
   ],
   "metadata": {
    "collapsed": false,
    "pycharm": {
     "name": "#%%\n"
    }
   }
  },
  {
   "cell_type": "code",
   "execution_count": 82,
   "outputs": [
    {
     "data": {
      "text/plain": "                  Date      Open      High       Low     Close  Adj Close  \\\n2020-08-11  2020-08-11  0.125496  0.137770  0.124239  0.130634   0.130634   \n2020-08-12  2020-08-12  0.130674  0.162275  0.128384  0.138122   0.138122   \n2020-08-13  2020-08-13  0.138128  0.138128  0.118348  0.127606   0.127606   \n2020-08-14  2020-08-14  0.127084  0.201024  0.121670  0.201024   0.201024   \n2020-08-15  2020-08-15  0.201097  0.202423  0.138915  0.162744   0.162744   \n...                ...       ...       ...       ...       ...        ...   \n2022-01-31  2022-01-31  0.083146  0.083205  0.078528  0.081419   0.081419   \n2022-02-01  2022-02-01  0.081419  0.085588  0.081330  0.084601   0.084601   \n2022-02-02  2022-02-02  0.084601  0.087298  0.081559  0.082081   0.082081   \n2022-02-03  2022-02-03  0.082081  0.089960  0.082081  0.088527   0.088527   \n2022-02-04  2022-02-04  0.088531  0.090840  0.084359  0.084359   0.084359   \n\n            Volume  twitter_followers  reddit_average_posts_48h  \\\n2020-08-11   40783             1817.0                     0.273   \n2020-08-12   65517             1829.0                     0.182   \n2020-08-13   41988             2149.0                     0.083   \n2020-08-14  104705             2208.0                     0.000   \n2020-08-15   50419             2267.0                     0.100   \n...            ...                ...                       ...   \n2022-01-31  157240             9584.0                     0.091   \n2022-02-01  149344             9593.0                     0.083   \n2022-02-02  130836             9571.0                     0.200   \n2022-02-03  141869             9549.0                     0.200   \n2022-02-04  156317             9549.0                     0.167   \n\n            reddit_average_comments_48h  reddit_subscribers  \\\n2020-08-11                        0.000                 298   \n2020-08-12                        0.091                 300   \n2020-08-13                        0.167                 302   \n2020-08-14                        0.000                 304   \n2020-08-15                        0.000                 307   \n...                                 ...                 ...   \n2022-01-31                        0.000                 925   \n2022-02-01                        0.167                 926   \n2022-02-02                        0.100                 926   \n2022-02-03                        0.000                 925   \n2022-02-04                        0.000                 925   \n\n            reddit_accounts_active_48h  idena_unscaled  idena_monthly  scale  \\\n2020-08-11                    6.666667               0           37.0   0.37   \n2020-08-12                    6.750000               0           37.0   0.37   \n2020-08-13                    6.615385               0           37.0   0.37   \n2020-08-14                    7.083333              34           37.0   0.37   \n2020-08-15                    5.636364               0           37.0   0.37   \n...                                ...             ...            ...    ...   \n2022-01-31                   10.083333              54           30.0   0.30   \n2022-02-01                   10.153846               0           30.0   0.30   \n2022-02-02                    8.727273               0           30.0   0.30   \n2022-02-03                    8.818182              48           30.0   0.30   \n2022-02-04                    8.230769             100           30.0   0.30   \n\n            idena  1_day_price_forecast  \n2020-08-11   0.00              0.138122  \n2020-08-12   0.00              0.127606  \n2020-08-13   0.00              0.201024  \n2020-08-14  12.58              0.162744  \n2020-08-15   0.00              0.196316  \n...           ...                   ...  \n2022-01-31  16.20              0.084601  \n2022-02-01   0.00              0.082081  \n2022-02-02   0.00              0.088527  \n2022-02-03  14.40              0.084359  \n2022-02-04  30.00                   NaN  \n\n[543 rows x 17 columns]",
      "text/html": "<div>\n<style scoped>\n    .dataframe tbody tr th:only-of-type {\n        vertical-align: middle;\n    }\n\n    .dataframe tbody tr th {\n        vertical-align: top;\n    }\n\n    .dataframe thead th {\n        text-align: right;\n    }\n</style>\n<table border=\"1\" class=\"dataframe\">\n  <thead>\n    <tr style=\"text-align: right;\">\n      <th></th>\n      <th>Date</th>\n      <th>Open</th>\n      <th>High</th>\n      <th>Low</th>\n      <th>Close</th>\n      <th>Adj Close</th>\n      <th>Volume</th>\n      <th>twitter_followers</th>\n      <th>reddit_average_posts_48h</th>\n      <th>reddit_average_comments_48h</th>\n      <th>reddit_subscribers</th>\n      <th>reddit_accounts_active_48h</th>\n      <th>idena_unscaled</th>\n      <th>idena_monthly</th>\n      <th>scale</th>\n      <th>idena</th>\n      <th>1_day_price_forecast</th>\n    </tr>\n  </thead>\n  <tbody>\n    <tr>\n      <th>2020-08-11</th>\n      <td>2020-08-11</td>\n      <td>0.125496</td>\n      <td>0.137770</td>\n      <td>0.124239</td>\n      <td>0.130634</td>\n      <td>0.130634</td>\n      <td>40783</td>\n      <td>1817.0</td>\n      <td>0.273</td>\n      <td>0.000</td>\n      <td>298</td>\n      <td>6.666667</td>\n      <td>0</td>\n      <td>37.0</td>\n      <td>0.37</td>\n      <td>0.00</td>\n      <td>0.138122</td>\n    </tr>\n    <tr>\n      <th>2020-08-12</th>\n      <td>2020-08-12</td>\n      <td>0.130674</td>\n      <td>0.162275</td>\n      <td>0.128384</td>\n      <td>0.138122</td>\n      <td>0.138122</td>\n      <td>65517</td>\n      <td>1829.0</td>\n      <td>0.182</td>\n      <td>0.091</td>\n      <td>300</td>\n      <td>6.750000</td>\n      <td>0</td>\n      <td>37.0</td>\n      <td>0.37</td>\n      <td>0.00</td>\n      <td>0.127606</td>\n    </tr>\n    <tr>\n      <th>2020-08-13</th>\n      <td>2020-08-13</td>\n      <td>0.138128</td>\n      <td>0.138128</td>\n      <td>0.118348</td>\n      <td>0.127606</td>\n      <td>0.127606</td>\n      <td>41988</td>\n      <td>2149.0</td>\n      <td>0.083</td>\n      <td>0.167</td>\n      <td>302</td>\n      <td>6.615385</td>\n      <td>0</td>\n      <td>37.0</td>\n      <td>0.37</td>\n      <td>0.00</td>\n      <td>0.201024</td>\n    </tr>\n    <tr>\n      <th>2020-08-14</th>\n      <td>2020-08-14</td>\n      <td>0.127084</td>\n      <td>0.201024</td>\n      <td>0.121670</td>\n      <td>0.201024</td>\n      <td>0.201024</td>\n      <td>104705</td>\n      <td>2208.0</td>\n      <td>0.000</td>\n      <td>0.000</td>\n      <td>304</td>\n      <td>7.083333</td>\n      <td>34</td>\n      <td>37.0</td>\n      <td>0.37</td>\n      <td>12.58</td>\n      <td>0.162744</td>\n    </tr>\n    <tr>\n      <th>2020-08-15</th>\n      <td>2020-08-15</td>\n      <td>0.201097</td>\n      <td>0.202423</td>\n      <td>0.138915</td>\n      <td>0.162744</td>\n      <td>0.162744</td>\n      <td>50419</td>\n      <td>2267.0</td>\n      <td>0.100</td>\n      <td>0.000</td>\n      <td>307</td>\n      <td>5.636364</td>\n      <td>0</td>\n      <td>37.0</td>\n      <td>0.37</td>\n      <td>0.00</td>\n      <td>0.196316</td>\n    </tr>\n    <tr>\n      <th>...</th>\n      <td>...</td>\n      <td>...</td>\n      <td>...</td>\n      <td>...</td>\n      <td>...</td>\n      <td>...</td>\n      <td>...</td>\n      <td>...</td>\n      <td>...</td>\n      <td>...</td>\n      <td>...</td>\n      <td>...</td>\n      <td>...</td>\n      <td>...</td>\n      <td>...</td>\n      <td>...</td>\n      <td>...</td>\n    </tr>\n    <tr>\n      <th>2022-01-31</th>\n      <td>2022-01-31</td>\n      <td>0.083146</td>\n      <td>0.083205</td>\n      <td>0.078528</td>\n      <td>0.081419</td>\n      <td>0.081419</td>\n      <td>157240</td>\n      <td>9584.0</td>\n      <td>0.091</td>\n      <td>0.000</td>\n      <td>925</td>\n      <td>10.083333</td>\n      <td>54</td>\n      <td>30.0</td>\n      <td>0.30</td>\n      <td>16.20</td>\n      <td>0.084601</td>\n    </tr>\n    <tr>\n      <th>2022-02-01</th>\n      <td>2022-02-01</td>\n      <td>0.081419</td>\n      <td>0.085588</td>\n      <td>0.081330</td>\n      <td>0.084601</td>\n      <td>0.084601</td>\n      <td>149344</td>\n      <td>9593.0</td>\n      <td>0.083</td>\n      <td>0.167</td>\n      <td>926</td>\n      <td>10.153846</td>\n      <td>0</td>\n      <td>30.0</td>\n      <td>0.30</td>\n      <td>0.00</td>\n      <td>0.082081</td>\n    </tr>\n    <tr>\n      <th>2022-02-02</th>\n      <td>2022-02-02</td>\n      <td>0.084601</td>\n      <td>0.087298</td>\n      <td>0.081559</td>\n      <td>0.082081</td>\n      <td>0.082081</td>\n      <td>130836</td>\n      <td>9571.0</td>\n      <td>0.200</td>\n      <td>0.100</td>\n      <td>926</td>\n      <td>8.727273</td>\n      <td>0</td>\n      <td>30.0</td>\n      <td>0.30</td>\n      <td>0.00</td>\n      <td>0.088527</td>\n    </tr>\n    <tr>\n      <th>2022-02-03</th>\n      <td>2022-02-03</td>\n      <td>0.082081</td>\n      <td>0.089960</td>\n      <td>0.082081</td>\n      <td>0.088527</td>\n      <td>0.088527</td>\n      <td>141869</td>\n      <td>9549.0</td>\n      <td>0.200</td>\n      <td>0.000</td>\n      <td>925</td>\n      <td>8.818182</td>\n      <td>48</td>\n      <td>30.0</td>\n      <td>0.30</td>\n      <td>14.40</td>\n      <td>0.084359</td>\n    </tr>\n    <tr>\n      <th>2022-02-04</th>\n      <td>2022-02-04</td>\n      <td>0.088531</td>\n      <td>0.090840</td>\n      <td>0.084359</td>\n      <td>0.084359</td>\n      <td>0.084359</td>\n      <td>156317</td>\n      <td>9549.0</td>\n      <td>0.167</td>\n      <td>0.000</td>\n      <td>925</td>\n      <td>8.230769</td>\n      <td>100</td>\n      <td>30.0</td>\n      <td>0.30</td>\n      <td>30.00</td>\n      <td>NaN</td>\n    </tr>\n  </tbody>\n</table>\n<p>543 rows × 17 columns</p>\n</div>"
     },
     "execution_count": 82,
     "metadata": {},
     "output_type": "execute_result"
    }
   ],
   "source": [
    "df"
   ],
   "metadata": {
    "collapsed": false,
    "pycharm": {
     "name": "#%%\n"
    }
   }
  },
  {
   "cell_type": "code",
   "execution_count": 83,
   "outputs": [
    {
     "data": {
      "text/plain": "<Figure size 1224x360 with 1 Axes>",
      "image/png": "[encoded data removed]"
     },
     "metadata": {},
     "output_type": "display_data"
    }
   ],
   "source": [
    "plt.figure(figsize=(17,5))\n",
    "plt.plot(final_prediction, label='Prediction', lw=2, alpha =.7, color = \"green\")\n",
    "plt.plot(y_test, label='Actual', lw=2, alpha =.7, color = \"red\")\n",
    "plt.legend(['predicted', \"actual\"])\n",
    "plt.title('Prediction vs Actual')\n",
    "plt.ylabel('Price in USD')\n",
    "plt.xlabel('Time')\n",
    "\n",
    "plt.show()"
   ],
   "metadata": {
    "collapsed": false,
    "pycharm": {
     "name": "#%%\n"
    }
   }
  },
  {
   "cell_type": "code",
   "execution_count": 84,
   "outputs": [
    {
     "name": "stdout",
     "output_type": "stream",
     "text": [
      "R^2\n",
      "0.9371319074601607\n",
      "\n",
      "MAE\n",
      "0.01958431891600925\n",
      "\n",
      "RMSE\n",
      "0.0255863894744266\n"
     ]
    }
   ],
   "source": [
    "from math import sqrt\n",
    "from sklearn.metrics import mean_absolute_error, mean_squared_error\n",
    "\n",
    "\n",
    "print(\"R^2\")\n",
    "print(svr_linear_confidence)\n",
    "\n",
    "print(\"\\nMAE\")\n",
    "print(mean_absolute_error(y_test,final_prediction))\n",
    "\n",
    "print(\"\\nRMSE\")\n",
    "print(sqrt(mean_squared_error(y_test, final_prediction)))"
   ],
   "metadata": {
    "collapsed": false,
    "pycharm": {
     "name": "#%%\n"
    }
   }
  }
 ],
 "metadata": {
  "kernelspec": {
   "display_name": "Python 3",
   "language": "python",
   "name": "python3"
  },
  "language_info": {
   "codemirror_mode": {
    "name": "ipython",
    "version": 2
   },
   "file_extension": ".py",
   "mimetype": "text/x-python",
   "name": "python",
   "nbconvert_exporter": "python",
   "pygments_lexer": "ipython2",
   "version": "2.7.6"
  }
 },
 "nbformat": 4,
 "nbformat_minor": 0
}