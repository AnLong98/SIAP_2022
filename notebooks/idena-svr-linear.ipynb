{
 "cells": [
  {
   "cell_type": "code",
   "execution_count": 43,
   "metadata": {
    "collapsed": true
   },
   "outputs": [],
   "source": [
    "import pandas as pd\n",
    "import numpy as np\n",
    "from sklearn.svm import SVR\n",
    "import matplotlib.pyplot as plt\n",
    "plt.style.use('fivethirtyeight')"
   ]
  },
  {
   "cell_type": "code",
   "execution_count": 44,
   "outputs": [
    {
     "data": {
      "text/plain": "                  Date      Open      High       Low     Close  Adj Close  \\\n2020-08-11  2020-08-11  0.125496  0.137770  0.124239  0.130634   0.130634   \n2020-08-12  2020-08-12  0.130674  0.162275  0.128384  0.138122   0.138122   \n2020-08-13  2020-08-13  0.138128  0.138128  0.118348  0.127606   0.127606   \n2020-08-14  2020-08-14  0.127084  0.201024  0.121670  0.201024   0.201024   \n2020-08-15  2020-08-15  0.201097  0.202423  0.138915  0.162744   0.162744   \n...                ...       ...       ...       ...       ...        ...   \n2022-01-31  2022-01-31  0.083146  0.083205  0.078528  0.081419   0.081419   \n2022-02-01  2022-02-01  0.081419  0.085588  0.081330  0.084601   0.084601   \n2022-02-02  2022-02-02  0.084601  0.087298  0.081559  0.082081   0.082081   \n2022-02-03  2022-02-03  0.082081  0.089960  0.082081  0.088527   0.088527   \n2022-02-04  2022-02-04  0.088531  0.090840  0.084359  0.084359   0.084359   \n\n            Volume  twitter_followers  reddit_average_posts_48h  \\\n2020-08-11   40783             1817.0                     0.273   \n2020-08-12   65517             1829.0                     0.182   \n2020-08-13   41988             2149.0                     0.083   \n2020-08-14  104705             2208.0                     0.000   \n2020-08-15   50419             2267.0                     0.100   \n...            ...                ...                       ...   \n2022-01-31  157240             9584.0                     0.091   \n2022-02-01  149344             9593.0                     0.083   \n2022-02-02  130836             9571.0                     0.200   \n2022-02-03  141869             9549.0                     0.200   \n2022-02-04  156317             9549.0                     0.167   \n\n            reddit_average_comments_48h  reddit_subscribers  \\\n2020-08-11                        0.000                 298   \n2020-08-12                        0.091                 300   \n2020-08-13                        0.167                 302   \n2020-08-14                        0.000                 304   \n2020-08-15                        0.000                 307   \n...                                 ...                 ...   \n2022-01-31                        0.000                 925   \n2022-02-01                        0.167                 926   \n2022-02-02                        0.100                 926   \n2022-02-03                        0.000                 925   \n2022-02-04                        0.000                 925   \n\n            reddit_accounts_active_48h  idena_unscaled  idena_monthly  scale  \\\n2020-08-11                    6.666667               0           37.0   0.37   \n2020-08-12                    6.750000               0           37.0   0.37   \n2020-08-13                    6.615385               0           37.0   0.37   \n2020-08-14                    7.083333              34           37.0   0.37   \n2020-08-15                    5.636364               0           37.0   0.37   \n...                                ...             ...            ...    ...   \n2022-01-31                   10.083333              54           30.0   0.30   \n2022-02-01                   10.153846               0           30.0   0.30   \n2022-02-02                    8.727273               0           30.0   0.30   \n2022-02-03                    8.818182              48           30.0   0.30   \n2022-02-04                    8.230769             100           30.0   0.30   \n\n            idena  \n2020-08-11   0.00  \n2020-08-12   0.00  \n2020-08-13   0.00  \n2020-08-14  12.58  \n2020-08-15   0.00  \n...           ...  \n2022-01-31  16.20  \n2022-02-01   0.00  \n2022-02-02   0.00  \n2022-02-03  14.40  \n2022-02-04  30.00  \n\n[543 rows x 16 columns]",
      "text/html": "<div>\n<style scoped>\n    .dataframe tbody tr th:only-of-type {\n        vertical-align: middle;\n    }\n\n    .dataframe tbody tr th {\n        vertical-align: top;\n    }\n\n    .dataframe thead th {\n        text-align: right;\n    }\n</style>\n<table border=\"1\" class=\"dataframe\">\n  <thead>\n    <tr style=\"text-align: right;\">\n      <th></th>\n      <th>Date</th>\n      <th>Open</th>\n      <th>High</th>\n      <th>Low</th>\n      <th>Close</th>\n      <th>Adj Close</th>\n      <th>Volume</th>\n      <th>twitter_followers</th>\n      <th>reddit_average_posts_48h</th>\n      <th>reddit_average_comments_48h</th>\n      <th>reddit_subscribers</th>\n      <th>reddit_accounts_active_48h</th>\n      <th>idena_unscaled</th>\n      <th>idena_monthly</th>\n      <th>scale</th>\n      <th>idena</th>\n    </tr>\n  </thead>\n  <tbody>\n    <tr>\n      <th>2020-08-11</th>\n      <td>2020-08-11</td>\n      <td>0.125496</td>\n      <td>0.137770</td>\n      <td>0.124239</td>\n      <td>0.130634</td>\n      <td>0.130634</td>\n      <td>40783</td>\n      <td>1817.0</td>\n      <td>0.273</td>\n      <td>0.000</td>\n      <td>298</td>\n      <td>6.666667</td>\n      <td>0</td>\n      <td>37.0</td>\n      <td>0.37</td>\n      <td>0.00</td>\n    </tr>\n    <tr>\n      <th>2020-08-12</th>\n      <td>2020-08-12</td>\n      <td>0.130674</td>\n      <td>0.162275</td>\n      <td>0.128384</td>\n      <td>0.138122</td>\n      <td>0.138122</td>\n      <td>65517</td>\n      <td>1829.0</td>\n      <td>0.182</td>\n      <td>0.091</td>\n      <td>300</td>\n      <td>6.750000</td>\n      <td>0</td>\n      <td>37.0</td>\n      <td>0.37</td>\n      <td>0.00</td>\n    </tr>\n    <tr>\n      <th>2020-08-13</th>\n      <td>2020-08-13</td>\n      <td>0.138128</td>\n      <td>0.138128</td>\n      <td>0.118348</td>\n      <td>0.127606</td>\n      <td>0.127606</td>\n      <td>41988</td>\n      <td>2149.0</td>\n      <td>0.083</td>\n      <td>0.167</td>\n      <td>302</td>\n      <td>6.615385</td>\n      <td>0</td>\n      <td>37.0</td>\n      <td>0.37</td>\n      <td>0.00</td>\n    </tr>\n    <tr>\n      <th>2020-08-14</th>\n      <td>2020-08-14</td>\n      <td>0.127084</td>\n      <td>0.201024</td>\n      <td>0.121670</td>\n      <td>0.201024</td>\n      <td>0.201024</td>\n      <td>104705</td>\n      <td>2208.0</td>\n      <td>0.000</td>\n      <td>0.000</td>\n      <td>304</td>\n      <td>7.083333</td>\n      <td>34</td>\n      <td>37.0</td>\n      <td>0.37</td>\n      <td>12.58</td>\n    </tr>\n    <tr>\n      <th>2020-08-15</th>\n      <td>2020-08-15</td>\n      <td>0.201097</td>\n      <td>0.202423</td>\n      <td>0.138915</td>\n      <td>0.162744</td>\n      <td>0.162744</td>\n      <td>50419</td>\n      <td>2267.0</td>\n      <td>0.100</td>\n      <td>0.000</td>\n      <td>307</td>\n      <td>5.636364</td>\n      <td>0</td>\n      <td>37.0</td>\n      <td>0.37</td>\n      <td>0.00</td>\n    </tr>\n    <tr>\n      <th>...</th>\n      <td>...</td>\n      <td>...</td>\n      <td>...</td>\n      <td>...</td>\n      <td>...</td>\n      <td>...</td>\n      <td>...</td>\n      <td>...</td>\n      <td>...</td>\n      <td>...</td>\n      <td>...</td>\n      <td>...</td>\n      <td>...</td>\n      <td>...</td>\n      <td>...</td>\n      <td>...</td>\n    </tr>\n    <tr>\n      <th>2022-01-31</th>\n      <td>2022-01-31</td>\n      <td>0.083146</td>\n      <td>0.083205</td>\n      <td>0.078528</td>\n      <td>0.081419</td>\n      <td>0.081419</td>\n      <td>157240</td>\n      <td>9584.0</td>\n      <td>0.091</td>\n      <td>0.000</td>\n      <td>925</td>\n      <td>10.083333</td>\n      <td>54</td>\n      <td>30.0</td>\n      <td>0.30</td>\n      <td>16.20</td>\n    </tr>\n    <tr>\n      <th>2022-02-01</th>\n      <td>2022-02-01</td>\n      <td>0.081419</td>\n      <td>0.085588</td>\n      <td>0.081330</td>\n      <td>0.084601</td>\n      <td>0.084601</td>\n      <td>149344</td>\n      <td>9593.0</td>\n      <td>0.083</td>\n      <td>0.167</td>\n      <td>926</td>\n      <td>10.153846</td>\n      <td>0</td>\n      <td>30.0</td>\n      <td>0.30</td>\n      <td>0.00</td>\n    </tr>\n    <tr>\n      <th>2022-02-02</th>\n      <td>2022-02-02</td>\n      <td>0.084601</td>\n      <td>0.087298</td>\n      <td>0.081559</td>\n      <td>0.082081</td>\n      <td>0.082081</td>\n      <td>130836</td>\n      <td>9571.0</td>\n      <td>0.200</td>\n      <td>0.100</td>\n      <td>926</td>\n      <td>8.727273</td>\n      <td>0</td>\n      <td>30.0</td>\n      <td>0.30</td>\n      <td>0.00</td>\n    </tr>\n    <tr>\n      <th>2022-02-03</th>\n      <td>2022-02-03</td>\n      <td>0.082081</td>\n      <td>0.089960</td>\n      <td>0.082081</td>\n      <td>0.088527</td>\n      <td>0.088527</td>\n      <td>141869</td>\n      <td>9549.0</td>\n      <td>0.200</td>\n      <td>0.000</td>\n      <td>925</td>\n      <td>8.818182</td>\n      <td>48</td>\n      <td>30.0</td>\n      <td>0.30</td>\n      <td>14.40</td>\n    </tr>\n    <tr>\n      <th>2022-02-04</th>\n      <td>2022-02-04</td>\n      <td>0.088531</td>\n      <td>0.090840</td>\n      <td>0.084359</td>\n      <td>0.084359</td>\n      <td>0.084359</td>\n      <td>156317</td>\n      <td>9549.0</td>\n      <td>0.167</td>\n      <td>0.000</td>\n      <td>925</td>\n      <td>8.230769</td>\n      <td>100</td>\n      <td>30.0</td>\n      <td>0.30</td>\n      <td>30.00</td>\n    </tr>\n  </tbody>\n</table>\n<p>543 rows × 16 columns</p>\n</div>"
     },
     "execution_count": 44,
     "metadata": {},
     "output_type": "execute_result"
    }
   ],
   "source": [
    "df = pd.read_csv('../idena_v1.csv')\n",
    "\n",
    "df = df.set_index(pd.DatetimeIndex(df['Date'].values))\n",
    "df"
   ],
   "metadata": {
    "collapsed": false,
    "pycharm": {
     "name": "#%%\n"
    }
   }
  },
  {
   "cell_type": "code",
   "execution_count": 45,
   "outputs": [
    {
     "data": {
      "text/plain": "<AxesSubplot:>"
     },
     "execution_count": 45,
     "metadata": {},
     "output_type": "execute_result"
    },
    {
     "data": {
      "text/plain": "<Figure size 1152x144 with 1 Axes>",
      "image/png": "[encoded data removed]"
     },
     "metadata": {},
     "output_type": "display_data"
    }
   ],
   "source": [
    "df = df.resample('D').ffill()\n",
    "df.Close.plot(figsize=(16, 2), color=\"red\", label='Close price', lw=2, alpha =.7)"
   ],
   "metadata": {
    "collapsed": false,
    "pycharm": {
     "name": "#%%\n"
    }
   }
  },
  {
   "cell_type": "code",
   "execution_count": 46,
   "outputs": [],
   "source": [
    "future_days = 1\n",
    "columnName = str(future_days)+'_day_price_forecast'"
   ],
   "metadata": {
    "collapsed": false,
    "pycharm": {
     "name": "#%%\n"
    }
   }
  },
  {
   "cell_type": "code",
   "execution_count": 47,
   "outputs": [
    {
     "data": {
      "text/plain": "               Close  1_day_price_forecast\n2020-08-11  0.130634              0.138122\n2020-08-12  0.138122              0.127606\n2020-08-13  0.127606              0.201024\n2020-08-14  0.201024              0.162744\n2020-08-15  0.162744              0.196316\n...              ...                   ...\n2022-01-31  0.081419              0.084601\n2022-02-01  0.084601              0.082081\n2022-02-02  0.082081              0.088527\n2022-02-03  0.088527              0.084359\n2022-02-04  0.084359                   NaN\n\n[543 rows x 2 columns]",
      "text/html": "<div>\n<style scoped>\n    .dataframe tbody tr th:only-of-type {\n        vertical-align: middle;\n    }\n\n    .dataframe tbody tr th {\n        vertical-align: top;\n    }\n\n    .dataframe thead th {\n        text-align: right;\n    }\n</style>\n<table border=\"1\" class=\"dataframe\">\n  <thead>\n    <tr style=\"text-align: right;\">\n      <th></th>\n      <th>Close</th>\n      <th>1_day_price_forecast</th>\n    </tr>\n  </thead>\n  <tbody>\n    <tr>\n      <th>2020-08-11</th>\n      <td>0.130634</td>\n      <td>0.138122</td>\n    </tr>\n    <tr>\n      <th>2020-08-12</th>\n      <td>0.138122</td>\n      <td>0.127606</td>\n    </tr>\n    <tr>\n      <th>2020-08-13</th>\n      <td>0.127606</td>\n      <td>0.201024</td>\n    </tr>\n    <tr>\n      <th>2020-08-14</th>\n      <td>0.201024</td>\n      <td>0.162744</td>\n    </tr>\n    <tr>\n      <th>2020-08-15</th>\n      <td>0.162744</td>\n      <td>0.196316</td>\n    </tr>\n    <tr>\n      <th>...</th>\n      <td>...</td>\n      <td>...</td>\n    </tr>\n    <tr>\n      <th>2022-01-31</th>\n      <td>0.081419</td>\n      <td>0.084601</td>\n    </tr>\n    <tr>\n      <th>2022-02-01</th>\n      <td>0.084601</td>\n      <td>0.082081</td>\n    </tr>\n    <tr>\n      <th>2022-02-02</th>\n      <td>0.082081</td>\n      <td>0.088527</td>\n    </tr>\n    <tr>\n      <th>2022-02-03</th>\n      <td>0.088527</td>\n      <td>0.084359</td>\n    </tr>\n    <tr>\n      <th>2022-02-04</th>\n      <td>0.084359</td>\n      <td>NaN</td>\n    </tr>\n  </tbody>\n</table>\n<p>543 rows × 2 columns</p>\n</div>"
     },
     "execution_count": 47,
     "metadata": {},
     "output_type": "execute_result"
    }
   ],
   "source": [
    "#added new column\n",
    "df[columnName] = df[['Close']].shift(-future_days)\n",
    "\n",
    "df[['Close', columnName]]"
   ],
   "metadata": {
    "collapsed": false,
    "pycharm": {
     "name": "#%%\n"
    }
   }
  },
  {
   "cell_type": "code",
   "execution_count": 48,
   "outputs": [
    {
     "name": "stdout",
     "output_type": "stream",
     "text": [
      "<class 'pandas.core.frame.DataFrame'>\n",
      "DatetimeIndex: 543 entries, 2020-08-11 to 2022-02-04\n",
      "Freq: D\n",
      "Data columns (total 17 columns):\n",
      " #   Column                       Non-Null Count  Dtype  \n",
      "---  ------                       --------------  -----  \n",
      " 0   Date                         543 non-null    object \n",
      " 1   Open                         543 non-null    float64\n",
      " 2   High                         543 non-null    float64\n",
      " 3   Low                          543 non-null    float64\n",
      " 4   Close                        543 non-null    float64\n",
      " 5   Adj Close                    543 non-null    float64\n",
      " 6   Volume                       543 non-null    int64  \n",
      " 7   twitter_followers            543 non-null    float64\n",
      " 8   reddit_average_posts_48h     543 non-null    float64\n",
      " 9   reddit_average_comments_48h  543 non-null    float64\n",
      " 10  reddit_subscribers           543 non-null    int64  \n",
      " 11  reddit_accounts_active_48h   543 non-null    float64\n",
      " 12  idena_unscaled               543 non-null    int64  \n",
      " 13  idena_monthly                543 non-null    float64\n",
      " 14  scale                        543 non-null    float64\n",
      " 15  idena                        543 non-null    float64\n",
      " 16  1_day_price_forecast         542 non-null    float64\n",
      "dtypes: float64(13), int64(3), object(1)\n",
      "memory usage: 76.4+ KB\n"
     ]
    }
   ],
   "source": [
    "df.info()"
   ],
   "metadata": {
    "collapsed": false,
    "pycharm": {
     "name": "#%%\n"
    }
   }
  },
  {
   "cell_type": "code",
   "execution_count": 49,
   "outputs": [
    {
     "name": "stdout",
     "output_type": "stream",
     "text": [
      "(543, 17)\n",
      "[[1.37770e-01 1.24239e-01 4.07830e+04 ... 3.70000e+01 3.70000e-01\n",
      "  0.00000e+00]\n",
      " [1.62275e-01 1.28384e-01 6.55170e+04 ... 3.70000e+01 3.70000e-01\n",
      "  0.00000e+00]\n",
      " [1.38128e-01 1.18348e-01 4.19880e+04 ... 3.70000e+01 3.70000e-01\n",
      "  0.00000e+00]\n",
      " ...\n",
      " [8.55880e-02 8.13300e-02 1.49344e+05 ... 3.00000e+01 3.00000e-01\n",
      "  0.00000e+00]\n",
      " [8.72980e-02 8.15590e-02 1.30836e+05 ... 3.00000e+01 3.00000e-01\n",
      "  0.00000e+00]\n",
      " [8.99600e-02 8.20810e-02 1.41869e+05 ... 3.00000e+01 3.00000e-01\n",
      "  1.44000e+01]]\n"
     ]
    }
   ],
   "source": [
    "X = np.array(df[[\"High\", \"Low\", \"Volume\", \"Open\", 'Close', \"twitter_followers\", \"reddit_average_posts_48h\",\n",
    "                \"reddit_average_comments_48h\", \"reddit_subscribers\", \"reddit_accounts_active_48h\", 'idena_unscaled',\n",
    "                'idena_monthly', 'scale', 'idena']])\n",
    "\n",
    "\n",
    "print(df.shape)\n",
    "\n",
    "X = X[:df.shape[0] - future_days]\n",
    "print(X)"
   ],
   "metadata": {
    "collapsed": false,
    "pycharm": {
     "name": "#%%\n"
    }
   }
  },
  {
   "cell_type": "code",
   "execution_count": 50,
   "outputs": [
    {
     "name": "stdout",
     "output_type": "stream",
     "text": [
      "[0.138122 0.127606 0.201024 0.162744 0.196316 0.218131 0.250788 0.253025\n",
      " 0.268824 0.29112  0.287222 0.25967  0.256249 0.237235 0.226114 0.255959\n",
      " 0.27889  0.270433 0.285196 0.281814 0.288933 0.252189 0.247463 0.213458\n",
      " 0.215829 0.201781 0.188281 0.179111 0.195198 0.194706 0.187714 0.182892\n",
      " 0.143976 0.130773 0.141561 0.145338 0.164182 0.18149  0.181751 0.179018\n",
      " 0.145569 0.138025 0.141171 0.139567 0.133987 0.134377 0.129535 0.126744\n",
      " 0.126741 0.123904 0.116028 0.114721 0.116636 0.116295 0.120187 0.124864\n",
      " 0.116993 0.11924  0.120294 0.123378 0.121102 0.129947 0.124023 0.108435\n",
      " 0.109576 0.095044 0.107073 0.095222 0.100276 0.100151 0.114585 0.115198\n",
      " 0.108259 0.108077 0.10569  0.104818 0.107484 0.102729 0.105178 0.096754\n",
      " 0.097656 0.09411  0.092027 0.100985 0.11806  0.117199 0.114141 0.106572\n",
      " 0.115059 0.119643 0.118467 0.109233 0.119238 0.113289 0.100523 0.101419\n",
      " 0.104538 0.099101 0.093694 0.100268 0.103303 0.104274 0.104665 0.103505\n",
      " 0.10497  0.097782 0.0875   0.089985 0.094185 0.103967 0.108686 0.098272\n",
      " 0.100371 0.094032 0.090621 0.095163 0.096609 0.098266 0.093263 0.095987\n",
      " 0.094651 0.089265 0.097419 0.096305 0.095039 0.082003 0.094363 0.077785\n",
      " 0.077811 0.078399 0.074182 0.073038 0.077465 0.077232 0.080374 0.083477\n",
      " 0.082976 0.07788  0.0789   0.078351 0.08045  0.080388 0.08648  0.088491\n",
      " 0.091237 0.090279 0.093161 0.105718 0.108576 0.110633 0.110386 0.103909\n",
      " 0.098071 0.092976 0.099837 0.104939 0.098282 0.096572 0.095022 0.096062\n",
      " 0.095083 0.093763 0.081548 0.086517 0.07962  0.082755 0.074887 0.078232\n",
      " 0.07176  0.078206 0.077707 0.076903 0.090228 0.079041 0.104947 0.104551\n",
      " 0.122096 0.115789 0.113902 0.114736 0.11393  0.108649 0.105676 0.116057\n",
      " 0.115061 0.116943 0.119226 0.116782 0.118364 0.126119 0.123067 0.136008\n",
      " 0.217459 0.22673  0.200214 0.164628 0.168434 0.158886 0.134029 0.131143\n",
      " 0.120351 0.133087 0.128889 0.13656  0.128607 0.136047 0.135481 0.139957\n",
      " 0.14294  0.150827 0.15205  0.159515 0.159869 0.169601 0.1702   0.148672\n",
      " 0.181901 0.200018 0.171176 0.173469 0.177501 0.17171  0.168032 0.168437\n",
      " 0.157435 0.148944 0.163353 0.152317 0.164724 0.160543 0.158105 0.158547\n",
      " 0.15762  0.163441 0.166633 0.169801 0.160722 0.156377 0.161669 0.157839\n",
      " 0.155584 0.156249 0.156054 0.160179 0.172744 0.169928 0.207011 0.191467\n",
      " 0.191132 0.170492 0.172716 0.175215 0.168156 0.166508 0.187906 0.198503\n",
      " 0.191854 0.212697 0.254865 0.238628 0.254263 0.282275 0.287435 0.273407\n",
      " 0.246601 0.230042 0.24136  0.197264 0.196089 0.194215 0.196946 0.182323\n",
      " 0.184616 0.16214  0.162797 0.165437 0.151321 0.152756 0.133134 0.129058\n",
      " 0.112283 0.140948 0.108192 0.113314 0.113718 0.126704 0.125656 0.124202\n",
      " 0.117023 0.108586 0.105275 0.113281 0.118982 0.118025 0.113072 0.118781\n",
      " 0.111546 0.109793 0.110302 0.101559 0.100452 0.113404 0.110522 0.113217\n",
      " 0.105821 0.113883 0.118168 0.121176 0.114854 0.109782 0.102933 0.09675\n",
      " 0.098883 0.087283 0.089562 0.0922   0.090398 0.08408  0.082224 0.089301\n",
      " 0.086804 0.089426 0.08239  0.078988 0.079708 0.074684 0.078735 0.074714\n",
      " 0.073284 0.075848 0.070285 0.075149 0.07441  0.082495 0.082881 0.07977\n",
      " 0.080395 0.07854  0.094795 0.094073 0.094399 0.092006 0.089013 0.09403\n",
      " 0.096667 0.101371 0.101472 0.106339 0.108387 0.115502 0.115903 0.114093\n",
      " 0.120336 0.123897 0.118873 0.116704 0.116198 0.116703 0.127561 0.122184\n",
      " 0.125116 0.127537 0.128072 0.131759 0.131217 0.117067 0.119943 0.119571\n",
      " 0.11824  0.114925 0.109064 0.109007 0.115083 0.120087 0.125415 0.124337\n",
      " 0.127944 0.120966 0.143493 0.135359 0.150245 0.144952 0.132896 0.132026\n",
      " 0.127748 0.134125 0.133391 0.133521 0.141018 0.136323 0.14385  0.132496\n",
      " 0.129217 0.130959 0.130571 0.136619 0.135765 0.129389 0.139995 0.140813\n",
      " 0.149604 0.144428 0.150084 0.146664 0.129698 0.123999 0.12774  0.130014\n",
      " 0.121688 0.121829 0.117744 0.115697 0.110574 0.115389 0.120761 0.125843\n",
      " 0.123542 0.121885 0.117265 0.122032 0.123138 0.118145 0.116961 0.115963\n",
      " 0.109342 0.106387 0.108417 0.103874 0.099891 0.105467 0.103278 0.097349\n",
      " 0.100103 0.096997 0.101565 0.100745 0.099781 0.097707 0.096369 0.103675\n",
      " 0.111446 0.094877 0.104885 0.102456 0.100415 0.101163 0.106084 0.105497\n",
      " 0.110238 0.107113 0.120231 0.121955 0.141773 0.145178 0.153243 0.168202\n",
      " 0.170722 0.167073 0.167064 0.180508 0.162993 0.161209 0.164109 0.148449\n",
      " 0.150761 0.150013 0.144099 0.140376 0.140984 0.138258 0.145365 0.137012\n",
      " 0.138892 0.14501  0.143819 0.14198  0.14372  0.145367 0.135216 0.126746\n",
      " 0.124666 0.130011 0.132412 0.131441 0.122934 0.116543 0.1227   0.12498\n",
      " 0.114646 0.122094 0.12377  0.116659 0.115223 0.117144 0.114408 0.124943\n",
      " 0.123143 0.12912  0.127005 0.124774 0.123719 0.124579 0.129716 0.122558\n",
      " 0.116641 0.117279 0.113121 0.114321 0.113054 0.109236 0.110288 0.104968\n",
      " 0.104755 0.10125  0.09906  0.101034 0.099697 0.103365 0.107622 0.10405\n",
      " 0.105665 0.104617 0.104936 0.102172 0.105083 0.100434 0.097451 0.087077\n",
      " 0.077885 0.08091  0.08087  0.080629 0.078965 0.081449 0.083021 0.084715\n",
      " 0.083146 0.081419 0.084601 0.082081 0.088527 0.084359]\n"
     ]
    }
   ],
   "source": [
    "y = np.array(df[columnName])\n",
    "y = y[:-future_days]\n",
    "print(y)"
   ],
   "metadata": {
    "collapsed": false,
    "pycharm": {
     "name": "#%%\n"
    }
   }
  },
  {
   "cell_type": "code",
   "execution_count": 51,
   "outputs": [],
   "source": [
    "from sklearn.model_selection import train_test_split\n",
    "\n",
    "x_train, x_test, y_train, y_test = train_test_split(X,y, test_size = 0.25, shuffle=False)"
   ],
   "metadata": {
    "collapsed": false,
    "pycharm": {
     "name": "#%%\n"
    }
   }
  },
  {
   "cell_type": "code",
   "execution_count": 52,
   "outputs": [
    {
     "name": "stdout",
     "output_type": "stream",
     "text": [
      "Scaled X_l:\n",
      "[[-0.08710913  0.01781407 -0.49882644 ... -0.0887346  -0.0887346\n",
      "  -0.85648877]\n",
      " [ 0.37072027  0.11400409 -0.05575474 ... -0.0887346  -0.0887346\n",
      "  -0.85648877]\n",
      " [-0.08042058 -0.1188941  -0.47724071 ... -0.0887346  -0.0887346\n",
      "  -0.85648877]\n",
      " ...\n",
      " [ 0.22557126  0.44798882  2.27577259 ... -0.1596524  -0.1596524\n",
      "   1.81828295]\n",
      " [ 0.21985423  0.49307861  1.44211565 ...  1.04595031  1.04595031\n",
      "  -0.85648877]\n",
      " [ 0.11420129  0.06308952  2.08092781 ...  1.04595031  1.04595031\n",
      "  -0.85648877]]\n",
      "Scaled y_p:\n",
      "[[ 1.20603478e-01]\n",
      " [-1.01845339e-01]\n",
      " [ 1.45119263e+00]\n",
      " [ 6.41441703e-01]\n",
      " [ 1.35160257e+00]\n",
      " [ 1.81306329e+00]\n",
      " [ 2.50386883e+00]\n",
      " [ 2.55118891e+00]\n",
      " [ 2.88539097e+00]\n",
      " [ 3.35702646e+00]\n",
      " [ 3.27457063e+00]\n",
      " [ 2.69175304e+00]\n",
      " [ 2.61938737e+00]\n",
      " [ 2.21717723e+00]\n",
      " [ 1.98193063e+00]\n",
      " [ 2.61325289e+00]\n",
      " [ 3.09832077e+00]\n",
      " [ 2.91942674e+00]\n",
      " [ 3.23171391e+00]\n",
      " [ 3.16017322e+00]\n",
      " [ 3.31076405e+00]\n",
      " [ 2.53350470e+00]\n",
      " [ 2.43353388e+00]\n",
      " [ 1.71421360e+00]\n",
      " [ 1.76436824e+00]\n",
      " [ 1.46720573e+00]\n",
      " [ 1.18163526e+00]\n",
      " [ 9.87658875e-01]\n",
      " [ 1.32795311e+00]\n",
      " [ 1.31754565e+00]\n",
      " [ 1.16964130e+00]\n",
      " [ 1.06763976e+00]\n",
      " [ 2.44435294e-01]\n",
      " [-3.48526224e-02]\n",
      " [ 1.93349911e-01]\n",
      " [ 2.73246181e-01]\n",
      " [ 6.71860246e-01]\n",
      " [ 1.03798274e+00]\n",
      " [ 1.04350377e+00]\n",
      " [ 9.85691612e-01]\n",
      " [ 2.78132609e-01]\n",
      " [ 1.18551602e-01]\n",
      " [ 1.85100097e-01]\n",
      " [ 1.51170095e-01]\n",
      " [ 3.31343020e-02]\n",
      " [ 4.13841155e-02]\n",
      " [-6.10404919e-02]\n",
      " [-1.20079542e-01]\n",
      " [-1.20143002e-01]\n",
      " [-1.80155107e-01]\n",
      " [-3.46759032e-01]\n",
      " [-3.74406484e-01]\n",
      " [-3.33897785e-01]\n",
      " [-3.41111083e-01]\n",
      " [-2.58782175e-01]\n",
      " [-1.59847873e-01]\n",
      " [-3.26346032e-01]\n",
      " [-2.78814414e-01]\n",
      " [-2.56518765e-01]\n",
      " [-1.91281778e-01]\n",
      " [-2.39426843e-01]\n",
      " [-5.23253043e-02]\n",
      " [-1.77637856e-01]\n",
      " [-5.07376555e-01]\n",
      " [-4.83240562e-01]\n",
      " [-7.90641304e-01]\n",
      " [-5.36187442e-01]\n",
      " [-7.86876005e-01]\n",
      " [-6.79966883e-01]\n",
      " [-6.82611054e-01]\n",
      " [-3.77283342e-01]\n",
      " [-3.64316328e-01]\n",
      " [-5.11099547e-01]\n",
      " [-5.14949460e-01]\n",
      " [-5.65442550e-01]\n",
      " [-5.83888286e-01]\n",
      " [-5.27493408e-01]\n",
      " [-6.28077672e-01]\n",
      " [-5.76273074e-01]\n",
      " [-7.54469045e-01]\n",
      " [-7.35388707e-01]\n",
      " [-8.10398550e-01]\n",
      " [-8.54461015e-01]\n",
      " [-6.64969146e-01]\n",
      " [-3.03775389e-01]\n",
      " [-3.21988438e-01]\n",
      " [-3.86675437e-01]\n",
      " [-5.46785279e-01]\n",
      " [-3.67256646e-01]\n",
      " [-2.70289607e-01]\n",
      " [-2.95165968e-01]\n",
      " [-4.90496167e-01]\n",
      " [-2.78856721e-01]\n",
      " [-4.04698107e-01]\n",
      " [-6.74742002e-01]\n",
      " [-6.55788584e-01]\n",
      " [-5.89811229e-01]\n",
      " [-7.04822091e-01]\n",
      " [-8.19198351e-01]\n",
      " [-6.80136110e-01]\n",
      " [-6.15935639e-01]\n",
      " [-5.95395719e-01]\n",
      " [-5.87124752e-01]\n",
      " [-6.11662659e-01]\n",
      " [-5.80672975e-01]\n",
      " [-7.32723383e-01]\n",
      " [-9.50222312e-01]\n",
      " [-8.97656193e-01]\n",
      " [-8.08812047e-01]\n",
      " [-6.01889803e-01]\n",
      " [-5.02067059e-01]\n",
      " [-7.22358233e-01]\n",
      " [-6.77957314e-01]\n",
      " [-8.12048513e-01]\n",
      " [-8.84202651e-01]\n",
      " [-7.88124054e-01]\n",
      " [-7.57536284e-01]\n",
      " [-7.22485153e-01]\n",
      " [-8.28315453e-01]\n",
      " [-7.70693678e-01]\n",
      " [-7.98954578e-01]\n",
      " [-9.12886618e-01]\n",
      " [-7.40402056e-01]\n",
      " [-7.63966907e-01]\n",
      " [-7.90747071e-01]\n",
      " [-1.06650238e+00]\n",
      " [-8.05046748e-01]\n",
      " [-1.15572728e+00]\n",
      " [-1.15517729e+00]\n",
      " [-1.14273911e+00]\n",
      " [-1.23194287e+00]\n",
      " [-1.25614232e+00]\n",
      " [-1.16249636e+00]\n",
      " [-1.16742509e+00]\n",
      " [-1.10096121e+00]\n",
      " [-1.03532231e+00]\n",
      " [-1.04592015e+00]\n",
      " [-1.15371771e+00]\n",
      " [-1.13214128e+00]\n",
      " [-1.14375447e+00]\n",
      " [-1.09935356e+00]\n",
      " [-1.10066506e+00]\n",
      " [-9.71798747e-01]\n",
      " [-9.29259324e-01]\n",
      " [-8.71172176e-01]\n",
      " [-8.91437102e-01]\n",
      " [-8.30473096e-01]\n",
      " [-5.64850255e-01]\n",
      " [-5.04393930e-01]\n",
      " [-4.60881452e-01]\n",
      " [-4.66106334e-01]\n",
      " [-6.03116698e-01]\n",
      " [-7.26610060e-01]\n",
      " [-8.34386469e-01]\n",
      " [-6.89253212e-01]\n",
      " [-5.81328729e-01]\n",
      " [-7.22146699e-01]\n",
      " [-7.58318958e-01]\n",
      " [-7.91106678e-01]\n",
      " [-7.69107176e-01]\n",
      " [-7.89816323e-01]\n",
      " [-8.17738769e-01]\n",
      " [-1.07612716e+00]\n",
      " [-9.71016073e-01]\n",
      " [-1.11691085e+00]\n",
      " [-1.05059504e+00]\n",
      " [-1.21702974e+00]\n",
      " [-1.14627173e+00]\n",
      " [-1.28317632e+00]\n",
      " [-1.14682171e+00]\n",
      " [-1.15737724e+00]\n",
      " [-1.17438455e+00]\n",
      " [-8.92515924e-01]\n",
      " [-1.12915865e+00]\n",
      " [-5.81159502e-01]\n",
      " [-5.89536236e-01]\n",
      " [-2.18400396e-01]\n",
      " [-3.51814687e-01]\n",
      " [-3.91731092e-01]\n",
      " [-3.74089184e-01]\n",
      " [-3.91138798e-01]\n",
      " [-5.02849734e-01]\n",
      " [-5.65738697e-01]\n",
      " [-3.46145585e-01]\n",
      " [-3.67214339e-01]\n",
      " [-3.27403701e-01]\n",
      " [-2.79110562e-01]\n",
      " [-3.30809393e-01]\n",
      " [-2.97344765e-01]\n",
      " [-1.33300397e-01]\n",
      " [-1.97860476e-01]\n",
      " [ 7.58852586e-02]\n",
      " [ 1.79884823e+00]\n",
      " [ 1.99496110e+00]\n",
      " [ 1.43405840e+00]\n",
      " [ 6.81294648e-01]\n",
      " [ 7.61804366e-01]\n",
      " [ 5.59832010e-01]\n",
      " [ 3.40227435e-02]\n",
      " [-2.70258763e-02]\n",
      " [-2.55313023e-01]\n",
      " [ 1.40962709e-02]\n",
      " [-7.47055676e-02]\n",
      " [ 8.75619177e-02]\n",
      " [-8.06708173e-02]\n",
      " [ 7.67102399e-02]\n",
      " [ 6.47374337e-02]\n",
      " [ 1.59419908e-01]\n",
      " [ 2.22520405e-01]\n",
      " [ 3.89357018e-01]\n",
      " [ 4.15227587e-01]\n",
      " [ 5.73137478e-01]\n",
      " [ 5.80625770e-01]\n",
      " [ 7.86490347e-01]\n",
      " [ 7.99161214e-01]\n",
      " [ 3.43771510e-01]\n",
      " [ 1.04667677e+00]\n",
      " [ 1.42991234e+00]\n",
      " [ 8.19806901e-01]\n",
      " [ 8.68311574e-01]\n",
      " [ 9.53601953e-01]\n",
      " [ 8.31102800e-01]\n",
      " [ 7.53300712e-01]\n",
      " [ 7.61867826e-01]\n",
      " [ 5.29138473e-01]\n",
      " [ 3.49525226e-01]\n",
      " [ 6.54324104e-01]\n",
      " [ 4.20875536e-01]\n",
      " [ 6.83325371e-01]\n",
      " [ 5.94883140e-01]\n",
      " [ 5.43311229e-01]\n",
      " [ 5.52661018e-01]\n",
      " [ 5.33051846e-01]\n",
      " [ 6.56185600e-01]\n",
      " [ 7.23707151e-01]\n",
      " [ 7.90721020e-01]\n",
      " [ 5.98669593e-01]\n",
      " [ 5.06758209e-01]\n",
      " [ 6.18701832e-01]\n",
      " [ 5.37684433e-01]\n",
      " [ 4.89983589e-01]\n",
      " [ 5.04050578e-01]\n",
      " [ 4.99925672e-01]\n",
      " [ 5.87183314e-01]\n",
      " [ 8.52975382e-01]\n",
      " [ 7.93407498e-01]\n",
      " [ 1.57783784e+00]\n",
      " [ 1.24902989e+00]\n",
      " [ 1.24194351e+00]\n",
      " [ 8.05337997e-01]\n",
      " [ 8.52383088e-01]\n",
      " [ 9.05245354e-01]\n",
      " [ 7.55923730e-01]\n",
      " [ 7.21062980e-01]\n",
      " [ 1.17370275e+00]\n",
      " [ 1.39786499e+00]\n",
      " [ 1.25721624e+00]\n",
      " [ 1.69811589e+00]\n",
      " [ 2.59011111e+00]\n",
      " [ 2.24664387e+00]\n",
      " [ 2.57737678e+00]\n",
      " [ 3.16992492e+00]\n",
      " [ 3.27907630e+00]\n",
      " [ 2.98233686e+00]\n",
      " [ 2.41529968e+00]\n",
      " [ 2.06502106e+00]\n",
      " [ 2.30443487e+00]\n",
      " [ 1.37165596e+00]\n",
      " [ 1.34680076e+00]\n",
      " [ 1.30715934e+00]\n",
      " [ 1.36492919e+00]\n",
      " [ 1.05560349e+00]\n",
      " [ 1.10410817e+00]\n",
      " [ 6.28665069e-01]\n",
      " [ 6.42562831e-01]\n",
      " [ 6.98407723e-01]\n",
      " [ 3.99806781e-01]\n",
      " [ 4.30161864e-01]\n",
      " [ 1.50904792e-02]\n",
      " [-7.11306484e-02]\n",
      " [-4.25978395e-01]\n",
      " [ 1.80382896e-01]\n",
      " [-5.12516823e-01]\n",
      " [-4.04169273e-01]\n",
      " [-3.95623312e-01]\n",
      " [-1.20925676e-01]\n",
      " [-1.43094406e-01]\n",
      " [-1.73851403e-01]\n",
      " [-3.25711431e-01]\n",
      " [-5.04182396e-01]\n",
      " [-5.74221197e-01]\n",
      " [-4.04867334e-01]\n",
      " [-2.84271983e-01]\n",
      " [-3.04515756e-01]\n",
      " [-4.09288388e-01]\n",
      " [-2.88523810e-01]\n",
      " [-4.41568427e-01]\n",
      " [-4.78650281e-01]\n",
      " [-4.67883217e-01]\n",
      " [-6.52827112e-01]\n",
      " [-6.76243891e-01]\n",
      " [-4.02265470e-01]\n",
      " [-4.63229476e-01]\n",
      " [-4.06221149e-01]\n",
      " [-5.62671458e-01]\n",
      " [-3.92133006e-01]\n",
      " [-3.01490825e-01]\n",
      " [-2.37861494e-01]\n",
      " [-3.71593086e-01]\n",
      " [-4.78882968e-01]\n",
      " [-6.23762385e-01]\n",
      " [-7.54553659e-01]\n",
      " [-7.09433525e-01]\n",
      " [-9.54812593e-01]\n",
      " [-9.06604067e-01]\n",
      " [-8.50801483e-01]\n",
      " [-8.88919852e-01]\n",
      " [-1.02256683e+00]\n",
      " [-1.06182748e+00]\n",
      " [-9.12125096e-01]\n",
      " [-9.64945056e-01]\n",
      " [-9.09480925e-01]\n",
      " [-1.05831602e+00]\n",
      " [-1.13027978e+00]\n",
      " [-1.11504935e+00]\n",
      " [-1.22132387e+00]\n",
      " [-1.13563158e+00]\n",
      " [-1.22068927e+00]\n",
      " [-1.25093859e+00]\n",
      " [-1.19670135e+00]\n",
      " [-1.31437754e+00]\n",
      " [-1.21148756e+00]\n",
      " [-1.22711990e+00]\n",
      " [-1.05609492e+00]\n",
      " [-1.04792972e+00]\n",
      " [-1.11373785e+00]\n",
      " [-1.10051699e+00]\n",
      " [-1.13975649e+00]\n",
      " [-7.95908493e-01]\n",
      " [-8.11181225e-01]\n",
      " [-8.04285227e-01]\n",
      " [-8.54905236e-01]\n",
      " [-9.18217266e-01]\n",
      " [-8.12090819e-01]\n",
      " [-7.56309388e-01]\n",
      " [-6.56803946e-01]\n",
      " [-6.54667455e-01]\n",
      " [-5.51714014e-01]\n",
      " [-5.08391916e-01]\n",
      " [-3.57885704e-01]\n",
      " [-3.49403203e-01]\n",
      " [-3.87690799e-01]\n",
      " [-2.55630323e-01]\n",
      " [-1.80303180e-01]\n",
      " [-2.86577701e-01]\n",
      " [-3.32459356e-01]\n",
      " [-3.43162960e-01]\n",
      " [-3.32480509e-01]\n",
      " [-1.02797240e-01]\n",
      " [-2.16538899e-01]\n",
      " [-1.54517225e-01]\n",
      " [-1.03304921e-01]\n",
      " [-9.19878691e-02]\n",
      " [-1.39954017e-02]\n",
      " [-2.54605271e-02]\n",
      " [-3.24780683e-01]\n",
      " [-2.63943597e-01]\n",
      " [-2.71812650e-01]\n",
      " [-2.99967782e-01]\n",
      " [-3.70091197e-01]\n",
      " [-4.94071086e-01]\n",
      " [-4.95276828e-01]\n",
      " [-3.66748965e-01]\n",
      " [-2.60897512e-01]\n",
      " [-1.48192368e-01]\n",
      " [-1.70995698e-01]\n",
      " [-9.46955002e-02]\n",
      " [-2.42303701e-01]\n",
      " [ 2.34218217e-01]\n",
      " [ 6.21567228e-02]\n",
      " [ 3.77045757e-01]\n",
      " [ 2.65080981e-01]\n",
      " [ 1.00559777e-02]\n",
      " [-8.34745243e-03]\n",
      " [-9.88415603e-02]\n",
      " [ 3.60534668e-02]\n",
      " [ 2.05268948e-02]\n",
      " [ 2.32768326e-02]\n",
      " [ 1.81863632e-01]\n",
      " [ 8.25485695e-02]\n",
      " [ 2.41769970e-01]\n",
      " [ 1.59463049e-03]\n",
      " [-6.77672629e-02]\n",
      " [-3.09180960e-02]\n",
      " [-3.91256027e-02]\n",
      " [ 8.88099664e-02]\n",
      " [ 7.07449902e-02]\n",
      " [-6.41288836e-02]\n",
      " [ 1.60223736e-01]\n",
      " [ 1.77527191e-01]\n",
      " [ 3.63486449e-01]\n",
      " [ 2.53996616e-01]\n",
      " [ 3.73640065e-01]\n",
      " [ 3.01295547e-01]\n",
      " [-5.75924929e-02]\n",
      " [-1.78145537e-01]]\n"
     ]
    }
   ],
   "source": [
    "from sklearn.preprocessing import StandardScaler\n",
    "\n",
    "\n",
    "StdS_X = StandardScaler()\n",
    "StdS_y = StandardScaler()\n",
    "X_l = StdS_X.fit_transform(x_train)\n",
    "y_p = StdS_y.fit_transform(y_train.reshape(-1,1))\n",
    "\n",
    "print(\"Scaled X_l:\")\n",
    "print(X_l)\n",
    "print(\"Scaled y_p:\")\n",
    "print(y_p)\n"
   ],
   "metadata": {
    "collapsed": false,
    "pycharm": {
     "name": "#%%\n"
    }
   }
  },
  {
   "cell_type": "code",
   "execution_count": 53,
   "outputs": [
    {
     "name": "stdout",
     "output_type": "stream",
     "text": [
      "Scaled X_l_test:\n",
      "[[ 0.68004413  0.33685807 -0.47590737 ...  0.36948687  0.36948687\n",
      "  -0.94453624]\n",
      " [ 0.25414594  0.30372625 -0.1971647  ...  0.36948687  0.36948687\n",
      "   1.8431629 ]\n",
      " [ 0.5689365   0.59956357 -0.3018879  ...  0.36948687  0.36948687\n",
      "  -0.94453624]\n",
      " ...\n",
      " [-1.60358058 -1.5212646  -0.62906147 ... -0.80625567 -0.80625567\n",
      "  -0.94453624]\n",
      " [-1.52971042 -1.51005753 -0.79963411 ... -0.80625567 -0.80625567\n",
      "  -0.94453624]\n",
      " [-1.41471488 -1.48451128 -0.69795225 ... -0.80625567 -0.80625567\n",
      "  -0.0534626 ]]\n",
      "Scaled y_p_test:\n",
      "[[ 0.4920672 ]\n",
      " [ 0.59687049]\n",
      " [ 0.21314482]\n",
      " [ 0.21964317]\n",
      " [ 0.03137518]\n",
      " [-0.06296622]\n",
      " [-0.29907318]\n",
      " [-0.07716121]\n",
      " [ 0.17042158]\n",
      " [ 0.40463895]\n",
      " [ 0.2985913 ]\n",
      " [ 0.22222408]\n",
      " [ 0.0092992 ]\n",
      " [ 0.22899896]\n",
      " [ 0.27997189]\n",
      " [ 0.04985632]\n",
      " [-0.00471144]\n",
      " [-0.05070691]\n",
      " [-0.35585315]\n",
      " [-0.49204212]\n",
      " [-0.39848422]\n",
      " [-0.60786035]\n",
      " [-0.79142741]\n",
      " [-0.53444275]\n",
      " [-0.63532859]\n",
      " [-0.90858219]\n",
      " [-0.78165683]\n",
      " [-0.92480504]\n",
      " [-0.71427671]\n",
      " [-0.75206857]\n",
      " [-0.79649705]\n",
      " [-0.89208281]\n",
      " [-0.95374807]\n",
      " [-0.61703179]\n",
      " [-0.25888476]\n",
      " [-1.02251083]\n",
      " [-0.56126575]\n",
      " [-0.67321262]\n",
      " [-0.76727749]\n",
      " [-0.73280394]\n",
      " [-0.50600668]\n",
      " [-0.53306012]\n",
      " [-0.31455863]\n",
      " [-0.4585825 ]\n",
      " [ 0.14599513]\n",
      " [ 0.22545022]\n",
      " [ 1.13881501]\n",
      " [ 1.29574342]\n",
      " [ 1.66744021]\n",
      " [ 2.35686518]\n",
      " [ 2.47300603]\n",
      " [ 2.30483224]\n",
      " [ 2.30441745]\n",
      " [ 2.92401964]\n",
      " [ 2.11679468]\n",
      " [ 2.03457433]\n",
      " [ 2.16822848]\n",
      " [ 1.44649608]\n",
      " [ 1.5530507 ]\n",
      " [ 1.51857714]\n",
      " [ 1.24601486]\n",
      " [ 1.07443058]\n",
      " [ 1.10245187]\n",
      " [ 0.97681697]\n",
      " [ 1.30436181]\n",
      " [ 0.91939177]\n",
      " [ 1.00603653]\n",
      " [ 1.28800069]\n",
      " [ 1.23311032]\n",
      " [ 1.14835515]\n",
      " [ 1.22854764]\n",
      " [ 1.30445398]\n",
      " [ 0.83661838]\n",
      " [ 0.44625609]\n",
      " [ 0.3503938 ]\n",
      " [ 0.59673222]\n",
      " [ 0.70738864]\n",
      " [ 0.66263754]\n",
      " [ 0.27057001]\n",
      " [-0.02397608]\n",
      " [ 0.25978551]\n",
      " [ 0.36486532]\n",
      " [-0.11140432]\n",
      " [ 0.2318564 ]\n",
      " [ 0.30909928]\n",
      " [-0.01862991]\n",
      " [-0.08481176]\n",
      " [ 0.00372259]\n",
      " [-0.12237318]\n",
      " [ 0.36316008]\n",
      " [ 0.28020233]\n",
      " [ 0.55566814]\n",
      " [ 0.45819278]\n",
      " [ 0.35537127]\n",
      " [ 0.30674881]\n",
      " [ 0.34638418]\n",
      " [ 0.58313637]\n",
      " [ 0.25324106]\n",
      " [-0.01945949]\n",
      " [ 0.00994442]\n",
      " [-0.18168797]\n",
      " [-0.12638281]\n",
      " [-0.18477584]\n",
      " [-0.36073844]\n",
      " [-0.31225425]\n",
      " [-0.55744048]\n",
      " [-0.56725715]\n",
      " [-0.72879431]\n",
      " [-0.82972624]\n",
      " [-0.73874924]\n",
      " [-0.80036841]\n",
      " [-0.63131896]\n",
      " [-0.43512389]\n",
      " [-0.59974893]\n",
      " [-0.5253174 ]\n",
      " [-0.57361724]\n",
      " [-0.55891528]\n",
      " [-0.68630151]\n",
      " [-0.5521404 ]\n",
      " [-0.76640183]\n",
      " [-0.90388125]\n",
      " [-1.3819944 ]\n",
      " [-1.80563196]\n",
      " [-1.66621686]\n",
      " [-1.66806036]\n",
      " [-1.67916748]\n",
      " [-1.75585731]\n",
      " [-1.64137562]\n",
      " [-1.56892585]\n",
      " [-1.4908534 ]\n",
      " [-1.5631649 ]\n",
      " [-1.64275825]\n",
      " [-1.49610739]\n",
      " [-1.61224823]\n",
      " [-1.31516732]\n",
      " [-1.5072606 ]]\n"
     ]
    }
   ],
   "source": [
    "\n",
    "StdS_X_test = StandardScaler()\n",
    "StdS_y_test = StandardScaler()\n",
    "StdS_y_result= StandardScaler()\n",
    "X_l_test = StdS_X_test.fit_transform(x_test)\n",
    "y_p_test = StdS_y_test.fit_transform(y_test.reshape(-1,1))\n",
    "\n",
    "print(\"Scaled X_l_test:\")\n",
    "print(X_l_test)\n",
    "print(\"Scaled y_p_test:\")\n",
    "print(y_p_test)"
   ],
   "metadata": {
    "collapsed": false,
    "pycharm": {
     "name": "#%%\n"
    }
   }
  },
  {
   "cell_type": "code",
   "execution_count": 54,
   "outputs": [
    {
     "name": "stderr",
     "output_type": "stream",
     "text": [
      "C:\\Users\\nikol\\Desktop\\SIAP - projekat\\SIAP_2022\\venv\\lib\\site-packages\\sklearn\\utils\\validation.py:993: DataConversionWarning: A column-vector y was passed when a 1d array was expected. Please change the shape of y to (n_samples, ), for example using ravel().\n",
      "  y = column_or_1d(y, warn=True)\n"
     ]
    },
    {
     "data": {
      "text/plain": "SVR(C=1000.0, gamma='auto', kernel='linear')"
     },
     "execution_count": 54,
     "metadata": {},
     "output_type": "execute_result"
    }
   ],
   "source": [
    "from sklearn.svm import SVR\n",
    "svr_linear = SVR(kernel='linear', C = 1e3, gamma=\"auto\")\n",
    "svr_linear.fit(X_l, y_p)"
   ],
   "metadata": {
    "collapsed": false,
    "pycharm": {
     "name": "#%%\n"
    }
   }
  },
  {
   "cell_type": "code",
   "execution_count": 55,
   "outputs": [
    {
     "data": {
      "text/plain": "LinearRegression()"
     },
     "execution_count": 55,
     "metadata": {},
     "output_type": "execute_result"
    }
   ],
   "source": [
    "from sklearn.linear_model import LinearRegression\n",
    "# Create and train the Linear Regression  Model\n",
    "lr = LinearRegression()\n",
    "# Train the model\n",
    "lr.fit(X_l, y_p)"
   ],
   "metadata": {
    "collapsed": false,
    "pycharm": {
     "name": "#%%\n"
    }
   }
  },
  {
   "cell_type": "code",
   "execution_count": 56,
   "outputs": [
    {
     "name": "stdout",
     "output_type": "stream",
     "text": [
      "lr confidence:  0.9335929573912001\n",
      "svr_linear confidence 0.9337361692812396\n"
     ]
    }
   ],
   "source": [
    "# Testing Model: Score returns the coefficient of determination R^2 of the prediction.\n",
    "# The best possible score is 1.0\n",
    "lr_confidence = lr.score(X_l_test, y_p_test)\n",
    "print(\"lr confidence: \", lr_confidence)\n",
    "\n",
    "svr_linear_confidence = svr_linear.score(X_l_test, y_p_test)\n",
    "print('svr_linear confidence', svr_linear_confidence)"
   ],
   "metadata": {
    "collapsed": false,
    "pycharm": {
     "name": "#%%\n"
    }
   }
  },
  {
   "cell_type": "code",
   "execution_count": 57,
   "outputs": [
    {
     "name": "stdout",
     "output_type": "stream",
     "text": [
      "[ 0.23035633  0.36992642  0.46417335  0.09708034  0.0639314  -0.08808344\n",
      " -0.10283428 -0.32867593 -0.09198058  0.10446579  0.32124946  0.22663085\n",
      "  0.12873147 -0.04971924  0.17299371  0.21245778 -0.04049516 -0.06628124\n",
      " -0.04075875 -0.3754888  -0.47289332 -0.42327039 -0.58983211 -0.75421437\n",
      " -0.54988152 -0.64694095 -0.90816831 -0.80279383 -0.91255236 -0.72295636\n",
      " -0.73482193 -0.7990691  -0.89341104 -0.98696671 -0.6772529  -0.30233914\n",
      " -0.97985618 -0.61012948 -0.68357111 -0.79764763 -0.78642901 -0.56612762\n",
      " -0.56011653 -0.35866447 -0.50307534  0.09417456  0.16616178  1.0368424\n",
      "  1.25143338  1.61017474  2.2358345   2.37660776  2.19055815  2.20070509\n",
      "  2.72830284  2.07557551  1.9292374   2.04115808  1.44476665  1.47165988\n",
      "  1.44252276  1.20244571  1.03356527  1.0494238   0.93009554  1.28111807\n",
      "  0.94652137  0.95033441  1.17912188  1.16961939  1.08980839  1.16628682\n",
      "  1.20997758  0.82589739  0.41262202  0.31163328  0.5402823   0.6591413\n",
      "  0.60917873  0.26419825 -0.0116994   0.24157862  0.36366873 -0.08949546\n",
      "  0.15887561  0.22457929 -0.04795642 -0.11127307 -0.04312968 -0.14947175\n",
      "  0.29264351  0.27267655  0.4909147   0.42803522  0.32468255  0.27696939\n",
      "  0.31696746  0.56289306  0.27682685  0.00305441  0.03497787 -0.15017202\n",
      " -0.09988315 -0.17185427 -0.3624508  -0.33721118 -0.56118675 -0.57207249\n",
      " -0.73199305 -0.83006812 -0.73237641 -0.7987384  -0.63520761 -0.4702907\n",
      " -0.58332096 -0.53045613 -0.56307812 -0.54691844 -0.69479669 -0.55278181\n",
      " -0.73498589 -0.88934389 -1.33094118 -1.6899834  -1.61182009 -1.64089777\n",
      " -1.63581959 -1.70169561 -1.61257491 -1.54966575 -1.46968283 -1.55798318\n",
      " -1.59298245 -1.49365677 -1.57033319 -1.28032868]\n"
     ]
    }
   ],
   "source": [
    "svr_prediction = svr_linear.predict(X_l_test)\n",
    "print(svr_prediction)"
   ],
   "metadata": {
    "collapsed": false,
    "pycharm": {
     "name": "#%%\n"
    }
   }
  },
  {
   "cell_type": "code",
   "execution_count": 58,
   "outputs": [
    {
     "name": "stdout",
     "output_type": "stream",
     "text": [
      "[[0.14331043]\n",
      " [0.14990844]\n",
      " [0.15436385]\n",
      " [0.13700997]\n",
      " [0.1354429 ]\n",
      " [0.12825658]\n",
      " [0.12755925]\n",
      " [0.11688286]\n",
      " [0.12807234]\n",
      " [0.13735911]\n",
      " [0.1476073 ]\n",
      " [0.14313432]\n",
      " [0.13850624]\n",
      " [0.1300702 ]\n",
      " [0.14059868]\n",
      " [0.1424643 ]\n",
      " [0.13050626]\n",
      " [0.12928725]\n",
      " [0.13049379]\n",
      " [0.11466983]\n",
      " [0.11006515]\n",
      " [0.11241102]\n",
      " [0.10453701]\n",
      " [0.09676604]\n",
      " [0.10642563]\n",
      " [0.10183726]\n",
      " [0.08948805]\n",
      " [0.0944695 ]\n",
      " [0.0892808 ]\n",
      " [0.09824372]\n",
      " [0.09768279]\n",
      " [0.09464559]\n",
      " [0.09018568]\n",
      " [0.08576295]\n",
      " [0.1004043 ]\n",
      " [0.1181279 ]\n",
      " [0.08609909]\n",
      " [0.10357748]\n",
      " [0.10010561]\n",
      " [0.09471278]\n",
      " [0.09524313]\n",
      " [0.10565761]\n",
      " [0.10594178]\n",
      " [0.11546518]\n",
      " [0.10863833]\n",
      " [0.1368726 ]\n",
      " [0.14027571]\n",
      " [0.18143609]\n",
      " [0.19158062]\n",
      " [0.20853969]\n",
      " [0.238117  ]\n",
      " [0.24477189]\n",
      " [0.23597661]\n",
      " [0.2364563 ]\n",
      " [0.26139785]\n",
      " [0.23054095]\n",
      " [0.22362299]\n",
      " [0.22891391]\n",
      " [0.20072022]\n",
      " [0.20199156]\n",
      " [0.20061414]\n",
      " [0.18926479]\n",
      " [0.18128117]\n",
      " [0.18203086]\n",
      " [0.17638976]\n",
      " [0.19298393]\n",
      " [0.17716627]\n",
      " [0.17734653]\n",
      " [0.18816218]\n",
      " [0.18771296]\n",
      " [0.18394   ]\n",
      " [0.18755542]\n",
      " [0.18962085]\n",
      " [0.17146392]\n",
      " [0.15192682]\n",
      " [0.1471527 ]\n",
      " [0.15796181]\n",
      " [0.16358073]\n",
      " [0.16121881]\n",
      " [0.14491027]\n",
      " [0.13186754]\n",
      " [0.14384095]\n",
      " [0.14961262]\n",
      " [0.12818983]\n",
      " [0.13993127]\n",
      " [0.14303733]\n",
      " [0.13015353]\n",
      " [0.12716032]\n",
      " [0.13038171]\n",
      " [0.12535452]\n",
      " [0.14625499]\n",
      " [0.14531107]\n",
      " [0.15562802]\n",
      " [0.15265547]\n",
      " [0.14776959]\n",
      " [0.14551401]\n",
      " [0.14740487]\n",
      " [0.15903071]\n",
      " [0.14550727]\n",
      " [0.13256501]\n",
      " [0.13407415]\n",
      " [0.12532141]\n",
      " [0.12769876]\n",
      " [0.12429641]\n",
      " [0.11528619]\n",
      " [0.11647936]\n",
      " [0.10589119]\n",
      " [0.10537658]\n",
      " [0.09781653]\n",
      " [0.09318014]\n",
      " [0.0977984 ]\n",
      " [0.09466122]\n",
      " [0.10239194]\n",
      " [0.11018819]\n",
      " [0.10484482]\n",
      " [0.10734394]\n",
      " [0.10580178]\n",
      " [0.10656571]\n",
      " [0.09957494]\n",
      " [0.10628852]\n",
      " [0.09767504]\n",
      " [0.09037795]\n",
      " [0.06950197]\n",
      " [0.05252869]\n",
      " [0.05622376]\n",
      " [0.05484915]\n",
      " [0.05508921]\n",
      " [0.051975  ]\n",
      " [0.05618808]\n",
      " [0.05916203]\n",
      " [0.06294313]\n",
      " [0.05876884]\n",
      " [0.05711429]\n",
      " [0.06180979]\n",
      " [0.058185  ]\n",
      " [0.07189462]]\n"
     ]
    }
   ],
   "source": [
    "final_prediction =svr_prediction.reshape(-1,1)\n",
    "final_prediction = StdS_y.inverse_transform(final_prediction)\n",
    "print(final_prediction)\n"
   ],
   "metadata": {
    "collapsed": false,
    "pycharm": {
     "name": "#%%\n"
    }
   }
  },
  {
   "cell_type": "code",
   "execution_count": 59,
   "outputs": [
    {
     "name": "stdout",
     "output_type": "stream",
     "text": [
      "[0.12774  0.130014 0.121688 0.121829 0.117744 0.115697 0.110574 0.115389\n",
      " 0.120761 0.125843 0.123542 0.121885 0.117265 0.122032 0.123138 0.118145\n",
      " 0.116961 0.115963 0.109342 0.106387 0.108417 0.103874 0.099891 0.105467\n",
      " 0.103278 0.097349 0.100103 0.096997 0.101565 0.100745 0.099781 0.097707\n",
      " 0.096369 0.103675 0.111446 0.094877 0.104885 0.102456 0.100415 0.101163\n",
      " 0.106084 0.105497 0.110238 0.107113 0.120231 0.121955 0.141773 0.145178\n",
      " 0.153243 0.168202 0.170722 0.167073 0.167064 0.180508 0.162993 0.161209\n",
      " 0.164109 0.148449 0.150761 0.150013 0.144099 0.140376 0.140984 0.138258\n",
      " 0.145365 0.137012 0.138892 0.14501  0.143819 0.14198  0.14372  0.145367\n",
      " 0.135216 0.126746 0.124666 0.130011 0.132412 0.131441 0.122934 0.116543\n",
      " 0.1227   0.12498  0.114646 0.122094 0.12377  0.116659 0.115223 0.117144\n",
      " 0.114408 0.124943 0.123143 0.12912  0.127005 0.124774 0.123719 0.124579\n",
      " 0.129716 0.122558 0.116641 0.117279 0.113121 0.114321 0.113054 0.109236\n",
      " 0.110288 0.104968 0.104755 0.10125  0.09906  0.101034 0.099697 0.103365\n",
      " 0.107622 0.10405  0.105665 0.104617 0.104936 0.102172 0.105083 0.100434\n",
      " 0.097451 0.087077 0.077885 0.08091  0.08087  0.080629 0.078965 0.081449\n",
      " 0.083021 0.084715 0.083146 0.081419 0.084601 0.082081 0.088527 0.084359]\n"
     ]
    }
   ],
   "source": [
    "print(y_test)"
   ],
   "metadata": {
    "collapsed": false,
    "pycharm": {
     "name": "#%%\n"
    }
   }
  },
  {
   "cell_type": "code",
   "execution_count": 60,
   "outputs": [
    {
     "name": "stdout",
     "output_type": "stream",
     "text": [
      "136\n",
      "136\n"
     ]
    }
   ],
   "source": [
    "print(len(final_prediction))\n",
    "print(len(y_test))"
   ],
   "metadata": {
    "collapsed": false,
    "pycharm": {
     "name": "#%%\n"
    }
   }
  },
  {
   "cell_type": "code",
   "execution_count": 61,
   "outputs": [
    {
     "data": {
      "text/plain": "                  Date      Open      High       Low     Close  Adj Close  \\\n2020-08-11  2020-08-11  0.125496  0.137770  0.124239  0.130634   0.130634   \n2020-08-12  2020-08-12  0.130674  0.162275  0.128384  0.138122   0.138122   \n2020-08-13  2020-08-13  0.138128  0.138128  0.118348  0.127606   0.127606   \n2020-08-14  2020-08-14  0.127084  0.201024  0.121670  0.201024   0.201024   \n2020-08-15  2020-08-15  0.201097  0.202423  0.138915  0.162744   0.162744   \n...                ...       ...       ...       ...       ...        ...   \n2022-01-31  2022-01-31  0.083146  0.083205  0.078528  0.081419   0.081419   \n2022-02-01  2022-02-01  0.081419  0.085588  0.081330  0.084601   0.084601   \n2022-02-02  2022-02-02  0.084601  0.087298  0.081559  0.082081   0.082081   \n2022-02-03  2022-02-03  0.082081  0.089960  0.082081  0.088527   0.088527   \n2022-02-04  2022-02-04  0.088531  0.090840  0.084359  0.084359   0.084359   \n\n            Volume  twitter_followers  reddit_average_posts_48h  \\\n2020-08-11   40783             1817.0                     0.273   \n2020-08-12   65517             1829.0                     0.182   \n2020-08-13   41988             2149.0                     0.083   \n2020-08-14  104705             2208.0                     0.000   \n2020-08-15   50419             2267.0                     0.100   \n...            ...                ...                       ...   \n2022-01-31  157240             9584.0                     0.091   \n2022-02-01  149344             9593.0                     0.083   \n2022-02-02  130836             9571.0                     0.200   \n2022-02-03  141869             9549.0                     0.200   \n2022-02-04  156317             9549.0                     0.167   \n\n            reddit_average_comments_48h  reddit_subscribers  \\\n2020-08-11                        0.000                 298   \n2020-08-12                        0.091                 300   \n2020-08-13                        0.167                 302   \n2020-08-14                        0.000                 304   \n2020-08-15                        0.000                 307   \n...                                 ...                 ...   \n2022-01-31                        0.000                 925   \n2022-02-01                        0.167                 926   \n2022-02-02                        0.100                 926   \n2022-02-03                        0.000                 925   \n2022-02-04                        0.000                 925   \n\n            reddit_accounts_active_48h  idena_unscaled  idena_monthly  scale  \\\n2020-08-11                    6.666667               0           37.0   0.37   \n2020-08-12                    6.750000               0           37.0   0.37   \n2020-08-13                    6.615385               0           37.0   0.37   \n2020-08-14                    7.083333              34           37.0   0.37   \n2020-08-15                    5.636364               0           37.0   0.37   \n...                                ...             ...            ...    ...   \n2022-01-31                   10.083333              54           30.0   0.30   \n2022-02-01                   10.153846               0           30.0   0.30   \n2022-02-02                    8.727273               0           30.0   0.30   \n2022-02-03                    8.818182              48           30.0   0.30   \n2022-02-04                    8.230769             100           30.0   0.30   \n\n            idena  1_day_price_forecast  \n2020-08-11   0.00              0.138122  \n2020-08-12   0.00              0.127606  \n2020-08-13   0.00              0.201024  \n2020-08-14  12.58              0.162744  \n2020-08-15   0.00              0.196316  \n...           ...                   ...  \n2022-01-31  16.20              0.084601  \n2022-02-01   0.00              0.082081  \n2022-02-02   0.00              0.088527  \n2022-02-03  14.40              0.084359  \n2022-02-04  30.00                   NaN  \n\n[543 rows x 17 columns]",
      "text/html": "<div>\n<style scoped>\n    .dataframe tbody tr th:only-of-type {\n        vertical-align: middle;\n    }\n\n    .dataframe tbody tr th {\n        vertical-align: top;\n    }\n\n    .dataframe thead th {\n        text-align: right;\n    }\n</style>\n<table border=\"1\" class=\"dataframe\">\n  <thead>\n    <tr style=\"text-align: right;\">\n      <th></th>\n      <th>Date</th>\n      <th>Open</th>\n      <th>High</th>\n      <th>Low</th>\n      <th>Close</th>\n      <th>Adj Close</th>\n      <th>Volume</th>\n      <th>twitter_followers</th>\n      <th>reddit_average_posts_48h</th>\n      <th>reddit_average_comments_48h</th>\n      <th>reddit_subscribers</th>\n      <th>reddit_accounts_active_48h</th>\n      <th>idena_unscaled</th>\n      <th>idena_monthly</th>\n      <th>scale</th>\n      <th>idena</th>\n      <th>1_day_price_forecast</th>\n    </tr>\n  </thead>\n  <tbody>\n    <tr>\n      <th>2020-08-11</th>\n      <td>2020-08-11</td>\n      <td>0.125496</td>\n      <td>0.137770</td>\n      <td>0.124239</td>\n      <td>0.130634</td>\n      <td>0.130634</td>\n      <td>40783</td>\n      <td>1817.0</td>\n      <td>0.273</td>\n      <td>0.000</td>\n      <td>298</td>\n      <td>6.666667</td>\n      <td>0</td>\n      <td>37.0</td>\n      <td>0.37</td>\n      <td>0.00</td>\n      <td>0.138122</td>\n    </tr>\n    <tr>\n      <th>2020-08-12</th>\n      <td>2020-08-12</td>\n      <td>0.130674</td>\n      <td>0.162275</td>\n      <td>0.128384</td>\n      <td>0.138122</td>\n      <td>0.138122</td>\n      <td>65517</td>\n      <td>1829.0</td>\n      <td>0.182</td>\n      <td>0.091</td>\n      <td>300</td>\n      <td>6.750000</td>\n      <td>0</td>\n      <td>37.0</td>\n      <td>0.37</td>\n      <td>0.00</td>\n      <td>0.127606</td>\n    </tr>\n    <tr>\n      <th>2020-08-13</th>\n      <td>2020-08-13</td>\n      <td>0.138128</td>\n      <td>0.138128</td>\n      <td>0.118348</td>\n      <td>0.127606</td>\n      <td>0.127606</td>\n      <td>41988</td>\n      <td>2149.0</td>\n      <td>0.083</td>\n      <td>0.167</td>\n      <td>302</td>\n      <td>6.615385</td>\n      <td>0</td>\n      <td>37.0</td>\n      <td>0.37</td>\n      <td>0.00</td>\n      <td>0.201024</td>\n    </tr>\n    <tr>\n      <th>2020-08-14</th>\n      <td>2020-08-14</td>\n      <td>0.127084</td>\n      <td>0.201024</td>\n      <td>0.121670</td>\n      <td>0.201024</td>\n      <td>0.201024</td>\n      <td>104705</td>\n      <td>2208.0</td>\n      <td>0.000</td>\n      <td>0.000</td>\n      <td>304</td>\n      <td>7.083333</td>\n      <td>34</td>\n      <td>37.0</td>\n      <td>0.37</td>\n      <td>12.58</td>\n      <td>0.162744</td>\n    </tr>\n    <tr>\n      <th>2020-08-15</th>\n      <td>2020-08-15</td>\n      <td>0.201097</td>\n      <td>0.202423</td>\n      <td>0.138915</td>\n      <td>0.162744</td>\n      <td>0.162744</td>\n      <td>50419</td>\n      <td>2267.0</td>\n      <td>0.100</td>\n      <td>0.000</td>\n      <td>307</td>\n      <td>5.636364</td>\n      <td>0</td>\n      <td>37.0</td>\n      <td>0.37</td>\n      <td>0.00</td>\n      <td>0.196316</td>\n    </tr>\n    <tr>\n      <th>...</th>\n      <td>...</td>\n      <td>...</td>\n      <td>...</td>\n      <td>...</td>\n      <td>...</td>\n      <td>...</td>\n      <td>...</td>\n      <td>...</td>\n      <td>...</td>\n      <td>...</td>\n      <td>...</td>\n      <td>...</td>\n      <td>...</td>\n      <td>...</td>\n      <td>...</td>\n      <td>...</td>\n      <td>...</td>\n    </tr>\n    <tr>\n      <th>2022-01-31</th>\n      <td>2022-01-31</td>\n      <td>0.083146</td>\n      <td>0.083205</td>\n      <td>0.078528</td>\n      <td>0.081419</td>\n      <td>0.081419</td>\n      <td>157240</td>\n      <td>9584.0</td>\n      <td>0.091</td>\n      <td>0.000</td>\n      <td>925</td>\n      <td>10.083333</td>\n      <td>54</td>\n      <td>30.0</td>\n      <td>0.30</td>\n      <td>16.20</td>\n      <td>0.084601</td>\n    </tr>\n    <tr>\n      <th>2022-02-01</th>\n      <td>2022-02-01</td>\n      <td>0.081419</td>\n      <td>0.085588</td>\n      <td>0.081330</td>\n      <td>0.084601</td>\n      <td>0.084601</td>\n      <td>149344</td>\n      <td>9593.0</td>\n      <td>0.083</td>\n      <td>0.167</td>\n      <td>926</td>\n      <td>10.153846</td>\n      <td>0</td>\n      <td>30.0</td>\n      <td>0.30</td>\n      <td>0.00</td>\n      <td>0.082081</td>\n    </tr>\n    <tr>\n      <th>2022-02-02</th>\n      <td>2022-02-02</td>\n      <td>0.084601</td>\n      <td>0.087298</td>\n      <td>0.081559</td>\n      <td>0.082081</td>\n      <td>0.082081</td>\n      <td>130836</td>\n      <td>9571.0</td>\n      <td>0.200</td>\n      <td>0.100</td>\n      <td>926</td>\n      <td>8.727273</td>\n      <td>0</td>\n      <td>30.0</td>\n      <td>0.30</td>\n      <td>0.00</td>\n      <td>0.088527</td>\n    </tr>\n    <tr>\n      <th>2022-02-03</th>\n      <td>2022-02-03</td>\n      <td>0.082081</td>\n      <td>0.089960</td>\n      <td>0.082081</td>\n      <td>0.088527</td>\n      <td>0.088527</td>\n      <td>141869</td>\n      <td>9549.0</td>\n      <td>0.200</td>\n      <td>0.000</td>\n      <td>925</td>\n      <td>8.818182</td>\n      <td>48</td>\n      <td>30.0</td>\n      <td>0.30</td>\n      <td>14.40</td>\n      <td>0.084359</td>\n    </tr>\n    <tr>\n      <th>2022-02-04</th>\n      <td>2022-02-04</td>\n      <td>0.088531</td>\n      <td>0.090840</td>\n      <td>0.084359</td>\n      <td>0.084359</td>\n      <td>0.084359</td>\n      <td>156317</td>\n      <td>9549.0</td>\n      <td>0.167</td>\n      <td>0.000</td>\n      <td>925</td>\n      <td>8.230769</td>\n      <td>100</td>\n      <td>30.0</td>\n      <td>0.30</td>\n      <td>30.00</td>\n      <td>NaN</td>\n    </tr>\n  </tbody>\n</table>\n<p>543 rows × 17 columns</p>\n</div>"
     },
     "execution_count": 61,
     "metadata": {},
     "output_type": "execute_result"
    }
   ],
   "source": [
    "df"
   ],
   "metadata": {
    "collapsed": false,
    "pycharm": {
     "name": "#%%\n"
    }
   }
  },
  {
   "cell_type": "code",
   "execution_count": 62,
   "outputs": [
    {
     "data": {
      "text/plain": "<Figure size 1224x360 with 1 Axes>",
      "image/png": "[encoded data removed]"
     },
     "metadata": {},
     "output_type": "display_data"
    }
   ],
   "source": [
    "plt.figure(figsize=(17,5))\n",
    "plt.plot(final_prediction, label='Prediction', lw=2, alpha =.7, color = \"green\")\n",
    "plt.plot(y_test, label='Actual', lw=2, alpha =.7, color = \"red\")\n",
    "plt.legend(['predicted', \"actual\"])\n",
    "plt.title('Prediction vs Actual')\n",
    "plt.ylabel('Price in USD')\n",
    "plt.xlabel('Time')\n",
    "\n",
    "plt.show()"
   ],
   "metadata": {
    "collapsed": false,
    "pycharm": {
     "name": "#%%\n"
    }
   }
  },
  {
   "cell_type": "code",
   "execution_count": 63,
   "outputs": [
    {
     "name": "stdout",
     "output_type": "stream",
     "text": [
      "R^2\n",
      "0.9337361692812396\n",
      "\n",
      "MAE\n",
      "0.021787600983587473\n",
      "\n",
      "RMSE\n",
      "0.02887072222548099\n"
     ]
    }
   ],
   "source": [
    "from math import sqrt\n",
    "from sklearn.metrics import mean_absolute_error, mean_squared_error\n",
    "\n",
    "\n",
    "print(\"R^2\")\n",
    "print(svr_linear_confidence)\n",
    "\n",
    "print(\"\\nMAE\")\n",
    "print(mean_absolute_error(y_test,final_prediction))\n",
    "\n",
    "print(\"\\nRMSE\")\n",
    "print(sqrt(mean_squared_error(y_test, final_prediction)))"
   ],
   "metadata": {
    "collapsed": false,
    "pycharm": {
     "name": "#%%\n"
    }
   }
  }
 ],
 "metadata": {
  "kernelspec": {
   "display_name": "Python 3",
   "language": "python",
   "name": "python3"
  },
  "language_info": {
   "codemirror_mode": {
    "name": "ipython",
    "version": 2
   },
   "file_extension": ".py",
   "mimetype": "text/x-python",
   "name": "python",
   "nbconvert_exporter": "python",
   "pygments_lexer": "ipython2",
   "version": "2.7.6"
  }
 },
 "nbformat": 4,
 "nbformat_minor": 0
}