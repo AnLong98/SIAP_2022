{
 "cells": [
  {
   "cell_type": "code",
   "execution_count": 68,
   "metadata": {
    "collapsed": true
   },
   "outputs": [
    {
     "name": "stdout",
     "output_type": "stream",
     "text": [
      "<class 'pandas.core.frame.DataFrame'>\n",
      "RangeIndex: 543 entries, 0 to 542\n",
      "Data columns (total 26 columns):\n",
      " #   Column                       Non-Null Count  Dtype  \n",
      "---  ------                       --------------  -----  \n",
      " 0   Date                         543 non-null    object \n",
      " 1   Open                         543 non-null    float64\n",
      " 2   High                         543 non-null    float64\n",
      " 3   Low                          543 non-null    float64\n",
      " 4   Close                        543 non-null    float64\n",
      " 5   Adj Close                    543 non-null    float64\n",
      " 6   Volume                       543 non-null    int64  \n",
      " 7   facebook_likes               0 non-null      float64\n",
      " 8   twitter_followers            409 non-null    float64\n",
      " 9   reddit_average_posts_48h     543 non-null    float64\n",
      " 10  reddit_average_comments_48h  543 non-null    float64\n",
      " 11  reddit_subscribers           543 non-null    int64  \n",
      " 12  reddit_accounts_active_48h   543 non-null    float64\n",
      " 13  forks                        34 non-null     float64\n",
      " 14  stars                        34 non-null     float64\n",
      " 15  subscribers                  34 non-null     float64\n",
      " 16  total_issues                 34 non-null     float64\n",
      " 17  closed_issues                34 non-null     float64\n",
      " 18  pull_requests_merged         34 non-null     float64\n",
      " 19  pull_request_contributors    34 non-null     float64\n",
      " 20  commit_count_4_weeks         34 non-null     float64\n",
      " 21  idena_unscaled               543 non-null    int64  \n",
      " 22  idena_monthly                543 non-null    float64\n",
      " 23  isPartial                    77 non-null     object \n",
      " 24  scale                        543 non-null    float64\n",
      " 25  idena                        543 non-null    float64\n",
      "dtypes: float64(21), int64(3), object(2)\n",
      "memory usage: 110.4+ KB\n"
     ]
    }
   ],
   "source": [
    "import pandas as pd\n",
    "\n",
    "df = pd.read_csv('../idena_data_4_2_2022.csv')\n",
    "df.info()"
   ]
  },
  {
   "cell_type": "code",
   "execution_count": 69,
   "outputs": [
    {
     "name": "stdout",
     "output_type": "stream",
     "text": [
      "<class 'pandas.core.frame.DataFrame'>\n",
      "RangeIndex: 543 entries, 0 to 542\n",
      "Data columns (total 25 columns):\n",
      " #   Column                       Non-Null Count  Dtype  \n",
      "---  ------                       --------------  -----  \n",
      " 0   Date                         543 non-null    object \n",
      " 1   Open                         543 non-null    float64\n",
      " 2   High                         543 non-null    float64\n",
      " 3   Low                          543 non-null    float64\n",
      " 4   Close                        543 non-null    float64\n",
      " 5   Adj Close                    543 non-null    float64\n",
      " 6   Volume                       543 non-null    int64  \n",
      " 7   twitter_followers            409 non-null    float64\n",
      " 8   reddit_average_posts_48h     543 non-null    float64\n",
      " 9   reddit_average_comments_48h  543 non-null    float64\n",
      " 10  reddit_subscribers           543 non-null    int64  \n",
      " 11  reddit_accounts_active_48h   543 non-null    float64\n",
      " 12  forks                        34 non-null     float64\n",
      " 13  stars                        34 non-null     float64\n",
      " 14  subscribers                  34 non-null     float64\n",
      " 15  total_issues                 34 non-null     float64\n",
      " 16  closed_issues                34 non-null     float64\n",
      " 17  pull_requests_merged         34 non-null     float64\n",
      " 18  pull_request_contributors    34 non-null     float64\n",
      " 19  commit_count_4_weeks         34 non-null     float64\n",
      " 20  idena_unscaled               543 non-null    int64  \n",
      " 21  idena_monthly                543 non-null    float64\n",
      " 22  isPartial                    77 non-null     object \n",
      " 23  scale                        543 non-null    float64\n",
      " 24  idena                        543 non-null    float64\n",
      "dtypes: float64(20), int64(3), object(2)\n",
      "memory usage: 106.2+ KB\n"
     ]
    }
   ],
   "source": [
    "#Odbacujem fb likes\n",
    "del df['facebook_likes']\n",
    "df.info()"
   ],
   "metadata": {
    "collapsed": false,
    "pycharm": {
     "name": "#%%\n"
    }
   }
  },
  {
   "cell_type": "code",
   "execution_count": 70,
   "outputs": [
    {
     "name": "stdout",
     "output_type": "stream",
     "text": [
      "6.261510128913445\n"
     ]
    }
   ],
   "source": [
    "print(34/543*100)"
   ],
   "metadata": {
    "collapsed": false,
    "pycharm": {
     "name": "#%%\n"
    }
   }
  },
  {
   "cell_type": "code",
   "execution_count": 71,
   "outputs": [
    {
     "name": "stdout",
     "output_type": "stream",
     "text": [
      "<class 'pandas.core.frame.DataFrame'>\n",
      "RangeIndex: 543 entries, 0 to 542\n",
      "Data columns (total 17 columns):\n",
      " #   Column                       Non-Null Count  Dtype  \n",
      "---  ------                       --------------  -----  \n",
      " 0   Date                         543 non-null    object \n",
      " 1   Open                         543 non-null    float64\n",
      " 2   High                         543 non-null    float64\n",
      " 3   Low                          543 non-null    float64\n",
      " 4   Close                        543 non-null    float64\n",
      " 5   Adj Close                    543 non-null    float64\n",
      " 6   Volume                       543 non-null    int64  \n",
      " 7   twitter_followers            409 non-null    float64\n",
      " 8   reddit_average_posts_48h     543 non-null    float64\n",
      " 9   reddit_average_comments_48h  543 non-null    float64\n",
      " 10  reddit_subscribers           543 non-null    int64  \n",
      " 11  reddit_accounts_active_48h   543 non-null    float64\n",
      " 12  idena_unscaled               543 non-null    int64  \n",
      " 13  idena_monthly                543 non-null    float64\n",
      " 14  isPartial                    77 non-null     object \n",
      " 15  scale                        543 non-null    float64\n",
      " 16  idena                        543 non-null    float64\n",
      "dtypes: float64(12), int64(3), object(2)\n",
      "memory usage: 72.2+ KB\n"
     ]
    }
   ],
   "source": [
    "to_delete = ['forks', 'stars', 'subscribers', 'total_issues', 'closed_issues', 'pull_requests_merged',\n",
    "             'pull_request_contributors', 'commit_count_4_weeks']\n",
    "\n",
    "for col in to_delete:\n",
    "    del df[col]\n",
    "df.info()"
   ],
   "metadata": {
    "collapsed": false,
    "pycharm": {
     "name": "#%%\n"
    }
   }
  },
  {
   "cell_type": "code",
   "execution_count": 72,
   "outputs": [
    {
     "name": "stdout",
     "output_type": "stream",
     "text": [
      "14.180478821362799\n"
     ]
    }
   ],
   "source": [
    "print(77/543*100)"
   ],
   "metadata": {
    "collapsed": false,
    "pycharm": {
     "name": "#%%\n"
    }
   }
  },
  {
   "cell_type": "code",
   "execution_count": 73,
   "outputs": [
    {
     "name": "stdout",
     "output_type": "stream",
     "text": [
      "<class 'pandas.core.frame.DataFrame'>\n",
      "RangeIndex: 543 entries, 0 to 542\n",
      "Data columns (total 16 columns):\n",
      " #   Column                       Non-Null Count  Dtype  \n",
      "---  ------                       --------------  -----  \n",
      " 0   Date                         543 non-null    object \n",
      " 1   Open                         543 non-null    float64\n",
      " 2   High                         543 non-null    float64\n",
      " 3   Low                          543 non-null    float64\n",
      " 4   Close                        543 non-null    float64\n",
      " 5   Adj Close                    543 non-null    float64\n",
      " 6   Volume                       543 non-null    int64  \n",
      " 7   twitter_followers            409 non-null    float64\n",
      " 8   reddit_average_posts_48h     543 non-null    float64\n",
      " 9   reddit_average_comments_48h  543 non-null    float64\n",
      " 10  reddit_subscribers           543 non-null    int64  \n",
      " 11  reddit_accounts_active_48h   543 non-null    float64\n",
      " 12  idena_unscaled               543 non-null    int64  \n",
      " 13  idena_monthly                543 non-null    float64\n",
      " 14  scale                        543 non-null    float64\n",
      " 15  idena                        543 non-null    float64\n",
      "dtypes: float64(12), int64(3), object(1)\n",
      "memory usage: 68.0+ KB\n"
     ]
    }
   ],
   "source": [
    "del df['isPartial']\n",
    "df.info()"
   ],
   "metadata": {
    "collapsed": false,
    "pycharm": {
     "name": "#%%\n"
    }
   }
  },
  {
   "cell_type": "code",
   "execution_count": 74,
   "outputs": [
    {
     "data": {
      "text/plain": "75.32228360957643"
     },
     "execution_count": 74,
     "metadata": {},
     "output_type": "execute_result"
    }
   ],
   "source": [
    "409/543*100"
   ],
   "metadata": {
    "collapsed": false,
    "pycharm": {
     "name": "#%%\n"
    }
   }
  },
  {
   "cell_type": "code",
   "execution_count": 75,
   "outputs": [],
   "source": [
    "import scipy\n",
    "#Interpolacijom popunjavam nedostajuce vrednosti zbog pretpostavke da broj twitter pratilaca raste po nekoj zakonitosti\n",
    "df['twitter_followers'] = df['twitter_followers'].interpolate(method='slinear').interpolate(method='linear')\n"
   ],
   "metadata": {
    "collapsed": false,
    "pycharm": {
     "name": "#%%\n"
    }
   }
  },
  {
   "cell_type": "code",
   "execution_count": 76,
   "outputs": [
    {
     "data": {
      "text/plain": "         Date      Open      High       Low     Close  Adj Close  Volume  \\\n0  11/08/2020  0.125496  0.137770  0.124239  0.130634   0.130634   40783   \n1  12/08/2020  0.130674  0.162275  0.128384  0.138122   0.138122   65517   \n2  13/08/2020  0.138128  0.138128  0.118348  0.127606   0.127606   41988   \n3  14/08/2020  0.127084  0.201024  0.121670  0.201024   0.201024  104705   \n4  15/08/2020  0.201097  0.202423  0.138915  0.162744   0.162744   50419   \n\n   twitter_followers  reddit_average_posts_48h  reddit_average_comments_48h  \\\n0             1817.0                     0.273                        0.000   \n1             1829.0                     0.182                        0.091   \n2             2149.0                     0.083                        0.167   \n3             2208.0                     0.000                        0.000   \n4             2267.0                     0.100                        0.000   \n\n   reddit_subscribers  reddit_accounts_active_48h  idena_unscaled  \\\n0                 298                    6.666667               0   \n1                 300                    6.750000               0   \n2                 302                    6.615385               0   \n3                 304                    7.083333              34   \n4                 307                    5.636364               0   \n\n   idena_monthly  scale  idena  \n0           37.0   0.37   0.00  \n1           37.0   0.37   0.00  \n2           37.0   0.37   0.00  \n3           37.0   0.37  12.58  \n4           37.0   0.37   0.00  ",
      "text/html": "<div>\n<style scoped>\n    .dataframe tbody tr th:only-of-type {\n        vertical-align: middle;\n    }\n\n    .dataframe tbody tr th {\n        vertical-align: top;\n    }\n\n    .dataframe thead th {\n        text-align: right;\n    }\n</style>\n<table border=\"1\" class=\"dataframe\">\n  <thead>\n    <tr style=\"text-align: right;\">\n      <th></th>\n      <th>Date</th>\n      <th>Open</th>\n      <th>High</th>\n      <th>Low</th>\n      <th>Close</th>\n      <th>Adj Close</th>\n      <th>Volume</th>\n      <th>twitter_followers</th>\n      <th>reddit_average_posts_48h</th>\n      <th>reddit_average_comments_48h</th>\n      <th>reddit_subscribers</th>\n      <th>reddit_accounts_active_48h</th>\n      <th>idena_unscaled</th>\n      <th>idena_monthly</th>\n      <th>scale</th>\n      <th>idena</th>\n    </tr>\n  </thead>\n  <tbody>\n    <tr>\n      <th>0</th>\n      <td>11/08/2020</td>\n      <td>0.125496</td>\n      <td>0.137770</td>\n      <td>0.124239</td>\n      <td>0.130634</td>\n      <td>0.130634</td>\n      <td>40783</td>\n      <td>1817.0</td>\n      <td>0.273</td>\n      <td>0.000</td>\n      <td>298</td>\n      <td>6.666667</td>\n      <td>0</td>\n      <td>37.0</td>\n      <td>0.37</td>\n      <td>0.00</td>\n    </tr>\n    <tr>\n      <th>1</th>\n      <td>12/08/2020</td>\n      <td>0.130674</td>\n      <td>0.162275</td>\n      <td>0.128384</td>\n      <td>0.138122</td>\n      <td>0.138122</td>\n      <td>65517</td>\n      <td>1829.0</td>\n      <td>0.182</td>\n      <td>0.091</td>\n      <td>300</td>\n      <td>6.750000</td>\n      <td>0</td>\n      <td>37.0</td>\n      <td>0.37</td>\n      <td>0.00</td>\n    </tr>\n    <tr>\n      <th>2</th>\n      <td>13/08/2020</td>\n      <td>0.138128</td>\n      <td>0.138128</td>\n      <td>0.118348</td>\n      <td>0.127606</td>\n      <td>0.127606</td>\n      <td>41988</td>\n      <td>2149.0</td>\n      <td>0.083</td>\n      <td>0.167</td>\n      <td>302</td>\n      <td>6.615385</td>\n      <td>0</td>\n      <td>37.0</td>\n      <td>0.37</td>\n      <td>0.00</td>\n    </tr>\n    <tr>\n      <th>3</th>\n      <td>14/08/2020</td>\n      <td>0.127084</td>\n      <td>0.201024</td>\n      <td>0.121670</td>\n      <td>0.201024</td>\n      <td>0.201024</td>\n      <td>104705</td>\n      <td>2208.0</td>\n      <td>0.000</td>\n      <td>0.000</td>\n      <td>304</td>\n      <td>7.083333</td>\n      <td>34</td>\n      <td>37.0</td>\n      <td>0.37</td>\n      <td>12.58</td>\n    </tr>\n    <tr>\n      <th>4</th>\n      <td>15/08/2020</td>\n      <td>0.201097</td>\n      <td>0.202423</td>\n      <td>0.138915</td>\n      <td>0.162744</td>\n      <td>0.162744</td>\n      <td>50419</td>\n      <td>2267.0</td>\n      <td>0.100</td>\n      <td>0.000</td>\n      <td>307</td>\n      <td>5.636364</td>\n      <td>0</td>\n      <td>37.0</td>\n      <td>0.37</td>\n      <td>0.00</td>\n    </tr>\n  </tbody>\n</table>\n</div>"
     },
     "execution_count": 76,
     "metadata": {},
     "output_type": "execute_result"
    }
   ],
   "source": [
    "df.head()"
   ],
   "metadata": {
    "collapsed": false,
    "pycharm": {
     "name": "#%%\n"
    }
   }
  },
  {
   "cell_type": "code",
   "execution_count": 77,
   "outputs": [
    {
     "data": {
      "text/plain": "Date                           0\nOpen                           0\nHigh                           0\nLow                            0\nClose                          0\nAdj Close                      0\nVolume                         0\ntwitter_followers              0\nreddit_average_posts_48h       0\nreddit_average_comments_48h    0\nreddit_subscribers             0\nreddit_accounts_active_48h     0\nidena_unscaled                 0\nidena_monthly                  0\nscale                          0\nidena                          0\ndtype: int64"
     },
     "execution_count": 77,
     "metadata": {},
     "output_type": "execute_result"
    }
   ],
   "source": [
    "df.isna().sum(axis = 0)"
   ],
   "metadata": {
    "collapsed": false,
    "pycharm": {
     "name": "#%%\n"
    }
   }
  },
  {
   "cell_type": "code",
   "execution_count": 78,
   "outputs": [],
   "source": [
    "df['Date'] = pd.to_datetime(df['Date'], dayfirst=True)\n",
    "df.set_index('Date', inplace=True)\n",
    "df.to_csv('../idena_v1.csv')\n"
   ],
   "metadata": {
    "collapsed": false,
    "pycharm": {
     "name": "#%%\n"
    }
   }
  }
 ],
 "metadata": {
  "kernelspec": {
   "name": "pycharm-f7788d17",
   "language": "python",
   "display_name": "PyCharm (ProjectSiap2021)"
  },
  "language_info": {
   "codemirror_mode": {
    "name": "ipython",
    "version": 2
   },
   "file_extension": ".py",
   "mimetype": "text/x-python",
   "name": "python",
   "nbconvert_exporter": "python",
   "pygments_lexer": "ipython2",
   "version": "2.7.6"
  }
 },
 "nbformat": 4,
 "nbformat_minor": 0
}