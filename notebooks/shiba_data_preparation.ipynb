{
 "cells": [
  {
   "cell_type": "code",
   "execution_count": 38,
   "metadata": {
    "collapsed": true
   },
   "outputs": [
    {
     "name": "stdout",
     "output_type": "stream",
     "text": [
      "<class 'pandas.core.frame.DataFrame'>\n",
      "RangeIndex: 553 entries, 0 to 552\n",
      "Data columns (total 26 columns):\n",
      " #   Column                       Non-Null Count  Dtype  \n",
      "---  ------                       --------------  -----  \n",
      " 0   Date                         553 non-null    object \n",
      " 1   Open                         553 non-null    float64\n",
      " 2   High                         553 non-null    float64\n",
      " 3   Low                          553 non-null    float64\n",
      " 4   Close                        553 non-null    float64\n",
      " 5   Adj Close                    553 non-null    float64\n",
      " 6   Volume                       553 non-null    int64  \n",
      " 7   facebook_likes               0 non-null      float64\n",
      " 8   twitter_followers            213 non-null    float64\n",
      " 9   reddit_average_posts_48h     539 non-null    float64\n",
      " 10  reddit_average_comments_48h  539 non-null    float64\n",
      " 11  reddit_subscribers           319 non-null    float64\n",
      " 12  reddit_accounts_active_48h   319 non-null    float64\n",
      " 13  forks                        0 non-null      float64\n",
      " 14  stars                        0 non-null      float64\n",
      " 15  subscribers                  0 non-null      float64\n",
      " 16  total_issues                 0 non-null      float64\n",
      " 17  closed_issues                0 non-null      float64\n",
      " 18  pull_requests_merged         0 non-null      float64\n",
      " 19  pull_request_contributors    0 non-null      float64\n",
      " 20  commit_count_4_weeks         0 non-null      float64\n",
      " 21  shiba inu coin_unscaled      553 non-null    int64  \n",
      " 22  shiba inu coin_monthly       552 non-null    float64\n",
      " 23  isPartial                    79 non-null     object \n",
      " 24  scale                        552 non-null    float64\n",
      " 25  shiba inu coin               552 non-null    float64\n",
      "dtypes: float64(22), int64(2), object(2)\n",
      "memory usage: 112.5+ KB\n"
     ]
    }
   ],
   "source": [
    "import pandas as pd\n",
    "\n",
    "df = pd.read_csv('../shiba_data_4_2_2022.csv')\n",
    "df.info()"
   ]
  },
  {
   "cell_type": "code",
   "execution_count": 39,
   "outputs": [
    {
     "name": "stdout",
     "output_type": "stream",
     "text": [
      "<class 'pandas.core.frame.DataFrame'>\n",
      "RangeIndex: 553 entries, 0 to 552\n",
      "Data columns (total 17 columns):\n",
      " #   Column                       Non-Null Count  Dtype  \n",
      "---  ------                       --------------  -----  \n",
      " 0   Date                         553 non-null    object \n",
      " 1   Open                         553 non-null    float64\n",
      " 2   High                         553 non-null    float64\n",
      " 3   Low                          553 non-null    float64\n",
      " 4   Close                        553 non-null    float64\n",
      " 5   Adj Close                    553 non-null    float64\n",
      " 6   Volume                       553 non-null    int64  \n",
      " 7   twitter_followers            213 non-null    float64\n",
      " 8   reddit_average_posts_48h     539 non-null    float64\n",
      " 9   reddit_average_comments_48h  539 non-null    float64\n",
      " 10  reddit_subscribers           319 non-null    float64\n",
      " 11  reddit_accounts_active_48h   319 non-null    float64\n",
      " 12  shiba inu coin_unscaled      553 non-null    int64  \n",
      " 13  shiba inu coin_monthly       552 non-null    float64\n",
      " 14  isPartial                    79 non-null     object \n",
      " 15  scale                        552 non-null    float64\n",
      " 16  shiba inu coin               552 non-null    float64\n",
      "dtypes: float64(13), int64(2), object(2)\n",
      "memory usage: 73.6+ KB\n"
     ]
    }
   ],
   "source": [
    "#Uklanjam sve gde fale celi podaci\n",
    "to_delete = ['facebook_likes', 'forks', 'stars', 'subscribers', 'total_issues', 'closed_issues', 'pull_requests_merged',\n",
    "             'pull_request_contributors', 'commit_count_4_weeks']\n",
    "\n",
    "for col in to_delete:\n",
    "    del df[col]\n",
    "df.info()"
   ],
   "metadata": {
    "collapsed": false,
    "pycharm": {
     "name": "#%%\n"
    }
   }
  },
  {
   "cell_type": "code",
   "execution_count": 40,
   "outputs": [
    {
     "name": "stdout",
     "output_type": "stream",
     "text": [
      "<class 'pandas.core.frame.DataFrame'>\n",
      "RangeIndex: 553 entries, 0 to 552\n",
      "Data columns (total 15 columns):\n",
      " #   Column                       Non-Null Count  Dtype  \n",
      "---  ------                       --------------  -----  \n",
      " 0   Date                         553 non-null    object \n",
      " 1   Open                         553 non-null    float64\n",
      " 2   High                         553 non-null    float64\n",
      " 3   Low                          553 non-null    float64\n",
      " 4   Close                        553 non-null    float64\n",
      " 5   Adj Close                    553 non-null    float64\n",
      " 6   Volume                       553 non-null    int64  \n",
      " 7   reddit_average_posts_48h     539 non-null    float64\n",
      " 8   reddit_average_comments_48h  539 non-null    float64\n",
      " 9   reddit_subscribers           319 non-null    float64\n",
      " 10  reddit_accounts_active_48h   319 non-null    float64\n",
      " 11  shiba inu coin_unscaled      553 non-null    int64  \n",
      " 12  shiba inu coin_monthly       552 non-null    float64\n",
      " 13  scale                        552 non-null    float64\n",
      " 14  shiba inu coin               552 non-null    float64\n",
      "dtypes: float64(12), int64(2), object(1)\n",
      "memory usage: 64.9+ KB\n"
     ]
    }
   ],
   "source": [
    "213/553*100\n",
    "del df['twitter_followers']\n",
    "del df['isPartial']\n",
    "df.info()"
   ],
   "metadata": {
    "collapsed": false,
    "pycharm": {
     "name": "#%%\n"
    }
   }
  },
  {
   "cell_type": "code",
   "execution_count": 41,
   "outputs": [
    {
     "data": {
      "text/plain": "Date                             0\nOpen                             0\nHigh                             0\nLow                              0\nClose                            0\nAdj Close                        0\nVolume                           0\nreddit_average_posts_48h        14\nreddit_average_comments_48h     14\nreddit_subscribers             234\nreddit_accounts_active_48h     234\nshiba inu coin_unscaled          0\nshiba inu coin_monthly           1\nscale                            1\nshiba inu coin                   1\ndtype: int64"
     },
     "execution_count": 41,
     "metadata": {},
     "output_type": "execute_result"
    }
   ],
   "source": [
    "df.isna().sum(axis = 0)"
   ],
   "metadata": {
    "collapsed": false,
    "pycharm": {
     "name": "#%%\n"
    }
   }
  },
  {
   "cell_type": "code",
   "execution_count": 42,
   "outputs": [
    {
     "data": {
      "text/plain": "Date                             0\nOpen                             0\nHigh                             0\nLow                              0\nClose                            0\nAdj Close                        0\nVolume                           0\nreddit_average_posts_48h         0\nreddit_average_comments_48h      0\nreddit_subscribers             234\nreddit_accounts_active_48h     234\nshiba inu coin_unscaled          0\nshiba inu coin_monthly           1\nscale                            1\nshiba inu coin                   1\ndtype: int64"
     },
     "execution_count": 42,
     "metadata": {},
     "output_type": "execute_result"
    }
   ],
   "source": [
    "to_interpolate = ['reddit_average_posts_48h', 'reddit_average_comments_48h', 'reddit_subscribers',\n",
    "                  'reddit_accounts_active_48h', 'shiba inu coin_monthly', 'scale', 'shiba inu coin']\n",
    "import scipy\n",
    "for variable in to_interpolate:\n",
    "    df[variable] = df[variable].interpolate(method='slinear').interpolate(method='linear')\n",
    "df.isna().sum(axis = 0)\n",
    "\n"
   ],
   "metadata": {
    "collapsed": false,
    "pycharm": {
     "name": "#%%\n"
    }
   }
  },
  {
   "cell_type": "code",
   "execution_count": 43,
   "outputs": [
    {
     "name": "stdout",
     "output_type": "stream",
     "text": [
      "<class 'pandas.core.frame.DataFrame'>\n",
      "RangeIndex: 553 entries, 0 to 552\n",
      "Data columns (total 15 columns):\n",
      " #   Column                       Non-Null Count  Dtype  \n",
      "---  ------                       --------------  -----  \n",
      " 0   Date                         553 non-null    object \n",
      " 1   Open                         553 non-null    float64\n",
      " 2   High                         553 non-null    float64\n",
      " 3   Low                          553 non-null    float64\n",
      " 4   Close                        553 non-null    float64\n",
      " 5   Adj Close                    553 non-null    float64\n",
      " 6   Volume                       553 non-null    int64  \n",
      " 7   reddit_average_posts_48h     553 non-null    float64\n",
      " 8   reddit_average_comments_48h  553 non-null    float64\n",
      " 9   reddit_subscribers           319 non-null    float64\n",
      " 10  reddit_accounts_active_48h   319 non-null    float64\n",
      " 11  shiba inu coin_unscaled      553 non-null    int64  \n",
      " 12  shiba inu coin_monthly       552 non-null    float64\n",
      " 13  scale                        552 non-null    float64\n",
      " 14  shiba inu coin               552 non-null    float64\n",
      "dtypes: float64(12), int64(2), object(1)\n",
      "memory usage: 64.9+ KB\n"
     ]
    }
   ],
   "source": [
    "df.info()\n"
   ],
   "metadata": {
    "collapsed": false,
    "pycharm": {
     "name": "#%%\n"
    }
   }
  },
  {
   "cell_type": "code",
   "execution_count": 44,
   "outputs": [
    {
     "data": {
      "text/plain": "           Date      Open      High       Low     Close  Adj Close     Volume  \\\n548  31/01/2022  0.000021  0.000022  0.000020  0.000021   0.000021  531285879   \n549  01/02/2022  0.000021  0.000022  0.000021  0.000022   0.000022  519254046   \n550  02/02/2022  0.000022  0.000022  0.000020  0.000021   0.000021  484518640   \n551  03/02/2022  0.000021  0.000021  0.000020  0.000021   0.000021  421850042   \n552  04/02/2022  0.000021  0.000022  0.000021  0.000021   0.000021  476443712   \n\n     reddit_average_posts_48h  reddit_average_comments_48h  \\\n548                     6.182                      586.182   \n549                     6.800                      475.700   \n550                     7.889                      499.667   \n551                     8.889                      652.556   \n552                     7.000                      412.667   \n\n     reddit_subscribers  reddit_accounts_active_48h  shiba inu coin_unscaled  \\\n548            463670.0                  684.666667                       47   \n549            463832.0                  630.090909                       94   \n550            463900.0                  615.700000                      100   \n551            464046.0                  680.200000                       76   \n552            464142.0                  696.307692                       96   \n\n     shiba inu coin_monthly  scale  shiba inu coin  \n548                     6.0   0.06            2.82  \n549                     6.0   0.06            5.64  \n550                     6.0   0.06            6.00  \n551                     6.0   0.06            4.56  \n552                     6.0   0.06            5.76  ",
      "text/html": "<div>\n<style scoped>\n    .dataframe tbody tr th:only-of-type {\n        vertical-align: middle;\n    }\n\n    .dataframe tbody tr th {\n        vertical-align: top;\n    }\n\n    .dataframe thead th {\n        text-align: right;\n    }\n</style>\n<table border=\"1\" class=\"dataframe\">\n  <thead>\n    <tr style=\"text-align: right;\">\n      <th></th>\n      <th>Date</th>\n      <th>Open</th>\n      <th>High</th>\n      <th>Low</th>\n      <th>Close</th>\n      <th>Adj Close</th>\n      <th>Volume</th>\n      <th>reddit_average_posts_48h</th>\n      <th>reddit_average_comments_48h</th>\n      <th>reddit_subscribers</th>\n      <th>reddit_accounts_active_48h</th>\n      <th>shiba inu coin_unscaled</th>\n      <th>shiba inu coin_monthly</th>\n      <th>scale</th>\n      <th>shiba inu coin</th>\n    </tr>\n  </thead>\n  <tbody>\n    <tr>\n      <th>548</th>\n      <td>31/01/2022</td>\n      <td>0.000021</td>\n      <td>0.000022</td>\n      <td>0.000020</td>\n      <td>0.000021</td>\n      <td>0.000021</td>\n      <td>531285879</td>\n      <td>6.182</td>\n      <td>586.182</td>\n      <td>463670.0</td>\n      <td>684.666667</td>\n      <td>47</td>\n      <td>6.0</td>\n      <td>0.06</td>\n      <td>2.82</td>\n    </tr>\n    <tr>\n      <th>549</th>\n      <td>01/02/2022</td>\n      <td>0.000021</td>\n      <td>0.000022</td>\n      <td>0.000021</td>\n      <td>0.000022</td>\n      <td>0.000022</td>\n      <td>519254046</td>\n      <td>6.800</td>\n      <td>475.700</td>\n      <td>463832.0</td>\n      <td>630.090909</td>\n      <td>94</td>\n      <td>6.0</td>\n      <td>0.06</td>\n      <td>5.64</td>\n    </tr>\n    <tr>\n      <th>550</th>\n      <td>02/02/2022</td>\n      <td>0.000022</td>\n      <td>0.000022</td>\n      <td>0.000020</td>\n      <td>0.000021</td>\n      <td>0.000021</td>\n      <td>484518640</td>\n      <td>7.889</td>\n      <td>499.667</td>\n      <td>463900.0</td>\n      <td>615.700000</td>\n      <td>100</td>\n      <td>6.0</td>\n      <td>0.06</td>\n      <td>6.00</td>\n    </tr>\n    <tr>\n      <th>551</th>\n      <td>03/02/2022</td>\n      <td>0.000021</td>\n      <td>0.000021</td>\n      <td>0.000020</td>\n      <td>0.000021</td>\n      <td>0.000021</td>\n      <td>421850042</td>\n      <td>8.889</td>\n      <td>652.556</td>\n      <td>464046.0</td>\n      <td>680.200000</td>\n      <td>76</td>\n      <td>6.0</td>\n      <td>0.06</td>\n      <td>4.56</td>\n    </tr>\n    <tr>\n      <th>552</th>\n      <td>04/02/2022</td>\n      <td>0.000021</td>\n      <td>0.000022</td>\n      <td>0.000021</td>\n      <td>0.000021</td>\n      <td>0.000021</td>\n      <td>476443712</td>\n      <td>7.000</td>\n      <td>412.667</td>\n      <td>464142.0</td>\n      <td>696.307692</td>\n      <td>96</td>\n      <td>6.0</td>\n      <td>0.06</td>\n      <td>5.76</td>\n    </tr>\n  </tbody>\n</table>\n</div>"
     },
     "execution_count": 44,
     "metadata": {},
     "output_type": "execute_result"
    }
   ],
   "source": [
    "df.tail()\n"
   ],
   "metadata": {
    "collapsed": false,
    "pycharm": {
     "name": "#%%\n"
    }
   }
  },
  {
   "cell_type": "code",
   "execution_count": 45,
   "outputs": [
    {
     "data": {
      "text/plain": "         Date  Open  High  Low  Close  Adj Close   Volume  \\\n0  01/08/2020   0.0   0.0  0.0    0.0        0.0  1604789   \n1  02/08/2020   0.0   0.0  0.0    0.0        0.0   193098   \n2  03/08/2020   0.0   0.0  0.0    0.0        0.0   129225   \n3  04/08/2020   0.0   0.0  0.0    0.0        0.0    19717   \n4  05/08/2020   0.0   0.0  0.0    0.0        0.0    26869   \n\n   reddit_average_posts_48h  reddit_average_comments_48h  reddit_subscribers  \\\n0                       0.0                          0.0                 NaN   \n1                       0.0                          0.0                 NaN   \n2                       0.0                          0.0                 NaN   \n3                       0.0                          0.0                 NaN   \n4                       0.0                          0.0                 NaN   \n\n   reddit_accounts_active_48h  shiba inu coin_unscaled  \\\n0                         NaN                        0   \n1                         NaN                        0   \n2                         NaN                        0   \n3                         NaN                        0   \n4                         NaN                        0   \n\n   shiba inu coin_monthly  scale  shiba inu coin  \n0                     NaN    NaN             NaN  \n1                     0.0    0.0             0.0  \n2                     0.0    0.0             0.0  \n3                     0.0    0.0             0.0  \n4                     0.0    0.0             0.0  ",
      "text/html": "<div>\n<style scoped>\n    .dataframe tbody tr th:only-of-type {\n        vertical-align: middle;\n    }\n\n    .dataframe tbody tr th {\n        vertical-align: top;\n    }\n\n    .dataframe thead th {\n        text-align: right;\n    }\n</style>\n<table border=\"1\" class=\"dataframe\">\n  <thead>\n    <tr style=\"text-align: right;\">\n      <th></th>\n      <th>Date</th>\n      <th>Open</th>\n      <th>High</th>\n      <th>Low</th>\n      <th>Close</th>\n      <th>Adj Close</th>\n      <th>Volume</th>\n      <th>reddit_average_posts_48h</th>\n      <th>reddit_average_comments_48h</th>\n      <th>reddit_subscribers</th>\n      <th>reddit_accounts_active_48h</th>\n      <th>shiba inu coin_unscaled</th>\n      <th>shiba inu coin_monthly</th>\n      <th>scale</th>\n      <th>shiba inu coin</th>\n    </tr>\n  </thead>\n  <tbody>\n    <tr>\n      <th>0</th>\n      <td>01/08/2020</td>\n      <td>0.0</td>\n      <td>0.0</td>\n      <td>0.0</td>\n      <td>0.0</td>\n      <td>0.0</td>\n      <td>1604789</td>\n      <td>0.0</td>\n      <td>0.0</td>\n      <td>NaN</td>\n      <td>NaN</td>\n      <td>0</td>\n      <td>NaN</td>\n      <td>NaN</td>\n      <td>NaN</td>\n    </tr>\n    <tr>\n      <th>1</th>\n      <td>02/08/2020</td>\n      <td>0.0</td>\n      <td>0.0</td>\n      <td>0.0</td>\n      <td>0.0</td>\n      <td>0.0</td>\n      <td>193098</td>\n      <td>0.0</td>\n      <td>0.0</td>\n      <td>NaN</td>\n      <td>NaN</td>\n      <td>0</td>\n      <td>0.0</td>\n      <td>0.0</td>\n      <td>0.0</td>\n    </tr>\n    <tr>\n      <th>2</th>\n      <td>03/08/2020</td>\n      <td>0.0</td>\n      <td>0.0</td>\n      <td>0.0</td>\n      <td>0.0</td>\n      <td>0.0</td>\n      <td>129225</td>\n      <td>0.0</td>\n      <td>0.0</td>\n      <td>NaN</td>\n      <td>NaN</td>\n      <td>0</td>\n      <td>0.0</td>\n      <td>0.0</td>\n      <td>0.0</td>\n    </tr>\n    <tr>\n      <th>3</th>\n      <td>04/08/2020</td>\n      <td>0.0</td>\n      <td>0.0</td>\n      <td>0.0</td>\n      <td>0.0</td>\n      <td>0.0</td>\n      <td>19717</td>\n      <td>0.0</td>\n      <td>0.0</td>\n      <td>NaN</td>\n      <td>NaN</td>\n      <td>0</td>\n      <td>0.0</td>\n      <td>0.0</td>\n      <td>0.0</td>\n    </tr>\n    <tr>\n      <th>4</th>\n      <td>05/08/2020</td>\n      <td>0.0</td>\n      <td>0.0</td>\n      <td>0.0</td>\n      <td>0.0</td>\n      <td>0.0</td>\n      <td>26869</td>\n      <td>0.0</td>\n      <td>0.0</td>\n      <td>NaN</td>\n      <td>NaN</td>\n      <td>0</td>\n      <td>0.0</td>\n      <td>0.0</td>\n      <td>0.0</td>\n    </tr>\n  </tbody>\n</table>\n</div>"
     },
     "execution_count": 45,
     "metadata": {},
     "output_type": "execute_result"
    }
   ],
   "source": [
    "df.head()\n"
   ],
   "metadata": {
    "collapsed": false,
    "pycharm": {
     "name": "#%%\n"
    }
   }
  },
  {
   "cell_type": "code",
   "execution_count": 46,
   "outputs": [],
   "source": [
    "#Linearna interpolacija ne radi za polja kojima se ne znaju vrednosti od prvog dana, pri dan u uzorku popunjavam nulama\n",
    "to_fill = ['reddit_subscribers','reddit_accounts_active_48h', 'shiba inu coin_monthly', 'scale', 'shiba inu coin']\n",
    "for fill in to_fill:\n",
    "    df.loc[0, fill] = 0"
   ],
   "metadata": {
    "collapsed": false,
    "pycharm": {
     "name": "#%%\n"
    }
   }
  },
  {
   "cell_type": "code",
   "execution_count": 47,
   "outputs": [
    {
     "data": {
      "text/plain": "Date                             0\nOpen                             0\nHigh                             0\nLow                              0\nClose                            0\nAdj Close                        0\nVolume                           0\nreddit_average_posts_48h         0\nreddit_average_comments_48h      0\nreddit_subscribers             233\nreddit_accounts_active_48h     233\nshiba inu coin_unscaled          0\nshiba inu coin_monthly           0\nscale                            0\nshiba inu coin                   0\ndtype: int64"
     },
     "execution_count": 47,
     "metadata": {},
     "output_type": "execute_result"
    }
   ],
   "source": [
    "df.isna().sum(axis = 0)\n"
   ],
   "metadata": {
    "collapsed": false,
    "pycharm": {
     "name": "#%%\n"
    }
   }
  },
  {
   "cell_type": "code",
   "execution_count": 48,
   "outputs": [
    {
     "data": {
      "text/plain": "Date                           0\nOpen                           0\nHigh                           0\nLow                            0\nClose                          0\nAdj Close                      0\nVolume                         0\nreddit_average_posts_48h       0\nreddit_average_comments_48h    0\nreddit_subscribers             0\nreddit_accounts_active_48h     0\nshiba inu coin_unscaled        0\nshiba inu coin_monthly         0\nscale                          0\nshiba inu coin                 0\ndtype: int64"
     },
     "execution_count": 48,
     "metadata": {},
     "output_type": "execute_result"
    }
   ],
   "source": [
    "to_interpolate = ['reddit_subscribers','reddit_accounts_active_48h']\n",
    "import scipy\n",
    "for variable in to_interpolate:\n",
    "    df[variable] = df[variable].interpolate(method='slinear').interpolate(method='linear')\n",
    "df.isna().sum(axis = 0)\n"
   ],
   "metadata": {
    "collapsed": false,
    "pycharm": {
     "name": "#%%\n"
    }
   }
  },
  {
   "cell_type": "code",
   "execution_count": 49,
   "outputs": [],
   "source": [
    "df['Date'] = pd.to_datetime(df['Date'], dayfirst=True)\n",
    "df.set_index('Date', inplace=True)\n",
    "df.to_csv('../shiba_v1.csv')\n"
   ],
   "metadata": {
    "collapsed": false,
    "pycharm": {
     "name": "#%%\n"
    }
   }
  }
 ],
 "metadata": {
  "kernelspec": {
   "name": "pycharm-f7788d17",
   "language": "python",
   "display_name": "PyCharm (ProjectSiap2021)"
  },
  "language_info": {
   "codemirror_mode": {
    "name": "ipython",
    "version": 2
   },
   "file_extension": ".py",
   "mimetype": "text/x-python",
   "name": "python",
   "nbconvert_exporter": "python",
   "pygments_lexer": "ipython2",
   "version": "2.7.6"
  }
 },
 "nbformat": 4,
 "nbformat_minor": 0
}