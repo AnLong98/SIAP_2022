{
 "cells": [
  {
   "cell_type": "code",
   "execution_count": 248,
   "metadata": {
    "collapsed": true
   },
   "outputs": [],
   "source": [
    "import pandas as pd\n",
    "import numpy as np\n",
    "from sklearn.svm import SVR\n",
    "import matplotlib.pyplot as plt\n",
    "plt.style.use('fivethirtyeight')"
   ]
  },
  {
   "cell_type": "code",
   "execution_count": 249,
   "outputs": [
    {
     "data": {
      "text/plain": "                  Date      Open      High       Low     Close  Adj Close  \\\n2020-08-01  2020-08-01  0.000000  0.000000  0.000000  0.000000   0.000000   \n2020-08-02  2020-08-02  0.000000  0.000000  0.000000  0.000000   0.000000   \n2020-08-03  2020-08-03  0.000000  0.000000  0.000000  0.000000   0.000000   \n2020-08-04  2020-08-04  0.000000  0.000000  0.000000  0.000000   0.000000   \n2020-08-05  2020-08-05  0.000000  0.000000  0.000000  0.000000   0.000000   \n...                ...       ...       ...       ...       ...        ...   \n2022-01-31  2022-01-31  0.000021  0.000022  0.000020  0.000021   0.000021   \n2022-02-01  2022-02-01  0.000021  0.000022  0.000021  0.000022   0.000022   \n2022-02-02  2022-02-02  0.000022  0.000022  0.000020  0.000021   0.000021   \n2022-02-03  2022-02-03  0.000021  0.000021  0.000020  0.000021   0.000021   \n2022-02-04  2022-02-04  0.000021  0.000022  0.000021  0.000021   0.000021   \n\n               Volume  reddit_average_posts_48h  reddit_average_comments_48h  \\\n2020-08-01    1604789                     0.000                        0.000   \n2020-08-02     193098                     0.000                        0.000   \n2020-08-03     129225                     0.000                        0.000   \n2020-08-04      19717                     0.000                        0.000   \n2020-08-05      26869                     0.000                        0.000   \n...               ...                       ...                          ...   \n2022-01-31  531285879                     6.182                      586.182   \n2022-02-01  519254046                     6.800                      475.700   \n2022-02-02  484518640                     7.889                      499.667   \n2022-02-03  421850042                     8.889                      652.556   \n2022-02-04  476443712                     7.000                      412.667   \n\n            reddit_subscribers  reddit_accounts_active_48h  \\\n2020-08-01            0.000000                    0.000000   \n2020-08-02           13.559829                    0.217949   \n2020-08-03           27.119658                    0.435897   \n2020-08-04           40.679487                    0.653846   \n2020-08-05           54.239316                    0.871795   \n...                        ...                         ...   \n2022-01-31       463670.000000                  684.666667   \n2022-02-01       463832.000000                  630.090909   \n2022-02-02       463900.000000                  615.700000   \n2022-02-03       464046.000000                  680.200000   \n2022-02-04       464142.000000                  696.307692   \n\n            shiba inu coin_unscaled  shiba inu coin_monthly  scale  \\\n2020-08-01                        0                     0.0   0.00   \n2020-08-02                        0                     0.0   0.00   \n2020-08-03                        0                     0.0   0.00   \n2020-08-04                        0                     0.0   0.00   \n2020-08-05                        0                     0.0   0.00   \n...                             ...                     ...    ...   \n2022-01-31                       47                     6.0   0.06   \n2022-02-01                       94                     6.0   0.06   \n2022-02-02                      100                     6.0   0.06   \n2022-02-03                       76                     6.0   0.06   \n2022-02-04                       96                     6.0   0.06   \n\n            shiba inu coin  \n2020-08-01            0.00  \n2020-08-02            0.00  \n2020-08-03            0.00  \n2020-08-04            0.00  \n2020-08-05            0.00  \n...                    ...  \n2022-01-31            2.82  \n2022-02-01            5.64  \n2022-02-02            6.00  \n2022-02-03            4.56  \n2022-02-04            5.76  \n\n[553 rows x 15 columns]",
      "text/html": "<div>\n<style scoped>\n    .dataframe tbody tr th:only-of-type {\n        vertical-align: middle;\n    }\n\n    .dataframe tbody tr th {\n        vertical-align: top;\n    }\n\n    .dataframe thead th {\n        text-align: right;\n    }\n</style>\n<table border=\"1\" class=\"dataframe\">\n  <thead>\n    <tr style=\"text-align: right;\">\n      <th></th>\n      <th>Date</th>\n      <th>Open</th>\n      <th>High</th>\n      <th>Low</th>\n      <th>Close</th>\n      <th>Adj Close</th>\n      <th>Volume</th>\n      <th>reddit_average_posts_48h</th>\n      <th>reddit_average_comments_48h</th>\n      <th>reddit_subscribers</th>\n      <th>reddit_accounts_active_48h</th>\n      <th>shiba inu coin_unscaled</th>\n      <th>shiba inu coin_monthly</th>\n      <th>scale</th>\n      <th>shiba inu coin</th>\n    </tr>\n  </thead>\n  <tbody>\n    <tr>\n      <th>2020-08-01</th>\n      <td>2020-08-01</td>\n      <td>0.000000</td>\n      <td>0.000000</td>\n      <td>0.000000</td>\n      <td>0.000000</td>\n      <td>0.000000</td>\n      <td>1604789</td>\n      <td>0.000</td>\n      <td>0.000</td>\n      <td>0.000000</td>\n      <td>0.000000</td>\n      <td>0</td>\n      <td>0.0</td>\n      <td>0.00</td>\n      <td>0.00</td>\n    </tr>\n    <tr>\n      <th>2020-08-02</th>\n      <td>2020-08-02</td>\n      <td>0.000000</td>\n      <td>0.000000</td>\n      <td>0.000000</td>\n      <td>0.000000</td>\n      <td>0.000000</td>\n      <td>193098</td>\n      <td>0.000</td>\n      <td>0.000</td>\n      <td>13.559829</td>\n      <td>0.217949</td>\n      <td>0</td>\n      <td>0.0</td>\n      <td>0.00</td>\n      <td>0.00</td>\n    </tr>\n    <tr>\n      <th>2020-08-03</th>\n      <td>2020-08-03</td>\n      <td>0.000000</td>\n      <td>0.000000</td>\n      <td>0.000000</td>\n      <td>0.000000</td>\n      <td>0.000000</td>\n      <td>129225</td>\n      <td>0.000</td>\n      <td>0.000</td>\n      <td>27.119658</td>\n      <td>0.435897</td>\n      <td>0</td>\n      <td>0.0</td>\n      <td>0.00</td>\n      <td>0.00</td>\n    </tr>\n    <tr>\n      <th>2020-08-04</th>\n      <td>2020-08-04</td>\n      <td>0.000000</td>\n      <td>0.000000</td>\n      <td>0.000000</td>\n      <td>0.000000</td>\n      <td>0.000000</td>\n      <td>19717</td>\n      <td>0.000</td>\n      <td>0.000</td>\n      <td>40.679487</td>\n      <td>0.653846</td>\n      <td>0</td>\n      <td>0.0</td>\n      <td>0.00</td>\n      <td>0.00</td>\n    </tr>\n    <tr>\n      <th>2020-08-05</th>\n      <td>2020-08-05</td>\n      <td>0.000000</td>\n      <td>0.000000</td>\n      <td>0.000000</td>\n      <td>0.000000</td>\n      <td>0.000000</td>\n      <td>26869</td>\n      <td>0.000</td>\n      <td>0.000</td>\n      <td>54.239316</td>\n      <td>0.871795</td>\n      <td>0</td>\n      <td>0.0</td>\n      <td>0.00</td>\n      <td>0.00</td>\n    </tr>\n    <tr>\n      <th>...</th>\n      <td>...</td>\n      <td>...</td>\n      <td>...</td>\n      <td>...</td>\n      <td>...</td>\n      <td>...</td>\n      <td>...</td>\n      <td>...</td>\n      <td>...</td>\n      <td>...</td>\n      <td>...</td>\n      <td>...</td>\n      <td>...</td>\n      <td>...</td>\n      <td>...</td>\n    </tr>\n    <tr>\n      <th>2022-01-31</th>\n      <td>2022-01-31</td>\n      <td>0.000021</td>\n      <td>0.000022</td>\n      <td>0.000020</td>\n      <td>0.000021</td>\n      <td>0.000021</td>\n      <td>531285879</td>\n      <td>6.182</td>\n      <td>586.182</td>\n      <td>463670.000000</td>\n      <td>684.666667</td>\n      <td>47</td>\n      <td>6.0</td>\n      <td>0.06</td>\n      <td>2.82</td>\n    </tr>\n    <tr>\n      <th>2022-02-01</th>\n      <td>2022-02-01</td>\n      <td>0.000021</td>\n      <td>0.000022</td>\n      <td>0.000021</td>\n      <td>0.000022</td>\n      <td>0.000022</td>\n      <td>519254046</td>\n      <td>6.800</td>\n      <td>475.700</td>\n      <td>463832.000000</td>\n      <td>630.090909</td>\n      <td>94</td>\n      <td>6.0</td>\n      <td>0.06</td>\n      <td>5.64</td>\n    </tr>\n    <tr>\n      <th>2022-02-02</th>\n      <td>2022-02-02</td>\n      <td>0.000022</td>\n      <td>0.000022</td>\n      <td>0.000020</td>\n      <td>0.000021</td>\n      <td>0.000021</td>\n      <td>484518640</td>\n      <td>7.889</td>\n      <td>499.667</td>\n      <td>463900.000000</td>\n      <td>615.700000</td>\n      <td>100</td>\n      <td>6.0</td>\n      <td>0.06</td>\n      <td>6.00</td>\n    </tr>\n    <tr>\n      <th>2022-02-03</th>\n      <td>2022-02-03</td>\n      <td>0.000021</td>\n      <td>0.000021</td>\n      <td>0.000020</td>\n      <td>0.000021</td>\n      <td>0.000021</td>\n      <td>421850042</td>\n      <td>8.889</td>\n      <td>652.556</td>\n      <td>464046.000000</td>\n      <td>680.200000</td>\n      <td>76</td>\n      <td>6.0</td>\n      <td>0.06</td>\n      <td>4.56</td>\n    </tr>\n    <tr>\n      <th>2022-02-04</th>\n      <td>2022-02-04</td>\n      <td>0.000021</td>\n      <td>0.000022</td>\n      <td>0.000021</td>\n      <td>0.000021</td>\n      <td>0.000021</td>\n      <td>476443712</td>\n      <td>7.000</td>\n      <td>412.667</td>\n      <td>464142.000000</td>\n      <td>696.307692</td>\n      <td>96</td>\n      <td>6.0</td>\n      <td>0.06</td>\n      <td>5.76</td>\n    </tr>\n  </tbody>\n</table>\n<p>553 rows × 15 columns</p>\n</div>"
     },
     "execution_count": 249,
     "metadata": {},
     "output_type": "execute_result"
    }
   ],
   "source": [
    "df = pd.read_csv('../shiba_v1.csv')\n",
    "\n",
    "df = df.set_index(pd.DatetimeIndex(df['Date'].values))\n",
    "df"
   ],
   "metadata": {
    "collapsed": false,
    "pycharm": {
     "name": "#%%\n"
    }
   }
  },
  {
   "cell_type": "code",
   "execution_count": 250,
   "outputs": [
    {
     "data": {
      "text/plain": "<AxesSubplot:>"
     },
     "execution_count": 250,
     "metadata": {},
     "output_type": "execute_result"
    },
    {
     "data": {
      "text/plain": "<Figure size 1152x144 with 1 Axes>",
      "image/png": "[encoded data removed]"
     },
     "metadata": {},
     "output_type": "display_data"
    }
   ],
   "source": [
    "df = df.resample('D').ffill()\n",
    "df.Close.plot(figsize=(16, 2), color=\"red\", label='Close price', lw=2, alpha =.7)"
   ],
   "metadata": {
    "collapsed": false,
    "pycharm": {
     "name": "#%%\n"
    }
   }
  },
  {
   "cell_type": "code",
   "execution_count": 251,
   "outputs": [],
   "source": [
    "future_days = 1\n",
    "columnName = str(future_days)+'_day_price_forecast'"
   ],
   "metadata": {
    "collapsed": false,
    "pycharm": {
     "name": "#%%\n"
    }
   }
  },
  {
   "cell_type": "code",
   "execution_count": 252,
   "outputs": [
    {
     "data": {
      "text/plain": "               Close  1_day_price_forecast\n2020-08-01  0.000000              0.000000\n2020-08-02  0.000000              0.000000\n2020-08-03  0.000000              0.000000\n2020-08-04  0.000000              0.000000\n2020-08-05  0.000000              0.000000\n...              ...                   ...\n2022-01-31  0.000021              0.000022\n2022-02-01  0.000022              0.000021\n2022-02-02  0.000021              0.000021\n2022-02-03  0.000021              0.000021\n2022-02-04  0.000021                   NaN\n\n[553 rows x 2 columns]",
      "text/html": "<div>\n<style scoped>\n    .dataframe tbody tr th:only-of-type {\n        vertical-align: middle;\n    }\n\n    .dataframe tbody tr th {\n        vertical-align: top;\n    }\n\n    .dataframe thead th {\n        text-align: right;\n    }\n</style>\n<table border=\"1\" class=\"dataframe\">\n  <thead>\n    <tr style=\"text-align: right;\">\n      <th></th>\n      <th>Close</th>\n      <th>1_day_price_forecast</th>\n    </tr>\n  </thead>\n  <tbody>\n    <tr>\n      <th>2020-08-01</th>\n      <td>0.000000</td>\n      <td>0.000000</td>\n    </tr>\n    <tr>\n      <th>2020-08-02</th>\n      <td>0.000000</td>\n      <td>0.000000</td>\n    </tr>\n    <tr>\n      <th>2020-08-03</th>\n      <td>0.000000</td>\n      <td>0.000000</td>\n    </tr>\n    <tr>\n      <th>2020-08-04</th>\n      <td>0.000000</td>\n      <td>0.000000</td>\n    </tr>\n    <tr>\n      <th>2020-08-05</th>\n      <td>0.000000</td>\n      <td>0.000000</td>\n    </tr>\n    <tr>\n      <th>...</th>\n      <td>...</td>\n      <td>...</td>\n    </tr>\n    <tr>\n      <th>2022-01-31</th>\n      <td>0.000021</td>\n      <td>0.000022</td>\n    </tr>\n    <tr>\n      <th>2022-02-01</th>\n      <td>0.000022</td>\n      <td>0.000021</td>\n    </tr>\n    <tr>\n      <th>2022-02-02</th>\n      <td>0.000021</td>\n      <td>0.000021</td>\n    </tr>\n    <tr>\n      <th>2022-02-03</th>\n      <td>0.000021</td>\n      <td>0.000021</td>\n    </tr>\n    <tr>\n      <th>2022-02-04</th>\n      <td>0.000021</td>\n      <td>NaN</td>\n    </tr>\n  </tbody>\n</table>\n<p>553 rows × 2 columns</p>\n</div>"
     },
     "execution_count": 252,
     "metadata": {},
     "output_type": "execute_result"
    }
   ],
   "source": [
    "#added new column\n",
    "df[columnName] = df[['Close']].shift(-future_days)\n",
    "\n",
    "df[['Close', columnName]]"
   ],
   "metadata": {
    "collapsed": false,
    "pycharm": {
     "name": "#%%\n"
    }
   }
  },
  {
   "cell_type": "code",
   "execution_count": 253,
   "outputs": [
    {
     "name": "stdout",
     "output_type": "stream",
     "text": [
      "<class 'pandas.core.frame.DataFrame'>\n",
      "DatetimeIndex: 553 entries, 2020-08-01 to 2022-02-04\n",
      "Freq: D\n",
      "Data columns (total 16 columns):\n",
      " #   Column                       Non-Null Count  Dtype  \n",
      "---  ------                       --------------  -----  \n",
      " 0   Date                         553 non-null    object \n",
      " 1   Open                         553 non-null    float64\n",
      " 2   High                         553 non-null    float64\n",
      " 3   Low                          553 non-null    float64\n",
      " 4   Close                        553 non-null    float64\n",
      " 5   Adj Close                    553 non-null    float64\n",
      " 6   Volume                       553 non-null    int64  \n",
      " 7   reddit_average_posts_48h     553 non-null    float64\n",
      " 8   reddit_average_comments_48h  553 non-null    float64\n",
      " 9   reddit_subscribers           553 non-null    float64\n",
      " 10  reddit_accounts_active_48h   553 non-null    float64\n",
      " 11  shiba inu coin_unscaled      553 non-null    int64  \n",
      " 12  shiba inu coin_monthly       553 non-null    float64\n",
      " 13  scale                        553 non-null    float64\n",
      " 14  shiba inu coin               553 non-null    float64\n",
      " 15  1_day_price_forecast         552 non-null    float64\n",
      "dtypes: float64(13), int64(2), object(1)\n",
      "memory usage: 73.4+ KB\n"
     ]
    }
   ],
   "source": [
    "df.info()"
   ],
   "metadata": {
    "collapsed": false,
    "pycharm": {
     "name": "#%%\n"
    }
   }
  },
  {
   "cell_type": "code",
   "execution_count": 254,
   "outputs": [
    {
     "name": "stdout",
     "output_type": "stream",
     "text": [
      "(553, 16)\n",
      "[[0.00000000e+00 0.00000000e+00 1.60478900e+06 ... 0.00000000e+00\n",
      "  0.00000000e+00 0.00000000e+00]\n",
      " [0.00000000e+00 0.00000000e+00 1.93098000e+05 ... 0.00000000e+00\n",
      "  0.00000000e+00 0.00000000e+00]\n",
      " [0.00000000e+00 0.00000000e+00 1.29225000e+05 ... 0.00000000e+00\n",
      "  0.00000000e+00 0.00000000e+00]\n",
      " ...\n",
      " [2.20000000e-05 2.10000000e-05 5.19254046e+08 ... 6.00000000e+00\n",
      "  6.00000000e-02 5.64000000e+00]\n",
      " [2.20000000e-05 2.00000000e-05 4.84518640e+08 ... 6.00000000e+00\n",
      "  6.00000000e-02 6.00000000e+00]\n",
      " [2.10000000e-05 2.00000000e-05 4.21850042e+08 ... 6.00000000e+00\n",
      "  6.00000000e-02 4.56000000e+00]]\n"
     ]
    }
   ],
   "source": [
    "X = np.array(df[[\"High\", \"Low\", \"Volume\", \"Open\",\"Close\", \"reddit_average_posts_48h\",\n",
    "                \"reddit_average_comments_48h\", \"reddit_subscribers\", \"reddit_accounts_active_48h\",\n",
    "                'shiba inu coin_unscaled', 'shiba inu coin_monthly', 'scale', 'shiba inu coin']])\n",
    "\n",
    "\n",
    "print(df.shape)\n",
    "\n",
    "X = X[:df.shape[0] - future_days]\n",
    "print(X)"
   ],
   "metadata": {
    "collapsed": false,
    "pycharm": {
     "name": "#%%\n"
    }
   }
  },
  {
   "cell_type": "code",
   "execution_count": 255,
   "outputs": [
    {
     "name": "stdout",
     "output_type": "stream",
     "text": [
      "[0.0e+00 0.0e+00 0.0e+00 0.0e+00 0.0e+00 0.0e+00 0.0e+00 0.0e+00 0.0e+00\n",
      " 0.0e+00 0.0e+00 0.0e+00 0.0e+00 0.0e+00 0.0e+00 0.0e+00 0.0e+00 0.0e+00\n",
      " 0.0e+00 0.0e+00 0.0e+00 0.0e+00 0.0e+00 0.0e+00 0.0e+00 0.0e+00 0.0e+00\n",
      " 0.0e+00 0.0e+00 0.0e+00 0.0e+00 0.0e+00 0.0e+00 0.0e+00 0.0e+00 0.0e+00\n",
      " 0.0e+00 0.0e+00 0.0e+00 0.0e+00 0.0e+00 0.0e+00 0.0e+00 0.0e+00 0.0e+00\n",
      " 0.0e+00 0.0e+00 0.0e+00 0.0e+00 0.0e+00 0.0e+00 0.0e+00 0.0e+00 0.0e+00\n",
      " 0.0e+00 0.0e+00 0.0e+00 0.0e+00 0.0e+00 0.0e+00 0.0e+00 0.0e+00 0.0e+00\n",
      " 0.0e+00 0.0e+00 0.0e+00 0.0e+00 0.0e+00 0.0e+00 0.0e+00 0.0e+00 0.0e+00\n",
      " 0.0e+00 0.0e+00 0.0e+00 0.0e+00 0.0e+00 0.0e+00 0.0e+00 0.0e+00 0.0e+00\n",
      " 0.0e+00 0.0e+00 0.0e+00 0.0e+00 0.0e+00 0.0e+00 0.0e+00 0.0e+00 0.0e+00\n",
      " 0.0e+00 0.0e+00 0.0e+00 0.0e+00 0.0e+00 0.0e+00 0.0e+00 0.0e+00 0.0e+00\n",
      " 0.0e+00 0.0e+00 0.0e+00 0.0e+00 0.0e+00 0.0e+00 0.0e+00 0.0e+00 0.0e+00\n",
      " 0.0e+00 0.0e+00 0.0e+00 0.0e+00 0.0e+00 0.0e+00 0.0e+00 0.0e+00 0.0e+00\n",
      " 0.0e+00 0.0e+00 0.0e+00 0.0e+00 0.0e+00 0.0e+00 0.0e+00 0.0e+00 0.0e+00\n",
      " 0.0e+00 0.0e+00 0.0e+00 0.0e+00 0.0e+00 0.0e+00 0.0e+00 0.0e+00 0.0e+00\n",
      " 0.0e+00 0.0e+00 0.0e+00 0.0e+00 0.0e+00 0.0e+00 0.0e+00 0.0e+00 0.0e+00\n",
      " 0.0e+00 0.0e+00 0.0e+00 0.0e+00 0.0e+00 0.0e+00 0.0e+00 0.0e+00 0.0e+00\n",
      " 0.0e+00 0.0e+00 0.0e+00 0.0e+00 0.0e+00 0.0e+00 0.0e+00 0.0e+00 0.0e+00\n",
      " 0.0e+00 0.0e+00 0.0e+00 0.0e+00 0.0e+00 0.0e+00 0.0e+00 0.0e+00 0.0e+00\n",
      " 0.0e+00 0.0e+00 0.0e+00 0.0e+00 0.0e+00 0.0e+00 0.0e+00 0.0e+00 0.0e+00\n",
      " 0.0e+00 0.0e+00 0.0e+00 0.0e+00 0.0e+00 0.0e+00 0.0e+00 0.0e+00 0.0e+00\n",
      " 0.0e+00 0.0e+00 0.0e+00 0.0e+00 0.0e+00 0.0e+00 0.0e+00 0.0e+00 0.0e+00\n",
      " 0.0e+00 0.0e+00 0.0e+00 0.0e+00 0.0e+00 0.0e+00 0.0e+00 0.0e+00 0.0e+00\n",
      " 0.0e+00 0.0e+00 0.0e+00 0.0e+00 0.0e+00 0.0e+00 0.0e+00 0.0e+00 0.0e+00\n",
      " 0.0e+00 0.0e+00 0.0e+00 0.0e+00 0.0e+00 0.0e+00 0.0e+00 0.0e+00 0.0e+00\n",
      " 0.0e+00 0.0e+00 0.0e+00 0.0e+00 0.0e+00 0.0e+00 0.0e+00 0.0e+00 0.0e+00\n",
      " 0.0e+00 0.0e+00 0.0e+00 0.0e+00 0.0e+00 0.0e+00 0.0e+00 0.0e+00 0.0e+00\n",
      " 0.0e+00 0.0e+00 0.0e+00 0.0e+00 0.0e+00 0.0e+00 0.0e+00 0.0e+00 0.0e+00\n",
      " 0.0e+00 0.0e+00 0.0e+00 0.0e+00 0.0e+00 1.0e-06 2.0e-06 2.0e-06 4.0e-06\n",
      " 2.0e-06 1.0e-06 2.0e-06 1.0e-06 1.0e-06 1.0e-06 1.0e-06 1.0e-06 1.0e-06\n",
      " 1.0e-06 2.0e-06 2.0e-06 2.0e-06 2.0e-06 2.0e-06 2.0e-06 2.0e-06 3.0e-06\n",
      " 1.6e-05 1.6e-05 3.5e-05 3.1e-05 1.8e-05 2.1e-05 1.9e-05 1.6e-05 1.8e-05\n",
      " 1.6e-05 1.6e-05 9.0e-06 1.0e-05 8.0e-06 8.0e-06 8.0e-06 1.1e-05 9.0e-06\n",
      " 1.0e-05 9.0e-06 8.0e-06 8.0e-06 8.0e-06 9.0e-06 9.0e-06 9.0e-06 1.0e-05\n",
      " 9.0e-06 8.0e-06 9.0e-06 8.0e-06 7.0e-06 7.0e-06 7.0e-06 6.0e-06 6.0e-06\n",
      " 7.0e-06 7.0e-06 7.0e-06 8.0e-06 8.0e-06 7.0e-06 8.0e-06 8.0e-06 6.0e-06\n",
      " 6.0e-06 7.0e-06 7.0e-06 7.0e-06 7.0e-06 8.0e-06 8.0e-06 9.0e-06 9.0e-06\n",
      " 8.0e-06 8.0e-06 9.0e-06 9.0e-06 8.0e-06 9.0e-06 9.0e-06 8.0e-06 8.0e-06\n",
      " 8.0e-06 8.0e-06 8.0e-06 7.0e-06 7.0e-06 7.0e-06 7.0e-06 7.0e-06 7.0e-06\n",
      " 6.0e-06 6.0e-06 7.0e-06 6.0e-06 6.0e-06 6.0e-06 6.0e-06 6.0e-06 6.0e-06\n",
      " 6.0e-06 6.0e-06 6.0e-06 6.0e-06 6.0e-06 6.0e-06 6.0e-06 6.0e-06 6.0e-06\n",
      " 6.0e-06 8.0e-06 7.0e-06 8.0e-06 8.0e-06 8.0e-06 8.0e-06 8.0e-06 8.0e-06\n",
      " 9.0e-06 9.0e-06 8.0e-06 8.0e-06 8.0e-06 8.0e-06 8.0e-06 8.0e-06 8.0e-06\n",
      " 7.0e-06 8.0e-06 7.0e-06 7.0e-06 7.0e-06 7.0e-06 7.0e-06 7.0e-06 7.0e-06\n",
      " 7.0e-06 7.0e-06 7.0e-06 8.0e-06 7.0e-06 6.0e-06 7.0e-06 7.0e-06 7.0e-06\n",
      " 7.0e-06 7.0e-06 7.0e-06 7.0e-06 7.0e-06 9.0e-06 8.0e-06 8.0e-06 8.0e-06\n",
      " 7.0e-06 7.0e-06 7.0e-06 8.0e-06 7.0e-06 7.0e-06 7.0e-06 7.0e-06 7.0e-06\n",
      " 7.0e-06 7.0e-06 8.0e-06 8.0e-06 9.0e-06 1.3e-05 1.7e-05 2.8e-05 2.3e-05\n",
      " 2.7e-05 2.7e-05 2.6e-05 3.1e-05 2.9e-05 2.9e-05 2.7e-05 2.5e-05 2.6e-05\n",
      " 2.8e-05 2.9e-05 2.8e-05 2.9e-05 2.7e-05 2.8e-05 3.4e-05 3.6e-05 4.2e-05\n",
      " 4.8e-05 8.0e-05 6.8e-05 7.5e-05 6.5e-05 6.7e-05 7.2e-05 6.9e-05 5.5e-05\n",
      " 4.9e-05 6.2e-05 5.9e-05 5.7e-05 5.5e-05 5.5e-05 5.0e-05 5.7e-05 5.2e-05\n",
      " 5.2e-05 5.3e-05 5.3e-05 4.8e-05 4.8e-05 4.2e-05 4.9e-05 4.8e-05 4.4e-05\n",
      " 4.3e-05 4.2e-05 4.0e-05 4.0e-05 3.8e-05 3.9e-05 3.9e-05 4.6e-05 4.7e-05\n",
      " 4.4e-05 4.2e-05 4.0e-05 3.7e-05 3.6e-05 3.7e-05 3.6e-05 3.7e-05 3.5e-05\n",
      " 3.4e-05 3.4e-05 3.7e-05 3.3e-05 3.4e-05 3.4e-05 3.3e-05 3.1e-05 3.1e-05\n",
      " 3.1e-05 3.1e-05 3.3e-05 3.5e-05 3.9e-05 3.6e-05 3.8e-05 3.8e-05 3.9e-05\n",
      " 3.5e-05 3.4e-05 3.4e-05 3.3e-05 3.4e-05 3.4e-05 3.3e-05 3.2e-05 3.0e-05\n",
      " 3.1e-05 2.9e-05 2.8e-05 2.8e-05 2.7e-05 2.8e-05 3.2e-05 3.0e-05 3.1e-05\n",
      " 3.1e-05 3.1e-05 2.9e-05 2.8e-05 2.7e-05 2.6e-05 2.2e-05 2.1e-05 2.2e-05\n",
      " 2.1e-05 2.1e-05 2.1e-05 2.1e-05 2.1e-05 2.2e-05 2.1e-05 2.1e-05 2.2e-05\n",
      " 2.1e-05 2.1e-05 2.1e-05]\n"
     ]
    }
   ],
   "source": [
    "y = np.array(df[columnName])\n",
    "y = y[:-future_days]\n",
    "print(y)"
   ],
   "metadata": {
    "collapsed": false,
    "pycharm": {
     "name": "#%%\n"
    }
   }
  },
  {
   "cell_type": "code",
   "execution_count": 256,
   "outputs": [],
   "source": [
    "from sklearn.model_selection import train_test_split\n",
    "\n",
    "x_train, x_test, y_train, y_test = train_test_split(X,y, test_size = 0.2, shuffle=False)"
   ],
   "metadata": {
    "collapsed": false,
    "pycharm": {
     "name": "#%%\n"
    }
   }
  },
  {
   "cell_type": "code",
   "execution_count": 257,
   "outputs": [
    {
     "name": "stdout",
     "output_type": "stream",
     "text": [
      "Scaled X_l:\n",
      "[[-0.60471228 -0.6424204  -0.28349436 ... -0.47071667 -0.47071667\n",
      "  -0.37394735]\n",
      " [-0.60471228 -0.6424204  -0.28422527 ... -0.47071667 -0.47071667\n",
      "  -0.37394735]\n",
      " [-0.60471228 -0.6424204  -0.28425834 ... -0.47071667 -0.47071667\n",
      "  -0.37394735]\n",
      " ...\n",
      " [ 4.08712741  4.88167922  1.31150996 ...  1.93301252  1.93301252\n",
      "   0.15417535]\n",
      " [ 3.93577774  4.68438995  1.12763528 ...  1.93301252  1.93301252\n",
      "   0.15417535]\n",
      " [ 3.48172874  3.89523286  1.84947102 ...  1.93301252  1.93301252\n",
      "   0.0729257 ]]\n",
      "Scaled y_p:\n",
      "[[-0.62084482]\n",
      " [-0.62084482]\n",
      " [-0.62084482]\n",
      " [-0.62084482]\n",
      " [-0.62084482]\n",
      " [-0.62084482]\n",
      " [-0.62084482]\n",
      " [-0.62084482]\n",
      " [-0.62084482]\n",
      " [-0.62084482]\n",
      " [-0.62084482]\n",
      " [-0.62084482]\n",
      " [-0.62084482]\n",
      " [-0.62084482]\n",
      " [-0.62084482]\n",
      " [-0.62084482]\n",
      " [-0.62084482]\n",
      " [-0.62084482]\n",
      " [-0.62084482]\n",
      " [-0.62084482]\n",
      " [-0.62084482]\n",
      " [-0.62084482]\n",
      " [-0.62084482]\n",
      " [-0.62084482]\n",
      " [-0.62084482]\n",
      " [-0.62084482]\n",
      " [-0.62084482]\n",
      " [-0.62084482]\n",
      " [-0.62084482]\n",
      " [-0.62084482]\n",
      " [-0.62084482]\n",
      " [-0.62084482]\n",
      " [-0.62084482]\n",
      " [-0.62084482]\n",
      " [-0.62084482]\n",
      " [-0.62084482]\n",
      " [-0.62084482]\n",
      " [-0.62084482]\n",
      " [-0.62084482]\n",
      " [-0.62084482]\n",
      " [-0.62084482]\n",
      " [-0.62084482]\n",
      " [-0.62084482]\n",
      " [-0.62084482]\n",
      " [-0.62084482]\n",
      " [-0.62084482]\n",
      " [-0.62084482]\n",
      " [-0.62084482]\n",
      " [-0.62084482]\n",
      " [-0.62084482]\n",
      " [-0.62084482]\n",
      " [-0.62084482]\n",
      " [-0.62084482]\n",
      " [-0.62084482]\n",
      " [-0.62084482]\n",
      " [-0.62084482]\n",
      " [-0.62084482]\n",
      " [-0.62084482]\n",
      " [-0.62084482]\n",
      " [-0.62084482]\n",
      " [-0.62084482]\n",
      " [-0.62084482]\n",
      " [-0.62084482]\n",
      " [-0.62084482]\n",
      " [-0.62084482]\n",
      " [-0.62084482]\n",
      " [-0.62084482]\n",
      " [-0.62084482]\n",
      " [-0.62084482]\n",
      " [-0.62084482]\n",
      " [-0.62084482]\n",
      " [-0.62084482]\n",
      " [-0.62084482]\n",
      " [-0.62084482]\n",
      " [-0.62084482]\n",
      " [-0.62084482]\n",
      " [-0.62084482]\n",
      " [-0.62084482]\n",
      " [-0.62084482]\n",
      " [-0.62084482]\n",
      " [-0.62084482]\n",
      " [-0.62084482]\n",
      " [-0.62084482]\n",
      " [-0.62084482]\n",
      " [-0.62084482]\n",
      " [-0.62084482]\n",
      " [-0.62084482]\n",
      " [-0.62084482]\n",
      " [-0.62084482]\n",
      " [-0.62084482]\n",
      " [-0.62084482]\n",
      " [-0.62084482]\n",
      " [-0.62084482]\n",
      " [-0.62084482]\n",
      " [-0.62084482]\n",
      " [-0.62084482]\n",
      " [-0.62084482]\n",
      " [-0.62084482]\n",
      " [-0.62084482]\n",
      " [-0.62084482]\n",
      " [-0.62084482]\n",
      " [-0.62084482]\n",
      " [-0.62084482]\n",
      " [-0.62084482]\n",
      " [-0.62084482]\n",
      " [-0.62084482]\n",
      " [-0.62084482]\n",
      " [-0.62084482]\n",
      " [-0.62084482]\n",
      " [-0.62084482]\n",
      " [-0.62084482]\n",
      " [-0.62084482]\n",
      " [-0.62084482]\n",
      " [-0.62084482]\n",
      " [-0.62084482]\n",
      " [-0.62084482]\n",
      " [-0.62084482]\n",
      " [-0.62084482]\n",
      " [-0.62084482]\n",
      " [-0.62084482]\n",
      " [-0.62084482]\n",
      " [-0.62084482]\n",
      " [-0.62084482]\n",
      " [-0.62084482]\n",
      " [-0.62084482]\n",
      " [-0.62084482]\n",
      " [-0.62084482]\n",
      " [-0.62084482]\n",
      " [-0.62084482]\n",
      " [-0.62084482]\n",
      " [-0.62084482]\n",
      " [-0.62084482]\n",
      " [-0.62084482]\n",
      " [-0.62084482]\n",
      " [-0.62084482]\n",
      " [-0.62084482]\n",
      " [-0.62084482]\n",
      " [-0.62084482]\n",
      " [-0.62084482]\n",
      " [-0.62084482]\n",
      " [-0.62084482]\n",
      " [-0.62084482]\n",
      " [-0.62084482]\n",
      " [-0.62084482]\n",
      " [-0.62084482]\n",
      " [-0.62084482]\n",
      " [-0.62084482]\n",
      " [-0.62084482]\n",
      " [-0.62084482]\n",
      " [-0.62084482]\n",
      " [-0.62084482]\n",
      " [-0.62084482]\n",
      " [-0.62084482]\n",
      " [-0.62084482]\n",
      " [-0.62084482]\n",
      " [-0.62084482]\n",
      " [-0.62084482]\n",
      " [-0.62084482]\n",
      " [-0.62084482]\n",
      " [-0.62084482]\n",
      " [-0.62084482]\n",
      " [-0.62084482]\n",
      " [-0.62084482]\n",
      " [-0.62084482]\n",
      " [-0.62084482]\n",
      " [-0.62084482]\n",
      " [-0.62084482]\n",
      " [-0.62084482]\n",
      " [-0.62084482]\n",
      " [-0.62084482]\n",
      " [-0.62084482]\n",
      " [-0.62084482]\n",
      " [-0.62084482]\n",
      " [-0.62084482]\n",
      " [-0.62084482]\n",
      " [-0.62084482]\n",
      " [-0.62084482]\n",
      " [-0.62084482]\n",
      " [-0.62084482]\n",
      " [-0.62084482]\n",
      " [-0.62084482]\n",
      " [-0.62084482]\n",
      " [-0.62084482]\n",
      " [-0.62084482]\n",
      " [-0.62084482]\n",
      " [-0.62084482]\n",
      " [-0.62084482]\n",
      " [-0.62084482]\n",
      " [-0.62084482]\n",
      " [-0.62084482]\n",
      " [-0.62084482]\n",
      " [-0.62084482]\n",
      " [-0.62084482]\n",
      " [-0.62084482]\n",
      " [-0.62084482]\n",
      " [-0.62084482]\n",
      " [-0.62084482]\n",
      " [-0.62084482]\n",
      " [-0.62084482]\n",
      " [-0.62084482]\n",
      " [-0.62084482]\n",
      " [-0.62084482]\n",
      " [-0.62084482]\n",
      " [-0.62084482]\n",
      " [-0.62084482]\n",
      " [-0.62084482]\n",
      " [-0.62084482]\n",
      " [-0.62084482]\n",
      " [-0.62084482]\n",
      " [-0.62084482]\n",
      " [-0.62084482]\n",
      " [-0.62084482]\n",
      " [-0.62084482]\n",
      " [-0.62084482]\n",
      " [-0.62084482]\n",
      " [-0.62084482]\n",
      " [-0.62084482]\n",
      " [-0.62084482]\n",
      " [-0.62084482]\n",
      " [-0.62084482]\n",
      " [-0.62084482]\n",
      " [-0.62084482]\n",
      " [-0.62084482]\n",
      " [-0.62084482]\n",
      " [-0.62084482]\n",
      " [-0.62084482]\n",
      " [-0.62084482]\n",
      " [-0.62084482]\n",
      " [-0.62084482]\n",
      " [-0.62084482]\n",
      " [-0.62084482]\n",
      " [-0.62084482]\n",
      " [-0.62084482]\n",
      " [-0.62084482]\n",
      " [-0.62084482]\n",
      " [-0.62084482]\n",
      " [-0.62084482]\n",
      " [-0.62084482]\n",
      " [-0.62084482]\n",
      " [-0.62084482]\n",
      " [-0.62084482]\n",
      " [-0.62084482]\n",
      " [-0.62084482]\n",
      " [-0.62084482]\n",
      " [-0.62084482]\n",
      " [-0.62084482]\n",
      " [-0.62084482]\n",
      " [-0.62084482]\n",
      " [-0.62084482]\n",
      " [-0.62084482]\n",
      " [-0.62084482]\n",
      " [-0.62084482]\n",
      " [-0.62084482]\n",
      " [-0.62084482]\n",
      " [-0.62084482]\n",
      " [-0.62084482]\n",
      " [-0.62084482]\n",
      " [-0.45225334]\n",
      " [-0.28366186]\n",
      " [-0.28366186]\n",
      " [ 0.05352111]\n",
      " [-0.28366186]\n",
      " [-0.45225334]\n",
      " [-0.28366186]\n",
      " [-0.45225334]\n",
      " [-0.45225334]\n",
      " [-0.45225334]\n",
      " [-0.45225334]\n",
      " [-0.45225334]\n",
      " [-0.45225334]\n",
      " [-0.45225334]\n",
      " [-0.28366186]\n",
      " [-0.28366186]\n",
      " [-0.28366186]\n",
      " [-0.28366186]\n",
      " [-0.28366186]\n",
      " [-0.28366186]\n",
      " [-0.28366186]\n",
      " [-0.11507038]\n",
      " [ 2.07661889]\n",
      " [ 2.07661889]\n",
      " [ 5.27985706]\n",
      " [ 4.60549113]\n",
      " [ 2.41380186]\n",
      " [ 2.91957631]\n",
      " [ 2.58239334]\n",
      " [ 2.07661889]\n",
      " [ 2.41380186]\n",
      " [ 2.07661889]\n",
      " [ 2.07661889]\n",
      " [ 0.89647852]\n",
      " [ 1.06507   ]\n",
      " [ 0.72788704]\n",
      " [ 0.72788704]\n",
      " [ 0.72788704]\n",
      " [ 1.23366148]\n",
      " [ 0.89647852]\n",
      " [ 1.06507   ]\n",
      " [ 0.89647852]\n",
      " [ 0.72788704]\n",
      " [ 0.72788704]\n",
      " [ 0.72788704]\n",
      " [ 0.89647852]\n",
      " [ 0.89647852]\n",
      " [ 0.89647852]\n",
      " [ 1.06507   ]\n",
      " [ 0.89647852]\n",
      " [ 0.72788704]\n",
      " [ 0.89647852]\n",
      " [ 0.72788704]\n",
      " [ 0.55929555]\n",
      " [ 0.55929555]\n",
      " [ 0.55929555]\n",
      " [ 0.39070407]\n",
      " [ 0.39070407]\n",
      " [ 0.55929555]\n",
      " [ 0.55929555]\n",
      " [ 0.55929555]\n",
      " [ 0.72788704]\n",
      " [ 0.72788704]\n",
      " [ 0.55929555]\n",
      " [ 0.72788704]\n",
      " [ 0.72788704]\n",
      " [ 0.39070407]\n",
      " [ 0.39070407]\n",
      " [ 0.55929555]\n",
      " [ 0.55929555]\n",
      " [ 0.55929555]\n",
      " [ 0.55929555]\n",
      " [ 0.72788704]\n",
      " [ 0.72788704]\n",
      " [ 0.89647852]\n",
      " [ 0.89647852]\n",
      " [ 0.72788704]\n",
      " [ 0.72788704]\n",
      " [ 0.89647852]\n",
      " [ 0.89647852]\n",
      " [ 0.72788704]\n",
      " [ 0.89647852]\n",
      " [ 0.89647852]\n",
      " [ 0.72788704]\n",
      " [ 0.72788704]\n",
      " [ 0.72788704]\n",
      " [ 0.72788704]\n",
      " [ 0.72788704]\n",
      " [ 0.55929555]\n",
      " [ 0.55929555]\n",
      " [ 0.55929555]\n",
      " [ 0.55929555]\n",
      " [ 0.55929555]\n",
      " [ 0.55929555]\n",
      " [ 0.39070407]\n",
      " [ 0.39070407]\n",
      " [ 0.55929555]\n",
      " [ 0.39070407]\n",
      " [ 0.39070407]\n",
      " [ 0.39070407]\n",
      " [ 0.39070407]\n",
      " [ 0.39070407]\n",
      " [ 0.39070407]\n",
      " [ 0.39070407]\n",
      " [ 0.39070407]\n",
      " [ 0.39070407]\n",
      " [ 0.39070407]\n",
      " [ 0.39070407]\n",
      " [ 0.39070407]\n",
      " [ 0.39070407]\n",
      " [ 0.39070407]\n",
      " [ 0.39070407]\n",
      " [ 0.39070407]\n",
      " [ 0.72788704]\n",
      " [ 0.55929555]\n",
      " [ 0.72788704]\n",
      " [ 0.72788704]\n",
      " [ 0.72788704]\n",
      " [ 0.72788704]\n",
      " [ 0.72788704]\n",
      " [ 0.72788704]\n",
      " [ 0.89647852]\n",
      " [ 0.89647852]\n",
      " [ 0.72788704]\n",
      " [ 0.72788704]\n",
      " [ 0.72788704]\n",
      " [ 0.72788704]\n",
      " [ 0.72788704]\n",
      " [ 0.72788704]\n",
      " [ 0.72788704]\n",
      " [ 0.55929555]\n",
      " [ 0.72788704]\n",
      " [ 0.55929555]\n",
      " [ 0.55929555]\n",
      " [ 0.55929555]\n",
      " [ 0.55929555]\n",
      " [ 0.55929555]\n",
      " [ 0.55929555]\n",
      " [ 0.55929555]\n",
      " [ 0.55929555]\n",
      " [ 0.55929555]\n",
      " [ 0.55929555]\n",
      " [ 0.72788704]\n",
      " [ 0.55929555]\n",
      " [ 0.39070407]\n",
      " [ 0.55929555]\n",
      " [ 0.55929555]\n",
      " [ 0.55929555]\n",
      " [ 0.55929555]\n",
      " [ 0.55929555]\n",
      " [ 0.55929555]\n",
      " [ 0.55929555]\n",
      " [ 0.55929555]\n",
      " [ 0.89647852]\n",
      " [ 0.72788704]\n",
      " [ 0.72788704]\n",
      " [ 0.72788704]\n",
      " [ 0.55929555]\n",
      " [ 0.55929555]\n",
      " [ 0.55929555]\n",
      " [ 0.72788704]\n",
      " [ 0.55929555]\n",
      " [ 0.55929555]\n",
      " [ 0.55929555]\n",
      " [ 0.55929555]\n",
      " [ 0.55929555]\n",
      " [ 0.55929555]\n",
      " [ 0.55929555]\n",
      " [ 0.72788704]\n",
      " [ 0.72788704]\n",
      " [ 0.89647852]\n",
      " [ 1.57084445]\n",
      " [ 2.24521038]\n",
      " [ 4.09971668]\n",
      " [ 3.25675927]\n",
      " [ 3.9311252 ]\n",
      " [ 3.9311252 ]\n",
      " [ 3.76253372]\n",
      " [ 4.60549113]\n",
      " [ 4.26830817]\n",
      " [ 4.26830817]\n",
      " [ 3.9311252 ]\n",
      " [ 3.59394224]\n",
      " [ 3.76253372]]\n"
     ]
    }
   ],
   "source": [
    "from sklearn.preprocessing import StandardScaler\n",
    "\n",
    "\n",
    "StdS_X = StandardScaler()\n",
    "StdS_y = StandardScaler()\n",
    "X_l = StdS_X.fit_transform(x_train)\n",
    "y_p = StdS_y.fit_transform(y_train.reshape(-1,1))\n",
    "\n",
    "print(\"Scaled X_l:\")\n",
    "print(X_l)\n",
    "print(\"Scaled y_p:\")\n",
    "print(y_p)"
   ],
   "metadata": {
    "collapsed": false,
    "pycharm": {
     "name": "#%%\n"
    }
   }
  },
  {
   "cell_type": "code",
   "execution_count": 258,
   "outputs": [
    {
     "name": "stdout",
     "output_type": "stream",
     "text": [
      "Scaled X_l_test:\n",
      "[[-0.91553238 -0.94564791 -0.2722563  ...  0.16073665  0.16073665\n",
      "  -0.60324702]\n",
      " [-0.78021401 -1.03582567 -0.19060441 ... -0.05319342 -0.05319342\n",
      "  -0.6188526 ]\n",
      " [-0.71255483 -0.85547014  0.11340365 ... -0.05319342 -0.05319342\n",
      "  -0.56891475]\n",
      " ...\n",
      " [-1.2538283  -1.30635896 -0.52682951 ... -0.65219762 -0.65219762\n",
      "  -0.39163537]\n",
      " [-1.2538283  -1.39653673 -0.5333701  ... -0.65219762 -0.65219762\n",
      "  -0.36916333]\n",
      " [-1.32148748 -1.39653673 -0.54517045 ... -0.65219762 -0.65219762\n",
      "  -0.45905147]]\n",
      "Scaled y_p_test:\n",
      "[[-0.75773637]\n",
      " [-0.6811346 ]\n",
      " [-0.75773637]\n",
      " [-0.6811346 ]\n",
      " [-0.83433813]\n",
      " [-0.75773637]\n",
      " [-0.29812578]\n",
      " [-0.14492226]\n",
      " [ 0.31468833]\n",
      " [ 0.77429891]\n",
      " [ 3.22555536]\n",
      " [ 2.30633419]\n",
      " [ 2.84254654]\n",
      " [ 2.0765289 ]\n",
      " [ 2.22973242]\n",
      " [ 2.61274124]\n",
      " [ 2.38293595]\n",
      " [ 1.31051126]\n",
      " [ 0.85090067]\n",
      " [ 1.84672361]\n",
      " [ 1.61691831]\n",
      " [ 1.46371479]\n",
      " [ 1.31051126]\n",
      " [ 1.31051126]\n",
      " [ 0.92750244]\n",
      " [ 1.46371479]\n",
      " [ 1.08070597]\n",
      " [ 1.08070597]\n",
      " [ 1.15730773]\n",
      " [ 1.15730773]\n",
      " [ 0.77429891]\n",
      " [ 0.77429891]\n",
      " [ 0.31468833]\n",
      " [ 0.85090067]\n",
      " [ 0.77429891]\n",
      " [ 0.46789186]\n",
      " [ 0.39129009]\n",
      " [ 0.31468833]\n",
      " [ 0.1614848 ]\n",
      " [ 0.1614848 ]\n",
      " [ 0.00828127]\n",
      " [ 0.08488304]\n",
      " [ 0.08488304]\n",
      " [ 0.62109538]\n",
      " [ 0.69769715]\n",
      " [ 0.46789186]\n",
      " [ 0.31468833]\n",
      " [ 0.1614848 ]\n",
      " [-0.06832049]\n",
      " [-0.14492226]\n",
      " [-0.06832049]\n",
      " [-0.14492226]\n",
      " [-0.06832049]\n",
      " [-0.22152402]\n",
      " [-0.29812578]\n",
      " [-0.29812578]\n",
      " [-0.06832049]\n",
      " [-0.37472755]\n",
      " [-0.29812578]\n",
      " [-0.29812578]\n",
      " [-0.37472755]\n",
      " [-0.52793108]\n",
      " [-0.52793108]\n",
      " [-0.52793108]\n",
      " [-0.52793108]\n",
      " [-0.37472755]\n",
      " [-0.22152402]\n",
      " [ 0.08488304]\n",
      " [-0.14492226]\n",
      " [ 0.00828127]\n",
      " [ 0.00828127]\n",
      " [ 0.08488304]\n",
      " [-0.22152402]\n",
      " [-0.29812578]\n",
      " [-0.29812578]\n",
      " [-0.37472755]\n",
      " [-0.29812578]\n",
      " [-0.29812578]\n",
      " [-0.37472755]\n",
      " [-0.45132931]\n",
      " [-0.60453284]\n",
      " [-0.52793108]\n",
      " [-0.6811346 ]\n",
      " [-0.75773637]\n",
      " [-0.75773637]\n",
      " [-0.83433813]\n",
      " [-0.75773637]\n",
      " [-0.45132931]\n",
      " [-0.60453284]\n",
      " [-0.52793108]\n",
      " [-0.52793108]\n",
      " [-0.52793108]\n",
      " [-0.6811346 ]\n",
      " [-0.75773637]\n",
      " [-0.83433813]\n",
      " [-0.91093989]\n",
      " [-1.21734695]\n",
      " [-1.29394871]\n",
      " [-1.21734695]\n",
      " [-1.29394871]\n",
      " [-1.29394871]\n",
      " [-1.29394871]\n",
      " [-1.29394871]\n",
      " [-1.29394871]\n",
      " [-1.21734695]\n",
      " [-1.29394871]\n",
      " [-1.29394871]\n",
      " [-1.21734695]\n",
      " [-1.29394871]\n",
      " [-1.29394871]\n",
      " [-1.29394871]]\n"
     ]
    }
   ],
   "source": [
    "StdS_X_test = StandardScaler()\n",
    "StdS_y_test = StandardScaler()\n",
    "\n",
    "X_l_test = StdS_X_test.fit_transform(x_test)\n",
    "y_p_test = StdS_y_test.fit_transform(y_test.reshape(-1,1))\n",
    "\n",
    "print(\"Scaled X_l_test:\")\n",
    "print(X_l_test)\n",
    "print(\"Scaled y_p_test:\")\n",
    "print(y_p_test)"
   ],
   "metadata": {
    "collapsed": false,
    "pycharm": {
     "name": "#%%\n"
    }
   }
  },
  {
   "cell_type": "code",
   "execution_count": 259,
   "outputs": [
    {
     "name": "stderr",
     "output_type": "stream",
     "text": [
      "C:\\Users\\nikol\\Desktop\\SIAP - projekat\\SIAP_2022\\venv\\lib\\site-packages\\sklearn\\utils\\validation.py:993: DataConversionWarning: A column-vector y was passed when a 1d array was expected. Please change the shape of y to (n_samples, ), for example using ravel().\n",
      "  y = column_or_1d(y, warn=True)\n"
     ]
    },
    {
     "data": {
      "text/plain": "SVR(C=1000.0, gamma='auto', kernel='linear')"
     },
     "execution_count": 259,
     "metadata": {},
     "output_type": "execute_result"
    }
   ],
   "source": [
    "from sklearn.svm import SVR\n",
    "svr_linear = SVR(kernel='linear', C = 1e3, gamma=\"auto\")\n",
    "svr_linear.fit(X_l, y_p)"
   ],
   "metadata": {
    "collapsed": false,
    "pycharm": {
     "name": "#%%\n"
    }
   }
  },
  {
   "cell_type": "code",
   "execution_count": 260,
   "outputs": [
    {
     "data": {
      "text/plain": "LinearRegression()"
     },
     "execution_count": 260,
     "metadata": {},
     "output_type": "execute_result"
    }
   ],
   "source": [
    "from sklearn.linear_model import LinearRegression\n",
    "# Create and train the Linear Regression  Model\n",
    "lr = LinearRegression()\n",
    "# Train the model\n",
    "lr.fit(X_l, y_p)"
   ],
   "metadata": {
    "collapsed": false,
    "pycharm": {
     "name": "#%%\n"
    }
   }
  },
  {
   "cell_type": "code",
   "execution_count": 261,
   "outputs": [
    {
     "name": "stdout",
     "output_type": "stream",
     "text": [
      "lr confidence:  0.8861615737455941\n",
      "svr_linear confidence 0.88591159995438\n"
     ]
    }
   ],
   "source": [
    "# Testing Model: Score returns the coefficient of determination R^2 of the prediction.\n",
    "# The best possible score is 1.0\n",
    "lr_confidence = lr.score(X_l_test, y_p_test)\n",
    "print(\"lr confidence: \", lr_confidence)\n",
    "\n",
    "svr_linear_confidence = svr_linear.score(X_l_test, y_p_test)\n",
    "print('svr_linear confidence', svr_linear_confidence)"
   ],
   "metadata": {
    "collapsed": false,
    "pycharm": {
     "name": "#%%\n"
    }
   }
  },
  {
   "cell_type": "code",
   "execution_count": 262,
   "outputs": [
    {
     "name": "stdout",
     "output_type": "stream",
     "text": [
      "[-0.88892663 -0.83270485 -0.74631808 -0.77947304 -0.76076405 -0.80798217\n",
      " -0.80720211 -0.43469274  0.37034362  0.48767627  0.84711866  2.51180699\n",
      "  2.01747388  2.24777398  2.15513837  1.83723439  2.1008688   2.00842417\n",
      "  1.32987651  0.84627606  1.40237644  1.45282693  1.23782988  1.15503717\n",
      "  1.11580225  0.84284166  1.14362357  0.99862967  0.92551928  0.99995038\n",
      "  0.99960131  0.76072523  0.6643964   0.41198372  0.69230357  0.66717849\n",
      "  0.45924699  0.40255053  0.31989118  0.14817969  0.28410271  0.10410743\n",
      "  0.14150411  0.04067154  0.34978882  0.66405427  0.40676857  0.2072851\n",
      "  0.18451162 -0.10555495 -0.19587118 -0.17039234 -0.14048078 -0.1376122\n",
      " -0.22597816 -0.26550423 -0.30514687 -0.13226051 -0.28382275 -0.27587987\n",
      " -0.30992456 -0.3179764  -0.4587321  -0.44085022 -0.47562802 -0.46158285\n",
      " -0.38630254 -0.20368761 -0.04857604 -0.08144422 -0.05220375 -0.04902141\n",
      " -0.02316502 -0.17465131 -0.30993704 -0.32867515 -0.30087477 -0.33928076\n",
      " -0.3323762  -0.35806949 -0.4171681  -0.54251661 -0.48741047 -0.53482514\n",
      " -0.61522826 -0.61642498 -0.70246815 -0.70354191 -0.46509331 -0.45118492\n",
      " -0.44210257 -0.50815428 -0.49046782 -0.61072824 -0.67409873 -0.71098853\n",
      " -0.75680843 -0.92358283 -1.0611182  -0.9807245  -1.09566246 -1.11050425\n",
      " -1.10996287 -1.13765294 -1.13192265 -1.08516791 -1.12957996 -1.1252482\n",
      " -1.06723222 -1.08739154 -1.09639748]\n"
     ]
    }
   ],
   "source": [
    "svr_prediction = svr_linear.predict(X_l_test)\n",
    "print(svr_prediction)"
   ],
   "metadata": {
    "collapsed": false,
    "pycharm": {
     "name": "#%%\n"
    }
   }
  },
  {
   "cell_type": "code",
   "execution_count": 263,
   "outputs": [
    {
     "name": "stdout",
     "output_type": "stream",
     "text": [
      "[[2.62873728e-05]\n",
      " [2.70213217e-05]\n",
      " [2.81490604e-05]\n",
      " [2.77162379e-05]\n",
      " [2.79604751e-05]\n",
      " [2.73440647e-05]\n",
      " [2.73542480e-05]\n",
      " [3.22171826e-05]\n",
      " [4.27265537e-05]\n",
      " [4.42582762e-05]\n",
      " [4.89506276e-05]\n",
      " [7.06823508e-05]\n",
      " [6.42290645e-05]\n",
      " [6.72355240e-05]\n",
      " [6.60262097e-05]\n",
      " [6.18761227e-05]\n",
      " [6.53177459e-05]\n",
      " [6.41109249e-05]\n",
      " [5.52528043e-05]\n",
      " [4.89396279e-05]\n",
      " [5.61992568e-05]\n",
      " [5.68578642e-05]\n",
      " [5.40511788e-05]\n",
      " [5.29703589e-05]\n",
      " [5.24581655e-05]\n",
      " [4.88947934e-05]\n",
      " [5.28213597e-05]\n",
      " [5.09285326e-05]\n",
      " [4.99741108e-05]\n",
      " [5.09457738e-05]\n",
      " [5.09412169e-05]\n",
      " [4.78228020e-05]\n",
      " [4.65652744e-05]\n",
      " [4.32701456e-05]\n",
      " [4.69295894e-05]\n",
      " [4.66015933e-05]\n",
      " [4.38871454e-05]\n",
      " [4.31469998e-05]\n",
      " [4.20679208e-05]\n",
      " [3.98263080e-05]\n",
      " [4.16007191e-05]\n",
      " [3.92509654e-05]\n",
      " [3.97391615e-05]\n",
      " [3.84228397e-05]\n",
      " [4.24582204e-05]\n",
      " [4.65608081e-05]\n",
      " [4.32020643e-05]\n",
      " [4.05979014e-05]\n",
      " [4.03006043e-05]\n",
      " [3.65139217e-05]\n",
      " [3.53348857e-05]\n",
      " [3.56675000e-05]\n",
      " [3.60579813e-05]\n",
      " [3.60954293e-05]\n",
      " [3.49418533e-05]\n",
      " [3.44258591e-05]\n",
      " [3.39083431e-05]\n",
      " [3.61652931e-05]\n",
      " [3.41867194e-05]\n",
      " [3.42904099e-05]\n",
      " [3.38459726e-05]\n",
      " [3.37408596e-05]\n",
      " [3.19033601e-05]\n",
      " [3.21367996e-05]\n",
      " [3.16827919e-05]\n",
      " [3.18661449e-05]\n",
      " [3.28488939e-05]\n",
      " [3.52328459e-05]\n",
      " [3.72577546e-05]\n",
      " [3.68286759e-05]\n",
      " [3.72103964e-05]\n",
      " [3.72519404e-05]\n",
      " [3.75894834e-05]\n",
      " [3.56119012e-05]\n",
      " [3.38458095e-05]\n",
      " [3.36011924e-05]\n",
      " [3.39641133e-05]\n",
      " [3.34627412e-05]\n",
      " [3.35528770e-05]\n",
      " [3.32174631e-05]\n",
      " [3.24459586e-05]\n",
      " [3.08095928e-05]\n",
      " [3.15289774e-05]\n",
      " [3.09100013e-05]\n",
      " [2.98603763e-05]\n",
      " [2.98447537e-05]\n",
      " [2.87215006e-05]\n",
      " [2.87074832e-05]\n",
      " [3.18203175e-05]\n",
      " [3.20018849e-05]\n",
      " [3.21204508e-05]\n",
      " [3.12581768e-05]\n",
      " [3.14890652e-05]\n",
      " [2.99191220e-05]\n",
      " [2.90918501e-05]\n",
      " [2.86102710e-05]\n",
      " [2.80121138e-05]\n",
      " [2.58349525e-05]\n",
      " [2.40394929e-05]\n",
      " [2.50889948e-05]\n",
      " [2.35885338e-05]\n",
      " [2.33947812e-05]\n",
      " [2.34018487e-05]\n",
      " [2.30403678e-05]\n",
      " [2.31151741e-05]\n",
      " [2.37255352e-05]\n",
      " [2.31457568e-05]\n",
      " [2.32023058e-05]\n",
      " [2.39596771e-05]\n",
      " [2.36965067e-05]\n",
      " [2.35789384e-05]]\n"
     ]
    }
   ],
   "source": [
    "final_prediction =svr_prediction.reshape(-1,1)\n",
    "final_prediction = StdS_y_test.inverse_transform(final_prediction)\n",
    "print(final_prediction)"
   ],
   "metadata": {
    "collapsed": false,
    "pycharm": {
     "name": "#%%\n"
    }
   }
  },
  {
   "cell_type": "code",
   "execution_count": 264,
   "outputs": [
    {
     "name": "stdout",
     "output_type": "stream",
     "text": [
      "[2.8e-05 2.9e-05 2.8e-05 2.9e-05 2.7e-05 2.8e-05 3.4e-05 3.6e-05 4.2e-05\n",
      " 4.8e-05 8.0e-05 6.8e-05 7.5e-05 6.5e-05 6.7e-05 7.2e-05 6.9e-05 5.5e-05\n",
      " 4.9e-05 6.2e-05 5.9e-05 5.7e-05 5.5e-05 5.5e-05 5.0e-05 5.7e-05 5.2e-05\n",
      " 5.2e-05 5.3e-05 5.3e-05 4.8e-05 4.8e-05 4.2e-05 4.9e-05 4.8e-05 4.4e-05\n",
      " 4.3e-05 4.2e-05 4.0e-05 4.0e-05 3.8e-05 3.9e-05 3.9e-05 4.6e-05 4.7e-05\n",
      " 4.4e-05 4.2e-05 4.0e-05 3.7e-05 3.6e-05 3.7e-05 3.6e-05 3.7e-05 3.5e-05\n",
      " 3.4e-05 3.4e-05 3.7e-05 3.3e-05 3.4e-05 3.4e-05 3.3e-05 3.1e-05 3.1e-05\n",
      " 3.1e-05 3.1e-05 3.3e-05 3.5e-05 3.9e-05 3.6e-05 3.8e-05 3.8e-05 3.9e-05\n",
      " 3.5e-05 3.4e-05 3.4e-05 3.3e-05 3.4e-05 3.4e-05 3.3e-05 3.2e-05 3.0e-05\n",
      " 3.1e-05 2.9e-05 2.8e-05 2.8e-05 2.7e-05 2.8e-05 3.2e-05 3.0e-05 3.1e-05\n",
      " 3.1e-05 3.1e-05 2.9e-05 2.8e-05 2.7e-05 2.6e-05 2.2e-05 2.1e-05 2.2e-05\n",
      " 2.1e-05 2.1e-05 2.1e-05 2.1e-05 2.1e-05 2.2e-05 2.1e-05 2.1e-05 2.2e-05\n",
      " 2.1e-05 2.1e-05 2.1e-05]\n"
     ]
    }
   ],
   "source": [
    "print(y_test)"
   ],
   "metadata": {
    "collapsed": false,
    "pycharm": {
     "name": "#%%\n"
    }
   }
  },
  {
   "cell_type": "code",
   "execution_count": 265,
   "outputs": [
    {
     "name": "stdout",
     "output_type": "stream",
     "text": [
      "111\n",
      "111\n"
     ]
    }
   ],
   "source": [
    "print(len(final_prediction))\n",
    "print(len(y_test))"
   ],
   "metadata": {
    "collapsed": false,
    "pycharm": {
     "name": "#%%\n"
    }
   }
  },
  {
   "cell_type": "code",
   "execution_count": 266,
   "outputs": [
    {
     "data": {
      "text/plain": "                  Date      Open      High       Low     Close  Adj Close  \\\n2020-08-01  2020-08-01  0.000000  0.000000  0.000000  0.000000   0.000000   \n2020-08-02  2020-08-02  0.000000  0.000000  0.000000  0.000000   0.000000   \n2020-08-03  2020-08-03  0.000000  0.000000  0.000000  0.000000   0.000000   \n2020-08-04  2020-08-04  0.000000  0.000000  0.000000  0.000000   0.000000   \n2020-08-05  2020-08-05  0.000000  0.000000  0.000000  0.000000   0.000000   \n...                ...       ...       ...       ...       ...        ...   \n2022-01-31  2022-01-31  0.000021  0.000022  0.000020  0.000021   0.000021   \n2022-02-01  2022-02-01  0.000021  0.000022  0.000021  0.000022   0.000022   \n2022-02-02  2022-02-02  0.000022  0.000022  0.000020  0.000021   0.000021   \n2022-02-03  2022-02-03  0.000021  0.000021  0.000020  0.000021   0.000021   \n2022-02-04  2022-02-04  0.000021  0.000022  0.000021  0.000021   0.000021   \n\n               Volume  reddit_average_posts_48h  reddit_average_comments_48h  \\\n2020-08-01    1604789                     0.000                        0.000   \n2020-08-02     193098                     0.000                        0.000   \n2020-08-03     129225                     0.000                        0.000   \n2020-08-04      19717                     0.000                        0.000   \n2020-08-05      26869                     0.000                        0.000   \n...               ...                       ...                          ...   \n2022-01-31  531285879                     6.182                      586.182   \n2022-02-01  519254046                     6.800                      475.700   \n2022-02-02  484518640                     7.889                      499.667   \n2022-02-03  421850042                     8.889                      652.556   \n2022-02-04  476443712                     7.000                      412.667   \n\n            reddit_subscribers  reddit_accounts_active_48h  \\\n2020-08-01            0.000000                    0.000000   \n2020-08-02           13.559829                    0.217949   \n2020-08-03           27.119658                    0.435897   \n2020-08-04           40.679487                    0.653846   \n2020-08-05           54.239316                    0.871795   \n...                        ...                         ...   \n2022-01-31       463670.000000                  684.666667   \n2022-02-01       463832.000000                  630.090909   \n2022-02-02       463900.000000                  615.700000   \n2022-02-03       464046.000000                  680.200000   \n2022-02-04       464142.000000                  696.307692   \n\n            shiba inu coin_unscaled  shiba inu coin_monthly  scale  \\\n2020-08-01                        0                     0.0   0.00   \n2020-08-02                        0                     0.0   0.00   \n2020-08-03                        0                     0.0   0.00   \n2020-08-04                        0                     0.0   0.00   \n2020-08-05                        0                     0.0   0.00   \n...                             ...                     ...    ...   \n2022-01-31                       47                     6.0   0.06   \n2022-02-01                       94                     6.0   0.06   \n2022-02-02                      100                     6.0   0.06   \n2022-02-03                       76                     6.0   0.06   \n2022-02-04                       96                     6.0   0.06   \n\n            shiba inu coin  1_day_price_forecast  \n2020-08-01            0.00              0.000000  \n2020-08-02            0.00              0.000000  \n2020-08-03            0.00              0.000000  \n2020-08-04            0.00              0.000000  \n2020-08-05            0.00              0.000000  \n...                    ...                   ...  \n2022-01-31            2.82              0.000022  \n2022-02-01            5.64              0.000021  \n2022-02-02            6.00              0.000021  \n2022-02-03            4.56              0.000021  \n2022-02-04            5.76                   NaN  \n\n[553 rows x 16 columns]",
      "text/html": "<div>\n<style scoped>\n    .dataframe tbody tr th:only-of-type {\n        vertical-align: middle;\n    }\n\n    .dataframe tbody tr th {\n        vertical-align: top;\n    }\n\n    .dataframe thead th {\n        text-align: right;\n    }\n</style>\n<table border=\"1\" class=\"dataframe\">\n  <thead>\n    <tr style=\"text-align: right;\">\n      <th></th>\n      <th>Date</th>\n      <th>Open</th>\n      <th>High</th>\n      <th>Low</th>\n      <th>Close</th>\n      <th>Adj Close</th>\n      <th>Volume</th>\n      <th>reddit_average_posts_48h</th>\n      <th>reddit_average_comments_48h</th>\n      <th>reddit_subscribers</th>\n      <th>reddit_accounts_active_48h</th>\n      <th>shiba inu coin_unscaled</th>\n      <th>shiba inu coin_monthly</th>\n      <th>scale</th>\n      <th>shiba inu coin</th>\n      <th>1_day_price_forecast</th>\n    </tr>\n  </thead>\n  <tbody>\n    <tr>\n      <th>2020-08-01</th>\n      <td>2020-08-01</td>\n      <td>0.000000</td>\n      <td>0.000000</td>\n      <td>0.000000</td>\n      <td>0.000000</td>\n      <td>0.000000</td>\n      <td>1604789</td>\n      <td>0.000</td>\n      <td>0.000</td>\n      <td>0.000000</td>\n      <td>0.000000</td>\n      <td>0</td>\n      <td>0.0</td>\n      <td>0.00</td>\n      <td>0.00</td>\n      <td>0.000000</td>\n    </tr>\n    <tr>\n      <th>2020-08-02</th>\n      <td>2020-08-02</td>\n      <td>0.000000</td>\n      <td>0.000000</td>\n      <td>0.000000</td>\n      <td>0.000000</td>\n      <td>0.000000</td>\n      <td>193098</td>\n      <td>0.000</td>\n      <td>0.000</td>\n      <td>13.559829</td>\n      <td>0.217949</td>\n      <td>0</td>\n      <td>0.0</td>\n      <td>0.00</td>\n      <td>0.00</td>\n      <td>0.000000</td>\n    </tr>\n    <tr>\n      <th>2020-08-03</th>\n      <td>2020-08-03</td>\n      <td>0.000000</td>\n      <td>0.000000</td>\n      <td>0.000000</td>\n      <td>0.000000</td>\n      <td>0.000000</td>\n      <td>129225</td>\n      <td>0.000</td>\n      <td>0.000</td>\n      <td>27.119658</td>\n      <td>0.435897</td>\n      <td>0</td>\n      <td>0.0</td>\n      <td>0.00</td>\n      <td>0.00</td>\n      <td>0.000000</td>\n    </tr>\n    <tr>\n      <th>2020-08-04</th>\n      <td>2020-08-04</td>\n      <td>0.000000</td>\n      <td>0.000000</td>\n      <td>0.000000</td>\n      <td>0.000000</td>\n      <td>0.000000</td>\n      <td>19717</td>\n      <td>0.000</td>\n      <td>0.000</td>\n      <td>40.679487</td>\n      <td>0.653846</td>\n      <td>0</td>\n      <td>0.0</td>\n      <td>0.00</td>\n      <td>0.00</td>\n      <td>0.000000</td>\n    </tr>\n    <tr>\n      <th>2020-08-05</th>\n      <td>2020-08-05</td>\n      <td>0.000000</td>\n      <td>0.000000</td>\n      <td>0.000000</td>\n      <td>0.000000</td>\n      <td>0.000000</td>\n      <td>26869</td>\n      <td>0.000</td>\n      <td>0.000</td>\n      <td>54.239316</td>\n      <td>0.871795</td>\n      <td>0</td>\n      <td>0.0</td>\n      <td>0.00</td>\n      <td>0.00</td>\n      <td>0.000000</td>\n    </tr>\n    <tr>\n      <th>...</th>\n      <td>...</td>\n      <td>...</td>\n      <td>...</td>\n      <td>...</td>\n      <td>...</td>\n      <td>...</td>\n      <td>...</td>\n      <td>...</td>\n      <td>...</td>\n      <td>...</td>\n      <td>...</td>\n      <td>...</td>\n      <td>...</td>\n      <td>...</td>\n      <td>...</td>\n      <td>...</td>\n    </tr>\n    <tr>\n      <th>2022-01-31</th>\n      <td>2022-01-31</td>\n      <td>0.000021</td>\n      <td>0.000022</td>\n      <td>0.000020</td>\n      <td>0.000021</td>\n      <td>0.000021</td>\n      <td>531285879</td>\n      <td>6.182</td>\n      <td>586.182</td>\n      <td>463670.000000</td>\n      <td>684.666667</td>\n      <td>47</td>\n      <td>6.0</td>\n      <td>0.06</td>\n      <td>2.82</td>\n      <td>0.000022</td>\n    </tr>\n    <tr>\n      <th>2022-02-01</th>\n      <td>2022-02-01</td>\n      <td>0.000021</td>\n      <td>0.000022</td>\n      <td>0.000021</td>\n      <td>0.000022</td>\n      <td>0.000022</td>\n      <td>519254046</td>\n      <td>6.800</td>\n      <td>475.700</td>\n      <td>463832.000000</td>\n      <td>630.090909</td>\n      <td>94</td>\n      <td>6.0</td>\n      <td>0.06</td>\n      <td>5.64</td>\n      <td>0.000021</td>\n    </tr>\n    <tr>\n      <th>2022-02-02</th>\n      <td>2022-02-02</td>\n      <td>0.000022</td>\n      <td>0.000022</td>\n      <td>0.000020</td>\n      <td>0.000021</td>\n      <td>0.000021</td>\n      <td>484518640</td>\n      <td>7.889</td>\n      <td>499.667</td>\n      <td>463900.000000</td>\n      <td>615.700000</td>\n      <td>100</td>\n      <td>6.0</td>\n      <td>0.06</td>\n      <td>6.00</td>\n      <td>0.000021</td>\n    </tr>\n    <tr>\n      <th>2022-02-03</th>\n      <td>2022-02-03</td>\n      <td>0.000021</td>\n      <td>0.000021</td>\n      <td>0.000020</td>\n      <td>0.000021</td>\n      <td>0.000021</td>\n      <td>421850042</td>\n      <td>8.889</td>\n      <td>652.556</td>\n      <td>464046.000000</td>\n      <td>680.200000</td>\n      <td>76</td>\n      <td>6.0</td>\n      <td>0.06</td>\n      <td>4.56</td>\n      <td>0.000021</td>\n    </tr>\n    <tr>\n      <th>2022-02-04</th>\n      <td>2022-02-04</td>\n      <td>0.000021</td>\n      <td>0.000022</td>\n      <td>0.000021</td>\n      <td>0.000021</td>\n      <td>0.000021</td>\n      <td>476443712</td>\n      <td>7.000</td>\n      <td>412.667</td>\n      <td>464142.000000</td>\n      <td>696.307692</td>\n      <td>96</td>\n      <td>6.0</td>\n      <td>0.06</td>\n      <td>5.76</td>\n      <td>NaN</td>\n    </tr>\n  </tbody>\n</table>\n<p>553 rows × 16 columns</p>\n</div>"
     },
     "execution_count": 266,
     "metadata": {},
     "output_type": "execute_result"
    }
   ],
   "source": [
    "df"
   ],
   "metadata": {
    "collapsed": false,
    "pycharm": {
     "name": "#%%\n"
    }
   }
  },
  {
   "cell_type": "code",
   "execution_count": 267,
   "outputs": [
    {
     "data": {
      "text/plain": "<Figure size 1224x360 with 1 Axes>",
      "image/png": "[encoded data removed]"
     },
     "metadata": {},
     "output_type": "display_data"
    }
   ],
   "source": [
    "plt.figure(figsize=(17,5))\n",
    "plt.plot(final_prediction, label='Prediction', lw=2, alpha =.7, color = \"green\")\n",
    "plt.plot(y_test, label='Actual', lw=2, alpha =.7, color = \"red\")\n",
    "plt.legend(['predicted', \"actual\"])\n",
    "plt.title('Prediction vs Actual')\n",
    "plt.ylabel('Price in USD')\n",
    "plt.xlabel('Time')\n",
    "\n",
    "plt.show()"
   ],
   "metadata": {
    "collapsed": false,
    "pycharm": {
     "name": "#%%\n"
    }
   }
  },
  {
   "cell_type": "code",
   "execution_count": 268,
   "outputs": [
    {
     "name": "stdout",
     "output_type": "stream",
     "text": [
      "R^2\n",
      "0.88591159995438\n",
      "\n",
      "MAE\n",
      "2.6214414031570225e-06\n",
      "\n",
      "RMSE\n",
      "4.409425148423503e-06\n"
     ]
    }
   ],
   "source": [
    "from math import sqrt\n",
    "from sklearn.metrics import mean_absolute_error, mean_squared_error\n",
    "\n",
    "\n",
    "print(\"R^2\")\n",
    "print(svr_linear_confidence)\n",
    "\n",
    "print(\"\\nMAE\")\n",
    "print(mean_absolute_error(y_test,final_prediction))\n",
    "\n",
    "print(\"\\nRMSE\")\n",
    "print(sqrt(mean_squared_error(y_test, final_prediction)))"
   ],
   "metadata": {
    "collapsed": false,
    "pycharm": {
     "name": "#%%\n"
    }
   }
  }
 ],
 "metadata": {
  "kernelspec": {
   "display_name": "Python 3",
   "language": "python",
   "name": "python3"
  },
  "language_info": {
   "codemirror_mode": {
    "name": "ipython",
    "version": 2
   },
   "file_extension": ".py",
   "mimetype": "text/x-python",
   "name": "python",
   "nbconvert_exporter": "python",
   "pygments_lexer": "ipython2",
   "version": "2.7.6"
  }
 },
 "nbformat": 4,
 "nbformat_minor": 0
}