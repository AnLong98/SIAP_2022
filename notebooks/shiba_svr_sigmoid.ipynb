{
 "cells": [
  {
   "cell_type": "code",
   "execution_count": 679,
   "metadata": {
    "collapsed": true
   },
   "outputs": [],
   "source": [
    "import pandas as pd\n",
    "import numpy as np\n",
    "from sklearn.svm import SVR\n",
    "import matplotlib.pyplot as plt\n",
    "plt.style.use('fivethirtyeight')"
   ]
  },
  {
   "cell_type": "code",
   "execution_count": 680,
   "outputs": [
    {
     "data": {
      "text/plain": "                  Date      Open      High       Low     Close  Adj Close  \\\n2020-08-01  2020-08-01  0.000000  0.000000  0.000000  0.000000   0.000000   \n2020-08-02  2020-08-02  0.000000  0.000000  0.000000  0.000000   0.000000   \n2020-08-03  2020-08-03  0.000000  0.000000  0.000000  0.000000   0.000000   \n2020-08-04  2020-08-04  0.000000  0.000000  0.000000  0.000000   0.000000   \n2020-08-05  2020-08-05  0.000000  0.000000  0.000000  0.000000   0.000000   \n...                ...       ...       ...       ...       ...        ...   \n2022-01-31  2022-01-31  0.000021  0.000022  0.000020  0.000021   0.000021   \n2022-02-01  2022-02-01  0.000021  0.000022  0.000021  0.000022   0.000022   \n2022-02-02  2022-02-02  0.000022  0.000022  0.000020  0.000021   0.000021   \n2022-02-03  2022-02-03  0.000021  0.000021  0.000020  0.000021   0.000021   \n2022-02-04  2022-02-04  0.000021  0.000022  0.000021  0.000021   0.000021   \n\n               Volume  reddit_average_posts_48h  reddit_average_comments_48h  \\\n2020-08-01    1604789                     0.000                        0.000   \n2020-08-02     193098                     0.000                        0.000   \n2020-08-03     129225                     0.000                        0.000   \n2020-08-04      19717                     0.000                        0.000   \n2020-08-05      26869                     0.000                        0.000   \n...               ...                       ...                          ...   \n2022-01-31  531285879                     6.182                      586.182   \n2022-02-01  519254046                     6.800                      475.700   \n2022-02-02  484518640                     7.889                      499.667   \n2022-02-03  421850042                     8.889                      652.556   \n2022-02-04  476443712                     7.000                      412.667   \n\n            reddit_subscribers  reddit_accounts_active_48h  \\\n2020-08-01            0.000000                    0.000000   \n2020-08-02           13.559829                    0.217949   \n2020-08-03           27.119658                    0.435897   \n2020-08-04           40.679487                    0.653846   \n2020-08-05           54.239316                    0.871795   \n...                        ...                         ...   \n2022-01-31       463670.000000                  684.666667   \n2022-02-01       463832.000000                  630.090909   \n2022-02-02       463900.000000                  615.700000   \n2022-02-03       464046.000000                  680.200000   \n2022-02-04       464142.000000                  696.307692   \n\n            shiba inu coin_unscaled  shiba inu coin_monthly  scale  \\\n2020-08-01                        0                     0.0   0.00   \n2020-08-02                        0                     0.0   0.00   \n2020-08-03                        0                     0.0   0.00   \n2020-08-04                        0                     0.0   0.00   \n2020-08-05                        0                     0.0   0.00   \n...                             ...                     ...    ...   \n2022-01-31                       47                     6.0   0.06   \n2022-02-01                       94                     6.0   0.06   \n2022-02-02                      100                     6.0   0.06   \n2022-02-03                       76                     6.0   0.06   \n2022-02-04                       96                     6.0   0.06   \n\n            shiba inu coin  \n2020-08-01            0.00  \n2020-08-02            0.00  \n2020-08-03            0.00  \n2020-08-04            0.00  \n2020-08-05            0.00  \n...                    ...  \n2022-01-31            2.82  \n2022-02-01            5.64  \n2022-02-02            6.00  \n2022-02-03            4.56  \n2022-02-04            5.76  \n\n[553 rows x 15 columns]",
      "text/html": "<div>\n<style scoped>\n    .dataframe tbody tr th:only-of-type {\n        vertical-align: middle;\n    }\n\n    .dataframe tbody tr th {\n        vertical-align: top;\n    }\n\n    .dataframe thead th {\n        text-align: right;\n    }\n</style>\n<table border=\"1\" class=\"dataframe\">\n  <thead>\n    <tr style=\"text-align: right;\">\n      <th></th>\n      <th>Date</th>\n      <th>Open</th>\n      <th>High</th>\n      <th>Low</th>\n      <th>Close</th>\n      <th>Adj Close</th>\n      <th>Volume</th>\n      <th>reddit_average_posts_48h</th>\n      <th>reddit_average_comments_48h</th>\n      <th>reddit_subscribers</th>\n      <th>reddit_accounts_active_48h</th>\n      <th>shiba inu coin_unscaled</th>\n      <th>shiba inu coin_monthly</th>\n      <th>scale</th>\n      <th>shiba inu coin</th>\n    </tr>\n  </thead>\n  <tbody>\n    <tr>\n      <th>2020-08-01</th>\n      <td>2020-08-01</td>\n      <td>0.000000</td>\n      <td>0.000000</td>\n      <td>0.000000</td>\n      <td>0.000000</td>\n      <td>0.000000</td>\n      <td>1604789</td>\n      <td>0.000</td>\n      <td>0.000</td>\n      <td>0.000000</td>\n      <td>0.000000</td>\n      <td>0</td>\n      <td>0.0</td>\n      <td>0.00</td>\n      <td>0.00</td>\n    </tr>\n    <tr>\n      <th>2020-08-02</th>\n      <td>2020-08-02</td>\n      <td>0.000000</td>\n      <td>0.000000</td>\n      <td>0.000000</td>\n      <td>0.000000</td>\n      <td>0.000000</td>\n      <td>193098</td>\n      <td>0.000</td>\n      <td>0.000</td>\n      <td>13.559829</td>\n      <td>0.217949</td>\n      <td>0</td>\n      <td>0.0</td>\n      <td>0.00</td>\n      <td>0.00</td>\n    </tr>\n    <tr>\n      <th>2020-08-03</th>\n      <td>2020-08-03</td>\n      <td>0.000000</td>\n      <td>0.000000</td>\n      <td>0.000000</td>\n      <td>0.000000</td>\n      <td>0.000000</td>\n      <td>129225</td>\n      <td>0.000</td>\n      <td>0.000</td>\n      <td>27.119658</td>\n      <td>0.435897</td>\n      <td>0</td>\n      <td>0.0</td>\n      <td>0.00</td>\n      <td>0.00</td>\n    </tr>\n    <tr>\n      <th>2020-08-04</th>\n      <td>2020-08-04</td>\n      <td>0.000000</td>\n      <td>0.000000</td>\n      <td>0.000000</td>\n      <td>0.000000</td>\n      <td>0.000000</td>\n      <td>19717</td>\n      <td>0.000</td>\n      <td>0.000</td>\n      <td>40.679487</td>\n      <td>0.653846</td>\n      <td>0</td>\n      <td>0.0</td>\n      <td>0.00</td>\n      <td>0.00</td>\n    </tr>\n    <tr>\n      <th>2020-08-05</th>\n      <td>2020-08-05</td>\n      <td>0.000000</td>\n      <td>0.000000</td>\n      <td>0.000000</td>\n      <td>0.000000</td>\n      <td>0.000000</td>\n      <td>26869</td>\n      <td>0.000</td>\n      <td>0.000</td>\n      <td>54.239316</td>\n      <td>0.871795</td>\n      <td>0</td>\n      <td>0.0</td>\n      <td>0.00</td>\n      <td>0.00</td>\n    </tr>\n    <tr>\n      <th>...</th>\n      <td>...</td>\n      <td>...</td>\n      <td>...</td>\n      <td>...</td>\n      <td>...</td>\n      <td>...</td>\n      <td>...</td>\n      <td>...</td>\n      <td>...</td>\n      <td>...</td>\n      <td>...</td>\n      <td>...</td>\n      <td>...</td>\n      <td>...</td>\n      <td>...</td>\n    </tr>\n    <tr>\n      <th>2022-01-31</th>\n      <td>2022-01-31</td>\n      <td>0.000021</td>\n      <td>0.000022</td>\n      <td>0.000020</td>\n      <td>0.000021</td>\n      <td>0.000021</td>\n      <td>531285879</td>\n      <td>6.182</td>\n      <td>586.182</td>\n      <td>463670.000000</td>\n      <td>684.666667</td>\n      <td>47</td>\n      <td>6.0</td>\n      <td>0.06</td>\n      <td>2.82</td>\n    </tr>\n    <tr>\n      <th>2022-02-01</th>\n      <td>2022-02-01</td>\n      <td>0.000021</td>\n      <td>0.000022</td>\n      <td>0.000021</td>\n      <td>0.000022</td>\n      <td>0.000022</td>\n      <td>519254046</td>\n      <td>6.800</td>\n      <td>475.700</td>\n      <td>463832.000000</td>\n      <td>630.090909</td>\n      <td>94</td>\n      <td>6.0</td>\n      <td>0.06</td>\n      <td>5.64</td>\n    </tr>\n    <tr>\n      <th>2022-02-02</th>\n      <td>2022-02-02</td>\n      <td>0.000022</td>\n      <td>0.000022</td>\n      <td>0.000020</td>\n      <td>0.000021</td>\n      <td>0.000021</td>\n      <td>484518640</td>\n      <td>7.889</td>\n      <td>499.667</td>\n      <td>463900.000000</td>\n      <td>615.700000</td>\n      <td>100</td>\n      <td>6.0</td>\n      <td>0.06</td>\n      <td>6.00</td>\n    </tr>\n    <tr>\n      <th>2022-02-03</th>\n      <td>2022-02-03</td>\n      <td>0.000021</td>\n      <td>0.000021</td>\n      <td>0.000020</td>\n      <td>0.000021</td>\n      <td>0.000021</td>\n      <td>421850042</td>\n      <td>8.889</td>\n      <td>652.556</td>\n      <td>464046.000000</td>\n      <td>680.200000</td>\n      <td>76</td>\n      <td>6.0</td>\n      <td>0.06</td>\n      <td>4.56</td>\n    </tr>\n    <tr>\n      <th>2022-02-04</th>\n      <td>2022-02-04</td>\n      <td>0.000021</td>\n      <td>0.000022</td>\n      <td>0.000021</td>\n      <td>0.000021</td>\n      <td>0.000021</td>\n      <td>476443712</td>\n      <td>7.000</td>\n      <td>412.667</td>\n      <td>464142.000000</td>\n      <td>696.307692</td>\n      <td>96</td>\n      <td>6.0</td>\n      <td>0.06</td>\n      <td>5.76</td>\n    </tr>\n  </tbody>\n</table>\n<p>553 rows × 15 columns</p>\n</div>"
     },
     "execution_count": 680,
     "metadata": {},
     "output_type": "execute_result"
    }
   ],
   "source": [
    "df = pd.read_csv('../shiba_v1.csv')\n",
    "\n",
    "df = df.set_index(pd.DatetimeIndex(df['Date'].values))\n",
    "df"
   ],
   "metadata": {
    "collapsed": false,
    "pycharm": {
     "name": "#%%\n"
    }
   }
  },
  {
   "cell_type": "code",
   "execution_count": 681,
   "outputs": [
    {
     "data": {
      "text/plain": "<AxesSubplot:>"
     },
     "execution_count": 681,
     "metadata": {},
     "output_type": "execute_result"
    },
    {
     "data": {
      "text/plain": "<Figure size 1152x144 with 1 Axes>",
      "image/png": "[encoded data removed]"
     },
     "metadata": {},
     "output_type": "display_data"
    }
   ],
   "source": [
    "df = df.resample('D').ffill()\n",
    "df.Close.plot(figsize=(16, 2), color=\"red\", label='Close price', lw=2, alpha =.7)"
   ],
   "metadata": {
    "collapsed": false,
    "pycharm": {
     "name": "#%%\n"
    }
   }
  },
  {
   "cell_type": "code",
   "execution_count": 682,
   "outputs": [],
   "source": [
    "future_days = 1\n",
    "columnName = str(future_days)+'_day_price_forecast'"
   ],
   "metadata": {
    "collapsed": false,
    "pycharm": {
     "name": "#%%\n"
    }
   }
  },
  {
   "cell_type": "code",
   "execution_count": 683,
   "outputs": [
    {
     "data": {
      "text/plain": "               Close  1_day_price_forecast\n2020-08-01  0.000000              0.000000\n2020-08-02  0.000000              0.000000\n2020-08-03  0.000000              0.000000\n2020-08-04  0.000000              0.000000\n2020-08-05  0.000000              0.000000\n...              ...                   ...\n2022-01-31  0.000021              0.000022\n2022-02-01  0.000022              0.000021\n2022-02-02  0.000021              0.000021\n2022-02-03  0.000021              0.000021\n2022-02-04  0.000021                   NaN\n\n[553 rows x 2 columns]",
      "text/html": "<div>\n<style scoped>\n    .dataframe tbody tr th:only-of-type {\n        vertical-align: middle;\n    }\n\n    .dataframe tbody tr th {\n        vertical-align: top;\n    }\n\n    .dataframe thead th {\n        text-align: right;\n    }\n</style>\n<table border=\"1\" class=\"dataframe\">\n  <thead>\n    <tr style=\"text-align: right;\">\n      <th></th>\n      <th>Close</th>\n      <th>1_day_price_forecast</th>\n    </tr>\n  </thead>\n  <tbody>\n    <tr>\n      <th>2020-08-01</th>\n      <td>0.000000</td>\n      <td>0.000000</td>\n    </tr>\n    <tr>\n      <th>2020-08-02</th>\n      <td>0.000000</td>\n      <td>0.000000</td>\n    </tr>\n    <tr>\n      <th>2020-08-03</th>\n      <td>0.000000</td>\n      <td>0.000000</td>\n    </tr>\n    <tr>\n      <th>2020-08-04</th>\n      <td>0.000000</td>\n      <td>0.000000</td>\n    </tr>\n    <tr>\n      <th>2020-08-05</th>\n      <td>0.000000</td>\n      <td>0.000000</td>\n    </tr>\n    <tr>\n      <th>...</th>\n      <td>...</td>\n      <td>...</td>\n    </tr>\n    <tr>\n      <th>2022-01-31</th>\n      <td>0.000021</td>\n      <td>0.000022</td>\n    </tr>\n    <tr>\n      <th>2022-02-01</th>\n      <td>0.000022</td>\n      <td>0.000021</td>\n    </tr>\n    <tr>\n      <th>2022-02-02</th>\n      <td>0.000021</td>\n      <td>0.000021</td>\n    </tr>\n    <tr>\n      <th>2022-02-03</th>\n      <td>0.000021</td>\n      <td>0.000021</td>\n    </tr>\n    <tr>\n      <th>2022-02-04</th>\n      <td>0.000021</td>\n      <td>NaN</td>\n    </tr>\n  </tbody>\n</table>\n<p>553 rows × 2 columns</p>\n</div>"
     },
     "execution_count": 683,
     "metadata": {},
     "output_type": "execute_result"
    }
   ],
   "source": [
    "#added new column\n",
    "df[columnName] = df[['Close']].shift(-future_days)\n",
    "\n",
    "df[['Close', columnName]]"
   ],
   "metadata": {
    "collapsed": false,
    "pycharm": {
     "name": "#%%\n"
    }
   }
  },
  {
   "cell_type": "code",
   "execution_count": 684,
   "outputs": [
    {
     "name": "stdout",
     "output_type": "stream",
     "text": [
      "<class 'pandas.core.frame.DataFrame'>\n",
      "DatetimeIndex: 553 entries, 2020-08-01 to 2022-02-04\n",
      "Freq: D\n",
      "Data columns (total 16 columns):\n",
      " #   Column                       Non-Null Count  Dtype  \n",
      "---  ------                       --------------  -----  \n",
      " 0   Date                         553 non-null    object \n",
      " 1   Open                         553 non-null    float64\n",
      " 2   High                         553 non-null    float64\n",
      " 3   Low                          553 non-null    float64\n",
      " 4   Close                        553 non-null    float64\n",
      " 5   Adj Close                    553 non-null    float64\n",
      " 6   Volume                       553 non-null    int64  \n",
      " 7   reddit_average_posts_48h     553 non-null    float64\n",
      " 8   reddit_average_comments_48h  553 non-null    float64\n",
      " 9   reddit_subscribers           553 non-null    float64\n",
      " 10  reddit_accounts_active_48h   553 non-null    float64\n",
      " 11  shiba inu coin_unscaled      553 non-null    int64  \n",
      " 12  shiba inu coin_monthly       553 non-null    float64\n",
      " 13  scale                        553 non-null    float64\n",
      " 14  shiba inu coin               553 non-null    float64\n",
      " 15  1_day_price_forecast         552 non-null    float64\n",
      "dtypes: float64(13), int64(2), object(1)\n",
      "memory usage: 73.4+ KB\n"
     ]
    }
   ],
   "source": [
    "df.info()"
   ],
   "metadata": {
    "collapsed": false,
    "pycharm": {
     "name": "#%%\n"
    }
   }
  },
  {
   "cell_type": "code",
   "execution_count": 685,
   "outputs": [
    {
     "name": "stdout",
     "output_type": "stream",
     "text": [
      "(553, 16)\n",
      "[[0.00000000e+00 0.00000000e+00 1.60478900e+06 ... 0.00000000e+00\n",
      "  0.00000000e+00 0.00000000e+00]\n",
      " [0.00000000e+00 0.00000000e+00 1.93098000e+05 ... 0.00000000e+00\n",
      "  0.00000000e+00 0.00000000e+00]\n",
      " [0.00000000e+00 0.00000000e+00 1.29225000e+05 ... 0.00000000e+00\n",
      "  0.00000000e+00 0.00000000e+00]\n",
      " ...\n",
      " [2.20000000e-05 2.10000000e-05 5.19254046e+08 ... 6.00000000e+00\n",
      "  6.00000000e-02 5.64000000e+00]\n",
      " [2.20000000e-05 2.00000000e-05 4.84518640e+08 ... 6.00000000e+00\n",
      "  6.00000000e-02 6.00000000e+00]\n",
      " [2.10000000e-05 2.00000000e-05 4.21850042e+08 ... 6.00000000e+00\n",
      "  6.00000000e-02 4.56000000e+00]]\n"
     ]
    }
   ],
   "source": [
    "X = np.array(df[[\"High\", \"Low\", \"Volume\", \"Open\",\"Close\", \"reddit_average_posts_48h\",\n",
    "                \"reddit_average_comments_48h\", \"reddit_subscribers\", \"reddit_accounts_active_48h\",\n",
    "                'shiba inu coin_unscaled', 'shiba inu coin_monthly', 'scale', 'shiba inu coin']])\n",
    "\n",
    "\n",
    "print(df.shape)\n",
    "\n",
    "X = X[:df.shape[0] - future_days]\n",
    "print(X)"
   ],
   "metadata": {
    "collapsed": false,
    "pycharm": {
     "name": "#%%\n"
    }
   }
  },
  {
   "cell_type": "code",
   "execution_count": 686,
   "outputs": [
    {
     "name": "stdout",
     "output_type": "stream",
     "text": [
      "[0.0e+00 0.0e+00 0.0e+00 0.0e+00 0.0e+00 0.0e+00 0.0e+00 0.0e+00 0.0e+00\n",
      " 0.0e+00 0.0e+00 0.0e+00 0.0e+00 0.0e+00 0.0e+00 0.0e+00 0.0e+00 0.0e+00\n",
      " 0.0e+00 0.0e+00 0.0e+00 0.0e+00 0.0e+00 0.0e+00 0.0e+00 0.0e+00 0.0e+00\n",
      " 0.0e+00 0.0e+00 0.0e+00 0.0e+00 0.0e+00 0.0e+00 0.0e+00 0.0e+00 0.0e+00\n",
      " 0.0e+00 0.0e+00 0.0e+00 0.0e+00 0.0e+00 0.0e+00 0.0e+00 0.0e+00 0.0e+00\n",
      " 0.0e+00 0.0e+00 0.0e+00 0.0e+00 0.0e+00 0.0e+00 0.0e+00 0.0e+00 0.0e+00\n",
      " 0.0e+00 0.0e+00 0.0e+00 0.0e+00 0.0e+00 0.0e+00 0.0e+00 0.0e+00 0.0e+00\n",
      " 0.0e+00 0.0e+00 0.0e+00 0.0e+00 0.0e+00 0.0e+00 0.0e+00 0.0e+00 0.0e+00\n",
      " 0.0e+00 0.0e+00 0.0e+00 0.0e+00 0.0e+00 0.0e+00 0.0e+00 0.0e+00 0.0e+00\n",
      " 0.0e+00 0.0e+00 0.0e+00 0.0e+00 0.0e+00 0.0e+00 0.0e+00 0.0e+00 0.0e+00\n",
      " 0.0e+00 0.0e+00 0.0e+00 0.0e+00 0.0e+00 0.0e+00 0.0e+00 0.0e+00 0.0e+00\n",
      " 0.0e+00 0.0e+00 0.0e+00 0.0e+00 0.0e+00 0.0e+00 0.0e+00 0.0e+00 0.0e+00\n",
      " 0.0e+00 0.0e+00 0.0e+00 0.0e+00 0.0e+00 0.0e+00 0.0e+00 0.0e+00 0.0e+00\n",
      " 0.0e+00 0.0e+00 0.0e+00 0.0e+00 0.0e+00 0.0e+00 0.0e+00 0.0e+00 0.0e+00\n",
      " 0.0e+00 0.0e+00 0.0e+00 0.0e+00 0.0e+00 0.0e+00 0.0e+00 0.0e+00 0.0e+00\n",
      " 0.0e+00 0.0e+00 0.0e+00 0.0e+00 0.0e+00 0.0e+00 0.0e+00 0.0e+00 0.0e+00\n",
      " 0.0e+00 0.0e+00 0.0e+00 0.0e+00 0.0e+00 0.0e+00 0.0e+00 0.0e+00 0.0e+00\n",
      " 0.0e+00 0.0e+00 0.0e+00 0.0e+00 0.0e+00 0.0e+00 0.0e+00 0.0e+00 0.0e+00\n",
      " 0.0e+00 0.0e+00 0.0e+00 0.0e+00 0.0e+00 0.0e+00 0.0e+00 0.0e+00 0.0e+00\n",
      " 0.0e+00 0.0e+00 0.0e+00 0.0e+00 0.0e+00 0.0e+00 0.0e+00 0.0e+00 0.0e+00\n",
      " 0.0e+00 0.0e+00 0.0e+00 0.0e+00 0.0e+00 0.0e+00 0.0e+00 0.0e+00 0.0e+00\n",
      " 0.0e+00 0.0e+00 0.0e+00 0.0e+00 0.0e+00 0.0e+00 0.0e+00 0.0e+00 0.0e+00\n",
      " 0.0e+00 0.0e+00 0.0e+00 0.0e+00 0.0e+00 0.0e+00 0.0e+00 0.0e+00 0.0e+00\n",
      " 0.0e+00 0.0e+00 0.0e+00 0.0e+00 0.0e+00 0.0e+00 0.0e+00 0.0e+00 0.0e+00\n",
      " 0.0e+00 0.0e+00 0.0e+00 0.0e+00 0.0e+00 0.0e+00 0.0e+00 0.0e+00 0.0e+00\n",
      " 0.0e+00 0.0e+00 0.0e+00 0.0e+00 0.0e+00 0.0e+00 0.0e+00 0.0e+00 0.0e+00\n",
      " 0.0e+00 0.0e+00 0.0e+00 0.0e+00 0.0e+00 0.0e+00 0.0e+00 0.0e+00 0.0e+00\n",
      " 0.0e+00 0.0e+00 0.0e+00 0.0e+00 0.0e+00 0.0e+00 0.0e+00 0.0e+00 0.0e+00\n",
      " 0.0e+00 0.0e+00 0.0e+00 0.0e+00 0.0e+00 1.0e-06 2.0e-06 2.0e-06 4.0e-06\n",
      " 2.0e-06 1.0e-06 2.0e-06 1.0e-06 1.0e-06 1.0e-06 1.0e-06 1.0e-06 1.0e-06\n",
      " 1.0e-06 2.0e-06 2.0e-06 2.0e-06 2.0e-06 2.0e-06 2.0e-06 2.0e-06 3.0e-06\n",
      " 1.6e-05 1.6e-05 3.5e-05 3.1e-05 1.8e-05 2.1e-05 1.9e-05 1.6e-05 1.8e-05\n",
      " 1.6e-05 1.6e-05 9.0e-06 1.0e-05 8.0e-06 8.0e-06 8.0e-06 1.1e-05 9.0e-06\n",
      " 1.0e-05 9.0e-06 8.0e-06 8.0e-06 8.0e-06 9.0e-06 9.0e-06 9.0e-06 1.0e-05\n",
      " 9.0e-06 8.0e-06 9.0e-06 8.0e-06 7.0e-06 7.0e-06 7.0e-06 6.0e-06 6.0e-06\n",
      " 7.0e-06 7.0e-06 7.0e-06 8.0e-06 8.0e-06 7.0e-06 8.0e-06 8.0e-06 6.0e-06\n",
      " 6.0e-06 7.0e-06 7.0e-06 7.0e-06 7.0e-06 8.0e-06 8.0e-06 9.0e-06 9.0e-06\n",
      " 8.0e-06 8.0e-06 9.0e-06 9.0e-06 8.0e-06 9.0e-06 9.0e-06 8.0e-06 8.0e-06\n",
      " 8.0e-06 8.0e-06 8.0e-06 7.0e-06 7.0e-06 7.0e-06 7.0e-06 7.0e-06 7.0e-06\n",
      " 6.0e-06 6.0e-06 7.0e-06 6.0e-06 6.0e-06 6.0e-06 6.0e-06 6.0e-06 6.0e-06\n",
      " 6.0e-06 6.0e-06 6.0e-06 6.0e-06 6.0e-06 6.0e-06 6.0e-06 6.0e-06 6.0e-06\n",
      " 6.0e-06 8.0e-06 7.0e-06 8.0e-06 8.0e-06 8.0e-06 8.0e-06 8.0e-06 8.0e-06\n",
      " 9.0e-06 9.0e-06 8.0e-06 8.0e-06 8.0e-06 8.0e-06 8.0e-06 8.0e-06 8.0e-06\n",
      " 7.0e-06 8.0e-06 7.0e-06 7.0e-06 7.0e-06 7.0e-06 7.0e-06 7.0e-06 7.0e-06\n",
      " 7.0e-06 7.0e-06 7.0e-06 8.0e-06 7.0e-06 6.0e-06 7.0e-06 7.0e-06 7.0e-06\n",
      " 7.0e-06 7.0e-06 7.0e-06 7.0e-06 7.0e-06 9.0e-06 8.0e-06 8.0e-06 8.0e-06\n",
      " 7.0e-06 7.0e-06 7.0e-06 8.0e-06 7.0e-06 7.0e-06 7.0e-06 7.0e-06 7.0e-06\n",
      " 7.0e-06 7.0e-06 8.0e-06 8.0e-06 9.0e-06 1.3e-05 1.7e-05 2.8e-05 2.3e-05\n",
      " 2.7e-05 2.7e-05 2.6e-05 3.1e-05 2.9e-05 2.9e-05 2.7e-05 2.5e-05 2.6e-05\n",
      " 2.8e-05 2.9e-05 2.8e-05 2.9e-05 2.7e-05 2.8e-05 3.4e-05 3.6e-05 4.2e-05\n",
      " 4.8e-05 8.0e-05 6.8e-05 7.5e-05 6.5e-05 6.7e-05 7.2e-05 6.9e-05 5.5e-05\n",
      " 4.9e-05 6.2e-05 5.9e-05 5.7e-05 5.5e-05 5.5e-05 5.0e-05 5.7e-05 5.2e-05\n",
      " 5.2e-05 5.3e-05 5.3e-05 4.8e-05 4.8e-05 4.2e-05 4.9e-05 4.8e-05 4.4e-05\n",
      " 4.3e-05 4.2e-05 4.0e-05 4.0e-05 3.8e-05 3.9e-05 3.9e-05 4.6e-05 4.7e-05\n",
      " 4.4e-05 4.2e-05 4.0e-05 3.7e-05 3.6e-05 3.7e-05 3.6e-05 3.7e-05 3.5e-05\n",
      " 3.4e-05 3.4e-05 3.7e-05 3.3e-05 3.4e-05 3.4e-05 3.3e-05 3.1e-05 3.1e-05\n",
      " 3.1e-05 3.1e-05 3.3e-05 3.5e-05 3.9e-05 3.6e-05 3.8e-05 3.8e-05 3.9e-05\n",
      " 3.5e-05 3.4e-05 3.4e-05 3.3e-05 3.4e-05 3.4e-05 3.3e-05 3.2e-05 3.0e-05\n",
      " 3.1e-05 2.9e-05 2.8e-05 2.8e-05 2.7e-05 2.8e-05 3.2e-05 3.0e-05 3.1e-05\n",
      " 3.1e-05 3.1e-05 2.9e-05 2.8e-05 2.7e-05 2.6e-05 2.2e-05 2.1e-05 2.2e-05\n",
      " 2.1e-05 2.1e-05 2.1e-05 2.1e-05 2.1e-05 2.2e-05 2.1e-05 2.1e-05 2.2e-05\n",
      " 2.1e-05 2.1e-05 2.1e-05]\n"
     ]
    }
   ],
   "source": [
    "y = np.array(df[columnName])\n",
    "y = y[:-future_days]\n",
    "print(y)"
   ],
   "metadata": {
    "collapsed": false,
    "pycharm": {
     "name": "#%%\n"
    }
   }
  },
  {
   "cell_type": "code",
   "execution_count": 687,
   "outputs": [],
   "source": [
    "from sklearn.model_selection import train_test_split\n",
    "\n",
    "x_train, x_test, y_train, y_test = train_test_split(X,y, test_size = 0.2, shuffle=False)"
   ],
   "metadata": {
    "collapsed": false,
    "pycharm": {
     "name": "#%%\n"
    }
   }
  },
  {
   "cell_type": "code",
   "execution_count": 688,
   "outputs": [
    {
     "name": "stdout",
     "output_type": "stream",
     "text": [
      "Scaled X_l:\n",
      "[[-0.60471228 -0.6424204  -0.28349436 ... -0.47071667 -0.47071667\n",
      "  -0.37394735]\n",
      " [-0.60471228 -0.6424204  -0.28422527 ... -0.47071667 -0.47071667\n",
      "  -0.37394735]\n",
      " [-0.60471228 -0.6424204  -0.28425834 ... -0.47071667 -0.47071667\n",
      "  -0.37394735]\n",
      " ...\n",
      " [ 4.08712741  4.88167922  1.31150996 ...  1.93301252  1.93301252\n",
      "   0.15417535]\n",
      " [ 3.93577774  4.68438995  1.12763528 ...  1.93301252  1.93301252\n",
      "   0.15417535]\n",
      " [ 3.48172874  3.89523286  1.84947102 ...  1.93301252  1.93301252\n",
      "   0.0729257 ]]\n",
      "Scaled y_p:\n",
      "[[-0.62084482]\n",
      " [-0.62084482]\n",
      " [-0.62084482]\n",
      " [-0.62084482]\n",
      " [-0.62084482]\n",
      " [-0.62084482]\n",
      " [-0.62084482]\n",
      " [-0.62084482]\n",
      " [-0.62084482]\n",
      " [-0.62084482]\n",
      " [-0.62084482]\n",
      " [-0.62084482]\n",
      " [-0.62084482]\n",
      " [-0.62084482]\n",
      " [-0.62084482]\n",
      " [-0.62084482]\n",
      " [-0.62084482]\n",
      " [-0.62084482]\n",
      " [-0.62084482]\n",
      " [-0.62084482]\n",
      " [-0.62084482]\n",
      " [-0.62084482]\n",
      " [-0.62084482]\n",
      " [-0.62084482]\n",
      " [-0.62084482]\n",
      " [-0.62084482]\n",
      " [-0.62084482]\n",
      " [-0.62084482]\n",
      " [-0.62084482]\n",
      " [-0.62084482]\n",
      " [-0.62084482]\n",
      " [-0.62084482]\n",
      " [-0.62084482]\n",
      " [-0.62084482]\n",
      " [-0.62084482]\n",
      " [-0.62084482]\n",
      " [-0.62084482]\n",
      " [-0.62084482]\n",
      " [-0.62084482]\n",
      " [-0.62084482]\n",
      " [-0.62084482]\n",
      " [-0.62084482]\n",
      " [-0.62084482]\n",
      " [-0.62084482]\n",
      " [-0.62084482]\n",
      " [-0.62084482]\n",
      " [-0.62084482]\n",
      " [-0.62084482]\n",
      " [-0.62084482]\n",
      " [-0.62084482]\n",
      " [-0.62084482]\n",
      " [-0.62084482]\n",
      " [-0.62084482]\n",
      " [-0.62084482]\n",
      " [-0.62084482]\n",
      " [-0.62084482]\n",
      " [-0.62084482]\n",
      " [-0.62084482]\n",
      " [-0.62084482]\n",
      " [-0.62084482]\n",
      " [-0.62084482]\n",
      " [-0.62084482]\n",
      " [-0.62084482]\n",
      " [-0.62084482]\n",
      " [-0.62084482]\n",
      " [-0.62084482]\n",
      " [-0.62084482]\n",
      " [-0.62084482]\n",
      " [-0.62084482]\n",
      " [-0.62084482]\n",
      " [-0.62084482]\n",
      " [-0.62084482]\n",
      " [-0.62084482]\n",
      " [-0.62084482]\n",
      " [-0.62084482]\n",
      " [-0.62084482]\n",
      " [-0.62084482]\n",
      " [-0.62084482]\n",
      " [-0.62084482]\n",
      " [-0.62084482]\n",
      " [-0.62084482]\n",
      " [-0.62084482]\n",
      " [-0.62084482]\n",
      " [-0.62084482]\n",
      " [-0.62084482]\n",
      " [-0.62084482]\n",
      " [-0.62084482]\n",
      " [-0.62084482]\n",
      " [-0.62084482]\n",
      " [-0.62084482]\n",
      " [-0.62084482]\n",
      " [-0.62084482]\n",
      " [-0.62084482]\n",
      " [-0.62084482]\n",
      " [-0.62084482]\n",
      " [-0.62084482]\n",
      " [-0.62084482]\n",
      " [-0.62084482]\n",
      " [-0.62084482]\n",
      " [-0.62084482]\n",
      " [-0.62084482]\n",
      " [-0.62084482]\n",
      " [-0.62084482]\n",
      " [-0.62084482]\n",
      " [-0.62084482]\n",
      " [-0.62084482]\n",
      " [-0.62084482]\n",
      " [-0.62084482]\n",
      " [-0.62084482]\n",
      " [-0.62084482]\n",
      " [-0.62084482]\n",
      " [-0.62084482]\n",
      " [-0.62084482]\n",
      " [-0.62084482]\n",
      " [-0.62084482]\n",
      " [-0.62084482]\n",
      " [-0.62084482]\n",
      " [-0.62084482]\n",
      " [-0.62084482]\n",
      " [-0.62084482]\n",
      " [-0.62084482]\n",
      " [-0.62084482]\n",
      " [-0.62084482]\n",
      " [-0.62084482]\n",
      " [-0.62084482]\n",
      " [-0.62084482]\n",
      " [-0.62084482]\n",
      " [-0.62084482]\n",
      " [-0.62084482]\n",
      " [-0.62084482]\n",
      " [-0.62084482]\n",
      " [-0.62084482]\n",
      " [-0.62084482]\n",
      " [-0.62084482]\n",
      " [-0.62084482]\n",
      " [-0.62084482]\n",
      " [-0.62084482]\n",
      " [-0.62084482]\n",
      " [-0.62084482]\n",
      " [-0.62084482]\n",
      " [-0.62084482]\n",
      " [-0.62084482]\n",
      " [-0.62084482]\n",
      " [-0.62084482]\n",
      " [-0.62084482]\n",
      " [-0.62084482]\n",
      " [-0.62084482]\n",
      " [-0.62084482]\n",
      " [-0.62084482]\n",
      " [-0.62084482]\n",
      " [-0.62084482]\n",
      " [-0.62084482]\n",
      " [-0.62084482]\n",
      " [-0.62084482]\n",
      " [-0.62084482]\n",
      " [-0.62084482]\n",
      " [-0.62084482]\n",
      " [-0.62084482]\n",
      " [-0.62084482]\n",
      " [-0.62084482]\n",
      " [-0.62084482]\n",
      " [-0.62084482]\n",
      " [-0.62084482]\n",
      " [-0.62084482]\n",
      " [-0.62084482]\n",
      " [-0.62084482]\n",
      " [-0.62084482]\n",
      " [-0.62084482]\n",
      " [-0.62084482]\n",
      " [-0.62084482]\n",
      " [-0.62084482]\n",
      " [-0.62084482]\n",
      " [-0.62084482]\n",
      " [-0.62084482]\n",
      " [-0.62084482]\n",
      " [-0.62084482]\n",
      " [-0.62084482]\n",
      " [-0.62084482]\n",
      " [-0.62084482]\n",
      " [-0.62084482]\n",
      " [-0.62084482]\n",
      " [-0.62084482]\n",
      " [-0.62084482]\n",
      " [-0.62084482]\n",
      " [-0.62084482]\n",
      " [-0.62084482]\n",
      " [-0.62084482]\n",
      " [-0.62084482]\n",
      " [-0.62084482]\n",
      " [-0.62084482]\n",
      " [-0.62084482]\n",
      " [-0.62084482]\n",
      " [-0.62084482]\n",
      " [-0.62084482]\n",
      " [-0.62084482]\n",
      " [-0.62084482]\n",
      " [-0.62084482]\n",
      " [-0.62084482]\n",
      " [-0.62084482]\n",
      " [-0.62084482]\n",
      " [-0.62084482]\n",
      " [-0.62084482]\n",
      " [-0.62084482]\n",
      " [-0.62084482]\n",
      " [-0.62084482]\n",
      " [-0.62084482]\n",
      " [-0.62084482]\n",
      " [-0.62084482]\n",
      " [-0.62084482]\n",
      " [-0.62084482]\n",
      " [-0.62084482]\n",
      " [-0.62084482]\n",
      " [-0.62084482]\n",
      " [-0.62084482]\n",
      " [-0.62084482]\n",
      " [-0.62084482]\n",
      " [-0.62084482]\n",
      " [-0.62084482]\n",
      " [-0.62084482]\n",
      " [-0.62084482]\n",
      " [-0.62084482]\n",
      " [-0.62084482]\n",
      " [-0.62084482]\n",
      " [-0.62084482]\n",
      " [-0.62084482]\n",
      " [-0.62084482]\n",
      " [-0.62084482]\n",
      " [-0.62084482]\n",
      " [-0.62084482]\n",
      " [-0.62084482]\n",
      " [-0.62084482]\n",
      " [-0.62084482]\n",
      " [-0.62084482]\n",
      " [-0.62084482]\n",
      " [-0.62084482]\n",
      " [-0.62084482]\n",
      " [-0.62084482]\n",
      " [-0.62084482]\n",
      " [-0.62084482]\n",
      " [-0.62084482]\n",
      " [-0.62084482]\n",
      " [-0.62084482]\n",
      " [-0.62084482]\n",
      " [-0.62084482]\n",
      " [-0.62084482]\n",
      " [-0.62084482]\n",
      " [-0.62084482]\n",
      " [-0.62084482]\n",
      " [-0.62084482]\n",
      " [-0.62084482]\n",
      " [-0.62084482]\n",
      " [-0.62084482]\n",
      " [-0.62084482]\n",
      " [-0.62084482]\n",
      " [-0.62084482]\n",
      " [-0.62084482]\n",
      " [-0.62084482]\n",
      " [-0.45225334]\n",
      " [-0.28366186]\n",
      " [-0.28366186]\n",
      " [ 0.05352111]\n",
      " [-0.28366186]\n",
      " [-0.45225334]\n",
      " [-0.28366186]\n",
      " [-0.45225334]\n",
      " [-0.45225334]\n",
      " [-0.45225334]\n",
      " [-0.45225334]\n",
      " [-0.45225334]\n",
      " [-0.45225334]\n",
      " [-0.45225334]\n",
      " [-0.28366186]\n",
      " [-0.28366186]\n",
      " [-0.28366186]\n",
      " [-0.28366186]\n",
      " [-0.28366186]\n",
      " [-0.28366186]\n",
      " [-0.28366186]\n",
      " [-0.11507038]\n",
      " [ 2.07661889]\n",
      " [ 2.07661889]\n",
      " [ 5.27985706]\n",
      " [ 4.60549113]\n",
      " [ 2.41380186]\n",
      " [ 2.91957631]\n",
      " [ 2.58239334]\n",
      " [ 2.07661889]\n",
      " [ 2.41380186]\n",
      " [ 2.07661889]\n",
      " [ 2.07661889]\n",
      " [ 0.89647852]\n",
      " [ 1.06507   ]\n",
      " [ 0.72788704]\n",
      " [ 0.72788704]\n",
      " [ 0.72788704]\n",
      " [ 1.23366148]\n",
      " [ 0.89647852]\n",
      " [ 1.06507   ]\n",
      " [ 0.89647852]\n",
      " [ 0.72788704]\n",
      " [ 0.72788704]\n",
      " [ 0.72788704]\n",
      " [ 0.89647852]\n",
      " [ 0.89647852]\n",
      " [ 0.89647852]\n",
      " [ 1.06507   ]\n",
      " [ 0.89647852]\n",
      " [ 0.72788704]\n",
      " [ 0.89647852]\n",
      " [ 0.72788704]\n",
      " [ 0.55929555]\n",
      " [ 0.55929555]\n",
      " [ 0.55929555]\n",
      " [ 0.39070407]\n",
      " [ 0.39070407]\n",
      " [ 0.55929555]\n",
      " [ 0.55929555]\n",
      " [ 0.55929555]\n",
      " [ 0.72788704]\n",
      " [ 0.72788704]\n",
      " [ 0.55929555]\n",
      " [ 0.72788704]\n",
      " [ 0.72788704]\n",
      " [ 0.39070407]\n",
      " [ 0.39070407]\n",
      " [ 0.55929555]\n",
      " [ 0.55929555]\n",
      " [ 0.55929555]\n",
      " [ 0.55929555]\n",
      " [ 0.72788704]\n",
      " [ 0.72788704]\n",
      " [ 0.89647852]\n",
      " [ 0.89647852]\n",
      " [ 0.72788704]\n",
      " [ 0.72788704]\n",
      " [ 0.89647852]\n",
      " [ 0.89647852]\n",
      " [ 0.72788704]\n",
      " [ 0.89647852]\n",
      " [ 0.89647852]\n",
      " [ 0.72788704]\n",
      " [ 0.72788704]\n",
      " [ 0.72788704]\n",
      " [ 0.72788704]\n",
      " [ 0.72788704]\n",
      " [ 0.55929555]\n",
      " [ 0.55929555]\n",
      " [ 0.55929555]\n",
      " [ 0.55929555]\n",
      " [ 0.55929555]\n",
      " [ 0.55929555]\n",
      " [ 0.39070407]\n",
      " [ 0.39070407]\n",
      " [ 0.55929555]\n",
      " [ 0.39070407]\n",
      " [ 0.39070407]\n",
      " [ 0.39070407]\n",
      " [ 0.39070407]\n",
      " [ 0.39070407]\n",
      " [ 0.39070407]\n",
      " [ 0.39070407]\n",
      " [ 0.39070407]\n",
      " [ 0.39070407]\n",
      " [ 0.39070407]\n",
      " [ 0.39070407]\n",
      " [ 0.39070407]\n",
      " [ 0.39070407]\n",
      " [ 0.39070407]\n",
      " [ 0.39070407]\n",
      " [ 0.39070407]\n",
      " [ 0.72788704]\n",
      " [ 0.55929555]\n",
      " [ 0.72788704]\n",
      " [ 0.72788704]\n",
      " [ 0.72788704]\n",
      " [ 0.72788704]\n",
      " [ 0.72788704]\n",
      " [ 0.72788704]\n",
      " [ 0.89647852]\n",
      " [ 0.89647852]\n",
      " [ 0.72788704]\n",
      " [ 0.72788704]\n",
      " [ 0.72788704]\n",
      " [ 0.72788704]\n",
      " [ 0.72788704]\n",
      " [ 0.72788704]\n",
      " [ 0.72788704]\n",
      " [ 0.55929555]\n",
      " [ 0.72788704]\n",
      " [ 0.55929555]\n",
      " [ 0.55929555]\n",
      " [ 0.55929555]\n",
      " [ 0.55929555]\n",
      " [ 0.55929555]\n",
      " [ 0.55929555]\n",
      " [ 0.55929555]\n",
      " [ 0.55929555]\n",
      " [ 0.55929555]\n",
      " [ 0.55929555]\n",
      " [ 0.72788704]\n",
      " [ 0.55929555]\n",
      " [ 0.39070407]\n",
      " [ 0.55929555]\n",
      " [ 0.55929555]\n",
      " [ 0.55929555]\n",
      " [ 0.55929555]\n",
      " [ 0.55929555]\n",
      " [ 0.55929555]\n",
      " [ 0.55929555]\n",
      " [ 0.55929555]\n",
      " [ 0.89647852]\n",
      " [ 0.72788704]\n",
      " [ 0.72788704]\n",
      " [ 0.72788704]\n",
      " [ 0.55929555]\n",
      " [ 0.55929555]\n",
      " [ 0.55929555]\n",
      " [ 0.72788704]\n",
      " [ 0.55929555]\n",
      " [ 0.55929555]\n",
      " [ 0.55929555]\n",
      " [ 0.55929555]\n",
      " [ 0.55929555]\n",
      " [ 0.55929555]\n",
      " [ 0.55929555]\n",
      " [ 0.72788704]\n",
      " [ 0.72788704]\n",
      " [ 0.89647852]\n",
      " [ 1.57084445]\n",
      " [ 2.24521038]\n",
      " [ 4.09971668]\n",
      " [ 3.25675927]\n",
      " [ 3.9311252 ]\n",
      " [ 3.9311252 ]\n",
      " [ 3.76253372]\n",
      " [ 4.60549113]\n",
      " [ 4.26830817]\n",
      " [ 4.26830817]\n",
      " [ 3.9311252 ]\n",
      " [ 3.59394224]\n",
      " [ 3.76253372]]\n"
     ]
    }
   ],
   "source": [
    "from sklearn.preprocessing import StandardScaler\n",
    "\n",
    "\n",
    "StdS_X = StandardScaler()\n",
    "StdS_y = StandardScaler()\n",
    "X_l = StdS_X.fit_transform(x_train)\n",
    "y_p = StdS_y.fit_transform(y_train.reshape(-1,1))\n",
    "\n",
    "print(\"Scaled X_l:\")\n",
    "print(X_l)\n",
    "print(\"Scaled y_p:\")\n",
    "print(y_p)"
   ],
   "metadata": {
    "collapsed": false,
    "pycharm": {
     "name": "#%%\n"
    }
   }
  },
  {
   "cell_type": "code",
   "execution_count": 689,
   "outputs": [
    {
     "name": "stdout",
     "output_type": "stream",
     "text": [
      "Scaled X_l_test:\n",
      "[[-0.91553238 -0.94564791 -0.2722563  ...  0.16073665  0.16073665\n",
      "  -0.60324702]\n",
      " [-0.78021401 -1.03582567 -0.19060441 ... -0.05319342 -0.05319342\n",
      "  -0.6188526 ]\n",
      " [-0.71255483 -0.85547014  0.11340365 ... -0.05319342 -0.05319342\n",
      "  -0.56891475]\n",
      " ...\n",
      " [-1.2538283  -1.30635896 -0.52682951 ... -0.65219762 -0.65219762\n",
      "  -0.39163537]\n",
      " [-1.2538283  -1.39653673 -0.5333701  ... -0.65219762 -0.65219762\n",
      "  -0.36916333]\n",
      " [-1.32148748 -1.39653673 -0.54517045 ... -0.65219762 -0.65219762\n",
      "  -0.45905147]]\n",
      "Scaled y_p_test:\n",
      "[[-0.75773637]\n",
      " [-0.6811346 ]\n",
      " [-0.75773637]\n",
      " [-0.6811346 ]\n",
      " [-0.83433813]\n",
      " [-0.75773637]\n",
      " [-0.29812578]\n",
      " [-0.14492226]\n",
      " [ 0.31468833]\n",
      " [ 0.77429891]\n",
      " [ 3.22555536]\n",
      " [ 2.30633419]\n",
      " [ 2.84254654]\n",
      " [ 2.0765289 ]\n",
      " [ 2.22973242]\n",
      " [ 2.61274124]\n",
      " [ 2.38293595]\n",
      " [ 1.31051126]\n",
      " [ 0.85090067]\n",
      " [ 1.84672361]\n",
      " [ 1.61691831]\n",
      " [ 1.46371479]\n",
      " [ 1.31051126]\n",
      " [ 1.31051126]\n",
      " [ 0.92750244]\n",
      " [ 1.46371479]\n",
      " [ 1.08070597]\n",
      " [ 1.08070597]\n",
      " [ 1.15730773]\n",
      " [ 1.15730773]\n",
      " [ 0.77429891]\n",
      " [ 0.77429891]\n",
      " [ 0.31468833]\n",
      " [ 0.85090067]\n",
      " [ 0.77429891]\n",
      " [ 0.46789186]\n",
      " [ 0.39129009]\n",
      " [ 0.31468833]\n",
      " [ 0.1614848 ]\n",
      " [ 0.1614848 ]\n",
      " [ 0.00828127]\n",
      " [ 0.08488304]\n",
      " [ 0.08488304]\n",
      " [ 0.62109538]\n",
      " [ 0.69769715]\n",
      " [ 0.46789186]\n",
      " [ 0.31468833]\n",
      " [ 0.1614848 ]\n",
      " [-0.06832049]\n",
      " [-0.14492226]\n",
      " [-0.06832049]\n",
      " [-0.14492226]\n",
      " [-0.06832049]\n",
      " [-0.22152402]\n",
      " [-0.29812578]\n",
      " [-0.29812578]\n",
      " [-0.06832049]\n",
      " [-0.37472755]\n",
      " [-0.29812578]\n",
      " [-0.29812578]\n",
      " [-0.37472755]\n",
      " [-0.52793108]\n",
      " [-0.52793108]\n",
      " [-0.52793108]\n",
      " [-0.52793108]\n",
      " [-0.37472755]\n",
      " [-0.22152402]\n",
      " [ 0.08488304]\n",
      " [-0.14492226]\n",
      " [ 0.00828127]\n",
      " [ 0.00828127]\n",
      " [ 0.08488304]\n",
      " [-0.22152402]\n",
      " [-0.29812578]\n",
      " [-0.29812578]\n",
      " [-0.37472755]\n",
      " [-0.29812578]\n",
      " [-0.29812578]\n",
      " [-0.37472755]\n",
      " [-0.45132931]\n",
      " [-0.60453284]\n",
      " [-0.52793108]\n",
      " [-0.6811346 ]\n",
      " [-0.75773637]\n",
      " [-0.75773637]\n",
      " [-0.83433813]\n",
      " [-0.75773637]\n",
      " [-0.45132931]\n",
      " [-0.60453284]\n",
      " [-0.52793108]\n",
      " [-0.52793108]\n",
      " [-0.52793108]\n",
      " [-0.6811346 ]\n",
      " [-0.75773637]\n",
      " [-0.83433813]\n",
      " [-0.91093989]\n",
      " [-1.21734695]\n",
      " [-1.29394871]\n",
      " [-1.21734695]\n",
      " [-1.29394871]\n",
      " [-1.29394871]\n",
      " [-1.29394871]\n",
      " [-1.29394871]\n",
      " [-1.29394871]\n",
      " [-1.21734695]\n",
      " [-1.29394871]\n",
      " [-1.29394871]\n",
      " [-1.21734695]\n",
      " [-1.29394871]\n",
      " [-1.29394871]\n",
      " [-1.29394871]]\n"
     ]
    }
   ],
   "source": [
    "StdS_X_test = StandardScaler()\n",
    "StdS_y_test = StandardScaler()\n",
    "\n",
    "X_l_test = StdS_X_test.fit_transform(x_test)\n",
    "y_p_test = StdS_y_test.fit_transform(y_test.reshape(-1,1))\n",
    "\n",
    "print(\"Scaled X_l_test:\")\n",
    "print(X_l_test)\n",
    "print(\"Scaled y_p_test:\")\n",
    "print(y_p_test)"
   ],
   "metadata": {
    "collapsed": false,
    "pycharm": {
     "name": "#%%\n"
    }
   }
  },
  {
   "cell_type": "code",
   "execution_count": 690,
   "outputs": [
    {
     "name": "stderr",
     "output_type": "stream",
     "text": [
      "C:\\Users\\nikol\\Desktop\\SIAP - projekat\\SIAP_2022\\venv\\lib\\site-packages\\sklearn\\utils\\validation.py:993: DataConversionWarning: A column-vector y was passed when a 1d array was expected. Please change the shape of y to (n_samples, ), for example using ravel().\n",
      "  y = column_or_1d(y, warn=True)\n"
     ]
    },
    {
     "data": {
      "text/plain": "SVR(C=0.032, coef0=0.75, epsilon=2e-05, kernel='sigmoid', tol=0.05)"
     },
     "execution_count": 690,
     "metadata": {},
     "output_type": "execute_result"
    }
   ],
   "source": [
    "from sklearn.svm import SVR\n",
    "svr_sigmoid = SVR(kernel='sigmoid', C = 0.032, epsilon=0.00002, coef0 = 0.75, tol = 0.05)\n",
    "\n",
    "svr_sigmoid.fit(X_l, y_p)"
   ],
   "metadata": {
    "collapsed": false,
    "pycharm": {
     "name": "#%%\n"
    }
   }
  },
  {
   "cell_type": "code",
   "execution_count": 691,
   "outputs": [
    {
     "name": "stdout",
     "output_type": "stream",
     "text": [
      "svr_linear confidence 0.7603442465468717\n"
     ]
    }
   ],
   "source": [
    "svr_linear_confidence = svr_sigmoid.score(X_l_test, y_p_test)\n",
    "print('svr_linear confidence', svr_linear_confidence)"
   ],
   "metadata": {
    "collapsed": false,
    "pycharm": {
     "name": "#%%\n"
    }
   }
  },
  {
   "cell_type": "code",
   "execution_count": 692,
   "outputs": [
    {
     "name": "stdout",
     "output_type": "stream",
     "text": [
      "[-0.5854767  -0.6449434  -0.46556213 -0.51092692 -0.55861463 -0.55632255\n",
      " -0.61172508 -0.24188944  0.98142712  1.04762924  1.08077361  0.97743829\n",
      "  1.11397016  1.23598371  1.27848718  1.16661702  0.64678502  0.77128112\n",
      "  0.81116024  0.61299982  0.83964312  0.90637084  0.89014344  0.85589386\n",
      "  0.8605073   0.85102811  0.89077833  0.89300859  0.84437256  0.88320026\n",
      "  0.86273917  0.81963108  0.7714175   0.70535672  0.73802154  0.75525635\n",
      "  0.62436872  0.56515852  0.50020689  0.40108459  0.54528886  0.42551728\n",
      "  0.35724225  0.19617094  0.35959457  0.76711595  0.50850322  0.4441904\n",
      "  0.41853872  0.25553241  0.00869281 -0.00152305  0.01537228 -0.07677603\n",
      " -0.11611396 -0.17393125 -0.25480691 -0.10554349 -0.14343215 -0.21193363\n",
      " -0.21516994 -0.211521   -0.36922994 -0.3901066  -0.44272433 -0.38186798\n",
      " -0.33428826 -0.10588547  0.00519124  0.07144147 -0.01119209 -0.06393189\n",
      " -0.02361398 -0.12739335 -0.32826598 -0.34304053 -0.28268354 -0.3729391\n",
      " -0.3523706  -0.36017542 -0.39319877 -0.4982973  -0.47713398 -0.46174481\n",
      " -0.55453621 -0.56775121 -0.64313279 -0.65095328 -0.48570001 -0.3881502\n",
      " -0.39671878 -0.50103028 -0.48185649 -0.5942331  -0.6505081  -0.66174643\n",
      " -0.70340855 -0.75986102 -0.81043728 -0.7805857  -0.82993189 -0.87314125\n",
      " -0.87513665 -0.90083603 -0.89068317 -0.8883355  -0.92296682 -0.93201127\n",
      " -0.85396079 -0.85304157 -0.87008763]\n"
     ]
    }
   ],
   "source": [
    "svr_prediction = svr_sigmoid.predict(X_l_test)\n",
    "print(svr_prediction)"
   ],
   "metadata": {
    "collapsed": false,
    "pycharm": {
     "name": "#%%\n"
    }
   }
  },
  {
   "cell_type": "code",
   "execution_count": 693,
   "outputs": [
    {
     "name": "stdout",
     "output_type": "stream",
     "text": [
      "[[3.02487690e-05]\n",
      " [2.94724592e-05]\n",
      " [3.18141972e-05]\n",
      " [3.12219812e-05]\n",
      " [3.05994406e-05]\n",
      " [3.06293626e-05]\n",
      " [2.99061087e-05]\n",
      " [3.47341390e-05]\n",
      " [5.07039614e-05]\n",
      " [5.15681989e-05]\n",
      " [5.20008831e-05]\n",
      " [5.06518890e-05]\n",
      " [5.24342484e-05]\n",
      " [5.40270779e-05]\n",
      " [5.45819408e-05]\n",
      " [5.31215284e-05]\n",
      " [4.63353662e-05]\n",
      " [4.79606042e-05]\n",
      " [4.84812073e-05]\n",
      " [4.58943163e-05]\n",
      " [4.88530379e-05]\n",
      " [4.97241369e-05]\n",
      " [4.95122959e-05]\n",
      " [4.90651837e-05]\n",
      " [4.91254100e-05]\n",
      " [4.90016636e-05]\n",
      " [4.95205840e-05]\n",
      " [4.95496990e-05]\n",
      " [4.89147785e-05]\n",
      " [4.94216559e-05]\n",
      " [4.91545460e-05]\n",
      " [4.85917902e-05]\n",
      " [4.79623845e-05]\n",
      " [4.70999922e-05]\n",
      " [4.75264160e-05]\n",
      " [4.77514084e-05]\n",
      " [4.60427318e-05]\n",
      " [4.52697706e-05]\n",
      " [4.44218576e-05]\n",
      " [4.31278625e-05]\n",
      " [4.50103815e-05]\n",
      " [4.34468199e-05]\n",
      " [4.25555214e-05]\n",
      " [4.04528113e-05]\n",
      " [4.25862299e-05]\n",
      " [4.79062298e-05]\n",
      " [4.45301622e-05]\n",
      " [4.36905887e-05]\n",
      " [4.33557181e-05]\n",
      " [4.12277473e-05]\n",
      " [3.80053724e-05]\n",
      " [3.78720091e-05]\n",
      " [3.80925697e-05]\n",
      " [3.68896170e-05]\n",
      " [3.63760788e-05]\n",
      " [3.56213013e-05]\n",
      " [3.45655076e-05]\n",
      " [3.65140712e-05]\n",
      " [3.60194527e-05]\n",
      " [3.51251980e-05]\n",
      " [3.50829495e-05]\n",
      " [3.51305847e-05]\n",
      " [3.30717687e-05]\n",
      " [3.27992337e-05]\n",
      " [3.21123340e-05]\n",
      " [3.29067850e-05]\n",
      " [3.35279159e-05]\n",
      " [3.65096069e-05]\n",
      " [3.79596611e-05]\n",
      " [3.88245267e-05]\n",
      " [3.77457844e-05]\n",
      " [3.70572912e-05]\n",
      " [3.75836225e-05]\n",
      " [3.62288317e-05]\n",
      " [3.36065339e-05]\n",
      " [3.34136591e-05]\n",
      " [3.42015912e-05]\n",
      " [3.30233474e-05]\n",
      " [3.32918594e-05]\n",
      " [3.31899712e-05]\n",
      " [3.27588669e-05]\n",
      " [3.13868550e-05]\n",
      " [3.16631321e-05]\n",
      " [3.18640306e-05]\n",
      " [3.06526825e-05]\n",
      " [3.04801669e-05]\n",
      " [2.94960958e-05]\n",
      " [2.93940030e-05]\n",
      " [3.15513067e-05]\n",
      " [3.28247736e-05]\n",
      " [3.27129148e-05]\n",
      " [3.13511772e-05]\n",
      " [3.16014821e-05]\n",
      " [3.01344582e-05]\n",
      " [2.93998147e-05]\n",
      " [2.92531035e-05]\n",
      " [2.87092241e-05]\n",
      " [2.79722637e-05]\n",
      " [2.73120144e-05]\n",
      " [2.77017127e-05]\n",
      " [2.70575214e-05]\n",
      " [2.64934435e-05]\n",
      " [2.64673945e-05]\n",
      " [2.61319013e-05]\n",
      " [2.62644420e-05]\n",
      " [2.62950897e-05]\n",
      " [2.58429942e-05]\n",
      " [2.57249231e-05]\n",
      " [2.67438355e-05]\n",
      " [2.67558354e-05]\n",
      " [2.65333071e-05]]\n"
     ]
    }
   ],
   "source": [
    "final_prediction =svr_prediction.reshape(-1,1)\n",
    "final_prediction = StdS_y_test.inverse_transform(final_prediction)\n",
    "print(final_prediction)"
   ],
   "metadata": {
    "collapsed": false,
    "pycharm": {
     "name": "#%%\n"
    }
   }
  },
  {
   "cell_type": "code",
   "execution_count": 694,
   "outputs": [
    {
     "name": "stdout",
     "output_type": "stream",
     "text": [
      "[2.8e-05 2.9e-05 2.8e-05 2.9e-05 2.7e-05 2.8e-05 3.4e-05 3.6e-05 4.2e-05\n",
      " 4.8e-05 8.0e-05 6.8e-05 7.5e-05 6.5e-05 6.7e-05 7.2e-05 6.9e-05 5.5e-05\n",
      " 4.9e-05 6.2e-05 5.9e-05 5.7e-05 5.5e-05 5.5e-05 5.0e-05 5.7e-05 5.2e-05\n",
      " 5.2e-05 5.3e-05 5.3e-05 4.8e-05 4.8e-05 4.2e-05 4.9e-05 4.8e-05 4.4e-05\n",
      " 4.3e-05 4.2e-05 4.0e-05 4.0e-05 3.8e-05 3.9e-05 3.9e-05 4.6e-05 4.7e-05\n",
      " 4.4e-05 4.2e-05 4.0e-05 3.7e-05 3.6e-05 3.7e-05 3.6e-05 3.7e-05 3.5e-05\n",
      " 3.4e-05 3.4e-05 3.7e-05 3.3e-05 3.4e-05 3.4e-05 3.3e-05 3.1e-05 3.1e-05\n",
      " 3.1e-05 3.1e-05 3.3e-05 3.5e-05 3.9e-05 3.6e-05 3.8e-05 3.8e-05 3.9e-05\n",
      " 3.5e-05 3.4e-05 3.4e-05 3.3e-05 3.4e-05 3.4e-05 3.3e-05 3.2e-05 3.0e-05\n",
      " 3.1e-05 2.9e-05 2.8e-05 2.8e-05 2.7e-05 2.8e-05 3.2e-05 3.0e-05 3.1e-05\n",
      " 3.1e-05 3.1e-05 2.9e-05 2.8e-05 2.7e-05 2.6e-05 2.2e-05 2.1e-05 2.2e-05\n",
      " 2.1e-05 2.1e-05 2.1e-05 2.1e-05 2.1e-05 2.2e-05 2.1e-05 2.1e-05 2.2e-05\n",
      " 2.1e-05 2.1e-05 2.1e-05]\n"
     ]
    }
   ],
   "source": [
    "print(y_test)"
   ],
   "metadata": {
    "collapsed": false,
    "pycharm": {
     "name": "#%%\n"
    }
   }
  },
  {
   "cell_type": "code",
   "execution_count": 695,
   "outputs": [
    {
     "name": "stdout",
     "output_type": "stream",
     "text": [
      "111\n",
      "111\n"
     ]
    }
   ],
   "source": [
    "print(len(final_prediction))\n",
    "print(len(y_test))"
   ],
   "metadata": {
    "collapsed": false,
    "pycharm": {
     "name": "#%%\n"
    }
   }
  },
  {
   "cell_type": "code",
   "execution_count": 696,
   "outputs": [
    {
     "data": {
      "text/plain": "<Figure size 1224x360 with 1 Axes>",
      "image/png": "[encoded data removed]"
     },
     "metadata": {},
     "output_type": "display_data"
    }
   ],
   "source": [
    "plt.figure(figsize=(17,5))\n",
    "plt.plot(final_prediction, label='Prediction', lw=2, alpha =.7, color = \"green\")\n",
    "plt.plot(y_test, label='Actual', lw=2, alpha =.7, color = \"red\")\n",
    "plt.legend(['predicted', \"actual\"])\n",
    "plt.title('Prediction vs Actual')\n",
    "plt.ylabel('Price in USD')\n",
    "plt.xlabel('Time')\n",
    "\n",
    "plt.show()"
   ],
   "metadata": {
    "collapsed": false,
    "pycharm": {
     "name": "#%%\n"
    }
   }
  },
  {
   "cell_type": "code",
   "execution_count": 697,
   "outputs": [
    {
     "name": "stdout",
     "output_type": "stream",
     "text": [
      "R^2\n",
      "0.7603442465468717\n",
      "\n",
      "MAE\n",
      "4.324567009784188e-06\n",
      "\n",
      "RMSE\n",
      "6.390799016058093e-06\n"
     ]
    }
   ],
   "source": [
    "from math import sqrt\n",
    "from sklearn.metrics import mean_absolute_error, mean_squared_error\n",
    "\n",
    "\n",
    "print(\"R^2\")\n",
    "print(svr_linear_confidence)\n",
    "\n",
    "print(\"\\nMAE\")\n",
    "print(mean_absolute_error(y_test,final_prediction))\n",
    "\n",
    "print(\"\\nRMSE\")\n",
    "print(sqrt(mean_squared_error(y_test, final_prediction)))"
   ],
   "metadata": {
    "collapsed": false,
    "pycharm": {
     "name": "#%%\n"
    }
   }
  }
 ],
 "metadata": {
  "kernelspec": {
   "display_name": "Python 3",
   "language": "python",
   "name": "python3"
  },
  "language_info": {
   "codemirror_mode": {
    "name": "ipython",
    "version": 2
   },
   "file_extension": ".py",
   "mimetype": "text/x-python",
   "name": "python",
   "nbconvert_exporter": "python",
   "pygments_lexer": "ipython2",
   "version": "2.7.6"
  }
 },
 "nbformat": 4,
 "nbformat_minor": 0
}